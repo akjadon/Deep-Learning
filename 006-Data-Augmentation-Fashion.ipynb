{
 "cells": [
  {
   "cell_type": "markdown",
   "metadata": {
    "colab_type": "text",
    "id": "VTEGN4bfZheT"
   },
   "source": [
    "# Data Augementation - Fashion MNIST"
   ]
  },
  {
   "cell_type": "code",
   "execution_count": 1,
   "metadata": {
    "colab": {
     "autoexec": {
      "startup": false,
      "wait_interval": 0
     },
     "base_uri": "https://localhost:8080/",
     "height": 34,
     "output_extras": [
      {
       "item_id": 1
      }
     ]
    },
    "colab_type": "code",
    "executionInfo": {
     "elapsed": 2572,
     "status": "ok",
     "timestamp": 1521300228267,
     "user": {
      "displayName": "Amit Kapoor",
      "photoUrl": "//lh4.googleusercontent.com/-D2AEUHCgcx8/AAAAAAAAAAI/AAAAAAAAAoY/0HFe1PWxMvQ/s50-c-k-no/photo.jpg",
      "userId": "115841624057400778059"
     },
     "user_tz": -330
    },
    "id": "JGQqwCPRZheX",
    "outputId": "5946c5b4-c22b-4cd0-c30a-1377e3d0140d"
   },
   "outputs": [
    {
     "name": "stderr",
     "output_type": "stream",
     "text": [
      "Using TensorFlow backend.\n"
     ]
    }
   ],
   "source": [
    "import numpy as np\n",
    "import keras\n",
    "import tensorflow as tf\n",
    "import matplotlib.pyplot as plt\n",
    "% matplotlib inline\n",
    "import vis\n",
    "import pandas as pd"
   ]
  },
  {
   "cell_type": "markdown",
   "metadata": {},
   "source": [
    "## Get Data "
   ]
  },
  {
   "cell_type": "code",
   "execution_count": 2,
   "metadata": {},
   "outputs": [
    {
     "name": "stdout",
     "output_type": "stream",
     "text": [
      "Downloading data from http://fashion-mnist.s3-website.eu-central-1.amazonaws.com/train-labels-idx1-ubyte.gz\n",
      "32768/29515 [=================================] - 0s 2us/step\n",
      "Downloading data from http://fashion-mnist.s3-website.eu-central-1.amazonaws.com/train-images-idx3-ubyte.gz\n",
      "26427392/26421880 [==============================] - 5s 0us/step\n",
      "Downloading data from http://fashion-mnist.s3-website.eu-central-1.amazonaws.com/t10k-labels-idx1-ubyte.gz\n",
      "8192/5148 [===============================================] - 0s 0us/step\n",
      "Downloading data from http://fashion-mnist.s3-website.eu-central-1.amazonaws.com/t10k-images-idx3-ubyte.gz\n",
      "4423680/4422102 [==============================] - 6s 1us/step\n"
     ]
    }
   ],
   "source": [
    "from keras.datasets import fashion_mnist\n",
    "(x_train, y_train), (x_test, y_test) = fashion_mnist.load_data()"
   ]
  },
  {
   "cell_type": "code",
   "execution_count": 3,
   "metadata": {},
   "outputs": [],
   "source": [
    "labels = vis.fashion_mnist_label()"
   ]
  },
  {
   "cell_type": "markdown",
   "metadata": {},
   "source": [
    "**Step 1: Prepare the images and labels**"
   ]
  },
  {
   "cell_type": "code",
   "execution_count": 4,
   "metadata": {
    "colab": {
     "autoexec": {
      "startup": false,
      "wait_interval": 0
     }
    },
    "colab_type": "code",
    "id": "h9TfoY-OZhel"
   },
   "outputs": [],
   "source": [
    "# Reshape data for convlution network\n",
    "x_train_conv = x_train.reshape(x_train.shape[0], 28, 28, 1)\n",
    "x_test_conv = x_test.reshape(x_test.shape[0], 28, 28, 1)\n",
    "input_shape = (28, 28, 1)\n",
    "\n",
    "# Convert from 'uint8' to 'float32' and normalise the data to (0,1) \n",
    "x_train_conv =  x_train_conv.astype(\"float32\") / 255\n",
    "x_test_conv = x_test_conv.astype(\"float32\") / 255\n",
    "\n",
    "# convert class vectors to binary class matrices\n",
    "y_train_class = keras.utils.to_categorical(y_train, 10)\n",
    "y_test_class = keras.utils.to_categorical(y_test, 10)"
   ]
  },
  {
   "cell_type": "markdown",
   "metadata": {},
   "source": [
    "## Data Augmentation"
   ]
  },
  {
   "cell_type": "code",
   "execution_count": 5,
   "metadata": {},
   "outputs": [],
   "source": [
    "from keras.preprocessing.image import ImageDataGenerator"
   ]
  },
  {
   "cell_type": "code",
   "execution_count": 6,
   "metadata": {},
   "outputs": [],
   "source": [
    "# this will do preprocessing and realtime data augmentation\n",
    "datagen = ImageDataGenerator(\n",
    "    featurewise_center=False,  # set input mean to 0 over the dataset\n",
    "    samplewise_center=False,  # set each sample mean to 0\n",
    "    featurewise_std_normalization=False,  # divide inputs by std of the dataset\n",
    "    samplewise_std_normalization=False,  # divide each input by its std\n",
    "    rotation_range=25,  # randomly rotate images in the range (degrees, 0 to 180)\n",
    "    width_shift_range=0.1,  # randomly shift images horizontally (fraction of total width)\n",
    "    height_shift_range=0.1,  # randomly shift images vertically (fraction of total height)\n",
    "    horizontal_flip=False,  # randomly flip images\n",
    "    vertical_flip=False)  # randomly flip images"
   ]
  },
  {
   "cell_type": "code",
   "execution_count": 7,
   "metadata": {},
   "outputs": [],
   "source": [
    "# Set up the generator\n",
    "datagen.fit(x_train_conv)"
   ]
  },
  {
   "cell_type": "markdown",
   "metadata": {},
   "source": [
    "Let us see the image augmentation"
   ]
  },
  {
   "cell_type": "code",
   "execution_count": 12,
   "metadata": {},
   "outputs": [
    {
     "data": {
      "text/plain": [
       "(1, 28, 28, 1)"
      ]
     },
     "execution_count": 12,
     "metadata": {},
     "output_type": "execute_result"
    }
   ],
   "source": [
    "x_train_conv[:1].shape"
   ]
  },
  {
   "cell_type": "code",
   "execution_count": 8,
   "metadata": {},
   "outputs": [],
   "source": [
    "datagen.fit(x_train_conv[:1])"
   ]
  },
  {
   "cell_type": "code",
   "execution_count": 9,
   "metadata": {},
   "outputs": [],
   "source": [
    "samples = datagen.flow(x_train_conv[:1])"
   ]
  },
  {
   "cell_type": "code",
   "execution_count": 10,
   "metadata": {},
   "outputs": [
    {
     "data": {
      "application/vnd.vegalite.v2+json": {
       "$schema": "https://vega.github.io/schema/vega-lite/v2.4.3.json",
       "config": {
        "view": {
         "height": 300,
         "width": 400
        }
       },
       "data": {
        "values": [
         {
          "h": 0,
          "value": 0,
          "w": 0
         },
         {
          "h": 1,
          "value": 0,
          "w": 0
         },
         {
          "h": 2,
          "value": 0,
          "w": 0
         },
         {
          "h": 3,
          "value": 0,
          "w": 0
         },
         {
          "h": 4,
          "value": 0,
          "w": 0
         },
         {
          "h": 5,
          "value": 0,
          "w": 0
         },
         {
          "h": 6,
          "value": 0,
          "w": 0
         },
         {
          "h": 7,
          "value": 0,
          "w": 0
         },
         {
          "h": 8,
          "value": 0,
          "w": 0
         },
         {
          "h": 9,
          "value": 0,
          "w": 0
         },
         {
          "h": 10,
          "value": 0,
          "w": 0
         },
         {
          "h": 11,
          "value": 0,
          "w": 0
         },
         {
          "h": 12,
          "value": 0,
          "w": 0
         },
         {
          "h": 13,
          "value": 0,
          "w": 0
         },
         {
          "h": 14,
          "value": 0,
          "w": 0
         },
         {
          "h": 15,
          "value": 0,
          "w": 0
         },
         {
          "h": 16,
          "value": 0,
          "w": 0
         },
         {
          "h": 17,
          "value": 0,
          "w": 0
         },
         {
          "h": 18,
          "value": 0.0117647061124444,
          "w": 0
         },
         {
          "h": 19,
          "value": 0.3843137323856354,
          "w": 0
         },
         {
          "h": 20,
          "value": 0.29411765933036804,
          "w": 0
         },
         {
          "h": 21,
          "value": 0.1882352977991104,
          "w": 0
         },
         {
          "h": 22,
          "value": 0,
          "w": 0
         },
         {
          "h": 23,
          "value": 0,
          "w": 0
         },
         {
          "h": 24,
          "value": 0.007843137718737125,
          "w": 0
         },
         {
          "h": 25,
          "value": 0,
          "w": 0
         },
         {
          "h": 26,
          "value": 0,
          "w": 0
         },
         {
          "h": 27,
          "value": 0,
          "w": 0
         },
         {
          "h": 0,
          "value": 0,
          "w": 1
         },
         {
          "h": 1,
          "value": 0,
          "w": 1
         },
         {
          "h": 2,
          "value": 0,
          "w": 1
         },
         {
          "h": 3,
          "value": 0,
          "w": 1
         },
         {
          "h": 4,
          "value": 0,
          "w": 1
         },
         {
          "h": 5,
          "value": 0,
          "w": 1
         },
         {
          "h": 6,
          "value": 0,
          "w": 1
         },
         {
          "h": 7,
          "value": 0,
          "w": 1
         },
         {
          "h": 8,
          "value": 0,
          "w": 1
         },
         {
          "h": 9,
          "value": 0,
          "w": 1
         },
         {
          "h": 10,
          "value": 0,
          "w": 1
         },
         {
          "h": 11,
          "value": 0,
          "w": 1
         },
         {
          "h": 12,
          "value": 0,
          "w": 1
         },
         {
          "h": 13,
          "value": 0,
          "w": 1
         },
         {
          "h": 14,
          "value": 0,
          "w": 1
         },
         {
          "h": 15,
          "value": 0.0117647061124444,
          "w": 1
         },
         {
          "h": 16,
          "value": 0,
          "w": 1
         },
         {
          "h": 17,
          "value": 0.2235294133424759,
          "w": 1
         },
         {
          "h": 18,
          "value": 0.7921568751335144,
          "w": 1
         },
         {
          "h": 19,
          "value": 0.9137254953384399,
          "w": 1
         },
         {
          "h": 20,
          "value": 0.800000011920929,
          "w": 1
         },
         {
          "h": 21,
          "value": 0.7960784435272217,
          "w": 1
         },
         {
          "h": 22,
          "value": 0.47843137383461,
          "w": 1
         },
         {
          "h": 23,
          "value": 0,
          "w": 1
         },
         {
          "h": 24,
          "value": 0,
          "w": 1
         },
         {
          "h": 25,
          "value": 0,
          "w": 1
         },
         {
          "h": 26,
          "value": 0,
          "w": 1
         },
         {
          "h": 27,
          "value": 0,
          "w": 1
         },
         {
          "h": 0,
          "value": 0,
          "w": 2
         },
         {
          "h": 1,
          "value": 0,
          "w": 2
         },
         {
          "h": 2,
          "value": 0,
          "w": 2
         },
         {
          "h": 3,
          "value": 0,
          "w": 2
         },
         {
          "h": 4,
          "value": 0,
          "w": 2
         },
         {
          "h": 5,
          "value": 0,
          "w": 2
         },
         {
          "h": 6,
          "value": 0,
          "w": 2
         },
         {
          "h": 7,
          "value": 0,
          "w": 2
         },
         {
          "h": 8,
          "value": 0,
          "w": 2
         },
         {
          "h": 9,
          "value": 0,
          "w": 2
         },
         {
          "h": 10,
          "value": 0,
          "w": 2
         },
         {
          "h": 11,
          "value": 0,
          "w": 2
         },
         {
          "h": 12,
          "value": 0,
          "w": 2
         },
         {
          "h": 13,
          "value": 0,
          "w": 2
         },
         {
          "h": 14,
          "value": 0.003921568859368563,
          "w": 2
         },
         {
          "h": 15,
          "value": 0,
          "w": 2
         },
         {
          "h": 16,
          "value": 0,
          "w": 2
         },
         {
          "h": 17,
          "value": 0.7333333492279053,
          "w": 2
         },
         {
          "h": 18,
          "value": 0.8941176533699036,
          "w": 2
         },
         {
          "h": 19,
          "value": 0.7764706015586853,
          "w": 2
         },
         {
          "h": 20,
          "value": 0.8313725590705872,
          "w": 2
         },
         {
          "h": 21,
          "value": 0.7176470756530762,
          "w": 2
         },
         {
          "h": 22,
          "value": 0.8588235378265381,
          "w": 2
         },
         {
          "h": 23,
          "value": 0.29019609093666077,
          "w": 2
         },
         {
          "h": 24,
          "value": 0,
          "w": 2
         },
         {
          "h": 25,
          "value": 0,
          "w": 2
         },
         {
          "h": 26,
          "value": 0,
          "w": 2
         },
         {
          "h": 27,
          "value": 0,
          "w": 2
         },
         {
          "h": 0,
          "value": 0,
          "w": 3
         },
         {
          "h": 1,
          "value": 0,
          "w": 3
         },
         {
          "h": 2,
          "value": 0,
          "w": 3
         },
         {
          "h": 3,
          "value": 0,
          "w": 3
         },
         {
          "h": 4,
          "value": 0,
          "w": 3
         },
         {
          "h": 5,
          "value": 0,
          "w": 3
         },
         {
          "h": 6,
          "value": 0,
          "w": 3
         },
         {
          "h": 7,
          "value": 0,
          "w": 3
         },
         {
          "h": 8,
          "value": 0,
          "w": 3
         },
         {
          "h": 9,
          "value": 0,
          "w": 3
         },
         {
          "h": 10,
          "value": 0,
          "w": 3
         },
         {
          "h": 11,
          "value": 0,
          "w": 3
         },
         {
          "h": 12,
          "value": 0,
          "w": 3
         },
         {
          "h": 13,
          "value": 0,
          "w": 3
         },
         {
          "h": 14,
          "value": 0.01568627543747425,
          "w": 3
         },
         {
          "h": 15,
          "value": 0,
          "w": 3
         },
         {
          "h": 16,
          "value": 0,
          "w": 3
         },
         {
          "h": 17,
          "value": 0.8156862854957581,
          "w": 3
         },
         {
          "h": 18,
          "value": 0.8784313797950745,
          "w": 3
         },
         {
          "h": 19,
          "value": 0.8235294222831726,
          "w": 3
         },
         {
          "h": 20,
          "value": 0.800000011920929,
          "w": 3
         },
         {
          "h": 21,
          "value": 0.7607843279838562,
          "w": 3
         },
         {
          "h": 22,
          "value": 0.7568627595901489,
          "w": 3
         },
         {
          "h": 23,
          "value": 0.7411764860153198,
          "w": 3
         },
         {
          "h": 24,
          "value": 0,
          "w": 3
         },
         {
          "h": 25,
          "value": 0,
          "w": 3
         },
         {
          "h": 26,
          "value": 0,
          "w": 3
         },
         {
          "h": 27,
          "value": 0,
          "w": 3
         },
         {
          "h": 0,
          "value": 0,
          "w": 4
         },
         {
          "h": 1,
          "value": 0,
          "w": 4
         },
         {
          "h": 2,
          "value": 0,
          "w": 4
         },
         {
          "h": 3,
          "value": 0,
          "w": 4
         },
         {
          "h": 4,
          "value": 0,
          "w": 4
         },
         {
          "h": 5,
          "value": 0,
          "w": 4
         },
         {
          "h": 6,
          "value": 0,
          "w": 4
         },
         {
          "h": 7,
          "value": 0,
          "w": 4
         },
         {
          "h": 8,
          "value": 0,
          "w": 4
         },
         {
          "h": 9,
          "value": 0,
          "w": 4
         },
         {
          "h": 10,
          "value": 0,
          "w": 4
         },
         {
          "h": 11,
          "value": 0,
          "w": 4
         },
         {
          "h": 12,
          "value": 0,
          "w": 4
         },
         {
          "h": 13,
          "value": 0,
          "w": 4
         },
         {
          "h": 14,
          "value": 0.0235294122248888,
          "w": 4
         },
         {
          "h": 15,
          "value": 0,
          "w": 4
         },
         {
          "h": 16,
          "value": 0.07058823853731155,
          "w": 4
         },
         {
          "h": 17,
          "value": 0.8784313797950745,
          "w": 4
         },
         {
          "h": 18,
          "value": 0.8666666746139526,
          "w": 4
         },
         {
          "h": 19,
          "value": 0.8705882430076599,
          "w": 4
         },
         {
          "h": 20,
          "value": 0.7568627595901489,
          "w": 4
         },
         {
          "h": 21,
          "value": 0.8352941274642944,
          "w": 4
         },
         {
          "h": 22,
          "value": 0.7019608020782471,
          "w": 4
         },
         {
          "h": 23,
          "value": 0.8313725590705872,
          "w": 4
         },
         {
          "h": 24,
          "value": 0.25882354378700256,
          "w": 4
         },
         {
          "h": 25,
          "value": 0,
          "w": 4
         },
         {
          "h": 26,
          "value": 0,
          "w": 4
         },
         {
          "h": 27,
          "value": 0,
          "w": 4
         },
         {
          "h": 0,
          "value": 0,
          "w": 5
         },
         {
          "h": 1,
          "value": 0,
          "w": 5
         },
         {
          "h": 2,
          "value": 0,
          "w": 5
         },
         {
          "h": 3,
          "value": 0,
          "w": 5
         },
         {
          "h": 4,
          "value": 0,
          "w": 5
         },
         {
          "h": 5,
          "value": 0,
          "w": 5
         },
         {
          "h": 6,
          "value": 0,
          "w": 5
         },
         {
          "h": 7,
          "value": 0,
          "w": 5
         },
         {
          "h": 8,
          "value": 0,
          "w": 5
         },
         {
          "h": 9,
          "value": 0,
          "w": 5
         },
         {
          "h": 10,
          "value": 0,
          "w": 5
         },
         {
          "h": 11,
          "value": 0,
          "w": 5
         },
         {
          "h": 12,
          "value": 0,
          "w": 5
         },
         {
          "h": 13,
          "value": 0,
          "w": 5
         },
         {
          "h": 14,
          "value": 0.027450980618596077,
          "w": 5
         },
         {
          "h": 15,
          "value": 0,
          "w": 5
         },
         {
          "h": 16,
          "value": 0.1725490242242813,
          "w": 5
         },
         {
          "h": 17,
          "value": 0.8666666746139526,
          "w": 5
         },
         {
          "h": 18,
          "value": 0.8274509906768799,
          "w": 5
         },
         {
          "h": 19,
          "value": 0.8980392217636108,
          "w": 5
         },
         {
          "h": 20,
          "value": 0.8039215803146362,
          "w": 5
         },
         {
          "h": 21,
          "value": 0.772549033164978,
          "w": 5
         },
         {
          "h": 22,
          "value": 0.6705882549285889,
          "w": 5
         },
         {
          "h": 23,
          "value": 0.7490196228027344,
          "w": 5
         },
         {
          "h": 24,
          "value": 0.7843137383460999,
          "w": 5
         },
         {
          "h": 25,
          "value": 0,
          "w": 5
         },
         {
          "h": 26,
          "value": 0,
          "w": 5
         },
         {
          "h": 27,
          "value": 0,
          "w": 5
         },
         {
          "h": 0,
          "value": 0,
          "w": 6
         },
         {
          "h": 1,
          "value": 0,
          "w": 6
         },
         {
          "h": 2,
          "value": 0,
          "w": 6
         },
         {
          "h": 3,
          "value": 0,
          "w": 6
         },
         {
          "h": 4,
          "value": 0,
          "w": 6
         },
         {
          "h": 5,
          "value": 0,
          "w": 6
         },
         {
          "h": 6,
          "value": 0,
          "w": 6
         },
         {
          "h": 7,
          "value": 0,
          "w": 6
         },
         {
          "h": 8,
          "value": 0,
          "w": 6
         },
         {
          "h": 9,
          "value": 0,
          "w": 6
         },
         {
          "h": 10,
          "value": 0,
          "w": 6
         },
         {
          "h": 11,
          "value": 0,
          "w": 6
         },
         {
          "h": 12,
          "value": 0,
          "w": 6
         },
         {
          "h": 13,
          "value": 0,
          "w": 6
         },
         {
          "h": 14,
          "value": 0.007843137718737125,
          "w": 6
         },
         {
          "h": 15,
          "value": 0,
          "w": 6
         },
         {
          "h": 16,
          "value": 0.32156863808631897,
          "w": 6
         },
         {
          "h": 17,
          "value": 0.8784313797950745,
          "w": 6
         },
         {
          "h": 18,
          "value": 0.8274509906768799,
          "w": 6
         },
         {
          "h": 19,
          "value": 0.8980392217636108,
          "w": 6
         },
         {
          "h": 20,
          "value": 0.8274509906768799,
          "w": 6
         },
         {
          "h": 21,
          "value": 0.7254902124404907,
          "w": 6
         },
         {
          "h": 22,
          "value": 0.7176470756530762,
          "w": 6
         },
         {
          "h": 23,
          "value": 0.686274528503418,
          "w": 6
         },
         {
          "h": 24,
          "value": 0.8705882430076599,
          "w": 6
         },
         {
          "h": 25,
          "value": 0,
          "w": 6
         },
         {
          "h": 26,
          "value": 0,
          "w": 6
         },
         {
          "h": 27,
          "value": 0,
          "w": 6
         },
         {
          "h": 0,
          "value": 0,
          "w": 7
         },
         {
          "h": 1,
          "value": 0,
          "w": 7
         },
         {
          "h": 2,
          "value": 0,
          "w": 7
         },
         {
          "h": 3,
          "value": 0,
          "w": 7
         },
         {
          "h": 4,
          "value": 0,
          "w": 7
         },
         {
          "h": 5,
          "value": 0,
          "w": 7
         },
         {
          "h": 6,
          "value": 0,
          "w": 7
         },
         {
          "h": 7,
          "value": 0,
          "w": 7
         },
         {
          "h": 8,
          "value": 0,
          "w": 7
         },
         {
          "h": 9,
          "value": 0,
          "w": 7
         },
         {
          "h": 10,
          "value": 0,
          "w": 7
         },
         {
          "h": 11,
          "value": 0,
          "w": 7
         },
         {
          "h": 12,
          "value": 0,
          "w": 7
         },
         {
          "h": 13,
          "value": 0,
          "w": 7
         },
         {
          "h": 14,
          "value": 0,
          "w": 7
         },
         {
          "h": 15,
          "value": 0,
          "w": 7
         },
         {
          "h": 16,
          "value": 0.41960784792900085,
          "w": 7
         },
         {
          "h": 17,
          "value": 0.8156862854957581,
          "w": 7
         },
         {
          "h": 18,
          "value": 0.8392156958580017,
          "w": 7
         },
         {
          "h": 19,
          "value": 0.9176470637321472,
          "w": 7
         },
         {
          "h": 20,
          "value": 0.8823529481887817,
          "w": 7
         },
         {
          "h": 21,
          "value": 0.7450980544090271,
          "w": 7
         },
         {
          "h": 22,
          "value": 0.7686274647712708,
          "w": 7
         },
         {
          "h": 23,
          "value": 0.6745098233222961,
          "w": 7
         },
         {
          "h": 24,
          "value": 0.929411768913269,
          "w": 7
         },
         {
          "h": 25,
          "value": 0.1568627506494522,
          "w": 7
         },
         {
          "h": 26,
          "value": 0,
          "w": 7
         },
         {
          "h": 27,
          "value": 0,
          "w": 7
         },
         {
          "h": 0,
          "value": 0,
          "w": 8
         },
         {
          "h": 1,
          "value": 0,
          "w": 8
         },
         {
          "h": 2,
          "value": 0,
          "w": 8
         },
         {
          "h": 3,
          "value": 0,
          "w": 8
         },
         {
          "h": 4,
          "value": 0,
          "w": 8
         },
         {
          "h": 5,
          "value": 0,
          "w": 8
         },
         {
          "h": 6,
          "value": 0,
          "w": 8
         },
         {
          "h": 7,
          "value": 0,
          "w": 8
         },
         {
          "h": 8,
          "value": 0,
          "w": 8
         },
         {
          "h": 9,
          "value": 0,
          "w": 8
         },
         {
          "h": 10,
          "value": 0,
          "w": 8
         },
         {
          "h": 11,
          "value": 0,
          "w": 8
         },
         {
          "h": 12,
          "value": 0,
          "w": 8
         },
         {
          "h": 13,
          "value": 0,
          "w": 8
         },
         {
          "h": 14,
          "value": 0,
          "w": 8
         },
         {
          "h": 15,
          "value": 0,
          "w": 8
         },
         {
          "h": 16,
          "value": 0.7411764860153198,
          "w": 8
         },
         {
          "h": 17,
          "value": 0.800000011920929,
          "w": 8
         },
         {
          "h": 18,
          "value": 0.8039215803146362,
          "w": 8
         },
         {
          "h": 19,
          "value": 0.9764705896377563,
          "w": 8
         },
         {
          "h": 20,
          "value": 0.8470588326454163,
          "w": 8
         },
         {
          "h": 21,
          "value": 0.7607843279838562,
          "w": 8
         },
         {
          "h": 22,
          "value": 0.800000011920929,
          "w": 8
         },
         {
          "h": 23,
          "value": 0.686274528503418,
          "w": 8
         },
         {
          "h": 24,
          "value": 0.9372549057006836,
          "w": 8
         },
         {
          "h": 25,
          "value": 0.239215686917305,
          "w": 8
         },
         {
          "h": 26,
          "value": 0,
          "w": 8
         },
         {
          "h": 27,
          "value": 0,
          "w": 8
         },
         {
          "h": 0,
          "value": 0,
          "w": 9
         },
         {
          "h": 1,
          "value": 0,
          "w": 9
         },
         {
          "h": 2,
          "value": 0,
          "w": 9
         },
         {
          "h": 3,
          "value": 0,
          "w": 9
         },
         {
          "h": 4,
          "value": 0,
          "w": 9
         },
         {
          "h": 5,
          "value": 0,
          "w": 9
         },
         {
          "h": 6,
          "value": 0,
          "w": 9
         },
         {
          "h": 7,
          "value": 0,
          "w": 9
         },
         {
          "h": 8,
          "value": 0.003921568859368563,
          "w": 9
         },
         {
          "h": 9,
          "value": 0,
          "w": 9
         },
         {
          "h": 10,
          "value": 0,
          "w": 9
         },
         {
          "h": 11,
          "value": 0.003921568859368563,
          "w": 9
         },
         {
          "h": 12,
          "value": 0,
          "w": 9
         },
         {
          "h": 13,
          "value": 0.01568627543747425,
          "w": 9
         },
         {
          "h": 14,
          "value": 0,
          "w": 9
         },
         {
          "h": 15,
          "value": 0.24313725531101227,
          "w": 9
         },
         {
          "h": 16,
          "value": 0.8941176533699036,
          "w": 9
         },
         {
          "h": 17,
          "value": 0.8392156958580017,
          "w": 9
         },
         {
          "h": 18,
          "value": 0.8039215803146362,
          "w": 9
         },
         {
          "h": 19,
          "value": 0.8627451062202454,
          "w": 9
         },
         {
          "h": 20,
          "value": 0.7254902124404907,
          "w": 9
         },
         {
          "h": 21,
          "value": 0.7529411911964417,
          "w": 9
         },
         {
          "h": 22,
          "value": 0.8235294222831726,
          "w": 9
         },
         {
          "h": 23,
          "value": 0.7098039388656616,
          "w": 9
         },
         {
          "h": 24,
          "value": 0.9490196108818054,
          "w": 9
         },
         {
          "h": 25,
          "value": 0.1725490242242813,
          "w": 9
         },
         {
          "h": 26,
          "value": 0,
          "w": 9
         },
         {
          "h": 27,
          "value": 0,
          "w": 9
         },
         {
          "h": 0,
          "value": 0,
          "w": 10
         },
         {
          "h": 1,
          "value": 0,
          "w": 10
         },
         {
          "h": 2,
          "value": 0,
          "w": 10
         },
         {
          "h": 3,
          "value": 0,
          "w": 10
         },
         {
          "h": 4,
          "value": 0,
          "w": 10
         },
         {
          "h": 5,
          "value": 0,
          "w": 10
         },
         {
          "h": 6,
          "value": 0,
          "w": 10
         },
         {
          "h": 7,
          "value": 0,
          "w": 10
         },
         {
          "h": 8,
          "value": 0.003921568859368563,
          "w": 10
         },
         {
          "h": 9,
          "value": 0,
          "w": 10
         },
         {
          "h": 10,
          "value": 0,
          "w": 10
         },
         {
          "h": 11,
          "value": 0.0117647061124444,
          "w": 10
         },
         {
          "h": 12,
          "value": 0.0235294122248888,
          "w": 10
         },
         {
          "h": 13,
          "value": 0,
          "w": 10
         },
         {
          "h": 14,
          "value": 0,
          "w": 10
         },
         {
          "h": 15,
          "value": 0.5686274766921997,
          "w": 10
         },
         {
          "h": 16,
          "value": 0.8627451062202454,
          "w": 10
         },
         {
          "h": 17,
          "value": 0.8156862854957581,
          "w": 10
         },
         {
          "h": 18,
          "value": 0.8039215803146362,
          "w": 10
         },
         {
          "h": 19,
          "value": 0.7607843279838562,
          "w": 10
         },
         {
          "h": 20,
          "value": 0.772549033164978,
          "w": 10
         },
         {
          "h": 21,
          "value": 0.7921568751335144,
          "w": 10
         },
         {
          "h": 22,
          "value": 0.8352941274642944,
          "w": 10
         },
         {
          "h": 23,
          "value": 0.7254902124404907,
          "w": 10
         },
         {
          "h": 24,
          "value": 0.9647058844566345,
          "w": 10
         },
         {
          "h": 25,
          "value": 0.2823529541492462,
          "w": 10
         },
         {
          "h": 26,
          "value": 0,
          "w": 10
         },
         {
          "h": 27,
          "value": 0,
          "w": 10
         },
         {
          "h": 0,
          "value": 0,
          "w": 11
         },
         {
          "h": 1,
          "value": 0,
          "w": 11
         },
         {
          "h": 2,
          "value": 0,
          "w": 11
         },
         {
          "h": 3,
          "value": 0,
          "w": 11
         },
         {
          "h": 4,
          "value": 0,
          "w": 11
         },
         {
          "h": 5,
          "value": 0,
          "w": 11
         },
         {
          "h": 6,
          "value": 0,
          "w": 11
         },
         {
          "h": 7,
          "value": 0.003921568859368563,
          "w": 11
         },
         {
          "h": 8,
          "value": 0.003921568859368563,
          "w": 11
         },
         {
          "h": 9,
          "value": 0,
          "w": 11
         },
         {
          "h": 10,
          "value": 0,
          "w": 11
         },
         {
          "h": 11,
          "value": 0,
          "w": 11
         },
         {
          "h": 12,
          "value": 0,
          "w": 11
         },
         {
          "h": 13,
          "value": 0,
          "w": 11
         },
         {
          "h": 14,
          "value": 0,
          "w": 11
         },
         {
          "h": 15,
          "value": 0.800000011920929,
          "w": 11
         },
         {
          "h": 16,
          "value": 0.8705882430076599,
          "w": 11
         },
         {
          "h": 17,
          "value": 0.8196078538894653,
          "w": 11
         },
         {
          "h": 18,
          "value": 0.8627451062202454,
          "w": 11
         },
         {
          "h": 19,
          "value": 0.843137264251709,
          "w": 11
         },
         {
          "h": 20,
          "value": 0.8078431487083435,
          "w": 11
         },
         {
          "h": 21,
          "value": 0.8392156958580017,
          "w": 11
         },
         {
          "h": 22,
          "value": 0.8117647171020508,
          "w": 11
         },
         {
          "h": 23,
          "value": 0.7372549176216125,
          "w": 11
         },
         {
          "h": 24,
          "value": 0.9529411792755127,
          "w": 11
         },
         {
          "h": 25,
          "value": 0.16078431904315948,
          "w": 11
         },
         {
          "h": 26,
          "value": 0,
          "w": 11
         },
         {
          "h": 27,
          "value": 0,
          "w": 11
         },
         {
          "h": 0,
          "value": 0,
          "w": 12
         },
         {
          "h": 1,
          "value": 0,
          "w": 12
         },
         {
          "h": 2,
          "value": 0,
          "w": 12
         },
         {
          "h": 3,
          "value": 0.003921568859368563,
          "w": 12
         },
         {
          "h": 4,
          "value": 0.0117647061124444,
          "w": 12
         },
         {
          "h": 5,
          "value": 0.0235294122248888,
          "w": 12
         },
         {
          "h": 6,
          "value": 0,
          "w": 12
         },
         {
          "h": 7,
          "value": 0,
          "w": 12
         },
         {
          "h": 8,
          "value": 0,
          "w": 12
         },
         {
          "h": 9,
          "value": 0,
          "w": 12
         },
         {
          "h": 10,
          "value": 0,
          "w": 12
         },
         {
          "h": 11,
          "value": 0.0470588244497776,
          "w": 12
         },
         {
          "h": 12,
          "value": 0.38823530077934265,
          "w": 12
         },
         {
          "h": 13,
          "value": 0.21568627655506134,
          "w": 12
         },
         {
          "h": 14,
          "value": 0.929411768913269,
          "w": 12
         },
         {
          "h": 15,
          "value": 0.8941176533699036,
          "w": 12
         },
         {
          "h": 16,
          "value": 0.8509804010391235,
          "w": 12
         },
         {
          "h": 17,
          "value": 0.7843137383460999,
          "w": 12
         },
         {
          "h": 18,
          "value": 0.9411764740943909,
          "w": 12
         },
         {
          "h": 19,
          "value": 0.8509804010391235,
          "w": 12
         },
         {
          "h": 20,
          "value": 0.7764706015586853,
          "w": 12
         },
         {
          "h": 21,
          "value": 0.8588235378265381,
          "w": 12
         },
         {
          "h": 22,
          "value": 0.8274509906768799,
          "w": 12
         },
         {
          "h": 23,
          "value": 0.7411764860153198,
          "w": 12
         },
         {
          "h": 24,
          "value": 0.95686274766922,
          "w": 12
         },
         {
          "h": 25,
          "value": 0.13725490868091583,
          "w": 12
         },
         {
          "h": 26,
          "value": 0,
          "w": 12
         },
         {
          "h": 27,
          "value": 0,
          "w": 12
         },
         {
          "h": 0,
          "value": 0,
          "w": 13
         },
         {
          "h": 1,
          "value": 0,
          "w": 13
         },
         {
          "h": 2,
          "value": 0,
          "w": 13
         },
         {
          "h": 3,
          "value": 0,
          "w": 13
         },
         {
          "h": 4,
          "value": 0,
          "w": 13
         },
         {
          "h": 5,
          "value": 0,
          "w": 13
         },
         {
          "h": 6,
          "value": 0,
          "w": 13
         },
         {
          "h": 7,
          "value": 0.2705882489681244,
          "w": 13
         },
         {
          "h": 8,
          "value": 0.7843137383460999,
          "w": 13
         },
         {
          "h": 9,
          "value": 0.7176470756530762,
          "w": 13
         },
         {
          "h": 10,
          "value": 0.7568627595901489,
          "w": 13
         },
         {
          "h": 11,
          "value": 0.8588235378265381,
          "w": 13
         },
         {
          "h": 12,
          "value": 0.95686274766922,
          "w": 13
         },
         {
          "h": 13,
          "value": 0.9254902005195618,
          "w": 13
         },
         {
          "h": 14,
          "value": 0.886274516582489,
          "w": 13
         },
         {
          "h": 15,
          "value": 0.8117647171020508,
          "w": 13
         },
         {
          "h": 16,
          "value": 0.886274516582489,
          "w": 13
         },
         {
          "h": 17,
          "value": 0.6235294342041016,
          "w": 13
         },
         {
          "h": 18,
          "value": 0.3137255012989044,
          "w": 13
         },
         {
          "h": 19,
          "value": 0.9450980424880981,
          "w": 13
         },
         {
          "h": 20,
          "value": 0.8352941274642944,
          "w": 13
         },
         {
          "h": 21,
          "value": 0.8666666746139526,
          "w": 13
         },
         {
          "h": 22,
          "value": 0.8235294222831726,
          "w": 13
         },
         {
          "h": 23,
          "value": 0.7372549176216125,
          "w": 13
         },
         {
          "h": 24,
          "value": 0.8666666746139526,
          "w": 13
         },
         {
          "h": 25,
          "value": 0,
          "w": 13
         },
         {
          "h": 26,
          "value": 0,
          "w": 13
         },
         {
          "h": 27,
          "value": 0,
          "w": 13
         },
         {
          "h": 0,
          "value": 0,
          "w": 14
         },
         {
          "h": 1,
          "value": 0,
          "w": 14
         },
         {
          "h": 2,
          "value": 0,
          "w": 14
         },
         {
          "h": 3,
          "value": 0,
          "w": 14
         },
         {
          "h": 4,
          "value": 0.1411764770746231,
          "w": 14
         },
         {
          "h": 5,
          "value": 0.4000000059604645,
          "w": 14
         },
         {
          "h": 6,
          "value": 0.6078431606292725,
          "w": 14
         },
         {
          "h": 7,
          "value": 0.8117647171020508,
          "w": 14
         },
         {
          "h": 8,
          "value": 0.9098039269447327,
          "w": 14
         },
         {
          "h": 9,
          "value": 0.8823529481887817,
          "w": 14
         },
         {
          "h": 10,
          "value": 0.8941176533699036,
          "w": 14
         },
         {
          "h": 11,
          "value": 0.8627451062202454,
          "w": 14
         },
         {
          "h": 12,
          "value": 0.8705882430076599,
          "w": 14
         },
         {
          "h": 13,
          "value": 0.8941176533699036,
          "w": 14
         },
         {
          "h": 14,
          "value": 0.8509804010391235,
          "w": 14
         },
         {
          "h": 15,
          "value": 0.8352941274642944,
          "w": 14
         },
         {
          "h": 16,
          "value": 0.7843137383460999,
          "w": 14
         },
         {
          "h": 17,
          "value": 0.9607843160629272,
          "w": 14
         },
         {
          "h": 18,
          "value": 0.5882353186607361,
          "w": 14
         },
         {
          "h": 19,
          "value": 0.2549019753932953,
          "w": 14
         },
         {
          "h": 20,
          "value": 0.9411764740943909,
          "w": 14
         },
         {
          "h": 21,
          "value": 0.8627451062202454,
          "w": 14
         },
         {
          "h": 22,
          "value": 0.7843137383460999,
          "w": 14
         },
         {
          "h": 23,
          "value": 0.7568627595901489,
          "w": 14
         },
         {
          "h": 24,
          "value": 0.8627451062202454,
          "w": 14
         },
         {
          "h": 25,
          "value": 0,
          "w": 14
         },
         {
          "h": 26,
          "value": 0,
          "w": 14
         },
         {
          "h": 27,
          "value": 0,
          "w": 14
         },
         {
          "h": 0,
          "value": 0,
          "w": 15
         },
         {
          "h": 1,
          "value": 0,
          "w": 15
         },
         {
          "h": 2,
          "value": 0,
          "w": 15
         },
         {
          "h": 3,
          "value": 0.05098039284348488,
          "w": 15
         },
         {
          "h": 4,
          "value": 0.5333333611488342,
          "w": 15
         },
         {
          "h": 5,
          "value": 0.800000011920929,
          "w": 15
         },
         {
          "h": 6,
          "value": 0.9254902005195618,
          "w": 15
         },
         {
          "h": 7,
          "value": 0.8745098114013672,
          "w": 15
         },
         {
          "h": 8,
          "value": 0.9098039269447327,
          "w": 15
         },
         {
          "h": 9,
          "value": 0.8470588326454163,
          "w": 15
         },
         {
          "h": 10,
          "value": 0.8549019694328308,
          "w": 15
         },
         {
          "h": 11,
          "value": 0.8313725590705872,
          "w": 15
         },
         {
          "h": 12,
          "value": 0.8627451062202454,
          "w": 15
         },
         {
          "h": 13,
          "value": 0.9019607901573181,
          "w": 15
         },
         {
          "h": 14,
          "value": 0.8745098114013672,
          "w": 15
         },
         {
          "h": 15,
          "value": 0.8666666746139526,
          "w": 15
         },
         {
          "h": 16,
          "value": 0.8039215803146362,
          "w": 15
         },
         {
          "h": 17,
          "value": 0.7568627595901489,
          "w": 15
         },
         {
          "h": 18,
          "value": 1,
          "w": 15
         },
         {
          "h": 19,
          "value": 0.2862745225429535,
          "w": 15
         },
         {
          "h": 20,
          "value": 0.7647058963775635,
          "w": 15
         },
         {
          "h": 21,
          "value": 0.9254902005195618,
          "w": 15
         },
         {
          "h": 22,
          "value": 0.7686274647712708,
          "w": 15
         },
         {
          "h": 23,
          "value": 0.7764706015586853,
          "w": 15
         },
         {
          "h": 24,
          "value": 0.7568627595901489,
          "w": 15
         },
         {
          "h": 25,
          "value": 0,
          "w": 15
         },
         {
          "h": 26,
          "value": 0,
          "w": 15
         },
         {
          "h": 27,
          "value": 0,
          "w": 15
         },
         {
          "h": 0,
          "value": 0,
          "w": 16
         },
         {
          "h": 1,
          "value": 0,
          "w": 16
         },
         {
          "h": 2,
          "value": 0,
          "w": 16
         },
         {
          "h": 3,
          "value": 0.2862745225429535,
          "w": 16
         },
         {
          "h": 4,
          "value": 0.49803921580314636,
          "w": 16
         },
         {
          "h": 5,
          "value": 0.6901960968971252,
          "w": 16
         },
         {
          "h": 6,
          "value": 0.8117647171020508,
          "w": 16
         },
         {
          "h": 7,
          "value": 0.8549019694328308,
          "w": 16
         },
         {
          "h": 8,
          "value": 0.9137254953384399,
          "w": 16
         },
         {
          "h": 9,
          "value": 0.8745098114013672,
          "w": 16
         },
         {
          "h": 10,
          "value": 0.8352941274642944,
          "w": 16
         },
         {
          "h": 11,
          "value": 0.8549019694328308,
          "w": 16
         },
         {
          "h": 12,
          "value": 0.8549019694328308,
          "w": 16
         },
         {
          "h": 13,
          "value": 0.8941176533699036,
          "w": 16
         },
         {
          "h": 14,
          "value": 0.8705882430076599,
          "w": 16
         },
         {
          "h": 15,
          "value": 0.8549019694328308,
          "w": 16
         },
         {
          "h": 16,
          "value": 0.8274509906768799,
          "w": 16
         },
         {
          "h": 17,
          "value": 0.8078431487083435,
          "w": 16
         },
         {
          "h": 18,
          "value": 0.8980392217636108,
          "w": 16
         },
         {
          "h": 19,
          "value": 0.4156862795352936,
          "w": 16
         },
         {
          "h": 20,
          "value": 0.8901960849761963,
          "w": 16
         },
         {
          "h": 21,
          "value": 0.8823529481887817,
          "w": 16
         },
         {
          "h": 22,
          "value": 0.7607843279838562,
          "w": 16
         },
         {
          "h": 23,
          "value": 0.800000011920929,
          "w": 16
         },
         {
          "h": 24,
          "value": 0.7490196228027344,
          "w": 16
         },
         {
          "h": 25,
          "value": 0,
          "w": 16
         },
         {
          "h": 26,
          "value": 0,
          "w": 16
         },
         {
          "h": 27,
          "value": 0,
          "w": 16
         },
         {
          "h": 0,
          "value": 0,
          "w": 17
         },
         {
          "h": 1,
          "value": 0,
          "w": 17
         },
         {
          "h": 2,
          "value": 0,
          "w": 17
         },
         {
          "h": 3,
          "value": 0,
          "w": 17
         },
         {
          "h": 4,
          "value": 0.24313725531101227,
          "w": 17
         },
         {
          "h": 5,
          "value": 0.5254902243614197,
          "w": 17
         },
         {
          "h": 6,
          "value": 0.6980392336845398,
          "w": 17
         },
         {
          "h": 7,
          "value": 0.8470588326454163,
          "w": 17
         },
         {
          "h": 8,
          "value": 0.8980392217636108,
          "w": 17
         },
         {
          "h": 9,
          "value": 0.8941176533699036,
          "w": 17
         },
         {
          "h": 10,
          "value": 0.7764706015586853,
          "w": 17
         },
         {
          "h": 11,
          "value": 0.7529411911964417,
          "w": 17
         },
         {
          "h": 12,
          "value": 0.7960784435272217,
          "w": 17
         },
         {
          "h": 13,
          "value": 0.9411764740943909,
          "w": 17
         },
         {
          "h": 14,
          "value": 0.8588235378265381,
          "w": 17
         },
         {
          "h": 15,
          "value": 0.8156862854957581,
          "w": 17
         },
         {
          "h": 16,
          "value": 0.9019607901573181,
          "w": 17
         },
         {
          "h": 17,
          "value": 0.8745098114013672,
          "w": 17
         },
         {
          "h": 18,
          "value": 0.8666666746139526,
          "w": 17
         },
         {
          "h": 19,
          "value": 0.4588235318660736,
          "w": 17
         },
         {
          "h": 20,
          "value": 0.9607843160629272,
          "w": 17
         },
         {
          "h": 21,
          "value": 0.8470588326454163,
          "w": 17
         },
         {
          "h": 22,
          "value": 0.7490196228027344,
          "w": 17
         },
         {
          "h": 23,
          "value": 0.8196078538894653,
          "w": 17
         },
         {
          "h": 24,
          "value": 0.7019608020782471,
          "w": 17
         },
         {
          "h": 25,
          "value": 0,
          "w": 17
         },
         {
          "h": 26,
          "value": 0,
          "w": 17
         },
         {
          "h": 27,
          "value": 0,
          "w": 17
         },
         {
          "h": 0,
          "value": 0,
          "w": 18
         },
         {
          "h": 1,
          "value": 0,
          "w": 18
         },
         {
          "h": 2,
          "value": 0,
          "w": 18
         },
         {
          "h": 3,
          "value": 0,
          "w": 18
         },
         {
          "h": 4,
          "value": 0.21176470816135406,
          "w": 18
         },
         {
          "h": 5,
          "value": 0.5647059082984924,
          "w": 18
         },
         {
          "h": 6,
          "value": 0.41960784792900085,
          "w": 18
         },
         {
          "h": 7,
          "value": 0.8470588326454163,
          "w": 18
         },
         {
          "h": 8,
          "value": 0.8745098114013672,
          "w": 18
         },
         {
          "h": 9,
          "value": 0.9215686321258545,
          "w": 18
         },
         {
          "h": 10,
          "value": 0.7058823704719543,
          "w": 18
         },
         {
          "h": 11,
          "value": 0.6627451181411743,
          "w": 18
         },
         {
          "h": 12,
          "value": 0.7764706015586853,
          "w": 18
         },
         {
          "h": 13,
          "value": 0.9098039269447327,
          "w": 18
         },
         {
          "h": 14,
          "value": 0.8705882430076599,
          "w": 18
         },
         {
          "h": 15,
          "value": 0.8274509906768799,
          "w": 18
         },
         {
          "h": 16,
          "value": 0.8784313797950745,
          "w": 18
         },
         {
          "h": 17,
          "value": 1,
          "w": 18
         },
         {
          "h": 18,
          "value": 0.7372549176216125,
          "w": 18
         },
         {
          "h": 19,
          "value": 0.658823549747467,
          "w": 18
         },
         {
          "h": 20,
          "value": 0.9372549057006836,
          "w": 18
         },
         {
          "h": 21,
          "value": 0.7803921699523926,
          "w": 18
         },
         {
          "h": 22,
          "value": 0.7647058963775635,
          "w": 18
         },
         {
          "h": 23,
          "value": 0.8235294222831726,
          "w": 18
         },
         {
          "h": 24,
          "value": 0.7137255072593689,
          "w": 18
         },
         {
          "h": 25,
          "value": 0,
          "w": 18
         },
         {
          "h": 26,
          "value": 0,
          "w": 18
         },
         {
          "h": 27,
          "value": 0,
          "w": 18
         },
         {
          "h": 0,
          "value": 0,
          "w": 19
         },
         {
          "h": 1,
          "value": 0,
          "w": 19
         },
         {
          "h": 2,
          "value": 0,
          "w": 19
         },
         {
          "h": 3,
          "value": 0.003921568859368563,
          "w": 19
         },
         {
          "h": 4,
          "value": 0,
          "w": 19
         },
         {
          "h": 5,
          "value": 0.48235294222831726,
          "w": 19
         },
         {
          "h": 6,
          "value": 0.6117647290229797,
          "w": 19
         },
         {
          "h": 7,
          "value": 0.6392157077789307,
          "w": 19
         },
         {
          "h": 8,
          "value": 0.8745098114013672,
          "w": 19
         },
         {
          "h": 9,
          "value": 0.8901960849761963,
          "w": 19
         },
         {
          "h": 10,
          "value": 0.8313725590705872,
          "w": 19
         },
         {
          "h": 11,
          "value": 0.8901960849761963,
          "w": 19
         },
         {
          "h": 12,
          "value": 0.8666666746139526,
          "w": 19
         },
         {
          "h": 13,
          "value": 0.8352941274642944,
          "w": 19
         },
         {
          "h": 14,
          "value": 0.8666666746139526,
          "w": 19
         },
         {
          "h": 15,
          "value": 0.8549019694328308,
          "w": 19
         },
         {
          "h": 16,
          "value": 0.9176470637321472,
          "w": 19
         },
         {
          "h": 17,
          "value": 1,
          "w": 19
         },
         {
          "h": 18,
          "value": 0.6039215922355652,
          "w": 19
         },
         {
          "h": 19,
          "value": 0.8588235378265381,
          "w": 19
         },
         {
          "h": 20,
          "value": 0.8745098114013672,
          "w": 19
         },
         {
          "h": 21,
          "value": 0.8078431487083435,
          "w": 19
         },
         {
          "h": 22,
          "value": 0.7490196228027344,
          "w": 19
         },
         {
          "h": 23,
          "value": 0.8235294222831726,
          "w": 19
         },
         {
          "h": 24,
          "value": 0.7137255072593689,
          "w": 19
         },
         {
          "h": 25,
          "value": 0,
          "w": 19
         },
         {
          "h": 26,
          "value": 0,
          "w": 19
         },
         {
          "h": 27,
          "value": 0,
          "w": 19
         },
         {
          "h": 0,
          "value": 0,
          "w": 20
         },
         {
          "h": 1,
          "value": 0,
          "w": 20
         },
         {
          "h": 2,
          "value": 0,
          "w": 20
         },
         {
          "h": 3,
          "value": 0.01568627543747425,
          "w": 20
         },
         {
          "h": 4,
          "value": 0,
          "w": 20
         },
         {
          "h": 5,
          "value": 0.09019608050584793,
          "w": 20
         },
         {
          "h": 6,
          "value": 0.6313725709915161,
          "w": 20
         },
         {
          "h": 7,
          "value": 0.49803921580314636,
          "w": 20
         },
         {
          "h": 8,
          "value": 0.843137264251709,
          "w": 20
         },
         {
          "h": 9,
          "value": 0.8784313797950745,
          "w": 20
         },
         {
          "h": 10,
          "value": 0.8235294222831726,
          "w": 20
         },
         {
          "h": 11,
          "value": 0.8156862854957581,
          "w": 20
         },
         {
          "h": 12,
          "value": 0.843137264251709,
          "w": 20
         },
         {
          "h": 13,
          "value": 0.8549019694328308,
          "w": 20
         },
         {
          "h": 14,
          "value": 0.8470588326454163,
          "w": 20
         },
         {
          "h": 15,
          "value": 0.8784313797950745,
          "w": 20
         },
         {
          "h": 16,
          "value": 0.6901960968971252,
          "w": 20
         },
         {
          "h": 17,
          "value": 0.8666666746139526,
          "w": 20
         },
         {
          "h": 18,
          "value": 0.7490196228027344,
          "w": 20
         },
         {
          "h": 19,
          "value": 0.8666666746139526,
          "w": 20
         },
         {
          "h": 20,
          "value": 0.8549019694328308,
          "w": 20
         },
         {
          "h": 21,
          "value": 0.729411780834198,
          "w": 20
         },
         {
          "h": 22,
          "value": 0.7764706015586853,
          "w": 20
         },
         {
          "h": 23,
          "value": 0.8274509906768799,
          "w": 20
         },
         {
          "h": 24,
          "value": 0.7098039388656616,
          "w": 20
         },
         {
          "h": 25,
          "value": 0,
          "w": 20
         },
         {
          "h": 26,
          "value": 0,
          "w": 20
         },
         {
          "h": 27,
          "value": 0,
          "w": 20
         },
         {
          "h": 0,
          "value": 0,
          "w": 21
         },
         {
          "h": 1,
          "value": 0,
          "w": 21
         },
         {
          "h": 2,
          "value": 0,
          "w": 21
         },
         {
          "h": 3,
          "value": 0,
          "w": 21
         },
         {
          "h": 4,
          "value": 0,
          "w": 21
         },
         {
          "h": 5,
          "value": 0,
          "w": 21
         },
         {
          "h": 6,
          "value": 0.4274509847164154,
          "w": 21
         },
         {
          "h": 7,
          "value": 0.4745098054409027,
          "w": 21
         },
         {
          "h": 8,
          "value": 0.8352941274642944,
          "w": 21
         },
         {
          "h": 9,
          "value": 0.8705882430076599,
          "w": 21
         },
         {
          "h": 10,
          "value": 0.8274509906768799,
          "w": 21
         },
         {
          "h": 11,
          "value": 0.8549019694328308,
          "w": 21
         },
         {
          "h": 12,
          "value": 0.8352941274642944,
          "w": 21
         },
         {
          "h": 13,
          "value": 0.8745098114013672,
          "w": 21
         },
         {
          "h": 14,
          "value": 0.8745098114013672,
          "w": 21
         },
         {
          "h": 15,
          "value": 0.8745098114013672,
          "w": 21
         },
         {
          "h": 16,
          "value": 0.7372549176216125,
          "w": 21
         },
         {
          "h": 17,
          "value": 0.9176470637321472,
          "w": 21
         },
         {
          "h": 18,
          "value": 0.8235294222831726,
          "w": 21
         },
         {
          "h": 19,
          "value": 0.843137264251709,
          "w": 21
         },
         {
          "h": 20,
          "value": 0.8313725590705872,
          "w": 21
         },
         {
          "h": 21,
          "value": 0.7098039388656616,
          "w": 21
         },
         {
          "h": 22,
          "value": 0.7529411911964417,
          "w": 21
         },
         {
          "h": 23,
          "value": 0.7372549176216125,
          "w": 21
         },
         {
          "h": 24,
          "value": 0.6901960968971252,
          "w": 21
         },
         {
          "h": 25,
          "value": 0,
          "w": 21
         },
         {
          "h": 26,
          "value": 0,
          "w": 21
         },
         {
          "h": 27,
          "value": 0,
          "w": 21
         },
         {
          "h": 0,
          "value": 0,
          "w": 22
         },
         {
          "h": 1,
          "value": 0,
          "w": 22
         },
         {
          "h": 2,
          "value": 0,
          "w": 22
         },
         {
          "h": 3,
          "value": 0,
          "w": 22
         },
         {
          "h": 4,
          "value": 0.003921568859368563,
          "w": 22
         },
         {
          "h": 5,
          "value": 0,
          "w": 22
         },
         {
          "h": 6,
          "value": 0.250980406999588,
          "w": 22
         },
         {
          "h": 7,
          "value": 0.47843137383461,
          "w": 22
         },
         {
          "h": 8,
          "value": 0.6431372761726379,
          "w": 22
         },
         {
          "h": 9,
          "value": 0.8784313797950745,
          "w": 22
         },
         {
          "h": 10,
          "value": 0.8352941274642944,
          "w": 22
         },
         {
          "h": 11,
          "value": 0.8784313797950745,
          "w": 22
         },
         {
          "h": 12,
          "value": 0.8705882430076599,
          "w": 22
         },
         {
          "h": 13,
          "value": 0.9176470637321472,
          "w": 22
         },
         {
          "h": 14,
          "value": 0.8980392217636108,
          "w": 22
         },
         {
          "h": 15,
          "value": 0.8588235378265381,
          "w": 22
         },
         {
          "h": 16,
          "value": 0.9803921580314636,
          "w": 22
         },
         {
          "h": 17,
          "value": 0.8666666746139526,
          "w": 22
         },
         {
          "h": 18,
          "value": 0.800000011920929,
          "w": 22
         },
         {
          "h": 19,
          "value": 0.8509804010391235,
          "w": 22
         },
         {
          "h": 20,
          "value": 0.8196078538894653,
          "w": 22
         },
         {
          "h": 21,
          "value": 0.6941176652908325,
          "w": 22
         },
         {
          "h": 22,
          "value": 0.6901960968971252,
          "w": 22
         },
         {
          "h": 23,
          "value": 0.7372549176216125,
          "w": 22
         },
         {
          "h": 24,
          "value": 0.6509804129600525,
          "w": 22
         },
         {
          "h": 25,
          "value": 0,
          "w": 22
         },
         {
          "h": 26,
          "value": 0,
          "w": 22
         },
         {
          "h": 27,
          "value": 0,
          "w": 22
         },
         {
          "h": 0,
          "value": 0,
          "w": 23
         },
         {
          "h": 1,
          "value": 0,
          "w": 23
         },
         {
          "h": 2,
          "value": 0,
          "w": 23
         },
         {
          "h": 3,
          "value": 0,
          "w": 23
         },
         {
          "h": 4,
          "value": 0.0117647061124444,
          "w": 23
         },
         {
          "h": 5,
          "value": 0,
          "w": 23
         },
         {
          "h": 6,
          "value": 0.09019608050584793,
          "w": 23
         },
         {
          "h": 7,
          "value": 0.572549045085907,
          "w": 23
         },
         {
          "h": 8,
          "value": 0.49803921580314636,
          "w": 23
         },
         {
          "h": 9,
          "value": 0.8666666746139526,
          "w": 23
         },
         {
          "h": 10,
          "value": 0.8745098114013672,
          "w": 23
         },
         {
          "h": 11,
          "value": 0.8313725590705872,
          "w": 23
         },
         {
          "h": 12,
          "value": 0.8627451062202454,
          "w": 23
         },
         {
          "h": 13,
          "value": 0.8509804010391235,
          "w": 23
         },
         {
          "h": 14,
          "value": 0.843137264251709,
          "w": 23
         },
         {
          "h": 15,
          "value": 0.843137264251709,
          "w": 23
         },
         {
          "h": 16,
          "value": 0.9725490212440491,
          "w": 23
         },
         {
          "h": 17,
          "value": 0.8274509906768799,
          "w": 23
         },
         {
          "h": 18,
          "value": 0.8196078538894653,
          "w": 23
         },
         {
          "h": 19,
          "value": 0.8745098114013672,
          "w": 23
         },
         {
          "h": 20,
          "value": 0.8705882430076599,
          "w": 23
         },
         {
          "h": 21,
          "value": 0.6745098233222961,
          "w": 23
         },
         {
          "h": 22,
          "value": 0.6117647290229797,
          "w": 23
         },
         {
          "h": 23,
          "value": 0.7607843279838562,
          "w": 23
         },
         {
          "h": 24,
          "value": 0.658823549747467,
          "w": 23
         },
         {
          "h": 25,
          "value": 0,
          "w": 23
         },
         {
          "h": 26,
          "value": 0,
          "w": 23
         },
         {
          "h": 27,
          "value": 0,
          "w": 23
         },
         {
          "h": 0,
          "value": 0,
          "w": 24
         },
         {
          "h": 1,
          "value": 0,
          "w": 24
         },
         {
          "h": 2,
          "value": 0,
          "w": 24
         },
         {
          "h": 3,
          "value": 0,
          "w": 24
         },
         {
          "h": 4,
          "value": 0.01568627543747425,
          "w": 24
         },
         {
          "h": 5,
          "value": 0,
          "w": 24
         },
         {
          "h": 6,
          "value": 0.3019607961177826,
          "w": 24
         },
         {
          "h": 7,
          "value": 0.5529412031173706,
          "w": 24
         },
         {
          "h": 8,
          "value": 0.48235294222831726,
          "w": 24
         },
         {
          "h": 9,
          "value": 0.8745098114013672,
          "w": 24
         },
         {
          "h": 10,
          "value": 0.8627451062202454,
          "w": 24
         },
         {
          "h": 11,
          "value": 0.886274516582489,
          "w": 24
         },
         {
          "h": 12,
          "value": 0.9607843160629272,
          "w": 24
         },
         {
          "h": 13,
          "value": 0.8509804010391235,
          "w": 24
         },
         {
          "h": 14,
          "value": 0.8549019694328308,
          "w": 24
         },
         {
          "h": 15,
          "value": 0.8784313797950745,
          "w": 24
         },
         {
          "h": 16,
          "value": 0.9137254953384399,
          "w": 24
         },
         {
          "h": 17,
          "value": 0.8627451062202454,
          "w": 24
         },
         {
          "h": 18,
          "value": 0.8705882430076599,
          "w": 24
         },
         {
          "h": 19,
          "value": 0.8745098114013672,
          "w": 24
         },
         {
          "h": 20,
          "value": 0.8627451062202454,
          "w": 24
         },
         {
          "h": 21,
          "value": 0.7098039388656616,
          "w": 24
         },
         {
          "h": 22,
          "value": 0.6549019813537598,
          "w": 24
         },
         {
          "h": 23,
          "value": 0.7529411911964417,
          "w": 24
         },
         {
          "h": 24,
          "value": 0.38823530077934265,
          "w": 24
         },
         {
          "h": 25,
          "value": 0,
          "w": 24
         },
         {
          "h": 26,
          "value": 0,
          "w": 24
         },
         {
          "h": 27,
          "value": 0,
          "w": 24
         },
         {
          "h": 0,
          "value": 0,
          "w": 25
         },
         {
          "h": 1,
          "value": 0,
          "w": 25
         },
         {
          "h": 2,
          "value": 0,
          "w": 25
         },
         {
          "h": 3,
          "value": 0.003921568859368563,
          "w": 25
         },
         {
          "h": 4,
          "value": 0,
          "w": 25
         },
         {
          "h": 5,
          "value": 0.0470588244497776,
          "w": 25
         },
         {
          "h": 6,
          "value": 0.5098039507865906,
          "w": 25
         },
         {
          "h": 7,
          "value": 0.3450980484485626,
          "w": 25
         },
         {
          "h": 8,
          "value": 0.7686274647712708,
          "w": 25
         },
         {
          "h": 9,
          "value": 0.9607843160629272,
          "w": 25
         },
         {
          "h": 10,
          "value": 0.9529411792755127,
          "w": 25
         },
         {
          "h": 11,
          "value": 0.772549033164978,
          "w": 25
         },
         {
          "h": 12,
          "value": 0.46666666865348816,
          "w": 25
         },
         {
          "h": 13,
          "value": 0.8196078538894653,
          "w": 25
         },
         {
          "h": 14,
          "value": 1,
          "w": 25
         },
         {
          "h": 15,
          "value": 0.95686274766922,
          "w": 25
         },
         {
          "h": 16,
          "value": 0.9333333373069763,
          "w": 25
         },
         {
          "h": 17,
          "value": 0.9098039269447327,
          "w": 25
         },
         {
          "h": 18,
          "value": 0.8941176533699036,
          "w": 25
         },
         {
          "h": 19,
          "value": 0.8784313797950745,
          "w": 25
         },
         {
          "h": 20,
          "value": 0.8666666746139526,
          "w": 25
         },
         {
          "h": 21,
          "value": 0.8039215803146362,
          "w": 25
         },
         {
          "h": 22,
          "value": 0.6941176652908325,
          "w": 25
         },
         {
          "h": 23,
          "value": 0.8470588326454163,
          "w": 25
         },
         {
          "h": 24,
          "value": 0.22745098173618317,
          "w": 25
         },
         {
          "h": 25,
          "value": 0,
          "w": 25
         },
         {
          "h": 26,
          "value": 0,
          "w": 25
         },
         {
          "h": 27,
          "value": 0,
          "w": 25
         },
         {
          "h": 0,
          "value": 0,
          "w": 26
         },
         {
          "h": 1,
          "value": 0,
          "w": 26
         },
         {
          "h": 2,
          "value": 0,
          "w": 26
         },
         {
          "h": 3,
          "value": 0.003921568859368563,
          "w": 26
         },
         {
          "h": 4,
          "value": 0,
          "w": 26
         },
         {
          "h": 5,
          "value": 0.03921568766236305,
          "w": 26
         },
         {
          "h": 6,
          "value": 0.2823529541492462,
          "w": 26
         },
         {
          "h": 7,
          "value": 0.6745098233222961,
          "w": 26
         },
         {
          "h": 8,
          "value": 0.8980392217636108,
          "w": 26
         },
         {
          "h": 9,
          "value": 0.6784313917160034,
          "w": 26
         },
         {
          "h": 10,
          "value": 0.7921568751335144,
          "w": 26
         },
         {
          "h": 11,
          "value": 0.8196078538894653,
          "w": 26
         },
         {
          "h": 12,
          "value": 0.6549019813537598,
          "w": 26
         },
         {
          "h": 13,
          "value": 0.3607843220233917,
          "w": 26
         },
         {
          "h": 14,
          "value": 0.3019607961177826,
          "w": 26
         },
         {
          "h": 15,
          "value": 0.6235294342041016,
          "w": 26
         },
         {
          "h": 16,
          "value": 0.843137264251709,
          "w": 26
         },
         {
          "h": 17,
          "value": 0.9647058844566345,
          "w": 26
         },
         {
          "h": 18,
          "value": 0.8823529481887817,
          "w": 26
         },
         {
          "h": 19,
          "value": 0.8980392217636108,
          "w": 26
         },
         {
          "h": 20,
          "value": 0.9019607901573181,
          "w": 26
         },
         {
          "h": 21,
          "value": 0.8078431487083435,
          "w": 26
         },
         {
          "h": 22,
          "value": 0.8235294222831726,
          "w": 26
         },
         {
          "h": 23,
          "value": 0.6666666865348816,
          "w": 26
         },
         {
          "h": 24,
          "value": 0,
          "w": 26
         },
         {
          "h": 25,
          "value": 0,
          "w": 26
         },
         {
          "h": 26,
          "value": 0,
          "w": 26
         },
         {
          "h": 27,
          "value": 0,
          "w": 26
         },
         {
          "h": 0,
          "value": 0,
          "w": 27
         },
         {
          "h": 1,
          "value": 0,
          "w": 27
         },
         {
          "h": 2,
          "value": 0,
          "w": 27
         },
         {
          "h": 3,
          "value": 0,
          "w": 27
         },
         {
          "h": 4,
          "value": 0.0117647061124444,
          "w": 27
         },
         {
          "h": 5,
          "value": 0,
          "w": 27
         },
         {
          "h": 6,
          "value": 0.05882352963089943,
          "w": 27
         },
         {
          "h": 7,
          "value": 0.25882354378700256,
          "w": 27
         },
         {
          "h": 8,
          "value": 0,
          "w": 27
         },
         {
          "h": 9,
          "value": 0,
          "w": 27
         },
         {
          "h": 10,
          "value": 0,
          "w": 27
         },
         {
          "h": 11,
          "value": 0.20392157137393951,
          "w": 27
         },
         {
          "h": 12,
          "value": 0.21960784494876862,
          "w": 27
         },
         {
          "h": 13,
          "value": 0,
          "w": 27
         },
         {
          "h": 14,
          "value": 0,
          "w": 27
         },
         {
          "h": 15,
          "value": 0,
          "w": 27
         },
         {
          "h": 16,
          "value": 0,
          "w": 27
         },
         {
          "h": 17,
          "value": 0,
          "w": 27
         },
         {
          "h": 18,
          "value": 0,
          "w": 27
         },
         {
          "h": 19,
          "value": 0.11372549086809158,
          "w": 27
         },
         {
          "h": 20,
          "value": 0.26274511218070984,
          "w": 27
         },
         {
          "h": 21,
          "value": 0.45098039507865906,
          "w": 27
         },
         {
          "h": 22,
          "value": 0.3607843220233917,
          "w": 27
         },
         {
          "h": 23,
          "value": 0,
          "w": 27
         },
         {
          "h": 24,
          "value": 0,
          "w": 27
         },
         {
          "h": 25,
          "value": 0,
          "w": 27
         },
         {
          "h": 26,
          "value": 0,
          "w": 27
         },
         {
          "h": 27,
          "value": 0,
          "w": 27
         }
        ]
       },
       "encoding": {
        "color": {
         "field": "value",
         "legend": null,
         "scale": {
          "scheme": "greys"
         },
         "sort": "descending",
         "type": "quantitative"
        },
        "tooltip": [
         {
          "field": "value",
          "type": "quantitative"
         }
        ],
        "x": {
         "axis": null,
         "field": "w",
         "type": "nominal"
        },
        "y": {
         "axis": null,
         "field": "h",
         "type": "nominal"
        }
       },
       "height": 350,
       "mark": "rect",
       "title": "",
       "width": 350
      },
      "image/png": "[encoded data removed]",
      "text/plain": [
       "<VegaLite 2 object>\n",
       "\n",
       "If you see this message, it means the renderer has not been properly enabled\n",
       "for the frontend that you are using. For more information, see\n",
       "https://altair-viz.github.io/user_guide/troubleshooting.html\n"
      ]
     },
     "execution_count": 10,
     "metadata": {},
     "output_type": "execute_result"
    }
   ],
   "source": [
    "vis.imshow(x_train_conv[:1].squeeze())"
   ]
  },
  {
   "cell_type": "code",
   "execution_count": 111,
   "metadata": {},
   "outputs": [
    {
     "data": {
      "text/plain": [
       "range(0, 3)"
      ]
     },
     "execution_count": 111,
     "metadata": {},
     "output_type": "execute_result"
    }
   ],
   "source": [
    "range(3)"
   ]
  },
  {
   "cell_type": "code",
   "execution_count": 112,
   "metadata": {},
   "outputs": [
    {
     "data": {
      "text/plain": [
       "[]"
      ]
     },
     "execution_count": 112,
     "metadata": {},
     "output_type": "execute_result"
    }
   ],
   "source": [
    "image"
   ]
  },
  {
   "cell_type": "code",
   "execution_count": 114,
   "metadata": {},
   "outputs": [
    {
     "data": {
      "application/vnd.vegalite.v2+json": {
       "$schema": "https://vega.github.io/schema/vega-lite/v2.4.3.json",
       "config": {
        "view": {
         "height": 300,
         "width": 400
        }
       },
       "hconcat": [
        {
         "data": {
          "values": [
           {
            "h": 0,
            "value": 0,
            "w": 0
           },
           {
            "h": 1,
            "value": 0,
            "w": 0
           },
           {
            "h": 2,
            "value": 0,
            "w": 0
           },
           {
            "h": 3,
            "value": 0,
            "w": 0
           },
           {
            "h": 4,
            "value": 0,
            "w": 0
           },
           {
            "h": 5,
            "value": 0,
            "w": 0
           },
           {
            "h": 6,
            "value": 0,
            "w": 0
           },
           {
            "h": 7,
            "value": 0,
            "w": 0
           },
           {
            "h": 8,
            "value": 0,
            "w": 0
           },
           {
            "h": 9,
            "value": 0,
            "w": 0
           },
           {
            "h": 10,
            "value": 0,
            "w": 0
           },
           {
            "h": 11,
            "value": 0,
            "w": 0
           },
           {
            "h": 12,
            "value": 0,
            "w": 0
           },
           {
            "h": 13,
            "value": 0,
            "w": 0
           },
           {
            "h": 14,
            "value": 0.010232462547719479,
            "w": 0
           },
           {
            "h": 15,
            "value": 0.3107464909553528,
            "w": 0
           },
           {
            "h": 16,
            "value": 0.31799250841140747,
            "w": 0
           },
           {
            "h": 17,
            "value": 0.2559245824813843,
            "w": 0
           },
           {
            "h": 18,
            "value": 0.2962704598903656,
            "w": 0
           },
           {
            "h": 19,
            "value": 0.17351751029491425,
            "w": 0
           },
           {
            "h": 20,
            "value": 0.021386422216892242,
            "w": 0
           },
           {
            "h": 21,
            "value": 0,
            "w": 0
           },
           {
            "h": 22,
            "value": 0,
            "w": 0
           },
           {
            "h": 23,
            "value": 0,
            "w": 0
           },
           {
            "h": 24,
            "value": 0,
            "w": 0
           },
           {
            "h": 25,
            "value": 0,
            "w": 0
           },
           {
            "h": 26,
            "value": 0,
            "w": 0
           },
           {
            "h": 27,
            "value": 0,
            "w": 0
           },
           {
            "h": 0,
            "value": 0,
            "w": 1
           },
           {
            "h": 1,
            "value": 0,
            "w": 1
           },
           {
            "h": 2,
            "value": 0,
            "w": 1
           },
           {
            "h": 3,
            "value": 0,
            "w": 1
           },
           {
            "h": 4,
            "value": 0,
            "w": 1
           },
           {
            "h": 5,
            "value": 0,
            "w": 1
           },
           {
            "h": 6,
            "value": 0,
            "w": 1
           },
           {
            "h": 7,
            "value": 0,
            "w": 1
           },
           {
            "h": 8,
            "value": 0,
            "w": 1
           },
           {
            "h": 9,
            "value": 0,
            "w": 1
           },
           {
            "h": 10,
            "value": 0,
            "w": 1
           },
           {
            "h": 11,
            "value": 0,
            "w": 1
           },
           {
            "h": 12,
            "value": 0,
            "w": 1
           },
           {
            "h": 13,
            "value": 0,
            "w": 1
           },
           {
            "h": 14,
            "value": 0.00599163630977273,
            "w": 1
           },
           {
            "h": 15,
            "value": 0.3562173545360565,
            "w": 1
           },
           {
            "h": 16,
            "value": 0.6779565811157227,
            "w": 1
           },
           {
            "h": 17,
            "value": 0.7931351661682129,
            "w": 1
           },
           {
            "h": 18,
            "value": 0.7308729290962219,
            "w": 1
           },
           {
            "h": 19,
            "value": 0.6547338366508484,
            "w": 1
           },
           {
            "h": 20,
            "value": 0.2880396842956543,
            "w": 1
           },
           {
            "h": 21,
            "value": 0,
            "w": 1
           },
           {
            "h": 22,
            "value": 0,
            "w": 1
           },
           {
            "h": 23,
            "value": 0,
            "w": 1
           },
           {
            "h": 24,
            "value": 0,
            "w": 1
           },
           {
            "h": 25,
            "value": 0,
            "w": 1
           },
           {
            "h": 26,
            "value": 0,
            "w": 1
           },
           {
            "h": 27,
            "value": 0,
            "w": 1
           },
           {
            "h": 0,
            "value": 0,
            "w": 2
           },
           {
            "h": 1,
            "value": 0,
            "w": 2
           },
           {
            "h": 2,
            "value": 0,
            "w": 2
           },
           {
            "h": 3,
            "value": 0,
            "w": 2
           },
           {
            "h": 4,
            "value": 0,
            "w": 2
           },
           {
            "h": 5,
            "value": 0,
            "w": 2
           },
           {
            "h": 6,
            "value": 0,
            "w": 2
           },
           {
            "h": 7,
            "value": 0,
            "w": 2
           },
           {
            "h": 8,
            "value": 0,
            "w": 2
           },
           {
            "h": 9,
            "value": 0,
            "w": 2
           },
           {
            "h": 10,
            "value": 0,
            "w": 2
           },
           {
            "h": 11,
            "value": 0,
            "w": 2
           },
           {
            "h": 12,
            "value": 0.001010890118777752,
            "w": 2
           },
           {
            "h": 13,
            "value": 0.02319793961942196,
            "w": 2
           },
           {
            "h": 14,
            "value": 0.2593812346458435,
            "w": 2
           },
           {
            "h": 15,
            "value": 0.8186712265014648,
            "w": 2
           },
           {
            "h": 16,
            "value": 0.8363472819328308,
            "w": 2
           },
           {
            "h": 17,
            "value": 0.8267236351966858,
            "w": 2
           },
           {
            "h": 18,
            "value": 0.7409707903862,
            "w": 2
           },
           {
            "h": 19,
            "value": 0.7842804193496704,
            "w": 2
           },
           {
            "h": 20,
            "value": 0.7453638911247253,
            "w": 2
           },
           {
            "h": 21,
            "value": 0.3129851818084717,
            "w": 2
           },
           {
            "h": 22,
            "value": 0.07295628637075424,
            "w": 2
           },
           {
            "h": 23,
            "value": 0,
            "w": 2
           },
           {
            "h": 24,
            "value": 0,
            "w": 2
           },
           {
            "h": 25,
            "value": 0,
            "w": 2
           },
           {
            "h": 26,
            "value": 0,
            "w": 2
           },
           {
            "h": 27,
            "value": 0,
            "w": 2
           },
           {
            "h": 0,
            "value": 0,
            "w": 3
           },
           {
            "h": 1,
            "value": 0,
            "w": 3
           },
           {
            "h": 2,
            "value": 0,
            "w": 3
           },
           {
            "h": 3,
            "value": 0,
            "w": 3
           },
           {
            "h": 4,
            "value": 0,
            "w": 3
           },
           {
            "h": 5,
            "value": 0,
            "w": 3
           },
           {
            "h": 6,
            "value": 0,
            "w": 3
           },
           {
            "h": 7,
            "value": 0,
            "w": 3
           },
           {
            "h": 8,
            "value": 0,
            "w": 3
           },
           {
            "h": 9,
            "value": 0,
            "w": 3
           },
           {
            "h": 10,
            "value": 0,
            "w": 3
           },
           {
            "h": 11,
            "value": 0,
            "w": 3
           },
           {
            "h": 12,
            "value": 0.010300815105438232,
            "w": 3
           },
           {
            "h": 13,
            "value": 0.0009971451945602894,
            "w": 3
           },
           {
            "h": 14,
            "value": 0.48713064193725586,
            "w": 3
           },
           {
            "h": 15,
            "value": 0.8508405685424805,
            "w": 3
           },
           {
            "h": 16,
            "value": 0.8297221064567566,
            "w": 3
           },
           {
            "h": 17,
            "value": 0.8095739483833313,
            "w": 3
           },
           {
            "h": 18,
            "value": 0.7835028171539307,
            "w": 3
           },
           {
            "h": 19,
            "value": 0.7682201266288757,
            "w": 3
           },
           {
            "h": 20,
            "value": 0.7517199516296387,
            "w": 3
           },
           {
            "h": 21,
            "value": 0.6823398470878601,
            "w": 3
           },
           {
            "h": 22,
            "value": 0.45288416743278503,
            "w": 3
           },
           {
            "h": 23,
            "value": 0,
            "w": 3
           },
           {
            "h": 24,
            "value": 0,
            "w": 3
           },
           {
            "h": 25,
            "value": 0,
            "w": 3
           },
           {
            "h": 26,
            "value": 0,
            "w": 3
           },
           {
            "h": 27,
            "value": 0,
            "w": 3
           },
           {
            "h": 0,
            "value": 0,
            "w": 4
           },
           {
            "h": 1,
            "value": 0,
            "w": 4
           },
           {
            "h": 2,
            "value": 0,
            "w": 4
           },
           {
            "h": 3,
            "value": 0,
            "w": 4
           },
           {
            "h": 4,
            "value": 0,
            "w": 4
           },
           {
            "h": 5,
            "value": 0,
            "w": 4
           },
           {
            "h": 6,
            "value": 0,
            "w": 4
           },
           {
            "h": 7,
            "value": 0,
            "w": 4
           },
           {
            "h": 8,
            "value": 0,
            "w": 4
           },
           {
            "h": 9,
            "value": 0,
            "w": 4
           },
           {
            "h": 10,
            "value": 0,
            "w": 4
           },
           {
            "h": 11,
            "value": 0.0015429508639499545,
            "w": 4
           },
           {
            "h": 12,
            "value": 0.0017877186182886362,
            "w": 4
           },
           {
            "h": 13,
            "value": 0,
            "w": 4
           },
           {
            "h": 14,
            "value": 0.33866778016090393,
            "w": 4
           },
           {
            "h": 15,
            "value": 0.8407129645347595,
            "w": 4
           },
           {
            "h": 16,
            "value": 0.8646702170372009,
            "w": 4
           },
           {
            "h": 17,
            "value": 0.8392074108123779,
            "w": 4
           },
           {
            "h": 18,
            "value": 0.7737191319465637,
            "w": 4
           },
           {
            "h": 19,
            "value": 0.7926075458526611,
            "w": 4
           },
           {
            "h": 20,
            "value": 0.6767772436141968,
            "w": 4
           },
           {
            "h": 21,
            "value": 0.7323359251022339,
            "w": 4
           },
           {
            "h": 22,
            "value": 0.8216765522956848,
            "w": 4
           },
           {
            "h": 23,
            "value": 0.15350031852722168,
            "w": 4
           },
           {
            "h": 24,
            "value": 0.011926337145268917,
            "w": 4
           },
           {
            "h": 25,
            "value": 0,
            "w": 4
           },
           {
            "h": 26,
            "value": 0,
            "w": 4
           },
           {
            "h": 27,
            "value": 0,
            "w": 4
           },
           {
            "h": 0,
            "value": 0,
            "w": 5
           },
           {
            "h": 1,
            "value": 0,
            "w": 5
           },
           {
            "h": 2,
            "value": 0,
            "w": 5
           },
           {
            "h": 3,
            "value": 0,
            "w": 5
           },
           {
            "h": 4,
            "value": 0,
            "w": 5
           },
           {
            "h": 5,
            "value": 0,
            "w": 5
           },
           {
            "h": 6,
            "value": 0,
            "w": 5
           },
           {
            "h": 7,
            "value": 0,
            "w": 5
           },
           {
            "h": 8,
            "value": 0,
            "w": 5
           },
           {
            "h": 9,
            "value": 0,
            "w": 5
           },
           {
            "h": 10,
            "value": 0,
            "w": 5
           },
           {
            "h": 11,
            "value": 0.0028209551237523556,
            "w": 5
           },
           {
            "h": 12,
            "value": 0.011751645244657993,
            "w": 5
           },
           {
            "h": 13,
            "value": 0.0026484206318855286,
            "w": 5
           },
           {
            "h": 14,
            "value": 0.09976164251565933,
            "w": 5
           },
           {
            "h": 15,
            "value": 0.8784047961235046,
            "w": 5
           },
           {
            "h": 16,
            "value": 0.8539974689483643,
            "w": 5
           },
           {
            "h": 17,
            "value": 0.8833910822868347,
            "w": 5
           },
           {
            "h": 18,
            "value": 0.8244093656539917,
            "w": 5
           },
           {
            "h": 19,
            "value": 0.7685790061950684,
            "w": 5
           },
           {
            "h": 20,
            "value": 0.7172247171401978,
            "w": 5
           },
           {
            "h": 21,
            "value": 0.7011221647262573,
            "w": 5
           },
           {
            "h": 22,
            "value": 0.7972773909568787,
            "w": 5
           },
           {
            "h": 23,
            "value": 0.5600810647010803,
            "w": 5
           },
           {
            "h": 24,
            "value": 0.10703066736459732,
            "w": 5
           },
           {
            "h": 25,
            "value": 0,
            "w": 5
           },
           {
            "h": 26,
            "value": 0,
            "w": 5
           },
           {
            "h": 27,
            "value": 0,
            "w": 5
           },
           {
            "h": 0,
            "value": 0,
            "w": 6
           },
           {
            "h": 1,
            "value": 0,
            "w": 6
           },
           {
            "h": 2,
            "value": 0,
            "w": 6
           },
           {
            "h": 3,
            "value": 0,
            "w": 6
           },
           {
            "h": 4,
            "value": 0,
            "w": 6
           },
           {
            "h": 5,
            "value": 0,
            "w": 6
           },
           {
            "h": 6,
            "value": 0,
            "w": 6
           },
           {
            "h": 7,
            "value": 0,
            "w": 6
           },
           {
            "h": 8,
            "value": 0,
            "w": 6
           },
           {
            "h": 9,
            "value": 0,
            "w": 6
           },
           {
            "h": 10,
            "value": 0,
            "w": 6
           },
           {
            "h": 11,
            "value": 0,
            "w": 6
           },
           {
            "h": 12,
            "value": 0.0188140831887722,
            "w": 6
           },
           {
            "h": 13,
            "value": 0.0055009713396430016,
            "w": 6
           },
           {
            "h": 14,
            "value": 0.09112474322319031,
            "w": 6
           },
           {
            "h": 15,
            "value": 0.6146068572998047,
            "w": 6
           },
           {
            "h": 16,
            "value": 0.8456894755363464,
            "w": 6
           },
           {
            "h": 17,
            "value": 0.863115668296814,
            "w": 6
           },
           {
            "h": 18,
            "value": 0.8676037192344666,
            "w": 6
           },
           {
            "h": 19,
            "value": 0.8052946329116821,
            "w": 6
           },
           {
            "h": 20,
            "value": 0.7445130944252014,
            "w": 6
           },
           {
            "h": 21,
            "value": 0.7489299774169922,
            "w": 6
           },
           {
            "h": 22,
            "value": 0.7226732969284058,
            "w": 6
           },
           {
            "h": 23,
            "value": 0.8633051514625549,
            "w": 6
           },
           {
            "h": 24,
            "value": 0.21956181526184082,
            "w": 6
           },
           {
            "h": 25,
            "value": 0.006628002505749464,
            "w": 6
           },
           {
            "h": 26,
            "value": 0,
            "w": 6
           },
           {
            "h": 27,
            "value": 0,
            "w": 6
           },
           {
            "h": 0,
            "value": 0,
            "w": 7
           },
           {
            "h": 1,
            "value": 0,
            "w": 7
           },
           {
            "h": 2,
            "value": 0,
            "w": 7
           },
           {
            "h": 3,
            "value": 0,
            "w": 7
           },
           {
            "h": 4,
            "value": 0,
            "w": 7
           },
           {
            "h": 5,
            "value": 0,
            "w": 7
           },
           {
            "h": 6,
            "value": 0,
            "w": 7
           },
           {
            "h": 7,
            "value": 0,
            "w": 7
           },
           {
            "h": 8,
            "value": 0,
            "w": 7
           },
           {
            "h": 9,
            "value": 0,
            "w": 7
           },
           {
            "h": 10,
            "value": 0,
            "w": 7
           },
           {
            "h": 11,
            "value": 0,
            "w": 7
           },
           {
            "h": 12,
            "value": 0.012794030830264091,
            "w": 7
           },
           {
            "h": 13,
            "value": 0.014436731114983559,
            "w": 7
           },
           {
            "h": 14,
            "value": 0.08583953976631165,
            "w": 7
           },
           {
            "h": 15,
            "value": 0.46213921904563904,
            "w": 7
           },
           {
            "h": 16,
            "value": 0.8570305109024048,
            "w": 7
           },
           {
            "h": 17,
            "value": 0.8452314734458923,
            "w": 7
           },
           {
            "h": 18,
            "value": 0.9137158989906311,
            "w": 7
           },
           {
            "h": 19,
            "value": 0.8702614307403564,
            "w": 7
           },
           {
            "h": 20,
            "value": 0.7614430785179138,
            "w": 7
           },
           {
            "h": 21,
            "value": 0.7956811189651489,
            "w": 7
           },
           {
            "h": 22,
            "value": 0.7171776294708252,
            "w": 7
           },
           {
            "h": 23,
            "value": 0.8834415078163147,
            "w": 7
           },
           {
            "h": 24,
            "value": 0.4341992437839508,
            "w": 7
           },
           {
            "h": 25,
            "value": 0.08809959888458252,
            "w": 7
           },
           {
            "h": 26,
            "value": 0,
            "w": 7
           },
           {
            "h": 27,
            "value": 0,
            "w": 7
           },
           {
            "h": 0,
            "value": 0,
            "w": 8
           },
           {
            "h": 1,
            "value": 0,
            "w": 8
           },
           {
            "h": 2,
            "value": 0,
            "w": 8
           },
           {
            "h": 3,
            "value": 0,
            "w": 8
           },
           {
            "h": 4,
            "value": 0,
            "w": 8
           },
           {
            "h": 5,
            "value": 0,
            "w": 8
           },
           {
            "h": 6,
            "value": 0,
            "w": 8
           },
           {
            "h": 7,
            "value": 0,
            "w": 8
           },
           {
            "h": 8,
            "value": 0,
            "w": 8
           },
           {
            "h": 9,
            "value": 0,
            "w": 8
           },
           {
            "h": 10,
            "value": 0,
            "w": 8
           },
           {
            "h": 11,
            "value": 0,
            "w": 8
           },
           {
            "h": 12,
            "value": 0.0016143183456733823,
            "w": 8
           },
           {
            "h": 13,
            "value": 0.006854035425931215,
            "w": 8
           },
           {
            "h": 14,
            "value": 6.178205512696877e-05,
            "w": 8
           },
           {
            "h": 15,
            "value": 0.3673200011253357,
            "w": 8
           },
           {
            "h": 16,
            "value": 0.7623299360275269,
            "w": 8
           },
           {
            "h": 17,
            "value": 0.8180221915245056,
            "w": 8
           },
           {
            "h": 18,
            "value": 0.9237680435180664,
            "w": 8
           },
           {
            "h": 19,
            "value": 0.8638783097267151,
            "w": 8
           },
           {
            "h": 20,
            "value": 0.763592541217804,
            "w": 8
           },
           {
            "h": 21,
            "value": 0.7889949679374695,
            "w": 8
           },
           {
            "h": 22,
            "value": 0.7769054174423218,
            "w": 8
           },
           {
            "h": 23,
            "value": 0.8116223216056824,
            "w": 8
           },
           {
            "h": 24,
            "value": 0.7487007975578308,
            "w": 8
           },
           {
            "h": 25,
            "value": 0.17587757110595703,
            "w": 8
           },
           {
            "h": 26,
            "value": 0,
            "w": 8
           },
           {
            "h": 27,
            "value": 0,
            "w": 8
           },
           {
            "h": 0,
            "value": 0,
            "w": 9
           },
           {
            "h": 1,
            "value": 0,
            "w": 9
           },
           {
            "h": 2,
            "value": 0,
            "w": 9
           },
           {
            "h": 3,
            "value": 0,
            "w": 9
           },
           {
            "h": 4,
            "value": 0,
            "w": 9
           },
           {
            "h": 5,
            "value": 0,
            "w": 9
           },
           {
            "h": 6,
            "value": 0,
            "w": 9
           },
           {
            "h": 7,
            "value": 0,
            "w": 9
           },
           {
            "h": 8,
            "value": 0,
            "w": 9
           },
           {
            "h": 9,
            "value": 0,
            "w": 9
           },
           {
            "h": 10,
            "value": 0,
            "w": 9
           },
           {
            "h": 11,
            "value": 0,
            "w": 9
           },
           {
            "h": 12,
            "value": 0,
            "w": 9
           },
           {
            "h": 13,
            "value": 0,
            "w": 9
           },
           {
            "h": 14,
            "value": 0,
            "w": 9
           },
           {
            "h": 15,
            "value": 0.36544811725616455,
            "w": 9
           },
           {
            "h": 16,
            "value": 0.7789142727851868,
            "w": 9
           },
           {
            "h": 17,
            "value": 0.8118665814399719,
            "w": 9
           },
           {
            "h": 18,
            "value": 0.8325188755989075,
            "w": 9
           },
           {
            "h": 19,
            "value": 0.8128724098205566,
            "w": 9
           },
           {
            "h": 20,
            "value": 0.7557441592216492,
            "w": 9
           },
           {
            "h": 21,
            "value": 0.7951167225837708,
            "w": 9
           },
           {
            "h": 22,
            "value": 0.8204751014709473,
            "w": 9
           },
           {
            "h": 23,
            "value": 0.7373183965682983,
            "w": 9
           },
           {
            "h": 24,
            "value": 0.9431218504905701,
            "w": 9
           },
           {
            "h": 25,
            "value": 0.2442442923784256,
            "w": 9
           },
           {
            "h": 26,
            "value": 0.02617081068456173,
            "w": 9
           },
           {
            "h": 27,
            "value": 0,
            "w": 9
           },
           {
            "h": 0,
            "value": 0,
            "w": 10
           },
           {
            "h": 1,
            "value": 0,
            "w": 10
           },
           {
            "h": 2,
            "value": 0,
            "w": 10
           },
           {
            "h": 3,
            "value": 0,
            "w": 10
           },
           {
            "h": 4,
            "value": 0,
            "w": 10
           },
           {
            "h": 5,
            "value": 0,
            "w": 10
           },
           {
            "h": 6,
            "value": 0,
            "w": 10
           },
           {
            "h": 7,
            "value": 0,
            "w": 10
           },
           {
            "h": 8,
            "value": 0,
            "w": 10
           },
           {
            "h": 9,
            "value": 0,
            "w": 10
           },
           {
            "h": 10,
            "value": 0,
            "w": 10
           },
           {
            "h": 11,
            "value": 0,
            "w": 10
           },
           {
            "h": 12,
            "value": 0,
            "w": 10
           },
           {
            "h": 13,
            "value": 0,
            "w": 10
           },
           {
            "h": 14,
            "value": 0.019526442512869835,
            "w": 10
           },
           {
            "h": 15,
            "value": 0.29609936475753784,
            "w": 10
           },
           {
            "h": 16,
            "value": 0.8862212300300598,
            "w": 10
           },
           {
            "h": 17,
            "value": 0.8285074830055237,
            "w": 10
           },
           {
            "h": 18,
            "value": 0.8039901852607727,
            "w": 10
           },
           {
            "h": 19,
            "value": 0.7723501324653625,
            "w": 10
           },
           {
            "h": 20,
            "value": 0.7903943061828613,
            "w": 10
           },
           {
            "h": 21,
            "value": 0.8250123858451843,
            "w": 10
           },
           {
            "h": 22,
            "value": 0.8223819732666016,
            "w": 10
           },
           {
            "h": 23,
            "value": 0.7669236660003662,
            "w": 10
           },
           {
            "h": 24,
            "value": 0.8686655163764954,
            "w": 10
           },
           {
            "h": 25,
            "value": 0.4953109622001648,
            "w": 10
           },
           {
            "h": 26,
            "value": 0.02761099860072136,
            "w": 10
           },
           {
            "h": 27,
            "value": 0,
            "w": 10
           },
           {
            "h": 0,
            "value": 0,
            "w": 11
           },
           {
            "h": 1,
            "value": 0,
            "w": 11
           },
           {
            "h": 2,
            "value": 0,
            "w": 11
           },
           {
            "h": 3,
            "value": 0,
            "w": 11
           },
           {
            "h": 4,
            "value": 0,
            "w": 11
           },
           {
            "h": 5,
            "value": 0,
            "w": 11
           },
           {
            "h": 6,
            "value": 0,
            "w": 11
           },
           {
            "h": 7,
            "value": 0,
            "w": 11
           },
           {
            "h": 8,
            "value": 0,
            "w": 11
           },
           {
            "h": 9,
            "value": 0,
            "w": 11
           },
           {
            "h": 10,
            "value": 0,
            "w": 11
           },
           {
            "h": 11,
            "value": 0.0005409775185398757,
            "w": 11
           },
           {
            "h": 12,
            "value": 0.0003153148281853646,
            "w": 11
           },
           {
            "h": 13,
            "value": 0.013343123719096184,
            "w": 11
           },
           {
            "h": 14,
            "value": 0.0011438188375905156,
            "w": 11
           },
           {
            "h": 15,
            "value": 0.36609727144241333,
            "w": 11
           },
           {
            "h": 16,
            "value": 0.7929422855377197,
            "w": 11
           },
           {
            "h": 17,
            "value": 0.8312808871269226,
            "w": 11
           },
           {
            "h": 18,
            "value": 0.8345147371292114,
            "w": 11
           },
           {
            "h": 19,
            "value": 0.8530592918395996,
            "w": 11
           },
           {
            "h": 20,
            "value": 0.8207393288612366,
            "w": 11
           },
           {
            "h": 21,
            "value": 0.81443852186203,
            "w": 11
           },
           {
            "h": 22,
            "value": 0.8477393388748169,
            "w": 11
           },
           {
            "h": 23,
            "value": 0.7997274398803711,
            "w": 11
           },
           {
            "h": 24,
            "value": 0.7711392641067505,
            "w": 11
           },
           {
            "h": 25,
            "value": 0.7229530215263367,
            "w": 11
           },
           {
            "h": 26,
            "value": 0,
            "w": 11
           },
           {
            "h": 27,
            "value": 0,
            "w": 11
           },
           {
            "h": 0,
            "value": 0,
            "w": 12
           },
           {
            "h": 1,
            "value": 0,
            "w": 12
           },
           {
            "h": 2,
            "value": 0,
            "w": 12
           },
           {
            "h": 3,
            "value": 0,
            "w": 12
           },
           {
            "h": 4,
            "value": 0,
            "w": 12
           },
           {
            "h": 5,
            "value": 0,
            "w": 12
           },
           {
            "h": 6,
            "value": 0,
            "w": 12
           },
           {
            "h": 7,
            "value": 0,
            "w": 12
           },
           {
            "h": 8,
            "value": 2.1227415345492773e-05,
            "w": 12
           },
           {
            "h": 9,
            "value": 0.00017194428073707968,
            "w": 12
           },
           {
            "h": 10,
            "value": 0,
            "w": 12
           },
           {
            "h": 11,
            "value": 0.0034343476872891188,
            "w": 12
           },
           {
            "h": 12,
            "value": 0.009535362012684345,
            "w": 12
           },
           {
            "h": 13,
            "value": 0.009230207651853561,
            "w": 12
           },
           {
            "h": 14,
            "value": 0,
            "w": 12
           },
           {
            "h": 15,
            "value": 0.3295406401157379,
            "w": 12
           },
           {
            "h": 16,
            "value": 0.813465416431427,
            "w": 12
           },
           {
            "h": 17,
            "value": 0.8468876481056213,
            "w": 12
           },
           {
            "h": 18,
            "value": 0.8290393948554993,
            "w": 12
           },
           {
            "h": 19,
            "value": 0.9205623269081116,
            "w": 12
           },
           {
            "h": 20,
            "value": 0.8700343370437622,
            "w": 12
           },
           {
            "h": 21,
            "value": 0.8206273913383484,
            "w": 12
           },
           {
            "h": 22,
            "value": 0.8661789894104004,
            "w": 12
           },
           {
            "h": 23,
            "value": 0.8108595013618469,
            "w": 12
           },
           {
            "h": 24,
            "value": 0.757644772529602,
            "w": 12
           },
           {
            "h": 25,
            "value": 0.8311765193939209,
            "w": 12
           },
           {
            "h": 26,
            "value": 0.21284496784210205,
            "w": 12
           },
           {
            "h": 27,
            "value": 0,
            "w": 12
           },
           {
            "h": 0,
            "value": 0,
            "w": 13
           },
           {
            "h": 1,
            "value": 0,
            "w": 13
           },
           {
            "h": 2,
            "value": 0,
            "w": 13
           },
           {
            "h": 3,
            "value": 0,
            "w": 13
           },
           {
            "h": 4,
            "value": 0,
            "w": 13
           },
           {
            "h": 5,
            "value": 0,
            "w": 13
           },
           {
            "h": 6,
            "value": 0,
            "w": 13
           },
           {
            "h": 7,
            "value": 0,
            "w": 13
           },
           {
            "h": 8,
            "value": 0.0021604327484965324,
            "w": 13
           },
           {
            "h": 9,
            "value": 0.001883166958577931,
            "w": 13
           },
           {
            "h": 10,
            "value": 0,
            "w": 13
           },
           {
            "h": 11,
            "value": 0.004443151410669088,
            "w": 13
           },
           {
            "h": 12,
            "value": 0.009608754888176918,
            "w": 13
           },
           {
            "h": 13,
            "value": 0.004568163305521011,
            "w": 13
           },
           {
            "h": 14,
            "value": 0.035128504037857056,
            "w": 13
           },
           {
            "h": 15,
            "value": 0.47740885615348816,
            "w": 13
           },
           {
            "h": 16,
            "value": 0.8762603402137756,
            "w": 13
           },
           {
            "h": 17,
            "value": 0.857819676399231,
            "w": 13
           },
           {
            "h": 18,
            "value": 0.7117446660995483,
            "w": 13
           },
           {
            "h": 19,
            "value": 0.4145651161670685,
            "w": 13
           },
           {
            "h": 20,
            "value": 0.6800556182861328,
            "w": 13
           },
           {
            "h": 21,
            "value": 0.7902530431747437,
            "w": 13
           },
           {
            "h": 22,
            "value": 0.8900023698806763,
            "w": 13
           },
           {
            "h": 23,
            "value": 0.8233667612075806,
            "w": 13
           },
           {
            "h": 24,
            "value": 0.7719438076019287,
            "w": 13
           },
           {
            "h": 25,
            "value": 0.768400251865387,
            "w": 13
           },
           {
            "h": 26,
            "value": 0.4695188105106354,
            "w": 13
           },
           {
            "h": 27,
            "value": 0,
            "w": 13
           },
           {
            "h": 0,
            "value": 0,
            "w": 14
           },
           {
            "h": 1,
            "value": 0,
            "w": 14
           },
           {
            "h": 2,
            "value": 0,
            "w": 14
           },
           {
            "h": 3,
            "value": 0,
            "w": 14
           },
           {
            "h": 4,
            "value": 0,
            "w": 14
           },
           {
            "h": 5,
            "value": 0,
            "w": 14
           },
           {
            "h": 6,
            "value": 0,
            "w": 14
           },
           {
            "h": 7,
            "value": 0,
            "w": 14
           },
           {
            "h": 8,
            "value": 0.0008884372655302286,
            "w": 14
           },
           {
            "h": 9,
            "value": 0.0032967759761959314,
            "w": 14
           },
           {
            "h": 10,
            "value": 0,
            "w": 14
           },
           {
            "h": 11,
            "value": 1.3846061847289093e-05,
            "w": 14
           },
           {
            "h": 12,
            "value": 0.014111492782831192,
            "w": 14
           },
           {
            "h": 13,
            "value": 0.2363305538892746,
            "w": 14
           },
           {
            "h": 14,
            "value": 0.2695336937904358,
            "w": 14
           },
           {
            "h": 15,
            "value": 0.8107059001922607,
            "w": 14
           },
           {
            "h": 16,
            "value": 0.852142870426178,
            "w": 14
           },
           {
            "h": 17,
            "value": 0.8517820835113525,
            "w": 14
           },
           {
            "h": 18,
            "value": 0.8079833388328552,
            "w": 14
           },
           {
            "h": 19,
            "value": 0.7291749119758606,
            "w": 14
           },
           {
            "h": 20,
            "value": 0.49793511629104614,
            "w": 14
           },
           {
            "h": 21,
            "value": 0.4735047221183777,
            "w": 14
           },
           {
            "h": 22,
            "value": 0.8194752931594849,
            "w": 14
           },
           {
            "h": 23,
            "value": 0.8814135193824768,
            "w": 14
           },
           {
            "h": 24,
            "value": 0.7678245306015015,
            "w": 14
           },
           {
            "h": 25,
            "value": 0.7957196235656738,
            "w": 14
           },
           {
            "h": 26,
            "value": 0.7200676202774048,
            "w": 14
           },
           {
            "h": 27,
            "value": 0.036332134157419205,
            "w": 14
           },
           {
            "h": 0,
            "value": 0,
            "w": 15
           },
           {
            "h": 1,
            "value": 0,
            "w": 15
           },
           {
            "h": 2,
            "value": 0,
            "w": 15
           },
           {
            "h": 3,
            "value": 0,
            "w": 15
           },
           {
            "h": 4,
            "value": 0,
            "w": 15
           },
           {
            "h": 5,
            "value": 0,
            "w": 15
           },
           {
            "h": 6,
            "value": 0,
            "w": 15
           },
           {
            "h": 7,
            "value": 0,
            "w": 15
           },
           {
            "h": 8,
            "value": 0.0027307886630296707,
            "w": 15
           },
           {
            "h": 9,
            "value": 0.0032764889765530825,
            "w": 15
           },
           {
            "h": 10,
            "value": 0.0004999548546038568,
            "w": 15
           },
           {
            "h": 11,
            "value": 0,
            "w": 15
           },
           {
            "h": 12,
            "value": 0.22228117287158966,
            "w": 15
           },
           {
            "h": 13,
            "value": 0.6419653296470642,
            "w": 15
           },
           {
            "h": 14,
            "value": 0.9213289022445679,
            "w": 15
           },
           {
            "h": 15,
            "value": 0.8992049098014832,
            "w": 15
           },
           {
            "h": 16,
            "value": 0.8508223295211792,
            "w": 15
           },
           {
            "h": 17,
            "value": 0.823353111743927,
            "w": 15
           },
           {
            "h": 18,
            "value": 0.808820903301239,
            "w": 15
           },
           {
            "h": 19,
            "value": 0.8167152404785156,
            "w": 15
           },
           {
            "h": 20,
            "value": 0.9462137818336487,
            "w": 15
           },
           {
            "h": 21,
            "value": 0.3544464707374573,
            "w": 15
           },
           {
            "h": 22,
            "value": 0.8357555270195007,
            "w": 15
           },
           {
            "h": 23,
            "value": 0.8792012929916382,
            "w": 15
           },
           {
            "h": 24,
            "value": 0.7767208814620972,
            "w": 15
           },
           {
            "h": 25,
            "value": 0.7993252873420715,
            "w": 15
           },
           {
            "h": 26,
            "value": 0.7450885772705078,
            "w": 15
           },
           {
            "h": 27,
            "value": 0.2918585240840912,
            "w": 15
           },
           {
            "h": 0,
            "value": 0,
            "w": 16
           },
           {
            "h": 1,
            "value": 0,
            "w": 16
           },
           {
            "h": 2,
            "value": 0,
            "w": 16
           },
           {
            "h": 3,
            "value": 0,
            "w": 16
           },
           {
            "h": 4,
            "value": 0,
            "w": 16
           },
           {
            "h": 5,
            "value": 0,
            "w": 16
           },
           {
            "h": 6,
            "value": 0.00030592677649110556,
            "w": 16
           },
           {
            "h": 7,
            "value": 0.0037823794409632683,
            "w": 16
           },
           {
            "h": 8,
            "value": 0.0005218781880103052,
            "w": 16
           },
           {
            "h": 9,
            "value": 0.048224132508039474,
            "w": 16
           },
           {
            "h": 10,
            "value": 0.3476828932762146,
            "w": 16
           },
           {
            "h": 11,
            "value": 0.5969353914260864,
            "w": 16
           },
           {
            "h": 12,
            "value": 0.799881637096405,
            "w": 16
           },
           {
            "h": 13,
            "value": 0.8693111538887024,
            "w": 16
           },
           {
            "h": 14,
            "value": 0.8810908198356628,
            "w": 16
           },
           {
            "h": 15,
            "value": 0.8947902917861938,
            "w": 16
           },
           {
            "h": 16,
            "value": 0.866658091545105,
            "w": 16
           },
           {
            "h": 17,
            "value": 0.8668662905693054,
            "w": 16
           },
           {
            "h": 18,
            "value": 0.8204063177108765,
            "w": 16
           },
           {
            "h": 19,
            "value": 0.7991495728492737,
            "w": 16
           },
           {
            "h": 20,
            "value": 0.8707621097564697,
            "w": 16
           },
           {
            "h": 21,
            "value": 0.6000060439109802,
            "w": 16
           },
           {
            "h": 22,
            "value": 0.7294300198554993,
            "w": 16
           },
           {
            "h": 23,
            "value": 0.8977734446525574,
            "w": 16
           },
           {
            "h": 24,
            "value": 0.7891427874565125,
            "w": 16
           },
           {
            "h": 25,
            "value": 0.7844979763031006,
            "w": 16
           },
           {
            "h": 26,
            "value": 0.7910841703414917,
            "w": 16
           },
           {
            "h": 27,
            "value": 0.5508145093917847,
            "w": 16
           },
           {
            "h": 0,
            "value": 0,
            "w": 17
           },
           {
            "h": 1,
            "value": 0,
            "w": 17
           },
           {
            "h": 2,
            "value": 0,
            "w": 17
           },
           {
            "h": 3,
            "value": 0,
            "w": 17
           },
           {
            "h": 4,
            "value": 0.0003697057836689055,
            "w": 17
           },
           {
            "h": 5,
            "value": 0.003906408790498972,
            "w": 17
           },
           {
            "h": 6,
            "value": 0.014280719682574272,
            "w": 17
           },
           {
            "h": 7,
            "value": 0.012804153375327587,
            "w": 17
           },
           {
            "h": 8,
            "value": 0.026296135038137436,
            "w": 17
           },
           {
            "h": 9,
            "value": 0.3258957266807556,
            "w": 17
           },
           {
            "h": 10,
            "value": 0.8327699899673462,
            "w": 17
           },
           {
            "h": 11,
            "value": 0.8434419631958008,
            "w": 17
           },
           {
            "h": 12,
            "value": 0.8883450627326965,
            "w": 17
           },
           {
            "h": 13,
            "value": 0.8532252311706543,
            "w": 17
           },
           {
            "h": 14,
            "value": 0.8569766283035278,
            "w": 17
           },
           {
            "h": 15,
            "value": 0.8876848816871643,
            "w": 17
           },
           {
            "h": 16,
            "value": 0.8822675943374634,
            "w": 17
           },
           {
            "h": 17,
            "value": 0.8628196120262146,
            "w": 17
           },
           {
            "h": 18,
            "value": 0.8459149599075317,
            "w": 17
           },
           {
            "h": 19,
            "value": 0.8647726774215698,
            "w": 17
           },
           {
            "h": 20,
            "value": 0.871695339679718,
            "w": 17
           },
           {
            "h": 21,
            "value": 0.7418172955513,
            "w": 17
           },
           {
            "h": 22,
            "value": 0.671773374080658,
            "w": 17
           },
           {
            "h": 23,
            "value": 0.9119487404823303,
            "w": 17
           },
           {
            "h": 24,
            "value": 0.7899910807609558,
            "w": 17
           },
           {
            "h": 25,
            "value": 0.7523550987243652,
            "w": 17
           },
           {
            "h": 26,
            "value": 0.8195486664772034,
            "w": 17
           },
           {
            "h": 27,
            "value": 0.7267476916313171,
            "w": 17
           },
           {
            "h": 0,
            "value": 0,
            "w": 18
           },
           {
            "h": 1,
            "value": 0,
            "w": 18
           },
           {
            "h": 2,
            "value": 0,
            "w": 18
           },
           {
            "h": 3,
            "value": 0,
            "w": 18
           },
           {
            "h": 4,
            "value": 0.00017642808961682022,
            "w": 18
           },
           {
            "h": 5,
            "value": 0.0018530910601839423,
            "w": 18
           },
           {
            "h": 6,
            "value": 0.0013201049296185374,
            "w": 18
           },
           {
            "h": 7,
            "value": 0.08747558295726776,
            "w": 18
           },
           {
            "h": 8,
            "value": 0.33916908502578735,
            "w": 18
           },
           {
            "h": 9,
            "value": 0.7333165407180786,
            "w": 18
           },
           {
            "h": 10,
            "value": 0.8826060891151428,
            "w": 18
           },
           {
            "h": 11,
            "value": 0.8797317743301392,
            "w": 18
           },
           {
            "h": 12,
            "value": 0.8512445688247681,
            "w": 18
           },
           {
            "h": 13,
            "value": 0.8442433476448059,
            "w": 18
           },
           {
            "h": 14,
            "value": 0.8521854877471924,
            "w": 18
           },
           {
            "h": 15,
            "value": 0.864005982875824,
            "w": 18
           },
           {
            "h": 16,
            "value": 0.9041269421577454,
            "w": 18
           },
           {
            "h": 17,
            "value": 0.8536373376846313,
            "w": 18
           },
           {
            "h": 18,
            "value": 0.8269962072372437,
            "w": 18
           },
           {
            "h": 19,
            "value": 0.8911864161491394,
            "w": 18
           },
           {
            "h": 20,
            "value": 0.9885148406028748,
            "w": 18
           },
           {
            "h": 21,
            "value": 0.7256955504417419,
            "w": 18
           },
           {
            "h": 22,
            "value": 0.7670246958732605,
            "w": 18
           },
           {
            "h": 23,
            "value": 0.8708732724189758,
            "w": 18
           },
           {
            "h": 24,
            "value": 0.8045654296875,
            "w": 18
           },
           {
            "h": 25,
            "value": 0.7624387145042419,
            "w": 18
           },
           {
            "h": 26,
            "value": 0.8001465797424316,
            "w": 18
           },
           {
            "h": 27,
            "value": 0.7432242631912231,
            "w": 18
           },
           {
            "h": 0,
            "value": 0,
            "w": 19
           },
           {
            "h": 1,
            "value": 0,
            "w": 19
           },
           {
            "h": 2,
            "value": 0,
            "w": 19
           },
           {
            "h": 3,
            "value": 0,
            "w": 19
           },
           {
            "h": 4,
            "value": 0,
            "w": 19
           },
           {
            "h": 5,
            "value": 0,
            "w": 19
           },
           {
            "h": 6,
            "value": 0.06421296298503876,
            "w": 19
           },
           {
            "h": 7,
            "value": 0.3375284671783447,
            "w": 19
           },
           {
            "h": 8,
            "value": 0.6835167407989502,
            "w": 19
           },
           {
            "h": 9,
            "value": 0.8836240172386169,
            "w": 19
           },
           {
            "h": 10,
            "value": 0.8814610242843628,
            "w": 19
           },
           {
            "h": 11,
            "value": 0.9014879465103149,
            "w": 19
           },
           {
            "h": 12,
            "value": 0.8679567575454712,
            "w": 19
           },
           {
            "h": 13,
            "value": 0.8158883452415466,
            "w": 19
           },
           {
            "h": 14,
            "value": 0.7843675017356873,
            "w": 19
           },
           {
            "h": 15,
            "value": 0.7927402853965759,
            "w": 19
           },
           {
            "h": 16,
            "value": 0.9121073484420776,
            "w": 19
           },
           {
            "h": 17,
            "value": 0.8768064975738525,
            "w": 19
           },
           {
            "h": 18,
            "value": 0.8409028053283691,
            "w": 19
           },
           {
            "h": 19,
            "value": 0.8801191449165344,
            "w": 19
           },
           {
            "h": 20,
            "value": 0.9664067625999451,
            "w": 19
           },
           {
            "h": 21,
            "value": 0.786464512348175,
            "w": 19
           },
           {
            "h": 22,
            "value": 0.7728770971298218,
            "w": 19
           },
           {
            "h": 23,
            "value": 0.8619818687438965,
            "w": 19
           },
           {
            "h": 24,
            "value": 0.8044575452804565,
            "w": 19
           },
           {
            "h": 25,
            "value": 0.7289160490036011,
            "w": 19
           },
           {
            "h": 26,
            "value": 0.748420774936676,
            "w": 19
           },
           {
            "h": 27,
            "value": 0.7281330823898315,
            "w": 19
           },
           {
            "h": 0,
            "value": 0,
            "w": 20
           },
           {
            "h": 1,
            "value": 0,
            "w": 20
           },
           {
            "h": 2,
            "value": 0,
            "w": 20
           },
           {
            "h": 3,
            "value": 0,
            "w": 20
           },
           {
            "h": 4,
            "value": 0,
            "w": 20
           },
           {
            "h": 5,
            "value": 0.005229337140917778,
            "w": 20
           },
           {
            "h": 6,
            "value": 0.11656467616558075,
            "w": 20
           },
           {
            "h": 7,
            "value": 0.5634168982505798,
            "w": 20
           },
           {
            "h": 8,
            "value": 0.7565056681632996,
            "w": 20
           },
           {
            "h": 9,
            "value": 0.830858051776886,
            "w": 20
           },
           {
            "h": 10,
            "value": 0.8489559292793274,
            "w": 20
           },
           {
            "h": 11,
            "value": 0.8975883722305298,
            "w": 20
           },
           {
            "h": 12,
            "value": 0.8938063979148865,
            "w": 20
           },
           {
            "h": 13,
            "value": 0.7966617345809937,
            "w": 20
           },
           {
            "h": 14,
            "value": 0.7082464694976807,
            "w": 20
           },
           {
            "h": 15,
            "value": 0.7306252717971802,
            "w": 20
           },
           {
            "h": 16,
            "value": 0.8478481769561768,
            "w": 20
           },
           {
            "h": 17,
            "value": 0.8618133664131165,
            "w": 20
           },
           {
            "h": 18,
            "value": 0.8618639707565308,
            "w": 20
           },
           {
            "h": 19,
            "value": 0.8501965403556824,
            "w": 20
           },
           {
            "h": 20,
            "value": 0.7775149941444397,
            "w": 20
           },
           {
            "h": 21,
            "value": 0.8528813123703003,
            "w": 20
           },
           {
            "h": 22,
            "value": 0.7955865859985352,
            "w": 20
           },
           {
            "h": 23,
            "value": 0.845429539680481,
            "w": 20
           },
           {
            "h": 24,
            "value": 0.8287986516952515,
            "w": 20
           },
           {
            "h": 25,
            "value": 0.7102662324905396,
            "w": 20
           },
           {
            "h": 26,
            "value": 0.6932086944580078,
            "w": 20
           },
           {
            "h": 27,
            "value": 0.7277556657791138,
            "w": 20
           },
           {
            "h": 0,
            "value": 0,
            "w": 21
           },
           {
            "h": 1,
            "value": 0,
            "w": 21
           },
           {
            "h": 2,
            "value": 0,
            "w": 21
           },
           {
            "h": 3,
            "value": 0,
            "w": 21
           },
           {
            "h": 4,
            "value": 0,
            "w": 21
           },
           {
            "h": 5,
            "value": 0,
            "w": 21
           },
           {
            "h": 6,
            "value": 0.17668475210666656,
            "w": 21
           },
           {
            "h": 7,
            "value": 0.43890586495399475,
            "w": 21
           },
           {
            "h": 8,
            "value": 0.556462824344635,
            "w": 21
           },
           {
            "h": 9,
            "value": 0.6668359041213989,
            "w": 21
           },
           {
            "h": 10,
            "value": 0.7682037353515625,
            "w": 21
           },
           {
            "h": 11,
            "value": 0.8669400215148926,
            "w": 21
           },
           {
            "h": 12,
            "value": 0.8951677680015564,
            "w": 21
           },
           {
            "h": 13,
            "value": 0.8477087616920471,
            "w": 21
           },
           {
            "h": 14,
            "value": 0.7808851599693298,
            "w": 21
           },
           {
            "h": 15,
            "value": 0.8698509931564331,
            "w": 21
           },
           {
            "h": 16,
            "value": 0.8568143844604492,
            "w": 21
           },
           {
            "h": 17,
            "value": 0.8485361933708191,
            "w": 21
           },
           {
            "h": 18,
            "value": 0.8481720685958862,
            "w": 21
           },
           {
            "h": 19,
            "value": 0.8762753009796143,
            "w": 21
           },
           {
            "h": 20,
            "value": 0.7400234341621399,
            "w": 21
           },
           {
            "h": 21,
            "value": 0.8867836594581604,
            "w": 21
           },
           {
            "h": 22,
            "value": 0.8324803113937378,
            "w": 21
           },
           {
            "h": 23,
            "value": 0.8357551097869873,
            "w": 21
           },
           {
            "h": 24,
            "value": 0.8381455540657043,
            "w": 21
           },
           {
            "h": 25,
            "value": 0.7553279399871826,
            "w": 21
           },
           {
            "h": 26,
            "value": 0.6489589810371399,
            "w": 21
           },
           {
            "h": 27,
            "value": 0.6805799007415771,
            "w": 21
           },
           {
            "h": 0,
            "value": 0,
            "w": 22
           },
           {
            "h": 1,
            "value": 0,
            "w": 22
           },
           {
            "h": 2,
            "value": 0,
            "w": 22
           },
           {
            "h": 3,
            "value": 0,
            "w": 22
           },
           {
            "h": 4,
            "value": 0,
            "w": 22
           },
           {
            "h": 5,
            "value": 0,
            "w": 22
           },
           {
            "h": 6,
            "value": 0.052944574505090714,
            "w": 22
           },
           {
            "h": 7,
            "value": 0.1070866584777832,
            "w": 22
           },
           {
            "h": 8,
            "value": 0.3375323712825775,
            "w": 22
           },
           {
            "h": 9,
            "value": 0.5395123958587646,
            "w": 22
           },
           {
            "h": 10,
            "value": 0.5145748257637024,
            "w": 22
           },
           {
            "h": 11,
            "value": 0.7768782377243042,
            "w": 22
           },
           {
            "h": 12,
            "value": 0.8761893510818481,
            "w": 22
           },
           {
            "h": 13,
            "value": 0.8882115483283997,
            "w": 22
           },
           {
            "h": 14,
            "value": 0.8309264779090881,
            "w": 22
           },
           {
            "h": 15,
            "value": 0.8261441588401794,
            "w": 22
           },
           {
            "h": 16,
            "value": 0.8380731344223022,
            "w": 22
           },
           {
            "h": 17,
            "value": 0.8589839935302734,
            "w": 22
           },
           {
            "h": 18,
            "value": 0.8729711174964905,
            "w": 22
           },
           {
            "h": 19,
            "value": 0.8744715452194214,
            "w": 22
           },
           {
            "h": 20,
            "value": 0.8820356130599976,
            "w": 22
           },
           {
            "h": 21,
            "value": 0.9266361594200134,
            "w": 22
           },
           {
            "h": 22,
            "value": 0.8339691758155823,
            "w": 22
           },
           {
            "h": 23,
            "value": 0.8325352668762207,
            "w": 22
           },
           {
            "h": 24,
            "value": 0.8732507824897766,
            "w": 22
           },
           {
            "h": 25,
            "value": 0.8317535519599915,
            "w": 22
           },
           {
            "h": 26,
            "value": 0.6960487961769104,
            "w": 22
           },
           {
            "h": 27,
            "value": 0.6691232323646545,
            "w": 22
           },
           {
            "h": 0,
            "value": 0,
            "w": 23
           },
           {
            "h": 1,
            "value": 0,
            "w": 23
           },
           {
            "h": 2,
            "value": 0,
            "w": 23
           },
           {
            "h": 3,
            "value": 0,
            "w": 23
           },
           {
            "h": 4,
            "value": 0,
            "w": 23
           },
           {
            "h": 5,
            "value": 0,
            "w": 23
           },
           {
            "h": 6,
            "value": 0,
            "w": 23
           },
           {
            "h": 7,
            "value": 0.010639172047376633,
            "w": 23
           },
           {
            "h": 8,
            "value": 0.1526658535003662,
            "w": 23
           },
           {
            "h": 9,
            "value": 0.4762442708015442,
            "w": 23
           },
           {
            "h": 10,
            "value": 0.590140700340271,
            "w": 23
           },
           {
            "h": 11,
            "value": 0.5963809490203857,
            "w": 23
           },
           {
            "h": 12,
            "value": 0.7625782489776611,
            "w": 23
           },
           {
            "h": 13,
            "value": 0.865405797958374,
            "w": 23
           },
           {
            "h": 14,
            "value": 0.8462035059928894,
            "w": 23
           },
           {
            "h": 15,
            "value": 0.8368704319000244,
            "w": 23
           },
           {
            "h": 16,
            "value": 0.8504990339279175,
            "w": 23
           },
           {
            "h": 17,
            "value": 0.8696136474609375,
            "w": 23
           },
           {
            "h": 18,
            "value": 0.9067836403846741,
            "w": 23
           },
           {
            "h": 19,
            "value": 0.8780183792114258,
            "w": 23
           },
           {
            "h": 20,
            "value": 0.8716983199119568,
            "w": 23
           },
           {
            "h": 21,
            "value": 0.9573655128479004,
            "w": 23
           },
           {
            "h": 22,
            "value": 0.8383693695068359,
            "w": 23
           },
           {
            "h": 23,
            "value": 0.8538591265678406,
            "w": 23
           },
           {
            "h": 24,
            "value": 0.8743376731872559,
            "w": 23
           },
           {
            "h": 25,
            "value": 0.8661800622940063,
            "w": 23
           },
           {
            "h": 26,
            "value": 0.8001653552055359,
            "w": 23
           },
           {
            "h": 27,
            "value": 0.7371500730514526,
            "w": 23
           },
           {
            "h": 0,
            "value": 0,
            "w": 24
           },
           {
            "h": 1,
            "value": 0,
            "w": 24
           },
           {
            "h": 2,
            "value": 0,
            "w": 24
           },
           {
            "h": 3,
            "value": 0,
            "w": 24
           },
           {
            "h": 4,
            "value": 0,
            "w": 24
           },
           {
            "h": 5,
            "value": 0,
            "w": 24
           },
           {
            "h": 6,
            "value": 0,
            "w": 24
           },
           {
            "h": 7,
            "value": 0.0022658277302980423,
            "w": 24
           },
           {
            "h": 8,
            "value": 0.0023680925369262695,
            "w": 24
           },
           {
            "h": 9,
            "value": 0.14584718644618988,
            "w": 24
           },
           {
            "h": 10,
            "value": 0.3692963719367981,
            "w": 24
           },
           {
            "h": 11,
            "value": 0.5394275784492493,
            "w": 24
           },
           {
            "h": 12,
            "value": 0.6083044409751892,
            "w": 24
           },
           {
            "h": 13,
            "value": 0.8452004790306091,
            "w": 24
           },
           {
            "h": 14,
            "value": 0.864001452922821,
            "w": 24
           },
           {
            "h": 15,
            "value": 0.838981032371521,
            "w": 24
           },
           {
            "h": 16,
            "value": 0.8741521239280701,
            "w": 24
           },
           {
            "h": 17,
            "value": 0.867464542388916,
            "w": 24
           },
           {
            "h": 18,
            "value": 0.8640803098678589,
            "w": 24
           },
           {
            "h": 19,
            "value": 0.8457639813423157,
            "w": 24
           },
           {
            "h": 20,
            "value": 0.8593703508377075,
            "w": 24
           },
           {
            "h": 21,
            "value": 0.9088598489761353,
            "w": 24
           },
           {
            "h": 22,
            "value": 0.8884286880493164,
            "w": 24
           },
           {
            "h": 23,
            "value": 0.8873277902603149,
            "w": 24
           },
           {
            "h": 24,
            "value": 0.8851204514503479,
            "w": 24
           },
           {
            "h": 25,
            "value": 0.881663978099823,
            "w": 24
           },
           {
            "h": 26,
            "value": 0.8562159538269043,
            "w": 24
           },
           {
            "h": 27,
            "value": 0.7944074869155884,
            "w": 24
           },
           {
            "h": 0,
            "value": 0,
            "w": 25
           },
           {
            "h": 1,
            "value": 0,
            "w": 25
           },
           {
            "h": 2,
            "value": 0,
            "w": 25
           },
           {
            "h": 3,
            "value": 0,
            "w": 25
           },
           {
            "h": 4,
            "value": 0,
            "w": 25
           },
           {
            "h": 5,
            "value": 0,
            "w": 25
           },
           {
            "h": 6,
            "value": 0,
            "w": 25
           },
           {
            "h": 7,
            "value": 0.004270338919013739,
            "w": 25
           },
           {
            "h": 8,
            "value": 0.010059939697384834,
            "w": 25
           },
           {
            "h": 9,
            "value": 0.008892303332686424,
            "w": 25
           },
           {
            "h": 10,
            "value": 0.06966698914766312,
            "w": 25
           },
           {
            "h": 11,
            "value": 0.3949415683746338,
            "w": 25
           },
           {
            "h": 12,
            "value": 0.4756244719028473,
            "w": 25
           },
           {
            "h": 13,
            "value": 0.6425225138664246,
            "w": 25
           },
           {
            "h": 14,
            "value": 0.8359782099723816,
            "w": 25
           },
           {
            "h": 15,
            "value": 0.8630200028419495,
            "w": 25
           },
           {
            "h": 16,
            "value": 0.8438631892204285,
            "w": 25
           },
           {
            "h": 17,
            "value": 0.8832482099533081,
            "w": 25
           },
           {
            "h": 18,
            "value": 0.8854824900627136,
            "w": 25
           },
           {
            "h": 19,
            "value": 0.8589109182357788,
            "w": 25
           },
           {
            "h": 20,
            "value": 0.9181009531021118,
            "w": 25
           },
           {
            "h": 21,
            "value": 0.9376118183135986,
            "w": 25
           },
           {
            "h": 22,
            "value": 0.9180004000663757,
            "w": 25
           },
           {
            "h": 23,
            "value": 0.9263313412666321,
            "w": 25
           },
           {
            "h": 24,
            "value": 0.8858643174171448,
            "w": 25
           },
           {
            "h": 25,
            "value": 0.6992617845535278,
            "w": 25
           },
           {
            "h": 26,
            "value": 0.5096724629402161,
            "w": 25
           },
           {
            "h": 27,
            "value": 0.4549592137336731,
            "w": 25
           },
           {
            "h": 0,
            "value": 0,
            "w": 26
           },
           {
            "h": 1,
            "value": 0,
            "w": 26
           },
           {
            "h": 2,
            "value": 0,
            "w": 26
           },
           {
            "h": 3,
            "value": 0,
            "w": 26
           },
           {
            "h": 4,
            "value": 0,
            "w": 26
           },
           {
            "h": 5,
            "value": 0,
            "w": 26
           },
           {
            "h": 6,
            "value": 0,
            "w": 26
           },
           {
            "h": 7,
            "value": 0,
            "w": 26
           },
           {
            "h": 8,
            "value": 0,
            "w": 26
           },
           {
            "h": 9,
            "value": 0.0013893775176256895,
            "w": 26
           },
           {
            "h": 10,
            "value": 0.0007193743367679417,
            "w": 26
           },
           {
            "h": 11,
            "value": 0.15908649563789368,
            "w": 26
           },
           {
            "h": 12,
            "value": 0.39488518238067627,
            "w": 26
           },
           {
            "h": 13,
            "value": 0.5359253287315369,
            "w": 26
           },
           {
            "h": 14,
            "value": 0.6805387735366821,
            "w": 26
           },
           {
            "h": 15,
            "value": 0.869692325592041,
            "w": 26
           },
           {
            "h": 16,
            "value": 0.8706444501876831,
            "w": 26
           },
           {
            "h": 17,
            "value": 0.8384626507759094,
            "w": 26
           },
           {
            "h": 18,
            "value": 0.6758109331130981,
            "w": 26
           },
           {
            "h": 19,
            "value": 0.8339591026306152,
            "w": 26
           },
           {
            "h": 20,
            "value": 0.7369986176490784,
            "w": 26
           },
           {
            "h": 21,
            "value": 0.7109381556510925,
            "w": 26
           },
           {
            "h": 22,
            "value": 0.741608738899231,
            "w": 26
           },
           {
            "h": 23,
            "value": 0.5028843283653259,
            "w": 26
           },
           {
            "h": 24,
            "value": 0.1506289541721344,
            "w": 26
           },
           {
            "h": 25,
            "value": 0.08620510995388031,
            "w": 26
           },
           {
            "h": 26,
            "value": 0.21666543185710907,
            "w": 26
           },
           {
            "h": 27,
            "value": 0.38011956214904785,
            "w": 26
           },
           {
            "h": 0,
            "value": 0,
            "w": 27
           },
           {
            "h": 1,
            "value": 0,
            "w": 27
           },
           {
            "h": 2,
            "value": 0,
            "w": 27
           },
           {
            "h": 3,
            "value": 0,
            "w": 27
           },
           {
            "h": 4,
            "value": 0,
            "w": 27
           },
           {
            "h": 5,
            "value": 0,
            "w": 27
           },
           {
            "h": 6,
            "value": 0,
            "w": 27
           },
           {
            "h": 7,
            "value": 0,
            "w": 27
           },
           {
            "h": 8,
            "value": 0,
            "w": 27
           },
           {
            "h": 9,
            "value": 0.003183466847985983,
            "w": 27
           },
           {
            "h": 10,
            "value": 0.00567563995718956,
            "w": 27
           },
           {
            "h": 11,
            "value": 0.03619839996099472,
            "w": 27
           },
           {
            "h": 12,
            "value": 0.28657370805740356,
            "w": 27
           },
           {
            "h": 13,
            "value": 0.5422890186309814,
            "w": 27
           },
           {
            "h": 14,
            "value": 0.5775454640388489,
            "w": 27
           },
           {
            "h": 15,
            "value": 0.918742299079895,
            "w": 27
           },
           {
            "h": 16,
            "value": 0.9418045282363892,
            "w": 27
           },
           {
            "h": 17,
            "value": 0.7923280596733093,
            "w": 27
           },
           {
            "h": 18,
            "value": 0.6091062426567078,
            "w": 27
           },
           {
            "h": 19,
            "value": 0.43173131346702576,
            "w": 27
           },
           {
            "h": 20,
            "value": 0.21505945920944214,
            "w": 27
           },
           {
            "h": 21,
            "value": 0.16345864534378052,
            "w": 27
           },
           {
            "h": 22,
            "value": 0,
            "w": 27
           },
           {
            "h": 23,
            "value": 0,
            "w": 27
           },
           {
            "h": 24,
            "value": 0,
            "w": 27
           },
           {
            "h": 25,
            "value": 0.04521045461297035,
            "w": 27
           },
           {
            "h": 26,
            "value": 0.16294829547405243,
            "w": 27
           },
           {
            "h": 27,
            "value": 0.31226634979248047,
            "w": 27
           }
          ]
         },
         "encoding": {
          "color": {
           "field": "value",
           "legend": null,
           "scale": {
            "scheme": "greys"
           },
           "sort": "descending",
           "type": "quantitative"
          },
          "tooltip": [
           {
            "field": "value",
            "type": "quantitative"
           }
          ],
          "x": {
           "axis": null,
           "field": "w",
           "type": "nominal"
          },
          "y": {
           "axis": null,
           "field": "h",
           "type": "nominal"
          }
         },
         "height": 350,
         "mark": "rect",
         "title": "",
         "width": 350
        },
        {
         "data": {
          "values": [
           {
            "h": 0,
            "value": 0,
            "w": 0
           },
           {
            "h": 1,
            "value": 0,
            "w": 0
           },
           {
            "h": 2,
            "value": 0,
            "w": 0
           },
           {
            "h": 3,
            "value": 0,
            "w": 0
           },
           {
            "h": 4,
            "value": 0,
            "w": 0
           },
           {
            "h": 5,
            "value": 0,
            "w": 0
           },
           {
            "h": 6,
            "value": 0,
            "w": 0
           },
           {
            "h": 7,
            "value": 0,
            "w": 0
           },
           {
            "h": 8,
            "value": 0,
            "w": 0
           },
           {
            "h": 9,
            "value": 0,
            "w": 0
           },
           {
            "h": 10,
            "value": 0,
            "w": 0
           },
           {
            "h": 11,
            "value": 0,
            "w": 0
           },
           {
            "h": 12,
            "value": 0,
            "w": 0
           },
           {
            "h": 13,
            "value": 0,
            "w": 0
           },
           {
            "h": 14,
            "value": 0,
            "w": 0
           },
           {
            "h": 15,
            "value": 0,
            "w": 0
           },
           {
            "h": 16,
            "value": 0,
            "w": 0
           },
           {
            "h": 17,
            "value": 0.007326342165470123,
            "w": 0
           },
           {
            "h": 18,
            "value": 0.002447626320645213,
            "w": 0
           },
           {
            "h": 19,
            "value": 0.10050540417432785,
            "w": 0
           },
           {
            "h": 20,
            "value": 0.32717597484588623,
            "w": 0
           },
           {
            "h": 21,
            "value": 0.5164350867271423,
            "w": 0
           },
           {
            "h": 22,
            "value": 0.4701968729496002,
            "w": 0
           },
           {
            "h": 23,
            "value": 0.32262706756591797,
            "w": 0
           },
           {
            "h": 24,
            "value": 0.09241104125976562,
            "w": 0
           },
           {
            "h": 25,
            "value": 0,
            "w": 0
           },
           {
            "h": 26,
            "value": 0.005242894869297743,
            "w": 0
           },
           {
            "h": 27,
            "value": 0.0026509363669902086,
            "w": 0
           },
           {
            "h": 0,
            "value": 0,
            "w": 1
           },
           {
            "h": 1,
            "value": 0,
            "w": 1
           },
           {
            "h": 2,
            "value": 0,
            "w": 1
           },
           {
            "h": 3,
            "value": 0,
            "w": 1
           },
           {
            "h": 4,
            "value": 0,
            "w": 1
           },
           {
            "h": 5,
            "value": 0,
            "w": 1
           },
           {
            "h": 6,
            "value": 0,
            "w": 1
           },
           {
            "h": 7,
            "value": 0,
            "w": 1
           },
           {
            "h": 8,
            "value": 0,
            "w": 1
           },
           {
            "h": 9,
            "value": 0,
            "w": 1
           },
           {
            "h": 10,
            "value": 0,
            "w": 1
           },
           {
            "h": 11,
            "value": 0,
            "w": 1
           },
           {
            "h": 12,
            "value": 0,
            "w": 1
           },
           {
            "h": 13,
            "value": 0,
            "w": 1
           },
           {
            "h": 14,
            "value": 0,
            "w": 1
           },
           {
            "h": 15,
            "value": 0,
            "w": 1
           },
           {
            "h": 16,
            "value": 0.0032007445115596056,
            "w": 1
           },
           {
            "h": 17,
            "value": 0.002010372467339039,
            "w": 1
           },
           {
            "h": 18,
            "value": 0.0005145150353200734,
            "w": 1
           },
           {
            "h": 19,
            "value": 0.44786325097084045,
            "w": 1
           },
           {
            "h": 20,
            "value": 0.7795206904411316,
            "w": 1
           },
           {
            "h": 21,
            "value": 0.8543423414230347,
            "w": 1
           },
           {
            "h": 22,
            "value": 0.8215620517730713,
            "w": 1
           },
           {
            "h": 23,
            "value": 0.7872616648674011,
            "w": 1
           },
           {
            "h": 24,
            "value": 0.5595985651016235,
            "w": 1
           },
           {
            "h": 25,
            "value": 0.09538912028074265,
            "w": 1
           },
           {
            "h": 26,
            "value": 0.0010491847060620785,
            "w": 1
           },
           {
            "h": 27,
            "value": 0.0005010419990867376,
            "w": 1
           },
           {
            "h": 0,
            "value": 0,
            "w": 2
           },
           {
            "h": 1,
            "value": 0,
            "w": 2
           },
           {
            "h": 2,
            "value": 0,
            "w": 2
           },
           {
            "h": 3,
            "value": 0,
            "w": 2
           },
           {
            "h": 4,
            "value": 0,
            "w": 2
           },
           {
            "h": 5,
            "value": 0,
            "w": 2
           },
           {
            "h": 6,
            "value": 0,
            "w": 2
           },
           {
            "h": 7,
            "value": 0,
            "w": 2
           },
           {
            "h": 8,
            "value": 0,
            "w": 2
           },
           {
            "h": 9,
            "value": 0,
            "w": 2
           },
           {
            "h": 10,
            "value": 0,
            "w": 2
           },
           {
            "h": 11,
            "value": 0,
            "w": 2
           },
           {
            "h": 12,
            "value": 0,
            "w": 2
           },
           {
            "h": 13,
            "value": 0,
            "w": 2
           },
           {
            "h": 14,
            "value": 0,
            "w": 2
           },
           {
            "h": 15,
            "value": 0,
            "w": 2
           },
           {
            "h": 16,
            "value": 0.014581887051463127,
            "w": 2
           },
           {
            "h": 17,
            "value": 0.0006418211269192398,
            "w": 2
           },
           {
            "h": 18,
            "value": 0,
            "w": 2
           },
           {
            "h": 19,
            "value": 0.7376803159713745,
            "w": 2
           },
           {
            "h": 20,
            "value": 0.8788960576057434,
            "w": 2
           },
           {
            "h": 21,
            "value": 0.8015512228012085,
            "w": 2
           },
           {
            "h": 22,
            "value": 0.8200850486755371,
            "w": 2
           },
           {
            "h": 23,
            "value": 0.7333247661590576,
            "w": 2
           },
           {
            "h": 24,
            "value": 0.8415058851242065,
            "w": 2
           },
           {
            "h": 25,
            "value": 0.32680174708366394,
            "w": 2
           },
           {
            "h": 26,
            "value": 0.024943094700574875,
            "w": 2
           },
           {
            "h": 27,
            "value": 0,
            "w": 2
           },
           {
            "h": 0,
            "value": 0,
            "w": 3
           },
           {
            "h": 1,
            "value": 0,
            "w": 3
           },
           {
            "h": 2,
            "value": 0,
            "w": 3
           },
           {
            "h": 3,
            "value": 0,
            "w": 3
           },
           {
            "h": 4,
            "value": 0,
            "w": 3
           },
           {
            "h": 5,
            "value": 0,
            "w": 3
           },
           {
            "h": 6,
            "value": 0,
            "w": 3
           },
           {
            "h": 7,
            "value": 0,
            "w": 3
           },
           {
            "h": 8,
            "value": 0,
            "w": 3
           },
           {
            "h": 9,
            "value": 0,
            "w": 3
           },
           {
            "h": 10,
            "value": 0,
            "w": 3
           },
           {
            "h": 11,
            "value": 0,
            "w": 3
           },
           {
            "h": 12,
            "value": 0,
            "w": 3
           },
           {
            "h": 13,
            "value": 0,
            "w": 3
           },
           {
            "h": 14,
            "value": 0,
            "w": 3
           },
           {
            "h": 15,
            "value": 0.0019051412818953395,
            "w": 3
           },
           {
            "h": 16,
            "value": 0.021441621705889702,
            "w": 3
           },
           {
            "h": 17,
            "value": 0.003972009290009737,
            "w": 3
           },
           {
            "h": 18,
            "value": 0.10029313713312149,
            "w": 3
           },
           {
            "h": 19,
            "value": 0.8549339771270752,
            "w": 3
           },
           {
            "h": 20,
            "value": 0.8713570237159729,
            "w": 3
           },
           {
            "h": 21,
            "value": 0.8391777276992798,
            "w": 3
           },
           {
            "h": 22,
            "value": 0.7880909442901611,
            "w": 3
           },
           {
            "h": 23,
            "value": 0.7717617750167847,
            "w": 3
           },
           {
            "h": 24,
            "value": 0.7542930841445923,
            "w": 3
           },
           {
            "h": 25,
            "value": 0.6984161734580994,
            "w": 3
           },
           {
            "h": 26,
            "value": 0,
            "w": 3
           },
           {
            "h": 27,
            "value": 0,
            "w": 3
           },
           {
            "h": 0,
            "value": 0,
            "w": 4
           },
           {
            "h": 1,
            "value": 0,
            "w": 4
           },
           {
            "h": 2,
            "value": 0,
            "w": 4
           },
           {
            "h": 3,
            "value": 0,
            "w": 4
           },
           {
            "h": 4,
            "value": 0,
            "w": 4
           },
           {
            "h": 5,
            "value": 0,
            "w": 4
           },
           {
            "h": 6,
            "value": 0,
            "w": 4
           },
           {
            "h": 7,
            "value": 0,
            "w": 4
           },
           {
            "h": 8,
            "value": 0,
            "w": 4
           },
           {
            "h": 9,
            "value": 0,
            "w": 4
           },
           {
            "h": 10,
            "value": 0,
            "w": 4
           },
           {
            "h": 11,
            "value": 0,
            "w": 4
           },
           {
            "h": 12,
            "value": 0,
            "w": 4
           },
           {
            "h": 13,
            "value": 0,
            "w": 4
           },
           {
            "h": 14,
            "value": 0,
            "w": 4
           },
           {
            "h": 15,
            "value": 0.005094119813293219,
            "w": 4
           },
           {
            "h": 16,
            "value": 0.022137030959129333,
            "w": 4
           },
           {
            "h": 17,
            "value": 0.028067445382475853,
            "w": 4
           },
           {
            "h": 18,
            "value": 0.2702890932559967,
            "w": 4
           },
           {
            "h": 19,
            "value": 0.8665680289268494,
            "w": 4
           },
           {
            "h": 20,
            "value": 0.8533350825309753,
            "w": 4
           },
           {
            "h": 21,
            "value": 0.8644761443138123,
            "w": 4
           },
           {
            "h": 22,
            "value": 0.7766098976135254,
            "w": 4
           },
           {
            "h": 23,
            "value": 0.8076240420341492,
            "w": 4
           },
           {
            "h": 24,
            "value": 0.7180894613265991,
            "w": 4
           },
           {
            "h": 25,
            "value": 0.7489095330238342,
            "w": 4
           },
           {
            "h": 26,
            "value": 0.1838572919368744,
            "w": 4
           },
           {
            "h": 27,
            "value": 0,
            "w": 4
           },
           {
            "h": 0,
            "value": 0,
            "w": 5
           },
           {
            "h": 1,
            "value": 0,
            "w": 5
           },
           {
            "h": 2,
            "value": 0,
            "w": 5
           },
           {
            "h": 3,
            "value": 0,
            "w": 5
           },
           {
            "h": 4,
            "value": 0,
            "w": 5
           },
           {
            "h": 5,
            "value": 0,
            "w": 5
           },
           {
            "h": 6,
            "value": 0,
            "w": 5
           },
           {
            "h": 7,
            "value": 0,
            "w": 5
           },
           {
            "h": 8,
            "value": 0,
            "w": 5
           },
           {
            "h": 9,
            "value": 0,
            "w": 5
           },
           {
            "h": 10,
            "value": 0,
            "w": 5
           },
           {
            "h": 11,
            "value": 0,
            "w": 5
           },
           {
            "h": 12,
            "value": 0,
            "w": 5
           },
           {
            "h": 13,
            "value": 0,
            "w": 5
           },
           {
            "h": 14,
            "value": 0,
            "w": 5
           },
           {
            "h": 15,
            "value": 0.002284283982589841,
            "w": 5
           },
           {
            "h": 16,
            "value": 0.006332291755825281,
            "w": 5
           },
           {
            "h": 17,
            "value": 0.08692099899053574,
            "w": 5
           },
           {
            "h": 18,
            "value": 0.45016753673553467,
            "w": 5
           },
           {
            "h": 19,
            "value": 0.8606898188591003,
            "w": 5
           },
           {
            "h": 20,
            "value": 0.8468496203422546,
            "w": 5
           },
           {
            "h": 21,
            "value": 0.8751230239868164,
            "w": 5
           },
           {
            "h": 22,
            "value": 0.7970023155212402,
            "w": 5
           },
           {
            "h": 23,
            "value": 0.7431999444961548,
            "w": 5
           },
           {
            "h": 24,
            "value": 0.6907082200050354,
            "w": 5
           },
           {
            "h": 25,
            "value": 0.7521529197692871,
            "w": 5
           },
           {
            "h": 26,
            "value": 0.5201347470283508,
            "w": 5
           },
           {
            "h": 27,
            "value": 0,
            "w": 5
           },
           {
            "h": 0,
            "value": 0,
            "w": 6
           },
           {
            "h": 1,
            "value": 0,
            "w": 6
           },
           {
            "h": 2,
            "value": 0,
            "w": 6
           },
           {
            "h": 3,
            "value": 0,
            "w": 6
           },
           {
            "h": 4,
            "value": 0,
            "w": 6
           },
           {
            "h": 5,
            "value": 0,
            "w": 6
           },
           {
            "h": 6,
            "value": 0,
            "w": 6
           },
           {
            "h": 7,
            "value": 0,
            "w": 6
           },
           {
            "h": 8,
            "value": 0,
            "w": 6
           },
           {
            "h": 9,
            "value": 0,
            "w": 6
           },
           {
            "h": 10,
            "value": 0,
            "w": 6
           },
           {
            "h": 11,
            "value": 0,
            "w": 6
           },
           {
            "h": 12,
            "value": 0,
            "w": 6
           },
           {
            "h": 13,
            "value": 0,
            "w": 6
           },
           {
            "h": 14,
            "value": 0,
            "w": 6
           },
           {
            "h": 15,
            "value": 0,
            "w": 6
           },
           {
            "h": 16,
            "value": 0.00031361551373265684,
            "w": 6
           },
           {
            "h": 17,
            "value": 0.1638154238462448,
            "w": 6
           },
           {
            "h": 18,
            "value": 0.5686365962028503,
            "w": 6
           },
           {
            "h": 19,
            "value": 0.8386003375053406,
            "w": 6
           },
           {
            "h": 20,
            "value": 0.8619371056556702,
            "w": 6
           },
           {
            "h": 21,
            "value": 0.8831332325935364,
            "w": 6
           },
           {
            "h": 22,
            "value": 0.7996159195899963,
            "w": 6
           },
           {
            "h": 23,
            "value": 0.7268733978271484,
            "w": 6
           },
           {
            "h": 24,
            "value": 0.7069429755210876,
            "w": 6
           },
           {
            "h": 25,
            "value": 0.7527629733085632,
            "w": 6
           },
           {
            "h": 26,
            "value": 0.5548645257949829,
            "w": 6
           },
           {
            "h": 27,
            "value": 0,
            "w": 6
           },
           {
            "h": 0,
            "value": 0,
            "w": 7
           },
           {
            "h": 1,
            "value": 0,
            "w": 7
           },
           {
            "h": 2,
            "value": 0,
            "w": 7
           },
           {
            "h": 3,
            "value": 0,
            "w": 7
           },
           {
            "h": 4,
            "value": 0,
            "w": 7
           },
           {
            "h": 5,
            "value": 0,
            "w": 7
           },
           {
            "h": 6,
            "value": 0,
            "w": 7
           },
           {
            "h": 7,
            "value": 0,
            "w": 7
           },
           {
            "h": 8,
            "value": 0,
            "w": 7
           },
           {
            "h": 9,
            "value": 0.0016174116171896458,
            "w": 7
           },
           {
            "h": 10,
            "value": 0.0010308687342330813,
            "w": 7
           },
           {
            "h": 11,
            "value": 0,
            "w": 7
           },
           {
            "h": 12,
            "value": 0.0008234413107857108,
            "w": 7
           },
           {
            "h": 13,
            "value": 0.00047213162179104984,
            "w": 7
           },
           {
            "h": 14,
            "value": 0.0012915991246700287,
            "w": 7
           },
           {
            "h": 15,
            "value": 0.00028347293846309185,
            "w": 7
           },
           {
            "h": 16,
            "value": 0,
            "w": 7
           },
           {
            "h": 17,
            "value": 0.3547731637954712,
            "w": 7
           },
           {
            "h": 18,
            "value": 0.7268102169036865,
            "w": 7
           },
           {
            "h": 19,
            "value": 0.8126459717750549,
            "w": 7
           },
           {
            "h": 20,
            "value": 0.8842010498046875,
            "w": 7
           },
           {
            "h": 21,
            "value": 0.9045273065567017,
            "w": 7
           },
           {
            "h": 22,
            "value": 0.8127151727676392,
            "w": 7
           },
           {
            "h": 23,
            "value": 0.7594888806343079,
            "w": 7
           },
           {
            "h": 24,
            "value": 0.7242074608802795,
            "w": 7
           },
           {
            "h": 25,
            "value": 0.7921323776245117,
            "w": 7
           },
           {
            "h": 26,
            "value": 0.5498058795928955,
            "w": 7
           },
           {
            "h": 27,
            "value": 0.05767678841948509,
            "w": 7
           },
           {
            "h": 0,
            "value": 0,
            "w": 8
           },
           {
            "h": 1,
            "value": 0,
            "w": 8
           },
           {
            "h": 2,
            "value": 0,
            "w": 8
           },
           {
            "h": 3,
            "value": 0,
            "w": 8
           },
           {
            "h": 4,
            "value": 0,
            "w": 8
           },
           {
            "h": 5,
            "value": 0,
            "w": 8
           },
           {
            "h": 6,
            "value": 0,
            "w": 8
           },
           {
            "h": 7,
            "value": 0,
            "w": 8
           },
           {
            "h": 8,
            "value": 0,
            "w": 8
           },
           {
            "h": 9,
            "value": 0.002691960660740733,
            "w": 8
           },
           {
            "h": 10,
            "value": 0.0012549550738185644,
            "w": 8
           },
           {
            "h": 11,
            "value": 0,
            "w": 8
           },
           {
            "h": 12,
            "value": 0.004566703923046589,
            "w": 8
           },
           {
            "h": 13,
            "value": 0.006052663084119558,
            "w": 8
           },
           {
            "h": 14,
            "value": 0.009951303713023663,
            "w": 8
           },
           {
            "h": 15,
            "value": 0.005348081700503826,
            "w": 8
           },
           {
            "h": 16,
            "value": 0.1432444304227829,
            "w": 8
           },
           {
            "h": 17,
            "value": 0.6201507449150085,
            "w": 8
           },
           {
            "h": 18,
            "value": 0.8345080018043518,
            "w": 8
           },
           {
            "h": 19,
            "value": 0.8110148310661316,
            "w": 8
           },
           {
            "h": 20,
            "value": 0.8775750994682312,
            "w": 8
           },
           {
            "h": 21,
            "value": 0.8560494184494019,
            "w": 8
           },
           {
            "h": 22,
            "value": 0.7824710011482239,
            "w": 8
           },
           {
            "h": 23,
            "value": 0.7855036854743958,
            "w": 8
           },
           {
            "h": 24,
            "value": 0.7332111597061157,
            "w": 8
           },
           {
            "h": 25,
            "value": 0.8316304087638855,
            "w": 8
           },
           {
            "h": 26,
            "value": 0.5237963199615479,
            "w": 8
           },
           {
            "h": 27,
            "value": 0.09116028249263763,
            "w": 8
           },
           {
            "h": 0,
            "value": 0,
            "w": 9
           },
           {
            "h": 1,
            "value": 0,
            "w": 9
           },
           {
            "h": 2,
            "value": 0,
            "w": 9
           },
           {
            "h": 3,
            "value": 0,
            "w": 9
           },
           {
            "h": 4,
            "value": 0.000895945297088474,
            "w": 9
           },
           {
            "h": 5,
            "value": 0.0016741004073992372,
            "w": 9
           },
           {
            "h": 6,
            "value": 0.0010162844555452466,
            "w": 9
           },
           {
            "h": 7,
            "value": 0,
            "w": 9
           },
           {
            "h": 8,
            "value": 0.002594653284177184,
            "w": 9
           },
           {
            "h": 9,
            "value": 0.003691677004098892,
            "w": 9
           },
           {
            "h": 10,
            "value": 0.000809806922916323,
            "w": 9
           },
           {
            "h": 11,
            "value": 0,
            "w": 9
           },
           {
            "h": 12,
            "value": 0.005818439647555351,
            "w": 9
           },
           {
            "h": 13,
            "value": 0.01559355203062296,
            "w": 9
           },
           {
            "h": 14,
            "value": 0.004705160856246948,
            "w": 9
           },
           {
            "h": 15,
            "value": 0,
            "w": 9
           },
           {
            "h": 16,
            "value": 0.40762290358543396,
            "w": 9
           },
           {
            "h": 17,
            "value": 0.7769414782524109,
            "w": 9
           },
           {
            "h": 18,
            "value": 0.8358786106109619,
            "w": 9
           },
           {
            "h": 19,
            "value": 0.8097019195556641,
            "w": 9
           },
           {
            "h": 20,
            "value": 0.812736988067627,
            "w": 9
           },
           {
            "h": 21,
            "value": 0.7655542492866516,
            "w": 9
           },
           {
            "h": 22,
            "value": 0.7547283172607422,
            "w": 9
           },
           {
            "h": 23,
            "value": 0.8053463697433472,
            "w": 9
           },
           {
            "h": 24,
            "value": 0.7436408996582031,
            "w": 9
           },
           {
            "h": 25,
            "value": 0.874753475189209,
            "w": 9
           },
           {
            "h": 26,
            "value": 0.42262640595436096,
            "w": 9
           },
           {
            "h": 27,
            "value": 0.06168394908308983,
            "w": 9
           },
           {
            "h": 0,
            "value": 0,
            "w": 10
           },
           {
            "h": 1,
            "value": 0,
            "w": 10
           },
           {
            "h": 2,
            "value": 0,
            "w": 10
           },
           {
            "h": 3,
            "value": 0,
            "w": 10
           },
           {
            "h": 4,
            "value": 0.0027148232329636812,
            "w": 10
           },
           {
            "h": 5,
            "value": 0.009544390253722668,
            "w": 10
           },
           {
            "h": 6,
            "value": 0.021806882694363594,
            "w": 10
           },
           {
            "h": 7,
            "value": 0.0016061676433309913,
            "w": 10
           },
           {
            "h": 8,
            "value": 0.0006710441084578633,
            "w": 10
           },
           {
            "h": 9,
            "value": 0.0011745922965928912,
            "w": 10
           },
           {
            "h": 10,
            "value": 0.00015061642625369132,
            "w": 10
           },
           {
            "h": 11,
            "value": 0,
            "w": 10
           },
           {
            "h": 12,
            "value": 0.015144359320402145,
            "w": 10
           },
           {
            "h": 13,
            "value": 0.0862237736582756,
            "w": 10
           },
           {
            "h": 14,
            "value": 0.03139355406165123,
            "w": 10
           },
           {
            "h": 15,
            "value": 0.01629764772951603,
            "w": 10
           },
           {
            "h": 16,
            "value": 0.6756796836853027,
            "w": 10
           },
           {
            "h": 17,
            "value": 0.8527868986129761,
            "w": 10
           },
           {
            "h": 18,
            "value": 0.8255429267883301,
            "w": 10
           },
           {
            "h": 19,
            "value": 0.8342640995979309,
            "w": 10
           },
           {
            "h": 20,
            "value": 0.8031182289123535,
            "w": 10
           },
           {
            "h": 21,
            "value": 0.7851719856262207,
            "w": 10
           },
           {
            "h": 22,
            "value": 0.7989411354064941,
            "w": 10
           },
           {
            "h": 23,
            "value": 0.8264301419258118,
            "w": 10
           },
           {
            "h": 24,
            "value": 0.7456035614013672,
            "w": 10
           },
           {
            "h": 25,
            "value": 0.9174540042877197,
            "w": 10
           },
           {
            "h": 26,
            "value": 0.395435631275177,
            "w": 10
           },
           {
            "h": 27,
            "value": 0.049645084887742996,
            "w": 10
           },
           {
            "h": 0,
            "value": 0,
            "w": 11
           },
           {
            "h": 1,
            "value": 0,
            "w": 11
           },
           {
            "h": 2,
            "value": 0,
            "w": 11
           },
           {
            "h": 3,
            "value": 0,
            "w": 11
           },
           {
            "h": 4,
            "value": 0.00219008419662714,
            "w": 11
           },
           {
            "h": 5,
            "value": 0.02292858436703682,
            "w": 11
           },
           {
            "h": 6,
            "value": 0.01415459718555212,
            "w": 11
           },
           {
            "h": 7,
            "value": 0.009947764687240124,
            "w": 11
           },
           {
            "h": 8,
            "value": 0.23238502442836761,
            "w": 11
           },
           {
            "h": 9,
            "value": 0.5430772304534912,
            "w": 11
           },
           {
            "h": 10,
            "value": 0.4170633554458618,
            "w": 11
           },
           {
            "h": 11,
            "value": 0.35446956753730774,
            "w": 11
           },
           {
            "h": 12,
            "value": 0.335938423871994,
            "w": 11
           },
           {
            "h": 13,
            "value": 0.5245283842086792,
            "w": 11
           },
           {
            "h": 14,
            "value": 0.3062666356563568,
            "w": 11
           },
           {
            "h": 15,
            "value": 0.9205518364906311,
            "w": 11
           },
           {
            "h": 16,
            "value": 0.883762538433075,
            "w": 11
           },
           {
            "h": 17,
            "value": 0.8556426763534546,
            "w": 11
           },
           {
            "h": 18,
            "value": 0.7977946996688843,
            "w": 11
           },
           {
            "h": 19,
            "value": 0.90256267786026,
            "w": 11
           },
           {
            "h": 20,
            "value": 0.8488820195198059,
            "w": 11
           },
           {
            "h": 21,
            "value": 0.7998749017715454,
            "w": 11
           },
           {
            "h": 22,
            "value": 0.8410727381706238,
            "w": 11
           },
           {
            "h": 23,
            "value": 0.8151784539222717,
            "w": 11
           },
           {
            "h": 24,
            "value": 0.7423872351646423,
            "w": 11
           },
           {
            "h": 25,
            "value": 0.9376747012138367,
            "w": 11
           },
           {
            "h": 26,
            "value": 0.25295528769493103,
            "w": 11
           },
           {
            "h": 27,
            "value": 0.018160127103328705,
            "w": 11
           },
           {
            "h": 0,
            "value": 0,
            "w": 12
           },
           {
            "h": 1,
            "value": 0,
            "w": 12
           },
           {
            "h": 2,
            "value": 0,
            "w": 12
           },
           {
            "h": 3,
            "value": 0.003369211219251156,
            "w": 12
           },
           {
            "h": 4,
            "value": 0.052445799112319946,
            "w": 12
           },
           {
            "h": 5,
            "value": 0.23994839191436768,
            "w": 12
           },
           {
            "h": 6,
            "value": 0.4440985918045044,
            "w": 12
           },
           {
            "h": 7,
            "value": 0.5880807042121887,
            "w": 12
           },
           {
            "h": 8,
            "value": 0.7306671142578125,
            "w": 12
           },
           {
            "h": 9,
            "value": 0.8650163412094116,
            "w": 12
           },
           {
            "h": 10,
            "value": 0.8153389096260071,
            "w": 12
           },
           {
            "h": 11,
            "value": 0.8252463340759277,
            "w": 12
           },
           {
            "h": 12,
            "value": 0.868267297744751,
            "w": 12
           },
           {
            "h": 13,
            "value": 0.9345905184745789,
            "w": 12
           },
           {
            "h": 14,
            "value": 0.9174324870109558,
            "w": 12
           },
           {
            "h": 15,
            "value": 0.8785055875778198,
            "w": 12
           },
           {
            "h": 16,
            "value": 0.826477587223053,
            "w": 12
           },
           {
            "h": 17,
            "value": 0.8590002655982971,
            "w": 12
           },
           {
            "h": 18,
            "value": 0.6645702719688416,
            "w": 12
           },
           {
            "h": 19,
            "value": 0.6179555654525757,
            "w": 12
           },
           {
            "h": 20,
            "value": 0.8860434293746948,
            "w": 12
           },
           {
            "h": 21,
            "value": 0.7997508645057678,
            "w": 12
           },
           {
            "h": 22,
            "value": 0.8585728406906128,
            "w": 12
           },
           {
            "h": 23,
            "value": 0.8227503895759583,
            "w": 12
           },
           {
            "h": 24,
            "value": 0.750510036945343,
            "w": 12
           },
           {
            "h": 25,
            "value": 0.926093578338623,
            "w": 12
           },
           {
            "h": 26,
            "value": 0.13857537508010864,
            "w": 12
           },
           {
            "h": 27,
            "value": 0,
            "w": 12
           },
           {
            "h": 0,
            "value": 0,
            "w": 13
           },
           {
            "h": 1,
            "value": 0,
            "w": 13
           },
           {
            "h": 2,
            "value": 0,
            "w": 13
           },
           {
            "h": 3,
            "value": 0.039877355098724365,
            "w": 13
           },
           {
            "h": 4,
            "value": 0.22833441197872162,
            "w": 13
           },
           {
            "h": 5,
            "value": 0.6003770232200623,
            "w": 13
           },
           {
            "h": 6,
            "value": 0.8319116234779358,
            "w": 13
           },
           {
            "h": 7,
            "value": 0.8889464139938354,
            "w": 13
           },
           {
            "h": 8,
            "value": 0.8741723299026489,
            "w": 13
           },
           {
            "h": 9,
            "value": 0.8967249393463135,
            "w": 13
           },
           {
            "h": 10,
            "value": 0.8646821975708008,
            "w": 13
           },
           {
            "h": 11,
            "value": 0.8696063160896301,
            "w": 13
           },
           {
            "h": 12,
            "value": 0.8557813763618469,
            "w": 13
           },
           {
            "h": 13,
            "value": 0.8749886155128479,
            "w": 13
           },
           {
            "h": 14,
            "value": 0.8858394622802734,
            "w": 13
           },
           {
            "h": 15,
            "value": 0.847604513168335,
            "w": 13
           },
           {
            "h": 16,
            "value": 0.8249539136886597,
            "w": 13
           },
           {
            "h": 17,
            "value": 0.8229897618293762,
            "w": 13
           },
           {
            "h": 18,
            "value": 0.7771636843681335,
            "w": 13
           },
           {
            "h": 19,
            "value": 0.4834215044975281,
            "w": 13
           },
           {
            "h": 20,
            "value": 0.6895101070404053,
            "w": 13
           },
           {
            "h": 21,
            "value": 0.8684201240539551,
            "w": 13
           },
           {
            "h": 22,
            "value": 0.8572958111763,
            "w": 13
           },
           {
            "h": 23,
            "value": 0.806701123714447,
            "w": 13
           },
           {
            "h": 24,
            "value": 0.7579579949378967,
            "w": 13
           },
           {
            "h": 25,
            "value": 0.7492925524711609,
            "w": 13
           },
           {
            "h": 26,
            "value": 0.0292067751288414,
            "w": 13
           },
           {
            "h": 27,
            "value": 0,
            "w": 13
           },
           {
            "h": 0,
            "value": 0,
            "w": 14
           },
           {
            "h": 1,
            "value": 0,
            "w": 14
           },
           {
            "h": 2,
            "value": 0,
            "w": 14
           },
           {
            "h": 3,
            "value": 0.07494182139635086,
            "w": 14
           },
           {
            "h": 4,
            "value": 0.3046528398990631,
            "w": 14
           },
           {
            "h": 5,
            "value": 0.5453957319259644,
            "w": 14
           },
           {
            "h": 6,
            "value": 0.7350346446037292,
            "w": 14
           },
           {
            "h": 7,
            "value": 0.8358396291732788,
            "w": 14
           },
           {
            "h": 8,
            "value": 0.8791912198066711,
            "w": 14
           },
           {
            "h": 9,
            "value": 0.8952229619026184,
            "w": 14
           },
           {
            "h": 10,
            "value": 0.8557597994804382,
            "w": 14
           },
           {
            "h": 11,
            "value": 0.8446286916732788,
            "w": 14
           },
           {
            "h": 12,
            "value": 0.8465064764022827,
            "w": 14
           },
           {
            "h": 13,
            "value": 0.8744140267372131,
            "w": 14
           },
           {
            "h": 14,
            "value": 0.8920599818229675,
            "w": 14
           },
           {
            "h": 15,
            "value": 0.8717629909515381,
            "w": 14
           },
           {
            "h": 16,
            "value": 0.8431363105773926,
            "w": 14
           },
           {
            "h": 17,
            "value": 0.800963819026947,
            "w": 14
           },
           {
            "h": 18,
            "value": 0.8367475867271423,
            "w": 14
           },
           {
            "h": 19,
            "value": 0.6472577452659607,
            "w": 14
           },
           {
            "h": 20,
            "value": 0.4454522728919983,
            "w": 14
           },
           {
            "h": 21,
            "value": 0.8849663734436035,
            "w": 14
           },
           {
            "h": 22,
            "value": 0.8485694527626038,
            "w": 14
           },
           {
            "h": 23,
            "value": 0.7762039303779602,
            "w": 14
           },
           {
            "h": 24,
            "value": 0.7851402163505554,
            "w": 14
           },
           {
            "h": 25,
            "value": 0.6352931261062622,
            "w": 14
           },
           {
            "h": 26,
            "value": 0,
            "w": 14
           },
           {
            "h": 27,
            "value": 0,
            "w": 14
           },
           {
            "h": 0,
            "value": 0,
            "w": 15
           },
           {
            "h": 1,
            "value": 0,
            "w": 15
           },
           {
            "h": 2,
            "value": 0,
            "w": 15
           },
           {
            "h": 3,
            "value": 0,
            "w": 15
           },
           {
            "h": 4,
            "value": 0.12101966887712479,
            "w": 15
           },
           {
            "h": 5,
            "value": 0.3867987394332886,
            "w": 15
           },
           {
            "h": 6,
            "value": 0.610797107219696,
            "w": 15
           },
           {
            "h": 7,
            "value": 0.7780877947807312,
            "w": 15
           },
           {
            "h": 8,
            "value": 0.8744590282440186,
            "w": 15
           },
           {
            "h": 9,
            "value": 0.8957241773605347,
            "w": 15
           },
           {
            "h": 10,
            "value": 0.8461295366287231,
            "w": 15
           },
           {
            "h": 11,
            "value": 0.8096157312393188,
            "w": 15
           },
           {
            "h": 12,
            "value": 0.8280215859413147,
            "w": 15
           },
           {
            "h": 13,
            "value": 0.8704769015312195,
            "w": 15
           },
           {
            "h": 14,
            "value": 0.8856381773948669,
            "w": 15
           },
           {
            "h": 15,
            "value": 0.8637462854385376,
            "w": 15
           },
           {
            "h": 16,
            "value": 0.842481791973114,
            "w": 15
           },
           {
            "h": 17,
            "value": 0.8105592131614685,
            "w": 15
           },
           {
            "h": 18,
            "value": 0.850824236869812,
            "w": 15
           },
           {
            "h": 19,
            "value": 0.6998078227043152,
            "w": 15
           },
           {
            "h": 20,
            "value": 0.5360198020935059,
            "w": 15
           },
           {
            "h": 21,
            "value": 0.8471598029136658,
            "w": 15
           },
           {
            "h": 22,
            "value": 0.8576070070266724,
            "w": 15
           },
           {
            "h": 23,
            "value": 0.7720388770103455,
            "w": 15
           },
           {
            "h": 24,
            "value": 0.7699267268180847,
            "w": 15
           },
           {
            "h": 25,
            "value": 0.48080912232398987,
            "w": 15
           },
           {
            "h": 26,
            "value": 0,
            "w": 15
           },
           {
            "h": 27,
            "value": 0,
            "w": 15
           },
           {
            "h": 0,
            "value": 0,
            "w": 16
           },
           {
            "h": 1,
            "value": 0,
            "w": 16
           },
           {
            "h": 2,
            "value": 0,
            "w": 16
           },
           {
            "h": 3,
            "value": 0.0008513352368026972,
            "w": 16
           },
           {
            "h": 4,
            "value": 0.10265000909566879,
            "w": 16
           },
           {
            "h": 5,
            "value": 0.41551312804222107,
            "w": 16
           },
           {
            "h": 6,
            "value": 0.4758168160915375,
            "w": 16
           },
           {
            "h": 7,
            "value": 0.6914367079734802,
            "w": 16
           },
           {
            "h": 8,
            "value": 0.8667361736297607,
            "w": 16
           },
           {
            "h": 9,
            "value": 0.9001947045326233,
            "w": 16
           },
           {
            "h": 10,
            "value": 0.808372974395752,
            "w": 16
           },
           {
            "h": 11,
            "value": 0.7271453142166138,
            "w": 16
           },
           {
            "h": 12,
            "value": 0.7618237137794495,
            "w": 16
           },
           {
            "h": 13,
            "value": 0.8731346130371094,
            "w": 16
           },
           {
            "h": 14,
            "value": 0.8942046165466309,
            "w": 16
           },
           {
            "h": 15,
            "value": 0.8353727459907532,
            "w": 16
           },
           {
            "h": 16,
            "value": 0.859987199306488,
            "w": 16
           },
           {
            "h": 17,
            "value": 0.8697487711906433,
            "w": 16
           },
           {
            "h": 18,
            "value": 0.8652351498603821,
            "w": 16
           },
           {
            "h": 19,
            "value": 0.64670330286026,
            "w": 16
           },
           {
            "h": 20,
            "value": 0.6878238320350647,
            "w": 16
           },
           {
            "h": 21,
            "value": 0.8908884525299072,
            "w": 16
           },
           {
            "h": 22,
            "value": 0.8159577250480652,
            "w": 16
           },
           {
            "h": 23,
            "value": 0.7808451652526855,
            "w": 16
           },
           {
            "h": 24,
            "value": 0.7743075489997864,
            "w": 16
           },
           {
            "h": 25,
            "value": 0.38176530599594116,
            "w": 16
           },
           {
            "h": 26,
            "value": 0,
            "w": 16
           },
           {
            "h": 27,
            "value": 0,
            "w": 16
           },
           {
            "h": 0,
            "value": 0,
            "w": 17
           },
           {
            "h": 1,
            "value": 0,
            "w": 17
           },
           {
            "h": 2,
            "value": 0,
            "w": 17
           },
           {
            "h": 3,
            "value": 0.005883777514100075,
            "w": 17
           },
           {
            "h": 4,
            "value": 0.001698609790764749,
            "w": 17
           },
           {
            "h": 5,
            "value": 0.3225541114807129,
            "w": 17
           },
           {
            "h": 6,
            "value": 0.5759981870651245,
            "w": 17
           },
           {
            "h": 7,
            "value": 0.6428878903388977,
            "w": 17
           },
           {
            "h": 8,
            "value": 0.8210609555244446,
            "w": 17
           },
           {
            "h": 9,
            "value": 0.893275260925293,
            "w": 17
           },
           {
            "h": 10,
            "value": 0.8128669261932373,
            "w": 17
           },
           {
            "h": 11,
            "value": 0.759982168674469,
            "w": 17
           },
           {
            "h": 12,
            "value": 0.7828966379165649,
            "w": 17
           },
           {
            "h": 13,
            "value": 0.8629721999168396,
            "w": 17
           },
           {
            "h": 14,
            "value": 0.8809535503387451,
            "w": 17
           },
           {
            "h": 15,
            "value": 0.841413140296936,
            "w": 17
           },
           {
            "h": 16,
            "value": 0.8628624081611633,
            "w": 17
           },
           {
            "h": 17,
            "value": 0.9394406676292419,
            "w": 17
           },
           {
            "h": 18,
            "value": 0.8439607620239258,
            "w": 17
           },
           {
            "h": 19,
            "value": 0.6471786499023438,
            "w": 17
           },
           {
            "h": 20,
            "value": 0.8019834756851196,
            "w": 17
           },
           {
            "h": 21,
            "value": 0.8742126822471619,
            "w": 17
           },
           {
            "h": 22,
            "value": 0.7831355333328247,
            "w": 17
           },
           {
            "h": 23,
            "value": 0.7931694984436035,
            "w": 17
           },
           {
            "h": 24,
            "value": 0.7487151026725769,
            "w": 17
           },
           {
            "h": 25,
            "value": 0.2805154323577881,
            "w": 17
           },
           {
            "h": 26,
            "value": 0,
            "w": 17
           },
           {
            "h": 27,
            "value": 0,
            "w": 17
           },
           {
            "h": 0,
            "value": 0,
            "w": 18
           },
           {
            "h": 1,
            "value": 0,
            "w": 18
           },
           {
            "h": 2,
            "value": 0,
            "w": 18
           },
           {
            "h": 3,
            "value": 0.009044250473380089,
            "w": 18
           },
           {
            "h": 4,
            "value": 0.0017960397526621819,
            "w": 18
           },
           {
            "h": 5,
            "value": 0.06857576221227646,
            "w": 18
           },
           {
            "h": 6,
            "value": 0.5457985401153564,
            "w": 18
           },
           {
            "h": 7,
            "value": 0.5343349575996399,
            "w": 18
           },
           {
            "h": 8,
            "value": 0.7957407832145691,
            "w": 18
           },
           {
            "h": 9,
            "value": 0.8774949908256531,
            "w": 18
           },
           {
            "h": 10,
            "value": 0.8376620411872864,
            "w": 18
           },
           {
            "h": 11,
            "value": 0.8528960943222046,
            "w": 18
           },
           {
            "h": 12,
            "value": 0.8609601259231567,
            "w": 18
           },
           {
            "h": 13,
            "value": 0.8438049554824829,
            "w": 18
           },
           {
            "h": 14,
            "value": 0.8591340780258179,
            "w": 18
           },
           {
            "h": 15,
            "value": 0.8567906022071838,
            "w": 18
           },
           {
            "h": 16,
            "value": 0.8982784152030945,
            "w": 18
           },
           {
            "h": 17,
            "value": 0.9787077307701111,
            "w": 18
           },
           {
            "h": 18,
            "value": 0.7355820536613464,
            "w": 18
           },
           {
            "h": 19,
            "value": 0.739000678062439,
            "w": 18
           },
           {
            "h": 20,
            "value": 0.8689070343971252,
            "w": 18
           },
           {
            "h": 21,
            "value": 0.8217968344688416,
            "w": 18
           },
           {
            "h": 22,
            "value": 0.7680671215057373,
            "w": 18
           },
           {
            "h": 23,
            "value": 0.8074597716331482,
            "w": 18
           },
           {
            "h": 24,
            "value": 0.7434448003768921,
            "w": 18
           },
           {
            "h": 25,
            "value": 0.20059973001480103,
            "w": 18
           },
           {
            "h": 26,
            "value": 0,
            "w": 18
           },
           {
            "h": 27,
            "value": 0,
            "w": 18
           },
           {
            "h": 0,
            "value": 0,
            "w": 19
           },
           {
            "h": 1,
            "value": 0,
            "w": 19
           },
           {
            "h": 2,
            "value": 0,
            "w": 19
           },
           {
            "h": 3,
            "value": 0,
            "w": 19
           },
           {
            "h": 4,
            "value": 0.00079620152246207,
            "w": 19
           },
           {
            "h": 5,
            "value": 1.4758365978195798e-05,
            "w": 19
           },
           {
            "h": 6,
            "value": 0.41140294075012207,
            "w": 19
           },
           {
            "h": 7,
            "value": 0.4763633608818054,
            "w": 19
           },
           {
            "h": 8,
            "value": 0.8163466453552246,
            "w": 19
           },
           {
            "h": 9,
            "value": 0.8711027503013611,
            "w": 19
           },
           {
            "h": 10,
            "value": 0.8290776610374451,
            "w": 19
           },
           {
            "h": 11,
            "value": 0.8314415216445923,
            "w": 19
           },
           {
            "h": 12,
            "value": 0.839653491973877,
            "w": 19
           },
           {
            "h": 13,
            "value": 0.8570564389228821,
            "w": 19
           },
           {
            "h": 14,
            "value": 0.8498162031173706,
            "w": 19
           },
           {
            "h": 15,
            "value": 0.874439537525177,
            "w": 19
           },
           {
            "h": 16,
            "value": 0.7413575053215027,
            "w": 19
           },
           {
            "h": 17,
            "value": 0.8844436407089233,
            "w": 19
           },
           {
            "h": 18,
            "value": 0.7214617133140564,
            "w": 19
           },
           {
            "h": 19,
            "value": 0.8387982845306396,
            "w": 19
           },
           {
            "h": 20,
            "value": 0.8661271333694458,
            "w": 19
           },
           {
            "h": 21,
            "value": 0.7977162003517151,
            "w": 19
           },
           {
            "h": 22,
            "value": 0.7597271203994751,
            "w": 19
           },
           {
            "h": 23,
            "value": 0.8123533725738525,
            "w": 19
           },
           {
            "h": 24,
            "value": 0.7314985394477844,
            "w": 19
           },
           {
            "h": 25,
            "value": 0.12013793736696243,
            "w": 19
           },
           {
            "h": 26,
            "value": 0,
            "w": 19
           },
           {
            "h": 27,
            "value": 0,
            "w": 19
           },
           {
            "h": 0,
            "value": 0,
            "w": 20
           },
           {
            "h": 1,
            "value": 0,
            "w": 20
           },
           {
            "h": 2,
            "value": 0,
            "w": 20
           },
           {
            "h": 3,
            "value": 0.0005598872667178512,
            "w": 20
           },
           {
            "h": 4,
            "value": 0.005070495419204235,
            "w": 20
           },
           {
            "h": 5,
            "value": 0.017611026763916016,
            "w": 20
           },
           {
            "h": 6,
            "value": 0.27032366394996643,
            "w": 20
           },
           {
            "h": 7,
            "value": 0.4896823763847351,
            "w": 20
           },
           {
            "h": 8,
            "value": 0.701496422290802,
            "w": 20
           },
           {
            "h": 9,
            "value": 0.8734786510467529,
            "w": 20
           },
           {
            "h": 10,
            "value": 0.8330497741699219,
            "w": 20
           },
           {
            "h": 11,
            "value": 0.8639932870864868,
            "w": 20
           },
           {
            "h": 12,
            "value": 0.8469299674034119,
            "w": 20
           },
           {
            "h": 13,
            "value": 0.8822708129882812,
            "w": 20
           },
           {
            "h": 14,
            "value": 0.8760728240013123,
            "w": 20
           },
           {
            "h": 15,
            "value": 0.8733164072036743,
            "w": 20
           },
           {
            "h": 16,
            "value": 0.7303884029388428,
            "w": 20
           },
           {
            "h": 17,
            "value": 0.9032105207443237,
            "w": 20
           },
           {
            "h": 18,
            "value": 0.7957731485366821,
            "w": 20
           },
           {
            "h": 19,
            "value": 0.8537859916687012,
            "w": 20
           },
           {
            "h": 20,
            "value": 0.8460559248924255,
            "w": 20
           },
           {
            "h": 21,
            "value": 0.7276481986045837,
            "w": 20
           },
           {
            "h": 22,
            "value": 0.7710570096969604,
            "w": 20
           },
           {
            "h": 23,
            "value": 0.8212369084358215,
            "w": 20
           },
           {
            "h": 24,
            "value": 0.7157288193702698,
            "w": 20
           },
           {
            "h": 25,
            "value": 0.03894480690360069,
            "w": 20
           },
           {
            "h": 26,
            "value": 0,
            "w": 20
           },
           {
            "h": 27,
            "value": 0,
            "w": 20
           },
           {
            "h": 0,
            "value": 0,
            "w": 21
           },
           {
            "h": 1,
            "value": 0,
            "w": 21
           },
           {
            "h": 2,
            "value": 0,
            "w": 21
           },
           {
            "h": 3,
            "value": 0.0026080759707838297,
            "w": 21
           },
           {
            "h": 4,
            "value": 0.010099424049258232,
            "w": 21
           },
           {
            "h": 5,
            "value": 0.020275156944990158,
            "w": 21
           },
           {
            "h": 6,
            "value": 0.18119089305400848,
            "w": 21
           },
           {
            "h": 7,
            "value": 0.5520046353340149,
            "w": 21
           },
           {
            "h": 8,
            "value": 0.5917087197303772,
            "w": 21
           },
           {
            "h": 9,
            "value": 0.8692353367805481,
            "w": 21
           },
           {
            "h": 10,
            "value": 0.8553111553192139,
            "w": 21
           },
           {
            "h": 11,
            "value": 0.860680878162384,
            "w": 21
           },
           {
            "h": 12,
            "value": 0.8726142644882202,
            "w": 21
           },
           {
            "h": 13,
            "value": 0.9035676717758179,
            "w": 21
           },
           {
            "h": 14,
            "value": 0.8898698687553406,
            "w": 21
           },
           {
            "h": 15,
            "value": 0.8729779124259949,
            "w": 21
           },
           {
            "h": 16,
            "value": 0.9326114654541016,
            "w": 21
           },
           {
            "h": 17,
            "value": 0.8726707100868225,
            "w": 21
           },
           {
            "h": 18,
            "value": 0.8132491111755371,
            "w": 21
           },
           {
            "h": 19,
            "value": 0.8449221849441528,
            "w": 21
           },
           {
            "h": 20,
            "value": 0.8156924843788147,
            "w": 21
           },
           {
            "h": 21,
            "value": 0.7081962823867798,
            "w": 21
           },
           {
            "h": 22,
            "value": 0.7428245544433594,
            "w": 21
           },
           {
            "h": 23,
            "value": 0.7337713241577148,
            "w": 21
           },
           {
            "h": 24,
            "value": 0.6465640664100647,
            "w": 21
           },
           {
            "h": 25,
            "value": 0,
            "w": 21
           },
           {
            "h": 26,
            "value": 0,
            "w": 21
           },
           {
            "h": 27,
            "value": 0,
            "w": 21
           },
           {
            "h": 0,
            "value": 0,
            "w": 22
           },
           {
            "h": 1,
            "value": 0,
            "w": 22
           },
           {
            "h": 2,
            "value": 0.0005253589479252696,
            "w": 22
           },
           {
            "h": 3,
            "value": 0.00424995506182313,
            "w": 22
           },
           {
            "h": 4,
            "value": 0.011548306792974472,
            "w": 22
           },
           {
            "h": 5,
            "value": 0.09838883578777313,
            "w": 22
           },
           {
            "h": 6,
            "value": 0.370760440826416,
            "w": 22
           },
           {
            "h": 7,
            "value": 0.5353450775146484,
            "w": 22
           },
           {
            "h": 8,
            "value": 0.5953622460365295,
            "w": 22
           },
           {
            "h": 9,
            "value": 0.8703475594520569,
            "w": 22
           },
           {
            "h": 10,
            "value": 0.8660467267036438,
            "w": 22
           },
           {
            "h": 11,
            "value": 0.8658357858657837,
            "w": 22
           },
           {
            "h": 12,
            "value": 0.8803210258483887,
            "w": 22
           },
           {
            "h": 13,
            "value": 0.8495175838470459,
            "w": 22
           },
           {
            "h": 14,
            "value": 0.8441053628921509,
            "w": 22
           },
           {
            "h": 15,
            "value": 0.8745924234390259,
            "w": 22
           },
           {
            "h": 16,
            "value": 0.941707968711853,
            "w": 22
           },
           {
            "h": 17,
            "value": 0.8331220746040344,
            "w": 22
           },
           {
            "h": 18,
            "value": 0.8233891129493713,
            "w": 22
           },
           {
            "h": 19,
            "value": 0.8586636781692505,
            "w": 22
           },
           {
            "h": 20,
            "value": 0.8076184988021851,
            "w": 22
           },
           {
            "h": 21,
            "value": 0.6851897239685059,
            "w": 22
           },
           {
            "h": 22,
            "value": 0.6905403137207031,
            "w": 22
           },
           {
            "h": 23,
            "value": 0.721977949142456,
            "w": 22
           },
           {
            "h": 24,
            "value": 0.5372348427772522,
            "w": 22
           },
           {
            "h": 25,
            "value": 0,
            "w": 22
           },
           {
            "h": 26,
            "value": 0,
            "w": 22
           },
           {
            "h": 27,
            "value": 0,
            "w": 22
           },
           {
            "h": 0,
            "value": 0,
            "w": 23
           },
           {
            "h": 1,
            "value": 0,
            "w": 23
           },
           {
            "h": 2,
            "value": 0.001703472575172782,
            "w": 23
           },
           {
            "h": 3,
            "value": 0.0022434431593865156,
            "w": 23
           },
           {
            "h": 4,
            "value": 0.019225062802433968,
            "w": 23
           },
           {
            "h": 5,
            "value": 0.23211725056171417,
            "w": 23
           },
           {
            "h": 6,
            "value": 0.4408811330795288,
            "w": 23
           },
           {
            "h": 7,
            "value": 0.5168216824531555,
            "w": 23
           },
           {
            "h": 8,
            "value": 0.7887072563171387,
            "w": 23
           },
           {
            "h": 9,
            "value": 0.9240566492080688,
            "w": 23
           },
           {
            "h": 10,
            "value": 0.8778649568557739,
            "w": 23
           },
           {
            "h": 11,
            "value": 0.8142874836921692,
            "w": 23
           },
           {
            "h": 12,
            "value": 0.8310586810112,
            "w": 23
           },
           {
            "h": 13,
            "value": 0.8577216267585754,
            "w": 23
           },
           {
            "h": 14,
            "value": 0.8692286610603333,
            "w": 23
           },
           {
            "h": 15,
            "value": 0.8906471729278564,
            "w": 23
           },
           {
            "h": 16,
            "value": 0.9009063839912415,
            "w": 23
           },
           {
            "h": 17,
            "value": 0.8535544872283936,
            "w": 23
           },
           {
            "h": 18,
            "value": 0.8580671548843384,
            "w": 23
           },
           {
            "h": 19,
            "value": 0.872012197971344,
            "w": 23
           },
           {
            "h": 20,
            "value": 0.8103882670402527,
            "w": 23
           },
           {
            "h": 21,
            "value": 0.6645565032958984,
            "w": 23
           },
           {
            "h": 22,
            "value": 0.6611163020133972,
            "w": 23
           },
           {
            "h": 23,
            "value": 0.7279792428016663,
            "w": 23
           },
           {
            "h": 24,
            "value": 0.4658435881137848,
            "w": 23
           },
           {
            "h": 25,
            "value": 0,
            "w": 23
           },
           {
            "h": 26,
            "value": 0,
            "w": 23
           },
           {
            "h": 27,
            "value": 0,
            "w": 23
           },
           {
            "h": 0,
            "value": 0,
            "w": 24
           },
           {
            "h": 1,
            "value": 0,
            "w": 24
           },
           {
            "h": 2,
            "value": 0.001279332092963159,
            "w": 24
           },
           {
            "h": 3,
            "value": 0.0031289157923310995,
            "w": 24
           },
           {
            "h": 4,
            "value": 0.018225695937871933,
            "w": 24
           },
           {
            "h": 5,
            "value": 0.1589658409357071,
            "w": 24
           },
           {
            "h": 6,
            "value": 0.48394688963890076,
            "w": 24
           },
           {
            "h": 7,
            "value": 0.7528747916221619,
            "w": 24
           },
           {
            "h": 8,
            "value": 0.8084149360656738,
            "w": 24
           },
           {
            "h": 9,
            "value": 0.8218839764595032,
            "w": 24
           },
           {
            "h": 10,
            "value": 0.8348081111907959,
            "w": 24
           },
           {
            "h": 11,
            "value": 0.6672494411468506,
            "w": 24
           },
           {
            "h": 12,
            "value": 0.6036930084228516,
            "w": 24
           },
           {
            "h": 13,
            "value": 0.8162840008735657,
            "w": 24
           },
           {
            "h": 14,
            "value": 0.9573730826377869,
            "w": 24
           },
           {
            "h": 15,
            "value": 0.9423124194145203,
            "w": 24
           },
           {
            "h": 16,
            "value": 0.9166333079338074,
            "w": 24
           },
           {
            "h": 17,
            "value": 0.8918645977973938,
            "w": 24
           },
           {
            "h": 18,
            "value": 0.8810475468635559,
            "w": 24
           },
           {
            "h": 19,
            "value": 0.8712188601493835,
            "w": 24
           },
           {
            "h": 20,
            "value": 0.8122249245643616,
            "w": 24
           },
           {
            "h": 21,
            "value": 0.7040072679519653,
            "w": 24
           },
           {
            "h": 22,
            "value": 0.7042989134788513,
            "w": 24
           },
           {
            "h": 23,
            "value": 0.6023942232131958,
            "w": 24
           },
           {
            "h": 24,
            "value": 0.24563463032245636,
            "w": 24
           },
           {
            "h": 25,
            "value": 0,
            "w": 24
           },
           {
            "h": 26,
            "value": 0,
            "w": 24
           },
           {
            "h": 27,
            "value": 0,
            "w": 24
           },
           {
            "h": 0,
            "value": 0,
            "w": 25
           },
           {
            "h": 1,
            "value": 0,
            "w": 25
           },
           {
            "h": 2,
            "value": 0,
            "w": 25
           },
           {
            "h": 3,
            "value": 0.007705265190452337,
            "w": 25
           },
           {
            "h": 4,
            "value": 0.004135481547564268,
            "w": 25
           },
           {
            "h": 5,
            "value": 0.03776592016220093,
            "w": 25
           },
           {
            "h": 6,
            "value": 0.20526912808418274,
            "w": 25
           },
           {
            "h": 7,
            "value": 0.21785426139831543,
            "w": 25
           },
           {
            "h": 8,
            "value": 0.21541891992092133,
            "w": 25
           },
           {
            "h": 9,
            "value": 0.296762079000473,
            "w": 25
           },
           {
            "h": 10,
            "value": 0.4734485447406769,
            "w": 25
           },
           {
            "h": 11,
            "value": 0.5294146537780762,
            "w": 25
           },
           {
            "h": 12,
            "value": 0.37659600377082825,
            "w": 25
           },
           {
            "h": 13,
            "value": 0.27732187509536743,
            "w": 25
           },
           {
            "h": 14,
            "value": 0.4720969498157501,
            "w": 25
           },
           {
            "h": 15,
            "value": 0.7652910351753235,
            "w": 25
           },
           {
            "h": 16,
            "value": 0.9139490723609924,
            "w": 25
           },
           {
            "h": 17,
            "value": 0.9129605889320374,
            "w": 25
           },
           {
            "h": 18,
            "value": 0.8887055516242981,
            "w": 25
           },
           {
            "h": 19,
            "value": 0.8851794004440308,
            "w": 25
           },
           {
            "h": 20,
            "value": 0.8389230966567993,
            "w": 25
           },
           {
            "h": 21,
            "value": 0.7620415687561035,
            "w": 25
           },
           {
            "h": 22,
            "value": 0.7709716558456421,
            "w": 25
           },
           {
            "h": 23,
            "value": 0.5184010863304138,
            "w": 25
           },
           {
            "h": 24,
            "value": 0.11702071875333786,
            "w": 25
           },
           {
            "h": 25,
            "value": 0,
            "w": 25
           },
           {
            "h": 26,
            "value": 0,
            "w": 25
           },
           {
            "h": 27,
            "value": 0,
            "w": 25
           },
           {
            "h": 0,
            "value": 0,
            "w": 26
           },
           {
            "h": 1,
            "value": 0,
            "w": 26
           },
           {
            "h": 2,
            "value": 0,
            "w": 26
           },
           {
            "h": 3,
            "value": 0.0090407095849514,
            "w": 26
           },
           {
            "h": 4,
            "value": 0.0028000373858958483,
            "w": 26
           },
           {
            "h": 5,
            "value": 0.04444313794374466,
            "w": 26
           },
           {
            "h": 6,
            "value": 0.2086375206708908,
            "w": 26
           },
           {
            "h": 7,
            "value": 0.06661951541900635,
            "w": 26
           },
           {
            "h": 8,
            "value": 0,
            "w": 26
           },
           {
            "h": 9,
            "value": 0,
            "w": 26
           },
           {
            "h": 10,
            "value": 0.1474793553352356,
            "w": 26
           },
           {
            "h": 11,
            "value": 0.21516475081443787,
            "w": 26
           },
           {
            "h": 12,
            "value": 0.06362278014421463,
            "w": 26
           },
           {
            "h": 13,
            "value": 0,
            "w": 26
           },
           {
            "h": 14,
            "value": 0,
            "w": 26
           },
           {
            "h": 15,
            "value": 0.0651315301656723,
            "w": 26
           },
           {
            "h": 16,
            "value": 0.18297654390335083,
            "w": 26
           },
           {
            "h": 17,
            "value": 0.28269439935684204,
            "w": 26
           },
           {
            "h": 18,
            "value": 0.4230216145515442,
            "w": 26
           },
           {
            "h": 19,
            "value": 0.5829197764396667,
            "w": 26
           },
           {
            "h": 20,
            "value": 0.6820491552352905,
            "w": 26
           },
           {
            "h": 21,
            "value": 0.7180215716362,
            "w": 26
           },
           {
            "h": 22,
            "value": 0.6500904560089111,
            "w": 26
           },
           {
            "h": 23,
            "value": 0.2386426329612732,
            "w": 26
           },
           {
            "h": 24,
            "value": 0.008823764510452747,
            "w": 26
           },
           {
            "h": 25,
            "value": 0,
            "w": 26
           },
           {
            "h": 26,
            "value": 0,
            "w": 26
           },
           {
            "h": 27,
            "value": 0,
            "w": 26
           },
           {
            "h": 0,
            "value": 0,
            "w": 27
           },
           {
            "h": 1,
            "value": 0,
            "w": 27
           },
           {
            "h": 2,
            "value": 0,
            "w": 27
           },
           {
            "h": 3,
            "value": 0.010376153513789177,
            "w": 27
           },
           {
            "h": 4,
            "value": 0.0014645932242274284,
            "w": 27
           },
           {
            "h": 5,
            "value": 0.05112035945057869,
            "w": 27
           },
           {
            "h": 6,
            "value": 0.23134008049964905,
            "w": 27
           },
           {
            "h": 7,
            "value": 0.037239737808704376,
            "w": 27
           },
           {
            "h": 8,
            "value": 0,
            "w": 27
           },
           {
            "h": 9,
            "value": 0,
            "w": 27
           },
           {
            "h": 10,
            "value": 0.17062705755233765,
            "w": 27
           },
           {
            "h": 11,
            "value": 0.2169453352689743,
            "w": 27
           },
           {
            "h": 12,
            "value": 0.038694486021995544,
            "w": 27
           },
           {
            "h": 13,
            "value": 0,
            "w": 27
           },
           {
            "h": 14,
            "value": 0,
            "w": 27
           },
           {
            "h": 15,
            "value": 0,
            "w": 27
           },
           {
            "h": 16,
            "value": 0,
            "w": 27
           },
           {
            "h": 17,
            "value": 0,
            "w": 27
           },
           {
            "h": 18,
            "value": 0.08927690982818604,
            "w": 27
           },
           {
            "h": 19,
            "value": 0.22974586486816406,
            "w": 27
           },
           {
            "h": 20,
            "value": 0.40808048844337463,
            "w": 27
           },
           {
            "h": 21,
            "value": 0.38192349672317505,
            "w": 27
           },
           {
            "h": 22,
            "value": 0.08688867092132568,
            "w": 27
           },
           {
            "h": 23,
            "value": 0,
            "w": 27
           },
           {
            "h": 24,
            "value": 0,
            "w": 27
           },
           {
            "h": 25,
            "value": 0,
            "w": 27
           },
           {
            "h": 26,
            "value": 0,
            "w": 27
           },
           {
            "h": 27,
            "value": 0,
            "w": 27
           }
          ]
         },
         "encoding": {
          "color": {
           "field": "value",
           "legend": null,
           "scale": {
            "scheme": "greys"
           },
           "sort": "descending",
           "type": "quantitative"
          },
          "tooltip": [
           {
            "field": "value",
            "type": "quantitative"
           }
          ],
          "x": {
           "axis": null,
           "field": "w",
           "type": "nominal"
          },
          "y": {
           "axis": null,
           "field": "h",
           "type": "nominal"
          }
         },
         "height": 350,
         "mark": "rect",
         "title": "",
         "width": 350
        },
        {
         "data": {
          "values": [
           {
            "h": 0,
            "value": 0,
            "w": 0
           },
           {
            "h": 1,
            "value": 0,
            "w": 0
           },
           {
            "h": 2,
            "value": 0,
            "w": 0
           },
           {
            "h": 3,
            "value": 0,
            "w": 0
           },
           {
            "h": 4,
            "value": 0,
            "w": 0
           },
           {
            "h": 5,
            "value": 0,
            "w": 0
           },
           {
            "h": 6,
            "value": 0,
            "w": 0
           },
           {
            "h": 7,
            "value": 0,
            "w": 0
           },
           {
            "h": 8,
            "value": 0,
            "w": 0
           },
           {
            "h": 9,
            "value": 0,
            "w": 0
           },
           {
            "h": 10,
            "value": 0,
            "w": 0
           },
           {
            "h": 11,
            "value": 0.00024208288232330233,
            "w": 0
           },
           {
            "h": 12,
            "value": 0.005160081200301647,
            "w": 0
           },
           {
            "h": 13,
            "value": 0.0037193335592746735,
            "w": 0
           },
           {
            "h": 14,
            "value": 0.23379595577716827,
            "w": 0
           },
           {
            "h": 15,
            "value": 0.6851552128791809,
            "w": 0
           },
           {
            "h": 16,
            "value": 0.8409008383750916,
            "w": 0
           },
           {
            "h": 17,
            "value": 0.8139423727989197,
            "w": 0
           },
           {
            "h": 18,
            "value": 0.7781403660774231,
            "w": 0
           },
           {
            "h": 19,
            "value": 0.7839639782905579,
            "w": 0
           },
           {
            "h": 20,
            "value": 0.6155564785003662,
            "w": 0
           },
           {
            "h": 21,
            "value": 0.22024522721767426,
            "w": 0
           },
           {
            "h": 22,
            "value": 0,
            "w": 0
           },
           {
            "h": 23,
            "value": 0,
            "w": 0
           },
           {
            "h": 24,
            "value": 0,
            "w": 0
           },
           {
            "h": 25,
            "value": 0,
            "w": 0
           },
           {
            "h": 26,
            "value": 0,
            "w": 0
           },
           {
            "h": 27,
            "value": 0,
            "w": 0
           },
           {
            "h": 0,
            "value": 0,
            "w": 1
           },
           {
            "h": 1,
            "value": 0,
            "w": 1
           },
           {
            "h": 2,
            "value": 0,
            "w": 1
           },
           {
            "h": 3,
            "value": 0,
            "w": 1
           },
           {
            "h": 4,
            "value": 0,
            "w": 1
           },
           {
            "h": 5,
            "value": 0,
            "w": 1
           },
           {
            "h": 6,
            "value": 0,
            "w": 1
           },
           {
            "h": 7,
            "value": 0,
            "w": 1
           },
           {
            "h": 8,
            "value": 0,
            "w": 1
           },
           {
            "h": 9,
            "value": 0,
            "w": 1
           },
           {
            "h": 10,
            "value": 0,
            "w": 1
           },
           {
            "h": 11,
            "value": 0.0021617505699396133,
            "w": 1
           },
           {
            "h": 12,
            "value": 0.0038888973649591208,
            "w": 1
           },
           {
            "h": 13,
            "value": 0,
            "w": 1
           },
           {
            "h": 14,
            "value": 0.3041684031486511,
            "w": 1
           },
           {
            "h": 15,
            "value": 0.8209673166275024,
            "w": 1
           },
           {
            "h": 16,
            "value": 0.8548961877822876,
            "w": 1
           },
           {
            "h": 17,
            "value": 0.8111743330955505,
            "w": 1
           },
           {
            "h": 18,
            "value": 0.7859013676643372,
            "w": 1
           },
           {
            "h": 19,
            "value": 0.7601901292800903,
            "w": 1
           },
           {
            "h": 20,
            "value": 0.7508025765419006,
            "w": 1
           },
           {
            "h": 21,
            "value": 0.5217567682266235,
            "w": 1
           },
           {
            "h": 22,
            "value": 0.06383562833070755,
            "w": 1
           },
           {
            "h": 23,
            "value": 0,
            "w": 1
           },
           {
            "h": 24,
            "value": 0,
            "w": 1
           },
           {
            "h": 25,
            "value": 0,
            "w": 1
           },
           {
            "h": 26,
            "value": 0,
            "w": 1
           },
           {
            "h": 27,
            "value": 0,
            "w": 1
           },
           {
            "h": 0,
            "value": 0,
            "w": 2
           },
           {
            "h": 1,
            "value": 0,
            "w": 2
           },
           {
            "h": 2,
            "value": 0,
            "w": 2
           },
           {
            "h": 3,
            "value": 0,
            "w": 2
           },
           {
            "h": 4,
            "value": 0,
            "w": 2
           },
           {
            "h": 5,
            "value": 0,
            "w": 2
           },
           {
            "h": 6,
            "value": 0,
            "w": 2
           },
           {
            "h": 7,
            "value": 0,
            "w": 2
           },
           {
            "h": 8,
            "value": 0,
            "w": 2
           },
           {
            "h": 9,
            "value": 0,
            "w": 2
           },
           {
            "h": 10,
            "value": 0,
            "w": 2
           },
           {
            "h": 11,
            "value": 0.004941476974636316,
            "w": 2
           },
           {
            "h": 12,
            "value": 0.012302173301577568,
            "w": 2
           },
           {
            "h": 13,
            "value": 0.006734579335898161,
            "w": 2
           },
           {
            "h": 14,
            "value": 0.25876450538635254,
            "w": 2
           },
           {
            "h": 15,
            "value": 0.8566977381706238,
            "w": 2
           },
           {
            "h": 16,
            "value": 0.8664544224739075,
            "w": 2
           },
           {
            "h": 17,
            "value": 0.8361585736274719,
            "w": 2
           },
           {
            "h": 18,
            "value": 0.7779437303543091,
            "w": 2
           },
           {
            "h": 19,
            "value": 0.8011592030525208,
            "w": 2
           },
           {
            "h": 20,
            "value": 0.7269846200942993,
            "w": 2
           },
           {
            "h": 21,
            "value": 0.7128649353981018,
            "w": 2
           },
           {
            "h": 22,
            "value": 0.3497133255004883,
            "w": 2
           },
           {
            "h": 23,
            "value": 0,
            "w": 2
           },
           {
            "h": 24,
            "value": 0,
            "w": 2
           },
           {
            "h": 25,
            "value": 0,
            "w": 2
           },
           {
            "h": 26,
            "value": 0,
            "w": 2
           },
           {
            "h": 27,
            "value": 0,
            "w": 2
           },
           {
            "h": 0,
            "value": 0,
            "w": 3
           },
           {
            "h": 1,
            "value": 0,
            "w": 3
           },
           {
            "h": 2,
            "value": 0,
            "w": 3
           },
           {
            "h": 3,
            "value": 0,
            "w": 3
           },
           {
            "h": 4,
            "value": 0,
            "w": 3
           },
           {
            "h": 5,
            "value": 0,
            "w": 3
           },
           {
            "h": 6,
            "value": 0,
            "w": 3
           },
           {
            "h": 7,
            "value": 0,
            "w": 3
           },
           {
            "h": 8,
            "value": 0,
            "w": 3
           },
           {
            "h": 9,
            "value": 0,
            "w": 3
           },
           {
            "h": 10,
            "value": 0,
            "w": 3
           },
           {
            "h": 11,
            "value": 0.004412990063428879,
            "w": 3
           },
           {
            "h": 12,
            "value": 0.020024776458740234,
            "w": 3
           },
           {
            "h": 13,
            "value": 0.017798323184251785,
            "w": 3
           },
           {
            "h": 14,
            "value": 0.24038320779800415,
            "w": 3
           },
           {
            "h": 15,
            "value": 0.8676093220710754,
            "w": 3
           },
           {
            "h": 16,
            "value": 0.8477051258087158,
            "w": 3
           },
           {
            "h": 17,
            "value": 0.8779444694519043,
            "w": 3
           },
           {
            "h": 18,
            "value": 0.796444833278656,
            "w": 3
           },
           {
            "h": 19,
            "value": 0.7585682272911072,
            "w": 3
           },
           {
            "h": 20,
            "value": 0.684765636920929,
            "w": 3
           },
           {
            "h": 21,
            "value": 0.7420781254768372,
            "w": 3
           },
           {
            "h": 22,
            "value": 0.7244452238082886,
            "w": 3
           },
           {
            "h": 23,
            "value": 0,
            "w": 3
           },
           {
            "h": 24,
            "value": 0,
            "w": 3
           },
           {
            "h": 25,
            "value": 0,
            "w": 3
           },
           {
            "h": 26,
            "value": 0,
            "w": 3
           },
           {
            "h": 27,
            "value": 0,
            "w": 3
           },
           {
            "h": 0,
            "value": 0,
            "w": 4
           },
           {
            "h": 1,
            "value": 0,
            "w": 4
           },
           {
            "h": 2,
            "value": 0,
            "w": 4
           },
           {
            "h": 3,
            "value": 0,
            "w": 4
           },
           {
            "h": 4,
            "value": 0,
            "w": 4
           },
           {
            "h": 5,
            "value": 0,
            "w": 4
           },
           {
            "h": 6,
            "value": 0,
            "w": 4
           },
           {
            "h": 7,
            "value": 0,
            "w": 4
           },
           {
            "h": 8,
            "value": 0,
            "w": 4
           },
           {
            "h": 9,
            "value": 0,
            "w": 4
           },
           {
            "h": 10,
            "value": 0,
            "w": 4
           },
           {
            "h": 11,
            "value": 0.0017879619263112545,
            "w": 4
           },
           {
            "h": 12,
            "value": 0.02195504494011402,
            "w": 4
           },
           {
            "h": 13,
            "value": 0.012410260736942291,
            "w": 4
           },
           {
            "h": 14,
            "value": 0.2689102292060852,
            "w": 4
           },
           {
            "h": 15,
            "value": 0.8711678981781006,
            "w": 4
           },
           {
            "h": 16,
            "value": 0.8300245404243469,
            "w": 4
           },
           {
            "h": 17,
            "value": 0.8957792520523071,
            "w": 4
           },
           {
            "h": 18,
            "value": 0.8227834105491638,
            "w": 4
           },
           {
            "h": 19,
            "value": 0.7255574464797974,
            "w": 4
           },
           {
            "h": 20,
            "value": 0.7236180305480957,
            "w": 4
           },
           {
            "h": 21,
            "value": 0.6841193437576294,
            "w": 4
           },
           {
            "h": 22,
            "value": 0.8907564878463745,
            "w": 4
           },
           {
            "h": 23,
            "value": 0.08188130706548691,
            "w": 4
           },
           {
            "h": 24,
            "value": 0.0015210806159302592,
            "w": 4
           },
           {
            "h": 25,
            "value": 0,
            "w": 4
           },
           {
            "h": 26,
            "value": 0,
            "w": 4
           },
           {
            "h": 27,
            "value": 0,
            "w": 4
           },
           {
            "h": 0,
            "value": 0,
            "w": 5
           },
           {
            "h": 1,
            "value": 0,
            "w": 5
           },
           {
            "h": 2,
            "value": 0,
            "w": 5
           },
           {
            "h": 3,
            "value": 0,
            "w": 5
           },
           {
            "h": 4,
            "value": 0,
            "w": 5
           },
           {
            "h": 5,
            "value": 0,
            "w": 5
           },
           {
            "h": 6,
            "value": 0,
            "w": 5
           },
           {
            "h": 7,
            "value": 0,
            "w": 5
           },
           {
            "h": 8,
            "value": 0,
            "w": 5
           },
           {
            "h": 9,
            "value": 0,
            "w": 5
           },
           {
            "h": 10,
            "value": 0,
            "w": 5
           },
           {
            "h": 11,
            "value": 0,
            "w": 5
           },
           {
            "h": 12,
            "value": 0.005960205569863319,
            "w": 5
           },
           {
            "h": 13,
            "value": 0.0003156680322717875,
            "w": 5
           },
           {
            "h": 14,
            "value": 0.33984097838401794,
            "w": 5
           },
           {
            "h": 15,
            "value": 0.810594916343689,
            "w": 5
           },
           {
            "h": 16,
            "value": 0.835347056388855,
            "w": 5
           },
           {
            "h": 17,
            "value": 0.9066745638847351,
            "w": 5
           },
           {
            "h": 18,
            "value": 0.8798158764839172,
            "w": 5
           },
           {
            "h": 19,
            "value": 0.7586376667022705,
            "w": 5
           },
           {
            "h": 20,
            "value": 0.7696676254272461,
            "w": 5
           },
           {
            "h": 21,
            "value": 0.6882717609405518,
            "w": 5
           },
           {
            "h": 22,
            "value": 0.9021504521369934,
            "w": 5
           },
           {
            "h": 23,
            "value": 0.2871931791305542,
            "w": 5
           },
           {
            "h": 24,
            "value": 0.026897568255662918,
            "w": 5
           },
           {
            "h": 25,
            "value": 0,
            "w": 5
           },
           {
            "h": 26,
            "value": 0,
            "w": 5
           },
           {
            "h": 27,
            "value": 0,
            "w": 5
           },
           {
            "h": 0,
            "value": 0,
            "w": 6
           },
           {
            "h": 1,
            "value": 0,
            "w": 6
           },
           {
            "h": 2,
            "value": 0,
            "w": 6
           },
           {
            "h": 3,
            "value": 0,
            "w": 6
           },
           {
            "h": 4,
            "value": 0,
            "w": 6
           },
           {
            "h": 5,
            "value": 0,
            "w": 6
           },
           {
            "h": 6,
            "value": 0,
            "w": 6
           },
           {
            "h": 7,
            "value": 0,
            "w": 6
           },
           {
            "h": 8,
            "value": 0,
            "w": 6
           },
           {
            "h": 9,
            "value": 0,
            "w": 6
           },
           {
            "h": 10,
            "value": 0,
            "w": 6
           },
           {
            "h": 11,
            "value": 0,
            "w": 6
           },
           {
            "h": 12,
            "value": 0,
            "w": 6
           },
           {
            "h": 13,
            "value": 0,
            "w": 6
           },
           {
            "h": 14,
            "value": 0.4551578164100647,
            "w": 6
           },
           {
            "h": 15,
            "value": 0.7670809626579285,
            "w": 6
           },
           {
            "h": 16,
            "value": 0.8141365051269531,
            "w": 6
           },
           {
            "h": 17,
            "value": 0.9326091408729553,
            "w": 6
           },
           {
            "h": 18,
            "value": 0.875688374042511,
            "w": 6
           },
           {
            "h": 19,
            "value": 0.7791756987571716,
            "w": 6
           },
           {
            "h": 20,
            "value": 0.7932267189025879,
            "w": 6
           },
           {
            "h": 21,
            "value": 0.7173764109611511,
            "w": 6
           },
           {
            "h": 22,
            "value": 0.8836656808853149,
            "w": 6
           },
           {
            "h": 23,
            "value": 0.38482746481895447,
            "w": 6
           },
           {
            "h": 24,
            "value": 0.049581002444028854,
            "w": 6
           },
           {
            "h": 25,
            "value": 0,
            "w": 6
           },
           {
            "h": 26,
            "value": 0,
            "w": 6
           },
           {
            "h": 27,
            "value": 0,
            "w": 6
           },
           {
            "h": 0,
            "value": 0,
            "w": 7
           },
           {
            "h": 1,
            "value": 0,
            "w": 7
           },
           {
            "h": 2,
            "value": 0,
            "w": 7
           },
           {
            "h": 3,
            "value": 0,
            "w": 7
           },
           {
            "h": 4,
            "value": 0,
            "w": 7
           },
           {
            "h": 5,
            "value": 0,
            "w": 7
           },
           {
            "h": 6,
            "value": 0,
            "w": 7
           },
           {
            "h": 7,
            "value": 0,
            "w": 7
           },
           {
            "h": 8,
            "value": 0,
            "w": 7
           },
           {
            "h": 9,
            "value": 0,
            "w": 7
           },
           {
            "h": 10,
            "value": 0,
            "w": 7
           },
           {
            "h": 11,
            "value": 0.0007977524073794484,
            "w": 7
           },
           {
            "h": 12,
            "value": 0.0008187387720681727,
            "w": 7
           },
           {
            "h": 13,
            "value": 0.05191267654299736,
            "w": 7
           },
           {
            "h": 14,
            "value": 0.5969294905662537,
            "w": 7
           },
           {
            "h": 15,
            "value": 0.8212251663208008,
            "w": 7
           },
           {
            "h": 16,
            "value": 0.8105137944221497,
            "w": 7
           },
           {
            "h": 17,
            "value": 0.8629082441329956,
            "w": 7
           },
           {
            "h": 18,
            "value": 0.7845333814620972,
            "w": 7
           },
           {
            "h": 19,
            "value": 0.7443842887878418,
            "w": 7
           },
           {
            "h": 20,
            "value": 0.8020830750465393,
            "w": 7
           },
           {
            "h": 21,
            "value": 0.7518057227134705,
            "w": 7
           },
           {
            "h": 22,
            "value": 0.8709708452224731,
            "w": 7
           },
           {
            "h": 23,
            "value": 0.48244795203208923,
            "w": 7
           },
           {
            "h": 24,
            "value": 0.08478959649801254,
            "w": 7
           },
           {
            "h": 25,
            "value": 0,
            "w": 7
           },
           {
            "h": 26,
            "value": 0,
            "w": 7
           },
           {
            "h": 27,
            "value": 0,
            "w": 7
           },
           {
            "h": 0,
            "value": 0,
            "w": 8
           },
           {
            "h": 1,
            "value": 0,
            "w": 8
           },
           {
            "h": 2,
            "value": 0,
            "w": 8
           },
           {
            "h": 3,
            "value": 0,
            "w": 8
           },
           {
            "h": 4,
            "value": 0,
            "w": 8
           },
           {
            "h": 5,
            "value": 0,
            "w": 8
           },
           {
            "h": 6,
            "value": 0.0012321325484663248,
            "w": 8
           },
           {
            "h": 7,
            "value": 0.0008610865916125476,
            "w": 8
           },
           {
            "h": 8,
            "value": 0,
            "w": 8
           },
           {
            "h": 9,
            "value": 0.0020366543903946877,
            "w": 8
           },
           {
            "h": 10,
            "value": 0.0014270442770794034,
            "w": 8
           },
           {
            "h": 11,
            "value": 0.00954036507755518,
            "w": 8
           },
           {
            "h": 12,
            "value": 0.005114290863275528,
            "w": 8
           },
           {
            "h": 13,
            "value": 0.20200638473033905,
            "w": 8
           },
           {
            "h": 14,
            "value": 0.674089252948761,
            "w": 8
           },
           {
            "h": 15,
            "value": 0.8480710387229919,
            "w": 8
           },
           {
            "h": 16,
            "value": 0.8125055432319641,
            "w": 8
           },
           {
            "h": 17,
            "value": 0.7936692237854004,
            "w": 8
           },
           {
            "h": 18,
            "value": 0.7697839736938477,
            "w": 8
           },
           {
            "h": 19,
            "value": 0.78275066614151,
            "w": 8
           },
           {
            "h": 20,
            "value": 0.8166939616203308,
            "w": 8
           },
           {
            "h": 21,
            "value": 0.7746949195861816,
            "w": 8
           },
           {
            "h": 22,
            "value": 0.8536193370819092,
            "w": 8
           },
           {
            "h": 23,
            "value": 0.5719252824783325,
            "w": 8
           },
           {
            "h": 24,
            "value": 0.10220111906528473,
            "w": 8
           },
           {
            "h": 25,
            "value": 0,
            "w": 8
           },
           {
            "h": 26,
            "value": 0,
            "w": 8
           },
           {
            "h": 27,
            "value": 0,
            "w": 8
           },
           {
            "h": 0,
            "value": 0,
            "w": 9
           },
           {
            "h": 1,
            "value": 0,
            "w": 9
           },
           {
            "h": 2,
            "value": 0,
            "w": 9
           },
           {
            "h": 3,
            "value": 0,
            "w": 9
           },
           {
            "h": 4,
            "value": 0,
            "w": 9
           },
           {
            "h": 5,
            "value": 0,
            "w": 9
           },
           {
            "h": 6,
            "value": 0.0020703270565718412,
            "w": 9
           },
           {
            "h": 7,
            "value": 0.0018772439798340201,
            "w": 9
           },
           {
            "h": 8,
            "value": 0,
            "w": 9
           },
           {
            "h": 9,
            "value": 0.005287543870508671,
            "w": 9
           },
           {
            "h": 10,
            "value": 0.01675174944102764,
            "w": 9
           },
           {
            "h": 11,
            "value": 0.011210955679416656,
            "w": 9
           },
           {
            "h": 12,
            "value": 0,
            "w": 9
           },
           {
            "h": 13,
            "value": 0.30576270818710327,
            "w": 9
           },
           {
            "h": 14,
            "value": 0.7586159110069275,
            "w": 9
           },
           {
            "h": 15,
            "value": 0.8438136577606201,
            "w": 9
           },
           {
            "h": 16,
            "value": 0.8287438750267029,
            "w": 9
           },
           {
            "h": 17,
            "value": 0.8362125754356384,
            "w": 9
           },
           {
            "h": 18,
            "value": 0.8188398480415344,
            "w": 9
           },
           {
            "h": 19,
            "value": 0.8207557797431946,
            "w": 9
           },
           {
            "h": 20,
            "value": 0.8289116024971008,
            "w": 9
           },
           {
            "h": 21,
            "value": 0.7820382714271545,
            "w": 9
           },
           {
            "h": 22,
            "value": 0.8295018076896667,
            "w": 9
           },
           {
            "h": 23,
            "value": 0.6207635402679443,
            "w": 9
           },
           {
            "h": 24,
            "value": 0.08741647750139236,
            "w": 9
           },
           {
            "h": 25,
            "value": 0,
            "w": 9
           },
           {
            "h": 26,
            "value": 0,
            "w": 9
           },
           {
            "h": 27,
            "value": 0,
            "w": 9
           },
           {
            "h": 0,
            "value": 0,
            "w": 10
           },
           {
            "h": 1,
            "value": 0,
            "w": 10
           },
           {
            "h": 2,
            "value": 0,
            "w": 10
           },
           {
            "h": 3,
            "value": 0,
            "w": 10
           },
           {
            "h": 4,
            "value": 0,
            "w": 10
           },
           {
            "h": 5,
            "value": 0.0005931736086495221,
            "w": 10
           },
           {
            "h": 6,
            "value": 0.002714013447985053,
            "w": 10
           },
           {
            "h": 7,
            "value": 0.0023280917666852474,
            "w": 10
           },
           {
            "h": 8,
            "value": 0,
            "w": 10
           },
           {
            "h": 9,
            "value": 0.0008307723910547793,
            "w": 10
           },
           {
            "h": 10,
            "value": 0.0010550508741289377,
            "w": 10
           },
           {
            "h": 11,
            "value": 0.016226330772042274,
            "w": 10
           },
           {
            "h": 12,
            "value": 0.07965631037950516,
            "w": 10
           },
           {
            "h": 13,
            "value": 0.46788179874420166,
            "w": 10
           },
           {
            "h": 14,
            "value": 0.8464241623878479,
            "w": 10
           },
           {
            "h": 15,
            "value": 0.8397472500801086,
            "w": 10
           },
           {
            "h": 16,
            "value": 0.8371436595916748,
            "w": 10
           },
           {
            "h": 17,
            "value": 0.8963598012924194,
            "w": 10
           },
           {
            "h": 18,
            "value": 0.826897144317627,
            "w": 10
           },
           {
            "h": 19,
            "value": 0.8038222789764404,
            "w": 10
           },
           {
            "h": 20,
            "value": 0.849126398563385,
            "w": 10
           },
           {
            "h": 21,
            "value": 0.7996191382408142,
            "w": 10
           },
           {
            "h": 22,
            "value": 0.7977933883666992,
            "w": 10
           },
           {
            "h": 23,
            "value": 0.6659306883811951,
            "w": 10
           },
           {
            "h": 24,
            "value": 0.04412953555583954,
            "w": 10
           },
           {
            "h": 25,
            "value": 0,
            "w": 10
           },
           {
            "h": 26,
            "value": 0,
            "w": 10
           },
           {
            "h": 27,
            "value": 0,
            "w": 10
           },
           {
            "h": 0,
            "value": 0,
            "w": 11
           },
           {
            "h": 1,
            "value": 0,
            "w": 11
           },
           {
            "h": 2,
            "value": 5.7925011788029224e-05,
            "w": 11
           },
           {
            "h": 3,
            "value": 0.001921385177411139,
            "w": 11
           },
           {
            "h": 4,
            "value": 0.0038713468238711357,
            "w": 11
           },
           {
            "h": 5,
            "value": 0.0007719059940427542,
            "w": 11
           },
           {
            "h": 6,
            "value": 0.0020830517169088125,
            "w": 11
           },
           {
            "h": 7,
            "value": 0.0011566278990358114,
            "w": 11
           },
           {
            "h": 8,
            "value": 0,
            "w": 11
           },
           {
            "h": 9,
            "value": 0.010649561882019043,
            "w": 11
           },
           {
            "h": 10,
            "value": 0.1297198385000229,
            "w": 11
           },
           {
            "h": 11,
            "value": 0.3689902722835541,
            "w": 11
           },
           {
            "h": 12,
            "value": 0.4817318618297577,
            "w": 11
           },
           {
            "h": 13,
            "value": 0.9060313105583191,
            "w": 11
           },
           {
            "h": 14,
            "value": 0.8627499938011169,
            "w": 11
           },
           {
            "h": 15,
            "value": 0.8293336033821106,
            "w": 11
           },
           {
            "h": 16,
            "value": 0.6543424725532532,
            "w": 11
           },
           {
            "h": 17,
            "value": 0.5797847509384155,
            "w": 11
           },
           {
            "h": 18,
            "value": 0.9080150127410889,
            "w": 11
           },
           {
            "h": 19,
            "value": 0.8401803374290466,
            "w": 11
           },
           {
            "h": 20,
            "value": 0.8569414615631104,
            "w": 11
           },
           {
            "h": 21,
            "value": 0.8010770678520203,
            "w": 11
           },
           {
            "h": 22,
            "value": 0.7667431831359863,
            "w": 11
           },
           {
            "h": 23,
            "value": 0.7047374844551086,
            "w": 11
           },
           {
            "h": 24,
            "value": 0,
            "w": 11
           },
           {
            "h": 25,
            "value": 0,
            "w": 11
           },
           {
            "h": 26,
            "value": 0,
            "w": 11
           },
           {
            "h": 27,
            "value": 0,
            "w": 11
           },
           {
            "h": 0,
            "value": 0,
            "w": 12
           },
           {
            "h": 1,
            "value": 0.0007523003732785583,
            "w": 12
           },
           {
            "h": 2,
            "value": 0.005552207585424185,
            "w": 12
           },
           {
            "h": 3,
            "value": 0.012492142617702484,
            "w": 12
           },
           {
            "h": 4,
            "value": 0.01451850589364767,
            "w": 12
           },
           {
            "h": 5,
            "value": 0.017820028588175774,
            "w": 12
           },
           {
            "h": 6,
            "value": 0.16852323710918427,
            "w": 12
           },
           {
            "h": 7,
            "value": 0.44588494300842285,
            "w": 12
           },
           {
            "h": 8,
            "value": 0.5013085007667542,
            "w": 12
           },
           {
            "h": 9,
            "value": 0.6257624626159668,
            "w": 12
           },
           {
            "h": 10,
            "value": 0.8138617277145386,
            "w": 12
           },
           {
            "h": 11,
            "value": 0.9492711424827576,
            "w": 12
           },
           {
            "h": 12,
            "value": 0.9150188565254211,
            "w": 12
           },
           {
            "h": 13,
            "value": 0.8688184022903442,
            "w": 12
           },
           {
            "h": 14,
            "value": 0.824206531047821,
            "w": 12
           },
           {
            "h": 15,
            "value": 0.8301214575767517,
            "w": 12
           },
           {
            "h": 16,
            "value": 0.7892353534698486,
            "w": 12
           },
           {
            "h": 17,
            "value": 0.5055602192878723,
            "w": 12
           },
           {
            "h": 18,
            "value": 0.42207667231559753,
            "w": 12
           },
           {
            "h": 19,
            "value": 0.9294620156288147,
            "w": 12
           },
           {
            "h": 20,
            "value": 0.8596625924110413,
            "w": 12
           },
           {
            "h": 21,
            "value": 0.7796418070793152,
            "w": 12
           },
           {
            "h": 22,
            "value": 0.7680119276046753,
            "w": 12
           },
           {
            "h": 23,
            "value": 0.7610707879066467,
            "w": 12
           },
           {
            "h": 24,
            "value": 0,
            "w": 12
           },
           {
            "h": 25,
            "value": 0,
            "w": 12
           },
           {
            "h": 26,
            "value": 0,
            "w": 12
           },
           {
            "h": 27,
            "value": 0,
            "w": 12
           },
           {
            "h": 0,
            "value": 0,
            "w": 13
           },
           {
            "h": 1,
            "value": 4.734403046313673e-05,
            "w": 13
           },
           {
            "h": 2,
            "value": 2.007134935411159e-05,
            "w": 13
           },
           {
            "h": 3,
            "value": 0.01814226247370243,
            "w": 13
           },
           {
            "h": 4,
            "value": 0.0940653383731842,
            "w": 13
           },
           {
            "h": 5,
            "value": 0.22554466128349304,
            "w": 13
           },
           {
            "h": 6,
            "value": 0.5392054319381714,
            "w": 13
           },
           {
            "h": 7,
            "value": 0.8531879782676697,
            "w": 13
           },
           {
            "h": 8,
            "value": 0.8316697478294373,
            "w": 13
           },
           {
            "h": 9,
            "value": 0.8665000200271606,
            "w": 13
           },
           {
            "h": 10,
            "value": 0.8630562424659729,
            "w": 13
           },
           {
            "h": 11,
            "value": 0.8711880445480347,
            "w": 13
           },
           {
            "h": 12,
            "value": 0.8941020369529724,
            "w": 13
           },
           {
            "h": 13,
            "value": 0.8568102121353149,
            "w": 13
           },
           {
            "h": 14,
            "value": 0.8462356925010681,
            "w": 13
           },
           {
            "h": 15,
            "value": 0.7944880127906799,
            "w": 13
           },
           {
            "h": 16,
            "value": 0.8373665809631348,
            "w": 13
           },
           {
            "h": 17,
            "value": 0.8844385147094727,
            "w": 13
           },
           {
            "h": 18,
            "value": 0.2885885238647461,
            "w": 13
           },
           {
            "h": 19,
            "value": 0.7646467685699463,
            "w": 13
           },
           {
            "h": 20,
            "value": 0.9189733266830444,
            "w": 13
           },
           {
            "h": 21,
            "value": 0.771939754486084,
            "w": 13
           },
           {
            "h": 22,
            "value": 0.7827621102333069,
            "w": 13
           },
           {
            "h": 23,
            "value": 0.7550970315933228,
            "w": 13
           },
           {
            "h": 24,
            "value": 0.03860219568014145,
            "w": 13
           },
           {
            "h": 25,
            "value": 0,
            "w": 13
           },
           {
            "h": 26,
            "value": 0,
            "w": 13
           },
           {
            "h": 27,
            "value": 0,
            "w": 13
           },
           {
            "h": 0,
            "value": 0,
            "w": 14
           },
           {
            "h": 1,
            "value": 0,
            "w": 14
           },
           {
            "h": 2,
            "value": 0,
            "w": 14
           },
           {
            "h": 3,
            "value": 0.17720212042331696,
            "w": 14
           },
           {
            "h": 4,
            "value": 0.47883549332618713,
            "w": 14
           },
           {
            "h": 5,
            "value": 0.7066640853881836,
            "w": 14
           },
           {
            "h": 6,
            "value": 0.835736095905304,
            "w": 14
           },
           {
            "h": 7,
            "value": 0.9064499735832214,
            "w": 14
           },
           {
            "h": 8,
            "value": 0.8614858984947205,
            "w": 14
           },
           {
            "h": 9,
            "value": 0.8624092936515808,
            "w": 14
           },
           {
            "h": 10,
            "value": 0.8360139727592468,
            "w": 14
           },
           {
            "h": 11,
            "value": 0.8601070642471313,
            "w": 14
           },
           {
            "h": 12,
            "value": 0.8974734544754028,
            "w": 14
           },
           {
            "h": 13,
            "value": 0.8759835958480835,
            "w": 14
           },
           {
            "h": 14,
            "value": 0.8634023666381836,
            "w": 14
           },
           {
            "h": 15,
            "value": 0.8201687932014465,
            "w": 14
           },
           {
            "h": 16,
            "value": 0.7908462882041931,
            "w": 14
           },
           {
            "h": 17,
            "value": 0.9111867547035217,
            "w": 14
           },
           {
            "h": 18,
            "value": 0.45951324701309204,
            "w": 14
           },
           {
            "h": 19,
            "value": 0.8199202418327332,
            "w": 14
           },
           {
            "h": 20,
            "value": 0.8822504878044128,
            "w": 14
           },
           {
            "h": 21,
            "value": 0.7759391665458679,
            "w": 14
           },
           {
            "h": 22,
            "value": 0.7982710599899292,
            "w": 14
           },
           {
            "h": 23,
            "value": 0.7424677610397339,
            "w": 14
           },
           {
            "h": 24,
            "value": 0.12046798318624496,
            "w": 14
           },
           {
            "h": 25,
            "value": 0,
            "w": 14
           },
           {
            "h": 26,
            "value": 0,
            "w": 14
           },
           {
            "h": 27,
            "value": 0,
            "w": 14
           },
           {
            "h": 0,
            "value": 0,
            "w": 15
           },
           {
            "h": 1,
            "value": 0,
            "w": 15
           },
           {
            "h": 2,
            "value": 0.04330636188387871,
            "w": 15
           },
           {
            "h": 3,
            "value": 0.4651569128036499,
            "w": 15
           },
           {
            "h": 4,
            "value": 0.7394053936004639,
            "w": 15
           },
           {
            "h": 5,
            "value": 0.8689830899238586,
            "w": 15
           },
           {
            "h": 6,
            "value": 0.8673510551452637,
            "w": 15
           },
           {
            "h": 7,
            "value": 0.9038330912590027,
            "w": 15
           },
           {
            "h": 8,
            "value": 0.873730480670929,
            "w": 15
           },
           {
            "h": 9,
            "value": 0.8447742462158203,
            "w": 15
           },
           {
            "h": 10,
            "value": 0.8497011661529541,
            "w": 15
           },
           {
            "h": 11,
            "value": 0.8537501692771912,
            "w": 15
           },
           {
            "h": 12,
            "value": 0.8896058797836304,
            "w": 15
           },
           {
            "h": 13,
            "value": 0.8756092190742493,
            "w": 15
           },
           {
            "h": 14,
            "value": 0.8462116718292236,
            "w": 15
           },
           {
            "h": 15,
            "value": 0.8570555448532104,
            "w": 15
           },
           {
            "h": 16,
            "value": 0.8528404831886292,
            "w": 15
           },
           {
            "h": 17,
            "value": 0.8709562420845032,
            "w": 15
           },
           {
            "h": 18,
            "value": 0.5528103113174438,
            "w": 15
           },
           {
            "h": 19,
            "value": 0.8322402834892273,
            "w": 15
           },
           {
            "h": 20,
            "value": 0.8731381297111511,
            "w": 15
           },
           {
            "h": 21,
            "value": 0.7736663222312927,
            "w": 15
           },
           {
            "h": 22,
            "value": 0.8026866912841797,
            "w": 15
           },
           {
            "h": 23,
            "value": 0.738077700138092,
            "w": 15
           },
           {
            "h": 24,
            "value": 0.19909420609474182,
            "w": 15
           },
           {
            "h": 25,
            "value": 0,
            "w": 15
           },
           {
            "h": 26,
            "value": 0,
            "w": 15
           },
           {
            "h": 27,
            "value": 0,
            "w": 15
           },
           {
            "h": 0,
            "value": 0,
            "w": 16
           },
           {
            "h": 1,
            "value": 0,
            "w": 16
           },
           {
            "h": 2,
            "value": 0.21034982800483704,
            "w": 16
           },
           {
            "h": 3,
            "value": 0.419759601354599,
            "w": 16
           },
           {
            "h": 4,
            "value": 0.6007726192474365,
            "w": 16
           },
           {
            "h": 5,
            "value": 0.7380272746086121,
            "w": 16
           },
           {
            "h": 6,
            "value": 0.8267732262611389,
            "w": 16
           },
           {
            "h": 7,
            "value": 0.8896381258964539,
            "w": 16
           },
           {
            "h": 8,
            "value": 0.8921221494674683,
            "w": 16
           },
           {
            "h": 9,
            "value": 0.8191801309585571,
            "w": 16
           },
           {
            "h": 10,
            "value": 0.7693633437156677,
            "w": 16
           },
           {
            "h": 11,
            "value": 0.7822710275650024,
            "w": 16
           },
           {
            "h": 12,
            "value": 0.891767680644989,
            "w": 16
           },
           {
            "h": 13,
            "value": 0.8849197030067444,
            "w": 16
           },
           {
            "h": 14,
            "value": 0.8340973258018494,
            "w": 16
           },
           {
            "h": 15,
            "value": 0.8674479126930237,
            "w": 16
           },
           {
            "h": 16,
            "value": 0.9274522066116333,
            "w": 16
           },
           {
            "h": 17,
            "value": 0.8412190079689026,
            "w": 16
           },
           {
            "h": 18,
            "value": 0.6715171933174133,
            "w": 16
           },
           {
            "h": 19,
            "value": 0.8321566581726074,
            "w": 16
           },
           {
            "h": 20,
            "value": 0.8381115198135376,
            "w": 16
           },
           {
            "h": 21,
            "value": 0.7706958651542664,
            "w": 16
           },
           {
            "h": 22,
            "value": 0.7993521690368652,
            "w": 16
           },
           {
            "h": 23,
            "value": 0.7564995884895325,
            "w": 16
           },
           {
            "h": 24,
            "value": 0.2827640175819397,
            "w": 16
           },
           {
            "h": 25,
            "value": 0,
            "w": 16
           },
           {
            "h": 26,
            "value": 0,
            "w": 16
           },
           {
            "h": 27,
            "value": 0,
            "w": 16
           },
           {
            "h": 0,
            "value": 0,
            "w": 17
           },
           {
            "h": 1,
            "value": 0,
            "w": 17
           },
           {
            "h": 2,
            "value": 0.005601328797638416,
            "w": 17
           },
           {
            "h": 3,
            "value": 0.15105554461479187,
            "w": 17
           },
           {
            "h": 4,
            "value": 0.4210977852344513,
            "w": 17
           },
           {
            "h": 5,
            "value": 0.5825574994087219,
            "w": 17
           },
           {
            "h": 6,
            "value": 0.7418705224990845,
            "w": 17
           },
           {
            "h": 7,
            "value": 0.8700270652770996,
            "w": 17
           },
           {
            "h": 8,
            "value": 0.9001877903938293,
            "w": 17
           },
           {
            "h": 9,
            "value": 0.8015108704566956,
            "w": 17
           },
           {
            "h": 10,
            "value": 0.6898995041847229,
            "w": 17
           },
           {
            "h": 11,
            "value": 0.7287177443504333,
            "w": 17
           },
           {
            "h": 12,
            "value": 0.8518528342247009,
            "w": 17
           },
           {
            "h": 13,
            "value": 0.8796240091323853,
            "w": 17
           },
           {
            "h": 14,
            "value": 0.8513468503952026,
            "w": 17
           },
           {
            "h": 15,
            "value": 0.8711377382278442,
            "w": 17
           },
           {
            "h": 16,
            "value": 0.9547054171562195,
            "w": 17
           },
           {
            "h": 17,
            "value": 0.8098548054695129,
            "w": 17
           },
           {
            "h": 18,
            "value": 0.7304665446281433,
            "w": 17
           },
           {
            "h": 19,
            "value": 0.8622103929519653,
            "w": 17
           },
           {
            "h": 20,
            "value": 0.8382261395454407,
            "w": 17
           },
           {
            "h": 21,
            "value": 0.7741456031799316,
            "w": 17
           },
           {
            "h": 22,
            "value": 0.7906304597854614,
            "w": 17
           },
           {
            "h": 23,
            "value": 0.769136905670166,
            "w": 17
           },
           {
            "h": 24,
            "value": 0.3638191819190979,
            "w": 17
           },
           {
            "h": 25,
            "value": 0,
            "w": 17
           },
           {
            "h": 26,
            "value": 0,
            "w": 17
           },
           {
            "h": 27,
            "value": 0,
            "w": 17
           },
           {
            "h": 0,
            "value": 0,
            "w": 18
           },
           {
            "h": 1,
            "value": 0,
            "w": 18
           },
           {
            "h": 2,
            "value": 0,
            "w": 18
           },
           {
            "h": 3,
            "value": 0.10038839280605316,
            "w": 18
           },
           {
            "h": 4,
            "value": 0.3623858094215393,
            "w": 18
           },
           {
            "h": 5,
            "value": 0.5090439915657043,
            "w": 18
           },
           {
            "h": 6,
            "value": 0.6282724738121033,
            "w": 18
           },
           {
            "h": 7,
            "value": 0.8030761480331421,
            "w": 18
           },
           {
            "h": 8,
            "value": 0.8872739672660828,
            "w": 18
           },
           {
            "h": 9,
            "value": 0.852374792098999,
            "w": 18
           },
           {
            "h": 10,
            "value": 0.8384504914283752,
            "w": 18
           },
           {
            "h": 11,
            "value": 0.87891685962677,
            "w": 18
           },
           {
            "h": 12,
            "value": 0.8519953489303589,
            "w": 18
           },
           {
            "h": 13,
            "value": 0.8497858643531799,
            "w": 18
           },
           {
            "h": 14,
            "value": 0.8612760901451111,
            "w": 18
           },
           {
            "h": 15,
            "value": 0.8431212902069092,
            "w": 18
           },
           {
            "h": 16,
            "value": 0.8456752300262451,
            "w": 18
           },
           {
            "h": 17,
            "value": 0.8223233222961426,
            "w": 18
           },
           {
            "h": 18,
            "value": 0.7801996469497681,
            "w": 18
           },
           {
            "h": 19,
            "value": 0.862154483795166,
            "w": 18
           },
           {
            "h": 20,
            "value": 0.803953230381012,
            "w": 18
           },
           {
            "h": 21,
            "value": 0.7448353171348572,
            "w": 18
           },
           {
            "h": 22,
            "value": 0.7832872867584229,
            "w": 18
           },
           {
            "h": 23,
            "value": 0.7588171362876892,
            "w": 18
           },
           {
            "h": 24,
            "value": 0.43837955594062805,
            "w": 18
           },
           {
            "h": 25,
            "value": 0,
            "w": 18
           },
           {
            "h": 26,
            "value": 0,
            "w": 18
           },
           {
            "h": 27,
            "value": 0,
            "w": 18
           },
           {
            "h": 0,
            "value": 0,
            "w": 19
           },
           {
            "h": 1,
            "value": 0,
            "w": 19
           },
           {
            "h": 2,
            "value": 0.0015174425207078457,
            "w": 19
           },
           {
            "h": 3,
            "value": 0.0028619940858334303,
            "w": 19
           },
           {
            "h": 4,
            "value": 0.16032205522060394,
            "w": 19
           },
           {
            "h": 5,
            "value": 0.4618740677833557,
            "w": 19
           },
           {
            "h": 6,
            "value": 0.6050134897232056,
            "w": 19
           },
           {
            "h": 7,
            "value": 0.6733906269073486,
            "w": 19
           },
           {
            "h": 8,
            "value": 0.8645992875099182,
            "w": 19
           },
           {
            "h": 9,
            "value": 0.8612348437309265,
            "w": 19
           },
           {
            "h": 10,
            "value": 0.8246621489524841,
            "w": 19
           },
           {
            "h": 11,
            "value": 0.8256946802139282,
            "w": 19
           },
           {
            "h": 12,
            "value": 0.8472723960876465,
            "w": 19
           },
           {
            "h": 13,
            "value": 0.8571975231170654,
            "w": 19
           },
           {
            "h": 14,
            "value": 0.863048791885376,
            "w": 19
           },
           {
            "h": 15,
            "value": 0.8240103721618652,
            "w": 19
           },
           {
            "h": 16,
            "value": 0.7725495100021362,
            "w": 19
           },
           {
            "h": 17,
            "value": 0.8703204393386841,
            "w": 19
           },
           {
            "h": 18,
            "value": 0.8201320171356201,
            "w": 19
           },
           {
            "h": 19,
            "value": 0.8418108224868774,
            "w": 19
           },
           {
            "h": 20,
            "value": 0.796345591545105,
            "w": 19
           },
           {
            "h": 21,
            "value": 0.717790424823761,
            "w": 19
           },
           {
            "h": 22,
            "value": 0.7370158433914185,
            "w": 19
           },
           {
            "h": 23,
            "value": 0.7209031581878662,
            "w": 19
           },
           {
            "h": 24,
            "value": 0.4973897933959961,
            "w": 19
           },
           {
            "h": 25,
            "value": 0,
            "w": 19
           },
           {
            "h": 26,
            "value": 0,
            "w": 19
           },
           {
            "h": 27,
            "value": 0,
            "w": 19
           },
           {
            "h": 0,
            "value": 0,
            "w": 20
           },
           {
            "h": 1,
            "value": 0,
            "w": 20
           },
           {
            "h": 2,
            "value": 0.0043733869679272175,
            "w": 20
           },
           {
            "h": 3,
            "value": 0.010521559976041317,
            "w": 20
           },
           {
            "h": 4,
            "value": 0.02047470398247242,
            "w": 20
           },
           {
            "h": 5,
            "value": 0.2007143795490265,
            "w": 20
           },
           {
            "h": 6,
            "value": 0.5322650671005249,
            "w": 20
           },
           {
            "h": 7,
            "value": 0.5763954520225525,
            "w": 20
           },
           {
            "h": 8,
            "value": 0.8469499945640564,
            "w": 20
           },
           {
            "h": 9,
            "value": 0.861312747001648,
            "w": 20
           },
           {
            "h": 10,
            "value": 0.8323425650596619,
            "w": 20
           },
           {
            "h": 11,
            "value": 0.8499343395233154,
            "w": 20
           },
           {
            "h": 12,
            "value": 0.8477252721786499,
            "w": 20
           },
           {
            "h": 13,
            "value": 0.8828275799751282,
            "w": 20
           },
           {
            "h": 14,
            "value": 0.8795363306999207,
            "w": 20
           },
           {
            "h": 15,
            "value": 0.8629907369613647,
            "w": 20
           },
           {
            "h": 16,
            "value": 0.876281201839447,
            "w": 20
           },
           {
            "h": 17,
            "value": 0.8689017295837402,
            "w": 20
           },
           {
            "h": 18,
            "value": 0.8131201267242432,
            "w": 20
           },
           {
            "h": 19,
            "value": 0.8450032472610474,
            "w": 20
           },
           {
            "h": 20,
            "value": 0.7989418506622314,
            "w": 20
           },
           {
            "h": 21,
            "value": 0.6895667314529419,
            "w": 20
           },
           {
            "h": 22,
            "value": 0.6820811629295349,
            "w": 20
           },
           {
            "h": 23,
            "value": 0.7319590449333191,
            "w": 20
           },
           {
            "h": 24,
            "value": 0.5604814291000366,
            "w": 20
           },
           {
            "h": 25,
            "value": 0,
            "w": 20
           },
           {
            "h": 26,
            "value": 0,
            "w": 20
           },
           {
            "h": 27,
            "value": 0,
            "w": 20
           },
           {
            "h": 0,
            "value": 0,
            "w": 21
           },
           {
            "h": 1,
            "value": 0,
            "w": 21
           },
           {
            "h": 2,
            "value": 0.00015730352606624365,
            "w": 21
           },
           {
            "h": 3,
            "value": 3.80120036425069e-05,
            "w": 21
           },
           {
            "h": 4,
            "value": 0.0005674274289049208,
            "w": 21
           },
           {
            "h": 5,
            "value": 0.05837830901145935,
            "w": 21
           },
           {
            "h": 6,
            "value": 0.3741704821586609,
            "w": 21
           },
           {
            "h": 7,
            "value": 0.5132867097854614,
            "w": 21
           },
           {
            "h": 8,
            "value": 0.7356183528900146,
            "w": 21
           },
           {
            "h": 9,
            "value": 0.8709094524383545,
            "w": 21
           },
           {
            "h": 10,
            "value": 0.8392066359519958,
            "w": 21
           },
           {
            "h": 11,
            "value": 0.8769642114639282,
            "w": 21
           },
           {
            "h": 12,
            "value": 0.874383270740509,
            "w": 21
           },
           {
            "h": 13,
            "value": 0.9020784497261047,
            "w": 21
           },
           {
            "h": 14,
            "value": 0.877814531326294,
            "w": 21
           },
           {
            "h": 15,
            "value": 0.8630481362342834,
            "w": 21
           },
           {
            "h": 16,
            "value": 0.9653109312057495,
            "w": 21
           },
           {
            "h": 17,
            "value": 0.8384364247322083,
            "w": 21
           },
           {
            "h": 18,
            "value": 0.8190524578094482,
            "w": 21
           },
           {
            "h": 19,
            "value": 0.871668815612793,
            "w": 21
           },
           {
            "h": 20,
            "value": 0.8596380949020386,
            "w": 21
           },
           {
            "h": 21,
            "value": 0.6759741306304932,
            "w": 21
           },
           {
            "h": 22,
            "value": 0.627977728843689,
            "w": 21
           },
           {
            "h": 23,
            "value": 0.7510124444961548,
            "w": 21
           },
           {
            "h": 24,
            "value": 0.5157342553138733,
            "w": 21
           },
           {
            "h": 25,
            "value": 0,
            "w": 21
           },
           {
            "h": 26,
            "value": 0,
            "w": 21
           },
           {
            "h": 27,
            "value": 0,
            "w": 21
           },
           {
            "h": 0,
            "value": 0,
            "w": 22
           },
           {
            "h": 1,
            "value": 0,
            "w": 22
           },
           {
            "h": 2,
            "value": 0,
            "w": 22
           },
           {
            "h": 3,
            "value": 0.0002301834465470165,
            "w": 22
           },
           {
            "h": 4,
            "value": 0.004979581572115421,
            "w": 22
           },
           {
            "h": 5,
            "value": 0.008233333006501198,
            "w": 22
           },
           {
            "h": 6,
            "value": 0.19828681647777557,
            "w": 22
           },
           {
            "h": 7,
            "value": 0.5276481509208679,
            "w": 22
           },
           {
            "h": 8,
            "value": 0.5587428212165833,
            "w": 22
           },
           {
            "h": 9,
            "value": 0.8696438670158386,
            "w": 22
           },
           {
            "h": 10,
            "value": 0.8686426877975464,
            "w": 22
           },
           {
            "h": 11,
            "value": 0.832757294178009,
            "w": 22
           },
           {
            "h": 12,
            "value": 0.8709205389022827,
            "w": 22
           },
           {
            "h": 13,
            "value": 0.8513903617858887,
            "w": 22
           },
           {
            "h": 14,
            "value": 0.8469316363334656,
            "w": 22
           },
           {
            "h": 15,
            "value": 0.8580677509307861,
            "w": 22
           },
           {
            "h": 16,
            "value": 0.9378871321678162,
            "w": 22
           },
           {
            "h": 17,
            "value": 0.8540442585945129,
            "w": 22
           },
           {
            "h": 18,
            "value": 0.858942449092865,
            "w": 22
           },
           {
            "h": 19,
            "value": 0.8740076422691345,
            "w": 22
           },
           {
            "h": 20,
            "value": 0.8634657859802246,
            "w": 22
           },
           {
            "h": 21,
            "value": 0.7305232882499695,
            "w": 22
           },
           {
            "h": 22,
            "value": 0.6690629720687866,
            "w": 22
           },
           {
            "h": 23,
            "value": 0.7766063809394836,
            "w": 22
           },
           {
            "h": 24,
            "value": 0.3549794852733612,
            "w": 22
           },
           {
            "h": 25,
            "value": 0.027313899248838425,
            "w": 22
           },
           {
            "h": 26,
            "value": 0,
            "w": 22
           },
           {
            "h": 27,
            "value": 0,
            "w": 22
           },
           {
            "h": 0,
            "value": 0,
            "w": 23
           },
           {
            "h": 1,
            "value": 0,
            "w": 23
           },
           {
            "h": 2,
            "value": 0,
            "w": 23
           },
           {
            "h": 3,
            "value": 0,
            "w": 23
           },
           {
            "h": 4,
            "value": 0.011542905122041702,
            "w": 23
           },
           {
            "h": 5,
            "value": 0.0009625408565625548,
            "w": 23
           },
           {
            "h": 6,
            "value": 0.15854142606258392,
            "w": 23
           },
           {
            "h": 7,
            "value": 0.5303999185562134,
            "w": 23
           },
           {
            "h": 8,
            "value": 0.4951637089252472,
            "w": 23
           },
           {
            "h": 9,
            "value": 0.8332616686820984,
            "w": 23
           },
           {
            "h": 10,
            "value": 0.8654722571372986,
            "w": 23
           },
           {
            "h": 11,
            "value": 0.881877601146698,
            "w": 23
           },
           {
            "h": 12,
            "value": 0.9163296222686768,
            "w": 23
           },
           {
            "h": 13,
            "value": 0.8474566340446472,
            "w": 23
           },
           {
            "h": 14,
            "value": 0.891865611076355,
            "w": 23
           },
           {
            "h": 15,
            "value": 0.912351131439209,
            "w": 23
           },
           {
            "h": 16,
            "value": 0.9237610697746277,
            "w": 23
           },
           {
            "h": 17,
            "value": 0.8986202478408813,
            "w": 23
           },
           {
            "h": 18,
            "value": 0.8903302550315857,
            "w": 23
           },
           {
            "h": 19,
            "value": 0.8802254796028137,
            "w": 23
           },
           {
            "h": 20,
            "value": 0.868713915348053,
            "w": 23
           },
           {
            "h": 21,
            "value": 0.8163738250732422,
            "w": 23
           },
           {
            "h": 22,
            "value": 0.7389373779296875,
            "w": 23
           },
           {
            "h": 23,
            "value": 0.7760324478149414,
            "w": 23
           },
           {
            "h": 24,
            "value": 0.25197476148605347,
            "w": 23
           },
           {
            "h": 25,
            "value": 0.020131032913923264,
            "w": 23
           },
           {
            "h": 26,
            "value": 0,
            "w": 23
           },
           {
            "h": 27,
            "value": 0,
            "w": 23
           },
           {
            "h": 0,
            "value": 0,
            "w": 24
           },
           {
            "h": 1,
            "value": 0,
            "w": 24
           },
           {
            "h": 2,
            "value": 0,
            "w": 24
           },
           {
            "h": 3,
            "value": 0.00012180707562947646,
            "w": 24
           },
           {
            "h": 4,
            "value": 0.010964635759592056,
            "w": 24
           },
           {
            "h": 5,
            "value": 0.012385239824652672,
            "w": 24
           },
           {
            "h": 6,
            "value": 0.310041218996048,
            "w": 24
           },
           {
            "h": 7,
            "value": 0.44055190682411194,
            "w": 24
           },
           {
            "h": 8,
            "value": 0.6090157628059387,
            "w": 24
           },
           {
            "h": 9,
            "value": 0.8838883638381958,
            "w": 24
           },
           {
            "h": 10,
            "value": 0.9406217336654663,
            "w": 24
           },
           {
            "h": 11,
            "value": 0.8168327808380127,
            "w": 24
           },
           {
            "h": 12,
            "value": 0.5501754879951477,
            "w": 24
           },
           {
            "h": 13,
            "value": 0.6773355603218079,
            "w": 24
           },
           {
            "h": 14,
            "value": 0.761972188949585,
            "w": 24
           },
           {
            "h": 15,
            "value": 0.7898108959197998,
            "w": 24
           },
           {
            "h": 16,
            "value": 0.857488751411438,
            "w": 24
           },
           {
            "h": 17,
            "value": 0.9263707399368286,
            "w": 24
           },
           {
            "h": 18,
            "value": 0.9035130143165588,
            "w": 24
           },
           {
            "h": 19,
            "value": 0.892285168170929,
            "w": 24
           },
           {
            "h": 20,
            "value": 0.9005845189094543,
            "w": 24
           },
           {
            "h": 21,
            "value": 0.7885248064994812,
            "w": 24
           },
           {
            "h": 22,
            "value": 0.723131000995636,
            "w": 24
           },
           {
            "h": 23,
            "value": 0.5117390155792236,
            "w": 24
           },
           {
            "h": 24,
            "value": 0.11540915071964264,
            "w": 24
           },
           {
            "h": 25,
            "value": 0,
            "w": 24
           },
           {
            "h": 26,
            "value": 0,
            "w": 24
           },
           {
            "h": 27,
            "value": 0,
            "w": 24
           },
           {
            "h": 0,
            "value": 0,
            "w": 25
           },
           {
            "h": 1,
            "value": 0,
            "w": 25
           },
           {
            "h": 2,
            "value": 0,
            "w": 25
           },
           {
            "h": 3,
            "value": 0.002777908695861697,
            "w": 25
           },
           {
            "h": 4,
            "value": 0.0011696625733748078,
            "w": 25
           },
           {
            "h": 5,
            "value": 0.031287774443626404,
            "w": 25
           },
           {
            "h": 6,
            "value": 0.305850088596344,
            "w": 25
           },
           {
            "h": 7,
            "value": 0.4722452163696289,
            "w": 25
           },
           {
            "h": 8,
            "value": 0.7488441467285156,
            "w": 25
           },
           {
            "h": 9,
            "value": 0.7919313907623291,
            "w": 25
           },
           {
            "h": 10,
            "value": 0.7868492603302002,
            "w": 25
           },
           {
            "h": 11,
            "value": 0.8113548755645752,
            "w": 25
           },
           {
            "h": 12,
            "value": 0.6799569725990295,
            "w": 25
           },
           {
            "h": 13,
            "value": 0.3960256278514862,
            "w": 25
           },
           {
            "h": 14,
            "value": 0.22776751220226288,
            "w": 25
           },
           {
            "h": 15,
            "value": 0.29710882902145386,
            "w": 25
           },
           {
            "h": 16,
            "value": 0.3605792224407196,
            "w": 25
           },
           {
            "h": 17,
            "value": 0.329897940158844,
            "w": 25
           },
           {
            "h": 18,
            "value": 0.22353006899356842,
            "w": 25
           },
           {
            "h": 19,
            "value": 0.17506827414035797,
            "w": 25
           },
           {
            "h": 20,
            "value": 0.21259407699108124,
            "w": 25
           },
           {
            "h": 21,
            "value": 0.3736187219619751,
            "w": 25
           },
           {
            "h": 22,
            "value": 0.3984515070915222,
            "w": 25
           },
           {
            "h": 23,
            "value": 0.15306100249290466,
            "w": 25
           },
           {
            "h": 24,
            "value": 0,
            "w": 25
           },
           {
            "h": 25,
            "value": 0,
            "w": 25
           },
           {
            "h": 26,
            "value": 0,
            "w": 25
           },
           {
            "h": 27,
            "value": 0,
            "w": 25
           },
           {
            "h": 0,
            "value": 0,
            "w": 26
           },
           {
            "h": 1,
            "value": 0,
            "w": 26
           },
           {
            "h": 2,
            "value": 0,
            "w": 26
           },
           {
            "h": 3,
            "value": 0.002270130440592766,
            "w": 26
           },
           {
            "h": 4,
            "value": 0.002357075922191143,
            "w": 26
           },
           {
            "h": 5,
            "value": 0.018219493329524994,
            "w": 26
           },
           {
            "h": 6,
            "value": 0.12512849271297455,
            "w": 26
           },
           {
            "h": 7,
            "value": 0.3436385691165924,
            "w": 26
           },
           {
            "h": 8,
            "value": 0.38867098093032837,
            "w": 26
           },
           {
            "h": 9,
            "value": 0.2218647301197052,
            "w": 26
           },
           {
            "h": 10,
            "value": 0.12648046016693115,
            "w": 26
           },
           {
            "h": 11,
            "value": 0.14907598495483398,
            "w": 26
           },
           {
            "h": 12,
            "value": 0.21229372918605804,
            "w": 26
           },
           {
            "h": 13,
            "value": 0.103853739798069,
            "w": 26
           },
           {
            "h": 14,
            "value": 0,
            "w": 26
           },
           {
            "h": 15,
            "value": 0,
            "w": 26
           },
           {
            "h": 16,
            "value": 0,
            "w": 26
           },
           {
            "h": 17,
            "value": 0,
            "w": 26
           },
           {
            "h": 18,
            "value": 0,
            "w": 26
           },
           {
            "h": 19,
            "value": 0.0554196871817112,
            "w": 26
           },
           {
            "h": 20,
            "value": 0.18535630404949188,
            "w": 26
           },
           {
            "h": 21,
            "value": 0.35197803378105164,
            "w": 26
           },
           {
            "h": 22,
            "value": 0.4088210165500641,
            "w": 26
           },
           {
            "h": 23,
            "value": 0.19453899562358856,
            "w": 26
           },
           {
            "h": 24,
            "value": 0,
            "w": 26
           },
           {
            "h": 25,
            "value": 0,
            "w": 26
           },
           {
            "h": 26,
            "value": 0,
            "w": 26
           },
           {
            "h": 27,
            "value": 0,
            "w": 26
           },
           {
            "h": 0,
            "value": 0,
            "w": 27
           },
           {
            "h": 1,
            "value": 0,
            "w": 27
           },
           {
            "h": 2,
            "value": 0,
            "w": 27
           },
           {
            "h": 3,
            "value": 0,
            "w": 27
           },
           {
            "h": 4,
            "value": 0.00555063271895051,
            "w": 27
           },
           {
            "h": 5,
            "value": 0.006292080506682396,
            "w": 27
           },
           {
            "h": 6,
            "value": 0.026973092928528786,
            "w": 27
           },
           {
            "h": 7,
            "value": 0.14920593798160553,
            "w": 27
           },
           {
            "h": 8,
            "value": 0.14357423782348633,
            "w": 27
           },
           {
            "h": 9,
            "value": 0,
            "w": 27
           },
           {
            "h": 10,
            "value": 0,
            "w": 27
           },
           {
            "h": 11,
            "value": 0.08674611896276474,
            "w": 27
           },
           {
            "h": 12,
            "value": 0.21049034595489502,
            "w": 27
           },
           {
            "h": 13,
            "value": 0.1291012018918991,
            "w": 27
           },
           {
            "h": 14,
            "value": 0,
            "w": 27
           },
           {
            "h": 15,
            "value": 0,
            "w": 27
           },
           {
            "h": 16,
            "value": 0,
            "w": 27
           },
           {
            "h": 17,
            "value": 0,
            "w": 27
           },
           {
            "h": 18,
            "value": 0,
            "w": 27
           },
           {
            "h": 19,
            "value": 0.04234510660171509,
            "w": 27
           },
           {
            "h": 20,
            "value": 0.16822409629821777,
            "w": 27
           },
           {
            "h": 21,
            "value": 0.3303373456001282,
            "w": 27
           },
           {
            "h": 22,
            "value": 0.41919049620628357,
            "w": 27
           },
           {
            "h": 23,
            "value": 0.23601697385311127,
            "w": 27
           },
           {
            "h": 24,
            "value": 0,
            "w": 27
           },
           {
            "h": 25,
            "value": 0,
            "w": 27
           },
           {
            "h": 26,
            "value": 0,
            "w": 27
           },
           {
            "h": 27,
            "value": 0,
            "w": 27
           }
          ]
         },
         "encoding": {
          "color": {
           "field": "value",
           "legend": null,
           "scale": {
            "scheme": "greys"
           },
           "sort": "descending",
           "type": "quantitative"
          },
          "tooltip": [
           {
            "field": "value",
            "type": "quantitative"
           }
          ],
          "x": {
           "axis": null,
           "field": "w",
           "type": "nominal"
          },
          "y": {
           "axis": null,
           "field": "h",
           "type": "nominal"
          }
         },
         "height": 350,
         "mark": "rect",
         "title": "",
         "width": 350
        }
       ]
      },
      "image/png": "[encoded data removed]",
      "text/plain": [
       "<VegaLite 2 object>\n",
       "\n",
       "If you see this message, it means the renderer has not been properly enabled\n",
       "for the frontend that you are using. For more information, see\n",
       "https://altair-viz.github.io/user_guide/troubleshooting.html\n"
      ]
     },
     "execution_count": 114,
     "metadata": {},
     "output_type": "execute_result"
    }
   ],
   "source": [
    "image = []\n",
    "for i in range(3):\n",
    "    img = samples.next()\n",
    "    img = img.squeeze()\n",
    "    image.append(vis.imshow(img))\n",
    "image[0] | image[1] | image[2]"
   ]
  },
  {
   "cell_type": "markdown",
   "metadata": {
    "colab_type": "text",
    "id": "4tBPvzcCZher"
   },
   "source": [
    "**Step 2: Build a CNN Model**"
   ]
  },
  {
   "cell_type": "code",
   "execution_count": 13,
   "metadata": {
    "colab": {
     "autoexec": {
      "startup": false,
      "wait_interval": 0
     }
    },
    "colab_type": "code",
    "id": "r9pjXQCeZhet"
   },
   "outputs": [],
   "source": [
    "from keras.models import Sequential\n",
    "from keras.layers import Conv2D, MaxPooling2D, Dropout, Flatten, Dense"
   ]
  },
  {
   "cell_type": "code",
   "execution_count": 14,
   "metadata": {
    "colab": {
     "autoexec": {
      "startup": false,
      "wait_interval": 0
     }
    },
    "colab_type": "code",
    "id": "ashEa0JgZhez"
   },
   "outputs": [],
   "source": [
    "cnn = Sequential()\n",
    "cnn.add(Conv2D(32, kernel_size=(3, 3), activation='relu', input_shape=(28,28,1)))\n",
    "cnn.add(MaxPooling2D(pool_size=(2, 2)))\n",
    "cnn.add(Conv2D(64, kernel_size=(3, 3), activation='relu'))\n",
    "cnn.add(MaxPooling2D(pool_size=(2, 2)))\n",
    "cnn.add(Dropout(0.25))\n",
    "cnn.add(Conv2D(128, kernel_size=(3, 3), activation='relu'))\n",
    "cnn.add(Dropout(0.25))\n",
    "cnn.add(Flatten())\n",
    "cnn.add(Dense(128, activation='relu'))\n",
    "cnn.add(Dropout(0.25))\n",
    "cnn.add(Dense(10, activation='softmax'))"
   ]
  },
  {
   "cell_type": "code",
   "execution_count": 15,
   "metadata": {
    "colab": {
     "autoexec": {
      "startup": false,
      "wait_interval": 0
     },
     "base_uri": "https://localhost:8080/",
     "height": 510,
     "output_extras": [
      {
       "item_id": 1
      }
     ]
    },
    "colab_type": "code",
    "executionInfo": {
     "elapsed": 935,
     "status": "ok",
     "timestamp": 1521297709045,
     "user": {
      "displayName": "Amit Kapoor",
      "photoUrl": "//lh4.googleusercontent.com/-D2AEUHCgcx8/AAAAAAAAAAI/AAAAAAAAAoY/0HFe1PWxMvQ/s50-c-k-no/photo.jpg",
      "userId": "115841624057400778059"
     },
     "user_tz": -330
    },
    "id": "fA1RAzF0Zhe5",
    "outputId": "32471482-71ab-4a36-fe94-08712d8fcc96"
   },
   "outputs": [
    {
     "name": "stdout",
     "output_type": "stream",
     "text": [
      "_________________________________________________________________\n",
      "Layer (type)                 Output Shape              Param #   \n",
      "=================================================================\n",
      "conv2d_4 (Conv2D)            (None, 26, 26, 32)        320       \n",
      "_________________________________________________________________\n",
      "max_pooling2d_3 (MaxPooling2 (None, 13, 13, 32)        0         \n",
      "_________________________________________________________________\n",
      "conv2d_5 (Conv2D)            (None, 11, 11, 64)        18496     \n",
      "_________________________________________________________________\n",
      "max_pooling2d_4 (MaxPooling2 (None, 5, 5, 64)          0         \n",
      "_________________________________________________________________\n",
      "dropout_4 (Dropout)          (None, 5, 5, 64)          0         \n",
      "_________________________________________________________________\n",
      "conv2d_6 (Conv2D)            (None, 3, 3, 128)         73856     \n",
      "_________________________________________________________________\n",
      "dropout_5 (Dropout)          (None, 3, 3, 128)         0         \n",
      "_________________________________________________________________\n",
      "flatten_2 (Flatten)          (None, 1152)              0         \n",
      "_________________________________________________________________\n",
      "dense_3 (Dense)              (None, 128)               147584    \n",
      "_________________________________________________________________\n",
      "dropout_6 (Dropout)          (None, 128)               0         \n",
      "_________________________________________________________________\n",
      "dense_4 (Dense)              (None, 10)                1290      \n",
      "=================================================================\n",
      "Total params: 241,546\n",
      "Trainable params: 241,546\n",
      "Non-trainable params: 0\n",
      "_________________________________________________________________\n"
     ]
    }
   ],
   "source": [
    "cnn.summary()"
   ]
  },
  {
   "cell_type": "markdown",
   "metadata": {},
   "source": [
    "**Step 3: Compile the Model and Fit**"
   ]
  },
  {
   "cell_type": "code",
   "execution_count": 16,
   "metadata": {
    "colab": {
     "autoexec": {
      "startup": false,
      "wait_interval": 0
     }
    },
    "colab_type": "code",
    "id": "hPGTcN3WZhfO"
   },
   "outputs": [],
   "source": [
    "cnn.compile(loss='categorical_crossentropy', optimizer=\"adam\", metrics=['accuracy'])"
   ]
  },
  {
   "cell_type": "code",
   "execution_count": 18,
   "metadata": {},
   "outputs": [
    {
     "name": "stdout",
     "output_type": "stream",
     "text": [
      "Epoch 1/5\n",
      "1875/1875 [==============================] - 106s 57ms/step - loss: 0.7674 - acc: 0.7090 - val_loss: 0.5192 - val_acc: 0.8016\n",
      "Epoch 2/5\n",
      "1875/1875 [==============================] - 106s 56ms/step - loss: 0.5600 - acc: 0.7865 - val_loss: 0.4407 - val_acc: 0.8306\n",
      "Epoch 3/5\n",
      "1875/1875 [==============================] - 144s 77ms/step - loss: 0.5035 - acc: 0.8083 - val_loss: 0.3897 - val_acc: 0.8584\n",
      "Epoch 4/5\n",
      "1875/1875 [==============================] - 172s 92ms/step - loss: 0.4646 - acc: 0.8260 - val_loss: 0.3812 - val_acc: 0.8600\n",
      "Epoch 5/5\n",
      "1875/1875 [==============================] - 193s 103ms/step - loss: 0.4420 - acc: 0.8354 - val_loss: 0.3550 - val_acc: 0.8705\n"
     ]
    }
   ],
   "source": [
    "# fits the model on batches with real-time data augmentation:\n",
    "history = cnn.fit_generator(datagen.flow(x_train_conv, y_train_class, batch_size=32), \n",
    "                             validation_data=(x_test_conv, y_test_class), use_multiprocessing=True,\n",
    "                     steps_per_epoch=len(x_train_conv) / 32, epochs=5)"
   ]
  },
  {
   "cell_type": "markdown",
   "metadata": {},
   "source": [
    "**Step 4: Check the performance of the model**"
   ]
  },
  {
   "cell_type": "code",
   "execution_count": 20,
   "metadata": {
    "colab": {
     "autoexec": {
      "startup": false,
      "wait_interval": 0
     },
     "base_uri": "https://localhost:8080/",
     "height": 377,
     "output_extras": [
      {
       "item_id": 1
      }
     ]
    },
    "colab_type": "code",
    "executionInfo": {
     "elapsed": 1343,
     "status": "ok",
     "timestamp": 1521297971102,
     "user": {
      "displayName": "Amit Kapoor",
      "photoUrl": "//lh4.googleusercontent.com/-D2AEUHCgcx8/AAAAAAAAAAI/AAAAAAAAAoY/0HFe1PWxMvQ/s50-c-k-no/photo.jpg",
      "userId": "115841624057400778059"
     },
     "user_tz": -330
    },
    "id": "jWNH9RV1Zhgn",
    "outputId": "c21ca629-8d68-40b4-aebd-7c778904b832"
   },
   "outputs": [
    {
     "data": {
      "application/vnd.vegalite.v2+json": {
       "$schema": "https://vega.github.io/schema/vega-lite/v2.4.3.json",
       "config": {
        "view": {
         "height": 300,
         "width": 400
        }
       },
       "data": {
        "values": [
         {
          "batch": 1,
          "metrics": "loss",
          "type": "validation",
          "value": 0.5192201858520508
         },
         {
          "batch": 2,
          "metrics": "loss",
          "type": "validation",
          "value": 0.440686096572876
         },
         {
          "batch": 3,
          "metrics": "loss",
          "type": "validation",
          "value": 0.38970489962100985
         },
         {
          "batch": 4,
          "metrics": "loss",
          "type": "validation",
          "value": 0.3812279143810272
         },
         {
          "batch": 5,
          "metrics": "loss",
          "type": "validation",
          "value": 0.35502173528671266
         },
         {
          "batch": 1,
          "metrics": "acc",
          "type": "validation",
          "value": 0.8016
         },
         {
          "batch": 2,
          "metrics": "acc",
          "type": "validation",
          "value": 0.8306
         },
         {
          "batch": 3,
          "metrics": "acc",
          "type": "validation",
          "value": 0.8584
         },
         {
          "batch": 4,
          "metrics": "acc",
          "type": "validation",
          "value": 0.86
         },
         {
          "batch": 5,
          "metrics": "acc",
          "type": "validation",
          "value": 0.8705
         },
         {
          "batch": 1,
          "metrics": "loss",
          "type": "training",
          "value": 0.7674446335633596
         },
         {
          "batch": 2,
          "metrics": "loss",
          "type": "training",
          "value": 0.5599542884190877
         },
         {
          "batch": 3,
          "metrics": "loss",
          "type": "training",
          "value": 0.5034645669698715
         },
         {
          "batch": 4,
          "metrics": "loss",
          "type": "training",
          "value": 0.46464467942714693
         },
         {
          "batch": 5,
          "metrics": "loss",
          "type": "training",
          "value": 0.44202645944356916
         },
         {
          "batch": 1,
          "metrics": "acc",
          "type": "training",
          "value": 0.7089666666666666
         },
         {
          "batch": 2,
          "metrics": "acc",
          "type": "training",
          "value": 0.7865
         },
         {
          "batch": 3,
          "metrics": "acc",
          "type": "training",
          "value": 0.8083
         },
         {
          "batch": 4,
          "metrics": "acc",
          "type": "training",
          "value": 0.826
         },
         {
          "batch": 5,
          "metrics": "acc",
          "type": "training",
          "value": 0.8353666666666667
         }
        ]
       },
       "facet": {
        "column": {
         "field": "metrics",
         "type": "nominal"
        }
       },
       "resolve": {
        "scale": {
         "color": "shared",
         "x": "shared",
         "y": "independent"
        }
       },
       "spec": {
        "layer": [
         {
          "encoding": {
           "color": {
            "field": "type",
            "type": "nominal"
           },
           "tooltip": [
            {
             "field": "batch",
             "type": "quantitative"
            },
            {
             "field": "value",
             "type": "quantitative"
            }
           ],
           "x": {
            "field": "batch",
            "type": "quantitative"
           },
           "y": {
            "field": "value",
            "type": "quantitative"
           }
          },
          "height": 300,
          "mark": {
           "size": 50,
           "type": "circle"
          },
          "width": 300
         },
         {
          "encoding": {
           "color": {
            "field": "type",
            "type": "nominal"
           },
           "x": {
            "field": "batch",
            "type": "quantitative"
           },
           "y": {
            "field": "value",
            "type": "quantitative"
           }
          },
          "height": 300,
          "mark": "line",
          "width": 300
         }
        ]
       }
      },
      "image/png": "[encoded data removed]",
      "text/plain": [
       "<VegaLite 2 object>\n",
       "\n",
       "If you see this message, it means the renderer has not been properly enabled\n",
       "for the frontend that you are using. For more information, see\n",
       "https://altair-viz.github.io/user_guide/troubleshooting.html\n"
      ]
     },
     "execution_count": 20,
     "metadata": {},
     "output_type": "execute_result"
    }
   ],
   "source": [
    "vis.metrics(history.history)"
   ]
  },
  {
   "cell_type": "code",
   "execution_count": 21,
   "metadata": {
    "colab": {
     "autoexec": {
      "startup": false,
      "wait_interval": 0
     },
     "base_uri": "https://localhost:8080/",
     "height": 51,
     "output_extras": [
      {
       "item_id": 1
      }
     ]
    },
    "colab_type": "code",
    "executionInfo": {
     "elapsed": 1837,
     "status": "ok",
     "timestamp": 1521297989943,
     "user": {
      "displayName": "Amit Kapoor",
      "photoUrl": "//lh4.googleusercontent.com/-D2AEUHCgcx8/AAAAAAAAAAI/AAAAAAAAAoY/0HFe1PWxMvQ/s50-c-k-no/photo.jpg",
      "userId": "115841624057400778059"
     },
     "user_tz": -330
    },
    "id": "1kYojZ0QZhgv",
    "outputId": "85194a0a-6b41-405a-ece4-0b46ef7b7f4b"
   },
   "outputs": [
    {
     "name": "stdout",
     "output_type": "stream",
     "text": [
      "10000/10000 [==============================] - 9s 931us/step\n",
      "Test loss: 0.35502173528671266\n",
      "Test accuracy: 0.8705\n"
     ]
    }
   ],
   "source": [
    "score = cnn.evaluate(x_test_conv, y_test_class)\n",
    "print('Test loss:', score[0])\n",
    "print('Test accuracy:', score[1])"
   ]
  },
  {
   "cell_type": "markdown",
   "metadata": {
    "colab": {
     "autoexec": {
      "startup": false,
      "wait_interval": 0
     },
     "base_uri": "https://localhost:8080/",
     "height": 68,
     "output_extras": [
      {
       "item_id": 67
      }
     ]
    },
    "colab_type": "code",
    "executionInfo": {
     "elapsed": 24216,
     "status": "ok",
     "timestamp": 1521301117139,
     "user": {
      "displayName": "Amit Kapoor",
      "photoUrl": "//lh4.googleusercontent.com/-D2AEUHCgcx8/AAAAAAAAAAI/AAAAAAAAAoY/0HFe1PWxMvQ/s50-c-k-no/photo.jpg",
      "userId": "115841624057400778059"
     },
     "user_tz": -330
    },
    "id": "S_TAmT3dZhiR",
    "outputId": "ce0edf2e-1b6e-4667-b347-76d668c1e1d7"
   },
   "source": [
    "**Step 5: Make & Visualise the Prediction**"
   ]
  },
  {
   "cell_type": "code",
   "execution_count": 22,
   "metadata": {
    "colab": {
     "autoexec": {
      "startup": false,
      "wait_interval": 0
     }
    },
    "colab_type": "code",
    "id": "qOJk0ncjcBoa"
   },
   "outputs": [],
   "source": [
    "predict_classes_cnn = cnn.predict_classes(x_test_conv)"
   ]
  },
  {
   "cell_type": "code",
   "execution_count": 26,
   "metadata": {},
   "outputs": [
    {
     "data": {
      "text/html": [
       "<div>\n",
       "<style scoped>\n",
       "    .dataframe tbody tr th:only-of-type {\n",
       "        vertical-align: middle;\n",
       "    }\n",
       "\n",
       "    .dataframe tbody tr th {\n",
       "        vertical-align: top;\n",
       "    }\n",
       "\n",
       "    .dataframe thead th {\n",
       "        text-align: right;\n",
       "    }\n",
       "</style>\n",
       "<table border=\"1\" class=\"dataframe\">\n",
       "  <thead>\n",
       "    <tr style=\"text-align: right;\">\n",
       "      <th>col_0</th>\n",
       "      <th>0</th>\n",
       "      <th>1</th>\n",
       "      <th>2</th>\n",
       "      <th>3</th>\n",
       "      <th>4</th>\n",
       "      <th>5</th>\n",
       "      <th>6</th>\n",
       "      <th>7</th>\n",
       "      <th>8</th>\n",
       "      <th>9</th>\n",
       "    </tr>\n",
       "    <tr>\n",
       "      <th>row_0</th>\n",
       "      <th></th>\n",
       "      <th></th>\n",
       "      <th></th>\n",
       "      <th></th>\n",
       "      <th></th>\n",
       "      <th></th>\n",
       "      <th></th>\n",
       "      <th></th>\n",
       "      <th></th>\n",
       "      <th></th>\n",
       "    </tr>\n",
       "  </thead>\n",
       "  <tbody>\n",
       "    <tr>\n",
       "      <th>0</th>\n",
       "      <td>870</td>\n",
       "      <td>0</td>\n",
       "      <td>14</td>\n",
       "      <td>45</td>\n",
       "      <td>8</td>\n",
       "      <td>1</td>\n",
       "      <td>55</td>\n",
       "      <td>0</td>\n",
       "      <td>7</td>\n",
       "      <td>0</td>\n",
       "    </tr>\n",
       "    <tr>\n",
       "      <th>1</th>\n",
       "      <td>2</td>\n",
       "      <td>977</td>\n",
       "      <td>0</td>\n",
       "      <td>13</td>\n",
       "      <td>3</td>\n",
       "      <td>0</td>\n",
       "      <td>3</td>\n",
       "      <td>0</td>\n",
       "      <td>2</td>\n",
       "      <td>0</td>\n",
       "    </tr>\n",
       "    <tr>\n",
       "      <th>2</th>\n",
       "      <td>18</td>\n",
       "      <td>0</td>\n",
       "      <td>821</td>\n",
       "      <td>7</td>\n",
       "      <td>66</td>\n",
       "      <td>0</td>\n",
       "      <td>87</td>\n",
       "      <td>0</td>\n",
       "      <td>1</td>\n",
       "      <td>0</td>\n",
       "    </tr>\n",
       "    <tr>\n",
       "      <th>3</th>\n",
       "      <td>26</td>\n",
       "      <td>13</td>\n",
       "      <td>6</td>\n",
       "      <td>873</td>\n",
       "      <td>40</td>\n",
       "      <td>0</td>\n",
       "      <td>41</td>\n",
       "      <td>0</td>\n",
       "      <td>1</td>\n",
       "      <td>0</td>\n",
       "    </tr>\n",
       "    <tr>\n",
       "      <th>4</th>\n",
       "      <td>1</td>\n",
       "      <td>1</td>\n",
       "      <td>79</td>\n",
       "      <td>29</td>\n",
       "      <td>779</td>\n",
       "      <td>0</td>\n",
       "      <td>108</td>\n",
       "      <td>0</td>\n",
       "      <td>3</td>\n",
       "      <td>0</td>\n",
       "    </tr>\n",
       "    <tr>\n",
       "      <th>5</th>\n",
       "      <td>0</td>\n",
       "      <td>0</td>\n",
       "      <td>0</td>\n",
       "      <td>0</td>\n",
       "      <td>0</td>\n",
       "      <td>981</td>\n",
       "      <td>0</td>\n",
       "      <td>15</td>\n",
       "      <td>0</td>\n",
       "      <td>4</td>\n",
       "    </tr>\n",
       "    <tr>\n",
       "      <th>6</th>\n",
       "      <td>211</td>\n",
       "      <td>0</td>\n",
       "      <td>102</td>\n",
       "      <td>34</td>\n",
       "      <td>95</td>\n",
       "      <td>0</td>\n",
       "      <td>539</td>\n",
       "      <td>0</td>\n",
       "      <td>19</td>\n",
       "      <td>0</td>\n",
       "    </tr>\n",
       "    <tr>\n",
       "      <th>7</th>\n",
       "      <td>0</td>\n",
       "      <td>0</td>\n",
       "      <td>0</td>\n",
       "      <td>0</td>\n",
       "      <td>0</td>\n",
       "      <td>32</td>\n",
       "      <td>0</td>\n",
       "      <td>948</td>\n",
       "      <td>0</td>\n",
       "      <td>20</td>\n",
       "    </tr>\n",
       "    <tr>\n",
       "      <th>8</th>\n",
       "      <td>2</td>\n",
       "      <td>0</td>\n",
       "      <td>8</td>\n",
       "      <td>5</td>\n",
       "      <td>4</td>\n",
       "      <td>3</td>\n",
       "      <td>3</td>\n",
       "      <td>2</td>\n",
       "      <td>973</td>\n",
       "      <td>0</td>\n",
       "    </tr>\n",
       "    <tr>\n",
       "      <th>9</th>\n",
       "      <td>1</td>\n",
       "      <td>0</td>\n",
       "      <td>0</td>\n",
       "      <td>0</td>\n",
       "      <td>0</td>\n",
       "      <td>5</td>\n",
       "      <td>0</td>\n",
       "      <td>50</td>\n",
       "      <td>0</td>\n",
       "      <td>944</td>\n",
       "    </tr>\n",
       "  </tbody>\n",
       "</table>\n",
       "</div>"
      ],
      "text/plain": [
       "col_0    0    1    2    3    4    5    6    7    8    9\n",
       "row_0                                                  \n",
       "0      870    0   14   45    8    1   55    0    7    0\n",
       "1        2  977    0   13    3    0    3    0    2    0\n",
       "2       18    0  821    7   66    0   87    0    1    0\n",
       "3       26   13    6  873   40    0   41    0    1    0\n",
       "4        1    1   79   29  779    0  108    0    3    0\n",
       "5        0    0    0    0    0  981    0   15    0    4\n",
       "6      211    0  102   34   95    0  539    0   19    0\n",
       "7        0    0    0    0    0   32    0  948    0   20\n",
       "8        2    0    8    5    4    3    3    2  973    0\n",
       "9        1    0    0    0    0    5    0   50    0  944"
      ]
     },
     "execution_count": 26,
     "metadata": {},
     "output_type": "execute_result"
    }
   ],
   "source": [
    "pd.crosstab(y_test, predict_classes_cnn)"
   ]
  },
  {
   "cell_type": "code",
   "execution_count": 31,
   "metadata": {},
   "outputs": [],
   "source": [
    "proba_cnn = cnn.predict_proba(x_test_conv)"
   ]
  },
  {
   "cell_type": "code",
   "execution_count": 32,
   "metadata": {},
   "outputs": [],
   "source": [
    "i = 5"
   ]
  },
  {
   "cell_type": "code",
   "execution_count": 33,
   "metadata": {},
   "outputs": [
    {
     "data": {
      "application/vnd.vegalite.v2+json": {
       "$schema": "https://vega.github.io/schema/vega-lite/v2.4.3.json",
       "config": {
        "view": {
         "height": 300,
         "width": 400
        }
       },
       "hconcat": [
        {
         "data": {
          "values": [
           {
            "h": 0,
            "value": 0,
            "w": 0
           },
           {
            "h": 1,
            "value": 0,
            "w": 0
           },
           {
            "h": 2,
            "value": 0,
            "w": 0
           },
           {
            "h": 3,
            "value": 0,
            "w": 0
           },
           {
            "h": 4,
            "value": 0,
            "w": 0
           },
           {
            "h": 5,
            "value": 0,
            "w": 0
           },
           {
            "h": 6,
            "value": 0,
            "w": 0
           },
           {
            "h": 7,
            "value": 0,
            "w": 0
           },
           {
            "h": 8,
            "value": 0,
            "w": 0
           },
           {
            "h": 9,
            "value": 0,
            "w": 0
           },
           {
            "h": 10,
            "value": 0,
            "w": 0
           },
           {
            "h": 11,
            "value": 0,
            "w": 0
           },
           {
            "h": 12,
            "value": 0,
            "w": 0
           },
           {
            "h": 13,
            "value": 0,
            "w": 0
           },
           {
            "h": 14,
            "value": 0,
            "w": 0
           },
           {
            "h": 15,
            "value": 0,
            "w": 0
           },
           {
            "h": 16,
            "value": 0,
            "w": 0
           },
           {
            "h": 17,
            "value": 0,
            "w": 0
           },
           {
            "h": 18,
            "value": 0,
            "w": 0
           },
           {
            "h": 19,
            "value": 0,
            "w": 0
           },
           {
            "h": 20,
            "value": 0,
            "w": 0
           },
           {
            "h": 21,
            "value": 0,
            "w": 0
           },
           {
            "h": 22,
            "value": 0,
            "w": 0
           },
           {
            "h": 23,
            "value": 0,
            "w": 0
           },
           {
            "h": 24,
            "value": 0,
            "w": 0
           },
           {
            "h": 25,
            "value": 0,
            "w": 0
           },
           {
            "h": 26,
            "value": 0,
            "w": 0
           },
           {
            "h": 27,
            "value": 0,
            "w": 0
           },
           {
            "h": 0,
            "value": 0,
            "w": 1
           },
           {
            "h": 1,
            "value": 0,
            "w": 1
           },
           {
            "h": 2,
            "value": 0,
            "w": 1
           },
           {
            "h": 3,
            "value": 0,
            "w": 1
           },
           {
            "h": 4,
            "value": 0,
            "w": 1
           },
           {
            "h": 5,
            "value": 0,
            "w": 1
           },
           {
            "h": 6,
            "value": 0,
            "w": 1
           },
           {
            "h": 7,
            "value": 0,
            "w": 1
           },
           {
            "h": 8,
            "value": 0,
            "w": 1
           },
           {
            "h": 9,
            "value": 0,
            "w": 1
           },
           {
            "h": 10,
            "value": 0,
            "w": 1
           },
           {
            "h": 11,
            "value": 0,
            "w": 1
           },
           {
            "h": 12,
            "value": 0,
            "w": 1
           },
           {
            "h": 13,
            "value": 0,
            "w": 1
           },
           {
            "h": 14,
            "value": 0,
            "w": 1
           },
           {
            "h": 15,
            "value": 0,
            "w": 1
           },
           {
            "h": 16,
            "value": 0,
            "w": 1
           },
           {
            "h": 17,
            "value": 0,
            "w": 1
           },
           {
            "h": 18,
            "value": 0,
            "w": 1
           },
           {
            "h": 19,
            "value": 0,
            "w": 1
           },
           {
            "h": 20,
            "value": 0,
            "w": 1
           },
           {
            "h": 21,
            "value": 0,
            "w": 1
           },
           {
            "h": 22,
            "value": 0,
            "w": 1
           },
           {
            "h": 23,
            "value": 0,
            "w": 1
           },
           {
            "h": 24,
            "value": 0,
            "w": 1
           },
           {
            "h": 25,
            "value": 0,
            "w": 1
           },
           {
            "h": 26,
            "value": 0,
            "w": 1
           },
           {
            "h": 27,
            "value": 0,
            "w": 1
           },
           {
            "h": 0,
            "value": 0,
            "w": 2
           },
           {
            "h": 1,
            "value": 0,
            "w": 2
           },
           {
            "h": 2,
            "value": 0,
            "w": 2
           },
           {
            "h": 3,
            "value": 0,
            "w": 2
           },
           {
            "h": 4,
            "value": 0,
            "w": 2
           },
           {
            "h": 5,
            "value": 0,
            "w": 2
           },
           {
            "h": 6,
            "value": 0,
            "w": 2
           },
           {
            "h": 7,
            "value": 0,
            "w": 2
           },
           {
            "h": 8,
            "value": 0,
            "w": 2
           },
           {
            "h": 9,
            "value": 0,
            "w": 2
           },
           {
            "h": 10,
            "value": 0,
            "w": 2
           },
           {
            "h": 11,
            "value": 0,
            "w": 2
           },
           {
            "h": 12,
            "value": 0,
            "w": 2
           },
           {
            "h": 13,
            "value": 0,
            "w": 2
           },
           {
            "h": 14,
            "value": 0,
            "w": 2
           },
           {
            "h": 15,
            "value": 0,
            "w": 2
           },
           {
            "h": 16,
            "value": 0,
            "w": 2
           },
           {
            "h": 17,
            "value": 0,
            "w": 2
           },
           {
            "h": 18,
            "value": 0,
            "w": 2
           },
           {
            "h": 19,
            "value": 0,
            "w": 2
           },
           {
            "h": 20,
            "value": 0,
            "w": 2
           },
           {
            "h": 21,
            "value": 0,
            "w": 2
           },
           {
            "h": 22,
            "value": 0,
            "w": 2
           },
           {
            "h": 23,
            "value": 0,
            "w": 2
           },
           {
            "h": 24,
            "value": 0,
            "w": 2
           },
           {
            "h": 25,
            "value": 0,
            "w": 2
           },
           {
            "h": 26,
            "value": 0,
            "w": 2
           },
           {
            "h": 27,
            "value": 0,
            "w": 2
           },
           {
            "h": 0,
            "value": 0,
            "w": 3
           },
           {
            "h": 1,
            "value": 0,
            "w": 3
           },
           {
            "h": 2,
            "value": 0,
            "w": 3
           },
           {
            "h": 3,
            "value": 0,
            "w": 3
           },
           {
            "h": 4,
            "value": 0,
            "w": 3
           },
           {
            "h": 5,
            "value": 0,
            "w": 3
           },
           {
            "h": 6,
            "value": 0,
            "w": 3
           },
           {
            "h": 7,
            "value": 0,
            "w": 3
           },
           {
            "h": 8,
            "value": 0,
            "w": 3
           },
           {
            "h": 9,
            "value": 0,
            "w": 3
           },
           {
            "h": 10,
            "value": 0,
            "w": 3
           },
           {
            "h": 11,
            "value": 0,
            "w": 3
           },
           {
            "h": 12,
            "value": 0,
            "w": 3
           },
           {
            "h": 13,
            "value": 0,
            "w": 3
           },
           {
            "h": 14,
            "value": 0,
            "w": 3
           },
           {
            "h": 15,
            "value": 0,
            "w": 3
           },
           {
            "h": 16,
            "value": 0,
            "w": 3
           },
           {
            "h": 17,
            "value": 0,
            "w": 3
           },
           {
            "h": 18,
            "value": 0,
            "w": 3
           },
           {
            "h": 19,
            "value": 0,
            "w": 3
           },
           {
            "h": 20,
            "value": 0,
            "w": 3
           },
           {
            "h": 21,
            "value": 0,
            "w": 3
           },
           {
            "h": 22,
            "value": 0,
            "w": 3
           },
           {
            "h": 23,
            "value": 0,
            "w": 3
           },
           {
            "h": 24,
            "value": 0,
            "w": 3
           },
           {
            "h": 25,
            "value": 0,
            "w": 3
           },
           {
            "h": 26,
            "value": 0,
            "w": 3
           },
           {
            "h": 27,
            "value": 0,
            "w": 3
           },
           {
            "h": 0,
            "value": 0,
            "w": 4
           },
           {
            "h": 1,
            "value": 0,
            "w": 4
           },
           {
            "h": 2,
            "value": 0,
            "w": 4
           },
           {
            "h": 3,
            "value": 0,
            "w": 4
           },
           {
            "h": 4,
            "value": 0,
            "w": 4
           },
           {
            "h": 5,
            "value": 0,
            "w": 4
           },
           {
            "h": 6,
            "value": 0,
            "w": 4
           },
           {
            "h": 7,
            "value": 0,
            "w": 4
           },
           {
            "h": 8,
            "value": 0,
            "w": 4
           },
           {
            "h": 9,
            "value": 0,
            "w": 4
           },
           {
            "h": 10,
            "value": 0,
            "w": 4
           },
           {
            "h": 11,
            "value": 0,
            "w": 4
           },
           {
            "h": 12,
            "value": 0,
            "w": 4
           },
           {
            "h": 13,
            "value": 0,
            "w": 4
           },
           {
            "h": 14,
            "value": 0,
            "w": 4
           },
           {
            "h": 15,
            "value": 0,
            "w": 4
           },
           {
            "h": 16,
            "value": 0,
            "w": 4
           },
           {
            "h": 17,
            "value": 0,
            "w": 4
           },
           {
            "h": 18,
            "value": 0,
            "w": 4
           },
           {
            "h": 19,
            "value": 0,
            "w": 4
           },
           {
            "h": 20,
            "value": 0,
            "w": 4
           },
           {
            "h": 21,
            "value": 0,
            "w": 4
           },
           {
            "h": 22,
            "value": 0,
            "w": 4
           },
           {
            "h": 23,
            "value": 0,
            "w": 4
           },
           {
            "h": 24,
            "value": 0,
            "w": 4
           },
           {
            "h": 25,
            "value": 0,
            "w": 4
           },
           {
            "h": 26,
            "value": 0,
            "w": 4
           },
           {
            "h": 27,
            "value": 0,
            "w": 4
           },
           {
            "h": 0,
            "value": 0,
            "w": 5
           },
           {
            "h": 1,
            "value": 0,
            "w": 5
           },
           {
            "h": 2,
            "value": 0,
            "w": 5
           },
           {
            "h": 3,
            "value": 0,
            "w": 5
           },
           {
            "h": 4,
            "value": 0,
            "w": 5
           },
           {
            "h": 5,
            "value": 0,
            "w": 5
           },
           {
            "h": 6,
            "value": 0,
            "w": 5
           },
           {
            "h": 7,
            "value": 0,
            "w": 5
           },
           {
            "h": 8,
            "value": 0,
            "w": 5
           },
           {
            "h": 9,
            "value": 0,
            "w": 5
           },
           {
            "h": 10,
            "value": 0,
            "w": 5
           },
           {
            "h": 11,
            "value": 0,
            "w": 5
           },
           {
            "h": 12,
            "value": 0,
            "w": 5
           },
           {
            "h": 13,
            "value": 0,
            "w": 5
           },
           {
            "h": 14,
            "value": 0,
            "w": 5
           },
           {
            "h": 15,
            "value": 0,
            "w": 5
           },
           {
            "h": 16,
            "value": 0,
            "w": 5
           },
           {
            "h": 17,
            "value": 0,
            "w": 5
           },
           {
            "h": 18,
            "value": 0,
            "w": 5
           },
           {
            "h": 19,
            "value": 0,
            "w": 5
           },
           {
            "h": 20,
            "value": 0,
            "w": 5
           },
           {
            "h": 21,
            "value": 0,
            "w": 5
           },
           {
            "h": 22,
            "value": 0,
            "w": 5
           },
           {
            "h": 23,
            "value": 0,
            "w": 5
           },
           {
            "h": 24,
            "value": 0,
            "w": 5
           },
           {
            "h": 25,
            "value": 0,
            "w": 5
           },
           {
            "h": 26,
            "value": 0,
            "w": 5
           },
           {
            "h": 27,
            "value": 0,
            "w": 5
           },
           {
            "h": 0,
            "value": 0,
            "w": 6
           },
           {
            "h": 1,
            "value": 0,
            "w": 6
           },
           {
            "h": 2,
            "value": 0,
            "w": 6
           },
           {
            "h": 3,
            "value": 0,
            "w": 6
           },
           {
            "h": 4,
            "value": 0,
            "w": 6
           },
           {
            "h": 5,
            "value": 0,
            "w": 6
           },
           {
            "h": 6,
            "value": 0,
            "w": 6
           },
           {
            "h": 7,
            "value": 0,
            "w": 6
           },
           {
            "h": 8,
            "value": 0,
            "w": 6
           },
           {
            "h": 9,
            "value": 0,
            "w": 6
           },
           {
            "h": 10,
            "value": 0,
            "w": 6
           },
           {
            "h": 11,
            "value": 0,
            "w": 6
           },
           {
            "h": 12,
            "value": 0,
            "w": 6
           },
           {
            "h": 13,
            "value": 0,
            "w": 6
           },
           {
            "h": 14,
            "value": 0,
            "w": 6
           },
           {
            "h": 15,
            "value": 0,
            "w": 6
           },
           {
            "h": 16,
            "value": 0,
            "w": 6
           },
           {
            "h": 17,
            "value": 0,
            "w": 6
           },
           {
            "h": 18,
            "value": 0,
            "w": 6
           },
           {
            "h": 19,
            "value": 0,
            "w": 6
           },
           {
            "h": 20,
            "value": 0,
            "w": 6
           },
           {
            "h": 21,
            "value": 0,
            "w": 6
           },
           {
            "h": 22,
            "value": 0,
            "w": 6
           },
           {
            "h": 23,
            "value": 0,
            "w": 6
           },
           {
            "h": 24,
            "value": 0,
            "w": 6
           },
           {
            "h": 25,
            "value": 0,
            "w": 6
           },
           {
            "h": 26,
            "value": 0,
            "w": 6
           },
           {
            "h": 27,
            "value": 0,
            "w": 6
           },
           {
            "h": 0,
            "value": 0,
            "w": 7
           },
           {
            "h": 1,
            "value": 0,
            "w": 7
           },
           {
            "h": 2,
            "value": 0,
            "w": 7
           },
           {
            "h": 3,
            "value": 0,
            "w": 7
           },
           {
            "h": 4,
            "value": 0,
            "w": 7
           },
           {
            "h": 5,
            "value": 0,
            "w": 7
           },
           {
            "h": 6,
            "value": 0,
            "w": 7
           },
           {
            "h": 7,
            "value": 0,
            "w": 7
           },
           {
            "h": 8,
            "value": 0,
            "w": 7
           },
           {
            "h": 9,
            "value": 0,
            "w": 7
           },
           {
            "h": 10,
            "value": 0,
            "w": 7
           },
           {
            "h": 11,
            "value": 0,
            "w": 7
           },
           {
            "h": 12,
            "value": 0,
            "w": 7
           },
           {
            "h": 13,
            "value": 0,
            "w": 7
           },
           {
            "h": 14,
            "value": 0,
            "w": 7
           },
           {
            "h": 15,
            "value": 0,
            "w": 7
           },
           {
            "h": 16,
            "value": 0,
            "w": 7
           },
           {
            "h": 17,
            "value": 0,
            "w": 7
           },
           {
            "h": 18,
            "value": 0,
            "w": 7
           },
           {
            "h": 19,
            "value": 0,
            "w": 7
           },
           {
            "h": 20,
            "value": 0,
            "w": 7
           },
           {
            "h": 21,
            "value": 0,
            "w": 7
           },
           {
            "h": 22,
            "value": 0,
            "w": 7
           },
           {
            "h": 23,
            "value": 0,
            "w": 7
           },
           {
            "h": 24,
            "value": 0,
            "w": 7
           },
           {
            "h": 25,
            "value": 0,
            "w": 7
           },
           {
            "h": 26,
            "value": 0,
            "w": 7
           },
           {
            "h": 27,
            "value": 0,
            "w": 7
           },
           {
            "h": 0,
            "value": 0,
            "w": 8
           },
           {
            "h": 1,
            "value": 0,
            "w": 8
           },
           {
            "h": 2,
            "value": 0,
            "w": 8
           },
           {
            "h": 3,
            "value": 0,
            "w": 8
           },
           {
            "h": 4,
            "value": 0,
            "w": 8
           },
           {
            "h": 5,
            "value": 0,
            "w": 8
           },
           {
            "h": 6,
            "value": 25,
            "w": 8
           },
           {
            "h": 7,
            "value": 49,
            "w": 8
           },
           {
            "h": 8,
            "value": 87,
            "w": 8
           },
           {
            "h": 9,
            "value": 127,
            "w": 8
           },
           {
            "h": 10,
            "value": 163,
            "w": 8
           },
           {
            "h": 11,
            "value": 177,
            "w": 8
           },
           {
            "h": 12,
            "value": 172,
            "w": 8
           },
           {
            "h": 13,
            "value": 154,
            "w": 8
           },
           {
            "h": 14,
            "value": 141,
            "w": 8
           },
           {
            "h": 15,
            "value": 135,
            "w": 8
           },
           {
            "h": 16,
            "value": 90,
            "w": 8
           },
           {
            "h": 17,
            "value": 3,
            "w": 8
           },
           {
            "h": 18,
            "value": 0,
            "w": 8
           },
           {
            "h": 19,
            "value": 0,
            "w": 8
           },
           {
            "h": 20,
            "value": 0,
            "w": 8
           },
           {
            "h": 21,
            "value": 0,
            "w": 8
           },
           {
            "h": 22,
            "value": 0,
            "w": 8
           },
           {
            "h": 23,
            "value": 1,
            "w": 8
           },
           {
            "h": 24,
            "value": 3,
            "w": 8
           },
           {
            "h": 25,
            "value": 1,
            "w": 8
           },
           {
            "h": 26,
            "value": 0,
            "w": 8
           },
           {
            "h": 27,
            "value": 0,
            "w": 8
           },
           {
            "h": 0,
            "value": 0,
            "w": 9
           },
           {
            "h": 1,
            "value": 14,
            "w": 9
           },
           {
            "h": 2,
            "value": 22,
            "w": 9
           },
           {
            "h": 3,
            "value": 105,
            "w": 9
           },
           {
            "h": 4,
            "value": 204,
            "w": 9
           },
           {
            "h": 5,
            "value": 244,
            "w": 9
           },
           {
            "h": 6,
            "value": 247,
            "w": 9
           },
           {
            "h": 7,
            "value": 236,
            "w": 9
           },
           {
            "h": 8,
            "value": 232,
            "w": 9
           },
           {
            "h": 9,
            "value": 221,
            "w": 9
           },
           {
            "h": 10,
            "value": 206,
            "w": 9
           },
           {
            "h": 11,
            "value": 197,
            "w": 9
           },
           {
            "h": 12,
            "value": 186,
            "w": 9
           },
           {
            "h": 13,
            "value": 177,
            "w": 9
           },
           {
            "h": 14,
            "value": 171,
            "w": 9
           },
           {
            "h": 15,
            "value": 179,
            "w": 9
           },
           {
            "h": 16,
            "value": 189,
            "w": 9
           },
           {
            "h": 17,
            "value": 187,
            "w": 9
           },
           {
            "h": 18,
            "value": 182,
            "w": 9
           },
           {
            "h": 19,
            "value": 194,
            "w": 9
           },
           {
            "h": 20,
            "value": 135,
            "w": 9
           },
           {
            "h": 21,
            "value": 27,
            "w": 9
           },
           {
            "h": 22,
            "value": 0,
            "w": 9
           },
           {
            "h": 23,
            "value": 0,
            "w": 9
           },
           {
            "h": 24,
            "value": 0,
            "w": 9
           },
           {
            "h": 25,
            "value": 0,
            "w": 9
           },
           {
            "h": 26,
            "value": 0,
            "w": 9
           },
           {
            "h": 27,
            "value": 0,
            "w": 9
           },
           {
            "h": 0,
            "value": 192,
            "w": 10
           },
           {
            "h": 1,
            "value": 235,
            "w": 10
           },
           {
            "h": 2,
            "value": 234,
            "w": 10
           },
           {
            "h": 3,
            "value": 252,
            "w": 10
           },
           {
            "h": 4,
            "value": 228,
            "w": 10
           },
           {
            "h": 5,
            "value": 192,
            "w": 10
           },
           {
            "h": 6,
            "value": 170,
            "w": 10
           },
           {
            "h": 7,
            "value": 170,
            "w": 10
           },
           {
            "h": 8,
            "value": 159,
            "w": 10
           },
           {
            "h": 9,
            "value": 170,
            "w": 10
           },
           {
            "h": 10,
            "value": 176,
            "w": 10
           },
           {
            "h": 11,
            "value": 175,
            "w": 10
           },
           {
            "h": 12,
            "value": 174,
            "w": 10
           },
           {
            "h": 13,
            "value": 174,
            "w": 10
           },
           {
            "h": 14,
            "value": 175,
            "w": 10
           },
           {
            "h": 15,
            "value": 191,
            "w": 10
           },
           {
            "h": 16,
            "value": 198,
            "w": 10
           },
           {
            "h": 17,
            "value": 195,
            "w": 10
           },
           {
            "h": 18,
            "value": 199,
            "w": 10
           },
           {
            "h": 19,
            "value": 208,
            "w": 10
           },
           {
            "h": 20,
            "value": 225,
            "w": 10
           },
           {
            "h": 21,
            "value": 219,
            "w": 10
           },
           {
            "h": 22,
            "value": 203,
            "w": 10
           },
           {
            "h": 23,
            "value": 133,
            "w": 10
           },
           {
            "h": 24,
            "value": 59,
            "w": 10
           },
           {
            "h": 25,
            "value": 0,
            "w": 10
           },
           {
            "h": 26,
            "value": 0,
            "w": 10
           },
           {
            "h": 27,
            "value": 0,
            "w": 10
           },
           {
            "h": 0,
            "value": 188,
            "w": 11
           },
           {
            "h": 1,
            "value": 213,
            "w": 11
           },
           {
            "h": 2,
            "value": 217,
            "w": 11
           },
           {
            "h": 3,
            "value": 205,
            "w": 11
           },
           {
            "h": 4,
            "value": 184,
            "w": 11
           },
           {
            "h": 5,
            "value": 193,
            "w": 11
           },
           {
            "h": 6,
            "value": 192,
            "w": 11
           },
           {
            "h": 7,
            "value": 193,
            "w": 11
           },
           {
            "h": 8,
            "value": 193,
            "w": 11
           },
           {
            "h": 9,
            "value": 189,
            "w": 11
           },
           {
            "h": 10,
            "value": 185,
            "w": 11
           },
           {
            "h": 11,
            "value": 189,
            "w": 11
           },
           {
            "h": 12,
            "value": 199,
            "w": 11
           },
           {
            "h": 13,
            "value": 211,
            "w": 11
           },
           {
            "h": 14,
            "value": 246,
            "w": 11
           },
           {
            "h": 15,
            "value": 248,
            "w": 11
           },
           {
            "h": 16,
            "value": 211,
            "w": 11
           },
           {
            "h": 17,
            "value": 225,
            "w": 11
           },
           {
            "h": 18,
            "value": 221,
            "w": 11
           },
           {
            "h": 19,
            "value": 213,
            "w": 11
           },
           {
            "h": 20,
            "value": 206,
            "w": 11
           },
           {
            "h": 21,
            "value": 204,
            "w": 11
           },
           {
            "h": 22,
            "value": 214,
            "w": 11
           },
           {
            "h": 23,
            "value": 217,
            "w": 11
           },
           {
            "h": 24,
            "value": 218,
            "w": 11
           },
           {
            "h": 25,
            "value": 191,
            "w": 11
           },
           {
            "h": 26,
            "value": 161,
            "w": 11
           },
           {
            "h": 27,
            "value": 38,
            "w": 11
           },
           {
            "h": 0,
            "value": 181,
            "w": 12
           },
           {
            "h": 1,
            "value": 213,
            "w": 12
           },
           {
            "h": 2,
            "value": 211,
            "w": 12
           },
           {
            "h": 3,
            "value": 209,
            "w": 12
           },
           {
            "h": 4,
            "value": 206,
            "w": 12
           },
           {
            "h": 5,
            "value": 212,
            "w": 12
           },
           {
            "h": 6,
            "value": 210,
            "w": 12
           },
           {
            "h": 7,
            "value": 201,
            "w": 12
           },
           {
            "h": 8,
            "value": 200,
            "w": 12
           },
           {
            "h": 9,
            "value": 216,
            "w": 12
           },
           {
            "h": 10,
            "value": 242,
            "w": 12
           },
           {
            "h": 11,
            "value": 247,
            "w": 12
           },
           {
            "h": 12,
            "value": 223,
            "w": 12
           },
           {
            "h": 13,
            "value": 151,
            "w": 12
           },
           {
            "h": 14,
            "value": 70,
            "w": 12
           },
           {
            "h": 15,
            "value": 28,
            "w": 12
           },
           {
            "h": 16,
            "value": 4,
            "w": 12
           },
           {
            "h": 17,
            "value": 70,
            "w": 12
           },
           {
            "h": 18,
            "value": 163,
            "w": 12
           },
           {
            "h": 19,
            "value": 217,
            "w": 12
           },
           {
            "h": 20,
            "value": 201,
            "w": 12
           },
           {
            "h": 21,
            "value": 217,
            "w": 12
           },
           {
            "h": 22,
            "value": 223,
            "w": 12
           },
           {
            "h": 23,
            "value": 217,
            "w": 12
           },
           {
            "h": 24,
            "value": 209,
            "w": 12
           },
           {
            "h": 25,
            "value": 206,
            "w": 12
           },
           {
            "h": 26,
            "value": 238,
            "w": 12
           },
           {
            "h": 27,
            "value": 137,
            "w": 12
           },
           {
            "h": 0,
            "value": 189,
            "w": 13
           },
           {
            "h": 1,
            "value": 223,
            "w": 13
           },
           {
            "h": 2,
            "value": 217,
            "w": 13
           },
           {
            "h": 3,
            "value": 219,
            "w": 13
           },
           {
            "h": 4,
            "value": 215,
            "w": 13
           },
           {
            "h": 5,
            "value": 217,
            "w": 13
           },
           {
            "h": 6,
            "value": 211,
            "w": 13
           },
           {
            "h": 7,
            "value": 220,
            "w": 13
           },
           {
            "h": 8,
            "value": 245,
            "w": 13
           },
           {
            "h": 9,
            "value": 225,
            "w": 13
           },
           {
            "h": 10,
            "value": 146,
            "w": 13
           },
           {
            "h": 11,
            "value": 34,
            "w": 13
           },
           {
            "h": 12,
            "value": 0,
            "w": 13
           },
           {
            "h": 13,
            "value": 0,
            "w": 13
           },
           {
            "h": 14,
            "value": 0,
            "w": 13
           },
           {
            "h": 15,
            "value": 0,
            "w": 13
           },
           {
            "h": 16,
            "value": 0,
            "w": 13
           },
           {
            "h": 17,
            "value": 0,
            "w": 13
           },
           {
            "h": 18,
            "value": 0,
            "w": 13
           },
           {
            "h": 19,
            "value": 0,
            "w": 13
           },
           {
            "h": 20,
            "value": 0,
            "w": 13
           },
           {
            "h": 21,
            "value": 34,
            "w": 13
           },
           {
            "h": 22,
            "value": 88,
            "w": 13
           },
           {
            "h": 23,
            "value": 167,
            "w": 13
           },
           {
            "h": 24,
            "value": 195,
            "w": 13
           },
           {
            "h": 25,
            "value": 219,
            "w": 13
           },
           {
            "h": 26,
            "value": 234,
            "w": 13
           },
           {
            "h": 27,
            "value": 132,
            "w": 13
           },
           {
            "h": 0,
            "value": 157,
            "w": 14
           },
           {
            "h": 1,
            "value": 225,
            "w": 14
           },
           {
            "h": 2,
            "value": 200,
            "w": 14
           },
           {
            "h": 3,
            "value": 193,
            "w": 14
           },
           {
            "h": 4,
            "value": 221,
            "w": 14
           },
           {
            "h": 5,
            "value": 210,
            "w": 14
           },
           {
            "h": 6,
            "value": 239,
            "w": 14
           },
           {
            "h": 7,
            "value": 187,
            "w": 14
           },
           {
            "h": 8,
            "value": 0,
            "w": 14
           },
           {
            "h": 9,
            "value": 0,
            "w": 14
           },
           {
            "h": 10,
            "value": 0,
            "w": 14
           },
           {
            "h": 11,
            "value": 0,
            "w": 14
           },
           {
            "h": 12,
            "value": 0,
            "w": 14
           },
           {
            "h": 13,
            "value": 0,
            "w": 14
           },
           {
            "h": 14,
            "value": 2,
            "w": 14
           },
           {
            "h": 15,
            "value": 5,
            "w": 14
           },
           {
            "h": 16,
            "value": 3,
            "w": 14
           },
           {
            "h": 17,
            "value": 4,
            "w": 14
           },
           {
            "h": 18,
            "value": 0,
            "w": 14
           },
           {
            "h": 19,
            "value": 0,
            "w": 14
           },
           {
            "h": 20,
            "value": 0,
            "w": 14
           },
           {
            "h": 21,
            "value": 0,
            "w": 14
           },
           {
            "h": 22,
            "value": 0,
            "w": 14
           },
           {
            "h": 23,
            "value": 0,
            "w": 14
           },
           {
            "h": 24,
            "value": 0,
            "w": 14
           },
           {
            "h": 25,
            "value": 47,
            "w": 14
           },
           {
            "h": 26,
            "value": 116,
            "w": 14
           },
           {
            "h": 27,
            "value": 53,
            "w": 14
           },
           {
            "h": 0,
            "value": 165,
            "w": 15
           },
           {
            "h": 1,
            "value": 217,
            "w": 15
           },
           {
            "h": 2,
            "value": 203,
            "w": 15
           },
           {
            "h": 3,
            "value": 195,
            "w": 15
           },
           {
            "h": 4,
            "value": 212,
            "w": 15
           },
           {
            "h": 5,
            "value": 216,
            "w": 15
           },
           {
            "h": 6,
            "value": 231,
            "w": 15
           },
           {
            "h": 7,
            "value": 231,
            "w": 15
           },
           {
            "h": 8,
            "value": 207,
            "w": 15
           },
           {
            "h": 9,
            "value": 151,
            "w": 15
           },
           {
            "h": 10,
            "value": 53,
            "w": 15
           },
           {
            "h": 11,
            "value": 0,
            "w": 15
           },
           {
            "h": 12,
            "value": 0,
            "w": 15
           },
           {
            "h": 13,
            "value": 0,
            "w": 15
           },
           {
            "h": 14,
            "value": 0,
            "w": 15
           },
           {
            "h": 15,
            "value": 0,
            "w": 15
           },
           {
            "h": 16,
            "value": 0,
            "w": 15
           },
           {
            "h": 17,
            "value": 0,
            "w": 15
           },
           {
            "h": 18,
            "value": 0,
            "w": 15
           },
           {
            "h": 19,
            "value": 0,
            "w": 15
           },
           {
            "h": 20,
            "value": 0,
            "w": 15
           },
           {
            "h": 21,
            "value": 0,
            "w": 15
           },
           {
            "h": 22,
            "value": 0,
            "w": 15
           },
           {
            "h": 23,
            "value": 0,
            "w": 15
           },
           {
            "h": 24,
            "value": 0,
            "w": 15
           },
           {
            "h": 25,
            "value": 0,
            "w": 15
           },
           {
            "h": 26,
            "value": 0,
            "w": 15
           },
           {
            "h": 27,
            "value": 0,
            "w": 15
           },
           {
            "h": 0,
            "value": 188,
            "w": 16
           },
           {
            "h": 1,
            "value": 214,
            "w": 16
           },
           {
            "h": 2,
            "value": 217,
            "w": 16
           },
           {
            "h": 3,
            "value": 212,
            "w": 16
           },
           {
            "h": 4,
            "value": 209,
            "w": 16
           },
           {
            "h": 5,
            "value": 216,
            "w": 16
           },
           {
            "h": 6,
            "value": 219,
            "w": 16
           },
           {
            "h": 7,
            "value": 230,
            "w": 16
           },
           {
            "h": 8,
            "value": 245,
            "w": 16
           },
           {
            "h": 9,
            "value": 254,
            "w": 16
           },
           {
            "h": 10,
            "value": 255,
            "w": 16
           },
           {
            "h": 11,
            "value": 253,
            "w": 16
           },
           {
            "h": 12,
            "value": 234,
            "w": 16
           },
           {
            "h": 13,
            "value": 210,
            "w": 16
           },
           {
            "h": 14,
            "value": 177,
            "w": 16
           },
           {
            "h": 15,
            "value": 134,
            "w": 16
           },
           {
            "h": 16,
            "value": 59,
            "w": 16
           },
           {
            "h": 17,
            "value": 20,
            "w": 16
           },
           {
            "h": 18,
            "value": 0,
            "w": 16
           },
           {
            "h": 19,
            "value": 0,
            "w": 16
           },
           {
            "h": 20,
            "value": 0,
            "w": 16
           },
           {
            "h": 21,
            "value": 0,
            "w": 16
           },
           {
            "h": 22,
            "value": 0,
            "w": 16
           },
           {
            "h": 23,
            "value": 0,
            "w": 16
           },
           {
            "h": 24,
            "value": 0,
            "w": 16
           },
           {
            "h": 25,
            "value": 0,
            "w": 16
           },
           {
            "h": 26,
            "value": 0,
            "w": 16
           },
           {
            "h": 27,
            "value": 0,
            "w": 16
           },
           {
            "h": 0,
            "value": 176,
            "w": 17
           },
           {
            "h": 1,
            "value": 204,
            "w": 17
           },
           {
            "h": 2,
            "value": 203,
            "w": 17
           },
           {
            "h": 3,
            "value": 207,
            "w": 17
           },
           {
            "h": 4,
            "value": 199,
            "w": 17
           },
           {
            "h": 5,
            "value": 194,
            "w": 17
           },
           {
            "h": 6,
            "value": 199,
            "w": 17
           },
           {
            "h": 7,
            "value": 206,
            "w": 17
           },
           {
            "h": 8,
            "value": 200,
            "w": 17
           },
           {
            "h": 9,
            "value": 198,
            "w": 17
           },
           {
            "h": 10,
            "value": 201,
            "w": 17
           },
           {
            "h": 11,
            "value": 203,
            "w": 17
           },
           {
            "h": 12,
            "value": 204,
            "w": 17
           },
           {
            "h": 13,
            "value": 202,
            "w": 17
           },
           {
            "h": 14,
            "value": 204,
            "w": 17
           },
           {
            "h": 15,
            "value": 210,
            "w": 17
           },
           {
            "h": 16,
            "value": 244,
            "w": 17
           },
           {
            "h": 17,
            "value": 215,
            "w": 17
           },
           {
            "h": 18,
            "value": 238,
            "w": 17
           },
           {
            "h": 19,
            "value": 246,
            "w": 17
           },
           {
            "h": 20,
            "value": 215,
            "w": 17
           },
           {
            "h": 21,
            "value": 202,
            "w": 17
           },
           {
            "h": 22,
            "value": 196,
            "w": 17
           },
           {
            "h": 23,
            "value": 184,
            "w": 17
           },
           {
            "h": 24,
            "value": 169,
            "w": 17
           },
           {
            "h": 25,
            "value": 155,
            "w": 17
           },
           {
            "h": 26,
            "value": 168,
            "w": 17
           },
           {
            "h": 27,
            "value": 81,
            "w": 17
           },
           {
            "h": 0,
            "value": 179,
            "w": 18
           },
           {
            "h": 1,
            "value": 211,
            "w": 18
           },
           {
            "h": 2,
            "value": 179,
            "w": 18
           },
           {
            "h": 3,
            "value": 194,
            "w": 18
           },
           {
            "h": 4,
            "value": 190,
            "w": 18
           },
           {
            "h": 5,
            "value": 175,
            "w": 18
           },
           {
            "h": 6,
            "value": 179,
            "w": 18
           },
           {
            "h": 7,
            "value": 181,
            "w": 18
           },
           {
            "h": 8,
            "value": 176,
            "w": 18
           },
           {
            "h": 9,
            "value": 183,
            "w": 18
           },
           {
            "h": 10,
            "value": 183,
            "w": 18
           },
           {
            "h": 11,
            "value": 180,
            "w": 18
           },
           {
            "h": 12,
            "value": 162,
            "w": 18
           },
           {
            "h": 13,
            "value": 141,
            "w": 18
           },
           {
            "h": 14,
            "value": 121,
            "w": 18
           },
           {
            "h": 15,
            "value": 107,
            "w": 18
           },
           {
            "h": 16,
            "value": 118,
            "w": 18
           },
           {
            "h": 17,
            "value": 116,
            "w": 18
           },
           {
            "h": 18,
            "value": 147,
            "w": 18
           },
           {
            "h": 19,
            "value": 197,
            "w": 18
           },
           {
            "h": 20,
            "value": 215,
            "w": 18
           },
           {
            "h": 21,
            "value": 215,
            "w": 18
           },
           {
            "h": 22,
            "value": 219,
            "w": 18
           },
           {
            "h": 23,
            "value": 221,
            "w": 18
           },
           {
            "h": 24,
            "value": 228,
            "w": 18
           },
           {
            "h": 25,
            "value": 237,
            "w": 18
           },
           {
            "h": 26,
            "value": 246,
            "w": 18
           },
           {
            "h": 27,
            "value": 145,
            "w": 18
           },
           {
            "h": 0,
            "value": 181,
            "w": 19
           },
           {
            "h": 1,
            "value": 189,
            "w": 19
           },
           {
            "h": 2,
            "value": 170,
            "w": 19
           },
           {
            "h": 3,
            "value": 204,
            "w": 19
           },
           {
            "h": 4,
            "value": 227,
            "w": 19
           },
           {
            "h": 5,
            "value": 225,
            "w": 19
           },
           {
            "h": 6,
            "value": 217,
            "w": 19
           },
           {
            "h": 7,
            "value": 213,
            "w": 19
           },
           {
            "h": 8,
            "value": 210,
            "w": 19
           },
           {
            "h": 9,
            "value": 209,
            "w": 19
           },
           {
            "h": 10,
            "value": 205,
            "w": 19
           },
           {
            "h": 11,
            "value": 199,
            "w": 19
           },
           {
            "h": 12,
            "value": 199,
            "w": 19
           },
           {
            "h": 13,
            "value": 180,
            "w": 19
           },
           {
            "h": 14,
            "value": 145,
            "w": 19
           },
           {
            "h": 15,
            "value": 142,
            "w": 19
           },
           {
            "h": 16,
            "value": 165,
            "w": 19
           },
           {
            "h": 17,
            "value": 167,
            "w": 19
           },
           {
            "h": 18,
            "value": 179,
            "w": 19
           },
           {
            "h": 19,
            "value": 203,
            "w": 19
           },
           {
            "h": 20,
            "value": 221,
            "w": 19
           },
           {
            "h": 21,
            "value": 224,
            "w": 19
           },
           {
            "h": 22,
            "value": 230,
            "w": 19
           },
           {
            "h": 23,
            "value": 232,
            "w": 19
           },
           {
            "h": 24,
            "value": 214,
            "w": 19
           },
           {
            "h": 25,
            "value": 223,
            "w": 19
           },
           {
            "h": 26,
            "value": 237,
            "w": 19
           },
           {
            "h": 27,
            "value": 129,
            "w": 19
           },
           {
            "h": 0,
            "value": 0,
            "w": 20
           },
           {
            "h": 1,
            "value": 0,
            "w": 20
           },
           {
            "h": 2,
            "value": 0,
            "w": 20
           },
           {
            "h": 3,
            "value": 51,
            "w": 20
           },
           {
            "h": 4,
            "value": 105,
            "w": 20
           },
           {
            "h": 5,
            "value": 131,
            "w": 20
           },
           {
            "h": 6,
            "value": 124,
            "w": 20
           },
           {
            "h": 7,
            "value": 116,
            "w": 20
           },
           {
            "h": 8,
            "value": 109,
            "w": 20
           },
           {
            "h": 9,
            "value": 103,
            "w": 20
           },
           {
            "h": 10,
            "value": 100,
            "w": 20
           },
           {
            "h": 11,
            "value": 97,
            "w": 20
           },
           {
            "h": 12,
            "value": 106,
            "w": 20
           },
           {
            "h": 13,
            "value": 108,
            "w": 20
           },
           {
            "h": 14,
            "value": 136,
            "w": 20
           },
           {
            "h": 15,
            "value": 119,
            "w": 20
           },
           {
            "h": 16,
            "value": 123,
            "w": 20
           },
           {
            "h": 17,
            "value": 137,
            "w": 20
           },
           {
            "h": 18,
            "value": 129,
            "w": 20
           },
           {
            "h": 19,
            "value": 138,
            "w": 20
           },
           {
            "h": 20,
            "value": 140,
            "w": 20
           },
           {
            "h": 21,
            "value": 123,
            "w": 20
           },
           {
            "h": 22,
            "value": 130,
            "w": 20
           },
           {
            "h": 23,
            "value": 132,
            "w": 20
           },
           {
            "h": 24,
            "value": 150,
            "w": 20
           },
           {
            "h": 25,
            "value": 133,
            "w": 20
           },
           {
            "h": 26,
            "value": 156,
            "w": 20
           },
           {
            "h": 27,
            "value": 62,
            "w": 20
           },
           {
            "h": 0,
            "value": 0,
            "w": 21
           },
           {
            "h": 1,
            "value": 0,
            "w": 21
           },
           {
            "h": 2,
            "value": 0,
            "w": 21
           },
           {
            "h": 3,
            "value": 0,
            "w": 21
           },
           {
            "h": 4,
            "value": 0,
            "w": 21
           },
           {
            "h": 5,
            "value": 0,
            "w": 21
           },
           {
            "h": 6,
            "value": 0,
            "w": 21
           },
           {
            "h": 7,
            "value": 0,
            "w": 21
           },
           {
            "h": 8,
            "value": 0,
            "w": 21
           },
           {
            "h": 9,
            "value": 0,
            "w": 21
           },
           {
            "h": 10,
            "value": 0,
            "w": 21
           },
           {
            "h": 11,
            "value": 0,
            "w": 21
           },
           {
            "h": 12,
            "value": 0,
            "w": 21
           },
           {
            "h": 13,
            "value": 0,
            "w": 21
           },
           {
            "h": 14,
            "value": 0,
            "w": 21
           },
           {
            "h": 15,
            "value": 0,
            "w": 21
           },
           {
            "h": 16,
            "value": 0,
            "w": 21
           },
           {
            "h": 17,
            "value": 0,
            "w": 21
           },
           {
            "h": 18,
            "value": 0,
            "w": 21
           },
           {
            "h": 19,
            "value": 0,
            "w": 21
           },
           {
            "h": 20,
            "value": 0,
            "w": 21
           },
           {
            "h": 21,
            "value": 0,
            "w": 21
           },
           {
            "h": 22,
            "value": 0,
            "w": 21
           },
           {
            "h": 23,
            "value": 0,
            "w": 21
           },
           {
            "h": 24,
            "value": 0,
            "w": 21
           },
           {
            "h": 25,
            "value": 0,
            "w": 21
           },
           {
            "h": 26,
            "value": 0,
            "w": 21
           },
           {
            "h": 27,
            "value": 0,
            "w": 21
           },
           {
            "h": 0,
            "value": 0,
            "w": 22
           },
           {
            "h": 1,
            "value": 0,
            "w": 22
           },
           {
            "h": 2,
            "value": 0,
            "w": 22
           },
           {
            "h": 3,
            "value": 0,
            "w": 22
           },
           {
            "h": 4,
            "value": 0,
            "w": 22
           },
           {
            "h": 5,
            "value": 0,
            "w": 22
           },
           {
            "h": 6,
            "value": 0,
            "w": 22
           },
           {
            "h": 7,
            "value": 0,
            "w": 22
           },
           {
            "h": 8,
            "value": 0,
            "w": 22
           },
           {
            "h": 9,
            "value": 0,
            "w": 22
           },
           {
            "h": 10,
            "value": 0,
            "w": 22
           },
           {
            "h": 11,
            "value": 0,
            "w": 22
           },
           {
            "h": 12,
            "value": 0,
            "w": 22
           },
           {
            "h": 13,
            "value": 0,
            "w": 22
           },
           {
            "h": 14,
            "value": 0,
            "w": 22
           },
           {
            "h": 15,
            "value": 0,
            "w": 22
           },
           {
            "h": 16,
            "value": 0,
            "w": 22
           },
           {
            "h": 17,
            "value": 0,
            "w": 22
           },
           {
            "h": 18,
            "value": 0,
            "w": 22
           },
           {
            "h": 19,
            "value": 0,
            "w": 22
           },
           {
            "h": 20,
            "value": 0,
            "w": 22
           },
           {
            "h": 21,
            "value": 0,
            "w": 22
           },
           {
            "h": 22,
            "value": 0,
            "w": 22
           },
           {
            "h": 23,
            "value": 0,
            "w": 22
           },
           {
            "h": 24,
            "value": 0,
            "w": 22
           },
           {
            "h": 25,
            "value": 0,
            "w": 22
           },
           {
            "h": 26,
            "value": 0,
            "w": 22
           },
           {
            "h": 27,
            "value": 0,
            "w": 22
           },
           {
            "h": 0,
            "value": 0,
            "w": 23
           },
           {
            "h": 1,
            "value": 0,
            "w": 23
           },
           {
            "h": 2,
            "value": 0,
            "w": 23
           },
           {
            "h": 3,
            "value": 0,
            "w": 23
           },
           {
            "h": 4,
            "value": 0,
            "w": 23
           },
           {
            "h": 5,
            "value": 0,
            "w": 23
           },
           {
            "h": 6,
            "value": 0,
            "w": 23
           },
           {
            "h": 7,
            "value": 0,
            "w": 23
           },
           {
            "h": 8,
            "value": 0,
            "w": 23
           },
           {
            "h": 9,
            "value": 0,
            "w": 23
           },
           {
            "h": 10,
            "value": 0,
            "w": 23
           },
           {
            "h": 11,
            "value": 0,
            "w": 23
           },
           {
            "h": 12,
            "value": 0,
            "w": 23
           },
           {
            "h": 13,
            "value": 0,
            "w": 23
           },
           {
            "h": 14,
            "value": 0,
            "w": 23
           },
           {
            "h": 15,
            "value": 0,
            "w": 23
           },
           {
            "h": 16,
            "value": 0,
            "w": 23
           },
           {
            "h": 17,
            "value": 0,
            "w": 23
           },
           {
            "h": 18,
            "value": 0,
            "w": 23
           },
           {
            "h": 19,
            "value": 0,
            "w": 23
           },
           {
            "h": 20,
            "value": 0,
            "w": 23
           },
           {
            "h": 21,
            "value": 0,
            "w": 23
           },
           {
            "h": 22,
            "value": 0,
            "w": 23
           },
           {
            "h": 23,
            "value": 0,
            "w": 23
           },
           {
            "h": 24,
            "value": 0,
            "w": 23
           },
           {
            "h": 25,
            "value": 0,
            "w": 23
           },
           {
            "h": 26,
            "value": 0,
            "w": 23
           },
           {
            "h": 27,
            "value": 0,
            "w": 23
           },
           {
            "h": 0,
            "value": 0,
            "w": 24
           },
           {
            "h": 1,
            "value": 0,
            "w": 24
           },
           {
            "h": 2,
            "value": 0,
            "w": 24
           },
           {
            "h": 3,
            "value": 0,
            "w": 24
           },
           {
            "h": 4,
            "value": 0,
            "w": 24
           },
           {
            "h": 5,
            "value": 0,
            "w": 24
           },
           {
            "h": 6,
            "value": 0,
            "w": 24
           },
           {
            "h": 7,
            "value": 0,
            "w": 24
           },
           {
            "h": 8,
            "value": 0,
            "w": 24
           },
           {
            "h": 9,
            "value": 0,
            "w": 24
           },
           {
            "h": 10,
            "value": 0,
            "w": 24
           },
           {
            "h": 11,
            "value": 0,
            "w": 24
           },
           {
            "h": 12,
            "value": 0,
            "w": 24
           },
           {
            "h": 13,
            "value": 0,
            "w": 24
           },
           {
            "h": 14,
            "value": 0,
            "w": 24
           },
           {
            "h": 15,
            "value": 0,
            "w": 24
           },
           {
            "h": 16,
            "value": 0,
            "w": 24
           },
           {
            "h": 17,
            "value": 0,
            "w": 24
           },
           {
            "h": 18,
            "value": 0,
            "w": 24
           },
           {
            "h": 19,
            "value": 0,
            "w": 24
           },
           {
            "h": 20,
            "value": 0,
            "w": 24
           },
           {
            "h": 21,
            "value": 0,
            "w": 24
           },
           {
            "h": 22,
            "value": 0,
            "w": 24
           },
           {
            "h": 23,
            "value": 0,
            "w": 24
           },
           {
            "h": 24,
            "value": 0,
            "w": 24
           },
           {
            "h": 25,
            "value": 0,
            "w": 24
           },
           {
            "h": 26,
            "value": 0,
            "w": 24
           },
           {
            "h": 27,
            "value": 0,
            "w": 24
           },
           {
            "h": 0,
            "value": 0,
            "w": 25
           },
           {
            "h": 1,
            "value": 0,
            "w": 25
           },
           {
            "h": 2,
            "value": 0,
            "w": 25
           },
           {
            "h": 3,
            "value": 0,
            "w": 25
           },
           {
            "h": 4,
            "value": 0,
            "w": 25
           },
           {
            "h": 5,
            "value": 0,
            "w": 25
           },
           {
            "h": 6,
            "value": 0,
            "w": 25
           },
           {
            "h": 7,
            "value": 0,
            "w": 25
           },
           {
            "h": 8,
            "value": 0,
            "w": 25
           },
           {
            "h": 9,
            "value": 0,
            "w": 25
           },
           {
            "h": 10,
            "value": 0,
            "w": 25
           },
           {
            "h": 11,
            "value": 0,
            "w": 25
           },
           {
            "h": 12,
            "value": 0,
            "w": 25
           },
           {
            "h": 13,
            "value": 0,
            "w": 25
           },
           {
            "h": 14,
            "value": 0,
            "w": 25
           },
           {
            "h": 15,
            "value": 0,
            "w": 25
           },
           {
            "h": 16,
            "value": 0,
            "w": 25
           },
           {
            "h": 17,
            "value": 0,
            "w": 25
           },
           {
            "h": 18,
            "value": 0,
            "w": 25
           },
           {
            "h": 19,
            "value": 0,
            "w": 25
           },
           {
            "h": 20,
            "value": 0,
            "w": 25
           },
           {
            "h": 21,
            "value": 0,
            "w": 25
           },
           {
            "h": 22,
            "value": 0,
            "w": 25
           },
           {
            "h": 23,
            "value": 0,
            "w": 25
           },
           {
            "h": 24,
            "value": 0,
            "w": 25
           },
           {
            "h": 25,
            "value": 0,
            "w": 25
           },
           {
            "h": 26,
            "value": 0,
            "w": 25
           },
           {
            "h": 27,
            "value": 0,
            "w": 25
           },
           {
            "h": 0,
            "value": 0,
            "w": 26
           },
           {
            "h": 1,
            "value": 0,
            "w": 26
           },
           {
            "h": 2,
            "value": 0,
            "w": 26
           },
           {
            "h": 3,
            "value": 0,
            "w": 26
           },
           {
            "h": 4,
            "value": 0,
            "w": 26
           },
           {
            "h": 5,
            "value": 0,
            "w": 26
           },
           {
            "h": 6,
            "value": 0,
            "w": 26
           },
           {
            "h": 7,
            "value": 0,
            "w": 26
           },
           {
            "h": 8,
            "value": 0,
            "w": 26
           },
           {
            "h": 9,
            "value": 0,
            "w": 26
           },
           {
            "h": 10,
            "value": 0,
            "w": 26
           },
           {
            "h": 11,
            "value": 0,
            "w": 26
           },
           {
            "h": 12,
            "value": 0,
            "w": 26
           },
           {
            "h": 13,
            "value": 0,
            "w": 26
           },
           {
            "h": 14,
            "value": 0,
            "w": 26
           },
           {
            "h": 15,
            "value": 0,
            "w": 26
           },
           {
            "h": 16,
            "value": 0,
            "w": 26
           },
           {
            "h": 17,
            "value": 0,
            "w": 26
           },
           {
            "h": 18,
            "value": 0,
            "w": 26
           },
           {
            "h": 19,
            "value": 0,
            "w": 26
           },
           {
            "h": 20,
            "value": 0,
            "w": 26
           },
           {
            "h": 21,
            "value": 0,
            "w": 26
           },
           {
            "h": 22,
            "value": 0,
            "w": 26
           },
           {
            "h": 23,
            "value": 0,
            "w": 26
           },
           {
            "h": 24,
            "value": 0,
            "w": 26
           },
           {
            "h": 25,
            "value": 0,
            "w": 26
           },
           {
            "h": 26,
            "value": 0,
            "w": 26
           },
           {
            "h": 27,
            "value": 0,
            "w": 26
           },
           {
            "h": 0,
            "value": 0,
            "w": 27
           },
           {
            "h": 1,
            "value": 0,
            "w": 27
           },
           {
            "h": 2,
            "value": 0,
            "w": 27
           },
           {
            "h": 3,
            "value": 0,
            "w": 27
           },
           {
            "h": 4,
            "value": 0,
            "w": 27
           },
           {
            "h": 5,
            "value": 0,
            "w": 27
           },
           {
            "h": 6,
            "value": 0,
            "w": 27
           },
           {
            "h": 7,
            "value": 0,
            "w": 27
           },
           {
            "h": 8,
            "value": 0,
            "w": 27
           },
           {
            "h": 9,
            "value": 0,
            "w": 27
           },
           {
            "h": 10,
            "value": 0,
            "w": 27
           },
           {
            "h": 11,
            "value": 0,
            "w": 27
           },
           {
            "h": 12,
            "value": 0,
            "w": 27
           },
           {
            "h": 13,
            "value": 0,
            "w": 27
           },
           {
            "h": 14,
            "value": 0,
            "w": 27
           },
           {
            "h": 15,
            "value": 0,
            "w": 27
           },
           {
            "h": 16,
            "value": 0,
            "w": 27
           },
           {
            "h": 17,
            "value": 0,
            "w": 27
           },
           {
            "h": 18,
            "value": 0,
            "w": 27
           },
           {
            "h": 19,
            "value": 0,
            "w": 27
           },
           {
            "h": 20,
            "value": 0,
            "w": 27
           },
           {
            "h": 21,
            "value": 0,
            "w": 27
           },
           {
            "h": 22,
            "value": 0,
            "w": 27
           },
           {
            "h": 23,
            "value": 0,
            "w": 27
           },
           {
            "h": 24,
            "value": 0,
            "w": 27
           },
           {
            "h": 25,
            "value": 0,
            "w": 27
           },
           {
            "h": 26,
            "value": 0,
            "w": 27
           },
           {
            "h": 27,
            "value": 0,
            "w": 27
           }
          ]
         },
         "encoding": {
          "color": {
           "field": "value",
           "legend": null,
           "scale": {
            "scheme": "greys"
           },
           "sort": "descending",
           "type": "quantitative"
          },
          "tooltip": [
           {
            "field": "value",
            "type": "quantitative"
           }
          ],
          "x": {
           "axis": null,
           "field": "w",
           "type": "nominal"
          },
          "y": {
           "axis": null,
           "field": "h",
           "type": "nominal"
          }
         },
         "height": 350,
         "mark": "rect",
         "title": "Trouser",
         "width": 350
        },
        {
         "data": {
          "values": [
           {
            "actual": false,
            "labels": "T-shirt/top",
            "proba": 3.675623361232283e-09
           },
           {
            "actual": true,
            "labels": "Trouser",
            "proba": 1
           },
           {
            "actual": false,
            "labels": "Pullover",
            "proba": 1.105647018384559e-09
           },
           {
            "actual": false,
            "labels": "Dress",
            "proba": 1.2069749644183503e-09
           },
           {
            "actual": false,
            "labels": "Coat",
            "proba": 1.9485784097383885e-09
           },
           {
            "actual": false,
            "labels": "Sandal",
            "proba": 1.3269920101990906e-12
           },
           {
            "actual": false,
            "labels": "Shirt",
            "proba": 2.4900603801114585e-09
           },
           {
            "actual": false,
            "labels": "Sneaker",
            "proba": 5.1339323383617266e-15
           },
           {
            "actual": false,
            "labels": "Bag",
            "proba": 3.645073392427589e-12
           },
           {
            "actual": false,
            "labels": "Ankle boot",
            "proba": 6.246809926974128e-12
           }
          ]
         },
         "encoding": {
          "color": {
           "field": "actual",
           "type": "nominal"
          },
          "tooltip": [
           {
            "field": "proba",
            "type": "quantitative"
           }
          ],
          "x": {
           "field": "proba",
           "scale": {
            "domain": [
             0,
             1
            ]
           },
           "type": "quantitative"
          },
          "y": {
           "field": "labels",
           "type": "nominal"
          }
         },
         "height": 350,
         "mark": "bar",
         "title": "Prediction: Trouser",
         "width": 350
        }
       ]
      },
      "image/png": "[encoded data removed]",
      "text/plain": [
       "<VegaLite 2 object>\n",
       "\n",
       "If you see this message, it means the renderer has not been properly enabled\n",
       "for the frontend that you are using. For more information, see\n",
       "https://altair-viz.github.io/user_guide/troubleshooting.html\n"
      ]
     },
     "execution_count": 33,
     "metadata": {},
     "output_type": "execute_result"
    }
   ],
   "source": [
    "vis.imshow(x_test[i], labels[y_test[i]]) | vis.predict(proba_cnn[i], y_test[i], labels)"
   ]
  },
  {
   "cell_type": "code",
   "execution_count": null,
   "metadata": {},
   "outputs": [],
   "source": []
  }
 ],
 "metadata": {
  "accelerator": "GPU",
  "colab": {
   "default_view": {},
   "name": "04-Transfer-Learning.ipynb",
   "provenance": [],
   "version": "0.3.2",
   "views": {}
  },
  "kernelspec": {
   "display_name": "Python 3",
   "language": "python",
   "name": "python3"
  },
  "language_info": {
   "codemirror_mode": {
    "name": "ipython",
    "version": 3
   },
   "file_extension": ".py",
   "mimetype": "text/x-python",
   "name": "python",
   "nbconvert_exporter": "python",
   "pygments_lexer": "ipython3",
   "version": "3.6.6"
  }
 },
 "nbformat": 4,
 "nbformat_minor": 2
}
