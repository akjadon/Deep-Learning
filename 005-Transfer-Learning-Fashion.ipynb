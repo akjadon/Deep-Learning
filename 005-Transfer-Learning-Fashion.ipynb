{
 "cells": [
  {
   "cell_type": "markdown",
   "metadata": {
    "colab_type": "text",
    "id": "VTEGN4bfZheT"
   },
   "source": [
    "# Transfer Learning - Fashion MNIST\n",
    "\n",
    "Transfer Learning allows us to learn faster from a pre-trained model (on a similiar problem) by getting the feature transformation part\n",
    "\n",
    "There are two ways to do this\n",
    "- Get the prediction from the feature transformer and use that as an input to a new classifier.\n",
    "- Make the feature transformation from the pre-trained model false and only train the classifier."
   ]
  },
  {
   "cell_type": "code",
   "execution_count": 1,
   "metadata": {
    "colab": {
     "autoexec": {
      "startup": false,
      "wait_interval": 0
     },
     "base_uri": "https://localhost:8080/",
     "height": 34,
     "output_extras": [
      {
       "item_id": 1
      }
     ]
    },
    "colab_type": "code",
    "executionInfo": {
     "elapsed": 2572,
     "status": "ok",
     "timestamp": 1521300228267,
     "user": {
      "displayName": "Amit Kapoor",
      "photoUrl": "//lh4.googleusercontent.com/-D2AEUHCgcx8/AAAAAAAAAAI/AAAAAAAAAoY/0HFe1PWxMvQ/s50-c-k-no/photo.jpg",
      "userId": "115841624057400778059"
     },
     "user_tz": -330
    },
    "id": "JGQqwCPRZheX",
    "outputId": "5946c5b4-c22b-4cd0-c30a-1377e3d0140d"
   },
   "outputs": [
    {
     "name": "stderr",
     "output_type": "stream",
     "text": [
      "Using TensorFlow backend.\n"
     ]
    }
   ],
   "source": [
    "import numpy as np\n",
    "import keras\n",
    "import tensorflow as tf\n",
    "import matplotlib.pyplot as plt\n",
    "% matplotlib inline\n",
    "import vis"
   ]
  },
  {
   "cell_type": "markdown",
   "metadata": {},
   "source": [
    "### Get Data "
   ]
  },
  {
   "cell_type": "code",
   "execution_count": 2,
   "metadata": {},
   "outputs": [],
   "source": [
    "from keras.datasets import fashion_mnist\n",
    "(x_train, y_train), (x_test, y_test) = fashion_mnist.load_data()"
   ]
  },
  {
   "cell_type": "code",
   "execution_count": 3,
   "metadata": {},
   "outputs": [],
   "source": [
    "labels = vis.fashion_mnist_label()"
   ]
  },
  {
   "cell_type": "markdown",
   "metadata": {},
   "source": [
    "**Step 1: Prepare the images and labels**"
   ]
  },
  {
   "cell_type": "code",
   "execution_count": 4,
   "metadata": {},
   "outputs": [],
   "source": [
    "# Reshape data for convlution netowkr\n",
    "x_train_conv = x_train.reshape(x_train.shape[0], 28, 28, 1)\n",
    "x_test_conv = x_test.reshape(x_test.shape[0], 28, 28, 1)\n",
    "input_shape = (28, 28, 1)\n",
    "\n",
    "# Convert from 'uint8' to 'float32' and normalise the data to (0,1) \n",
    "x_train_conv =  x_train_conv.astype(\"float32\") / 255\n",
    "x_test_conv = x_test_conv.astype(\"float32\") / 255\n",
    "\n",
    "# convert class vectors to binary class matrices\n",
    "y_train_class = keras.utils.to_categorical(y_train, 10)\n",
    "y_test_class = keras.utils.to_categorical(y_test, 10)"
   ]
  },
  {
   "cell_type": "markdown",
   "metadata": {
    "colab_type": "text",
    "id": "B8JTgp2lZhhG"
   },
   "source": [
    "Resize the image for the transfer learning model"
   ]
  },
  {
   "cell_type": "markdown",
   "metadata": {
    "colab_type": "text",
    "id": "1BV0PfRGZhhH"
   },
   "source": [
    "Lets resize the image from (28,28,1) to (48,48,3)"
   ]
  },
  {
   "cell_type": "code",
   "execution_count": 5,
   "metadata": {
    "colab": {
     "autoexec": {
      "startup": false,
      "wait_interval": 0
     }
    },
    "colab_type": "code",
    "id": "a0Em5OmiZhhJ"
   },
   "outputs": [],
   "source": [
    "from skimage.transform import resize"
   ]
  },
  {
   "cell_type": "code",
   "execution_count": 6,
   "metadata": {
    "colab": {
     "autoexec": {
      "startup": false,
      "wait_interval": 0
     }
    },
    "colab_type": "code",
    "id": "Ep6AxY43ZhhM"
   },
   "outputs": [],
   "source": [
    "def resize_image(image):\n",
    "    return resize(image, (96,96,3), mode=\"symmetric\")"
   ]
  },
  {
   "cell_type": "code",
   "execution_count": 7,
   "metadata": {
    "colab": {
     "autoexec": {
      "startup": false,
      "wait_interval": 0
     },
     "base_uri": "https://localhost:8080/",
     "height": 285,
     "output_extras": [
      {
       "item_id": 1
      },
      {
       "item_id": 2
      }
     ]
    },
    "colab_type": "code",
    "executionInfo": {
     "elapsed": 1219,
     "status": "ok",
     "timestamp": 1521300502985,
     "user": {
      "displayName": "Amit Kapoor",
      "photoUrl": "//lh4.googleusercontent.com/-D2AEUHCgcx8/AAAAAAAAAAI/AAAAAAAAAoY/0HFe1PWxMvQ/s50-c-k-no/photo.jpg",
      "userId": "115841624057400778059"
     },
     "user_tz": -330
    },
    "id": "ZE8f-mQoZhhQ",
    "outputId": "9fcd8b02-f210-4dcc-a01c-f48b46c0afa3"
   },
   "outputs": [
    {
     "name": "stderr",
     "output_type": "stream",
     "text": [
      "/opt/conda/lib/python3.6/site-packages/skimage/transform/_warps.py:110: UserWarning: Anti-aliasing will be enabled by default in skimage 0.15 to avoid aliasing artifacts when down-sampling images.\n",
      "  warn(\"Anti-aliasing will be enabled by default in skimage 0.15 to \"\n"
     ]
    },
    {
     "data": {
      "image/png": "[encoded data removed]",
      "text/plain": [
       "<Figure size 432x288 with 1 Axes>"
      ]
     },
     "metadata": {},
     "output_type": "display_data"
    }
   ],
   "source": [
    "plt.imshow(resize_image(x_train_conv[0]));"
   ]
  },
  {
   "cell_type": "markdown",
   "metadata": {
    "colab_type": "text",
    "id": "fadjg15eZhhW"
   },
   "source": [
    "Lets resize the 10000 images in train and test data"
   ]
  },
  {
   "cell_type": "code",
   "execution_count": 8,
   "metadata": {
    "colab": {
     "autoexec": {
      "startup": false,
      "wait_interval": 0
     },
     "base_uri": "https://localhost:8080/",
     "height": 34,
     "output_extras": [
      {
       "item_id": 1
      }
     ]
    },
    "colab_type": "code",
    "executionInfo": {
     "elapsed": 57878,
     "status": "ok",
     "timestamp": 1521300737660,
     "user": {
      "displayName": "Amit Kapoor",
      "photoUrl": "//lh4.googleusercontent.com/-D2AEUHCgcx8/AAAAAAAAAAI/AAAAAAAAAoY/0HFe1PWxMvQ/s50-c-k-no/photo.jpg",
      "userId": "115841624057400778059"
     },
     "user_tz": -330
    },
    "id": "hFgQHU8eZhhX",
    "outputId": "19b16009-cc0a-44f4-fdfd-d828110757f6"
   },
   "outputs": [
    {
     "name": "stderr",
     "output_type": "stream",
     "text": [
      "/opt/conda/lib/python3.6/site-packages/skimage/transform/_warps.py:110: UserWarning: Anti-aliasing will be enabled by default in skimage 0.15 to avoid aliasing artifacts when down-sampling images.\n",
      "  warn(\"Anti-aliasing will be enabled by default in skimage 0.15 to \"\n"
     ]
    },
    {
     "data": {
      "text/plain": [
       "(10000, 96, 96, 3)"
      ]
     },
     "execution_count": 8,
     "metadata": {},
     "output_type": "execute_result"
    }
   ],
   "source": [
    "%timeit\n",
    "x_train_conv_resize = np.array([resize_image(x_train_conv[x]) for x in range(x_train_conv[:10000].shape[0])])\n",
    "x_train_conv_resize.shape"
   ]
  },
  {
   "cell_type": "code",
   "execution_count": 9,
   "metadata": {
    "colab": {
     "autoexec": {
      "startup": false,
      "wait_interval": 0
     },
     "base_uri": "https://localhost:8080/",
     "height": 34,
     "output_extras": [
      {
       "item_id": 1
      }
     ]
    },
    "colab_type": "code",
    "executionInfo": {
     "elapsed": 56175,
     "status": "ok",
     "timestamp": 1521300808676,
     "user": {
      "displayName": "Amit Kapoor",
      "photoUrl": "//lh4.googleusercontent.com/-D2AEUHCgcx8/AAAAAAAAAAI/AAAAAAAAAoY/0HFe1PWxMvQ/s50-c-k-no/photo.jpg",
      "userId": "115841624057400778059"
     },
     "user_tz": -330
    },
    "id": "WHHkM4bFZhhf",
    "outputId": "742463d3-2520-4a0b-dd0f-f2525d90f8a2"
   },
   "outputs": [
    {
     "name": "stderr",
     "output_type": "stream",
     "text": [
      "/opt/conda/lib/python3.6/site-packages/skimage/transform/_warps.py:110: UserWarning: Anti-aliasing will be enabled by default in skimage 0.15 to avoid aliasing artifacts when down-sampling images.\n",
      "  warn(\"Anti-aliasing will be enabled by default in skimage 0.15 to \"\n"
     ]
    },
    {
     "data": {
      "text/plain": [
       "(10000, 96, 96, 3)"
      ]
     },
     "execution_count": 9,
     "metadata": {},
     "output_type": "execute_result"
    }
   ],
   "source": [
    "%timeit\n",
    "x_test_conv_resize = np.array([resize_image(x_test_conv[x]) for x in range(x_test_conv.shape[0])])\n",
    "x_test_conv_resize.shape"
   ]
  },
  {
   "cell_type": "markdown",
   "metadata": {},
   "source": [
    "**Step 2: Load a pre-trained model for the feature transfomation and add classifier model **"
   ]
  },
  {
   "cell_type": "markdown",
   "metadata": {
    "colab_type": "text",
    "id": "3sJh1HW_Zhhm"
   },
   "source": [
    "Let us load the VGG model without the classifier layer and **do not** train the weights"
   ]
  },
  {
   "cell_type": "code",
   "execution_count": 10,
   "metadata": {
    "colab": {
     "autoexec": {
      "startup": false,
      "wait_interval": 0
     }
    },
    "colab_type": "code",
    "id": "F-1xVwMhZhhp"
   },
   "outputs": [],
   "source": [
    "from keras.applications.vgg16 import VGG16"
   ]
  },
  {
   "cell_type": "code",
   "execution_count": 11,
   "metadata": {
    "colab": {
     "autoexec": {
      "startup": false,
      "wait_interval": 0
     }
    },
    "colab_type": "code",
    "id": "QqczTtGOZhhu"
   },
   "outputs": [],
   "source": [
    "conv_base = VGG16(include_top=False, weights='imagenet', \n",
    "                        input_tensor=None, input_shape=(96,96,3), pooling=\"avg\")"
   ]
  },
  {
   "cell_type": "code",
   "execution_count": 12,
   "metadata": {
    "colab": {
     "autoexec": {
      "startup": false,
      "wait_interval": 0
     }
    },
    "colab_type": "code",
    "id": "FdKE8Y8bc9g6"
   },
   "outputs": [],
   "source": [
    "conv_base.trainable = False"
   ]
  },
  {
   "cell_type": "code",
   "execution_count": 13,
   "metadata": {
    "colab": {
     "autoexec": {
      "startup": false,
      "wait_interval": 0
     },
     "base_uri": "https://localhost:8080/",
     "height": 816,
     "output_extras": [
      {
       "item_id": 1
      }
     ]
    },
    "colab_type": "code",
    "executionInfo": {
     "elapsed": 831,
     "status": "ok",
     "timestamp": 1521300816287,
     "user": {
      "displayName": "Amit Kapoor",
      "photoUrl": "//lh4.googleusercontent.com/-D2AEUHCgcx8/AAAAAAAAAAI/AAAAAAAAAoY/0HFe1PWxMvQ/s50-c-k-no/photo.jpg",
      "userId": "115841624057400778059"
     },
     "user_tz": -330
    },
    "id": "EZI1AcKic2Z5",
    "outputId": "60ab59fe-7c30-4b57-9384-11a6468e5e3f"
   },
   "outputs": [
    {
     "name": "stdout",
     "output_type": "stream",
     "text": [
      "_________________________________________________________________\n",
      "Layer (type)                 Output Shape              Param #   \n",
      "=================================================================\n",
      "input_1 (InputLayer)         (None, 96, 96, 3)         0         \n",
      "_________________________________________________________________\n",
      "block1_conv1 (Conv2D)        (None, 96, 96, 64)        1792      \n",
      "_________________________________________________________________\n",
      "block1_conv2 (Conv2D)        (None, 96, 96, 64)        36928     \n",
      "_________________________________________________________________\n",
      "block1_pool (MaxPooling2D)   (None, 48, 48, 64)        0         \n",
      "_________________________________________________________________\n",
      "block2_conv1 (Conv2D)        (None, 48, 48, 128)       73856     \n",
      "_________________________________________________________________\n",
      "block2_conv2 (Conv2D)        (None, 48, 48, 128)       147584    \n",
      "_________________________________________________________________\n",
      "block2_pool (MaxPooling2D)   (None, 24, 24, 128)       0         \n",
      "_________________________________________________________________\n",
      "block3_conv1 (Conv2D)        (None, 24, 24, 256)       295168    \n",
      "_________________________________________________________________\n",
      "block3_conv2 (Conv2D)        (None, 24, 24, 256)       590080    \n",
      "_________________________________________________________________\n",
      "block3_conv3 (Conv2D)        (None, 24, 24, 256)       590080    \n",
      "_________________________________________________________________\n",
      "block3_pool (MaxPooling2D)   (None, 12, 12, 256)       0         \n",
      "_________________________________________________________________\n",
      "block4_conv1 (Conv2D)        (None, 12, 12, 512)       1180160   \n",
      "_________________________________________________________________\n",
      "block4_conv2 (Conv2D)        (None, 12, 12, 512)       2359808   \n",
      "_________________________________________________________________\n",
      "block4_conv3 (Conv2D)        (None, 12, 12, 512)       2359808   \n",
      "_________________________________________________________________\n",
      "block4_pool (MaxPooling2D)   (None, 6, 6, 512)         0         \n",
      "_________________________________________________________________\n",
      "block5_conv1 (Conv2D)        (None, 6, 6, 512)         2359808   \n",
      "_________________________________________________________________\n",
      "block5_conv2 (Conv2D)        (None, 6, 6, 512)         2359808   \n",
      "_________________________________________________________________\n",
      "block5_conv3 (Conv2D)        (None, 6, 6, 512)         2359808   \n",
      "_________________________________________________________________\n",
      "block5_pool (MaxPooling2D)   (None, 3, 3, 512)         0         \n",
      "_________________________________________________________________\n",
      "global_average_pooling2d_1 ( (None, 512)               0         \n",
      "=================================================================\n",
      "Total params: 14,714,688\n",
      "Trainable params: 0\n",
      "Non-trainable params: 14,714,688\n",
      "_________________________________________________________________\n"
     ]
    }
   ],
   "source": [
    "conv_base.summary()"
   ]
  },
  {
   "cell_type": "code",
   "execution_count": 14,
   "metadata": {},
   "outputs": [],
   "source": [
    "size = 1000"
   ]
  },
  {
   "cell_type": "code",
   "execution_count": 15,
   "metadata": {},
   "outputs": [],
   "source": [
    "x_train_conv_resize_vgg = conv_base.predict(x_train_conv_resize[:size])"
   ]
  },
  {
   "cell_type": "code",
   "execution_count": 16,
   "metadata": {},
   "outputs": [],
   "source": [
    "x_test_conv_resize_vgg = conv_base.predict(x_test_conv_resize)"
   ]
  },
  {
   "cell_type": "code",
   "execution_count": 17,
   "metadata": {},
   "outputs": [],
   "source": [
    "y_train_class_vgg = y_train_class[:size]"
   ]
  },
  {
   "cell_type": "code",
   "execution_count": 18,
   "metadata": {},
   "outputs": [
    {
     "data": {
      "text/plain": [
       "(1000, 512)"
      ]
     },
     "execution_count": 18,
     "metadata": {},
     "output_type": "execute_result"
    }
   ],
   "source": [
    "x_train_conv_resize_vgg.shape"
   ]
  },
  {
   "cell_type": "markdown",
   "metadata": {
    "colab_type": "text",
    "id": "o2AaA3fLZhh3"
   },
   "source": [
    "Lets build a Dense Layer Classifier after that to classify the fashion mnist data"
   ]
  },
  {
   "cell_type": "code",
   "execution_count": 19,
   "metadata": {},
   "outputs": [],
   "source": [
    "from keras.models import Sequential\n",
    "from keras.layers import Dense, Dropout"
   ]
  },
  {
   "cell_type": "code",
   "execution_count": 20,
   "metadata": {
    "colab": {
     "autoexec": {
      "startup": false,
      "wait_interval": 0
     }
    },
    "colab_type": "code",
    "id": "2DnTELYwZhh5"
   },
   "outputs": [],
   "source": [
    "model_transfer = Sequential()\n",
    "model_transfer.add(Dense(128, input_dim=512, activation='relu'))\n",
    "model_transfer.add(Dropout(0.25))\n",
    "model_transfer.add(Dense(64, activation='relu'))\n",
    "model_transfer.add(Dense(10, activation='softmax'))"
   ]
  },
  {
   "cell_type": "code",
   "execution_count": 21,
   "metadata": {
    "colab": {
     "autoexec": {
      "startup": false,
      "wait_interval": 0
     },
     "base_uri": "https://localhost:8080/",
     "height": 306,
     "output_extras": [
      {
       "item_id": 1
      }
     ]
    },
    "colab_type": "code",
    "executionInfo": {
     "elapsed": 830,
     "status": "ok",
     "timestamp": 1521300845139,
     "user": {
      "displayName": "Amit Kapoor",
      "photoUrl": "//lh4.googleusercontent.com/-D2AEUHCgcx8/AAAAAAAAAAI/AAAAAAAAAoY/0HFe1PWxMvQ/s50-c-k-no/photo.jpg",
      "userId": "115841624057400778059"
     },
     "user_tz": -330
    },
    "id": "f_ps2s5sZhh_",
    "outputId": "be3fb726-f41c-436a-8291-5b22988a4d6d"
   },
   "outputs": [
    {
     "name": "stdout",
     "output_type": "stream",
     "text": [
      "_________________________________________________________________\n",
      "Layer (type)                 Output Shape              Param #   \n",
      "=================================================================\n",
      "dense_1 (Dense)              (None, 128)               65664     \n",
      "_________________________________________________________________\n",
      "dropout_1 (Dropout)          (None, 128)               0         \n",
      "_________________________________________________________________\n",
      "dense_2 (Dense)              (None, 64)                8256      \n",
      "_________________________________________________________________\n",
      "dense_3 (Dense)              (None, 10)                650       \n",
      "=================================================================\n",
      "Total params: 74,570\n",
      "Trainable params: 74,570\n",
      "Non-trainable params: 0\n",
      "_________________________________________________________________\n"
     ]
    }
   ],
   "source": [
    "model_transfer.summary()"
   ]
  },
  {
   "cell_type": "markdown",
   "metadata": {},
   "source": [
    "**Step 3: Compile and fit the model**"
   ]
  },
  {
   "cell_type": "code",
   "execution_count": 22,
   "metadata": {
    "colab": {
     "autoexec": {
      "startup": false,
      "wait_interval": 0
     }
    },
    "colab_type": "code",
    "id": "RLKx_3poZhiF"
   },
   "outputs": [],
   "source": [
    "model_transfer.compile(loss='categorical_crossentropy', optimizer=\"adam\", metrics=['accuracy'])"
   ]
  },
  {
   "cell_type": "code",
   "execution_count": 23,
   "metadata": {
    "colab": {
     "autoexec": {
      "startup": false,
      "wait_interval": 0
     },
     "base_uri": "https://localhost:8080/",
     "height": 258,
     "output_extras": [
      {
       "item_id": 184
      },
      {
       "item_id": 235
      }
     ]
    },
    "colab_type": "code",
    "executionInfo": {
     "elapsed": 105236,
     "status": "ok",
     "timestamp": 1521300957552,
     "user": {
      "displayName": "Amit Kapoor",
      "photoUrl": "//lh4.googleusercontent.com/-D2AEUHCgcx8/AAAAAAAAAAI/AAAAAAAAAoY/0HFe1PWxMvQ/s50-c-k-no/photo.jpg",
      "userId": "115841624057400778059"
     },
     "user_tz": -330
    },
    "id": "fNQM59wUZhiK",
    "outputId": "cf874918-d774-4b1e-c34a-db2897dcdcdc"
   },
   "outputs": [
    {
     "name": "stdout",
     "output_type": "stream",
     "text": [
      "CPU times: user 0 ns, sys: 0 ns, total: 0 ns\n",
      "Wall time: 16 µs\n",
      "Train on 800 samples, validate on 200 samples\n",
      "Epoch 1/5\n",
      "800/800 [==============================] - 0s 482us/step - loss: 2.0406 - acc: 0.3150 - val_loss: 1.5352 - val_acc: 0.6000\n",
      "Epoch 2/5\n",
      "800/800 [==============================] - 0s 130us/step - loss: 1.2930 - acc: 0.6062 - val_loss: 0.9831 - val_acc: 0.6850\n",
      "Epoch 3/5\n",
      "800/800 [==============================] - 0s 130us/step - loss: 0.8955 - acc: 0.7262 - val_loss: 0.7357 - val_acc: 0.7650\n",
      "Epoch 4/5\n",
      "800/800 [==============================] - 0s 129us/step - loss: 0.7291 - acc: 0.7537 - val_loss: 0.6643 - val_acc: 0.8150\n",
      "Epoch 5/5\n",
      "800/800 [==============================] - 0s 138us/step - loss: 0.6082 - acc: 0.7887 - val_loss: 0.6405 - val_acc: 0.7450\n"
     ]
    }
   ],
   "source": [
    "%time\n",
    "output_transfer = model_transfer.fit(x_train_conv_resize_vgg, y_train_class_vgg, \n",
    "                                      batch_size=16, epochs=5, verbose=1, validation_split = 0.2)"
   ]
  },
  {
   "cell_type": "markdown",
   "metadata": {},
   "source": [
    "**Step 4: Check the performance of the model**"
   ]
  },
  {
   "cell_type": "code",
   "execution_count": 24,
   "metadata": {},
   "outputs": [
    {
     "data": {
      "application/vnd.vegalite.v2+json": {
       "$schema": "https://vega.github.io/schema/vega-lite/v2.4.3.json",
       "config": {
        "view": {
         "height": 300,
         "width": 400
        }
       },
       "data": {
        "values": [
         {
          "batch": 1,
          "metrics": "loss",
          "type": "validation",
          "value": 1.5351784229278564
         },
         {
          "batch": 2,
          "metrics": "loss",
          "type": "validation",
          "value": 0.9831064891815186
         },
         {
          "batch": 3,
          "metrics": "loss",
          "type": "validation",
          "value": 0.7356976127624512
         },
         {
          "batch": 4,
          "metrics": "loss",
          "type": "validation",
          "value": 0.6643098258972168
         },
         {
          "batch": 5,
          "metrics": "loss",
          "type": "validation",
          "value": 0.6404746127128601
         },
         {
          "batch": 1,
          "metrics": "acc",
          "type": "validation",
          "value": 0.6
         },
         {
          "batch": 2,
          "metrics": "acc",
          "type": "validation",
          "value": 0.685
         },
         {
          "batch": 3,
          "metrics": "acc",
          "type": "validation",
          "value": 0.765
         },
         {
          "batch": 4,
          "metrics": "acc",
          "type": "validation",
          "value": 0.815
         },
         {
          "batch": 5,
          "metrics": "acc",
          "type": "validation",
          "value": 0.745
         },
         {
          "batch": 1,
          "metrics": "loss",
          "type": "training",
          "value": 2.040550079345703
         },
         {
          "batch": 2,
          "metrics": "loss",
          "type": "training",
          "value": 1.2929707050323487
         },
         {
          "batch": 3,
          "metrics": "loss",
          "type": "training",
          "value": 0.8955097824335099
         },
         {
          "batch": 4,
          "metrics": "loss",
          "type": "training",
          "value": 0.7290955901145935
         },
         {
          "batch": 5,
          "metrics": "loss",
          "type": "training",
          "value": 0.6081768244504928
         },
         {
          "batch": 1,
          "metrics": "acc",
          "type": "training",
          "value": 0.315
         },
         {
          "batch": 2,
          "metrics": "acc",
          "type": "training",
          "value": 0.60625
         },
         {
          "batch": 3,
          "metrics": "acc",
          "type": "training",
          "value": 0.72625
         },
         {
          "batch": 4,
          "metrics": "acc",
          "type": "training",
          "value": 0.75375
         },
         {
          "batch": 5,
          "metrics": "acc",
          "type": "training",
          "value": 0.78875
         }
        ]
       },
       "facet": {
        "column": {
         "field": "metrics",
         "type": "nominal"
        }
       },
       "resolve": {
        "scale": {
         "color": "shared",
         "x": "shared",
         "y": "independent"
        }
       },
       "spec": {
        "layer": [
         {
          "encoding": {
           "color": {
            "field": "type",
            "type": "nominal"
           },
           "tooltip": [
            {
             "field": "batch",
             "type": "quantitative"
            },
            {
             "field": "value",
             "type": "quantitative"
            }
           ],
           "x": {
            "field": "batch",
            "type": "quantitative"
           },
           "y": {
            "field": "value",
            "type": "quantitative"
           }
          },
          "height": 300,
          "mark": {
           "size": 50,
           "type": "circle"
          },
          "width": 300
         },
         {
          "encoding": {
           "color": {
            "field": "type",
            "type": "nominal"
           },
           "x": {
            "field": "batch",
            "type": "quantitative"
           },
           "y": {
            "field": "value",
            "type": "quantitative"
           }
          },
          "height": 300,
          "mark": "line",
          "width": 300
         }
        ]
       }
      },
      "image/png": "[encoded data removed]",
      "text/plain": [
       "<VegaLite 2 object>\n",
       "\n",
       "If you see this message, it means the renderer has not been properly enabled\n",
       "for the frontend that you are using. For more information, see\n",
       "https://altair-viz.github.io/user_guide/troubleshooting.html\n"
      ]
     },
     "execution_count": 24,
     "metadata": {},
     "output_type": "execute_result"
    }
   ],
   "source": [
    "vis.metrics(output_transfer.history)"
   ]
  },
  {
   "cell_type": "code",
   "execution_count": 25,
   "metadata": {},
   "outputs": [
    {
     "ename": "NameError",
     "evalue": "name 'x_test_conv_reshape_vgg' is not defined",
     "output_type": "error",
     "traceback": [
      "\u001b[0;31m---------------------------------------------------------------------------\u001b[0m",
      "\u001b[0;31mNameError\u001b[0m                                 Traceback (most recent call last)",
      "\u001b[0;32m<ipython-input-25-892d47ab9747>\u001b[0m in \u001b[0;36m<module>\u001b[0;34m()\u001b[0m\n\u001b[0;32m----> 1\u001b[0;31m \u001b[0mscore\u001b[0m \u001b[0;34m=\u001b[0m \u001b[0mmodel_transfer\u001b[0m\u001b[0;34m.\u001b[0m\u001b[0mevaluate\u001b[0m\u001b[0;34m(\u001b[0m\u001b[0mx_test_conv_reshape_vgg\u001b[0m\u001b[0;34m,\u001b[0m \u001b[0my_test_class\u001b[0m\u001b[0;34m,\u001b[0m \u001b[0mverbose\u001b[0m\u001b[0;34m=\u001b[0m\u001b[0;36m1\u001b[0m\u001b[0;34m)\u001b[0m\u001b[0;34m\u001b[0m\u001b[0m\n\u001b[0m",
      "\u001b[0;31mNameError\u001b[0m: name 'x_test_conv_reshape_vgg' is not defined"
     ]
    }
   ],
   "source": [
    "score = model_transfer.evaluate(x_test_conv_reshape_vgg, y_test_class, verbose=1)"
   ]
  },
  {
   "cell_type": "code",
   "execution_count": null,
   "metadata": {
    "colab": {
     "autoexec": {
      "startup": false,
      "wait_interval": 0
     },
     "base_uri": "https://localhost:8080/",
     "height": 374,
     "output_extras": [
      {
       "item_id": 1
      }
     ]
    },
    "colab_type": "code",
    "executionInfo": {
     "elapsed": 1161,
     "status": "ok",
     "timestamp": 1521300979109,
     "user": {
      "displayName": "Amit Kapoor",
      "photoUrl": "//lh4.googleusercontent.com/-D2AEUHCgcx8/AAAAAAAAAAI/AAAAAAAAAoY/0HFe1PWxMvQ/s50-c-k-no/photo.jpg",
      "userId": "115841624057400778059"
     },
     "user_tz": -330
    },
    "id": "QtUXU4xRbgL4",
    "outputId": "0f5d659a-29f8-4e0d-dd27-9c07d558c476"
   },
   "outputs": [],
   "source": [
    "print('Test loss:', score[0])\n",
    "print('Test accuracy:', score[1])"
   ]
  },
  {
   "cell_type": "markdown",
   "metadata": {},
   "source": [
    "**Step 5: Make & Visualise the Prediction**"
   ]
  },
  {
   "cell_type": "code",
   "execution_count": null,
   "metadata": {},
   "outputs": [],
   "source": [
    "predict_classes_transfer = model_transfer.predict_classes(x_test_conv_reshape_vgg)"
   ]
  },
  {
   "cell_type": "code",
   "execution_count": null,
   "metadata": {
    "colab": {
     "autoexec": {
      "startup": false,
      "wait_interval": 0
     }
    },
    "colab_type": "code",
    "id": "qOJk0ncjcBoa"
   },
   "outputs": [],
   "source": [
    "pd.crosstab(y_test, predict_classes_transfer)"
   ]
  },
  {
   "cell_type": "code",
   "execution_count": null,
   "metadata": {},
   "outputs": [],
   "source": [
    "proba_transfer = model_transfer_conv.predict_proba(x_test_conv_reshape_vgg)"
   ]
  },
  {
   "cell_type": "code",
   "execution_count": null,
   "metadata": {},
   "outputs": [],
   "source": [
    "vis.imshow(x_test[i], labels[y_test[i]]) | vis.predict(proba_transfer[i], y_test[i], labels)"
   ]
  },
  {
   "cell_type": "code",
   "execution_count": null,
   "metadata": {},
   "outputs": [],
   "source": []
  },
  {
   "cell_type": "code",
   "execution_count": null,
   "metadata": {},
   "outputs": [],
   "source": []
  }
 ],
 "metadata": {
  "accelerator": "GPU",
  "colab": {
   "default_view": {},
   "name": "04-Transfer-Learning.ipynb",
   "provenance": [],
   "version": "0.3.2",
   "views": {}
  },
  "kernelspec": {
   "display_name": "Python 3",
   "language": "python",
   "name": "python3"
  },
  "language_info": {
   "codemirror_mode": {
    "name": "ipython",
    "version": 3
   },
   "file_extension": ".py",
   "mimetype": "text/x-python",
   "name": "python",
   "nbconvert_exporter": "python",
   "pygments_lexer": "ipython3",
   "version": "3.6.6"
  }
 },
 "nbformat": 4,
 "nbformat_minor": 2
}
