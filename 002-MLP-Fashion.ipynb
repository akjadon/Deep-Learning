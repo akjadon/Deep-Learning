{
 "cells": [
  {
   "cell_type": "markdown",
   "metadata": {},
   "source": [
    "# Multi Layer Perceptron - Fashion MNIST"
   ]
  },
  {
   "cell_type": "markdown",
   "metadata": {},
   "source": [
    "We will be starting with a classification exercise. And using the **Fashion Mnist** dataset to do so. It involves identifying the 10 types of products that are there in the image.\n",
    "\n",
    "- Train: 60,000 images\n",
    "- Test: 10,000 images\n",
    "- Class: 10\n",
    "- Labels: \n",
    " - 0: T-shirt/top\n",
    " - 1: Trouser\n",
    " - 2: Pullover\n",
    " - 3: Dress\n",
    " - 4: Coat\n",
    " - 5: Sandal\n",
    " - 6: Shirt\n",
    " - 7: Sneaker\n",
    " - 8: Bag\n",
    " - 9: Ankle boot"
   ]
  },
  {
   "cell_type": "markdown",
   "metadata": {},
   "source": [
    "### Get Input and Output"
   ]
  },
  {
   "cell_type": "code",
   "execution_count": 1,
   "metadata": {},
   "outputs": [
    {
     "name": "stderr",
     "output_type": "stream",
     "text": [
      "Using TensorFlow backend.\n"
     ]
    }
   ],
   "source": [
    "import numpy as np\n",
    "import pandas as pd\n",
    "import keras\n",
    "import matplotlib.pyplot as plt\n",
    "%matplotlib inline\n",
    "import vis"
   ]
  },
  {
   "cell_type": "code",
   "execution_count": 2,
   "metadata": {},
   "outputs": [],
   "source": [
    "from keras.datasets import fashion_mnist"
   ]
  },
  {
   "cell_type": "code",
   "execution_count": 16,
   "metadata": {},
   "outputs": [
    {
     "data": {
      "text/plain": [
       "((60000, 28, 28), (60000,), (10000, 28, 28), (10000,))"
      ]
     },
     "execution_count": 16,
     "metadata": {},
     "output_type": "execute_result"
    }
   ],
   "source": [
    "(x_train, y_train), (x_test, y_test) = fashion_mnist.load_data()\n",
    "x_train.shape, y_train.shape, x_test.shape, y_test.shape"
   ]
  },
  {
   "cell_type": "code",
   "execution_count": 4,
   "metadata": {},
   "outputs": [
    {
     "data": {
      "text/plain": [
       "{0: 'T-shirt/top',\n",
       " 1: 'Trouser',\n",
       " 2: 'Pullover',\n",
       " 3: 'Dress',\n",
       " 4: 'Coat',\n",
       " 5: 'Sandal',\n",
       " 6: 'Shirt',\n",
       " 7: 'Sneaker',\n",
       " 8: 'Bag',\n",
       " 9: 'Ankle boot'}"
      ]
     },
     "execution_count": 4,
     "metadata": {},
     "output_type": "execute_result"
    }
   ],
   "source": [
    "labels = vis.fashion_mnist_label()\n",
    "labels"
   ]
  },
  {
   "cell_type": "markdown",
   "metadata": {},
   "source": [
    "#### See an Image"
   ]
  },
  {
   "cell_type": "code",
   "execution_count": 5,
   "metadata": {},
   "outputs": [],
   "source": [
    "import vis"
   ]
  },
  {
   "cell_type": "code",
   "execution_count": 6,
   "metadata": {},
   "outputs": [
    {
     "data": {
      "application/vnd.vegalite.v2+json": {
       "$schema": "https://vega.github.io/schema/vega-lite/v2.4.3.json",
       "config": {
        "view": {
         "height": 300,
         "width": 400
        }
       },
       "data": {
        "values": [
         {
          "h": 0,
          "value": 0,
          "w": 0
         },
         {
          "h": 1,
          "value": 0,
          "w": 0
         },
         {
          "h": 2,
          "value": 0,
          "w": 0
         },
         {
          "h": 3,
          "value": 0,
          "w": 0
         },
         {
          "h": 4,
          "value": 0,
          "w": 0
         },
         {
          "h": 5,
          "value": 0,
          "w": 0
         },
         {
          "h": 6,
          "value": 0,
          "w": 0
         },
         {
          "h": 7,
          "value": 0,
          "w": 0
         },
         {
          "h": 8,
          "value": 0,
          "w": 0
         },
         {
          "h": 9,
          "value": 0,
          "w": 0
         },
         {
          "h": 10,
          "value": 0,
          "w": 0
         },
         {
          "h": 11,
          "value": 0,
          "w": 0
         },
         {
          "h": 12,
          "value": 0,
          "w": 0
         },
         {
          "h": 13,
          "value": 0,
          "w": 0
         },
         {
          "h": 14,
          "value": 0,
          "w": 0
         },
         {
          "h": 15,
          "value": 0,
          "w": 0
         },
         {
          "h": 16,
          "value": 0,
          "w": 0
         },
         {
          "h": 17,
          "value": 0,
          "w": 0
         },
         {
          "h": 18,
          "value": 3,
          "w": 0
         },
         {
          "h": 19,
          "value": 98,
          "w": 0
         },
         {
          "h": 20,
          "value": 75,
          "w": 0
         },
         {
          "h": 21,
          "value": 48,
          "w": 0
         },
         {
          "h": 22,
          "value": 0,
          "w": 0
         },
         {
          "h": 23,
          "value": 0,
          "w": 0
         },
         {
          "h": 24,
          "value": 2,
          "w": 0
         },
         {
          "h": 25,
          "value": 0,
          "w": 0
         },
         {
          "h": 26,
          "value": 0,
          "w": 0
         },
         {
          "h": 27,
          "value": 0,
          "w": 0
         },
         {
          "h": 0,
          "value": 0,
          "w": 1
         },
         {
          "h": 1,
          "value": 0,
          "w": 1
         },
         {
          "h": 2,
          "value": 0,
          "w": 1
         },
         {
          "h": 3,
          "value": 0,
          "w": 1
         },
         {
          "h": 4,
          "value": 0,
          "w": 1
         },
         {
          "h": 5,
          "value": 0,
          "w": 1
         },
         {
          "h": 6,
          "value": 0,
          "w": 1
         },
         {
          "h": 7,
          "value": 0,
          "w": 1
         },
         {
          "h": 8,
          "value": 0,
          "w": 1
         },
         {
          "h": 9,
          "value": 0,
          "w": 1
         },
         {
          "h": 10,
          "value": 0,
          "w": 1
         },
         {
          "h": 11,
          "value": 0,
          "w": 1
         },
         {
          "h": 12,
          "value": 0,
          "w": 1
         },
         {
          "h": 13,
          "value": 0,
          "w": 1
         },
         {
          "h": 14,
          "value": 0,
          "w": 1
         },
         {
          "h": 15,
          "value": 3,
          "w": 1
         },
         {
          "h": 16,
          "value": 0,
          "w": 1
         },
         {
          "h": 17,
          "value": 57,
          "w": 1
         },
         {
          "h": 18,
          "value": 202,
          "w": 1
         },
         {
          "h": 19,
          "value": 233,
          "w": 1
         },
         {
          "h": 20,
          "value": 204,
          "w": 1
         },
         {
          "h": 21,
          "value": 203,
          "w": 1
         },
         {
          "h": 22,
          "value": 122,
          "w": 1
         },
         {
          "h": 23,
          "value": 0,
          "w": 1
         },
         {
          "h": 24,
          "value": 0,
          "w": 1
         },
         {
          "h": 25,
          "value": 0,
          "w": 1
         },
         {
          "h": 26,
          "value": 0,
          "w": 1
         },
         {
          "h": 27,
          "value": 0,
          "w": 1
         },
         {
          "h": 0,
          "value": 0,
          "w": 2
         },
         {
          "h": 1,
          "value": 0,
          "w": 2
         },
         {
          "h": 2,
          "value": 0,
          "w": 2
         },
         {
          "h": 3,
          "value": 0,
          "w": 2
         },
         {
          "h": 4,
          "value": 0,
          "w": 2
         },
         {
          "h": 5,
          "value": 0,
          "w": 2
         },
         {
          "h": 6,
          "value": 0,
          "w": 2
         },
         {
          "h": 7,
          "value": 0,
          "w": 2
         },
         {
          "h": 8,
          "value": 0,
          "w": 2
         },
         {
          "h": 9,
          "value": 0,
          "w": 2
         },
         {
          "h": 10,
          "value": 0,
          "w": 2
         },
         {
          "h": 11,
          "value": 0,
          "w": 2
         },
         {
          "h": 12,
          "value": 0,
          "w": 2
         },
         {
          "h": 13,
          "value": 0,
          "w": 2
         },
         {
          "h": 14,
          "value": 1,
          "w": 2
         },
         {
          "h": 15,
          "value": 0,
          "w": 2
         },
         {
          "h": 16,
          "value": 0,
          "w": 2
         },
         {
          "h": 17,
          "value": 187,
          "w": 2
         },
         {
          "h": 18,
          "value": 228,
          "w": 2
         },
         {
          "h": 19,
          "value": 198,
          "w": 2
         },
         {
          "h": 20,
          "value": 212,
          "w": 2
         },
         {
          "h": 21,
          "value": 183,
          "w": 2
         },
         {
          "h": 22,
          "value": 219,
          "w": 2
         },
         {
          "h": 23,
          "value": 74,
          "w": 2
         },
         {
          "h": 24,
          "value": 0,
          "w": 2
         },
         {
          "h": 25,
          "value": 0,
          "w": 2
         },
         {
          "h": 26,
          "value": 0,
          "w": 2
         },
         {
          "h": 27,
          "value": 0,
          "w": 2
         },
         {
          "h": 0,
          "value": 0,
          "w": 3
         },
         {
          "h": 1,
          "value": 0,
          "w": 3
         },
         {
          "h": 2,
          "value": 0,
          "w": 3
         },
         {
          "h": 3,
          "value": 0,
          "w": 3
         },
         {
          "h": 4,
          "value": 0,
          "w": 3
         },
         {
          "h": 5,
          "value": 0,
          "w": 3
         },
         {
          "h": 6,
          "value": 0,
          "w": 3
         },
         {
          "h": 7,
          "value": 0,
          "w": 3
         },
         {
          "h": 8,
          "value": 0,
          "w": 3
         },
         {
          "h": 9,
          "value": 0,
          "w": 3
         },
         {
          "h": 10,
          "value": 0,
          "w": 3
         },
         {
          "h": 11,
          "value": 0,
          "w": 3
         },
         {
          "h": 12,
          "value": 0,
          "w": 3
         },
         {
          "h": 13,
          "value": 0,
          "w": 3
         },
         {
          "h": 14,
          "value": 4,
          "w": 3
         },
         {
          "h": 15,
          "value": 0,
          "w": 3
         },
         {
          "h": 16,
          "value": 0,
          "w": 3
         },
         {
          "h": 17,
          "value": 208,
          "w": 3
         },
         {
          "h": 18,
          "value": 224,
          "w": 3
         },
         {
          "h": 19,
          "value": 210,
          "w": 3
         },
         {
          "h": 20,
          "value": 204,
          "w": 3
         },
         {
          "h": 21,
          "value": 194,
          "w": 3
         },
         {
          "h": 22,
          "value": 193,
          "w": 3
         },
         {
          "h": 23,
          "value": 189,
          "w": 3
         },
         {
          "h": 24,
          "value": 0,
          "w": 3
         },
         {
          "h": 25,
          "value": 0,
          "w": 3
         },
         {
          "h": 26,
          "value": 0,
          "w": 3
         },
         {
          "h": 27,
          "value": 0,
          "w": 3
         },
         {
          "h": 0,
          "value": 0,
          "w": 4
         },
         {
          "h": 1,
          "value": 0,
          "w": 4
         },
         {
          "h": 2,
          "value": 0,
          "w": 4
         },
         {
          "h": 3,
          "value": 0,
          "w": 4
         },
         {
          "h": 4,
          "value": 0,
          "w": 4
         },
         {
          "h": 5,
          "value": 0,
          "w": 4
         },
         {
          "h": 6,
          "value": 0,
          "w": 4
         },
         {
          "h": 7,
          "value": 0,
          "w": 4
         },
         {
          "h": 8,
          "value": 0,
          "w": 4
         },
         {
          "h": 9,
          "value": 0,
          "w": 4
         },
         {
          "h": 10,
          "value": 0,
          "w": 4
         },
         {
          "h": 11,
          "value": 0,
          "w": 4
         },
         {
          "h": 12,
          "value": 0,
          "w": 4
         },
         {
          "h": 13,
          "value": 0,
          "w": 4
         },
         {
          "h": 14,
          "value": 6,
          "w": 4
         },
         {
          "h": 15,
          "value": 0,
          "w": 4
         },
         {
          "h": 16,
          "value": 18,
          "w": 4
         },
         {
          "h": 17,
          "value": 224,
          "w": 4
         },
         {
          "h": 18,
          "value": 221,
          "w": 4
         },
         {
          "h": 19,
          "value": 222,
          "w": 4
         },
         {
          "h": 20,
          "value": 193,
          "w": 4
         },
         {
          "h": 21,
          "value": 213,
          "w": 4
         },
         {
          "h": 22,
          "value": 179,
          "w": 4
         },
         {
          "h": 23,
          "value": 212,
          "w": 4
         },
         {
          "h": 24,
          "value": 66,
          "w": 4
         },
         {
          "h": 25,
          "value": 0,
          "w": 4
         },
         {
          "h": 26,
          "value": 0,
          "w": 4
         },
         {
          "h": 27,
          "value": 0,
          "w": 4
         },
         {
          "h": 0,
          "value": 0,
          "w": 5
         },
         {
          "h": 1,
          "value": 0,
          "w": 5
         },
         {
          "h": 2,
          "value": 0,
          "w": 5
         },
         {
          "h": 3,
          "value": 0,
          "w": 5
         },
         {
          "h": 4,
          "value": 0,
          "w": 5
         },
         {
          "h": 5,
          "value": 0,
          "w": 5
         },
         {
          "h": 6,
          "value": 0,
          "w": 5
         },
         {
          "h": 7,
          "value": 0,
          "w": 5
         },
         {
          "h": 8,
          "value": 0,
          "w": 5
         },
         {
          "h": 9,
          "value": 0,
          "w": 5
         },
         {
          "h": 10,
          "value": 0,
          "w": 5
         },
         {
          "h": 11,
          "value": 0,
          "w": 5
         },
         {
          "h": 12,
          "value": 0,
          "w": 5
         },
         {
          "h": 13,
          "value": 0,
          "w": 5
         },
         {
          "h": 14,
          "value": 7,
          "w": 5
         },
         {
          "h": 15,
          "value": 0,
          "w": 5
         },
         {
          "h": 16,
          "value": 44,
          "w": 5
         },
         {
          "h": 17,
          "value": 221,
          "w": 5
         },
         {
          "h": 18,
          "value": 211,
          "w": 5
         },
         {
          "h": 19,
          "value": 229,
          "w": 5
         },
         {
          "h": 20,
          "value": 205,
          "w": 5
         },
         {
          "h": 21,
          "value": 197,
          "w": 5
         },
         {
          "h": 22,
          "value": 171,
          "w": 5
         },
         {
          "h": 23,
          "value": 191,
          "w": 5
         },
         {
          "h": 24,
          "value": 200,
          "w": 5
         },
         {
          "h": 25,
          "value": 0,
          "w": 5
         },
         {
          "h": 26,
          "value": 0,
          "w": 5
         },
         {
          "h": 27,
          "value": 0,
          "w": 5
         },
         {
          "h": 0,
          "value": 0,
          "w": 6
         },
         {
          "h": 1,
          "value": 0,
          "w": 6
         },
         {
          "h": 2,
          "value": 0,
          "w": 6
         },
         {
          "h": 3,
          "value": 0,
          "w": 6
         },
         {
          "h": 4,
          "value": 0,
          "w": 6
         },
         {
          "h": 5,
          "value": 0,
          "w": 6
         },
         {
          "h": 6,
          "value": 0,
          "w": 6
         },
         {
          "h": 7,
          "value": 0,
          "w": 6
         },
         {
          "h": 8,
          "value": 0,
          "w": 6
         },
         {
          "h": 9,
          "value": 0,
          "w": 6
         },
         {
          "h": 10,
          "value": 0,
          "w": 6
         },
         {
          "h": 11,
          "value": 0,
          "w": 6
         },
         {
          "h": 12,
          "value": 0,
          "w": 6
         },
         {
          "h": 13,
          "value": 0,
          "w": 6
         },
         {
          "h": 14,
          "value": 2,
          "w": 6
         },
         {
          "h": 15,
          "value": 0,
          "w": 6
         },
         {
          "h": 16,
          "value": 82,
          "w": 6
         },
         {
          "h": 17,
          "value": 224,
          "w": 6
         },
         {
          "h": 18,
          "value": 211,
          "w": 6
         },
         {
          "h": 19,
          "value": 229,
          "w": 6
         },
         {
          "h": 20,
          "value": 211,
          "w": 6
         },
         {
          "h": 21,
          "value": 185,
          "w": 6
         },
         {
          "h": 22,
          "value": 183,
          "w": 6
         },
         {
          "h": 23,
          "value": 175,
          "w": 6
         },
         {
          "h": 24,
          "value": 222,
          "w": 6
         },
         {
          "h": 25,
          "value": 0,
          "w": 6
         },
         {
          "h": 26,
          "value": 0,
          "w": 6
         },
         {
          "h": 27,
          "value": 0,
          "w": 6
         },
         {
          "h": 0,
          "value": 0,
          "w": 7
         },
         {
          "h": 1,
          "value": 0,
          "w": 7
         },
         {
          "h": 2,
          "value": 0,
          "w": 7
         },
         {
          "h": 3,
          "value": 0,
          "w": 7
         },
         {
          "h": 4,
          "value": 0,
          "w": 7
         },
         {
          "h": 5,
          "value": 0,
          "w": 7
         },
         {
          "h": 6,
          "value": 0,
          "w": 7
         },
         {
          "h": 7,
          "value": 0,
          "w": 7
         },
         {
          "h": 8,
          "value": 0,
          "w": 7
         },
         {
          "h": 9,
          "value": 0,
          "w": 7
         },
         {
          "h": 10,
          "value": 0,
          "w": 7
         },
         {
          "h": 11,
          "value": 0,
          "w": 7
         },
         {
          "h": 12,
          "value": 0,
          "w": 7
         },
         {
          "h": 13,
          "value": 0,
          "w": 7
         },
         {
          "h": 14,
          "value": 0,
          "w": 7
         },
         {
          "h": 15,
          "value": 0,
          "w": 7
         },
         {
          "h": 16,
          "value": 107,
          "w": 7
         },
         {
          "h": 17,
          "value": 208,
          "w": 7
         },
         {
          "h": 18,
          "value": 214,
          "w": 7
         },
         {
          "h": 19,
          "value": 234,
          "w": 7
         },
         {
          "h": 20,
          "value": 225,
          "w": 7
         },
         {
          "h": 21,
          "value": 190,
          "w": 7
         },
         {
          "h": 22,
          "value": 196,
          "w": 7
         },
         {
          "h": 23,
          "value": 172,
          "w": 7
         },
         {
          "h": 24,
          "value": 237,
          "w": 7
         },
         {
          "h": 25,
          "value": 40,
          "w": 7
         },
         {
          "h": 26,
          "value": 0,
          "w": 7
         },
         {
          "h": 27,
          "value": 0,
          "w": 7
         },
         {
          "h": 0,
          "value": 0,
          "w": 8
         },
         {
          "h": 1,
          "value": 0,
          "w": 8
         },
         {
          "h": 2,
          "value": 0,
          "w": 8
         },
         {
          "h": 3,
          "value": 0,
          "w": 8
         },
         {
          "h": 4,
          "value": 0,
          "w": 8
         },
         {
          "h": 5,
          "value": 0,
          "w": 8
         },
         {
          "h": 6,
          "value": 0,
          "w": 8
         },
         {
          "h": 7,
          "value": 0,
          "w": 8
         },
         {
          "h": 8,
          "value": 0,
          "w": 8
         },
         {
          "h": 9,
          "value": 0,
          "w": 8
         },
         {
          "h": 10,
          "value": 0,
          "w": 8
         },
         {
          "h": 11,
          "value": 0,
          "w": 8
         },
         {
          "h": 12,
          "value": 0,
          "w": 8
         },
         {
          "h": 13,
          "value": 0,
          "w": 8
         },
         {
          "h": 14,
          "value": 0,
          "w": 8
         },
         {
          "h": 15,
          "value": 0,
          "w": 8
         },
         {
          "h": 16,
          "value": 189,
          "w": 8
         },
         {
          "h": 17,
          "value": 204,
          "w": 8
         },
         {
          "h": 18,
          "value": 205,
          "w": 8
         },
         {
          "h": 19,
          "value": 249,
          "w": 8
         },
         {
          "h": 20,
          "value": 216,
          "w": 8
         },
         {
          "h": 21,
          "value": 194,
          "w": 8
         },
         {
          "h": 22,
          "value": 204,
          "w": 8
         },
         {
          "h": 23,
          "value": 175,
          "w": 8
         },
         {
          "h": 24,
          "value": 239,
          "w": 8
         },
         {
          "h": 25,
          "value": 61,
          "w": 8
         },
         {
          "h": 26,
          "value": 0,
          "w": 8
         },
         {
          "h": 27,
          "value": 0,
          "w": 8
         },
         {
          "h": 0,
          "value": 0,
          "w": 9
         },
         {
          "h": 1,
          "value": 0,
          "w": 9
         },
         {
          "h": 2,
          "value": 0,
          "w": 9
         },
         {
          "h": 3,
          "value": 0,
          "w": 9
         },
         {
          "h": 4,
          "value": 0,
          "w": 9
         },
         {
          "h": 5,
          "value": 0,
          "w": 9
         },
         {
          "h": 6,
          "value": 0,
          "w": 9
         },
         {
          "h": 7,
          "value": 0,
          "w": 9
         },
         {
          "h": 8,
          "value": 1,
          "w": 9
         },
         {
          "h": 9,
          "value": 0,
          "w": 9
         },
         {
          "h": 10,
          "value": 0,
          "w": 9
         },
         {
          "h": 11,
          "value": 1,
          "w": 9
         },
         {
          "h": 12,
          "value": 0,
          "w": 9
         },
         {
          "h": 13,
          "value": 4,
          "w": 9
         },
         {
          "h": 14,
          "value": 0,
          "w": 9
         },
         {
          "h": 15,
          "value": 62,
          "w": 9
         },
         {
          "h": 16,
          "value": 228,
          "w": 9
         },
         {
          "h": 17,
          "value": 214,
          "w": 9
         },
         {
          "h": 18,
          "value": 205,
          "w": 9
         },
         {
          "h": 19,
          "value": 220,
          "w": 9
         },
         {
          "h": 20,
          "value": 185,
          "w": 9
         },
         {
          "h": 21,
          "value": 192,
          "w": 9
         },
         {
          "h": 22,
          "value": 210,
          "w": 9
         },
         {
          "h": 23,
          "value": 181,
          "w": 9
         },
         {
          "h": 24,
          "value": 242,
          "w": 9
         },
         {
          "h": 25,
          "value": 44,
          "w": 9
         },
         {
          "h": 26,
          "value": 0,
          "w": 9
         },
         {
          "h": 27,
          "value": 0,
          "w": 9
         },
         {
          "h": 0,
          "value": 0,
          "w": 10
         },
         {
          "h": 1,
          "value": 0,
          "w": 10
         },
         {
          "h": 2,
          "value": 0,
          "w": 10
         },
         {
          "h": 3,
          "value": 0,
          "w": 10
         },
         {
          "h": 4,
          "value": 0,
          "w": 10
         },
         {
          "h": 5,
          "value": 0,
          "w": 10
         },
         {
          "h": 6,
          "value": 0,
          "w": 10
         },
         {
          "h": 7,
          "value": 0,
          "w": 10
         },
         {
          "h": 8,
          "value": 1,
          "w": 10
         },
         {
          "h": 9,
          "value": 0,
          "w": 10
         },
         {
          "h": 10,
          "value": 0,
          "w": 10
         },
         {
          "h": 11,
          "value": 3,
          "w": 10
         },
         {
          "h": 12,
          "value": 6,
          "w": 10
         },
         {
          "h": 13,
          "value": 0,
          "w": 10
         },
         {
          "h": 14,
          "value": 0,
          "w": 10
         },
         {
          "h": 15,
          "value": 145,
          "w": 10
         },
         {
          "h": 16,
          "value": 220,
          "w": 10
         },
         {
          "h": 17,
          "value": 208,
          "w": 10
         },
         {
          "h": 18,
          "value": 205,
          "w": 10
         },
         {
          "h": 19,
          "value": 194,
          "w": 10
         },
         {
          "h": 20,
          "value": 197,
          "w": 10
         },
         {
          "h": 21,
          "value": 202,
          "w": 10
         },
         {
          "h": 22,
          "value": 213,
          "w": 10
         },
         {
          "h": 23,
          "value": 185,
          "w": 10
         },
         {
          "h": 24,
          "value": 246,
          "w": 10
         },
         {
          "h": 25,
          "value": 72,
          "w": 10
         },
         {
          "h": 26,
          "value": 0,
          "w": 10
         },
         {
          "h": 27,
          "value": 0,
          "w": 10
         },
         {
          "h": 0,
          "value": 0,
          "w": 11
         },
         {
          "h": 1,
          "value": 0,
          "w": 11
         },
         {
          "h": 2,
          "value": 0,
          "w": 11
         },
         {
          "h": 3,
          "value": 0,
          "w": 11
         },
         {
          "h": 4,
          "value": 0,
          "w": 11
         },
         {
          "h": 5,
          "value": 0,
          "w": 11
         },
         {
          "h": 6,
          "value": 0,
          "w": 11
         },
         {
          "h": 7,
          "value": 1,
          "w": 11
         },
         {
          "h": 8,
          "value": 1,
          "w": 11
         },
         {
          "h": 9,
          "value": 0,
          "w": 11
         },
         {
          "h": 10,
          "value": 0,
          "w": 11
         },
         {
          "h": 11,
          "value": 0,
          "w": 11
         },
         {
          "h": 12,
          "value": 0,
          "w": 11
         },
         {
          "h": 13,
          "value": 0,
          "w": 11
         },
         {
          "h": 14,
          "value": 0,
          "w": 11
         },
         {
          "h": 15,
          "value": 204,
          "w": 11
         },
         {
          "h": 16,
          "value": 222,
          "w": 11
         },
         {
          "h": 17,
          "value": 209,
          "w": 11
         },
         {
          "h": 18,
          "value": 220,
          "w": 11
         },
         {
          "h": 19,
          "value": 215,
          "w": 11
         },
         {
          "h": 20,
          "value": 206,
          "w": 11
         },
         {
          "h": 21,
          "value": 214,
          "w": 11
         },
         {
          "h": 22,
          "value": 207,
          "w": 11
         },
         {
          "h": 23,
          "value": 188,
          "w": 11
         },
         {
          "h": 24,
          "value": 243,
          "w": 11
         },
         {
          "h": 25,
          "value": 41,
          "w": 11
         },
         {
          "h": 26,
          "value": 0,
          "w": 11
         },
         {
          "h": 27,
          "value": 0,
          "w": 11
         },
         {
          "h": 0,
          "value": 0,
          "w": 12
         },
         {
          "h": 1,
          "value": 0,
          "w": 12
         },
         {
          "h": 2,
          "value": 0,
          "w": 12
         },
         {
          "h": 3,
          "value": 1,
          "w": 12
         },
         {
          "h": 4,
          "value": 3,
          "w": 12
         },
         {
          "h": 5,
          "value": 6,
          "w": 12
         },
         {
          "h": 6,
          "value": 0,
          "w": 12
         },
         {
          "h": 7,
          "value": 0,
          "w": 12
         },
         {
          "h": 8,
          "value": 0,
          "w": 12
         },
         {
          "h": 9,
          "value": 0,
          "w": 12
         },
         {
          "h": 10,
          "value": 0,
          "w": 12
         },
         {
          "h": 11,
          "value": 12,
          "w": 12
         },
         {
          "h": 12,
          "value": 99,
          "w": 12
         },
         {
          "h": 13,
          "value": 55,
          "w": 12
         },
         {
          "h": 14,
          "value": 237,
          "w": 12
         },
         {
          "h": 15,
          "value": 228,
          "w": 12
         },
         {
          "h": 16,
          "value": 217,
          "w": 12
         },
         {
          "h": 17,
          "value": 200,
          "w": 12
         },
         {
          "h": 18,
          "value": 240,
          "w": 12
         },
         {
          "h": 19,
          "value": 217,
          "w": 12
         },
         {
          "h": 20,
          "value": 198,
          "w": 12
         },
         {
          "h": 21,
          "value": 219,
          "w": 12
         },
         {
          "h": 22,
          "value": 211,
          "w": 12
         },
         {
          "h": 23,
          "value": 189,
          "w": 12
         },
         {
          "h": 24,
          "value": 244,
          "w": 12
         },
         {
          "h": 25,
          "value": 35,
          "w": 12
         },
         {
          "h": 26,
          "value": 0,
          "w": 12
         },
         {
          "h": 27,
          "value": 0,
          "w": 12
         },
         {
          "h": 0,
          "value": 0,
          "w": 13
         },
         {
          "h": 1,
          "value": 0,
          "w": 13
         },
         {
          "h": 2,
          "value": 0,
          "w": 13
         },
         {
          "h": 3,
          "value": 0,
          "w": 13
         },
         {
          "h": 4,
          "value": 0,
          "w": 13
         },
         {
          "h": 5,
          "value": 0,
          "w": 13
         },
         {
          "h": 6,
          "value": 0,
          "w": 13
         },
         {
          "h": 7,
          "value": 69,
          "w": 13
         },
         {
          "h": 8,
          "value": 200,
          "w": 13
         },
         {
          "h": 9,
          "value": 183,
          "w": 13
         },
         {
          "h": 10,
          "value": 193,
          "w": 13
         },
         {
          "h": 11,
          "value": 219,
          "w": 13
         },
         {
          "h": 12,
          "value": 244,
          "w": 13
         },
         {
          "h": 13,
          "value": 236,
          "w": 13
         },
         {
          "h": 14,
          "value": 226,
          "w": 13
         },
         {
          "h": 15,
          "value": 207,
          "w": 13
         },
         {
          "h": 16,
          "value": 226,
          "w": 13
         },
         {
          "h": 17,
          "value": 159,
          "w": 13
         },
         {
          "h": 18,
          "value": 80,
          "w": 13
         },
         {
          "h": 19,
          "value": 241,
          "w": 13
         },
         {
          "h": 20,
          "value": 213,
          "w": 13
         },
         {
          "h": 21,
          "value": 221,
          "w": 13
         },
         {
          "h": 22,
          "value": 210,
          "w": 13
         },
         {
          "h": 23,
          "value": 188,
          "w": 13
         },
         {
          "h": 24,
          "value": 221,
          "w": 13
         },
         {
          "h": 25,
          "value": 0,
          "w": 13
         },
         {
          "h": 26,
          "value": 0,
          "w": 13
         },
         {
          "h": 27,
          "value": 0,
          "w": 13
         },
         {
          "h": 0,
          "value": 0,
          "w": 14
         },
         {
          "h": 1,
          "value": 0,
          "w": 14
         },
         {
          "h": 2,
          "value": 0,
          "w": 14
         },
         {
          "h": 3,
          "value": 0,
          "w": 14
         },
         {
          "h": 4,
          "value": 36,
          "w": 14
         },
         {
          "h": 5,
          "value": 102,
          "w": 14
         },
         {
          "h": 6,
          "value": 155,
          "w": 14
         },
         {
          "h": 7,
          "value": 207,
          "w": 14
         },
         {
          "h": 8,
          "value": 232,
          "w": 14
         },
         {
          "h": 9,
          "value": 225,
          "w": 14
         },
         {
          "h": 10,
          "value": 228,
          "w": 14
         },
         {
          "h": 11,
          "value": 220,
          "w": 14
         },
         {
          "h": 12,
          "value": 222,
          "w": 14
         },
         {
          "h": 13,
          "value": 228,
          "w": 14
         },
         {
          "h": 14,
          "value": 217,
          "w": 14
         },
         {
          "h": 15,
          "value": 213,
          "w": 14
         },
         {
          "h": 16,
          "value": 200,
          "w": 14
         },
         {
          "h": 17,
          "value": 245,
          "w": 14
         },
         {
          "h": 18,
          "value": 150,
          "w": 14
         },
         {
          "h": 19,
          "value": 65,
          "w": 14
         },
         {
          "h": 20,
          "value": 240,
          "w": 14
         },
         {
          "h": 21,
          "value": 220,
          "w": 14
         },
         {
          "h": 22,
          "value": 200,
          "w": 14
         },
         {
          "h": 23,
          "value": 193,
          "w": 14
         },
         {
          "h": 24,
          "value": 220,
          "w": 14
         },
         {
          "h": 25,
          "value": 0,
          "w": 14
         },
         {
          "h": 26,
          "value": 0,
          "w": 14
         },
         {
          "h": 27,
          "value": 0,
          "w": 14
         },
         {
          "h": 0,
          "value": 0,
          "w": 15
         },
         {
          "h": 1,
          "value": 0,
          "w": 15
         },
         {
          "h": 2,
          "value": 0,
          "w": 15
         },
         {
          "h": 3,
          "value": 13,
          "w": 15
         },
         {
          "h": 4,
          "value": 136,
          "w": 15
         },
         {
          "h": 5,
          "value": 204,
          "w": 15
         },
         {
          "h": 6,
          "value": 236,
          "w": 15
         },
         {
          "h": 7,
          "value": 223,
          "w": 15
         },
         {
          "h": 8,
          "value": 232,
          "w": 15
         },
         {
          "h": 9,
          "value": 216,
          "w": 15
         },
         {
          "h": 10,
          "value": 218,
          "w": 15
         },
         {
          "h": 11,
          "value": 212,
          "w": 15
         },
         {
          "h": 12,
          "value": 220,
          "w": 15
         },
         {
          "h": 13,
          "value": 230,
          "w": 15
         },
         {
          "h": 14,
          "value": 223,
          "w": 15
         },
         {
          "h": 15,
          "value": 221,
          "w": 15
         },
         {
          "h": 16,
          "value": 205,
          "w": 15
         },
         {
          "h": 17,
          "value": 193,
          "w": 15
         },
         {
          "h": 18,
          "value": 255,
          "w": 15
         },
         {
          "h": 19,
          "value": 73,
          "w": 15
         },
         {
          "h": 20,
          "value": 195,
          "w": 15
         },
         {
          "h": 21,
          "value": 236,
          "w": 15
         },
         {
          "h": 22,
          "value": 196,
          "w": 15
         },
         {
          "h": 23,
          "value": 198,
          "w": 15
         },
         {
          "h": 24,
          "value": 193,
          "w": 15
         },
         {
          "h": 25,
          "value": 0,
          "w": 15
         },
         {
          "h": 26,
          "value": 0,
          "w": 15
         },
         {
          "h": 27,
          "value": 0,
          "w": 15
         },
         {
          "h": 0,
          "value": 0,
          "w": 16
         },
         {
          "h": 1,
          "value": 0,
          "w": 16
         },
         {
          "h": 2,
          "value": 0,
          "w": 16
         },
         {
          "h": 3,
          "value": 73,
          "w": 16
         },
         {
          "h": 4,
          "value": 127,
          "w": 16
         },
         {
          "h": 5,
          "value": 176,
          "w": 16
         },
         {
          "h": 6,
          "value": 207,
          "w": 16
         },
         {
          "h": 7,
          "value": 218,
          "w": 16
         },
         {
          "h": 8,
          "value": 233,
          "w": 16
         },
         {
          "h": 9,
          "value": 223,
          "w": 16
         },
         {
          "h": 10,
          "value": 213,
          "w": 16
         },
         {
          "h": 11,
          "value": 218,
          "w": 16
         },
         {
          "h": 12,
          "value": 218,
          "w": 16
         },
         {
          "h": 13,
          "value": 228,
          "w": 16
         },
         {
          "h": 14,
          "value": 222,
          "w": 16
         },
         {
          "h": 15,
          "value": 218,
          "w": 16
         },
         {
          "h": 16,
          "value": 211,
          "w": 16
         },
         {
          "h": 17,
          "value": 206,
          "w": 16
         },
         {
          "h": 18,
          "value": 229,
          "w": 16
         },
         {
          "h": 19,
          "value": 106,
          "w": 16
         },
         {
          "h": 20,
          "value": 227,
          "w": 16
         },
         {
          "h": 21,
          "value": 225,
          "w": 16
         },
         {
          "h": 22,
          "value": 194,
          "w": 16
         },
         {
          "h": 23,
          "value": 204,
          "w": 16
         },
         {
          "h": 24,
          "value": 191,
          "w": 16
         },
         {
          "h": 25,
          "value": 0,
          "w": 16
         },
         {
          "h": 26,
          "value": 0,
          "w": 16
         },
         {
          "h": 27,
          "value": 0,
          "w": 16
         },
         {
          "h": 0,
          "value": 0,
          "w": 17
         },
         {
          "h": 1,
          "value": 0,
          "w": 17
         },
         {
          "h": 2,
          "value": 0,
          "w": 17
         },
         {
          "h": 3,
          "value": 0,
          "w": 17
         },
         {
          "h": 4,
          "value": 62,
          "w": 17
         },
         {
          "h": 5,
          "value": 134,
          "w": 17
         },
         {
          "h": 6,
          "value": 178,
          "w": 17
         },
         {
          "h": 7,
          "value": 216,
          "w": 17
         },
         {
          "h": 8,
          "value": 229,
          "w": 17
         },
         {
          "h": 9,
          "value": 228,
          "w": 17
         },
         {
          "h": 10,
          "value": 198,
          "w": 17
         },
         {
          "h": 11,
          "value": 192,
          "w": 17
         },
         {
          "h": 12,
          "value": 203,
          "w": 17
         },
         {
          "h": 13,
          "value": 240,
          "w": 17
         },
         {
          "h": 14,
          "value": 219,
          "w": 17
         },
         {
          "h": 15,
          "value": 208,
          "w": 17
         },
         {
          "h": 16,
          "value": 230,
          "w": 17
         },
         {
          "h": 17,
          "value": 223,
          "w": 17
         },
         {
          "h": 18,
          "value": 221,
          "w": 17
         },
         {
          "h": 19,
          "value": 117,
          "w": 17
         },
         {
          "h": 20,
          "value": 245,
          "w": 17
         },
         {
          "h": 21,
          "value": 216,
          "w": 17
         },
         {
          "h": 22,
          "value": 191,
          "w": 17
         },
         {
          "h": 23,
          "value": 209,
          "w": 17
         },
         {
          "h": 24,
          "value": 179,
          "w": 17
         },
         {
          "h": 25,
          "value": 0,
          "w": 17
         },
         {
          "h": 26,
          "value": 0,
          "w": 17
         },
         {
          "h": 27,
          "value": 0,
          "w": 17
         },
         {
          "h": 0,
          "value": 0,
          "w": 18
         },
         {
          "h": 1,
          "value": 0,
          "w": 18
         },
         {
          "h": 2,
          "value": 0,
          "w": 18
         },
         {
          "h": 3,
          "value": 0,
          "w": 18
         },
         {
          "h": 4,
          "value": 54,
          "w": 18
         },
         {
          "h": 5,
          "value": 144,
          "w": 18
         },
         {
          "h": 6,
          "value": 107,
          "w": 18
         },
         {
          "h": 7,
          "value": 216,
          "w": 18
         },
         {
          "h": 8,
          "value": 223,
          "w": 18
         },
         {
          "h": 9,
          "value": 235,
          "w": 18
         },
         {
          "h": 10,
          "value": 180,
          "w": 18
         },
         {
          "h": 11,
          "value": 169,
          "w": 18
         },
         {
          "h": 12,
          "value": 198,
          "w": 18
         },
         {
          "h": 13,
          "value": 232,
          "w": 18
         },
         {
          "h": 14,
          "value": 222,
          "w": 18
         },
         {
          "h": 15,
          "value": 211,
          "w": 18
         },
         {
          "h": 16,
          "value": 224,
          "w": 18
         },
         {
          "h": 17,
          "value": 255,
          "w": 18
         },
         {
          "h": 18,
          "value": 188,
          "w": 18
         },
         {
          "h": 19,
          "value": 168,
          "w": 18
         },
         {
          "h": 20,
          "value": 239,
          "w": 18
         },
         {
          "h": 21,
          "value": 199,
          "w": 18
         },
         {
          "h": 22,
          "value": 195,
          "w": 18
         },
         {
          "h": 23,
          "value": 210,
          "w": 18
         },
         {
          "h": 24,
          "value": 182,
          "w": 18
         },
         {
          "h": 25,
          "value": 0,
          "w": 18
         },
         {
          "h": 26,
          "value": 0,
          "w": 18
         },
         {
          "h": 27,
          "value": 0,
          "w": 18
         },
         {
          "h": 0,
          "value": 0,
          "w": 19
         },
         {
          "h": 1,
          "value": 0,
          "w": 19
         },
         {
          "h": 2,
          "value": 0,
          "w": 19
         },
         {
          "h": 3,
          "value": 1,
          "w": 19
         },
         {
          "h": 4,
          "value": 0,
          "w": 19
         },
         {
          "h": 5,
          "value": 123,
          "w": 19
         },
         {
          "h": 6,
          "value": 156,
          "w": 19
         },
         {
          "h": 7,
          "value": 163,
          "w": 19
         },
         {
          "h": 8,
          "value": 223,
          "w": 19
         },
         {
          "h": 9,
          "value": 227,
          "w": 19
         },
         {
          "h": 10,
          "value": 212,
          "w": 19
         },
         {
          "h": 11,
          "value": 227,
          "w": 19
         },
         {
          "h": 12,
          "value": 221,
          "w": 19
         },
         {
          "h": 13,
          "value": 213,
          "w": 19
         },
         {
          "h": 14,
          "value": 221,
          "w": 19
         },
         {
          "h": 15,
          "value": 218,
          "w": 19
         },
         {
          "h": 16,
          "value": 234,
          "w": 19
         },
         {
          "h": 17,
          "value": 255,
          "w": 19
         },
         {
          "h": 18,
          "value": 154,
          "w": 19
         },
         {
          "h": 19,
          "value": 219,
          "w": 19
         },
         {
          "h": 20,
          "value": 223,
          "w": 19
         },
         {
          "h": 21,
          "value": 206,
          "w": 19
         },
         {
          "h": 22,
          "value": 191,
          "w": 19
         },
         {
          "h": 23,
          "value": 210,
          "w": 19
         },
         {
          "h": 24,
          "value": 182,
          "w": 19
         },
         {
          "h": 25,
          "value": 0,
          "w": 19
         },
         {
          "h": 26,
          "value": 0,
          "w": 19
         },
         {
          "h": 27,
          "value": 0,
          "w": 19
         },
         {
          "h": 0,
          "value": 0,
          "w": 20
         },
         {
          "h": 1,
          "value": 0,
          "w": 20
         },
         {
          "h": 2,
          "value": 0,
          "w": 20
         },
         {
          "h": 3,
          "value": 4,
          "w": 20
         },
         {
          "h": 4,
          "value": 0,
          "w": 20
         },
         {
          "h": 5,
          "value": 23,
          "w": 20
         },
         {
          "h": 6,
          "value": 161,
          "w": 20
         },
         {
          "h": 7,
          "value": 127,
          "w": 20
         },
         {
          "h": 8,
          "value": 215,
          "w": 20
         },
         {
          "h": 9,
          "value": 224,
          "w": 20
         },
         {
          "h": 10,
          "value": 210,
          "w": 20
         },
         {
          "h": 11,
          "value": 208,
          "w": 20
         },
         {
          "h": 12,
          "value": 215,
          "w": 20
         },
         {
          "h": 13,
          "value": 218,
          "w": 20
         },
         {
          "h": 14,
          "value": 216,
          "w": 20
         },
         {
          "h": 15,
          "value": 224,
          "w": 20
         },
         {
          "h": 16,
          "value": 176,
          "w": 20
         },
         {
          "h": 17,
          "value": 221,
          "w": 20
         },
         {
          "h": 18,
          "value": 191,
          "w": 20
         },
         {
          "h": 19,
          "value": 221,
          "w": 20
         },
         {
          "h": 20,
          "value": 218,
          "w": 20
         },
         {
          "h": 21,
          "value": 186,
          "w": 20
         },
         {
          "h": 22,
          "value": 198,
          "w": 20
         },
         {
          "h": 23,
          "value": 211,
          "w": 20
         },
         {
          "h": 24,
          "value": 181,
          "w": 20
         },
         {
          "h": 25,
          "value": 0,
          "w": 20
         },
         {
          "h": 26,
          "value": 0,
          "w": 20
         },
         {
          "h": 27,
          "value": 0,
          "w": 20
         },
         {
          "h": 0,
          "value": 0,
          "w": 21
         },
         {
          "h": 1,
          "value": 0,
          "w": 21
         },
         {
          "h": 2,
          "value": 0,
          "w": 21
         },
         {
          "h": 3,
          "value": 0,
          "w": 21
         },
         {
          "h": 4,
          "value": 0,
          "w": 21
         },
         {
          "h": 5,
          "value": 0,
          "w": 21
         },
         {
          "h": 6,
          "value": 109,
          "w": 21
         },
         {
          "h": 7,
          "value": 121,
          "w": 21
         },
         {
          "h": 8,
          "value": 213,
          "w": 21
         },
         {
          "h": 9,
          "value": 222,
          "w": 21
         },
         {
          "h": 10,
          "value": 211,
          "w": 21
         },
         {
          "h": 11,
          "value": 218,
          "w": 21
         },
         {
          "h": 12,
          "value": 213,
          "w": 21
         },
         {
          "h": 13,
          "value": 223,
          "w": 21
         },
         {
          "h": 14,
          "value": 223,
          "w": 21
         },
         {
          "h": 15,
          "value": 223,
          "w": 21
         },
         {
          "h": 16,
          "value": 188,
          "w": 21
         },
         {
          "h": 17,
          "value": 234,
          "w": 21
         },
         {
          "h": 18,
          "value": 210,
          "w": 21
         },
         {
          "h": 19,
          "value": 215,
          "w": 21
         },
         {
          "h": 20,
          "value": 212,
          "w": 21
         },
         {
          "h": 21,
          "value": 181,
          "w": 21
         },
         {
          "h": 22,
          "value": 192,
          "w": 21
         },
         {
          "h": 23,
          "value": 188,
          "w": 21
         },
         {
          "h": 24,
          "value": 176,
          "w": 21
         },
         {
          "h": 25,
          "value": 0,
          "w": 21
         },
         {
          "h": 26,
          "value": 0,
          "w": 21
         },
         {
          "h": 27,
          "value": 0,
          "w": 21
         },
         {
          "h": 0,
          "value": 0,
          "w": 22
         },
         {
          "h": 1,
          "value": 0,
          "w": 22
         },
         {
          "h": 2,
          "value": 0,
          "w": 22
         },
         {
          "h": 3,
          "value": 0,
          "w": 22
         },
         {
          "h": 4,
          "value": 1,
          "w": 22
         },
         {
          "h": 5,
          "value": 0,
          "w": 22
         },
         {
          "h": 6,
          "value": 64,
          "w": 22
         },
         {
          "h": 7,
          "value": 122,
          "w": 22
         },
         {
          "h": 8,
          "value": 164,
          "w": 22
         },
         {
          "h": 9,
          "value": 224,
          "w": 22
         },
         {
          "h": 10,
          "value": 213,
          "w": 22
         },
         {
          "h": 11,
          "value": 224,
          "w": 22
         },
         {
          "h": 12,
          "value": 222,
          "w": 22
         },
         {
          "h": 13,
          "value": 234,
          "w": 22
         },
         {
          "h": 14,
          "value": 229,
          "w": 22
         },
         {
          "h": 15,
          "value": 219,
          "w": 22
         },
         {
          "h": 16,
          "value": 250,
          "w": 22
         },
         {
          "h": 17,
          "value": 221,
          "w": 22
         },
         {
          "h": 18,
          "value": 204,
          "w": 22
         },
         {
          "h": 19,
          "value": 217,
          "w": 22
         },
         {
          "h": 20,
          "value": 209,
          "w": 22
         },
         {
          "h": 21,
          "value": 177,
          "w": 22
         },
         {
          "h": 22,
          "value": 176,
          "w": 22
         },
         {
          "h": 23,
          "value": 188,
          "w": 22
         },
         {
          "h": 24,
          "value": 166,
          "w": 22
         },
         {
          "h": 25,
          "value": 0,
          "w": 22
         },
         {
          "h": 26,
          "value": 0,
          "w": 22
         },
         {
          "h": 27,
          "value": 0,
          "w": 22
         },
         {
          "h": 0,
          "value": 0,
          "w": 23
         },
         {
          "h": 1,
          "value": 0,
          "w": 23
         },
         {
          "h": 2,
          "value": 0,
          "w": 23
         },
         {
          "h": 3,
          "value": 0,
          "w": 23
         },
         {
          "h": 4,
          "value": 3,
          "w": 23
         },
         {
          "h": 5,
          "value": 0,
          "w": 23
         },
         {
          "h": 6,
          "value": 23,
          "w": 23
         },
         {
          "h": 7,
          "value": 146,
          "w": 23
         },
         {
          "h": 8,
          "value": 127,
          "w": 23
         },
         {
          "h": 9,
          "value": 221,
          "w": 23
         },
         {
          "h": 10,
          "value": 223,
          "w": 23
         },
         {
          "h": 11,
          "value": 212,
          "w": 23
         },
         {
          "h": 12,
          "value": 220,
          "w": 23
         },
         {
          "h": 13,
          "value": 217,
          "w": 23
         },
         {
          "h": 14,
          "value": 215,
          "w": 23
         },
         {
          "h": 15,
          "value": 215,
          "w": 23
         },
         {
          "h": 16,
          "value": 248,
          "w": 23
         },
         {
          "h": 17,
          "value": 211,
          "w": 23
         },
         {
          "h": 18,
          "value": 209,
          "w": 23
         },
         {
          "h": 19,
          "value": 223,
          "w": 23
         },
         {
          "h": 20,
          "value": 222,
          "w": 23
         },
         {
          "h": 21,
          "value": 172,
          "w": 23
         },
         {
          "h": 22,
          "value": 156,
          "w": 23
         },
         {
          "h": 23,
          "value": 194,
          "w": 23
         },
         {
          "h": 24,
          "value": 168,
          "w": 23
         },
         {
          "h": 25,
          "value": 0,
          "w": 23
         },
         {
          "h": 26,
          "value": 0,
          "w": 23
         },
         {
          "h": 27,
          "value": 0,
          "w": 23
         },
         {
          "h": 0,
          "value": 0,
          "w": 24
         },
         {
          "h": 1,
          "value": 0,
          "w": 24
         },
         {
          "h": 2,
          "value": 0,
          "w": 24
         },
         {
          "h": 3,
          "value": 0,
          "w": 24
         },
         {
          "h": 4,
          "value": 4,
          "w": 24
         },
         {
          "h": 5,
          "value": 0,
          "w": 24
         },
         {
          "h": 6,
          "value": 77,
          "w": 24
         },
         {
          "h": 7,
          "value": 141,
          "w": 24
         },
         {
          "h": 8,
          "value": 123,
          "w": 24
         },
         {
          "h": 9,
          "value": 223,
          "w": 24
         },
         {
          "h": 10,
          "value": 220,
          "w": 24
         },
         {
          "h": 11,
          "value": 226,
          "w": 24
         },
         {
          "h": 12,
          "value": 245,
          "w": 24
         },
         {
          "h": 13,
          "value": 217,
          "w": 24
         },
         {
          "h": 14,
          "value": 218,
          "w": 24
         },
         {
          "h": 15,
          "value": 224,
          "w": 24
         },
         {
          "h": 16,
          "value": 233,
          "w": 24
         },
         {
          "h": 17,
          "value": 220,
          "w": 24
         },
         {
          "h": 18,
          "value": 222,
          "w": 24
         },
         {
          "h": 19,
          "value": 223,
          "w": 24
         },
         {
          "h": 20,
          "value": 220,
          "w": 24
         },
         {
          "h": 21,
          "value": 181,
          "w": 24
         },
         {
          "h": 22,
          "value": 167,
          "w": 24
         },
         {
          "h": 23,
          "value": 192,
          "w": 24
         },
         {
          "h": 24,
          "value": 99,
          "w": 24
         },
         {
          "h": 25,
          "value": 0,
          "w": 24
         },
         {
          "h": 26,
          "value": 0,
          "w": 24
         },
         {
          "h": 27,
          "value": 0,
          "w": 24
         },
         {
          "h": 0,
          "value": 0,
          "w": 25
         },
         {
          "h": 1,
          "value": 0,
          "w": 25
         },
         {
          "h": 2,
          "value": 0,
          "w": 25
         },
         {
          "h": 3,
          "value": 1,
          "w": 25
         },
         {
          "h": 4,
          "value": 0,
          "w": 25
         },
         {
          "h": 5,
          "value": 12,
          "w": 25
         },
         {
          "h": 6,
          "value": 130,
          "w": 25
         },
         {
          "h": 7,
          "value": 88,
          "w": 25
         },
         {
          "h": 8,
          "value": 196,
          "w": 25
         },
         {
          "h": 9,
          "value": 245,
          "w": 25
         },
         {
          "h": 10,
          "value": 243,
          "w": 25
         },
         {
          "h": 11,
          "value": 197,
          "w": 25
         },
         {
          "h": 12,
          "value": 119,
          "w": 25
         },
         {
          "h": 13,
          "value": 209,
          "w": 25
         },
         {
          "h": 14,
          "value": 255,
          "w": 25
         },
         {
          "h": 15,
          "value": 244,
          "w": 25
         },
         {
          "h": 16,
          "value": 238,
          "w": 25
         },
         {
          "h": 17,
          "value": 232,
          "w": 25
         },
         {
          "h": 18,
          "value": 228,
          "w": 25
         },
         {
          "h": 19,
          "value": 224,
          "w": 25
         },
         {
          "h": 20,
          "value": 221,
          "w": 25
         },
         {
          "h": 21,
          "value": 205,
          "w": 25
         },
         {
          "h": 22,
          "value": 177,
          "w": 25
         },
         {
          "h": 23,
          "value": 216,
          "w": 25
         },
         {
          "h": 24,
          "value": 58,
          "w": 25
         },
         {
          "h": 25,
          "value": 0,
          "w": 25
         },
         {
          "h": 26,
          "value": 0,
          "w": 25
         },
         {
          "h": 27,
          "value": 0,
          "w": 25
         },
         {
          "h": 0,
          "value": 0,
          "w": 26
         },
         {
          "h": 1,
          "value": 0,
          "w": 26
         },
         {
          "h": 2,
          "value": 0,
          "w": 26
         },
         {
          "h": 3,
          "value": 1,
          "w": 26
         },
         {
          "h": 4,
          "value": 0,
          "w": 26
         },
         {
          "h": 5,
          "value": 10,
          "w": 26
         },
         {
          "h": 6,
          "value": 72,
          "w": 26
         },
         {
          "h": 7,
          "value": 172,
          "w": 26
         },
         {
          "h": 8,
          "value": 229,
          "w": 26
         },
         {
          "h": 9,
          "value": 173,
          "w": 26
         },
         {
          "h": 10,
          "value": 202,
          "w": 26
         },
         {
          "h": 11,
          "value": 209,
          "w": 26
         },
         {
          "h": 12,
          "value": 167,
          "w": 26
         },
         {
          "h": 13,
          "value": 92,
          "w": 26
         },
         {
          "h": 14,
          "value": 77,
          "w": 26
         },
         {
          "h": 15,
          "value": 159,
          "w": 26
         },
         {
          "h": 16,
          "value": 215,
          "w": 26
         },
         {
          "h": 17,
          "value": 246,
          "w": 26
         },
         {
          "h": 18,
          "value": 225,
          "w": 26
         },
         {
          "h": 19,
          "value": 229,
          "w": 26
         },
         {
          "h": 20,
          "value": 230,
          "w": 26
         },
         {
          "h": 21,
          "value": 206,
          "w": 26
         },
         {
          "h": 22,
          "value": 210,
          "w": 26
         },
         {
          "h": 23,
          "value": 170,
          "w": 26
         },
         {
          "h": 24,
          "value": 0,
          "w": 26
         },
         {
          "h": 25,
          "value": 0,
          "w": 26
         },
         {
          "h": 26,
          "value": 0,
          "w": 26
         },
         {
          "h": 27,
          "value": 0,
          "w": 26
         },
         {
          "h": 0,
          "value": 0,
          "w": 27
         },
         {
          "h": 1,
          "value": 0,
          "w": 27
         },
         {
          "h": 2,
          "value": 0,
          "w": 27
         },
         {
          "h": 3,
          "value": 0,
          "w": 27
         },
         {
          "h": 4,
          "value": 3,
          "w": 27
         },
         {
          "h": 5,
          "value": 0,
          "w": 27
         },
         {
          "h": 6,
          "value": 15,
          "w": 27
         },
         {
          "h": 7,
          "value": 66,
          "w": 27
         },
         {
          "h": 8,
          "value": 0,
          "w": 27
         },
         {
          "h": 9,
          "value": 0,
          "w": 27
         },
         {
          "h": 10,
          "value": 0,
          "w": 27
         },
         {
          "h": 11,
          "value": 52,
          "w": 27
         },
         {
          "h": 12,
          "value": 56,
          "w": 27
         },
         {
          "h": 13,
          "value": 0,
          "w": 27
         },
         {
          "h": 14,
          "value": 0,
          "w": 27
         },
         {
          "h": 15,
          "value": 0,
          "w": 27
         },
         {
          "h": 16,
          "value": 0,
          "w": 27
         },
         {
          "h": 17,
          "value": 0,
          "w": 27
         },
         {
          "h": 18,
          "value": 0,
          "w": 27
         },
         {
          "h": 19,
          "value": 29,
          "w": 27
         },
         {
          "h": 20,
          "value": 67,
          "w": 27
         },
         {
          "h": 21,
          "value": 115,
          "w": 27
         },
         {
          "h": 22,
          "value": 92,
          "w": 27
         },
         {
          "h": 23,
          "value": 0,
          "w": 27
         },
         {
          "h": 24,
          "value": 0,
          "w": 27
         },
         {
          "h": 25,
          "value": 0,
          "w": 27
         },
         {
          "h": 26,
          "value": 0,
          "w": 27
         },
         {
          "h": 27,
          "value": 0,
          "w": 27
         }
        ]
       },
       "encoding": {
        "color": {
         "field": "value",
         "legend": null,
         "scale": {
          "scheme": "greys"
         },
         "sort": "descending",
         "type": "quantitative"
        },
        "tooltip": [
         {
          "field": "value",
          "type": "quantitative"
         }
        ],
        "x": {
         "axis": null,
         "field": "w",
         "type": "nominal"
        },
        "y": {
         "axis": null,
         "field": "h",
         "type": "nominal"
        }
       },
       "height": 350,
       "mark": "rect",
       "title": "",
       "width": 350
      },
      "image/png": "[encoded data removed]",
      "text/plain": [
       "<VegaLite 2 object>\n",
       "\n",
       "If you see this message, it means the renderer has not been properly enabled\n",
       "for the frontend that you are using. For more information, see\n",
       "https://altair-viz.github.io/user_guide/troubleshooting.html\n"
      ]
     },
     "execution_count": 6,
     "metadata": {},
     "output_type": "execute_result"
    }
   ],
   "source": [
    "vis.imshow(x_train[0])"
   ]
  },
  {
   "cell_type": "markdown",
   "metadata": {},
   "source": [
    "#### See an Image from each class"
   ]
  },
  {
   "cell_type": "code",
   "execution_count": 21,
   "metadata": {},
   "outputs": [
    {
     "data": {
      "image/png": "[encoded data removed]",
      "text/plain": [
       "<Figure size 1152x504 with 10 Axes>"
      ]
     },
     "metadata": {},
     "output_type": "display_data"
    }
   ],
   "source": [
    "vis.imshow_unique(x_train, y_train, labels)"
   ]
  },
  {
   "cell_type": "markdown",
   "metadata": {},
   "source": [
    "#### See 500 of the Images"
   ]
  },
  {
   "cell_type": "code",
   "execution_count": 22,
   "metadata": {},
   "outputs": [
    {
     "data": {
      "image/png": "[encoded data removed]",
      "text/plain": [
       "<Figure size 720x720 with 1 Axes>"
      ]
     },
     "metadata": {},
     "output_type": "display_data"
    }
   ],
   "source": [
    "vis.imshow_sprite(x_train[:500])"
   ]
  },
  {
   "cell_type": "markdown",
   "metadata": {},
   "source": [
    "## Multi Layer Perceptron\n",
    "\n",
    "![](img/single_dl.png)\n",
    "\n",
    "Lets learn both the representation and the classifier together now"
   ]
  },
  {
   "cell_type": "markdown",
   "metadata": {},
   "source": [
    "**Step 1: Prepare the images and labels**\n",
    "\n",
    "Convert from 'uint8' to 'float32' and normalise the data to (0,1) "
   ]
  },
  {
   "cell_type": "code",
   "execution_count": 10,
   "metadata": {},
   "outputs": [],
   "source": [
    "x_train = x_train.astype(\"float32\")/255\n",
    "x_test = x_test.astype(\"float32\")/255"
   ]
  },
  {
   "cell_type": "markdown",
   "metadata": {},
   "source": [
    "Flatten the data from (60000, 28, 28) to (60000, 784)"
   ]
  },
  {
   "cell_type": "code",
   "execution_count": 11,
   "metadata": {},
   "outputs": [],
   "source": [
    "x_train_flatten = x_train.reshape(60000, 28 * 28)\n",
    "x_test_flatten = x_test.reshape(10000, 28 * 28)"
   ]
  },
  {
   "cell_type": "markdown",
   "metadata": {},
   "source": [
    "Convert class vectors to binary class matrices"
   ]
  },
  {
   "cell_type": "code",
   "execution_count": 12,
   "metadata": {},
   "outputs": [],
   "source": [
    "from keras.utils import to_categorical\n",
    "y_train_class = to_categorical(y_train, 10)\n",
    "y_test_class = to_categorical(y_test, 10)"
   ]
  },
  {
   "cell_type": "markdown",
   "metadata": {},
   "source": [
    "**Step 2: Craft the feature transfomation and classifier model **"
   ]
  },
  {
   "cell_type": "code",
   "execution_count": 13,
   "metadata": {},
   "outputs": [],
   "source": [
    "from keras import Sequential\n",
    "from keras.layers import Dense, Activation"
   ]
  },
  {
   "cell_type": "code",
   "execution_count": 14,
   "metadata": {},
   "outputs": [],
   "source": [
    "model_mlp = Sequential()\n",
    "model_mlp.add(Dense(100, activation='relu', input_shape=(28 * 28,)))\n",
    "model_mlp.add(Dense(50, activation='relu'))\n",
    "model_mlp.add(Dense(10, activation='softmax'))"
   ]
  },
  {
   "cell_type": "code",
   "execution_count": 15,
   "metadata": {},
   "outputs": [
    {
     "name": "stdout",
     "output_type": "stream",
     "text": [
      "_________________________________________________________________\n",
      "Layer (type)                 Output Shape              Param #   \n",
      "=================================================================\n",
      "dense_1 (Dense)              (None, 100)               78500     \n",
      "_________________________________________________________________\n",
      "dense_2 (Dense)              (None, 50)                5050      \n",
      "_________________________________________________________________\n",
      "dense_3 (Dense)              (None, 10)                510       \n",
      "=================================================================\n",
      "Total params: 84,060\n",
      "Trainable params: 84,060\n",
      "Non-trainable params: 0\n",
      "_________________________________________________________________\n"
     ]
    }
   ],
   "source": [
    "model_mlp.summary()"
   ]
  },
  {
   "cell_type": "markdown",
   "metadata": {},
   "source": [
    "**Step 3: Compile and fit the model**"
   ]
  },
  {
   "cell_type": "code",
   "execution_count": 16,
   "metadata": {},
   "outputs": [],
   "source": [
    "model_mlp.compile(loss='categorical_crossentropy', optimizer=\"sgd\", metrics=['accuracy'])"
   ]
  },
  {
   "cell_type": "code",
   "execution_count": 17,
   "metadata": {},
   "outputs": [
    {
     "name": "stdout",
     "output_type": "stream",
     "text": [
      "CPU times: user 1min, sys: 3.8 s, total: 1min 3s\n",
      "Wall time: 1min 5s\n"
     ]
    }
   ],
   "source": [
    "%%time \n",
    "mlp_output = model_mlp.fit(x_train_flatten, y_train_class, epochs=10, verbose=0,\n",
    "                    validation_data=(x_test_flatten, y_test_class))"
   ]
  },
  {
   "cell_type": "markdown",
   "metadata": {},
   "source": [
    "**Step 4: Check the performance of the model**"
   ]
  },
  {
   "cell_type": "code",
   "execution_count": 18,
   "metadata": {},
   "outputs": [],
   "source": [
    "mlp_metrics = mlp_output.history"
   ]
  },
  {
   "cell_type": "code",
   "execution_count": 19,
   "metadata": {},
   "outputs": [
    {
     "data": {
      "application/vnd.vegalite.v2+json": {
       "$schema": "https://vega.github.io/schema/vega-lite/v2.4.3.json",
       "config": {
        "view": {
         "height": 300,
         "width": 400
        }
       },
       "data": {
        "values": [
         {
          "batch": 1,
          "metrics": "loss",
          "type": "validation",
          "value": 0.5680454226016999
         },
         {
          "batch": 2,
          "metrics": "loss",
          "type": "validation",
          "value": 0.50938601937294
         },
         {
          "batch": 3,
          "metrics": "loss",
          "type": "validation",
          "value": 0.4645632390022278
         },
         {
          "batch": 4,
          "metrics": "loss",
          "type": "validation",
          "value": 0.441293039560318
         },
         {
          "batch": 5,
          "metrics": "loss",
          "type": "validation",
          "value": 0.42904188899993895
         },
         {
          "batch": 6,
          "metrics": "loss",
          "type": "validation",
          "value": 0.4126730023384094
         },
         {
          "batch": 7,
          "metrics": "loss",
          "type": "validation",
          "value": 0.41267544355392455
         },
         {
          "batch": 8,
          "metrics": "loss",
          "type": "validation",
          "value": 0.4036515701532364
         },
         {
          "batch": 9,
          "metrics": "loss",
          "type": "validation",
          "value": 0.3885256251573563
         },
         {
          "batch": 10,
          "metrics": "loss",
          "type": "validation",
          "value": 0.4111638132810593
         },
         {
          "batch": 1,
          "metrics": "acc",
          "type": "validation",
          "value": 0.7939
         },
         {
          "batch": 2,
          "metrics": "acc",
          "type": "validation",
          "value": 0.8182
         },
         {
          "batch": 3,
          "metrics": "acc",
          "type": "validation",
          "value": 0.8374
         },
         {
          "batch": 4,
          "metrics": "acc",
          "type": "validation",
          "value": 0.844
         },
         {
          "batch": 5,
          "metrics": "acc",
          "type": "validation",
          "value": 0.8479
         },
         {
          "batch": 6,
          "metrics": "acc",
          "type": "validation",
          "value": 0.8536
         },
         {
          "batch": 7,
          "metrics": "acc",
          "type": "validation",
          "value": 0.8531
         },
         {
          "batch": 8,
          "metrics": "acc",
          "type": "validation",
          "value": 0.8569
         },
         {
          "batch": 9,
          "metrics": "acc",
          "type": "validation",
          "value": 0.8623
         },
         {
          "batch": 10,
          "metrics": "acc",
          "type": "validation",
          "value": 0.8524
         },
         {
          "batch": 1,
          "metrics": "loss",
          "type": "training",
          "value": 0.7467214752356212
         },
         {
          "batch": 2,
          "metrics": "loss",
          "type": "training",
          "value": 0.4971347830931346
         },
         {
          "batch": 3,
          "metrics": "loss",
          "type": "training",
          "value": 0.45124373926321665
         },
         {
          "batch": 4,
          "metrics": "loss",
          "type": "training",
          "value": 0.4231752183000247
         },
         {
          "batch": 5,
          "metrics": "loss",
          "type": "training",
          "value": 0.4029538966258367
         },
         {
          "batch": 6,
          "metrics": "loss",
          "type": "training",
          "value": 0.3879619408965111
         },
         {
          "batch": 7,
          "metrics": "loss",
          "type": "training",
          "value": 0.374919732828935
         },
         {
          "batch": 8,
          "metrics": "loss",
          "type": "training",
          "value": 0.3635325500925382
         },
         {
          "batch": 9,
          "metrics": "loss",
          "type": "training",
          "value": 0.35366961925029755
         },
         {
          "batch": 10,
          "metrics": "loss",
          "type": "training",
          "value": 0.3446437654177348
         },
         {
          "batch": 1,
          "metrics": "acc",
          "type": "training",
          "value": 0.75065
         },
         {
          "batch": 2,
          "metrics": "acc",
          "type": "training",
          "value": 0.8271666666666667
         },
         {
          "batch": 3,
          "metrics": "acc",
          "type": "training",
          "value": 0.8431
         },
         {
          "batch": 4,
          "metrics": "acc",
          "type": "training",
          "value": 0.85235
         },
         {
          "batch": 5,
          "metrics": "acc",
          "type": "training",
          "value": 0.8582666666666666
         },
         {
          "batch": 6,
          "metrics": "acc",
          "type": "training",
          "value": 0.8645833333333334
         },
         {
          "batch": 7,
          "metrics": "acc",
          "type": "training",
          "value": 0.86745
         },
         {
          "batch": 8,
          "metrics": "acc",
          "type": "training",
          "value": 0.8719333333333333
         },
         {
          "batch": 9,
          "metrics": "acc",
          "type": "training",
          "value": 0.8742833333333333
         },
         {
          "batch": 10,
          "metrics": "acc",
          "type": "training",
          "value": 0.8767
         }
        ]
       },
       "facet": {
        "column": {
         "field": "metrics",
         "type": "nominal"
        }
       },
       "resolve": {
        "scale": {
         "color": "shared",
         "x": "shared",
         "y": "independent"
        }
       },
       "spec": {
        "layer": [
         {
          "encoding": {
           "color": {
            "field": "type",
            "type": "nominal"
           },
           "tooltip": [
            {
             "field": "batch",
             "type": "quantitative"
            },
            {
             "field": "value",
             "type": "quantitative"
            }
           ],
           "x": {
            "field": "batch",
            "type": "quantitative"
           },
           "y": {
            "field": "value",
            "type": "quantitative"
           }
          },
          "height": 300,
          "mark": {
           "size": 50,
           "type": "circle"
          },
          "width": 300
         },
         {
          "encoding": {
           "color": {
            "field": "type",
            "type": "nominal"
           },
           "x": {
            "field": "batch",
            "type": "quantitative"
           },
           "y": {
            "field": "value",
            "type": "quantitative"
           }
          },
          "height": 300,
          "mark": "line",
          "width": 300
         }
        ]
       }
      },
      "image/png": "[encoded data removed]",
      "text/plain": [
       "<VegaLite 2 object>\n",
       "\n",
       "If you see this message, it means the renderer has not been properly enabled\n",
       "for the frontend that you are using. For more information, see\n",
       "https://altair-viz.github.io/user_guide/troubleshooting.html\n"
      ]
     },
     "execution_count": 19,
     "metadata": {},
     "output_type": "execute_result"
    }
   ],
   "source": [
    "vis.metrics(mlp_metrics)"
   ]
  },
  {
   "cell_type": "code",
   "execution_count": 20,
   "metadata": {},
   "outputs": [
    {
     "name": "stdout",
     "output_type": "stream",
     "text": [
      "10000/10000 [==============================] - 0s 37us/step\n"
     ]
    }
   ],
   "source": [
    "score = model_mlp.evaluate(x_test_flatten, y_test_class, verbose=1)"
   ]
  },
  {
   "cell_type": "code",
   "execution_count": 21,
   "metadata": {},
   "outputs": [
    {
     "name": "stdout",
     "output_type": "stream",
     "text": [
      "Test loss: 0.4111638132810593\n",
      "Test accuracy: 0.8524\n"
     ]
    }
   ],
   "source": [
    "print('Test loss:', score[0])\n",
    "print('Test accuracy:', score[1])"
   ]
  },
  {
   "cell_type": "markdown",
   "metadata": {},
   "source": [
    "**Step 5: Make & Visualise the Prediction**"
   ]
  },
  {
   "cell_type": "code",
   "execution_count": 22,
   "metadata": {},
   "outputs": [],
   "source": [
    "predict_classes = model_mlp.predict_classes(x_test_flatten)"
   ]
  },
  {
   "cell_type": "code",
   "execution_count": 23,
   "metadata": {},
   "outputs": [
    {
     "data": {
      "text/html": [
       "<div>\n",
       "<style scoped>\n",
       "    .dataframe tbody tr th:only-of-type {\n",
       "        vertical-align: middle;\n",
       "    }\n",
       "\n",
       "    .dataframe tbody tr th {\n",
       "        vertical-align: top;\n",
       "    }\n",
       "\n",
       "    .dataframe thead th {\n",
       "        text-align: right;\n",
       "    }\n",
       "</style>\n",
       "<table border=\"1\" class=\"dataframe\">\n",
       "  <thead>\n",
       "    <tr style=\"text-align: right;\">\n",
       "      <th>col_0</th>\n",
       "      <th>0</th>\n",
       "      <th>1</th>\n",
       "      <th>2</th>\n",
       "      <th>3</th>\n",
       "      <th>4</th>\n",
       "      <th>5</th>\n",
       "      <th>6</th>\n",
       "      <th>7</th>\n",
       "      <th>8</th>\n",
       "      <th>9</th>\n",
       "    </tr>\n",
       "    <tr>\n",
       "      <th>row_0</th>\n",
       "      <th></th>\n",
       "      <th></th>\n",
       "      <th></th>\n",
       "      <th></th>\n",
       "      <th></th>\n",
       "      <th></th>\n",
       "      <th></th>\n",
       "      <th></th>\n",
       "      <th></th>\n",
       "      <th></th>\n",
       "    </tr>\n",
       "  </thead>\n",
       "  <tbody>\n",
       "    <tr>\n",
       "      <th>0</th>\n",
       "      <td>872</td>\n",
       "      <td>2</td>\n",
       "      <td>11</td>\n",
       "      <td>39</td>\n",
       "      <td>5</td>\n",
       "      <td>1</td>\n",
       "      <td>58</td>\n",
       "      <td>1</td>\n",
       "      <td>11</td>\n",
       "      <td>0</td>\n",
       "    </tr>\n",
       "    <tr>\n",
       "      <th>1</th>\n",
       "      <td>3</td>\n",
       "      <td>965</td>\n",
       "      <td>1</td>\n",
       "      <td>23</td>\n",
       "      <td>5</td>\n",
       "      <td>0</td>\n",
       "      <td>2</td>\n",
       "      <td>0</td>\n",
       "      <td>1</td>\n",
       "      <td>0</td>\n",
       "    </tr>\n",
       "    <tr>\n",
       "      <th>2</th>\n",
       "      <td>26</td>\n",
       "      <td>1</td>\n",
       "      <td>645</td>\n",
       "      <td>15</td>\n",
       "      <td>250</td>\n",
       "      <td>0</td>\n",
       "      <td>60</td>\n",
       "      <td>0</td>\n",
       "      <td>3</td>\n",
       "      <td>0</td>\n",
       "    </tr>\n",
       "    <tr>\n",
       "      <th>3</th>\n",
       "      <td>36</td>\n",
       "      <td>12</td>\n",
       "      <td>5</td>\n",
       "      <td>879</td>\n",
       "      <td>37</td>\n",
       "      <td>0</td>\n",
       "      <td>28</td>\n",
       "      <td>0</td>\n",
       "      <td>3</td>\n",
       "      <td>0</td>\n",
       "    </tr>\n",
       "    <tr>\n",
       "      <th>4</th>\n",
       "      <td>0</td>\n",
       "      <td>0</td>\n",
       "      <td>43</td>\n",
       "      <td>34</td>\n",
       "      <td>890</td>\n",
       "      <td>0</td>\n",
       "      <td>30</td>\n",
       "      <td>0</td>\n",
       "      <td>3</td>\n",
       "      <td>0</td>\n",
       "    </tr>\n",
       "    <tr>\n",
       "      <th>5</th>\n",
       "      <td>0</td>\n",
       "      <td>0</td>\n",
       "      <td>0</td>\n",
       "      <td>1</td>\n",
       "      <td>0</td>\n",
       "      <td>931</td>\n",
       "      <td>0</td>\n",
       "      <td>51</td>\n",
       "      <td>3</td>\n",
       "      <td>14</td>\n",
       "    </tr>\n",
       "    <tr>\n",
       "      <th>6</th>\n",
       "      <td>183</td>\n",
       "      <td>2</td>\n",
       "      <td>82</td>\n",
       "      <td>40</td>\n",
       "      <td>180</td>\n",
       "      <td>1</td>\n",
       "      <td>497</td>\n",
       "      <td>0</td>\n",
       "      <td>15</td>\n",
       "      <td>0</td>\n",
       "    </tr>\n",
       "    <tr>\n",
       "      <th>7</th>\n",
       "      <td>0</td>\n",
       "      <td>0</td>\n",
       "      <td>0</td>\n",
       "      <td>0</td>\n",
       "      <td>0</td>\n",
       "      <td>17</td>\n",
       "      <td>0</td>\n",
       "      <td>968</td>\n",
       "      <td>0</td>\n",
       "      <td>15</td>\n",
       "    </tr>\n",
       "    <tr>\n",
       "      <th>8</th>\n",
       "      <td>8</td>\n",
       "      <td>1</td>\n",
       "      <td>4</td>\n",
       "      <td>9</td>\n",
       "      <td>11</td>\n",
       "      <td>1</td>\n",
       "      <td>5</td>\n",
       "      <td>7</td>\n",
       "      <td>954</td>\n",
       "      <td>0</td>\n",
       "    </tr>\n",
       "    <tr>\n",
       "      <th>9</th>\n",
       "      <td>0</td>\n",
       "      <td>0</td>\n",
       "      <td>0</td>\n",
       "      <td>0</td>\n",
       "      <td>0</td>\n",
       "      <td>5</td>\n",
       "      <td>0</td>\n",
       "      <td>71</td>\n",
       "      <td>1</td>\n",
       "      <td>923</td>\n",
       "    </tr>\n",
       "  </tbody>\n",
       "</table>\n",
       "</div>"
      ],
      "text/plain": [
       "col_0    0    1    2    3    4    5    6    7    8    9\n",
       "row_0                                                  \n",
       "0      872    2   11   39    5    1   58    1   11    0\n",
       "1        3  965    1   23    5    0    2    0    1    0\n",
       "2       26    1  645   15  250    0   60    0    3    0\n",
       "3       36   12    5  879   37    0   28    0    3    0\n",
       "4        0    0   43   34  890    0   30    0    3    0\n",
       "5        0    0    0    1    0  931    0   51    3   14\n",
       "6      183    2   82   40  180    1  497    0   15    0\n",
       "7        0    0    0    0    0   17    0  968    0   15\n",
       "8        8    1    4    9   11    1    5    7  954    0\n",
       "9        0    0    0    0    0    5    0   71    1  923"
      ]
     },
     "execution_count": 23,
     "metadata": {},
     "output_type": "execute_result"
    }
   ],
   "source": [
    "pd.crosstab(y_test, predict_classes)"
   ]
  },
  {
   "cell_type": "code",
   "execution_count": 24,
   "metadata": {},
   "outputs": [],
   "source": [
    "proba = model_mlp.predict_proba(x_test_flatten)"
   ]
  },
  {
   "cell_type": "code",
   "execution_count": 25,
   "metadata": {},
   "outputs": [],
   "source": [
    "i = 4"
   ]
  },
  {
   "cell_type": "code",
   "execution_count": 26,
   "metadata": {},
   "outputs": [
    {
     "data": {
      "application/vnd.vegalite.v2+json": {
       "$schema": "https://vega.github.io/schema/vega-lite/v2.4.3.json",
       "config": {
        "view": {
         "height": 300,
         "width": 400
        }
       },
       "hconcat": [
        {
         "data": {
          "values": [
           {
            "h": 0,
            "value": 0,
            "w": 0
           },
           {
            "h": 1,
            "value": 0,
            "w": 0
           },
           {
            "h": 2,
            "value": 0,
            "w": 0
           },
           {
            "h": 3,
            "value": 0,
            "w": 0
           },
           {
            "h": 4,
            "value": 0,
            "w": 0
           },
           {
            "h": 5,
            "value": 0,
            "w": 0
           },
           {
            "h": 6,
            "value": 0,
            "w": 0
           },
           {
            "h": 7,
            "value": 0,
            "w": 0
           },
           {
            "h": 8,
            "value": 0,
            "w": 0
           },
           {
            "h": 9,
            "value": 0,
            "w": 0
           },
           {
            "h": 10,
            "value": 0,
            "w": 0
           },
           {
            "h": 11,
            "value": 0,
            "w": 0
           },
           {
            "h": 12,
            "value": 0,
            "w": 0
           },
           {
            "h": 13,
            "value": 0,
            "w": 0
           },
           {
            "h": 14,
            "value": 0,
            "w": 0
           },
           {
            "h": 15,
            "value": 0,
            "w": 0
           },
           {
            "h": 16,
            "value": 0,
            "w": 0
           },
           {
            "h": 17,
            "value": 0,
            "w": 0
           },
           {
            "h": 18,
            "value": 0,
            "w": 0
           },
           {
            "h": 19,
            "value": 0,
            "w": 0
           },
           {
            "h": 20,
            "value": 0,
            "w": 0
           },
           {
            "h": 21,
            "value": 0,
            "w": 0
           },
           {
            "h": 22,
            "value": 0,
            "w": 0
           },
           {
            "h": 23,
            "value": 0,
            "w": 0
           },
           {
            "h": 24,
            "value": 0,
            "w": 0
           },
           {
            "h": 25,
            "value": 0,
            "w": 0
           },
           {
            "h": 26,
            "value": 0,
            "w": 0
           },
           {
            "h": 27,
            "value": 0,
            "w": 0
           },
           {
            "h": 0,
            "value": 0,
            "w": 1
           },
           {
            "h": 1,
            "value": 0,
            "w": 1
           },
           {
            "h": 2,
            "value": 0,
            "w": 1
           },
           {
            "h": 3,
            "value": 0,
            "w": 1
           },
           {
            "h": 4,
            "value": 0,
            "w": 1
           },
           {
            "h": 5,
            "value": 0,
            "w": 1
           },
           {
            "h": 6,
            "value": 0,
            "w": 1
           },
           {
            "h": 7,
            "value": 0,
            "w": 1
           },
           {
            "h": 8,
            "value": 0,
            "w": 1
           },
           {
            "h": 9,
            "value": 0,
            "w": 1
           },
           {
            "h": 10,
            "value": 0,
            "w": 1
           },
           {
            "h": 11,
            "value": 0,
            "w": 1
           },
           {
            "h": 12,
            "value": 0,
            "w": 1
           },
           {
            "h": 13,
            "value": 0,
            "w": 1
           },
           {
            "h": 14,
            "value": 0,
            "w": 1
           },
           {
            "h": 15,
            "value": 0,
            "w": 1
           },
           {
            "h": 16,
            "value": 0,
            "w": 1
           },
           {
            "h": 17,
            "value": 0,
            "w": 1
           },
           {
            "h": 18,
            "value": 0,
            "w": 1
           },
           {
            "h": 19,
            "value": 0,
            "w": 1
           },
           {
            "h": 20,
            "value": 0,
            "w": 1
           },
           {
            "h": 21,
            "value": 0,
            "w": 1
           },
           {
            "h": 22,
            "value": 0,
            "w": 1
           },
           {
            "h": 23,
            "value": 0,
            "w": 1
           },
           {
            "h": 24,
            "value": 0,
            "w": 1
           },
           {
            "h": 25,
            "value": 0,
            "w": 1
           },
           {
            "h": 26,
            "value": 0,
            "w": 1
           },
           {
            "h": 27,
            "value": 0,
            "w": 1
           },
           {
            "h": 0,
            "value": 0,
            "w": 2
           },
           {
            "h": 1,
            "value": 0,
            "w": 2
           },
           {
            "h": 2,
            "value": 0,
            "w": 2
           },
           {
            "h": 3,
            "value": 0,
            "w": 2
           },
           {
            "h": 4,
            "value": 0,
            "w": 2
           },
           {
            "h": 5,
            "value": 0,
            "w": 2
           },
           {
            "h": 6,
            "value": 0,
            "w": 2
           },
           {
            "h": 7,
            "value": 0,
            "w": 2
           },
           {
            "h": 8,
            "value": 0,
            "w": 2
           },
           {
            "h": 9,
            "value": 0,
            "w": 2
           },
           {
            "h": 10,
            "value": 0,
            "w": 2
           },
           {
            "h": 11,
            "value": 0,
            "w": 2
           },
           {
            "h": 12,
            "value": 0,
            "w": 2
           },
           {
            "h": 13,
            "value": 0,
            "w": 2
           },
           {
            "h": 14,
            "value": 0,
            "w": 2
           },
           {
            "h": 15,
            "value": 0,
            "w": 2
           },
           {
            "h": 16,
            "value": 0,
            "w": 2
           },
           {
            "h": 17,
            "value": 0,
            "w": 2
           },
           {
            "h": 18,
            "value": 0,
            "w": 2
           },
           {
            "h": 19,
            "value": 0,
            "w": 2
           },
           {
            "h": 20,
            "value": 0,
            "w": 2
           },
           {
            "h": 21,
            "value": 0,
            "w": 2
           },
           {
            "h": 22,
            "value": 0,
            "w": 2
           },
           {
            "h": 23,
            "value": 0,
            "w": 2
           },
           {
            "h": 24,
            "value": 0,
            "w": 2
           },
           {
            "h": 25,
            "value": 0,
            "w": 2
           },
           {
            "h": 26,
            "value": 0,
            "w": 2
           },
           {
            "h": 27,
            "value": 0,
            "w": 2
           },
           {
            "h": 0,
            "value": 0.007843137718737125,
            "w": 3
           },
           {
            "h": 1,
            "value": 0.003921568859368563,
            "w": 3
           },
           {
            "h": 2,
            "value": 0,
            "w": 3
           },
           {
            "h": 3,
            "value": 0.003921568859368563,
            "w": 3
           },
           {
            "h": 4,
            "value": 0.007843137718737125,
            "w": 3
           },
           {
            "h": 5,
            "value": 0,
            "w": 3
           },
           {
            "h": 6,
            "value": 0,
            "w": 3
           },
           {
            "h": 7,
            "value": 0,
            "w": 3
           },
           {
            "h": 8,
            "value": 0,
            "w": 3
           },
           {
            "h": 9,
            "value": 0,
            "w": 3
           },
           {
            "h": 10,
            "value": 0,
            "w": 3
           },
           {
            "h": 11,
            "value": 0,
            "w": 3
           },
           {
            "h": 12,
            "value": 0,
            "w": 3
           },
           {
            "h": 13,
            "value": 0,
            "w": 3
           },
           {
            "h": 14,
            "value": 0.01568627543747425,
            "w": 3
           },
           {
            "h": 15,
            "value": 0.0941176488995552,
            "w": 3
           },
           {
            "h": 16,
            "value": 0.1568627506494522,
            "w": 3
           },
           {
            "h": 17,
            "value": 0.15294118225574493,
            "w": 3
           },
           {
            "h": 18,
            "value": 0.22745098173618317,
            "w": 3
           },
           {
            "h": 19,
            "value": 0.42352941632270813,
            "w": 3
           },
           {
            "h": 20,
            "value": 0.3803921639919281,
            "w": 3
           },
           {
            "h": 21,
            "value": 0,
            "w": 3
           },
           {
            "h": 22,
            "value": 0,
            "w": 3
           },
           {
            "h": 23,
            "value": 0,
            "w": 3
           },
           {
            "h": 24,
            "value": 0,
            "w": 3
           },
           {
            "h": 25,
            "value": 0,
            "w": 3
           },
           {
            "h": 26,
            "value": 0,
            "w": 3
           },
           {
            "h": 27,
            "value": 0,
            "w": 3
           },
           {
            "h": 0,
            "value": 0,
            "w": 4
           },
           {
            "h": 1,
            "value": 0.003921568859368563,
            "w": 4
           },
           {
            "h": 2,
            "value": 0.003921568859368563,
            "w": 4
           },
           {
            "h": 3,
            "value": 0,
            "w": 4
           },
           {
            "h": 4,
            "value": 0,
            "w": 4
           },
           {
            "h": 5,
            "value": 0,
            "w": 4
           },
           {
            "h": 6,
            "value": 0,
            "w": 4
           },
           {
            "h": 7,
            "value": 0,
            "w": 4
           },
           {
            "h": 8,
            "value": 0.09019608050584793,
            "w": 4
           },
           {
            "h": 9,
            "value": 0.2235294133424759,
            "w": 4
           },
           {
            "h": 10,
            "value": 0.33725491166114807,
            "w": 4
           },
           {
            "h": 11,
            "value": 0.43921568989753723,
            "w": 4
           },
           {
            "h": 12,
            "value": 0.48627451062202454,
            "w": 4
           },
           {
            "h": 13,
            "value": 0.5137255191802979,
            "w": 4
           },
           {
            "h": 14,
            "value": 0.5333333611488342,
            "w": 4
           },
           {
            "h": 15,
            "value": 0.5372549295425415,
            "w": 4
           },
           {
            "h": 16,
            "value": 0.5529412031173706,
            "w": 4
           },
           {
            "h": 17,
            "value": 0.5058823823928833,
            "w": 4
           },
           {
            "h": 18,
            "value": 0.4941176474094391,
            "w": 4
           },
           {
            "h": 19,
            "value": 0.5254902243614197,
            "w": 4
           },
           {
            "h": 20,
            "value": 0.5568627715110779,
            "w": 4
           },
           {
            "h": 21,
            "value": 0,
            "w": 4
           },
           {
            "h": 22,
            "value": 0,
            "w": 4
           },
           {
            "h": 23,
            "value": 0.003921568859368563,
            "w": 4
           },
           {
            "h": 24,
            "value": 0,
            "w": 4
           },
           {
            "h": 25,
            "value": 0,
            "w": 4
           },
           {
            "h": 26,
            "value": 0,
            "w": 4
           },
           {
            "h": 27,
            "value": 0,
            "w": 4
           },
           {
            "h": 0,
            "value": 0.003921568859368563,
            "w": 5
           },
           {
            "h": 1,
            "value": 0.003921568859368563,
            "w": 5
           },
           {
            "h": 2,
            "value": 0,
            "w": 5
           },
           {
            "h": 3,
            "value": 0,
            "w": 5
           },
           {
            "h": 4,
            "value": 0.11372549086809158,
            "w": 5
           },
           {
            "h": 5,
            "value": 0.2549019753932953,
            "w": 5
           },
           {
            "h": 6,
            "value": 0.42352941632270813,
            "w": 5
           },
           {
            "h": 7,
            "value": 0.529411792755127,
            "w": 5
           },
           {
            "h": 8,
            "value": 0.529411792755127,
            "w": 5
           },
           {
            "h": 9,
            "value": 0.48627451062202454,
            "w": 5
           },
           {
            "h": 10,
            "value": 0.45490196347236633,
            "w": 5
           },
           {
            "h": 11,
            "value": 0.4470588266849518,
            "w": 5
           },
           {
            "h": 12,
            "value": 0.4627451002597809,
            "w": 5
           },
           {
            "h": 13,
            "value": 0.45098039507865906,
            "w": 5
           },
           {
            "h": 14,
            "value": 0.4627451002597809,
            "w": 5
           },
           {
            "h": 15,
            "value": 0.4588235318660736,
            "w": 5
           },
           {
            "h": 16,
            "value": 0.4274509847164154,
            "w": 5
           },
           {
            "h": 17,
            "value": 0.4000000059604645,
            "w": 5
           },
           {
            "h": 18,
            "value": 0.43529412150382996,
            "w": 5
           },
           {
            "h": 19,
            "value": 0.5254902243614197,
            "w": 5
           },
           {
            "h": 20,
            "value": 0.6627451181411743,
            "w": 5
           },
           {
            "h": 21,
            "value": 0.0470588244497776,
            "w": 5
           },
           {
            "h": 22,
            "value": 0,
            "w": 5
           },
           {
            "h": 23,
            "value": 0.0117647061124444,
            "w": 5
           },
           {
            "h": 24,
            "value": 0,
            "w": 5
           },
           {
            "h": 25,
            "value": 0.0117647061124444,
            "w": 5
           },
           {
            "h": 26,
            "value": 0.007843137718737125,
            "w": 5
           },
           {
            "h": 27,
            "value": 0,
            "w": 5
           },
           {
            "h": 0,
            "value": 0.003921568859368563,
            "w": 6
           },
           {
            "h": 1,
            "value": 0,
            "w": 6
           },
           {
            "h": 2,
            "value": 0,
            "w": 6
           },
           {
            "h": 3,
            "value": 0.4156862795352936,
            "w": 6
           },
           {
            "h": 4,
            "value": 0.5254902243614197,
            "w": 6
           },
           {
            "h": 5,
            "value": 0.5137255191802979,
            "w": 6
           },
           {
            "h": 6,
            "value": 0.48235294222831726,
            "w": 6
           },
           {
            "h": 7,
            "value": 0.47843137383461,
            "w": 6
           },
           {
            "h": 8,
            "value": 0.5176470875740051,
            "w": 6
           },
           {
            "h": 9,
            "value": 0.5137255191802979,
            "w": 6
           },
           {
            "h": 10,
            "value": 0.4941176474094391,
            "w": 6
           },
           {
            "h": 11,
            "value": 0.43921568989753723,
            "w": 6
           },
           {
            "h": 12,
            "value": 0.3960784375667572,
            "w": 6
           },
           {
            "h": 13,
            "value": 0.3803921639919281,
            "w": 6
           },
           {
            "h": 14,
            "value": 0.3843137323856354,
            "w": 6
           },
           {
            "h": 15,
            "value": 0.3960784375667572,
            "w": 6
           },
           {
            "h": 16,
            "value": 0.4588235318660736,
            "w": 6
           },
           {
            "h": 17,
            "value": 0.5764706134796143,
            "w": 6
           },
           {
            "h": 18,
            "value": 0.6352941393852234,
            "w": 6
           },
           {
            "h": 19,
            "value": 0.7254902124404907,
            "w": 6
           },
           {
            "h": 20,
            "value": 0.7764706015586853,
            "w": 6
           },
           {
            "h": 21,
            "value": 0.18039216101169586,
            "w": 6
           },
           {
            "h": 22,
            "value": 0,
            "w": 6
           },
           {
            "h": 23,
            "value": 0,
            "w": 6
           },
           {
            "h": 24,
            "value": 0,
            "w": 6
           },
           {
            "h": 25,
            "value": 0,
            "w": 6
           },
           {
            "h": 26,
            "value": 0,
            "w": 6
           },
           {
            "h": 27,
            "value": 0,
            "w": 6
           },
           {
            "h": 0,
            "value": 0,
            "w": 7
           },
           {
            "h": 1,
            "value": 0,
            "w": 7
           },
           {
            "h": 2,
            "value": 0.4000000059604645,
            "w": 7
           },
           {
            "h": 3,
            "value": 0.48627451062202454,
            "w": 7
           },
           {
            "h": 4,
            "value": 0.3960784375667572,
            "w": 7
           },
           {
            "h": 5,
            "value": 0.4117647111415863,
            "w": 7
           },
           {
            "h": 6,
            "value": 0.43921568989753723,
            "w": 7
           },
           {
            "h": 7,
            "value": 0.46666666865348816,
            "w": 7
           },
           {
            "h": 8,
            "value": 0.5843137502670288,
            "w": 7
           },
           {
            "h": 9,
            "value": 0.6274510025978088,
            "w": 7
           },
           {
            "h": 10,
            "value": 0.6274510025978088,
            "w": 7
           },
           {
            "h": 11,
            "value": 0.6549019813537598,
            "w": 7
           },
           {
            "h": 12,
            "value": 0.772549033164978,
            "w": 7
           },
           {
            "h": 13,
            "value": 0.7764706015586853,
            "w": 7
           },
           {
            "h": 14,
            "value": 0.7568627595901489,
            "w": 7
           },
           {
            "h": 15,
            "value": 0.7333333492279053,
            "w": 7
           },
           {
            "h": 16,
            "value": 0.6196078658103943,
            "w": 7
           },
           {
            "h": 17,
            "value": 0.46666666865348816,
            "w": 7
           },
           {
            "h": 18,
            "value": 0.3960784375667572,
            "w": 7
           },
           {
            "h": 19,
            "value": 0.3294117748737335,
            "w": 7
           },
           {
            "h": 20,
            "value": 0.14509804546833038,
            "w": 7
           },
           {
            "h": 21,
            "value": 0.007843137718737125,
            "w": 7
           },
           {
            "h": 22,
            "value": 0.05098039284348488,
            "w": 7
           },
           {
            "h": 23,
            "value": 0.2862745225429535,
            "w": 7
           },
           {
            "h": 24,
            "value": 0.43921568989753723,
            "w": 7
           },
           {
            "h": 25,
            "value": 0.5568627715110779,
            "w": 7
           },
           {
            "h": 26,
            "value": 0.03529411926865578,
            "w": 7
           },
           {
            "h": 27,
            "value": 0,
            "w": 7
           },
           {
            "h": 0,
            "value": 0,
            "w": 8
           },
           {
            "h": 1,
            "value": 0.05098039284348488,
            "w": 8
           },
           {
            "h": 2,
            "value": 0.545098066329956,
            "w": 8
           },
           {
            "h": 3,
            "value": 0.42352941632270813,
            "w": 8
           },
           {
            "h": 4,
            "value": 0.4431372582912445,
            "w": 8
           },
           {
            "h": 5,
            "value": 0.3960784375667572,
            "w": 8
           },
           {
            "h": 6,
            "value": 0.4156862795352936,
            "w": 8
           },
           {
            "h": 7,
            "value": 0.43921568989753723,
            "w": 8
           },
           {
            "h": 8,
            "value": 0.40784314274787903,
            "w": 8
           },
           {
            "h": 9,
            "value": 0.40392157435417175,
            "w": 8
           },
           {
            "h": 10,
            "value": 0.5176470875740051,
            "w": 8
           },
           {
            "h": 11,
            "value": 0.572549045085907,
            "w": 8
           },
           {
            "h": 12,
            "value": 0.3490196168422699,
            "w": 8
           },
           {
            "h": 13,
            "value": 0.18431372940540314,
            "w": 8
           },
           {
            "h": 14,
            "value": 0.08235294371843338,
            "w": 8
           },
           {
            "h": 15,
            "value": 0.09803921729326248,
            "w": 8
           },
           {
            "h": 16,
            "value": 0.0470588244497776,
            "w": 8
           },
           {
            "h": 17,
            "value": 0,
            "w": 8
           },
           {
            "h": 18,
            "value": 0.08235294371843338,
            "w": 8
           },
           {
            "h": 19,
            "value": 0.2862745225429535,
            "w": 8
           },
           {
            "h": 20,
            "value": 0.3294117748737335,
            "w": 8
           },
           {
            "h": 21,
            "value": 0.46666666865348816,
            "w": 8
           },
           {
            "h": 22,
            "value": 0.5372549295425415,
            "w": 8
           },
           {
            "h": 23,
            "value": 0.5176470875740051,
            "w": 8
           },
           {
            "h": 24,
            "value": 0.4627451002597809,
            "w": 8
           },
           {
            "h": 25,
            "value": 0.5803921818733215,
            "w": 8
           },
           {
            "h": 26,
            "value": 0.4941176474094391,
            "w": 8
           },
           {
            "h": 27,
            "value": 0,
            "w": 8
           },
           {
            "h": 0,
            "value": 0,
            "w": 9
           },
           {
            "h": 1,
            "value": 0.30980393290519714,
            "w": 9
           },
           {
            "h": 2,
            "value": 0.5568627715110779,
            "w": 9
           },
           {
            "h": 3,
            "value": 0.40392157435417175,
            "w": 9
           },
           {
            "h": 4,
            "value": 0.42352941632270813,
            "w": 9
           },
           {
            "h": 5,
            "value": 0.42352941632270813,
            "w": 9
           },
           {
            "h": 6,
            "value": 0.3843137323856354,
            "w": 9
           },
           {
            "h": 7,
            "value": 0.32549020648002625,
            "w": 9
           },
           {
            "h": 8,
            "value": 0.30588236451148987,
            "w": 9
           },
           {
            "h": 9,
            "value": 0.3764705955982208,
            "w": 9
           },
           {
            "h": 10,
            "value": 0.4000000059604645,
            "w": 9
           },
           {
            "h": 11,
            "value": 0.3921568691730499,
            "w": 9
           },
           {
            "h": 12,
            "value": 0.3960784375667572,
            "w": 9
           },
           {
            "h": 13,
            "value": 0.42352941632270813,
            "w": 9
           },
           {
            "h": 14,
            "value": 0.4274509847164154,
            "w": 9
           },
           {
            "h": 15,
            "value": 0.4431372582912445,
            "w": 9
           },
           {
            "h": 16,
            "value": 0.48627451062202454,
            "w": 9
           },
           {
            "h": 17,
            "value": 0.47058823704719543,
            "w": 9
           },
           {
            "h": 18,
            "value": 0.5176470875740051,
            "w": 9
           },
           {
            "h": 19,
            "value": 0.48235294222831726,
            "w": 9
           },
           {
            "h": 20,
            "value": 0.41960784792900085,
            "w": 9
           },
           {
            "h": 21,
            "value": 0.4000000059604645,
            "w": 9
           },
           {
            "h": 22,
            "value": 0.3960784375667572,
            "w": 9
           },
           {
            "h": 23,
            "value": 0.3960784375667572,
            "w": 9
           },
           {
            "h": 24,
            "value": 0.41960784792900085,
            "w": 9
           },
           {
            "h": 25,
            "value": 0.43921568989753723,
            "w": 9
           },
           {
            "h": 26,
            "value": 0.7215686440467834,
            "w": 9
           },
           {
            "h": 27,
            "value": 0,
            "w": 9
           },
           {
            "h": 0,
            "value": 0,
            "w": 10
           },
           {
            "h": 1,
            "value": 0.501960813999176,
            "w": 10
           },
           {
            "h": 2,
            "value": 0.40392157435417175,
            "w": 10
           },
           {
            "h": 3,
            "value": 0.4156862795352936,
            "w": 10
           },
           {
            "h": 4,
            "value": 0.3803921639919281,
            "w": 10
           },
           {
            "h": 5,
            "value": 0.3921568691730499,
            "w": 10
           },
           {
            "h": 6,
            "value": 0.3921568691730499,
            "w": 10
           },
           {
            "h": 7,
            "value": 0.364705890417099,
            "w": 10
           },
           {
            "h": 8,
            "value": 0.3764705955982208,
            "w": 10
           },
           {
            "h": 9,
            "value": 0.3960784375667572,
            "w": 10
           },
           {
            "h": 10,
            "value": 0.3764705955982208,
            "w": 10
           },
           {
            "h": 11,
            "value": 0.3921568691730499,
            "w": 10
           },
           {
            "h": 12,
            "value": 0.3921568691730499,
            "w": 10
           },
           {
            "h": 13,
            "value": 0.3764705955982208,
            "w": 10
           },
           {
            "h": 14,
            "value": 0.3764705955982208,
            "w": 10
           },
           {
            "h": 15,
            "value": 0.3607843220233917,
            "w": 10
           },
           {
            "h": 16,
            "value": 0.3529411852359772,
            "w": 10
           },
           {
            "h": 17,
            "value": 0.3529411852359772,
            "w": 10
           },
           {
            "h": 18,
            "value": 0.3490196168422699,
            "w": 10
           },
           {
            "h": 19,
            "value": 0.34117648005485535,
            "w": 10
           },
           {
            "h": 20,
            "value": 0.3803921639919281,
            "w": 10
           },
           {
            "h": 21,
            "value": 0.4274509847164154,
            "w": 10
           },
           {
            "h": 22,
            "value": 0.4470588266849518,
            "w": 10
           },
           {
            "h": 23,
            "value": 0.40784314274787903,
            "w": 10
           },
           {
            "h": 24,
            "value": 0.40784314274787903,
            "w": 10
           },
           {
            "h": 25,
            "value": 0.4117647111415863,
            "w": 10
           },
           {
            "h": 26,
            "value": 0.7843137383460999,
            "w": 10
           },
           {
            "h": 27,
            "value": 0.11764705926179886,
            "w": 10
           },
           {
            "h": 0,
            "value": 0.2235294133424759,
            "w": 11
           },
           {
            "h": 1,
            "value": 0.7882353067398071,
            "w": 11
           },
           {
            "h": 2,
            "value": 0.45098039507865906,
            "w": 11
           },
           {
            "h": 3,
            "value": 0.364705890417099,
            "w": 11
           },
           {
            "h": 4,
            "value": 0.45490196347236633,
            "w": 11
           },
           {
            "h": 5,
            "value": 0.40784314274787903,
            "w": 11
           },
           {
            "h": 6,
            "value": 0.3960784375667572,
            "w": 11
           },
           {
            "h": 7,
            "value": 0.3803921639919281,
            "w": 11
           },
           {
            "h": 8,
            "value": 0.3803921639919281,
            "w": 11
           },
           {
            "h": 9,
            "value": 0.4274509847164154,
            "w": 11
           },
           {
            "h": 10,
            "value": 0.40784314274787903,
            "w": 11
           },
           {
            "h": 11,
            "value": 0.3960784375667572,
            "w": 11
           },
           {
            "h": 12,
            "value": 0.3764705955982208,
            "w": 11
           },
           {
            "h": 13,
            "value": 0.3764705955982208,
            "w": 11
           },
           {
            "h": 14,
            "value": 0.4156862795352936,
            "w": 11
           },
           {
            "h": 15,
            "value": 0.43921568989753723,
            "w": 11
           },
           {
            "h": 16,
            "value": 0.45490196347236633,
            "w": 11
           },
           {
            "h": 17,
            "value": 0.46666666865348816,
            "w": 11
           },
           {
            "h": 18,
            "value": 0.48235294222831726,
            "w": 11
           },
           {
            "h": 19,
            "value": 0.47843137383461,
            "w": 11
           },
           {
            "h": 20,
            "value": 0.47843137383461,
            "w": 11
           },
           {
            "h": 21,
            "value": 0.48235294222831726,
            "w": 11
           },
           {
            "h": 22,
            "value": 0.3921568691730499,
            "w": 11
           },
           {
            "h": 23,
            "value": 0.4000000059604645,
            "w": 11
           },
           {
            "h": 24,
            "value": 0.545098066329956,
            "w": 11
           },
           {
            "h": 25,
            "value": 0.3960784375667572,
            "w": 11
           },
           {
            "h": 26,
            "value": 0.6549019813537598,
            "w": 11
           },
           {
            "h": 27,
            "value": 0.2823529541492462,
            "w": 11
           },
           {
            "h": 0,
            "value": 0.26274511218070984,
            "w": 12
           },
           {
            "h": 1,
            "value": 0.6352941393852234,
            "w": 12
           },
           {
            "h": 2,
            "value": 0.6352941393852234,
            "w": 12
           },
           {
            "h": 3,
            "value": 0.3921568691730499,
            "w": 12
           },
           {
            "h": 4,
            "value": 0.3176470696926117,
            "w": 12
           },
           {
            "h": 5,
            "value": 0.3803921639919281,
            "w": 12
           },
           {
            "h": 6,
            "value": 0.43529412150382996,
            "w": 12
           },
           {
            "h": 7,
            "value": 0.4156862795352936,
            "w": 12
           },
           {
            "h": 8,
            "value": 0.40392157435417175,
            "w": 12
           },
           {
            "h": 9,
            "value": 0.4274509847164154,
            "w": 12
           },
           {
            "h": 10,
            "value": 0.41960784792900085,
            "w": 12
           },
           {
            "h": 11,
            "value": 0.41960784792900085,
            "w": 12
           },
           {
            "h": 12,
            "value": 0.42352941632270813,
            "w": 12
           },
           {
            "h": 13,
            "value": 0.4156862795352936,
            "w": 12
           },
           {
            "h": 14,
            "value": 0.4000000059604645,
            "w": 12
           },
           {
            "h": 15,
            "value": 0.3686274588108063,
            "w": 12
           },
           {
            "h": 16,
            "value": 0.3764705955982208,
            "w": 12
           },
           {
            "h": 17,
            "value": 0.3960784375667572,
            "w": 12
           },
           {
            "h": 18,
            "value": 0.42352941632270813,
            "w": 12
           },
           {
            "h": 19,
            "value": 0.43529412150382996,
            "w": 12
           },
           {
            "h": 20,
            "value": 0.43921568989753723,
            "w": 12
           },
           {
            "h": 21,
            "value": 0.3764705955982208,
            "w": 12
           },
           {
            "h": 22,
            "value": 0.4156862795352936,
            "w": 12
           },
           {
            "h": 23,
            "value": 0.5490196347236633,
            "w": 12
           },
           {
            "h": 24,
            "value": 0.4274509847164154,
            "w": 12
           },
           {
            "h": 25,
            "value": 0.32549020648002625,
            "w": 12
           },
           {
            "h": 26,
            "value": 0.6392157077789307,
            "w": 12
           },
           {
            "h": 27,
            "value": 0.37254902720451355,
            "w": 12
           },
           {
            "h": 0,
            "value": 0.2862745225429535,
            "w": 13
           },
           {
            "h": 1,
            "value": 0.6313725709915161,
            "w": 13
           },
           {
            "h": 2,
            "value": 0.6039215922355652,
            "w": 13
           },
           {
            "h": 3,
            "value": 0.7058823704719543,
            "w": 13
           },
           {
            "h": 4,
            "value": 0.572549045085907,
            "w": 13
           },
           {
            "h": 5,
            "value": 0.29019609093666077,
            "w": 13
           },
           {
            "h": 6,
            "value": 0.2823529541492462,
            "w": 13
           },
           {
            "h": 7,
            "value": 0.45098039507865906,
            "w": 13
           },
           {
            "h": 8,
            "value": 0.42352941632270813,
            "w": 13
           },
           {
            "h": 9,
            "value": 0.43529412150382996,
            "w": 13
           },
           {
            "h": 10,
            "value": 0.3843137323856354,
            "w": 13
           },
           {
            "h": 11,
            "value": 0.3764705955982208,
            "w": 13
           },
           {
            "h": 12,
            "value": 0.40392157435417175,
            "w": 13
           },
           {
            "h": 13,
            "value": 0.46666666865348816,
            "w": 13
           },
           {
            "h": 14,
            "value": 0.5058823823928833,
            "w": 13
           },
           {
            "h": 15,
            "value": 0.47058823704719543,
            "w": 13
           },
           {
            "h": 16,
            "value": 0.4588235318660736,
            "w": 13
           },
           {
            "h": 17,
            "value": 0.45490196347236633,
            "w": 13
           },
           {
            "h": 18,
            "value": 0.4156862795352936,
            "w": 13
           },
           {
            "h": 19,
            "value": 0.4000000059604645,
            "w": 13
           },
           {
            "h": 20,
            "value": 0.4274509847164154,
            "w": 13
           },
           {
            "h": 21,
            "value": 0.45490196347236633,
            "w": 13
           },
           {
            "h": 22,
            "value": 0.5254902243614197,
            "w": 13
           },
           {
            "h": 23,
            "value": 0.42352941632270813,
            "w": 13
           },
           {
            "h": 24,
            "value": 0.3803921639919281,
            "w": 13
           },
           {
            "h": 25,
            "value": 0.4901960790157318,
            "w": 13
           },
           {
            "h": 26,
            "value": 0.6705882549285889,
            "w": 13
           },
           {
            "h": 27,
            "value": 0.4274509847164154,
            "w": 13
           },
           {
            "h": 0,
            "value": 0.2980392277240753,
            "w": 14
           },
           {
            "h": 1,
            "value": 0.6784313917160034,
            "w": 14
           },
           {
            "h": 2,
            "value": 0.6470588445663452,
            "w": 14
           },
           {
            "h": 3,
            "value": 0.6117647290229797,
            "w": 14
           },
           {
            "h": 4,
            "value": 0.7176470756530762,
            "w": 14
           },
           {
            "h": 5,
            "value": 0.8078431487083435,
            "w": 14
           },
           {
            "h": 6,
            "value": 0.5333333611488342,
            "w": 14
           },
           {
            "h": 7,
            "value": 0.35686275362968445,
            "w": 14
           },
           {
            "h": 8,
            "value": 0.42352941632270813,
            "w": 14
           },
           {
            "h": 9,
            "value": 0.42352941632270813,
            "w": 14
           },
           {
            "h": 10,
            "value": 0.364705890417099,
            "w": 14
           },
           {
            "h": 11,
            "value": 0.3921568691730499,
            "w": 14
           },
           {
            "h": 12,
            "value": 0.42352941632270813,
            "w": 14
           },
           {
            "h": 13,
            "value": 0.4000000059604645,
            "w": 14
           },
           {
            "h": 14,
            "value": 0.3921568691730499,
            "w": 14
           },
           {
            "h": 15,
            "value": 0.4117647111415863,
            "w": 14
           },
           {
            "h": 16,
            "value": 0.4431372582912445,
            "w": 14
           },
           {
            "h": 17,
            "value": 0.4156862795352936,
            "w": 14
           },
           {
            "h": 18,
            "value": 0.4000000059604645,
            "w": 14
           },
           {
            "h": 19,
            "value": 0.4156862795352936,
            "w": 14
           },
           {
            "h": 20,
            "value": 0.43921568989753723,
            "w": 14
           },
           {
            "h": 21,
            "value": 0.47843137383461,
            "w": 14
           },
           {
            "h": 22,
            "value": 0.529411792755127,
            "w": 14
           },
           {
            "h": 23,
            "value": 0.42352941632270813,
            "w": 14
           },
           {
            "h": 24,
            "value": 0.48235294222831726,
            "w": 14
           },
           {
            "h": 25,
            "value": 0.48235294222831726,
            "w": 14
           },
           {
            "h": 26,
            "value": 0.5882353186607361,
            "w": 14
           },
           {
            "h": 27,
            "value": 0.43529412150382996,
            "w": 14
           },
           {
            "h": 0,
            "value": 0.2980392277240753,
            "w": 15
           },
           {
            "h": 1,
            "value": 0.7529411911964417,
            "w": 15
           },
           {
            "h": 2,
            "value": 0.6000000238418579,
            "w": 15
           },
           {
            "h": 3,
            "value": 0.5764706134796143,
            "w": 15
           },
           {
            "h": 4,
            "value": 0.6431372761726379,
            "w": 15
           },
           {
            "h": 5,
            "value": 0.6823529601097107,
            "w": 15
           },
           {
            "h": 6,
            "value": 0.5176470875740051,
            "w": 15
           },
           {
            "h": 7,
            "value": 0.4274509847164154,
            "w": 15
           },
           {
            "h": 8,
            "value": 0.45098039507865906,
            "w": 15
           },
           {
            "h": 9,
            "value": 0.4470588266849518,
            "w": 15
           },
           {
            "h": 10,
            "value": 0.48235294222831726,
            "w": 15
           },
           {
            "h": 11,
            "value": 0.4941176474094391,
            "w": 15
           },
           {
            "h": 12,
            "value": 0.47843137383461,
            "w": 15
           },
           {
            "h": 13,
            "value": 0.47058823704719543,
            "w": 15
           },
           {
            "h": 14,
            "value": 0.46666666865348816,
            "w": 15
           },
           {
            "h": 15,
            "value": 0.49803921580314636,
            "w": 15
           },
           {
            "h": 16,
            "value": 0.5333333611488342,
            "w": 15
           },
           {
            "h": 17,
            "value": 0.49803921580314636,
            "w": 15
           },
           {
            "h": 18,
            "value": 0.4941176474094391,
            "w": 15
           },
           {
            "h": 19,
            "value": 0.501960813999176,
            "w": 15
           },
           {
            "h": 20,
            "value": 0.4941176474094391,
            "w": 15
           },
           {
            "h": 21,
            "value": 0.5176470875740051,
            "w": 15
           },
           {
            "h": 22,
            "value": 0.5058823823928833,
            "w": 15
           },
           {
            "h": 23,
            "value": 0.5137255191802979,
            "w": 15
           },
           {
            "h": 24,
            "value": 0.5411764979362488,
            "w": 15
           },
           {
            "h": 25,
            "value": 0.5607843399047852,
            "w": 15
           },
           {
            "h": 26,
            "value": 0.6549019813537598,
            "w": 15
           },
           {
            "h": 27,
            "value": 0.43529412150382996,
            "w": 15
           },
           {
            "h": 0,
            "value": 0.32549020648002625,
            "w": 16
           },
           {
            "h": 1,
            "value": 0.6745098233222961,
            "w": 16
           },
           {
            "h": 2,
            "value": 0.545098066329956,
            "w": 16
           },
           {
            "h": 3,
            "value": 0.5411764979362488,
            "w": 16
           },
           {
            "h": 4,
            "value": 0.43529412150382996,
            "w": 16
           },
           {
            "h": 5,
            "value": 0.45098039507865906,
            "w": 16
           },
           {
            "h": 6,
            "value": 0.43921568989753723,
            "w": 16
           },
           {
            "h": 7,
            "value": 0.32549020648002625,
            "w": 16
           },
           {
            "h": 8,
            "value": 0.3294117748737335,
            "w": 16
           },
           {
            "h": 9,
            "value": 0.4156862795352936,
            "w": 16
           },
           {
            "h": 10,
            "value": 0.45490196347236633,
            "w": 16
           },
           {
            "h": 11,
            "value": 0.40392157435417175,
            "w": 16
           },
           {
            "h": 12,
            "value": 0.41960784792900085,
            "w": 16
           },
           {
            "h": 13,
            "value": 0.40392157435417175,
            "w": 16
           },
           {
            "h": 14,
            "value": 0.4000000059604645,
            "w": 16
           },
           {
            "h": 15,
            "value": 0.3803921639919281,
            "w": 16
           },
           {
            "h": 16,
            "value": 0.3686274588108063,
            "w": 16
           },
           {
            "h": 17,
            "value": 0.4000000059604645,
            "w": 16
           },
           {
            "h": 18,
            "value": 0.43529412150382996,
            "w": 16
           },
           {
            "h": 19,
            "value": 0.4470588266849518,
            "w": 16
           },
           {
            "h": 20,
            "value": 0.4000000059604645,
            "w": 16
           },
           {
            "h": 21,
            "value": 0.4156862795352936,
            "w": 16
           },
           {
            "h": 22,
            "value": 0.40784314274787903,
            "w": 16
           },
           {
            "h": 23,
            "value": 0.4156862795352936,
            "w": 16
           },
           {
            "h": 24,
            "value": 0.41960784792900085,
            "w": 16
           },
           {
            "h": 25,
            "value": 0.40784314274787903,
            "w": 16
           },
           {
            "h": 26,
            "value": 0.6117647290229797,
            "w": 16
           },
           {
            "h": 27,
            "value": 0.4156862795352936,
            "w": 16
           },
           {
            "h": 0,
            "value": 0.24313725531101227,
            "w": 17
           },
           {
            "h": 1,
            "value": 0.7098039388656616,
            "w": 17
           },
           {
            "h": 2,
            "value": 0.5058823823928833,
            "w": 17
           },
           {
            "h": 3,
            "value": 0.3333333432674408,
            "w": 17
           },
           {
            "h": 4,
            "value": 0.572549045085907,
            "w": 17
           },
           {
            "h": 5,
            "value": 0.5882353186607361,
            "w": 17
           },
           {
            "h": 6,
            "value": 0.45098039507865906,
            "w": 17
           },
           {
            "h": 7,
            "value": 0.4274509847164154,
            "w": 17
           },
           {
            "h": 8,
            "value": 0.4470588266849518,
            "w": 17
           },
           {
            "h": 9,
            "value": 0.4431372582912445,
            "w": 17
           },
           {
            "h": 10,
            "value": 0.43921568989753723,
            "w": 17
           },
           {
            "h": 11,
            "value": 0.47058823704719543,
            "w": 17
           },
           {
            "h": 12,
            "value": 0.49803921580314636,
            "w": 17
           },
           {
            "h": 13,
            "value": 0.48235294222831726,
            "w": 17
           },
           {
            "h": 14,
            "value": 0.4627451002597809,
            "w": 17
           },
           {
            "h": 15,
            "value": 0.45098039507865906,
            "w": 17
           },
           {
            "h": 16,
            "value": 0.43529412150382996,
            "w": 17
           },
           {
            "h": 17,
            "value": 0.4470588266849518,
            "w": 17
           },
           {
            "h": 18,
            "value": 0.45490196347236633,
            "w": 17
           },
           {
            "h": 19,
            "value": 0.4274509847164154,
            "w": 17
           },
           {
            "h": 20,
            "value": 0.3764705955982208,
            "w": 17
           },
           {
            "h": 21,
            "value": 0.4156862795352936,
            "w": 17
           },
           {
            "h": 22,
            "value": 0.43529412150382996,
            "w": 17
           },
           {
            "h": 23,
            "value": 0.46666666865348816,
            "w": 17
           },
           {
            "h": 24,
            "value": 0.49803921580314636,
            "w": 17
           },
           {
            "h": 25,
            "value": 0.45098039507865906,
            "w": 17
           },
           {
            "h": 26,
            "value": 0.6823529601097107,
            "w": 17
           },
           {
            "h": 27,
            "value": 0.3960784375667572,
            "w": 17
           },
           {
            "h": 0,
            "value": 0,
            "w": 18
           },
           {
            "h": 1,
            "value": 0.7215686440467834,
            "w": 18
           },
           {
            "h": 2,
            "value": 0.5882353186607361,
            "w": 18
           },
           {
            "h": 3,
            "value": 0.615686297416687,
            "w": 18
           },
           {
            "h": 4,
            "value": 0.5137255191802979,
            "w": 18
           },
           {
            "h": 5,
            "value": 0.42352941632270813,
            "w": 18
           },
           {
            "h": 6,
            "value": 0.4274509847164154,
            "w": 18
           },
           {
            "h": 7,
            "value": 0.4901960790157318,
            "w": 18
           },
           {
            "h": 8,
            "value": 0.5843137502670288,
            "w": 18
           },
           {
            "h": 9,
            "value": 0.6117647290229797,
            "w": 18
           },
           {
            "h": 10,
            "value": 0.5843137502670288,
            "w": 18
           },
           {
            "h": 11,
            "value": 0.5529412031173706,
            "w": 18
           },
           {
            "h": 12,
            "value": 0.545098066329956,
            "w": 18
           },
           {
            "h": 13,
            "value": 0.5490196347236633,
            "w": 18
           },
           {
            "h": 14,
            "value": 0.5529412031173706,
            "w": 18
           },
           {
            "h": 15,
            "value": 0.5568627715110779,
            "w": 18
           },
           {
            "h": 16,
            "value": 0.5764706134796143,
            "w": 18
           },
           {
            "h": 17,
            "value": 0.572549045085907,
            "w": 18
           },
           {
            "h": 18,
            "value": 0.5529412031173706,
            "w": 18
           },
           {
            "h": 19,
            "value": 0.5254902243614197,
            "w": 18
           },
           {
            "h": 20,
            "value": 0.5137255191802979,
            "w": 18
           },
           {
            "h": 21,
            "value": 0.5058823823928833,
            "w": 18
           },
           {
            "h": 22,
            "value": 0.48235294222831726,
            "w": 18
           },
           {
            "h": 23,
            "value": 0.4431372582912445,
            "w": 18
           },
           {
            "h": 24,
            "value": 0.47058823704719543,
            "w": 18
           },
           {
            "h": 25,
            "value": 0.3921568691730499,
            "w": 18
           },
           {
            "h": 26,
            "value": 0.772549033164978,
            "w": 18
           },
           {
            "h": 27,
            "value": 0.27843138575553894,
            "w": 18
           },
           {
            "h": 0,
            "value": 0,
            "w": 19
           },
           {
            "h": 1,
            "value": 0.42352941632270813,
            "w": 19
           },
           {
            "h": 2,
            "value": 0.5411764979362488,
            "w": 19
           },
           {
            "h": 3,
            "value": 0.4470588266849518,
            "w": 19
           },
           {
            "h": 4,
            "value": 0.47843137383461,
            "w": 19
           },
           {
            "h": 5,
            "value": 0.46666666865348816,
            "w": 19
           },
           {
            "h": 6,
            "value": 0.5568627715110779,
            "w": 19
           },
           {
            "h": 7,
            "value": 0.6470588445663452,
            "w": 19
           },
           {
            "h": 8,
            "value": 0.6196078658103943,
            "w": 19
           },
           {
            "h": 9,
            "value": 0.6392157077789307,
            "w": 19
           },
           {
            "h": 10,
            "value": 0.6274510025978088,
            "w": 19
           },
           {
            "h": 11,
            "value": 0.6196078658103943,
            "w": 19
           },
           {
            "h": 12,
            "value": 0.5882353186607361,
            "w": 19
           },
           {
            "h": 13,
            "value": 0.5882353186607361,
            "w": 19
           },
           {
            "h": 14,
            "value": 0.6000000238418579,
            "w": 19
           },
           {
            "h": 15,
            "value": 0.5882353186607361,
            "w": 19
           },
           {
            "h": 16,
            "value": 0.6392157077789307,
            "w": 19
           },
           {
            "h": 17,
            "value": 0.7058823704719543,
            "w": 19
           },
           {
            "h": 18,
            "value": 0.6980392336845398,
            "w": 19
           },
           {
            "h": 19,
            "value": 0.6823529601097107,
            "w": 19
           },
           {
            "h": 20,
            "value": 0.6745098233222961,
            "w": 19
           },
           {
            "h": 21,
            "value": 0.5921568870544434,
            "w": 19
           },
           {
            "h": 22,
            "value": 0.5921568870544434,
            "w": 19
           },
           {
            "h": 23,
            "value": 0.5568627715110779,
            "w": 19
           },
           {
            "h": 24,
            "value": 0.5333333611488342,
            "w": 19
           },
           {
            "h": 25,
            "value": 0.4941176474094391,
            "w": 19
           },
           {
            "h": 26,
            "value": 0.7137255072593689,
            "w": 19
           },
           {
            "h": 27,
            "value": 0.0470588244497776,
            "w": 19
           },
           {
            "h": 0,
            "value": 0,
            "w": 20
           },
           {
            "h": 1,
            "value": 0.11764705926179886,
            "w": 20
           },
           {
            "h": 2,
            "value": 0.6705882549285889,
            "w": 20
           },
           {
            "h": 3,
            "value": 0.48627451062202454,
            "w": 20
           },
           {
            "h": 4,
            "value": 0.5176470875740051,
            "w": 20
           },
           {
            "h": 5,
            "value": 0.572549045085907,
            "w": 20
           },
           {
            "h": 6,
            "value": 0.5882353186607361,
            "w": 20
           },
           {
            "h": 7,
            "value": 0.5490196347236633,
            "w": 20
           },
           {
            "h": 8,
            "value": 0.5764706134796143,
            "w": 20
           },
           {
            "h": 9,
            "value": 0.6117647290229797,
            "w": 20
           },
           {
            "h": 10,
            "value": 0.7098039388656616,
            "w": 20
           },
           {
            "h": 11,
            "value": 0.6549019813537598,
            "w": 20
           },
           {
            "h": 12,
            "value": 0.46666666865348816,
            "w": 20
           },
           {
            "h": 13,
            "value": 0.3176470696926117,
            "w": 20
           },
           {
            "h": 14,
            "value": 0.1764705926179886,
            "w": 20
           },
           {
            "h": 15,
            "value": 0.07450980693101883,
            "w": 20
           },
           {
            "h": 16,
            "value": 0.12156862765550613,
            "w": 20
           },
           {
            "h": 17,
            "value": 0.0784313753247261,
            "w": 20
           },
           {
            "h": 18,
            "value": 0.19607843458652496,
            "w": 20
           },
           {
            "h": 19,
            "value": 0.3803921639919281,
            "w": 20
           },
           {
            "h": 20,
            "value": 0.501960813999176,
            "w": 20
           },
           {
            "h": 21,
            "value": 0.7215686440467834,
            "w": 20
           },
           {
            "h": 22,
            "value": 0.7607843279838562,
            "w": 20
           },
           {
            "h": 23,
            "value": 0.6549019813537598,
            "w": 20
           },
           {
            "h": 24,
            "value": 0.6313725709915161,
            "w": 20
           },
           {
            "h": 25,
            "value": 0.658823549747467,
            "w": 20
           },
           {
            "h": 26,
            "value": 0.6352941393852234,
            "w": 20
           },
           {
            "h": 27,
            "value": 0,
            "w": 20
           },
           {
            "h": 0,
            "value": 0,
            "w": 21
           },
           {
            "h": 1,
            "value": 0,
            "w": 21
           },
           {
            "h": 2,
            "value": 0.6313725709915161,
            "w": 21
           },
           {
            "h": 3,
            "value": 0.6039215922355652,
            "w": 21
           },
           {
            "h": 4,
            "value": 0.5686274766921997,
            "w": 21
           },
           {
            "h": 5,
            "value": 0.5960784554481506,
            "w": 21
           },
           {
            "h": 6,
            "value": 0.6274510025978088,
            "w": 21
           },
           {
            "h": 7,
            "value": 0.7568627595901489,
            "w": 21
           },
           {
            "h": 8,
            "value": 0.8196078538894653,
            "w": 21
           },
           {
            "h": 9,
            "value": 0.7686274647712708,
            "w": 21
           },
           {
            "h": 10,
            "value": 0.729411780834198,
            "w": 21
           },
           {
            "h": 11,
            "value": 0.7333333492279053,
            "w": 21
           },
           {
            "h": 12,
            "value": 0.7686274647712708,
            "w": 21
           },
           {
            "h": 13,
            "value": 0.8078431487083435,
            "w": 21
           },
           {
            "h": 14,
            "value": 0.8470588326454163,
            "w": 21
           },
           {
            "h": 15,
            "value": 0.8352941274642944,
            "w": 21
           },
           {
            "h": 16,
            "value": 0.7490196228027344,
            "w": 21
           },
           {
            "h": 17,
            "value": 0.572549045085907,
            "w": 21
           },
           {
            "h": 18,
            "value": 0.43921568989753723,
            "w": 21
           },
           {
            "h": 19,
            "value": 0.3843137323856354,
            "w": 21
           },
           {
            "h": 20,
            "value": 0.20000000298023224,
            "w": 21
           },
           {
            "h": 21,
            "value": 0.10196078568696976,
            "w": 21
           },
           {
            "h": 22,
            "value": 0.29019609093666077,
            "w": 21
           },
           {
            "h": 23,
            "value": 0.529411792755127,
            "w": 21
           },
           {
            "h": 24,
            "value": 0.6235294342041016,
            "w": 21
           },
           {
            "h": 25,
            "value": 0.6980392336845398,
            "w": 21
           },
           {
            "h": 26,
            "value": 0.239215686917305,
            "w": 21
           },
           {
            "h": 27,
            "value": 0,
            "w": 21
           },
           {
            "h": 0,
            "value": 0,
            "w": 22
           },
           {
            "h": 1,
            "value": 0,
            "w": 22
           },
           {
            "h": 2,
            "value": 0.10196078568696976,
            "w": 22
           },
           {
            "h": 3,
            "value": 0.615686297416687,
            "w": 22
           },
           {
            "h": 4,
            "value": 0.6627451181411743,
            "w": 22
           },
           {
            "h": 5,
            "value": 0.6352941393852234,
            "w": 22
           },
           {
            "h": 6,
            "value": 0.6352941393852234,
            "w": 22
           },
           {
            "h": 7,
            "value": 0.6274510025978088,
            "w": 22
           },
           {
            "h": 8,
            "value": 0.6274510025978088,
            "w": 22
           },
           {
            "h": 9,
            "value": 0.6549019813537598,
            "w": 22
           },
           {
            "h": 10,
            "value": 0.6352941393852234,
            "w": 22
           },
           {
            "h": 11,
            "value": 0.5764706134796143,
            "w": 22
           },
           {
            "h": 12,
            "value": 0.5686274766921997,
            "w": 22
           },
           {
            "h": 13,
            "value": 0.572549045085907,
            "w": 22
           },
           {
            "h": 14,
            "value": 0.5803921818733215,
            "w": 22
           },
           {
            "h": 15,
            "value": 0.5803921818733215,
            "w": 22
           },
           {
            "h": 16,
            "value": 0.572549045085907,
            "w": 22
           },
           {
            "h": 17,
            "value": 0.6235294342041016,
            "w": 22
           },
           {
            "h": 18,
            "value": 0.6627451181411743,
            "w": 22
           },
           {
            "h": 19,
            "value": 0.6274510025978088,
            "w": 22
           },
           {
            "h": 20,
            "value": 0.9960784316062927,
            "w": 22
           },
           {
            "h": 21,
            "value": 0.0784313753247261,
            "w": 22
           },
           {
            "h": 22,
            "value": 0,
            "w": 22
           },
           {
            "h": 23,
            "value": 0,
            "w": 22
           },
           {
            "h": 24,
            "value": 0,
            "w": 22
           },
           {
            "h": 25,
            "value": 0.027450980618596077,
            "w": 22
           },
           {
            "h": 26,
            "value": 0,
            "w": 22
           },
           {
            "h": 27,
            "value": 0,
            "w": 22
           },
           {
            "h": 0,
            "value": 0,
            "w": 23
           },
           {
            "h": 1,
            "value": 0,
            "w": 23
           },
           {
            "h": 2,
            "value": 0,
            "w": 23
           },
           {
            "h": 3,
            "value": 0,
            "w": 23
           },
           {
            "h": 4,
            "value": 0.364705890417099,
            "w": 23
           },
           {
            "h": 5,
            "value": 0.5529412031173706,
            "w": 23
           },
           {
            "h": 6,
            "value": 0.7647058963775635,
            "w": 23
           },
           {
            "h": 7,
            "value": 0.6901960968971252,
            "w": 23
           },
           {
            "h": 8,
            "value": 0.6980392336845398,
            "w": 23
           },
           {
            "h": 9,
            "value": 0.6823529601097107,
            "w": 23
           },
           {
            "h": 10,
            "value": 0.6352941393852234,
            "w": 23
           },
           {
            "h": 11,
            "value": 0.5803921818733215,
            "w": 23
           },
           {
            "h": 12,
            "value": 0.5568627715110779,
            "w": 23
           },
           {
            "h": 13,
            "value": 0.529411792755127,
            "w": 23
           },
           {
            "h": 14,
            "value": 0.545098066329956,
            "w": 23
           },
           {
            "h": 15,
            "value": 0.5137255191802979,
            "w": 23
           },
           {
            "h": 16,
            "value": 0.5254902243614197,
            "w": 23
           },
           {
            "h": 17,
            "value": 0.5058823823928833,
            "w": 23
           },
           {
            "h": 18,
            "value": 0.5411764979362488,
            "w": 23
           },
           {
            "h": 19,
            "value": 0.5764706134796143,
            "w": 23
           },
           {
            "h": 20,
            "value": 0.658823549747467,
            "w": 23
           },
           {
            "h": 21,
            "value": 0.0313725508749485,
            "w": 23
           },
           {
            "h": 22,
            "value": 0,
            "w": 23
           },
           {
            "h": 23,
            "value": 0.003921568859368563,
            "w": 23
           },
           {
            "h": 24,
            "value": 0,
            "w": 23
           },
           {
            "h": 25,
            "value": 0,
            "w": 23
           },
           {
            "h": 26,
            "value": 0,
            "w": 23
           },
           {
            "h": 27,
            "value": 0,
            "w": 23
           },
           {
            "h": 0,
            "value": 0,
            "w": 24
           },
           {
            "h": 1,
            "value": 0,
            "w": 24
           },
           {
            "h": 2,
            "value": 0,
            "w": 24
           },
           {
            "h": 3,
            "value": 0,
            "w": 24
           },
           {
            "h": 4,
            "value": 0,
            "w": 24
           },
           {
            "h": 5,
            "value": 0,
            "w": 24
           },
           {
            "h": 6,
            "value": 0,
            "w": 24
           },
           {
            "h": 7,
            "value": 0.0235294122248888,
            "w": 24
           },
           {
            "h": 8,
            "value": 0.20392157137393951,
            "w": 24
           },
           {
            "h": 9,
            "value": 0.3333333432674408,
            "w": 24
           },
           {
            "h": 10,
            "value": 0.48235294222831726,
            "w": 24
           },
           {
            "h": 11,
            "value": 0.6666666865348816,
            "w": 24
           },
           {
            "h": 12,
            "value": 0.7019608020782471,
            "w": 24
           },
           {
            "h": 13,
            "value": 0.7607843279838562,
            "w": 24
           },
           {
            "h": 14,
            "value": 0.8039215803146362,
            "w": 24
           },
           {
            "h": 15,
            "value": 0.800000011920929,
            "w": 24
           },
           {
            "h": 16,
            "value": 0.8078431487083435,
            "w": 24
           },
           {
            "h": 17,
            "value": 0.800000011920929,
            "w": 24
           },
           {
            "h": 18,
            "value": 0.6431372761726379,
            "w": 24
           },
           {
            "h": 19,
            "value": 0.686274528503418,
            "w": 24
           },
           {
            "h": 20,
            "value": 0.6431372761726379,
            "w": 24
           },
           {
            "h": 21,
            "value": 0,
            "w": 24
           },
           {
            "h": 22,
            "value": 0,
            "w": 24
           },
           {
            "h": 23,
            "value": 0,
            "w": 24
           },
           {
            "h": 24,
            "value": 0.003921568859368563,
            "w": 24
           },
           {
            "h": 25,
            "value": 0.007843137718737125,
            "w": 24
           },
           {
            "h": 26,
            "value": 0,
            "w": 24
           },
           {
            "h": 27,
            "value": 0,
            "w": 24
           },
           {
            "h": 0,
            "value": 0,
            "w": 25
           },
           {
            "h": 1,
            "value": 0,
            "w": 25
           },
           {
            "h": 2,
            "value": 0,
            "w": 25
           },
           {
            "h": 3,
            "value": 0,
            "w": 25
           },
           {
            "h": 4,
            "value": 0.003921568859368563,
            "w": 25
           },
           {
            "h": 5,
            "value": 0,
            "w": 25
           },
           {
            "h": 6,
            "value": 0,
            "w": 25
           },
           {
            "h": 7,
            "value": 0,
            "w": 25
           },
           {
            "h": 8,
            "value": 0,
            "w": 25
           },
           {
            "h": 9,
            "value": 0,
            "w": 25
           },
           {
            "h": 10,
            "value": 0,
            "w": 25
           },
           {
            "h": 11,
            "value": 0,
            "w": 25
           },
           {
            "h": 12,
            "value": 0,
            "w": 25
           },
           {
            "h": 13,
            "value": 0,
            "w": 25
           },
           {
            "h": 14,
            "value": 0.0470588244497776,
            "w": 25
           },
           {
            "h": 15,
            "value": 0.1411764770746231,
            "w": 25
           },
           {
            "h": 16,
            "value": 0.22745098173618317,
            "w": 25
           },
           {
            "h": 17,
            "value": 0.27450981736183167,
            "w": 25
           },
           {
            "h": 18,
            "value": 0.3294117748737335,
            "w": 25
           },
           {
            "h": 19,
            "value": 0.529411792755127,
            "w": 25
           },
           {
            "h": 20,
            "value": 0.43529412150382996,
            "w": 25
           },
           {
            "h": 21,
            "value": 0,
            "w": 25
           },
           {
            "h": 22,
            "value": 0,
            "w": 25
           },
           {
            "h": 23,
            "value": 0,
            "w": 25
           },
           {
            "h": 24,
            "value": 0,
            "w": 25
           },
           {
            "h": 25,
            "value": 0,
            "w": 25
           },
           {
            "h": 26,
            "value": 0,
            "w": 25
           },
           {
            "h": 27,
            "value": 0,
            "w": 25
           },
           {
            "h": 0,
            "value": 0,
            "w": 26
           },
           {
            "h": 1,
            "value": 0,
            "w": 26
           },
           {
            "h": 2,
            "value": 0,
            "w": 26
           },
           {
            "h": 3,
            "value": 0,
            "w": 26
           },
           {
            "h": 4,
            "value": 0,
            "w": 26
           },
           {
            "h": 5,
            "value": 0,
            "w": 26
           },
           {
            "h": 6,
            "value": 0,
            "w": 26
           },
           {
            "h": 7,
            "value": 0,
            "w": 26
           },
           {
            "h": 8,
            "value": 0,
            "w": 26
           },
           {
            "h": 9,
            "value": 0,
            "w": 26
           },
           {
            "h": 10,
            "value": 0,
            "w": 26
           },
           {
            "h": 11,
            "value": 0,
            "w": 26
           },
           {
            "h": 12,
            "value": 0,
            "w": 26
           },
           {
            "h": 13,
            "value": 0,
            "w": 26
           },
           {
            "h": 14,
            "value": 0,
            "w": 26
           },
           {
            "h": 15,
            "value": 0,
            "w": 26
           },
           {
            "h": 16,
            "value": 0,
            "w": 26
           },
           {
            "h": 17,
            "value": 0,
            "w": 26
           },
           {
            "h": 18,
            "value": 0,
            "w": 26
           },
           {
            "h": 19,
            "value": 0,
            "w": 26
           },
           {
            "h": 20,
            "value": 0,
            "w": 26
           },
           {
            "h": 21,
            "value": 0,
            "w": 26
           },
           {
            "h": 22,
            "value": 0,
            "w": 26
           },
           {
            "h": 23,
            "value": 0,
            "w": 26
           },
           {
            "h": 24,
            "value": 0,
            "w": 26
           },
           {
            "h": 25,
            "value": 0,
            "w": 26
           },
           {
            "h": 26,
            "value": 0,
            "w": 26
           },
           {
            "h": 27,
            "value": 0,
            "w": 26
           },
           {
            "h": 0,
            "value": 0,
            "w": 27
           },
           {
            "h": 1,
            "value": 0,
            "w": 27
           },
           {
            "h": 2,
            "value": 0,
            "w": 27
           },
           {
            "h": 3,
            "value": 0,
            "w": 27
           },
           {
            "h": 4,
            "value": 0,
            "w": 27
           },
           {
            "h": 5,
            "value": 0,
            "w": 27
           },
           {
            "h": 6,
            "value": 0,
            "w": 27
           },
           {
            "h": 7,
            "value": 0,
            "w": 27
           },
           {
            "h": 8,
            "value": 0,
            "w": 27
           },
           {
            "h": 9,
            "value": 0,
            "w": 27
           },
           {
            "h": 10,
            "value": 0,
            "w": 27
           },
           {
            "h": 11,
            "value": 0,
            "w": 27
           },
           {
            "h": 12,
            "value": 0,
            "w": 27
           },
           {
            "h": 13,
            "value": 0,
            "w": 27
           },
           {
            "h": 14,
            "value": 0,
            "w": 27
           },
           {
            "h": 15,
            "value": 0,
            "w": 27
           },
           {
            "h": 16,
            "value": 0,
            "w": 27
           },
           {
            "h": 17,
            "value": 0,
            "w": 27
           },
           {
            "h": 18,
            "value": 0,
            "w": 27
           },
           {
            "h": 19,
            "value": 0,
            "w": 27
           },
           {
            "h": 20,
            "value": 0,
            "w": 27
           },
           {
            "h": 21,
            "value": 0,
            "w": 27
           },
           {
            "h": 22,
            "value": 0,
            "w": 27
           },
           {
            "h": 23,
            "value": 0,
            "w": 27
           },
           {
            "h": 24,
            "value": 0,
            "w": 27
           },
           {
            "h": 25,
            "value": 0,
            "w": 27
           },
           {
            "h": 26,
            "value": 0,
            "w": 27
           },
           {
            "h": 27,
            "value": 0,
            "w": 27
           }
          ]
         },
         "encoding": {
          "color": {
           "field": "value",
           "legend": null,
           "scale": {
            "scheme": "greys"
           },
           "sort": "descending",
           "type": "quantitative"
          },
          "tooltip": [
           {
            "field": "value",
            "type": "quantitative"
           }
          ],
          "x": {
           "axis": null,
           "field": "w",
           "type": "nominal"
          },
          "y": {
           "axis": null,
           "field": "h",
           "type": "nominal"
          }
         },
         "height": 350,
         "mark": "rect",
         "title": "Shirt",
         "width": 350
        },
        {
         "data": {
          "values": [
           {
            "actual": false,
            "labels": "T-shirt/top",
            "proba": 0.19432370364665985
           },
           {
            "actual": false,
            "labels": "Trouser",
            "proba": 0.00033564004115760326
           },
           {
            "actual": false,
            "labels": "Pullover",
            "proba": 0.05834418907761574
           },
           {
            "actual": false,
            "labels": "Dress",
            "proba": 0.003452303120866418
           },
           {
            "actual": false,
            "labels": "Coat",
            "proba": 0.04733891040086746
           },
           {
            "actual": false,
            "labels": "Sandal",
            "proba": 7.979737119967467e-07
           },
           {
            "actual": true,
            "labels": "Shirt",
            "proba": 0.6942901015281677
           },
           {
            "actual": false,
            "labels": "Sneaker",
            "proba": 8.376756568395649e-07
           },
           {
            "actual": false,
            "labels": "Bag",
            "proba": 0.0019009655807167292
           },
           {
            "actual": false,
            "labels": "Ankle boot",
            "proba": 1.2603293725987896e-05
           }
          ]
         },
         "encoding": {
          "color": {
           "field": "actual",
           "type": "nominal"
          },
          "tooltip": [
           {
            "field": "proba",
            "type": "quantitative"
           }
          ],
          "x": {
           "field": "proba",
           "scale": {
            "domain": [
             0,
             1
            ]
           },
           "type": "quantitative"
          },
          "y": {
           "field": "labels",
           "type": "nominal"
          }
         },
         "height": 350,
         "mark": "bar",
         "title": "Prediction: Shirt",
         "width": 350
        }
       ]
      },
      "image/png": "[encoded data removed]",
      "text/plain": [
       "<VegaLite 2 object>\n",
       "\n",
       "If you see this message, it means the renderer has not been properly enabled\n",
       "for the frontend that you are using. For more information, see\n",
       "https://altair-viz.github.io/user_guide/troubleshooting.html\n"
      ]
     },
     "execution_count": 26,
     "metadata": {},
     "output_type": "execute_result"
    }
   ],
   "source": [
    "vis.imshow(x_test[i], labels[y_test[i]]) | vis.predict(proba[i], y_test[i], labels)"
   ]
  },
  {
   "cell_type": "code",
   "execution_count": null,
   "metadata": {},
   "outputs": [],
   "source": []
  }
 ],
 "metadata": {
  "kernelspec": {
   "display_name": "Python 3",
   "language": "python",
   "name": "python3"
  },
  "language_info": {
   "codemirror_mode": {
    "name": "ipython",
    "version": 3
   },
   "file_extension": ".py",
   "mimetype": "text/x-python",
   "name": "python",
   "nbconvert_exporter": "python",
   "pygments_lexer": "ipython3",
   "version": "3.6.6"
  }
 },
 "nbformat": 4,
 "nbformat_minor": 2
}
