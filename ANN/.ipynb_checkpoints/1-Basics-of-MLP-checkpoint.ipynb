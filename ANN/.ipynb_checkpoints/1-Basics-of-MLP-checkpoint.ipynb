{
 "cells": [
  {
   "cell_type": "markdown",
   "metadata": {
    "id": "R3ZUg9kaiLlU"
   },
   "source": [
    "# Basics of MLP\n",
    "- Objective: create vanilla neural networks (i.e., Multilayer perceptrons) for simple regression/classification tasks with Keras"
   ]
  },
  {
   "cell_type": "markdown",
   "metadata": {
    "id": "zsNVtV-YiLlW"
   },
   "source": [
    "## MLP Structures\n",
    "- Each MLP model is consisted of one input layer, several hidden layers, and one output layer\n",
    "- Number of neurons in each layer is not limited\n",
    "<img src=\"http://cs231n.github.io/assets/nn1/neural_net.jpeg\" style=\"width: 300px\"/>\n",
    "<br>\n",
    "<center>**MLP with one hidden layer**</center>\n",
    "- Number of input neurons: 3\n",
    "- Number of hidden neurons: 4\n",
    "- Number of output neurons: 2\n"
   ]
  },
  {
   "cell_type": "markdown",
   "metadata": {
    "id": "zrCUwYZoiLlX"
   },
   "source": [
    "<img src=\"http://cs231n.github.io/assets/nn1/neural_net2.jpeg\" style=\"width: 500px\"/>\n",
    "<br>\n",
    "<center>**MLP with two hidden layers**</center>\n",
    "- Number of input neurons: 3\n",
    "- Number of hidden neurons: (4, 4)\n",
    "- Number of output neurons: 1\n"
   ]
  },
  {
   "cell_type": "markdown",
   "metadata": {
    "id": "zBUeparxiLlY"
   },
   "source": [
    "## MLP for Regression tasks\n",
    "- When the target (**y**) is continuous (real)\n",
    "- For loss function and evaluation metric, mean squared error (MSE) is commonly used"
   ]
  },
  {
   "cell_type": "code",
   "execution_count": 2,
   "metadata": {},
   "outputs": [
    {
     "name": "stdout",
     "output_type": "stream",
     "text": [
      "Collecting tensorflow\n",
      "  Obtaining dependency information for tensorflow from https://files.pythonhosted.org/packages/cf/24/271e77c22724f370c24c705f394b8035b4d27e4c2c6339f3f45ab9b8258e/tensorflow-2.18.0-cp311-cp311-win_amd64.whl.metadata\n",
      "  Downloading tensorflow-2.18.0-cp311-cp311-win_amd64.whl.metadata (3.3 kB)\n",
      "Collecting tensorflow-intel==2.18.0 (from tensorflow)\n",
      "  Obtaining dependency information for tensorflow-intel==2.18.0 from https://files.pythonhosted.org/packages/76/ad/fa6c508a15ff79cb5409294c293388e0999b7d480f84b65e4287277434fe/tensorflow_intel-2.18.0-cp311-cp311-win_amd64.whl.metadata\n",
      "  Downloading tensorflow_intel-2.18.0-cp311-cp311-win_amd64.whl.metadata (4.9 kB)\n",
      "Collecting absl-py>=1.0.0 (from tensorflow-intel==2.18.0->tensorflow)\n",
      "  Obtaining dependency information for absl-py>=1.0.0 from https://files.pythonhosted.org/packages/a2/ad/e0d3c824784ff121c03cc031f944bc7e139a8f1870ffd2845cc2dd76f6c4/absl_py-2.1.0-py3-none-any.whl.metadata\n",
      "  Downloading absl_py-2.1.0-py3-none-any.whl.metadata (2.3 kB)\n",
      "Collecting astunparse>=1.6.0 (from tensorflow-intel==2.18.0->tensorflow)\n",
      "  Obtaining dependency information for astunparse>=1.6.0 from https://files.pythonhosted.org/packages/2b/03/13dde6512ad7b4557eb792fbcf0c653af6076b81e5941d36ec61f7ce6028/astunparse-1.6.3-py2.py3-none-any.whl.metadata\n",
      "  Downloading astunparse-1.6.3-py2.py3-none-any.whl.metadata (4.4 kB)\n",
      "Collecting flatbuffers>=24.3.25 (from tensorflow-intel==2.18.0->tensorflow)\n",
      "  Obtaining dependency information for flatbuffers>=24.3.25 from https://files.pythonhosted.org/packages/0e/e2/b066e6e02d67bf5261a6d7539648c6da3365cc9eff3eb6d82009595d84d9/flatbuffers-25.1.24-py2.py3-none-any.whl.metadata\n",
      "  Downloading flatbuffers-25.1.24-py2.py3-none-any.whl.metadata (875 bytes)\n",
      "Collecting gast!=0.5.0,!=0.5.1,!=0.5.2,>=0.2.1 (from tensorflow-intel==2.18.0->tensorflow)\n",
      "  Obtaining dependency information for gast!=0.5.0,!=0.5.1,!=0.5.2,>=0.2.1 from https://files.pythonhosted.org/packages/a3/61/8001b38461d751cd1a0c3a6ae84346796a5758123f3ed97a1b121dfbf4f3/gast-0.6.0-py3-none-any.whl.metadata\n",
      "  Downloading gast-0.6.0-py3-none-any.whl.metadata (1.3 kB)\n",
      "Collecting google-pasta>=0.1.1 (from tensorflow-intel==2.18.0->tensorflow)\n",
      "  Obtaining dependency information for google-pasta>=0.1.1 from https://files.pythonhosted.org/packages/a3/de/c648ef6835192e6e2cc03f40b19eeda4382c49b5bafb43d88b931c4c74ac/google_pasta-0.2.0-py3-none-any.whl.metadata\n",
      "  Downloading google_pasta-0.2.0-py3-none-any.whl.metadata (814 bytes)\n",
      "Collecting libclang>=13.0.0 (from tensorflow-intel==2.18.0->tensorflow)\n",
      "  Obtaining dependency information for libclang>=13.0.0 from https://files.pythonhosted.org/packages/0b/2d/3f480b1e1d31eb3d6de5e3ef641954e5c67430d5ac93b7fa7e07589576c7/libclang-18.1.1-py2.py3-none-win_amd64.whl.metadata\n",
      "  Downloading libclang-18.1.1-py2.py3-none-win_amd64.whl.metadata (5.3 kB)\n",
      "Collecting opt-einsum>=2.3.2 (from tensorflow-intel==2.18.0->tensorflow)\n",
      "  Obtaining dependency information for opt-einsum>=2.3.2 from https://files.pythonhosted.org/packages/23/cd/066e86230ae37ed0be70aae89aabf03ca8d9f39c8aea0dec8029455b5540/opt_einsum-3.4.0-py3-none-any.whl.metadata\n",
      "  Downloading opt_einsum-3.4.0-py3-none-any.whl.metadata (6.3 kB)\n",
      "Requirement already satisfied: packaging in c:\\users\\anilj\\anaconda3\\lib\\site-packages (from tensorflow-intel==2.18.0->tensorflow) (23.1)\n",
      "Collecting protobuf!=4.21.0,!=4.21.1,!=4.21.2,!=4.21.3,!=4.21.4,!=4.21.5,<6.0.0dev,>=3.20.3 (from tensorflow-intel==2.18.0->tensorflow)\n",
      "  Obtaining dependency information for protobuf!=4.21.0,!=4.21.1,!=4.21.2,!=4.21.3,!=4.21.4,!=4.21.5,<6.0.0dev,>=3.20.3 from https://files.pythonhosted.org/packages/61/fa/aae8e10512b83de633f2646506a6d835b151edf4b30d18d73afd01447253/protobuf-5.29.3-cp310-abi3-win_amd64.whl.metadata\n",
      "  Downloading protobuf-5.29.3-cp310-abi3-win_amd64.whl.metadata (592 bytes)\n",
      "Requirement already satisfied: requests<3,>=2.21.0 in c:\\users\\anilj\\anaconda3\\lib\\site-packages (from tensorflow-intel==2.18.0->tensorflow) (2.31.0)\n",
      "Requirement already satisfied: setuptools in c:\\users\\anilj\\anaconda3\\lib\\site-packages (from tensorflow-intel==2.18.0->tensorflow) (68.0.0)\n",
      "Requirement already satisfied: six>=1.12.0 in c:\\users\\anilj\\anaconda3\\lib\\site-packages (from tensorflow-intel==2.18.0->tensorflow) (1.16.0)\n",
      "Collecting termcolor>=1.1.0 (from tensorflow-intel==2.18.0->tensorflow)\n",
      "  Obtaining dependency information for termcolor>=1.1.0 from https://files.pythonhosted.org/packages/7f/be/df630c387a0a054815d60be6a97eb4e8f17385d5d6fe660e1c02750062b4/termcolor-2.5.0-py3-none-any.whl.metadata\n",
      "  Downloading termcolor-2.5.0-py3-none-any.whl.metadata (6.1 kB)\n",
      "Requirement already satisfied: typing-extensions>=3.6.6 in c:\\users\\anilj\\anaconda3\\lib\\site-packages (from tensorflow-intel==2.18.0->tensorflow) (4.7.1)\n",
      "Requirement already satisfied: wrapt>=1.11.0 in c:\\users\\anilj\\anaconda3\\lib\\site-packages (from tensorflow-intel==2.18.0->tensorflow) (1.14.1)\n",
      "Collecting grpcio<2.0,>=1.24.3 (from tensorflow-intel==2.18.0->tensorflow)\n",
      "  Obtaining dependency information for grpcio<2.0,>=1.24.3 from https://files.pythonhosted.org/packages/55/15/b6cf2c9515c028aff9da6984761a3ab484a472b0dc6435fcd07ced42127d/grpcio-1.70.0-cp311-cp311-win_amd64.whl.metadata\n",
      "  Downloading grpcio-1.70.0-cp311-cp311-win_amd64.whl.metadata (4.0 kB)\n",
      "Collecting tensorboard<2.19,>=2.18 (from tensorflow-intel==2.18.0->tensorflow)\n",
      "  Obtaining dependency information for tensorboard<2.19,>=2.18 from https://files.pythonhosted.org/packages/b1/de/021c1d407befb505791764ad2cbd56ceaaa53a746baed01d2e2143f05f18/tensorboard-2.18.0-py3-none-any.whl.metadata\n",
      "  Downloading tensorboard-2.18.0-py3-none-any.whl.metadata (1.6 kB)\n",
      "Collecting keras>=3.5.0 (from tensorflow-intel==2.18.0->tensorflow)\n",
      "  Obtaining dependency information for keras>=3.5.0 from https://files.pythonhosted.org/packages/fe/cf/aea9087c4d7fafe956a0cc0ff6c3327d10fb8442cda50f992a2186921fa0/keras-3.8.0-py3-none-any.whl.metadata\n",
      "  Downloading keras-3.8.0-py3-none-any.whl.metadata (5.8 kB)\n",
      "Collecting numpy<2.1.0,>=1.26.0 (from tensorflow-intel==2.18.0->tensorflow)\n",
      "  Obtaining dependency information for numpy<2.1.0,>=1.26.0 from https://files.pythonhosted.org/packages/eb/57/3a3f14d3a759dcf9bf6e9eda905794726b758819df4663f217d658a58695/numpy-2.0.2-cp311-cp311-win_amd64.whl.metadata\n",
      "  Downloading numpy-2.0.2-cp311-cp311-win_amd64.whl.metadata (59 kB)\n",
      "     ---------------------------------------- 0.0/59.7 kB ? eta -:--:--\n",
      "     ---------------------------------------- 59.7/59.7 kB 3.1 MB/s eta 0:00:00\n",
      "Collecting h5py>=3.11.0 (from tensorflow-intel==2.18.0->tensorflow)\n",
      "  Obtaining dependency information for h5py>=3.11.0 from https://files.pythonhosted.org/packages/1d/4d/cbd3014eb78d1e449b29beba1f3293a841aa8086c6f7968c383c2c7ff076/h5py-3.12.1-cp311-cp311-win_amd64.whl.metadata\n",
      "  Downloading h5py-3.12.1-cp311-cp311-win_amd64.whl.metadata (2.5 kB)\n",
      "Collecting ml-dtypes<0.5.0,>=0.4.0 (from tensorflow-intel==2.18.0->tensorflow)\n",
      "  Obtaining dependency information for ml-dtypes<0.5.0,>=0.4.0 from https://files.pythonhosted.org/packages/e8/d3/ddfd9878b223b3aa9a930c6100a99afca5cfab7ea703662e00323acb7568/ml_dtypes-0.4.1-cp311-cp311-win_amd64.whl.metadata\n",
      "  Downloading ml_dtypes-0.4.1-cp311-cp311-win_amd64.whl.metadata (20 kB)\n",
      "Collecting tensorflow-io-gcs-filesystem>=0.23.1 (from tensorflow-intel==2.18.0->tensorflow)\n",
      "  Obtaining dependency information for tensorflow-io-gcs-filesystem>=0.23.1 from https://files.pythonhosted.org/packages/ac/4e/9566a313927be582ca99455a9523a097c7888fc819695bdc08415432b202/tensorflow_io_gcs_filesystem-0.31.0-cp311-cp311-win_amd64.whl.metadata\n",
      "  Downloading tensorflow_io_gcs_filesystem-0.31.0-cp311-cp311-win_amd64.whl.metadata (14 kB)\n",
      "Requirement already satisfied: wheel<1.0,>=0.23.0 in c:\\users\\anilj\\anaconda3\\lib\\site-packages (from astunparse>=1.6.0->tensorflow-intel==2.18.0->tensorflow) (0.38.4)\n",
      "Collecting rich (from keras>=3.5.0->tensorflow-intel==2.18.0->tensorflow)\n",
      "  Obtaining dependency information for rich from https://files.pythonhosted.org/packages/19/71/39c7c0d87f8d4e6c020a393182060eaefeeae6c01dab6a84ec346f2567df/rich-13.9.4-py3-none-any.whl.metadata\n",
      "  Downloading rich-13.9.4-py3-none-any.whl.metadata (18 kB)\n",
      "Collecting namex (from keras>=3.5.0->tensorflow-intel==2.18.0->tensorflow)\n",
      "  Obtaining dependency information for namex from https://files.pythonhosted.org/packages/73/59/7854fbfb59f8ae35483ce93493708be5942ebb6328cd85b3a609df629736/namex-0.0.8-py3-none-any.whl.metadata\n",
      "  Downloading namex-0.0.8-py3-none-any.whl.metadata (246 bytes)\n",
      "Collecting optree (from keras>=3.5.0->tensorflow-intel==2.18.0->tensorflow)\n",
      "  Obtaining dependency information for optree from https://files.pythonhosted.org/packages/af/c2/811b76e321b3a83828fa63da17e3409d577ce7d0366a601d913eaeb49679/optree-0.14.0-cp311-cp311-win_amd64.whl.metadata\n",
      "  Downloading optree-0.14.0-cp311-cp311-win_amd64.whl.metadata (48 kB)\n",
      "     ---------------------------------------- 0.0/48.6 kB ? eta -:--:--\n",
      "     ---------------------------------------- 48.6/48.6 kB ? eta 0:00:00\n",
      "Requirement already satisfied: charset-normalizer<4,>=2 in c:\\users\\anilj\\anaconda3\\lib\\site-packages (from requests<3,>=2.21.0->tensorflow-intel==2.18.0->tensorflow) (2.0.4)\n",
      "Requirement already satisfied: idna<4,>=2.5 in c:\\users\\anilj\\anaconda3\\lib\\site-packages (from requests<3,>=2.21.0->tensorflow-intel==2.18.0->tensorflow) (3.4)\n",
      "Requirement already satisfied: urllib3<3,>=1.21.1 in c:\\users\\anilj\\anaconda3\\lib\\site-packages (from requests<3,>=2.21.0->tensorflow-intel==2.18.0->tensorflow) (1.26.16)\n",
      "Requirement already satisfied: certifi>=2017.4.17 in c:\\users\\anilj\\anaconda3\\lib\\site-packages (from requests<3,>=2.21.0->tensorflow-intel==2.18.0->tensorflow) (2023.7.22)\n",
      "Requirement already satisfied: markdown>=2.6.8 in c:\\users\\anilj\\anaconda3\\lib\\site-packages (from tensorboard<2.19,>=2.18->tensorflow-intel==2.18.0->tensorflow) (3.4.1)\n",
      "Collecting tensorboard-data-server<0.8.0,>=0.7.0 (from tensorboard<2.19,>=2.18->tensorflow-intel==2.18.0->tensorflow)\n",
      "  Obtaining dependency information for tensorboard-data-server<0.8.0,>=0.7.0 from https://files.pythonhosted.org/packages/7a/13/e503968fefabd4c6b2650af21e110aa8466fe21432cd7c43a84577a89438/tensorboard_data_server-0.7.2-py3-none-any.whl.metadata\n",
      "  Downloading tensorboard_data_server-0.7.2-py3-none-any.whl.metadata (1.1 kB)\n",
      "Requirement already satisfied: werkzeug>=1.0.1 in c:\\users\\anilj\\anaconda3\\lib\\site-packages (from tensorboard<2.19,>=2.18->tensorflow-intel==2.18.0->tensorflow) (2.2.3)\n",
      "Requirement already satisfied: MarkupSafe>=2.1.1 in c:\\users\\anilj\\anaconda3\\lib\\site-packages (from werkzeug>=1.0.1->tensorboard<2.19,>=2.18->tensorflow-intel==2.18.0->tensorflow) (2.1.1)\n",
      "Requirement already satisfied: markdown-it-py>=2.2.0 in c:\\users\\anilj\\anaconda3\\lib\\site-packages (from rich->keras>=3.5.0->tensorflow-intel==2.18.0->tensorflow) (2.2.0)\n",
      "Requirement already satisfied: pygments<3.0.0,>=2.13.0 in c:\\users\\anilj\\anaconda3\\lib\\site-packages (from rich->keras>=3.5.0->tensorflow-intel==2.18.0->tensorflow) (2.15.1)\n",
      "Requirement already satisfied: mdurl~=0.1 in c:\\users\\anilj\\anaconda3\\lib\\site-packages (from markdown-it-py>=2.2.0->rich->keras>=3.5.0->tensorflow-intel==2.18.0->tensorflow) (0.1.0)\n",
      "Downloading tensorflow-2.18.0-cp311-cp311-win_amd64.whl (7.5 kB)\n",
      "Downloading tensorflow_intel-2.18.0-cp311-cp311-win_amd64.whl (390.2 MB)\n",
      "   ---------------------------------------- 0.0/390.2 MB ? eta -:--:--\n",
      "   ---------------------------------------- 1.4/390.2 MB 30.3 MB/s eta 0:00:13\n",
      "   ---------------------------------------- 3.4/390.2 MB 36.3 MB/s eta 0:00:11\n",
      "    --------------------------------------- 5.4/390.2 MB 38.6 MB/s eta 0:00:10\n",
      "    --------------------------------------- 7.8/390.2 MB 41.6 MB/s eta 0:00:10\n",
      "   - -------------------------------------- 10.0/390.2 MB 39.8 MB/s eta 0:00:10\n",
      "   - -------------------------------------- 12.1/390.2 MB 46.7 MB/s eta 0:00:09\n",
      "   - -------------------------------------- 14.2/390.2 MB 43.7 MB/s eta 0:00:09\n",
      "   - -------------------------------------- 16.9/390.2 MB 46.7 MB/s eta 0:00:08\n",
      "   - -------------------------------------- 19.2/390.2 MB 50.1 MB/s eta 0:00:08\n",
      "   -- ------------------------------------- 22.0/390.2 MB 50.4 MB/s eta 0:00:08\n",
      "   -- ------------------------------------- 22.2/390.2 MB 40.9 MB/s eta 0:00:09\n",
      "   -- ------------------------------------- 25.0/390.2 MB 43.5 MB/s eta 0:00:09\n",
      "   -- ------------------------------------- 27.8/390.2 MB 46.7 MB/s eta 0:00:08\n",
      "   --- ------------------------------------ 29.7/390.2 MB 43.5 MB/s eta 0:00:09\n",
      "   --- ------------------------------------ 31.6/390.2 MB 38.6 MB/s eta 0:00:10\n",
      "   --- ------------------------------------ 33.4/390.2 MB 46.9 MB/s eta 0:00:08\n",
      "   --- ------------------------------------ 35.3/390.2 MB 46.7 MB/s eta 0:00:08\n",
      "   --- ------------------------------------ 37.1/390.2 MB 40.9 MB/s eta 0:00:09\n",
      "   --- ------------------------------------ 39.0/390.2 MB 38.5 MB/s eta 0:00:10\n",
      "   ---- ----------------------------------- 40.4/390.2 MB 36.4 MB/s eta 0:00:10\n",
      "   ---- ----------------------------------- 41.9/390.2 MB 38.5 MB/s eta 0:00:10\n",
      "   ---- ----------------------------------- 43.8/390.2 MB 38.5 MB/s eta 0:00:10\n",
      "   ---- ----------------------------------- 45.6/390.2 MB 40.9 MB/s eta 0:00:09\n",
      "   ---- ----------------------------------- 47.5/390.2 MB 38.6 MB/s eta 0:00:09\n",
      "   ----- ---------------------------------- 49.4/390.2 MB 38.6 MB/s eta 0:00:09\n",
      "   ----- ---------------------------------- 51.2/390.2 MB 36.4 MB/s eta 0:00:10\n",
      "   ----- ---------------------------------- 53.1/390.2 MB 38.5 MB/s eta 0:00:09\n",
      "   ----- ---------------------------------- 54.9/390.2 MB 38.5 MB/s eta 0:00:09\n",
      "   ----- ---------------------------------- 56.8/390.2 MB 38.5 MB/s eta 0:00:09\n",
      "   ------ --------------------------------- 58.6/390.2 MB 38.5 MB/s eta 0:00:09\n",
      "   ------ --------------------------------- 60.4/390.2 MB 38.6 MB/s eta 0:00:09\n",
      "   ------ --------------------------------- 62.1/390.2 MB 40.9 MB/s eta 0:00:09\n",
      "   ------ --------------------------------- 63.9/390.2 MB 38.6 MB/s eta 0:00:09\n",
      "   ------ --------------------------------- 65.8/390.2 MB 38.5 MB/s eta 0:00:09\n",
      "   ------ --------------------------------- 67.6/390.2 MB 40.9 MB/s eta 0:00:08\n",
      "   ------- -------------------------------- 69.5/390.2 MB 38.5 MB/s eta 0:00:09\n",
      "   ------- -------------------------------- 71.3/390.2 MB 40.9 MB/s eta 0:00:08\n",
      "   ------- -------------------------------- 73.2/390.2 MB 38.5 MB/s eta 0:00:09\n",
      "   ------- -------------------------------- 75.0/390.2 MB 38.6 MB/s eta 0:00:09\n",
      "   ------- -------------------------------- 76.9/390.2 MB 38.6 MB/s eta 0:00:09\n",
      "   -------- ------------------------------- 78.7/390.2 MB 38.6 MB/s eta 0:00:09\n",
      "   -------- ------------------------------- 80.6/390.2 MB 38.5 MB/s eta 0:00:09\n",
      "   -------- ------------------------------- 82.0/390.2 MB 38.6 MB/s eta 0:00:08\n",
      "   -------- ------------------------------- 83.8/390.2 MB 38.6 MB/s eta 0:00:08\n",
      "   -------- ------------------------------- 85.6/390.2 MB 40.9 MB/s eta 0:00:08\n",
      "   -------- ------------------------------- 87.5/390.2 MB 38.5 MB/s eta 0:00:08\n",
      "   --------- ------------------------------ 89.3/390.2 MB 38.5 MB/s eta 0:00:08\n",
      "   --------- ------------------------------ 91.1/390.2 MB 38.5 MB/s eta 0:00:08\n",
      "   --------- ------------------------------ 93.0/390.2 MB 38.6 MB/s eta 0:00:08\n",
      "   --------- ------------------------------ 94.9/390.2 MB 40.9 MB/s eta 0:00:08\n",
      "   --------- ------------------------------ 96.8/390.2 MB 36.4 MB/s eta 0:00:09\n",
      "   ---------- ----------------------------- 98.6/390.2 MB 38.5 MB/s eta 0:00:08\n",
      "   ---------- ---------------------------- 100.5/390.2 MB 38.5 MB/s eta 0:00:08\n",
      "   ---------- ---------------------------- 101.9/390.2 MB 38.5 MB/s eta 0:00:08\n",
      "   ---------- ---------------------------- 103.5/390.2 MB 38.5 MB/s eta 0:00:08\n",
      "   ---------- ---------------------------- 105.3/390.2 MB 38.5 MB/s eta 0:00:08\n",
      "   ---------- ---------------------------- 107.1/390.2 MB 40.9 MB/s eta 0:00:07\n",
      "   ---------- ---------------------------- 109.0/390.2 MB 38.6 MB/s eta 0:00:08\n",
      "   ----------- --------------------------- 110.8/390.2 MB 38.6 MB/s eta 0:00:08\n",
      "   ----------- --------------------------- 112.6/390.2 MB 38.6 MB/s eta 0:00:08\n",
      "   ----------- --------------------------- 114.5/390.2 MB 38.5 MB/s eta 0:00:08\n",
      "   ----------- --------------------------- 116.3/390.2 MB 38.5 MB/s eta 0:00:08\n",
      "   ----------- --------------------------- 118.2/390.2 MB 38.5 MB/s eta 0:00:08\n",
      "   ----------- --------------------------- 120.1/390.2 MB 38.5 MB/s eta 0:00:08\n",
      "   ------------ -------------------------- 121.9/390.2 MB 38.5 MB/s eta 0:00:07\n",
      "   ------------ -------------------------- 123.5/390.2 MB 38.6 MB/s eta 0:00:07\n",
      "   ------------ -------------------------- 125.4/390.2 MB 38.6 MB/s eta 0:00:07\n",
      "   ------------ -------------------------- 127.3/390.2 MB 38.6 MB/s eta 0:00:07\n",
      "   ------------ -------------------------- 129.1/390.2 MB 38.5 MB/s eta 0:00:07\n",
      "   ------------- ------------------------- 131.0/390.2 MB 38.5 MB/s eta 0:00:07\n",
      "   ------------- ------------------------- 132.8/390.2 MB 38.5 MB/s eta 0:00:07\n",
      "   ------------- ------------------------- 134.6/390.2 MB 38.5 MB/s eta 0:00:07\n",
      "   ------------- ------------------------- 136.6/390.2 MB 38.5 MB/s eta 0:00:07\n",
      "   ------------- ------------------------- 138.4/390.2 MB 38.6 MB/s eta 0:00:07\n",
      "   -------------- ------------------------ 140.3/390.2 MB 40.9 MB/s eta 0:00:07\n",
      "   -------------- ------------------------ 142.0/390.2 MB 38.6 MB/s eta 0:00:07\n",
      "   -------------- ------------------------ 143.4/390.2 MB 36.4 MB/s eta 0:00:07\n",
      "   -------------- ------------------------ 145.0/390.2 MB 38.6 MB/s eta 0:00:07\n",
      "   -------------- ------------------------ 146.9/390.2 MB 38.6 MB/s eta 0:00:07\n",
      "   -------------- ------------------------ 148.7/390.2 MB 38.5 MB/s eta 0:00:07\n",
      "   --------------- ----------------------- 150.6/390.2 MB 38.5 MB/s eta 0:00:07\n",
      "   --------------- ----------------------- 152.4/390.2 MB 38.5 MB/s eta 0:00:07\n",
      "   --------------- ----------------------- 154.3/390.2 MB 38.5 MB/s eta 0:00:07\n",
      "   --------------- ----------------------- 156.1/390.2 MB 38.5 MB/s eta 0:00:07\n",
      "   --------------- ----------------------- 158.0/390.2 MB 38.6 MB/s eta 0:00:07\n",
      "   --------------- ----------------------- 159.8/390.2 MB 36.4 MB/s eta 0:00:07\n",
      "   ---------------- ---------------------- 161.7/390.2 MB 40.9 MB/s eta 0:00:06\n",
      "   ---------------- ---------------------- 163.5/390.2 MB 38.5 MB/s eta 0:00:06\n",
      "   ---------------- ---------------------- 165.5/390.2 MB 38.5 MB/s eta 0:00:06\n",
      "   ---------------- ---------------------- 167.3/390.2 MB 38.6 MB/s eta 0:00:06\n",
      "   ---------------- ---------------------- 169.2/390.2 MB 38.6 MB/s eta 0:00:06\n",
      "   ----------------- --------------------- 171.1/390.2 MB 38.6 MB/s eta 0:00:06\n",
      "   ----------------- --------------------- 172.9/390.2 MB 38.5 MB/s eta 0:00:06\n",
      "   ----------------- --------------------- 174.8/390.2 MB 38.5 MB/s eta 0:00:06\n",
      "   ----------------- --------------------- 176.6/390.2 MB 38.5 MB/s eta 0:00:06\n",
      "   ----------------- --------------------- 178.5/390.2 MB 38.5 MB/s eta 0:00:06\n",
      "   ------------------ -------------------- 180.3/390.2 MB 38.5 MB/s eta 0:00:06\n",
      "   ------------------ -------------------- 182.2/390.2 MB 38.6 MB/s eta 0:00:06\n",
      "   ------------------ -------------------- 184.1/390.2 MB 36.4 MB/s eta 0:00:06\n",
      "   ------------------ -------------------- 185.5/390.2 MB 36.4 MB/s eta 0:00:06\n",
      "   ------------------ -------------------- 187.3/390.2 MB 38.5 MB/s eta 0:00:06\n",
      "   ------------------ -------------------- 189.2/390.2 MB 38.5 MB/s eta 0:00:06\n",
      "   ------------------- ------------------- 191.0/390.2 MB 38.5 MB/s eta 0:00:06\n",
      "   ------------------- ------------------- 192.8/390.2 MB 40.9 MB/s eta 0:00:05\n",
      "   ------------------- ------------------- 194.7/390.2 MB 38.5 MB/s eta 0:00:06\n",
      "   ------------------- ------------------- 196.5/390.2 MB 38.6 MB/s eta 0:00:06\n",
      "   ------------------- ------------------- 198.4/390.2 MB 38.6 MB/s eta 0:00:05\n",
      "   -------------------- ------------------ 200.2/390.2 MB 38.6 MB/s eta 0:00:05\n",
      "   -------------------- ------------------ 202.1/390.2 MB 38.5 MB/s eta 0:00:05\n",
      "   -------------------- ------------------ 204.0/390.2 MB 38.5 MB/s eta 0:00:05\n",
      "   -------------------- ------------------ 205.6/390.2 MB 38.5 MB/s eta 0:00:05\n",
      "   -------------------- ------------------ 207.2/390.2 MB 38.5 MB/s eta 0:00:05\n",
      "   -------------------- ------------------ 209.1/390.2 MB 36.3 MB/s eta 0:00:05\n",
      "   --------------------- ----------------- 210.9/390.2 MB 38.6 MB/s eta 0:00:05\n",
      "   --------------------- ----------------- 212.7/390.2 MB 38.5 MB/s eta 0:00:05\n",
      "   --------------------- ----------------- 214.6/390.2 MB 38.5 MB/s eta 0:00:05\n",
      "   --------------------- ----------------- 216.4/390.2 MB 40.9 MB/s eta 0:00:05\n",
      "   --------------------- ----------------- 218.2/390.2 MB 40.9 MB/s eta 0:00:05\n",
      "   --------------------- ----------------- 220.1/390.2 MB 40.9 MB/s eta 0:00:05\n",
      "   ---------------------- ---------------- 221.9/390.2 MB 38.5 MB/s eta 0:00:05\n",
      "   ---------------------- ---------------- 223.8/390.2 MB 38.5 MB/s eta 0:00:05\n",
      "   ---------------------- ---------------- 225.3/390.2 MB 38.5 MB/s eta 0:00:05\n",
      "   ---------------------- ---------------- 226.7/390.2 MB 38.5 MB/s eta 0:00:05\n",
      "   ---------------------- ---------------- 228.6/390.2 MB 38.5 MB/s eta 0:00:05\n",
      "   ----------------------- --------------- 230.4/390.2 MB 40.9 MB/s eta 0:00:04\n",
      "   ----------------------- --------------- 232.3/390.2 MB 38.6 MB/s eta 0:00:05\n",
      "   ----------------------- --------------- 234.1/390.2 MB 40.9 MB/s eta 0:00:04\n",
      "   ----------------------- --------------- 236.0/390.2 MB 38.5 MB/s eta 0:00:05\n",
      "   ----------------------- --------------- 237.8/390.2 MB 38.5 MB/s eta 0:00:04\n",
      "   ----------------------- --------------- 239.7/390.2 MB 38.5 MB/s eta 0:00:04\n",
      "   ------------------------ -------------- 241.5/390.2 MB 38.5 MB/s eta 0:00:04\n",
      "   ------------------------ -------------- 243.3/390.2 MB 38.5 MB/s eta 0:00:04\n",
      "   ------------------------ -------------- 245.2/390.2 MB 38.6 MB/s eta 0:00:04\n",
      "   ------------------------ -------------- 247.1/390.2 MB 38.6 MB/s eta 0:00:04\n",
      "   ------------------------ -------------- 249.0/390.2 MB 38.6 MB/s eta 0:00:04\n",
      "   ------------------------- ------------- 250.9/390.2 MB 38.5 MB/s eta 0:00:04\n",
      "   ------------------------- ------------- 252.8/390.2 MB 38.5 MB/s eta 0:00:04\n",
      "   ------------------------- ------------- 254.6/390.2 MB 38.6 MB/s eta 0:00:04\n",
      "   ------------------------- ------------- 256.4/390.2 MB 38.6 MB/s eta 0:00:04\n",
      "   ------------------------- ------------- 258.2/390.2 MB 38.5 MB/s eta 0:00:04\n",
      "   ------------------------- ------------- 260.0/390.2 MB 40.9 MB/s eta 0:00:04\n",
      "   -------------------------- ------------ 261.9/390.2 MB 40.9 MB/s eta 0:00:04\n",
      "   -------------------------- ------------ 263.8/390.2 MB 38.5 MB/s eta 0:00:04\n",
      "   -------------------------- ------------ 265.6/390.2 MB 38.5 MB/s eta 0:00:04\n",
      "   -------------------------- ------------ 267.5/390.2 MB 38.5 MB/s eta 0:00:04\n",
      "   -------------------------- ------------ 269.2/390.2 MB 40.9 MB/s eta 0:00:03\n",
      "   --------------------------- ----------- 271.0/390.2 MB 40.9 MB/s eta 0:00:03\n",
      "   --------------------------- ----------- 272.9/390.2 MB 40.9 MB/s eta 0:00:03\n",
      "   --------------------------- ----------- 274.8/390.2 MB 38.5 MB/s eta 0:00:04\n",
      "   --------------------------- ----------- 276.6/390.2 MB 38.5 MB/s eta 0:00:03\n",
      "   --------------------------- ----------- 278.4/390.2 MB 40.9 MB/s eta 0:00:03\n",
      "   ---------------------------- ---------- 280.3/390.2 MB 38.5 MB/s eta 0:00:03\n",
      "   ---------------------------- ---------- 282.1/390.2 MB 40.9 MB/s eta 0:00:03\n",
      "   ---------------------------- ---------- 284.0/390.2 MB 38.6 MB/s eta 0:00:03\n",
      "   ---------------------------- ---------- 285.8/390.2 MB 38.6 MB/s eta 0:00:03\n",
      "   ---------------------------- ---------- 287.6/390.2 MB 38.6 MB/s eta 0:00:03\n",
      "   ---------------------------- ---------- 289.7/390.2 MB 38.5 MB/s eta 0:00:03\n",
      "   ----------------------------- --------- 291.6/390.2 MB 40.9 MB/s eta 0:00:03\n",
      "   ----------------------------- --------- 293.5/390.2 MB 38.5 MB/s eta 0:00:03\n",
      "   ----------------------------- --------- 295.4/390.2 MB 38.6 MB/s eta 0:00:03\n",
      "   ----------------------------- --------- 297.2/390.2 MB 38.6 MB/s eta 0:00:03\n",
      "   ----------------------------- --------- 299.1/390.2 MB 38.5 MB/s eta 0:00:03\n",
      "   ------------------------------ -------- 300.9/390.2 MB 38.5 MB/s eta 0:00:03\n",
      "   ------------------------------ -------- 302.8/390.2 MB 38.5 MB/s eta 0:00:03\n",
      "   ------------------------------ -------- 304.6/390.2 MB 38.5 MB/s eta 0:00:03\n",
      "   ------------------------------ -------- 306.5/390.2 MB 38.5 MB/s eta 0:00:03\n",
      "   ------------------------------ -------- 308.3/390.2 MB 38.6 MB/s eta 0:00:03\n",
      "   ------------------------------ -------- 310.1/390.2 MB 38.6 MB/s eta 0:00:03\n",
      "   ------------------------------- ------- 311.9/390.2 MB 38.6 MB/s eta 0:00:03\n",
      "   ------------------------------- ------- 313.7/390.2 MB 38.5 MB/s eta 0:00:02\n",
      "   ------------------------------- ------- 315.6/390.2 MB 38.5 MB/s eta 0:00:02\n",
      "   ------------------------------- ------- 317.4/390.2 MB 38.5 MB/s eta 0:00:02\n",
      "   ------------------------------- ------- 319.2/390.2 MB 38.5 MB/s eta 0:00:02\n",
      "   -------------------------------- ------ 321.1/390.2 MB 38.5 MB/s eta 0:00:02\n",
      "   -------------------------------- ------ 322.9/390.2 MB 38.6 MB/s eta 0:00:02\n",
      "   -------------------------------- ------ 324.8/390.2 MB 38.6 MB/s eta 0:00:02\n",
      "   -------------------------------- ------ 326.6/390.2 MB 38.6 MB/s eta 0:00:02\n",
      "   -------------------------------- ------ 328.4/390.2 MB 38.5 MB/s eta 0:00:02\n",
      "   -------------------------------- ------ 330.1/390.2 MB 40.9 MB/s eta 0:00:02\n",
      "   --------------------------------- ----- 331.4/390.2 MB 38.6 MB/s eta 0:00:02\n",
      "   --------------------------------- ----- 333.2/390.2 MB 38.5 MB/s eta 0:00:02\n",
      "   --------------------------------- ----- 335.1/390.2 MB 38.5 MB/s eta 0:00:02\n",
      "   --------------------------------- ----- 336.9/390.2 MB 38.5 MB/s eta 0:00:02\n",
      "   --------------------------------- ----- 338.7/390.2 MB 38.5 MB/s eta 0:00:02\n",
      "   ---------------------------------- ---- 340.6/390.2 MB 38.5 MB/s eta 0:00:02\n",
      "   ---------------------------------- ---- 342.5/390.2 MB 38.6 MB/s eta 0:00:02\n",
      "   ---------------------------------- ---- 344.3/390.2 MB 40.9 MB/s eta 0:00:02\n",
      "   ---------------------------------- ---- 346.2/390.2 MB 38.6 MB/s eta 0:00:02\n",
      "   ---------------------------------- ---- 348.0/390.2 MB 40.9 MB/s eta 0:00:02\n",
      "   ---------------------------------- ---- 349.7/390.2 MB 38.5 MB/s eta 0:00:02\n",
      "   ----------------------------------- --- 351.2/390.2 MB 40.9 MB/s eta 0:00:01\n",
      "   ----------------------------------- --- 353.1/390.2 MB 36.3 MB/s eta 0:00:02\n",
      "   ----------------------------------- --- 354.9/390.2 MB 38.5 MB/s eta 0:00:01\n",
      "   ----------------------------------- --- 356.8/390.2 MB 36.4 MB/s eta 0:00:01\n",
      "   ----------------------------------- --- 358.3/390.2 MB 38.5 MB/s eta 0:00:01\n",
      "   ------------------------------------ -- 360.4/390.2 MB 38.6 MB/s eta 0:00:01\n",
      "   ------------------------------------ -- 362.3/390.2 MB 38.5 MB/s eta 0:00:01\n",
      "   ------------------------------------ -- 364.1/390.2 MB 38.5 MB/s eta 0:00:01\n",
      "   ------------------------------------ -- 365.9/390.2 MB 38.5 MB/s eta 0:00:01\n",
      "   ------------------------------------ -- 367.8/390.2 MB 38.5 MB/s eta 0:00:01\n",
      "   ------------------------------------ -- 369.7/390.2 MB 38.5 MB/s eta 0:00:01\n",
      "   ------------------------------------- - 371.1/390.2 MB 38.5 MB/s eta 0:00:01\n",
      "   ------------------------------------- - 372.6/390.2 MB 38.5 MB/s eta 0:00:01\n",
      "   ------------------------------------- - 374.4/390.2 MB 38.5 MB/s eta 0:00:01\n",
      "   ------------------------------------- - 376.4/390.2 MB 38.6 MB/s eta 0:00:01\n",
      "   ------------------------------------- - 378.1/390.2 MB 38.6 MB/s eta 0:00:01\n",
      "   ------------------------------------- - 380.0/390.2 MB 38.6 MB/s eta 0:00:01\n",
      "   --------------------------------------  381.8/390.2 MB 38.5 MB/s eta 0:00:01\n",
      "   --------------------------------------  383.7/390.2 MB 40.9 MB/s eta 0:00:01\n",
      "   --------------------------------------  385.6/390.2 MB 38.5 MB/s eta 0:00:01\n",
      "   --------------------------------------  387.4/390.2 MB 38.5 MB/s eta 0:00:01\n",
      "   --------------------------------------  389.2/390.2 MB 38.5 MB/s eta 0:00:01\n",
      "   --------------------------------------  390.2/390.2 MB 38.5 MB/s eta 0:00:01\n",
      "   --------------------------------------  390.2/390.2 MB 38.5 MB/s eta 0:00:01\n",
      "   --------------------------------------  390.2/390.2 MB 38.5 MB/s eta 0:00:01\n",
      "   --------------------------------------  390.2/390.2 MB 38.5 MB/s eta 0:00:01\n",
      "   --------------------------------------  390.2/390.2 MB 38.5 MB/s eta 0:00:01\n",
      "   --------------------------------------- 390.2/390.2 MB 12.4 MB/s eta 0:00:00\n",
      "Downloading absl_py-2.1.0-py3-none-any.whl (133 kB)\n",
      "   ---------------------------------------- 0.0/133.7 kB ? eta -:--:--\n",
      "   ---------------------------------------- 133.7/133.7 kB ? eta 0:00:00\n",
      "Downloading astunparse-1.6.3-py2.py3-none-any.whl (12 kB)\n",
      "Downloading flatbuffers-25.1.24-py2.py3-none-any.whl (30 kB)\n",
      "Downloading gast-0.6.0-py3-none-any.whl (21 kB)\n",
      "Downloading google_pasta-0.2.0-py3-none-any.whl (57 kB)\n",
      "   ---------------------------------------- 0.0/57.5 kB ? eta -:--:--\n",
      "   ---------------------------------------- 57.5/57.5 kB 3.0 MB/s eta 0:00:00\n",
      "Downloading grpcio-1.70.0-cp311-cp311-win_amd64.whl (4.3 MB)\n",
      "   ---------------------------------------- 0.0/4.3 MB ? eta -:--:--\n",
      "   -------------- ------------------------- 1.6/4.3 MB 50.2 MB/s eta 0:00:01\n",
      "   -------------------------------- ------- 3.5/4.3 MB 45.2 MB/s eta 0:00:01\n",
      "   ---------------------------------------- 4.3/4.3 MB 34.4 MB/s eta 0:00:00\n",
      "Downloading h5py-3.12.1-cp311-cp311-win_amd64.whl (3.0 MB)\n",
      "   ---------------------------------------- 0.0/3.0 MB ? eta -:--:--\n",
      "   ------------------- -------------------- 1.5/3.0 MB 45.1 MB/s eta 0:00:01\n",
      "   ---------------------------------------  3.0/3.0 MB 38.3 MB/s eta 0:00:01\n",
      "   ---------------------------------------- 3.0/3.0 MB 38.4 MB/s eta 0:00:00\n",
      "Downloading keras-3.8.0-py3-none-any.whl (1.3 MB)\n",
      "   ---------------------------------------- 0.0/1.3 MB ? eta -:--:--\n",
      "   ---------------------------------------- 1.3/1.3 MB 41.7 MB/s eta 0:00:00\n",
      "Downloading libclang-18.1.1-py2.py3-none-win_amd64.whl (26.4 MB)\n",
      "   ---------------------------------------- 0.0/26.4 MB ? eta -:--:--\n",
      "   --- ------------------------------------ 2.0/26.4 MB 42.5 MB/s eta 0:00:01\n",
      "   ------ --------------------------------- 4.0/26.4 MB 42.3 MB/s eta 0:00:01\n",
      "   --------- ------------------------------ 6.3/26.4 MB 50.7 MB/s eta 0:00:01\n",
      "   ------------ --------------------------- 8.6/26.4 MB 45.7 MB/s eta 0:00:01\n",
      "   ---------------- ----------------------- 10.6/26.4 MB 46.7 MB/s eta 0:00:01\n",
      "   ------------------ --------------------- 12.4/26.4 MB 43.7 MB/s eta 0:00:01\n",
      "   ---------------------- ----------------- 14.6/26.4 MB 46.9 MB/s eta 0:00:01\n",
      "   ------------------------- -------------- 16.7/26.4 MB 43.5 MB/s eta 0:00:01\n",
      "   ----------------------------- ---------- 19.3/26.4 MB 43.5 MB/s eta 0:00:01\n",
      "   --------------------------------- ------ 21.9/26.4 MB 46.7 MB/s eta 0:00:01\n",
      "   ------------------------------------ --- 23.9/26.4 MB 46.9 MB/s eta 0:00:01\n",
      "   -------------------------------------- - 25.7/26.4 MB 43.7 MB/s eta 0:00:01\n",
      "   ---------------------------------------  26.4/26.4 MB 43.5 MB/s eta 0:00:01\n",
      "   ---------------------------------------  26.4/26.4 MB 43.5 MB/s eta 0:00:01\n",
      "   ---------------------------------------  26.4/26.4 MB 43.5 MB/s eta 0:00:01\n",
      "   ---------------------------------------  26.4/26.4 MB 43.5 MB/s eta 0:00:01\n",
      "   ---------------------------------------  26.4/26.4 MB 43.5 MB/s eta 0:00:01\n",
      "   ---------------------------------------  26.4/26.4 MB 43.5 MB/s eta 0:00:01\n",
      "   ---------------------------------------  26.4/26.4 MB 43.5 MB/s eta 0:00:01\n",
      "   ---------------------------------------  26.4/26.4 MB 43.5 MB/s eta 0:00:01\n",
      "   ---------------------------------------  26.4/26.4 MB 43.5 MB/s eta 0:00:01\n",
      "   ---------------------------------------  26.4/26.4 MB 43.5 MB/s eta 0:00:01\n",
      "   ---------------------------------------  26.4/26.4 MB 43.5 MB/s eta 0:00:01\n",
      "   ---------------------------------------  26.4/26.4 MB 43.5 MB/s eta 0:00:01\n",
      "   ---------------------------------------  26.4/26.4 MB 43.5 MB/s eta 0:00:01\n",
      "   ---------------------------------------  26.4/26.4 MB 43.5 MB/s eta 0:00:01\n",
      "   ---------------------------------------  26.4/26.4 MB 43.5 MB/s eta 0:00:01\n",
      "   ---------------------------------------  26.4/26.4 MB 43.5 MB/s eta 0:00:01\n",
      "   ---------------------------------------  26.4/26.4 MB 43.5 MB/s eta 0:00:01\n",
      "   ---------------------------------------  26.4/26.4 MB 43.5 MB/s eta 0:00:01\n",
      "   ---------------------------------------  26.4/26.4 MB 43.5 MB/s eta 0:00:01\n",
      "   ---------------------------------------  26.4/26.4 MB 43.5 MB/s eta 0:00:01\n",
      "   ---------------------------------------- 26.4/26.4 MB 8.7 MB/s eta 0:00:00\n",
      "Downloading ml_dtypes-0.4.1-cp311-cp311-win_amd64.whl (126 kB)\n",
      "   ---------------------------------------- 0.0/126.7 kB ? eta -:--:--\n",
      "   -------------------------------------- - 122.9/126.7 kB ? eta -:--:--\n",
      "   ---------------------------------------- 126.7/126.7 kB 2.5 MB/s eta 0:00:00\n",
      "Downloading numpy-2.0.2-cp311-cp311-win_amd64.whl (15.9 MB)\n",
      "   ---------------------------------------- 0.0/15.9 MB ? eta -:--:--\n",
      "   ---- ----------------------------------- 2.0/15.9 MB 41.4 MB/s eta 0:00:01\n",
      "   ----------- ---------------------------- 4.5/15.9 MB 48.3 MB/s eta 0:00:01\n",
      "   ----------------- ---------------------- 7.0/15.9 MB 49.8 MB/s eta 0:00:01\n",
      "   ------------------------ --------------- 9.7/15.9 MB 56.3 MB/s eta 0:00:01\n",
      "   ------------------------------ --------- 12.1/15.9 MB 54.4 MB/s eta 0:00:01\n",
      "   ------------------------------------- -- 14.8/15.9 MB 54.4 MB/s eta 0:00:01\n",
      "   ---------------------------------------  15.9/15.9 MB 50.4 MB/s eta 0:00:01\n",
      "   ---------------------------------------  15.9/15.9 MB 50.4 MB/s eta 0:00:01\n",
      "   ---------------------------------------- 15.9/15.9 MB 38.6 MB/s eta 0:00:00\n",
      "Downloading opt_einsum-3.4.0-py3-none-any.whl (71 kB)\n",
      "   ---------------------------------------- 0.0/71.9 kB ? eta -:--:--\n",
      "   ---------------------------------------- 71.9/71.9 kB 2.0 MB/s eta 0:00:00\n",
      "Downloading protobuf-5.29.3-cp310-abi3-win_amd64.whl (434 kB)\n",
      "   ---------------------------------------- 0.0/434.5 kB ? eta -:--:--\n",
      "   ---------------------------------------  430.1/434.5 kB ? eta -:--:--\n",
      "   ---------------------------------------- 434.5/434.5 kB 9.0 MB/s eta 0:00:00\n",
      "Downloading tensorboard-2.18.0-py3-none-any.whl (5.5 MB)\n",
      "   ---------------------------------------- 0.0/5.5 MB ? eta -:--:--\n",
      "   --------------- ------------------------ 2.2/5.5 MB 46.4 MB/s eta 0:00:01\n",
      "   -------------------------------- ------- 4.4/5.5 MB 46.7 MB/s eta 0:00:01\n",
      "   ---------------------------------------- 5.5/5.5 MB 43.9 MB/s eta 0:00:00\n",
      "Downloading tensorflow_io_gcs_filesystem-0.31.0-cp311-cp311-win_amd64.whl (1.5 MB)\n",
      "   ---------------------------------------- 0.0/1.5 MB ? eta -:--:--\n",
      "   ---------------------------------------  1.5/1.5 MB 92.2 MB/s eta 0:00:01\n",
      "   ---------------------------------------- 1.5/1.5 MB 46.1 MB/s eta 0:00:00\n",
      "Downloading termcolor-2.5.0-py3-none-any.whl (7.8 kB)\n",
      "Downloading tensorboard_data_server-0.7.2-py3-none-any.whl (2.4 kB)\n",
      "Downloading namex-0.0.8-py3-none-any.whl (5.8 kB)\n",
      "Downloading optree-0.14.0-cp311-cp311-win_amd64.whl (300 kB)\n",
      "   ---------------------------------------- 0.0/300.4 kB ? eta -:--:--\n",
      "   --------------------------------------- 300.4/300.4 kB 19.3 MB/s eta 0:00:00\n",
      "Downloading rich-13.9.4-py3-none-any.whl (242 kB)\n",
      "   ---------------------------------------- 0.0/242.4 kB ? eta -:--:--\n",
      "   ---------------------------------------- 242.4/242.4 kB ? eta 0:00:00\n",
      "Installing collected packages: namex, libclang, flatbuffers, termcolor, tensorflow-io-gcs-filesystem, tensorboard-data-server, protobuf, optree, opt-einsum, numpy, grpcio, google-pasta, gast, astunparse, absl-py, tensorboard, rich, ml-dtypes, h5py, keras, tensorflow-intel, tensorflow\n",
      "  Attempting uninstall: numpy\n",
      "    Found existing installation: numpy 1.24.3\n",
      "    Uninstalling numpy-1.24.3:\n",
      "      Successfully uninstalled numpy-1.24.3\n"
     ]
    },
    {
     "name": "stderr",
     "output_type": "stream",
     "text": [
      "ERROR: Could not install packages due to an OSError: [WinError 5] Access is denied: 'C:\\\\Users\\\\anilj\\\\anaconda3\\\\Lib\\\\site-packages\\\\~umpy\\\\core\\\\_multiarray_tests.cp311-win_amd64.pyd'\n",
      "Consider using the `--user` option or check the permissions.\n",
      "\n"
     ]
    }
   ],
   "source": [
    "!pip install tensorflow"
   ]
  },
  {
   "cell_type": "code",
   "execution_count": 1,
   "metadata": {
    "id": "lF3od_oiiLla"
   },
   "outputs": [
    {
     "ename": "ModuleNotFoundError",
     "evalue": "No module named 'tensorflow'",
     "output_type": "error",
     "traceback": [
      "\u001b[1;31m---------------------------------------------------------------------------\u001b[0m",
      "\u001b[1;31mModuleNotFoundError\u001b[0m                       Traceback (most recent call last)",
      "Cell \u001b[1;32mIn[1], line 1\u001b[0m\n\u001b[1;32m----> 1\u001b[0m \u001b[38;5;28;01mfrom\u001b[39;00m \u001b[38;5;21;01mtensorflow\u001b[39;00m\u001b[38;5;21;01m.\u001b[39;00m\u001b[38;5;21;01mkeras\u001b[39;00m\u001b[38;5;21;01m.\u001b[39;00m\u001b[38;5;21;01mdatasets\u001b[39;00m \u001b[38;5;28;01mimport\u001b[39;00m boston_housing\n",
      "\u001b[1;31mModuleNotFoundError\u001b[0m: No module named 'tensorflow'"
     ]
    }
   ],
   "source": [
    "from tensorflow.keras.datasets import boston_housing"
   ]
  },
  {
   "cell_type": "code",
   "execution_count": null,
   "metadata": {
    "id": "6UZHWnCFiLli"
   },
   "outputs": [],
   "source": [
    "(X_train, y_train), (X_test, y_test) = boston_housing.load_data()"
   ]
  },
  {
   "cell_type": "markdown",
   "metadata": {
    "id": "ex6l3HwMiLlm"
   },
   "source": [
    "### Dataset Description\n",
    "- Boston housing dataset has total 506 data instances (404 training & 102 test)\n",
    "- 13 attributes (features) to predict \"the median values of the houses at a location\"\n",
    "- Doc: https://keras.io/datasets/"
   ]
  },
  {
   "cell_type": "code",
   "execution_count": null,
   "metadata": {
    "colab": {
     "base_uri": "https://localhost:8080/"
    },
    "executionInfo": {
     "elapsed": 667,
     "status": "ok",
     "timestamp": 1604615545813,
     "user": {
      "displayName": "Buomsoo Kim",
      "photoUrl": "",
      "userId": "18268696804115368229"
     },
     "user_tz": 420
    },
    "id": "fNoiTI7riLln",
    "outputId": "8f705f12-2a42-4de3-8e1f-5e56f540294f"
   },
   "outputs": [
    {
     "name": "stdout",
     "output_type": "stream",
     "text": [
      "(404, 13)\n",
      "(102, 13)\n",
      "(404,)\n",
      "(102,)\n"
     ]
    }
   ],
   "source": [
    "print(X_train.shape)\n",
    "print(X_test.shape)\n",
    "print(y_train.shape)\n",
    "print(y_test.shape)"
   ]
  },
  {
   "cell_type": "markdown",
   "metadata": {
    "id": "JOYtmK73iLlr"
   },
   "source": [
    "### 1. Creating a model\n",
    "- Keras model object can be created with Sequential class\n",
    "- At the outset, the model is empty per se. It is completed by **'adding'** additional layers and compilation\n",
    "- Doc: https://keras.io/models/sequential/"
   ]
  },
  {
   "cell_type": "code",
   "execution_count": 1,
   "metadata": {
    "executionInfo": {
     "elapsed": 2011,
     "status": "ok",
     "timestamp": 1604684692159,
     "user": {
      "displayName": "Buomsoo Kim",
      "photoUrl": "",
      "userId": "18268696804115368229"
     },
     "user_tz": 420
    },
    "id": "acq8TcfNiLls"
   },
   "outputs": [],
   "source": [
    "from tensorflow.keras.models import Sequential"
   ]
  },
  {
   "cell_type": "code",
   "execution_count": null,
   "metadata": {
    "id": "oNniEkDfiLlv"
   },
   "outputs": [],
   "source": [
    "model = Sequential()"
   ]
  },
  {
   "cell_type": "markdown",
   "metadata": {
    "id": "NZnKUkU7iLl3"
   },
   "source": [
    "### 1-1. Adding layers\n",
    "- Keras layers can be **added** to the model\n",
    "- Adding layers are like stacking lego blocks one by one\n",
    "- Doc: https://keras.io/layers/core/"
   ]
  },
  {
   "cell_type": "code",
   "execution_count": 2,
   "metadata": {
    "executionInfo": {
     "elapsed": 2008,
     "status": "ok",
     "timestamp": 1604684692162,
     "user": {
      "displayName": "Buomsoo Kim",
      "photoUrl": "",
      "userId": "18268696804115368229"
     },
     "user_tz": 420
    },
    "id": "kqmgQvhbiLl4"
   },
   "outputs": [],
   "source": [
    "from tensorflow.keras.layers import Activation, Dense"
   ]
  },
  {
   "cell_type": "code",
   "execution_count": null,
   "metadata": {
    "id": "uioANxXniLl9"
   },
   "outputs": [],
   "source": [
    "# Keras model with two hidden layer with 10 neurons each \n",
    "model.add(Dense(10, input_shape = (13,)))    # Input layer => input_shape should be explicitly designated\n",
    "model.add(Activation('sigmoid'))\n",
    "model.add(Dense(10))                         # Hidden layer => only output dimension should be designated\n",
    "model.add(Activation('sigmoid'))\n",
    "model.add(Dense(10))                         # Hidden layer => only output dimension should be designated\n",
    "model.add(Activation('sigmoid'))\n",
    "model.add(Dense(1))                          # Output layer => output dimension = 1 since it is regression problem"
   ]
  },
  {
   "cell_type": "code",
   "execution_count": null,
   "metadata": {
    "id": "6oiel4R4iLmA"
   },
   "outputs": [],
   "source": [
    "# This is equivalent to the above code block\n",
    "model.add(Dense(10, input_shape = (13,), activation = 'sigmoid'))\n",
    "model.add(Dense(10, activation = 'sigmoid'))\n",
    "model.add(Dense(10, activation = 'sigmoid'))\n",
    "model.add(Dense(1))"
   ]
  },
  {
   "cell_type": "markdown",
   "metadata": {
    "id": "j3myo_gwiLmD"
   },
   "source": [
    "### 1-2. Model compile\n",
    "- Keras model should be \"compiled\" prior to training\n",
    "- Types of loss (function) and optimizer should be designated\n",
    "    - Doc (optimizers): https://keras.io/optimizers/\n",
    "    - Doc (losses): https://keras.io/losses/"
   ]
  },
  {
   "cell_type": "code",
   "execution_count": null,
   "metadata": {
    "id": "Z35lcQ9wiLmD"
   },
   "outputs": [],
   "source": [
    "from tensorflow.keras import optimizers"
   ]
  },
  {
   "cell_type": "code",
   "execution_count": null,
   "metadata": {
    "id": "G7CnpfQYiLmF"
   },
   "outputs": [],
   "source": [
    "sgd = optimizers.SGD(lr = 0.01)    # stochastic gradient descent optimizer"
   ]
  },
  {
   "cell_type": "code",
   "execution_count": null,
   "metadata": {
    "id": "smk7k7S3iLmI"
   },
   "outputs": [],
   "source": [
    "model.compile(optimizer = sgd, loss = 'mean_squared_error', metrics = ['mse'])    # for regression problems, mean squared error (MSE) is often employed"
   ]
  },
  {
   "cell_type": "markdown",
   "metadata": {
    "id": "Y8bYluaBiLmM"
   },
   "source": [
    "### Summary of the model"
   ]
  },
  {
   "cell_type": "code",
   "execution_count": null,
   "metadata": {
    "colab": {
     "base_uri": "https://localhost:8080/"
    },
    "executionInfo": {
     "elapsed": 604,
     "status": "ok",
     "timestamp": 1604615575002,
     "user": {
      "displayName": "Buomsoo Kim",
      "photoUrl": "",
      "userId": "18268696804115368229"
     },
     "user_tz": 420
    },
    "id": "frQTX4-_iLmM",
    "outputId": "8b39e2c7-3fba-4f8f-b26d-3d29a50af263",
    "scrolled": false
   },
   "outputs": [
    {
     "name": "stdout",
     "output_type": "stream",
     "text": [
      "Model: \"sequential\"\n",
      "_________________________________________________________________\n",
      "Layer (type)                 Output Shape              Param #   \n",
      "=================================================================\n",
      "dense (Dense)                (None, 10)                140       \n",
      "_________________________________________________________________\n",
      "activation (Activation)      (None, 10)                0         \n",
      "_________________________________________________________________\n",
      "dense_1 (Dense)              (None, 10)                110       \n",
      "_________________________________________________________________\n",
      "activation_1 (Activation)    (None, 10)                0         \n",
      "_________________________________________________________________\n",
      "dense_2 (Dense)              (None, 10)                110       \n",
      "_________________________________________________________________\n",
      "activation_2 (Activation)    (None, 10)                0         \n",
      "_________________________________________________________________\n",
      "dense_3 (Dense)              (None, 1)                 11        \n",
      "_________________________________________________________________\n",
      "dense_4 (Dense)              (None, 10)                20        \n",
      "_________________________________________________________________\n",
      "dense_5 (Dense)              (None, 10)                110       \n",
      "_________________________________________________________________\n",
      "dense_6 (Dense)              (None, 10)                110       \n",
      "_________________________________________________________________\n",
      "dense_7 (Dense)              (None, 1)                 11        \n",
      "=================================================================\n",
      "Total params: 622\n",
      "Trainable params: 622\n",
      "Non-trainable params: 0\n",
      "_________________________________________________________________\n"
     ]
    }
   ],
   "source": [
    "model.summary()"
   ]
  },
  {
   "cell_type": "markdown",
   "metadata": {
    "id": "hqXWTsCqiLmO"
   },
   "source": [
    "### 2. Training\n",
    "- Training the model with training data provided"
   ]
  },
  {
   "cell_type": "code",
   "execution_count": null,
   "metadata": {
    "colab": {
     "base_uri": "https://localhost:8080/"
    },
    "executionInfo": {
     "elapsed": 3253,
     "status": "ok",
     "timestamp": 1604615580871,
     "user": {
      "displayName": "Buomsoo Kim",
      "photoUrl": "",
      "userId": "18268696804115368229"
     },
     "user_tz": 420
    },
    "id": "pemL_26CiLmP",
    "outputId": "e739ab33-83e7-4ec5-d3c9-ea8b404a64d4"
   },
   "outputs": [
    {
     "name": "stdout",
     "output_type": "stream",
     "text": [
      "Epoch 1/100\n",
      "9/9 [==============================] - 0s 1ms/step - loss: 327.1941 - mse: 327.1941\n",
      "Epoch 2/100\n",
      "9/9 [==============================] - 0s 1ms/step - loss: 100.1824 - mse: 100.1824\n",
      "Epoch 3/100\n",
      "9/9 [==============================] - 0s 1ms/step - loss: 84.7834 - mse: 84.7834\n",
      "Epoch 4/100\n",
      "9/9 [==============================] - 0s 1ms/step - loss: 86.1525 - mse: 86.1525\n",
      "Epoch 5/100\n",
      "9/9 [==============================] - 0s 1ms/step - loss: 86.5417 - mse: 86.5417\n",
      "Epoch 6/100\n",
      "9/9 [==============================] - 0s 1ms/step - loss: 86.0243 - mse: 86.0243\n",
      "Epoch 7/100\n",
      "9/9 [==============================] - 0s 1ms/step - loss: 85.9349 - mse: 85.9349\n",
      "Epoch 8/100\n",
      "9/9 [==============================] - 0s 1ms/step - loss: 85.1025 - mse: 85.1025\n",
      "Epoch 9/100\n",
      "9/9 [==============================] - 0s 1ms/step - loss: 84.6883 - mse: 84.6883\n",
      "Epoch 10/100\n",
      "9/9 [==============================] - 0s 1ms/step - loss: 84.9514 - mse: 84.9514\n",
      "Epoch 11/100\n",
      "9/9 [==============================] - 0s 1ms/step - loss: 85.0368 - mse: 85.0368\n",
      "Epoch 12/100\n",
      "9/9 [==============================] - 0s 1ms/step - loss: 85.3205 - mse: 85.3205\n",
      "Epoch 13/100\n",
      "9/9 [==============================] - 0s 1ms/step - loss: 84.8299 - mse: 84.8299\n",
      "Epoch 14/100\n",
      "9/9 [==============================] - 0s 2ms/step - loss: 85.0295 - mse: 85.0295\n",
      "Epoch 15/100\n",
      "9/9 [==============================] - 0s 1ms/step - loss: 85.2393 - mse: 85.2393\n",
      "Epoch 16/100\n",
      "9/9 [==============================] - 0s 1ms/step - loss: 84.7069 - mse: 84.7069\n",
      "Epoch 17/100\n",
      "9/9 [==============================] - 0s 1ms/step - loss: 85.2766 - mse: 85.2766\n",
      "Epoch 18/100\n",
      "9/9 [==============================] - 0s 1ms/step - loss: 85.1940 - mse: 85.1940\n",
      "Epoch 19/100\n",
      "9/9 [==============================] - 0s 1ms/step - loss: 85.0598 - mse: 85.0598\n",
      "Epoch 20/100\n",
      "9/9 [==============================] - 0s 2ms/step - loss: 84.9116 - mse: 84.9116\n",
      "Epoch 21/100\n",
      "9/9 [==============================] - 0s 2ms/step - loss: 85.2788 - mse: 85.2788\n",
      "Epoch 22/100\n",
      "9/9 [==============================] - 0s 1ms/step - loss: 85.3580 - mse: 85.3580\n",
      "Epoch 23/100\n",
      "9/9 [==============================] - 0s 1ms/step - loss: 85.3399 - mse: 85.3399\n",
      "Epoch 24/100\n",
      "9/9 [==============================] - 0s 1ms/step - loss: 85.7195 - mse: 85.7195\n",
      "Epoch 25/100\n",
      "9/9 [==============================] - 0s 2ms/step - loss: 85.3033 - mse: 85.3033\n",
      "Epoch 26/100\n",
      "9/9 [==============================] - 0s 2ms/step - loss: 85.1848 - mse: 85.1848\n",
      "Epoch 27/100\n",
      "9/9 [==============================] - 0s 1ms/step - loss: 84.9235 - mse: 84.9235\n",
      "Epoch 28/100\n",
      "9/9 [==============================] - 0s 2ms/step - loss: 85.0472 - mse: 85.0472\n",
      "Epoch 29/100\n",
      "9/9 [==============================] - 0s 1ms/step - loss: 84.7654 - mse: 84.7654\n",
      "Epoch 30/100\n",
      "9/9 [==============================] - 0s 1ms/step - loss: 84.8567 - mse: 84.8567\n",
      "Epoch 31/100\n",
      "9/9 [==============================] - 0s 2ms/step - loss: 85.3040 - mse: 85.3040\n",
      "Epoch 32/100\n",
      "9/9 [==============================] - 0s 2ms/step - loss: 85.0068 - mse: 85.0068\n",
      "Epoch 33/100\n",
      "9/9 [==============================] - 0s 2ms/step - loss: 84.9097 - mse: 84.9097\n",
      "Epoch 34/100\n",
      "9/9 [==============================] - 0s 2ms/step - loss: 84.8251 - mse: 84.8251\n",
      "Epoch 35/100\n",
      "9/9 [==============================] - 0s 1ms/step - loss: 85.1826 - mse: 85.1826\n",
      "Epoch 36/100\n",
      "9/9 [==============================] - 0s 1ms/step - loss: 84.8694 - mse: 84.8694\n",
      "Epoch 37/100\n",
      "9/9 [==============================] - 0s 2ms/step - loss: 85.3138 - mse: 85.3138\n",
      "Epoch 38/100\n",
      "9/9 [==============================] - 0s 2ms/step - loss: 87.5671 - mse: 87.5671\n",
      "Epoch 39/100\n",
      "9/9 [==============================] - 0s 1ms/step - loss: 84.7633 - mse: 84.7633\n",
      "Epoch 40/100\n",
      "9/9 [==============================] - 0s 2ms/step - loss: 84.7638 - mse: 84.7638\n",
      "Epoch 41/100\n",
      "9/9 [==============================] - 0s 1ms/step - loss: 84.8094 - mse: 84.8094\n",
      "Epoch 42/100\n",
      "9/9 [==============================] - 0s 2ms/step - loss: 84.8136 - mse: 84.8136\n",
      "Epoch 43/100\n",
      "9/9 [==============================] - 0s 1ms/step - loss: 85.5642 - mse: 85.5642\n",
      "Epoch 44/100\n",
      "9/9 [==============================] - 0s 2ms/step - loss: 85.1560 - mse: 85.1560\n",
      "Epoch 45/100\n",
      "9/9 [==============================] - 0s 2ms/step - loss: 85.2163 - mse: 85.2163\n",
      "Epoch 46/100\n",
      "9/9 [==============================] - 0s 2ms/step - loss: 85.4990 - mse: 85.4990\n",
      "Epoch 47/100\n",
      "9/9 [==============================] - 0s 1ms/step - loss: 85.0422 - mse: 85.0422\n",
      "Epoch 48/100\n",
      "9/9 [==============================] - 0s 2ms/step - loss: 84.6849 - mse: 84.6849\n",
      "Epoch 49/100\n",
      "9/9 [==============================] - 0s 2ms/step - loss: 85.5211 - mse: 85.5211\n",
      "Epoch 50/100\n",
      "9/9 [==============================] - 0s 1ms/step - loss: 86.0649 - mse: 86.0649\n",
      "Epoch 51/100\n",
      "9/9 [==============================] - 0s 1ms/step - loss: 84.8284 - mse: 84.8284\n",
      "Epoch 52/100\n",
      "9/9 [==============================] - 0s 1ms/step - loss: 84.6928 - mse: 84.6928\n",
      "Epoch 53/100\n",
      "9/9 [==============================] - 0s 1ms/step - loss: 84.7896 - mse: 84.7896\n",
      "Epoch 54/100\n",
      "9/9 [==============================] - 0s 1ms/step - loss: 84.7333 - mse: 84.7333\n",
      "Epoch 55/100\n",
      "9/9 [==============================] - 0s 2ms/step - loss: 84.7539 - mse: 84.7539\n",
      "Epoch 56/100\n",
      "9/9 [==============================] - 0s 2ms/step - loss: 84.7660 - mse: 84.7660\n",
      "Epoch 57/100\n",
      "9/9 [==============================] - 0s 2ms/step - loss: 84.7308 - mse: 84.7308\n",
      "Epoch 58/100\n",
      "9/9 [==============================] - 0s 1ms/step - loss: 85.3436 - mse: 85.3436\n",
      "Epoch 59/100\n",
      "9/9 [==============================] - 0s 2ms/step - loss: 85.1266 - mse: 85.1266\n",
      "Epoch 60/100\n",
      "9/9 [==============================] - 0s 2ms/step - loss: 84.9594 - mse: 84.9594\n",
      "Epoch 61/100\n",
      "9/9 [==============================] - 0s 1ms/step - loss: 84.9980 - mse: 84.9980\n",
      "Epoch 62/100\n",
      "9/9 [==============================] - 0s 2ms/step - loss: 84.9737 - mse: 84.9737\n",
      "Epoch 63/100\n",
      "9/9 [==============================] - 0s 2ms/step - loss: 84.9171 - mse: 84.9171\n",
      "Epoch 64/100\n",
      "9/9 [==============================] - 0s 1ms/step - loss: 84.7895 - mse: 84.7895\n",
      "Epoch 65/100\n",
      "9/9 [==============================] - 0s 2ms/step - loss: 84.9443 - mse: 84.9443\n",
      "Epoch 66/100\n",
      "9/9 [==============================] - 0s 2ms/step - loss: 84.8253 - mse: 84.8253\n",
      "Epoch 67/100\n",
      "9/9 [==============================] - 0s 1ms/step - loss: 84.9867 - mse: 84.9867\n",
      "Epoch 68/100\n",
      "9/9 [==============================] - 0s 1ms/step - loss: 85.1650 - mse: 85.1650\n",
      "Epoch 69/100\n",
      "9/9 [==============================] - 0s 1ms/step - loss: 85.6949 - mse: 85.6949\n",
      "Epoch 70/100\n",
      "9/9 [==============================] - 0s 1ms/step - loss: 84.9916 - mse: 84.9916\n",
      "Epoch 71/100\n",
      "9/9 [==============================] - 0s 1ms/step - loss: 84.8611 - mse: 84.8611\n",
      "Epoch 72/100\n",
      "9/9 [==============================] - 0s 2ms/step - loss: 84.7077 - mse: 84.7077\n",
      "Epoch 73/100\n",
      "9/9 [==============================] - 0s 1ms/step - loss: 84.9602 - mse: 84.9602\n",
      "Epoch 74/100\n",
      "9/9 [==============================] - 0s 2ms/step - loss: 84.7479 - mse: 84.7479\n",
      "Epoch 75/100\n",
      "9/9 [==============================] - 0s 1ms/step - loss: 85.5453 - mse: 85.5453\n",
      "Epoch 76/100\n",
      "9/9 [==============================] - 0s 1ms/step - loss: 85.8201 - mse: 85.8201\n",
      "Epoch 77/100\n",
      "9/9 [==============================] - 0s 2ms/step - loss: 84.9072 - mse: 84.9072\n",
      "Epoch 78/100\n",
      "9/9 [==============================] - 0s 2ms/step - loss: 85.1027 - mse: 85.1027\n",
      "Epoch 79/100\n",
      "9/9 [==============================] - 0s 1ms/step - loss: 85.1464 - mse: 85.1464\n",
      "Epoch 80/100\n",
      "9/9 [==============================] - 0s 1ms/step - loss: 84.8919 - mse: 84.8919\n",
      "Epoch 81/100\n",
      "9/9 [==============================] - 0s 2ms/step - loss: 86.1661 - mse: 86.1661\n",
      "Epoch 82/100\n",
      "9/9 [==============================] - 0s 1ms/step - loss: 85.9646 - mse: 85.9646\n",
      "Epoch 83/100\n",
      "9/9 [==============================] - 0s 2ms/step - loss: 84.8830 - mse: 84.8830\n",
      "Epoch 84/100\n",
      "9/9 [==============================] - 0s 1ms/step - loss: 84.9407 - mse: 84.9407\n",
      "Epoch 85/100\n",
      "9/9 [==============================] - 0s 1ms/step - loss: 85.1243 - mse: 85.1243\n",
      "Epoch 86/100\n",
      "9/9 [==============================] - 0s 1ms/step - loss: 84.9141 - mse: 84.9141\n",
      "Epoch 87/100\n",
      "9/9 [==============================] - 0s 1ms/step - loss: 84.7843 - mse: 84.7843\n",
      "Epoch 88/100\n",
      "9/9 [==============================] - 0s 2ms/step - loss: 84.8343 - mse: 84.8343\n",
      "Epoch 89/100\n",
      "9/9 [==============================] - 0s 2ms/step - loss: 85.4533 - mse: 85.4533\n",
      "Epoch 90/100\n",
      "9/9 [==============================] - 0s 2ms/step - loss: 85.0849 - mse: 85.0849\n",
      "Epoch 91/100\n",
      "9/9 [==============================] - 0s 2ms/step - loss: 85.3591 - mse: 85.3591\n",
      "Epoch 92/100\n",
      "9/9 [==============================] - 0s 2ms/step - loss: 85.0075 - mse: 85.0075\n",
      "Epoch 93/100\n",
      "9/9 [==============================] - 0s 1ms/step - loss: 85.1292 - mse: 85.1292\n",
      "Epoch 94/100\n",
      "9/9 [==============================] - 0s 1ms/step - loss: 85.3760 - mse: 85.3760\n",
      "Epoch 95/100\n",
      "9/9 [==============================] - 0s 2ms/step - loss: 84.9904 - mse: 84.9904\n",
      "Epoch 96/100\n",
      "9/9 [==============================] - 0s 2ms/step - loss: 85.0058 - mse: 85.0058\n",
      "Epoch 97/100\n",
      "9/9 [==============================] - 0s 2ms/step - loss: 85.1373 - mse: 85.1373\n",
      "Epoch 98/100\n",
      "9/9 [==============================] - 0s 2ms/step - loss: 85.3498 - mse: 85.3498\n",
      "Epoch 99/100\n",
      "9/9 [==============================] - 0s 1ms/step - loss: 84.9645 - mse: 84.9645\n",
      "Epoch 100/100\n",
      "9/9 [==============================] - 0s 2ms/step - loss: 84.9644 - mse: 84.9644\n"
     ]
    },
    {
     "data": {
      "text/plain": [
       "<tensorflow.python.keras.callbacks.History at 0x7f6cecf96a90>"
      ]
     },
     "execution_count": 21,
     "metadata": {
      "tags": []
     },
     "output_type": "execute_result"
    }
   ],
   "source": [
    "model.fit(X_train, y_train, batch_size = 50, epochs = 100, verbose = 1)"
   ]
  },
  {
   "cell_type": "markdown",
   "metadata": {
    "id": "mGcfiiEhiLmU"
   },
   "source": [
    "### 3. Evaluation\n",
    "- Keras model can be evaluated with evaluate() function\n",
    "- Evaluation results are contained in a list\n",
    "    - Doc (metrics): https://keras.io/metrics/"
   ]
  },
  {
   "cell_type": "code",
   "execution_count": null,
   "metadata": {
    "colab": {
     "base_uri": "https://localhost:8080/"
    },
    "executionInfo": {
     "elapsed": 699,
     "status": "ok",
     "timestamp": 1604615584389,
     "user": {
      "displayName": "Buomsoo Kim",
      "photoUrl": "",
      "userId": "18268696804115368229"
     },
     "user_tz": 420
    },
    "id": "HuLThu07iLmU",
    "outputId": "8d9ce1e4-e0ec-41e8-80b0-ab05dd900e18"
   },
   "outputs": [
    {
     "name": "stdout",
     "output_type": "stream",
     "text": [
      "4/4 [==============================] - 0s 2ms/step - loss: 85.3844 - mse: 85.3844\n"
     ]
    }
   ],
   "source": [
    "results = model.evaluate(X_test, y_test)"
   ]
  },
  {
   "cell_type": "code",
   "execution_count": null,
   "metadata": {
    "colab": {
     "base_uri": "https://localhost:8080/"
    },
    "executionInfo": {
     "elapsed": 548,
     "status": "ok",
     "timestamp": 1604615584689,
     "user": {
      "displayName": "Buomsoo Kim",
      "photoUrl": "",
      "userId": "18268696804115368229"
     },
     "user_tz": 420
    },
    "id": "VTHbM8FaiLmW",
    "outputId": "a21911b0-6624-4d6f-e62d-e749c8559966"
   },
   "outputs": [
    {
     "name": "stdout",
     "output_type": "stream",
     "text": [
      "['loss', 'mse']\n",
      "[85.38439178466797, 85.38439178466797]\n"
     ]
    }
   ],
   "source": [
    "print(model.metrics_names)     # list of metric names the model is employing\n",
    "print(results)                 # actual figure of metrics computed"
   ]
  },
  {
   "cell_type": "code",
   "execution_count": null,
   "metadata": {
    "colab": {
     "base_uri": "https://localhost:8080/"
    },
    "executionInfo": {
     "elapsed": 630,
     "status": "ok",
     "timestamp": 1604615585972,
     "user": {
      "displayName": "Buomsoo Kim",
      "photoUrl": "",
      "userId": "18268696804115368229"
     },
     "user_tz": 420
    },
    "id": "8Ni7tqtNiLmY",
    "outputId": "fc666718-4cd3-43c7-e4be-245e221fedf9"
   },
   "outputs": [
    {
     "name": "stdout",
     "output_type": "stream",
     "text": [
      "loss:  85.38439178466797\n",
      "mse:  85.38439178466797\n"
     ]
    }
   ],
   "source": [
    "print('loss: ', results[0])\n",
    "print('mse: ', results[1])"
   ]
  },
  {
   "cell_type": "markdown",
   "metadata": {
    "id": "FCGlFQDIiLma"
   },
   "source": [
    "## MLP for classification tasks\n",
    "- When the target (**y**) is discrete (categorical)\n",
    "- For loss function, cross-entropy is used and for evaluation metric, accuracy is commonly used"
   ]
  },
  {
   "cell_type": "markdown",
   "metadata": {
    "id": "lAhF7aAJiLmn"
   },
   "source": [
    "### Dataset Description\n",
    "- CIFAR-10 dataset contains 60,000 images in 10 classes - 50,000 for training and 10,000 for testing\n",
    "- For more information, refer to [this Wikipedia article](https://en.wikipedia.org/wiki/CIFAR-10) or [Alex Krizhevsky's web site](https://www.cs.toronto.edu/~kriz/cifar.html)"
   ]
  },
  {
   "cell_type": "code",
   "execution_count": 3,
   "metadata": {
    "executionInfo": {
     "elapsed": 386,
     "status": "ok",
     "timestamp": 1604684695071,
     "user": {
      "displayName": "Buomsoo Kim",
      "photoUrl": "",
      "userId": "18268696804115368229"
     },
     "user_tz": 420
    },
    "id": "vD1Pzzfyi2el"
   },
   "outputs": [],
   "source": [
    "from tensorflow.keras.datasets import cifar10\n",
    "from tensorflow.keras.utils import to_categorical"
   ]
  },
  {
   "cell_type": "code",
   "execution_count": 4,
   "metadata": {
    "colab": {
     "base_uri": "https://localhost:8080/"
    },
    "executionInfo": {
     "elapsed": 8074,
     "status": "ok",
     "timestamp": 1604684705146,
     "user": {
      "displayName": "Buomsoo Kim",
      "photoUrl": "",
      "userId": "18268696804115368229"
     },
     "user_tz": 420
    },
    "id": "z0fwviGBi4JF",
    "outputId": "4a10b1f6-17ca-48fc-888c-6b905366ad94"
   },
   "outputs": [
    {
     "name": "stdout",
     "output_type": "stream",
     "text": [
      "Downloading data from https://www.cs.toronto.edu/~kriz/cifar-10-python.tar.gz\n",
      "170500096/170498071 [==============================] - 5s 0us/step\n",
      "(50000, 3072) (10000, 3072) (50000, 10) (10000, 10)\n"
     ]
    }
   ],
   "source": [
    "# load data and flatten X data to fit into MLP\n",
    "(x_train, y_train), (x_test, y_test) = cifar10.load_data()\n",
    "x_train, x_test = x_train.reshape(x_train.shape[0], -1), x_test.reshape(x_test.shape[0], -1)\n",
    "y_train, y_test = to_categorical(y_train), to_categorical(y_test)\n",
    "print(x_train.shape, x_test.shape, y_train.shape, y_test.shape)"
   ]
  },
  {
   "cell_type": "markdown",
   "metadata": {
    "id": "yDfUxLydiLmr"
   },
   "source": [
    "### 1. Creating a model\n",
    "- Same with regression model - use ```Sequential()```"
   ]
  },
  {
   "cell_type": "code",
   "execution_count": 5,
   "metadata": {
    "executionInfo": {
     "elapsed": 385,
     "status": "ok",
     "timestamp": 1604684708274,
     "user": {
      "displayName": "Buomsoo Kim",
      "photoUrl": "",
      "userId": "18268696804115368229"
     },
     "user_tz": 420
    },
    "id": "otQOT-jKiLmu"
   },
   "outputs": [],
   "source": [
    "model = Sequential()"
   ]
  },
  {
   "cell_type": "markdown",
   "metadata": {
    "id": "z8xmzpbTiLmy"
   },
   "source": [
    "### 1-1. Adding layers\n",
    "- Keras layers can be **added** to the model\n",
    "- Adding layers are like stacking lego blocks one by one\n",
    "- It should be noted that as this is a classification problem, sigmoid layer (softmax for multi-class problems) should be added\n",
    "- Doc: https://keras.io/layers/core/"
   ]
  },
  {
   "cell_type": "code",
   "execution_count": 6,
   "metadata": {
    "executionInfo": {
     "elapsed": 366,
     "status": "ok",
     "timestamp": 1604684709460,
     "user": {
      "displayName": "Buomsoo Kim",
      "photoUrl": "",
      "userId": "18268696804115368229"
     },
     "user_tz": 420
    },
    "id": "_6WRFmz2iLmy"
   },
   "outputs": [],
   "source": [
    "# Keras model with two hidden layer with 10 neurons each \n",
    "model.add(Dense(50, input_shape = (x_train.shape[-1],)))    # Input layer => input_shape should be explicitly designated\n",
    "model.add(Activation('sigmoid'))\n",
    "model.add(Dense(50))                         # Hidden layer => only output dimension should be designated\n",
    "model.add(Activation('sigmoid'))\n",
    "model.add(Dense(50))                         # Hidden layer => only output dimension should be designated\n",
    "model.add(Activation('sigmoid'))\n",
    "model.add(Dense(10))                          # Output layer => output dimension = 1 since it is regression problem\n",
    "model.add(Activation('sigmoid'))"
   ]
  },
  {
   "cell_type": "code",
   "execution_count": null,
   "metadata": {
    "id": "KDYGhWuHiLm0"
   },
   "outputs": [],
   "source": [
    "# This is equivalent to the above code block\n",
    "model.add(Dense(50, input_shape = (x_train.shape[-1],), activation = 'sigmoid'))\n",
    "model.add(Dense(50, activation = 'sigmoid'))\n",
    "model.add(Dense(50, activation = 'sigmoid'))\n",
    "model.add(Dense(10, activation = 'sigmoid'))"
   ]
  },
  {
   "cell_type": "markdown",
   "metadata": {
    "id": "e5a1P3tTiLm2"
   },
   "source": [
    "### 1-2. Model compile\n",
    "- Keras model should be \"compiled\" prior to training\n",
    "- Types of loss (function) and optimizer should be designated\n",
    "    - Doc (optimizers): https://keras.io/optimizers/\n",
    "    - Doc (losses): https://keras.io/losses/"
   ]
  },
  {
   "cell_type": "code",
   "execution_count": 7,
   "metadata": {
    "executionInfo": {
     "elapsed": 428,
     "status": "ok",
     "timestamp": 1604684713367,
     "user": {
      "displayName": "Buomsoo Kim",
      "photoUrl": "",
      "userId": "18268696804115368229"
     },
     "user_tz": 420
    },
    "id": "GXaGu_ebiLm2"
   },
   "outputs": [],
   "source": [
    "from tensorflow.keras import optimizers"
   ]
  },
  {
   "cell_type": "code",
   "execution_count": 8,
   "metadata": {
    "executionInfo": {
     "elapsed": 342,
     "status": "ok",
     "timestamp": 1604684713695,
     "user": {
      "displayName": "Buomsoo Kim",
      "photoUrl": "",
      "userId": "18268696804115368229"
     },
     "user_tz": 420
    },
    "id": "_vdJBNmziLm5"
   },
   "outputs": [],
   "source": [
    "sgd = optimizers.SGD(lr = 0.01)    # stochastic gradient descent optimizer"
   ]
  },
  {
   "cell_type": "code",
   "execution_count": 9,
   "metadata": {
    "executionInfo": {
     "elapsed": 443,
     "status": "ok",
     "timestamp": 1604684714603,
     "user": {
      "displayName": "Buomsoo Kim",
      "photoUrl": "",
      "userId": "18268696804115368229"
     },
     "user_tz": 420
    },
    "id": "8KxYO7rqiLm7"
   },
   "outputs": [],
   "source": [
    "model.compile(optimizer = sgd, loss = 'categorical_crossentropy', metrics = ['accuracy'])"
   ]
  },
  {
   "cell_type": "markdown",
   "metadata": {
    "id": "jUWLl1gpiLm9"
   },
   "source": [
    "### Summary of the model"
   ]
  },
  {
   "cell_type": "code",
   "execution_count": 10,
   "metadata": {
    "colab": {
     "base_uri": "https://localhost:8080/"
    },
    "executionInfo": {
     "elapsed": 298,
     "status": "ok",
     "timestamp": 1604684719834,
     "user": {
      "displayName": "Buomsoo Kim",
      "photoUrl": "",
      "userId": "18268696804115368229"
     },
     "user_tz": 420
    },
    "id": "wtKl8bY_iLm9",
    "outputId": "4c1ddf27-f333-4510-b36d-b27daf8c801c",
    "scrolled": true
   },
   "outputs": [
    {
     "name": "stdout",
     "output_type": "stream",
     "text": [
      "Model: \"sequential\"\n",
      "_________________________________________________________________\n",
      "Layer (type)                 Output Shape              Param #   \n",
      "=================================================================\n",
      "dense (Dense)                (None, 50)                153650    \n",
      "_________________________________________________________________\n",
      "activation (Activation)      (None, 50)                0         \n",
      "_________________________________________________________________\n",
      "dense_1 (Dense)              (None, 50)                2550      \n",
      "_________________________________________________________________\n",
      "activation_1 (Activation)    (None, 50)                0         \n",
      "_________________________________________________________________\n",
      "dense_2 (Dense)              (None, 50)                2550      \n",
      "_________________________________________________________________\n",
      "activation_2 (Activation)    (None, 50)                0         \n",
      "_________________________________________________________________\n",
      "dense_3 (Dense)              (None, 10)                510       \n",
      "_________________________________________________________________\n",
      "activation_3 (Activation)    (None, 10)                0         \n",
      "=================================================================\n",
      "Total params: 159,260\n",
      "Trainable params: 159,260\n",
      "Non-trainable params: 0\n",
      "_________________________________________________________________\n"
     ]
    }
   ],
   "source": [
    "model.summary()"
   ]
  },
  {
   "cell_type": "markdown",
   "metadata": {
    "id": "9dThMtLWiLm_"
   },
   "source": [
    "### 2. Training\n",
    "- Training the model with training data provided"
   ]
  },
  {
   "cell_type": "code",
   "execution_count": 11,
   "metadata": {
    "colab": {
     "base_uri": "https://localhost:8080/"
    },
    "executionInfo": {
     "elapsed": 111401,
     "status": "ok",
     "timestamp": 1604684834871,
     "user": {
      "displayName": "Buomsoo Kim",
      "photoUrl": "",
      "userId": "18268696804115368229"
     },
     "user_tz": 420
    },
    "id": "B_IHzSh8iLm_",
    "outputId": "0bf23bfb-c12d-462c-deb0-59b8eb22e247"
   },
   "outputs": [
    {
     "name": "stdout",
     "output_type": "stream",
     "text": [
      "Epoch 1/50\n",
      "391/391 [==============================] - 2s 6ms/step - loss: 2.3209 - accuracy: 0.1000\n",
      "Epoch 2/50\n",
      "391/391 [==============================] - 2s 6ms/step - loss: 2.2998 - accuracy: 0.1113\n",
      "Epoch 3/50\n",
      "391/391 [==============================] - 2s 6ms/step - loss: 2.2946 - accuracy: 0.1531\n",
      "Epoch 4/50\n",
      "391/391 [==============================] - 2s 6ms/step - loss: 2.2905 - accuracy: 0.1735\n",
      "Epoch 5/50\n",
      "391/391 [==============================] - 2s 6ms/step - loss: 2.2866 - accuracy: 0.1764\n",
      "Epoch 6/50\n",
      "391/391 [==============================] - 2s 5ms/step - loss: 2.2821 - accuracy: 0.2089\n",
      "Epoch 7/50\n",
      "391/391 [==============================] - 2s 5ms/step - loss: 2.2757 - accuracy: 0.1965\n",
      "Epoch 8/50\n",
      "391/391 [==============================] - 2s 5ms/step - loss: 2.2679 - accuracy: 0.2125\n",
      "Epoch 9/50\n",
      "391/391 [==============================] - 2s 6ms/step - loss: 2.2576 - accuracy: 0.2193\n",
      "Epoch 10/50\n",
      "391/391 [==============================] - 2s 6ms/step - loss: 2.2435 - accuracy: 0.2116\n",
      "Epoch 11/50\n",
      "391/391 [==============================] - 2s 5ms/step - loss: 2.2254 - accuracy: 0.2013\n",
      "Epoch 12/50\n",
      "391/391 [==============================] - 2s 5ms/step - loss: 2.2035 - accuracy: 0.2011\n",
      "Epoch 13/50\n",
      "391/391 [==============================] - 2s 5ms/step - loss: 2.1778 - accuracy: 0.1974\n",
      "Epoch 14/50\n",
      "391/391 [==============================] - 2s 5ms/step - loss: 2.1521 - accuracy: 0.1948\n",
      "Epoch 15/50\n",
      "391/391 [==============================] - 2s 5ms/step - loss: 2.1298 - accuracy: 0.1962\n",
      "Epoch 16/50\n",
      "391/391 [==============================] - 2s 6ms/step - loss: 2.1119 - accuracy: 0.1928\n",
      "Epoch 17/50\n",
      "391/391 [==============================] - 2s 6ms/step - loss: 2.0993 - accuracy: 0.1963\n",
      "Epoch 18/50\n",
      "391/391 [==============================] - 2s 6ms/step - loss: 2.0879 - accuracy: 0.1957\n",
      "Epoch 19/50\n",
      "391/391 [==============================] - 2s 6ms/step - loss: 2.0825 - accuracy: 0.1966\n",
      "Epoch 20/50\n",
      "391/391 [==============================] - 2s 6ms/step - loss: 2.0814 - accuracy: 0.1982\n",
      "Epoch 21/50\n",
      "391/391 [==============================] - 2s 5ms/step - loss: 2.0746 - accuracy: 0.1984\n",
      "Epoch 22/50\n",
      "391/391 [==============================] - 2s 5ms/step - loss: 2.0709 - accuracy: 0.1988\n",
      "Epoch 23/50\n",
      "391/391 [==============================] - 2s 5ms/step - loss: 2.0718 - accuracy: 0.1934\n",
      "Epoch 24/50\n",
      "391/391 [==============================] - 2s 5ms/step - loss: 2.0756 - accuracy: 0.1989\n",
      "Epoch 25/50\n",
      "391/391 [==============================] - 2s 5ms/step - loss: 2.0712 - accuracy: 0.1957\n",
      "Epoch 26/50\n",
      "391/391 [==============================] - 2s 6ms/step - loss: 2.0771 - accuracy: 0.1990\n",
      "Epoch 27/50\n",
      "391/391 [==============================] - 2s 6ms/step - loss: 2.0713 - accuracy: 0.1991\n",
      "Epoch 28/50\n",
      "391/391 [==============================] - 2s 6ms/step - loss: 2.0702 - accuracy: 0.2007\n",
      "Epoch 29/50\n",
      "391/391 [==============================] - 2s 5ms/step - loss: 2.0762 - accuracy: 0.2021\n",
      "Epoch 30/50\n",
      "391/391 [==============================] - 2s 5ms/step - loss: 2.0671 - accuracy: 0.2018\n",
      "Epoch 31/50\n",
      "391/391 [==============================] - 2s 6ms/step - loss: 2.0720 - accuracy: 0.2040\n",
      "Epoch 32/50\n",
      "391/391 [==============================] - 2s 5ms/step - loss: 2.0770 - accuracy: 0.2029\n",
      "Epoch 33/50\n",
      "391/391 [==============================] - 2s 5ms/step - loss: 2.0740 - accuracy: 0.2017\n",
      "Epoch 34/50\n",
      "391/391 [==============================] - 2s 6ms/step - loss: 2.0748 - accuracy: 0.2002\n",
      "Epoch 35/50\n",
      "391/391 [==============================] - 2s 6ms/step - loss: 2.0752 - accuracy: 0.2031\n",
      "Epoch 36/50\n",
      "391/391 [==============================] - 2s 6ms/step - loss: 2.0888 - accuracy: 0.2021\n",
      "Epoch 37/50\n",
      "391/391 [==============================] - 2s 6ms/step - loss: 2.0878 - accuracy: 0.1940\n",
      "Epoch 38/50\n",
      "391/391 [==============================] - 2s 6ms/step - loss: 2.0797 - accuracy: 0.1985\n",
      "Epoch 39/50\n",
      "391/391 [==============================] - 2s 6ms/step - loss: 2.0754 - accuracy: 0.1963\n",
      "Epoch 40/50\n",
      "391/391 [==============================] - 2s 6ms/step - loss: 2.0810 - accuracy: 0.1926\n",
      "Epoch 41/50\n",
      "391/391 [==============================] - 2s 6ms/step - loss: 2.0786 - accuracy: 0.2065\n",
      "Epoch 42/50\n",
      "391/391 [==============================] - 2s 6ms/step - loss: 2.0787 - accuracy: 0.1908\n",
      "Epoch 43/50\n",
      "391/391 [==============================] - 2s 6ms/step - loss: 2.0828 - accuracy: 0.1953\n",
      "Epoch 44/50\n",
      "391/391 [==============================] - 2s 6ms/step - loss: 2.0723 - accuracy: 0.1955\n",
      "Epoch 45/50\n",
      "391/391 [==============================] - 2s 5ms/step - loss: 2.0829 - accuracy: 0.1952\n",
      "Epoch 46/50\n",
      "391/391 [==============================] - 2s 5ms/step - loss: 2.0844 - accuracy: 0.1905\n",
      "Epoch 47/50\n",
      "391/391 [==============================] - 2s 5ms/step - loss: 2.0861 - accuracy: 0.1920\n",
      "Epoch 48/50\n",
      "391/391 [==============================] - 2s 6ms/step - loss: 2.0941 - accuracy: 0.1838\n",
      "Epoch 49/50\n",
      "391/391 [==============================] - 2s 6ms/step - loss: 2.0822 - accuracy: 0.1884\n",
      "Epoch 50/50\n",
      "391/391 [==============================] - 2s 6ms/step - loss: 2.0848 - accuracy: 0.1844\n"
     ]
    },
    {
     "data": {
      "text/plain": [
       "<tensorflow.python.keras.callbacks.History at 0x7f24bae545f8>"
      ]
     },
     "execution_count": 11,
     "metadata": {
      "tags": []
     },
     "output_type": "execute_result"
    }
   ],
   "source": [
    "model.fit(x_train, y_train, batch_size = 128, epochs = 50, verbose = 1)"
   ]
  },
  {
   "cell_type": "markdown",
   "metadata": {
    "id": "ZH8bF3CHiLnC"
   },
   "source": [
    "### 3. Evaluation\n",
    "- Keras model can be evaluated with evaluate() function\n",
    "- Evaluation results are contained in a list\n",
    "    - Doc (metrics): https://keras.io/metrics/"
   ]
  },
  {
   "cell_type": "code",
   "execution_count": 12,
   "metadata": {
    "colab": {
     "base_uri": "https://localhost:8080/"
    },
    "executionInfo": {
     "elapsed": 964,
     "status": "ok",
     "timestamp": 1604684874377,
     "user": {
      "displayName": "Buomsoo Kim",
      "photoUrl": "",
      "userId": "18268696804115368229"
     },
     "user_tz": 420
    },
    "id": "6XygNcssiLnC",
    "outputId": "4b8f83c2-cd92-4b24-f701-eee18c174969"
   },
   "outputs": [
    {
     "name": "stdout",
     "output_type": "stream",
     "text": [
      "313/313 [==============================] - 0s 2ms/step - loss: 2.0704 - accuracy: 0.2025\n"
     ]
    }
   ],
   "source": [
    "results = model.evaluate(x_test, y_test)"
   ]
  },
  {
   "cell_type": "code",
   "execution_count": 13,
   "metadata": {
    "colab": {
     "base_uri": "https://localhost:8080/"
    },
    "executionInfo": {
     "elapsed": 313,
     "status": "ok",
     "timestamp": 1604684876500,
     "user": {
      "displayName": "Buomsoo Kim",
      "photoUrl": "",
      "userId": "18268696804115368229"
     },
     "user_tz": 420
    },
    "id": "qfGWjFVQiLnE",
    "outputId": "ea962a35-74ff-4d5c-f16e-458bdccf705c"
   },
   "outputs": [
    {
     "name": "stdout",
     "output_type": "stream",
     "text": [
      "['loss', 'accuracy']\n",
      "[2.070366382598877, 0.20250000059604645]\n"
     ]
    }
   ],
   "source": [
    "print(model.metrics_names)     # list of metric names the model is employing\n",
    "print(results)                 # actual figure of metrics computed"
   ]
  },
  {
   "cell_type": "code",
   "execution_count": 14,
   "metadata": {
    "colab": {
     "base_uri": "https://localhost:8080/"
    },
    "executionInfo": {
     "elapsed": 328,
     "status": "ok",
     "timestamp": 1604684878946,
     "user": {
      "displayName": "Buomsoo Kim",
      "photoUrl": "",
      "userId": "18268696804115368229"
     },
     "user_tz": 420
    },
    "id": "ViMt9l_7iLnH",
    "outputId": "f86d7092-f071-4173-aa16-d424aa198474"
   },
   "outputs": [
    {
     "name": "stdout",
     "output_type": "stream",
     "text": [
      "loss:  2.070366382598877\n",
      "accuracy:  0.20250000059604645\n"
     ]
    }
   ],
   "source": [
    "# printing out the results separately\n",
    "print('loss: ', results[0])\n",
    "print('accuracy: ', results[1])"
   ]
  }
 ],
 "metadata": {
  "colab": {
   "collapsed_sections": [],
   "name": "1-Basics-of-MLP.ipynb",
   "provenance": []
  },
  "kernelspec": {
   "display_name": "Python 3 (ipykernel)",
   "language": "python",
   "name": "python3"
  },
  "language_info": {
   "codemirror_mode": {
    "name": "ipython",
    "version": 3
   },
   "file_extension": ".py",
   "mimetype": "text/x-python",
   "name": "python",
   "nbconvert_exporter": "python",
   "pygments_lexer": "ipython3",
   "version": "3.11.5"
  }
 },
 "nbformat": 4,
 "nbformat_minor": 1
}
