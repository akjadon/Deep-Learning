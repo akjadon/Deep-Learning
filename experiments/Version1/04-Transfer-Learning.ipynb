{
 "cells": [
  {
   "cell_type": "markdown",
   "metadata": {
    "colab_type": "text",
    "id": "VTEGN4bfZheT"
   },
   "source": [
    "# Transfer Learning"
   ]
  },
  {
   "cell_type": "code",
   "execution_count": 2,
   "metadata": {
    "colab": {
     "autoexec": {
      "startup": false,
      "wait_interval": 0
     },
     "base_uri": "https://localhost:8080/",
     "height": 34,
     "output_extras": [
      {
       "item_id": 1
      }
     ]
    },
    "colab_type": "code",
    "executionInfo": {
     "elapsed": 2572,
     "status": "ok",
     "timestamp": 1521300228267,
     "user": {
      "displayName": "Amit Kapoor",
      "photoUrl": "//lh4.googleusercontent.com/-D2AEUHCgcx8/AAAAAAAAAAI/AAAAAAAAAoY/0HFe1PWxMvQ/s50-c-k-no/photo.jpg",
      "userId": "115841624057400778059"
     },
     "user_tz": -330
    },
    "id": "JGQqwCPRZheX",
    "outputId": "5946c5b4-c22b-4cd0-c30a-1377e3d0140d"
   },
   "outputs": [
    {
     "name": "stderr",
     "output_type": "stream",
     "text": [
      "Using TensorFlow backend.\n"
     ]
    }
   ],
   "source": [
    "import numpy as np\n",
    "import keras\n",
    "import tensorflow as tf\n",
    "import matplotlib.pyplot as plt\n",
    "% matplotlib inline\n",
    "from keras.datasets import fashion_mnist"
   ]
  },
  {
   "cell_type": "markdown",
   "metadata": {},
   "source": [
    "### Get data"
   ]
  },
  {
   "cell_type": "code",
   "execution_count": null,
   "metadata": {
    "colab": {
     "autoexec": {
      "startup": false,
      "wait_interval": 0
     }
    },
    "colab_type": "code",
    "id": "BHLxQqYMZhef"
   },
   "outputs": [],
   "source": [
    "def fashion_mnist_preprocess():\n",
    "    \n",
    "    num_classes = 10\n",
    "    \n",
    "    # get data\n",
    "    (x_train, y_train), (x_test, y_test) = fashion_mnist.load_data()\n",
    "    x_train.shape, y_train.shape, x_test.shape, y_test.shape\n",
    "    \n",
    "    # input image dimensions\n",
    "    img_rows, img_cols = 28, 28\n",
    "    \n",
    "    # reshape to channel_last format\n",
    "    x_train = x_train.reshape(x_train.shape[0], img_rows, img_cols, 1)\n",
    "    x_test = x_test.reshape(x_test.shape[0], img_rows, img_cols, 1)\n",
    "    input_shape = (img_rows, img_cols, 1)\n",
    "    \n",
    "    # normalize data\n",
    "    x_train_normalize = x_train / 255\n",
    "    x_test_normalize = x_test / 255\n",
    "    \n",
    "    # convert class vectors to binary class matrices\n",
    "    y_train_class = keras.utils.to_categorical(y_train, num_classes)\n",
    "    y_test_class = keras.utils.to_categorical(y_test, num_classes)\n",
    "    \n",
    "    return (x_train_normalize, y_train_class), (x_test_normalize, y_test_class)"
   ]
  },
  {
   "cell_type": "code",
   "execution_count": null,
   "metadata": {
    "colab": {
     "autoexec": {
      "startup": false,
      "wait_interval": 0
     }
    },
    "colab_type": "code",
    "id": "h9TfoY-OZhel"
   },
   "outputs": [],
   "source": [
    "(x_train_conv, y_train_class), (x_test_conv, y_test_class) = fashion_mnist_preprocess()"
   ]
  },
  {
   "cell_type": "markdown",
   "metadata": {
    "colab_type": "text",
    "id": "4tBPvzcCZher"
   },
   "source": [
    "## Basic CNN"
   ]
  },
  {
   "cell_type": "code",
   "execution_count": null,
   "metadata": {
    "colab": {
     "autoexec": {
      "startup": false,
      "wait_interval": 0
     }
    },
    "colab_type": "code",
    "id": "r9pjXQCeZhet"
   },
   "outputs": [],
   "source": [
    "from keras.models import Sequential\n",
    "from keras.layers import Conv2D, MaxPooling2D, Dropout, Flatten, Dense"
   ]
  },
  {
   "cell_type": "code",
   "execution_count": null,
   "metadata": {
    "colab": {
     "autoexec": {
      "startup": false,
      "wait_interval": 0
     }
    },
    "colab_type": "code",
    "id": "ashEa0JgZhez"
   },
   "outputs": [],
   "source": [
    "cnn = Sequential()\n",
    "cnn.add(Conv2D(32, kernel_size=(3, 3), activation='relu', input_shape=(28,28,1)))\n",
    "cnn.add(MaxPooling2D(pool_size=(2, 2)))\n",
    "cnn.add(Conv2D(64, kernel_size=(3, 3), activation='relu'))\n",
    "cnn.add(MaxPooling2D(pool_size=(2, 2)))\n",
    "cnn.add(Dropout(0.25))\n",
    "cnn.add(Conv2D(128, kernel_size=(3, 3), activation='relu'))\n",
    "cnn.add(Dropout(0.25))\n",
    "cnn.add(Flatten())\n",
    "cnn.add(Dense(128, activation='relu'))\n",
    "cnn.add(Dropout(0.25))\n",
    "cnn.add(Dense(10, activation='softmax'))"
   ]
  },
  {
   "cell_type": "code",
   "execution_count": 6,
   "metadata": {
    "colab": {
     "autoexec": {
      "startup": false,
      "wait_interval": 0
     },
     "base_uri": "https://localhost:8080/",
     "height": 510,
     "output_extras": [
      {
       "item_id": 1
      }
     ]
    },
    "colab_type": "code",
    "executionInfo": {
     "elapsed": 935,
     "status": "ok",
     "timestamp": 1521297709045,
     "user": {
      "displayName": "Amit Kapoor",
      "photoUrl": "//lh4.googleusercontent.com/-D2AEUHCgcx8/AAAAAAAAAAI/AAAAAAAAAoY/0HFe1PWxMvQ/s50-c-k-no/photo.jpg",
      "userId": "115841624057400778059"
     },
     "user_tz": -330
    },
    "id": "fA1RAzF0Zhe5",
    "outputId": "32471482-71ab-4a36-fe94-08712d8fcc96"
   },
   "outputs": [
    {
     "name": "stdout",
     "output_type": "stream",
     "text": [
      "_________________________________________________________________\n",
      "Layer (type)                 Output Shape              Param #   \n",
      "=================================================================\n",
      "conv2d_1 (Conv2D)            (None, 26, 26, 32)        320       \n",
      "_________________________________________________________________\n",
      "max_pooling2d_1 (MaxPooling2 (None, 13, 13, 32)        0         \n",
      "_________________________________________________________________\n",
      "conv2d_2 (Conv2D)            (None, 11, 11, 64)        18496     \n",
      "_________________________________________________________________\n",
      "max_pooling2d_2 (MaxPooling2 (None, 5, 5, 64)          0         \n",
      "_________________________________________________________________\n",
      "dropout_1 (Dropout)          (None, 5, 5, 64)          0         \n",
      "_________________________________________________________________\n",
      "conv2d_3 (Conv2D)            (None, 3, 3, 128)         73856     \n",
      "_________________________________________________________________\n",
      "dropout_2 (Dropout)          (None, 3, 3, 128)         0         \n",
      "_________________________________________________________________\n",
      "flatten_1 (Flatten)          (None, 1152)              0         \n",
      "_________________________________________________________________\n",
      "dense_1 (Dense)              (None, 128)               147584    \n",
      "_________________________________________________________________\n",
      "dropout_3 (Dropout)          (None, 128)               0         \n",
      "_________________________________________________________________\n",
      "dense_2 (Dense)              (None, 10)                1290      \n",
      "=================================================================\n",
      "Total params: 241,546\n",
      "Trainable params: 241,546\n",
      "Non-trainable params: 0\n",
      "_________________________________________________________________\n"
     ]
    }
   ],
   "source": [
    "cnn.summary()"
   ]
  },
  {
   "cell_type": "code",
   "execution_count": null,
   "metadata": {
    "colab": {
     "autoexec": {
      "startup": false,
      "wait_interval": 0
     }
    },
    "colab_type": "code",
    "id": "hPGTcN3WZhfO"
   },
   "outputs": [],
   "source": [
    "cnn.compile(loss='categorical_crossentropy', optimizer=\"adam\", metrics=['accuracy'])"
   ]
  },
  {
   "cell_type": "code",
   "execution_count": 8,
   "metadata": {
    "colab": {
     "autoexec": {
      "startup": false,
      "wait_interval": 0
     },
     "base_uri": "https://localhost:8080/",
     "height": 258,
     "output_extras": [
      {
       "item_id": 29
      },
      {
       "item_id": 65
      }
     ]
    },
    "colab_type": "code",
    "executionInfo": {
     "elapsed": 33909,
     "status": "ok",
     "timestamp": 1521297748561,
     "user": {
      "displayName": "Amit Kapoor",
      "photoUrl": "//lh4.googleusercontent.com/-D2AEUHCgcx8/AAAAAAAAAAI/AAAAAAAAAoY/0HFe1PWxMvQ/s50-c-k-no/photo.jpg",
      "userId": "115841624057400778059"
     },
     "user_tz": -330
    },
    "id": "vK8Sk7NQZhfU",
    "outputId": "de73fe1c-66f2-4f34-8578-1af039a860a4"
   },
   "outputs": [
    {
     "name": "stdout",
     "output_type": "stream",
     "text": [
      "CPU times: user 0 ns, sys: 0 ns, total: 0 ns\n",
      "Wall time: 5.25 µs\n",
      "Train on 48000 samples, validate on 12000 samples\n",
      "Epoch 1/5\n",
      "48000/48000 [==============================] - 8s 166us/step - loss: 0.6918 - acc: 0.7414 - val_loss: 0.4325 - val_acc: 0.8382\n",
      "Epoch 2/5\n",
      "48000/48000 [==============================] - 6s 129us/step - loss: 0.4356 - acc: 0.8399 - val_loss: 0.3637 - val_acc: 0.8680\n",
      "Epoch 3/5\n",
      "46976/48000 [============================>.] - ETA: 0s - loss: 0.3690 - acc: 0.864448000/48000 [==============================] - 6s 128us/step - loss: 0.3682 - acc: 0.8646 - val_loss: 0.3168 - val_acc: 0.8820\n",
      "Epoch 4/5\n",
      "48000/48000 [==============================] - 6s 128us/step - loss: 0.3393 - acc: 0.8762 - val_loss: 0.3003 - val_acc: 0.8920\n",
      "Epoch 5/5\n",
      "48000/48000 [==============================] - 6s 129us/step - loss: 0.3150 - acc: 0.8822 - val_loss: 0.2942 - val_acc: 0.8894\n"
     ]
    }
   ],
   "source": [
    "%time\n",
    "history = cnn.fit(x_train_conv, y_train_class, batch_size=128, epochs=5, verbose=1, validation_split = 0.2)"
   ]
  },
  {
   "cell_type": "code",
   "execution_count": null,
   "metadata": {
    "colab": {
     "autoexec": {
      "startup": false,
      "wait_interval": 0
     }
    },
    "colab_type": "code",
    "id": "XzTxX4uEZhfc"
   },
   "outputs": [],
   "source": [
    "def plot_metrics(history):\n",
    "    acc = history.history['acc']\n",
    "    val_acc = history.history['val_acc']\n",
    "    loss = history.history['loss']\n",
    "    val_loss = history.history['val_loss']\n",
    "\n",
    "    epochs = range(1, len(acc) + 1)\n",
    "\n",
    "    plt.figure(figsize =(16,6))\n",
    "    plt.subplot(121)\n",
    "    epochs = range(1, len(loss)+1)\n",
    "    plt.plot(epochs, loss, 'b', label=\"Training Loss\" )\n",
    "    plt.plot(epochs, val_loss, 'r', label=\"Validation Loss\" )\n",
    "    plt.legend()\n",
    "    \n",
    "    plt.subplot(122)\n",
    "    epochs = range(1, len(acc)+1)\n",
    "    plt.plot(epochs, acc, 'b', label=\"Training Accuracy\" )\n",
    "    plt.plot(epochs, val_acc, 'r', label=\"Validation Accuracy\" )\n",
    "    plt.legend()\n",
    "    \n",
    "    plt.show()"
   ]
  },
  {
   "cell_type": "code",
   "execution_count": 10,
   "metadata": {
    "colab": {
     "autoexec": {
      "startup": false,
      "wait_interval": 0
     },
     "base_uri": "https://localhost:8080/",
     "height": 374,
     "output_extras": [
      {
       "item_id": 1
      }
     ]
    },
    "colab_type": "code",
    "executionInfo": {
     "elapsed": 1338,
     "status": "ok",
     "timestamp": 1521297754022,
     "user": {
      "displayName": "Amit Kapoor",
      "photoUrl": "//lh4.googleusercontent.com/-D2AEUHCgcx8/AAAAAAAAAAI/AAAAAAAAAoY/0HFe1PWxMvQ/s50-c-k-no/photo.jpg",
      "userId": "115841624057400778059"
     },
     "user_tz": -330
    },
    "id": "rbLWFBNUZhfg",
    "outputId": "3dca0191-ffdd-4e65-e602-b827f905fdf8"
   },
   "outputs": [
    {
     "data": {
      "image/png": "[encoded data removed]",
      "text/plain": [
       "<matplotlib.figure.Figure at 0x7fbbd4229e10>"
      ]
     },
     "metadata": {
      "tags": []
     },
     "output_type": "display_data"
    }
   ],
   "source": [
    "plot_metrics(history)"
   ]
  },
  {
   "cell_type": "code",
   "execution_count": 11,
   "metadata": {
    "colab": {
     "autoexec": {
      "startup": false,
      "wait_interval": 0
     },
     "base_uri": "https://localhost:8080/",
     "height": 51,
     "output_extras": [
      {
       "item_id": 1
      }
     ]
    },
    "colab_type": "code",
    "executionInfo": {
     "elapsed": 2065,
     "status": "ok",
     "timestamp": 1521297769566,
     "user": {
      "displayName": "Amit Kapoor",
      "photoUrl": "//lh4.googleusercontent.com/-D2AEUHCgcx8/AAAAAAAAAAI/AAAAAAAAAoY/0HFe1PWxMvQ/s50-c-k-no/photo.jpg",
      "userId": "115841624057400778059"
     },
     "user_tz": -330
    },
    "id": "lc8AWVPPZhfo",
    "outputId": "8277cc3b-313f-4e20-f390-d93ac4a90b85"
   },
   "outputs": [
    {
     "name": "stdout",
     "output_type": "stream",
     "text": [
      "Test loss: 0.3053879317998886\n",
      "Test accuracy: 0.887\n"
     ]
    }
   ],
   "source": [
    "score = cnn.evaluate(x_test_conv, y_test_class, verbose=0)\n",
    "print('Test loss:', score[0])\n",
    "print('Test accuracy:', score[1])"
   ]
  },
  {
   "cell_type": "markdown",
   "metadata": {
    "colab_type": "text",
    "id": "BQXDlKzoZhft"
   },
   "source": [
    "## Data Augementation"
   ]
  },
  {
   "cell_type": "code",
   "execution_count": null,
   "metadata": {
    "colab": {
     "autoexec": {
      "startup": false,
      "wait_interval": 0
     }
    },
    "colab_type": "code",
    "id": "qjjD37ANZhfu"
   },
   "outputs": [],
   "source": [
    "from keras.preprocessing.image import ImageDataGenerator"
   ]
  },
  {
   "cell_type": "code",
   "execution_count": null,
   "metadata": {
    "colab": {
     "autoexec": {
      "startup": false,
      "wait_interval": 0
     }
    },
    "colab_type": "code",
    "id": "4XMaNcBAZhf_"
   },
   "outputs": [],
   "source": [
    "from sklearn.model_selection import train_test_split\n",
    "x_train, x_val, y_train, y_val = train_test_split(x_train_conv, y_train_class, test_size=0.2, random_state=12345)"
   ]
  },
  {
   "cell_type": "code",
   "execution_count": null,
   "metadata": {
    "colab": {
     "autoexec": {
      "startup": false,
      "wait_interval": 0
     }
    },
    "colab_type": "code",
    "id": "yV_FSxxiZhgJ"
   },
   "outputs": [],
   "source": [
    "# this will do preprocessing and realtime data augmentation\n",
    "datagen = ImageDataGenerator(\n",
    "    featurewise_center=False,  # set input mean to 0 over the dataset\n",
    "    samplewise_center=False,  # set each sample mean to 0\n",
    "    featurewise_std_normalization=False,  # divide inputs by std of the dataset\n",
    "    samplewise_std_normalization=False,  # divide each input by its std\n",
    "    rotation_range=25,  # randomly rotate images in the range (degrees, 0 to 180)\n",
    "    width_shift_range=0.1,  # randomly shift images horizontally (fraction of total width)\n",
    "    height_shift_range=0.1,  # randomly shift images vertically (fraction of total height)\n",
    "    horizontal_flip=False,  # randomly flip images\n",
    "    vertical_flip=False)  # randomly flip images"
   ]
  },
  {
   "cell_type": "code",
   "execution_count": null,
   "metadata": {
    "colab": {
     "autoexec": {
      "startup": false,
      "wait_interval": 0
     }
    },
    "colab_type": "code",
    "id": "2UsqGxI5ZhgU"
   },
   "outputs": [],
   "source": [
    "datagen.fit(x_train)"
   ]
  },
  {
   "cell_type": "code",
   "execution_count": 17,
   "metadata": {
    "colab": {
     "autoexec": {
      "startup": false,
      "wait_interval": 0
     },
     "base_uri": "https://localhost:8080/",
     "height": 207,
     "output_extras": [
      {
       "item_id": 112
      },
      {
       "item_id": 207
      },
      {
       "item_id": 286
      },
      {
       "item_id": 363
      },
      {
       "item_id": 376
      }
     ]
    },
    "colab_type": "code",
    "executionInfo": {
     "elapsed": 149302,
     "status": "ok",
     "timestamp": 1521297966556,
     "user": {
      "displayName": "Amit Kapoor",
      "photoUrl": "//lh4.googleusercontent.com/-D2AEUHCgcx8/AAAAAAAAAAI/AAAAAAAAAoY/0HFe1PWxMvQ/s50-c-k-no/photo.jpg",
      "userId": "115841624057400778059"
     },
     "user_tz": -330
    },
    "id": "Y9gytvMtZhgj",
    "outputId": "c0abfe9f-5c5e-4b03-a24d-b6df8dd85f59"
   },
   "outputs": [
    {
     "name": "stdout",
     "output_type": "stream",
     "text": [
      "Epoch 1/5\n",
      "1875/1875 [==============================] - 30s 16ms/step - loss: 0.4906 - acc: 0.8152 - val_loss: 0.3226 - val_acc: 0.8786\n",
      "Epoch 2/5\n",
      " 923/1875 [=============>................] - ETA: 14s - loss: 0.4544 - acc: 0.82991875/1875 [==============================] - 29s 16ms/step - loss: 0.4515 - acc: 0.8298 - val_loss: 0.3272 - val_acc: 0.8749\n",
      "Epoch 3/5\n",
      "1391/1875 [=====================>........] - ETA: 7s - loss: 0.4309 - acc: 0.83781875/1875 [==============================] - 30s 16ms/step - loss: 0.4283 - acc: 0.8394 - val_loss: 0.3166 - val_acc: 0.8801\n",
      "Epoch 4/5\n",
      "1550/1875 [=======================>......] - ETA: 4s - loss: 0.4143 - acc: 0.84411875/1875 [==============================] - 30s 16ms/step - loss: 0.4134 - acc: 0.8447 - val_loss: 0.2875 - val_acc: 0.8928\n",
      "Epoch 5/5\n",
      "1604/1875 [========================>.....] - ETA: 4s - loss: 0.4029 - acc: 0.85021875/1875 [==============================] - 30s 16ms/step - loss: 0.4024 - acc: 0.8499 - val_loss: 0.3203 - val_acc: 0.8798\n"
     ]
    }
   ],
   "source": [
    "# fits the model on batches with real-time data augmentation:\n",
    "history = cnn.fit_generator(datagen.flow(x_train_conv, y_train_class, batch_size=32), \n",
    "                             validation_data=(x_val, y_val), use_multiprocessing=True,\n",
    "                     steps_per_epoch=len(x_train_conv) / 32, epochs=5)"
   ]
  },
  {
   "cell_type": "code",
   "execution_count": 18,
   "metadata": {
    "colab": {
     "autoexec": {
      "startup": false,
      "wait_interval": 0
     },
     "base_uri": "https://localhost:8080/",
     "height": 377,
     "output_extras": [
      {
       "item_id": 1
      }
     ]
    },
    "colab_type": "code",
    "executionInfo": {
     "elapsed": 1343,
     "status": "ok",
     "timestamp": 1521297971102,
     "user": {
      "displayName": "Amit Kapoor",
      "photoUrl": "//lh4.googleusercontent.com/-D2AEUHCgcx8/AAAAAAAAAAI/AAAAAAAAAoY/0HFe1PWxMvQ/s50-c-k-no/photo.jpg",
      "userId": "115841624057400778059"
     },
     "user_tz": -330
    },
    "id": "jWNH9RV1Zhgn",
    "outputId": "c21ca629-8d68-40b4-aebd-7c778904b832"
   },
   "outputs": [
    {
     "data": {
      "image/png": "[encoded data removed]",
      "text/plain": [
       "<matplotlib.figure.Figure at 0x7fbbcee31208>"
      ]
     },
     "metadata": {
      "tags": []
     },
     "output_type": "display_data"
    }
   ],
   "source": [
    "plot_metrics(history)"
   ]
  },
  {
   "cell_type": "code",
   "execution_count": 19,
   "metadata": {
    "colab": {
     "autoexec": {
      "startup": false,
      "wait_interval": 0
     },
     "base_uri": "https://localhost:8080/",
     "height": 51,
     "output_extras": [
      {
       "item_id": 1
      }
     ]
    },
    "colab_type": "code",
    "executionInfo": {
     "elapsed": 1837,
     "status": "ok",
     "timestamp": 1521297989943,
     "user": {
      "displayName": "Amit Kapoor",
      "photoUrl": "//lh4.googleusercontent.com/-D2AEUHCgcx8/AAAAAAAAAAI/AAAAAAAAAoY/0HFe1PWxMvQ/s50-c-k-no/photo.jpg",
      "userId": "115841624057400778059"
     },
     "user_tz": -330
    },
    "id": "1kYojZ0QZhgv",
    "outputId": "85194a0a-6b41-405a-ece4-0b46ef7b7f4b"
   },
   "outputs": [
    {
     "name": "stdout",
     "output_type": "stream",
     "text": [
      "Test loss: 0.3679312683582306\n",
      "Test accuracy: 0.8657\n"
     ]
    }
   ],
   "source": [
    "score = cnn.evaluate(x_test_conv, y_test_class, verbose=0)\n",
    "print('Test loss:', score[0])\n",
    "print('Test accuracy:', score[1])"
   ]
  },
  {
   "cell_type": "markdown",
   "metadata": {
    "colab_type": "text",
    "id": "B8JTgp2lZhhG"
   },
   "source": [
    "## Transfer Learning"
   ]
  },
  {
   "cell_type": "markdown",
   "metadata": {
    "colab_type": "text",
    "id": "1BV0PfRGZhhH"
   },
   "source": [
    "Lets resize the image from (28,28,1) to (48,48,3)"
   ]
  },
  {
   "cell_type": "code",
   "execution_count": null,
   "metadata": {
    "colab": {
     "autoexec": {
      "startup": false,
      "wait_interval": 0
     }
    },
    "colab_type": "code",
    "id": "a0Em5OmiZhhJ"
   },
   "outputs": [],
   "source": [
    "from skimage.transform import resize"
   ]
  },
  {
   "cell_type": "code",
   "execution_count": null,
   "metadata": {
    "colab": {
     "autoexec": {
      "startup": false,
      "wait_interval": 0
     }
    },
    "colab_type": "code",
    "id": "Ep6AxY43ZhhM"
   },
   "outputs": [],
   "source": [
    "def resize_image(image):\n",
    "    return resize(image, (96,96,3), mode=\"symmetric\")"
   ]
  },
  {
   "cell_type": "code",
   "execution_count": 14,
   "metadata": {
    "colab": {
     "autoexec": {
      "startup": false,
      "wait_interval": 0
     },
     "base_uri": "https://localhost:8080/",
     "height": 285,
     "output_extras": [
      {
       "item_id": 1
      },
      {
       "item_id": 2
      }
     ]
    },
    "colab_type": "code",
    "executionInfo": {
     "elapsed": 1219,
     "status": "ok",
     "timestamp": 1521300502985,
     "user": {
      "displayName": "Amit Kapoor",
      "photoUrl": "//lh4.googleusercontent.com/-D2AEUHCgcx8/AAAAAAAAAAI/AAAAAAAAAoY/0HFe1PWxMvQ/s50-c-k-no/photo.jpg",
      "userId": "115841624057400778059"
     },
     "user_tz": -330
    },
    "id": "ZE8f-mQoZhhQ",
    "outputId": "9fcd8b02-f210-4dcc-a01c-f48b46c0afa3"
   },
   "outputs": [
    {
     "data": {
      "text/plain": [
       "<matplotlib.image.AxesImage at 0x7fa558068e10>"
      ]
     },
     "execution_count": 14,
     "metadata": {
      "tags": []
     },
     "output_type": "execute_result"
    },
    {
     "data": {
      "image/png": "[encoded data removed]",
      "text/plain": [
       "<matplotlib.figure.Figure at 0x7fa55a1125f8>"
      ]
     },
     "metadata": {
      "tags": []
     },
     "output_type": "display_data"
    }
   ],
   "source": [
    "plt.imshow(resize_image(x_train_conv[0]))"
   ]
  },
  {
   "cell_type": "markdown",
   "metadata": {
    "colab_type": "text",
    "id": "fadjg15eZhhW"
   },
   "source": [
    "Lets resize the 10000 images in train and test data"
   ]
  },
  {
   "cell_type": "code",
   "execution_count": 21,
   "metadata": {
    "colab": {
     "autoexec": {
      "startup": false,
      "wait_interval": 0
     },
     "base_uri": "https://localhost:8080/",
     "height": 34,
     "output_extras": [
      {
       "item_id": 1
      }
     ]
    },
    "colab_type": "code",
    "executionInfo": {
     "elapsed": 57878,
     "status": "ok",
     "timestamp": 1521300737660,
     "user": {
      "displayName": "Amit Kapoor",
      "photoUrl": "//lh4.googleusercontent.com/-D2AEUHCgcx8/AAAAAAAAAAI/AAAAAAAAAoY/0HFe1PWxMvQ/s50-c-k-no/photo.jpg",
      "userId": "115841624057400778059"
     },
     "user_tz": -330
    },
    "id": "hFgQHU8eZhhX",
    "outputId": "19b16009-cc0a-44f4-fdfd-d828110757f6"
   },
   "outputs": [
    {
     "data": {
      "text/plain": [
       "(10000, 96, 96, 3)"
      ]
     },
     "execution_count": 21,
     "metadata": {
      "tags": []
     },
     "output_type": "execute_result"
    }
   ],
   "source": [
    "%timeit\n",
    "x_train_conv_resize = np.array([resize_image(x_train_conv[x]) for x in range(x_train_conv[:10000].shape[0])])\n",
    "x_train_conv_resize.shape"
   ]
  },
  {
   "cell_type": "code",
   "execution_count": 22,
   "metadata": {
    "colab": {
     "autoexec": {
      "startup": false,
      "wait_interval": 0
     },
     "base_uri": "https://localhost:8080/",
     "height": 34,
     "output_extras": [
      {
       "item_id": 1
      }
     ]
    },
    "colab_type": "code",
    "executionInfo": {
     "elapsed": 56175,
     "status": "ok",
     "timestamp": 1521300808676,
     "user": {
      "displayName": "Amit Kapoor",
      "photoUrl": "//lh4.googleusercontent.com/-D2AEUHCgcx8/AAAAAAAAAAI/AAAAAAAAAoY/0HFe1PWxMvQ/s50-c-k-no/photo.jpg",
      "userId": "115841624057400778059"
     },
     "user_tz": -330
    },
    "id": "WHHkM4bFZhhf",
    "outputId": "742463d3-2520-4a0b-dd0f-f2525d90f8a2"
   },
   "outputs": [
    {
     "data": {
      "text/plain": [
       "(10000, 96, 96, 3)"
      ]
     },
     "execution_count": 22,
     "metadata": {
      "tags": []
     },
     "output_type": "execute_result"
    }
   ],
   "source": [
    "%timeit\n",
    "x_test_conv_resize = np.array([resize_image(x_test_conv[x]) for x in range(x_test_conv.shape[0])])\n",
    "x_test_conv_resize.shape"
   ]
  },
  {
   "cell_type": "markdown",
   "metadata": {
    "colab_type": "text",
    "id": "3sJh1HW_Zhhm"
   },
   "source": [
    "Let us load the VGG model without the classifier layer and **do not** train the weights"
   ]
  },
  {
   "cell_type": "code",
   "execution_count": null,
   "metadata": {
    "colab": {
     "autoexec": {
      "startup": false,
      "wait_interval": 0
     }
    },
    "colab_type": "code",
    "id": "F-1xVwMhZhhp"
   },
   "outputs": [],
   "source": [
    "from keras.applications.vgg16 import VGG16"
   ]
  },
  {
   "cell_type": "code",
   "execution_count": null,
   "metadata": {
    "colab": {
     "autoexec": {
      "startup": false,
      "wait_interval": 0
     }
    },
    "colab_type": "code",
    "id": "QqczTtGOZhhu"
   },
   "outputs": [],
   "source": [
    "conv_base = VGG16(include_top=False, weights='imagenet', \n",
    "                        input_tensor=None, input_shape=(96,96,3), pooling=\"avg\")"
   ]
  },
  {
   "cell_type": "code",
   "execution_count": null,
   "metadata": {
    "colab": {
     "autoexec": {
      "startup": false,
      "wait_interval": 0
     }
    },
    "colab_type": "code",
    "id": "FdKE8Y8bc9g6"
   },
   "outputs": [],
   "source": [
    "conv_base.trainable = False"
   ]
  },
  {
   "cell_type": "code",
   "execution_count": 26,
   "metadata": {
    "colab": {
     "autoexec": {
      "startup": false,
      "wait_interval": 0
     },
     "base_uri": "https://localhost:8080/",
     "height": 816,
     "output_extras": [
      {
       "item_id": 1
      }
     ]
    },
    "colab_type": "code",
    "executionInfo": {
     "elapsed": 831,
     "status": "ok",
     "timestamp": 1521300816287,
     "user": {
      "displayName": "Amit Kapoor",
      "photoUrl": "//lh4.googleusercontent.com/-D2AEUHCgcx8/AAAAAAAAAAI/AAAAAAAAAoY/0HFe1PWxMvQ/s50-c-k-no/photo.jpg",
      "userId": "115841624057400778059"
     },
     "user_tz": -330
    },
    "id": "EZI1AcKic2Z5",
    "outputId": "60ab59fe-7c30-4b57-9384-11a6468e5e3f"
   },
   "outputs": [
    {
     "name": "stdout",
     "output_type": "stream",
     "text": [
      "_________________________________________________________________\n",
      "Layer (type)                 Output Shape              Param #   \n",
      "=================================================================\n",
      "input_1 (InputLayer)         (None, 96, 96, 3)         0         \n",
      "_________________________________________________________________\n",
      "block1_conv1 (Conv2D)        (None, 96, 96, 64)        1792      \n",
      "_________________________________________________________________\n",
      "block1_conv2 (Conv2D)        (None, 96, 96, 64)        36928     \n",
      "_________________________________________________________________\n",
      "block1_pool (MaxPooling2D)   (None, 48, 48, 64)        0         \n",
      "_________________________________________________________________\n",
      "block2_conv1 (Conv2D)        (None, 48, 48, 128)       73856     \n",
      "_________________________________________________________________\n",
      "block2_conv2 (Conv2D)        (None, 48, 48, 128)       147584    \n",
      "_________________________________________________________________\n",
      "block2_pool (MaxPooling2D)   (None, 24, 24, 128)       0         \n",
      "_________________________________________________________________\n",
      "block3_conv1 (Conv2D)        (None, 24, 24, 256)       295168    \n",
      "_________________________________________________________________\n",
      "block3_conv2 (Conv2D)        (None, 24, 24, 256)       590080    \n",
      "_________________________________________________________________\n",
      "block3_conv3 (Conv2D)        (None, 24, 24, 256)       590080    \n",
      "_________________________________________________________________\n",
      "block3_pool (MaxPooling2D)   (None, 12, 12, 256)       0         \n",
      "_________________________________________________________________\n",
      "block4_conv1 (Conv2D)        (None, 12, 12, 512)       1180160   \n",
      "_________________________________________________________________\n",
      "block4_conv2 (Conv2D)        (None, 12, 12, 512)       2359808   \n",
      "_________________________________________________________________\n",
      "block4_conv3 (Conv2D)        (None, 12, 12, 512)       2359808   \n",
      "_________________________________________________________________\n",
      "block4_pool (MaxPooling2D)   (None, 6, 6, 512)         0         \n",
      "_________________________________________________________________\n",
      "block5_conv1 (Conv2D)        (None, 6, 6, 512)         2359808   \n",
      "_________________________________________________________________\n",
      "block5_conv2 (Conv2D)        (None, 6, 6, 512)         2359808   \n",
      "_________________________________________________________________\n",
      "block5_conv3 (Conv2D)        (None, 6, 6, 512)         2359808   \n",
      "_________________________________________________________________\n",
      "block5_pool (MaxPooling2D)   (None, 3, 3, 512)         0         \n",
      "_________________________________________________________________\n",
      "global_average_pooling2d_1 ( (None, 512)               0         \n",
      "=================================================================\n",
      "Total params: 14,714,688\n",
      "Trainable params: 0\n",
      "Non-trainable params: 14,714,688\n",
      "_________________________________________________________________\n"
     ]
    }
   ],
   "source": [
    "conv_base.summary()"
   ]
  },
  {
   "cell_type": "markdown",
   "metadata": {
    "colab_type": "text",
    "id": "o2AaA3fLZhh3"
   },
   "source": [
    "Lets build a Dense Layer Classifier after that to classify the fashion mnist data"
   ]
  },
  {
   "cell_type": "code",
   "execution_count": null,
   "metadata": {
    "colab": {
     "autoexec": {
      "startup": false,
      "wait_interval": 0
     }
    },
    "colab_type": "code",
    "id": "2DnTELYwZhh5"
   },
   "outputs": [],
   "source": [
    "model_transfer = Sequential()\n",
    "model_transfer.add(conv_base)\n",
    "model_transfer.add(Dense(128, activation='relu'))\n",
    "model_transfer.add(Dropout(0.25))\n",
    "model_transfer.add(Dense(64, activation='relu'))\n",
    "model_transfer.add(Dense(10, activation='softmax'))"
   ]
  },
  {
   "cell_type": "code",
   "execution_count": 30,
   "metadata": {
    "colab": {
     "autoexec": {
      "startup": false,
      "wait_interval": 0
     },
     "base_uri": "https://localhost:8080/",
     "height": 306,
     "output_extras": [
      {
       "item_id": 1
      }
     ]
    },
    "colab_type": "code",
    "executionInfo": {
     "elapsed": 830,
     "status": "ok",
     "timestamp": 1521300845139,
     "user": {
      "displayName": "Amit Kapoor",
      "photoUrl": "//lh4.googleusercontent.com/-D2AEUHCgcx8/AAAAAAAAAAI/AAAAAAAAAoY/0HFe1PWxMvQ/s50-c-k-no/photo.jpg",
      "userId": "115841624057400778059"
     },
     "user_tz": -330
    },
    "id": "f_ps2s5sZhh_",
    "outputId": "be3fb726-f41c-436a-8291-5b22988a4d6d"
   },
   "outputs": [
    {
     "name": "stdout",
     "output_type": "stream",
     "text": [
      "_________________________________________________________________\n",
      "Layer (type)                 Output Shape              Param #   \n",
      "=================================================================\n",
      "vgg16 (Model)                (None, 512)               14714688  \n",
      "_________________________________________________________________\n",
      "dense_1 (Dense)              (None, 128)               65664     \n",
      "_________________________________________________________________\n",
      "dropout_1 (Dropout)          (None, 128)               0         \n",
      "_________________________________________________________________\n",
      "dense_2 (Dense)              (None, 64)                8256      \n",
      "_________________________________________________________________\n",
      "dense_3 (Dense)              (None, 10)                650       \n",
      "=================================================================\n",
      "Total params: 14,789,258\n",
      "Trainable params: 74,570\n",
      "Non-trainable params: 14,714,688\n",
      "_________________________________________________________________\n"
     ]
    }
   ],
   "source": [
    "model_transfer.summary()"
   ]
  },
  {
   "cell_type": "code",
   "execution_count": null,
   "metadata": {
    "colab": {
     "autoexec": {
      "startup": false,
      "wait_interval": 0
     }
    },
    "colab_type": "code",
    "id": "RLKx_3poZhiF"
   },
   "outputs": [],
   "source": [
    "model_transfer.compile(loss='categorical_crossentropy', optimizer=\"adam\", metrics=['accuracy'])"
   ]
  },
  {
   "cell_type": "code",
   "execution_count": 32,
   "metadata": {
    "colab": {
     "autoexec": {
      "startup": false,
      "wait_interval": 0
     },
     "base_uri": "https://localhost:8080/",
     "height": 258,
     "output_extras": [
      {
       "item_id": 184
      },
      {
       "item_id": 235
      }
     ]
    },
    "colab_type": "code",
    "executionInfo": {
     "elapsed": 105236,
     "status": "ok",
     "timestamp": 1521300957552,
     "user": {
      "displayName": "Amit Kapoor",
      "photoUrl": "//lh4.googleusercontent.com/-D2AEUHCgcx8/AAAAAAAAAAI/AAAAAAAAAoY/0HFe1PWxMvQ/s50-c-k-no/photo.jpg",
      "userId": "115841624057400778059"
     },
     "user_tz": -330
    },
    "id": "fNQM59wUZhiK",
    "outputId": "cf874918-d774-4b1e-c34a-db2897dcdcdc"
   },
   "outputs": [
    {
     "name": "stdout",
     "output_type": "stream",
     "text": [
      "CPU times: user 0 ns, sys: 0 ns, total: 0 ns\n",
      "Wall time: 5.72 µs\n",
      "Train on 8000 samples, validate on 2000 samples\n",
      "Epoch 1/5\n",
      "8000/8000 [==============================] - 25s 3ms/step - loss: 1.5235 - acc: 0.4991 - val_loss: 0.8402 - val_acc: 0.7250\n",
      "Epoch 2/5\n",
      "8000/8000 [==============================] - 20s 2ms/step - loss: 0.7511 - acc: 0.7385 - val_loss: 0.6014 - val_acc: 0.7865\n",
      "Epoch 3/5\n",
      "8000/8000 [==============================] - 20s 2ms/step - loss: 0.5992 - acc: 0.7849 - val_loss: 0.5358 - val_acc: 0.8105\n",
      "Epoch 4/5\n",
      "7296/8000 [==========================>...] - ETA: 1s - loss: 0.5267 - acc: 0.81108000/8000 [==============================] - 20s 2ms/step - loss: 0.5247 - acc: 0.8120 - val_loss: 0.5153 - val_acc: 0.8120\n",
      "Epoch 5/5\n",
      "8000/8000 [==============================] - 20s 2ms/step - loss: 0.4883 - acc: 0.8236 - val_loss: 0.4757 - val_acc: 0.8300\n"
     ]
    }
   ],
   "source": [
    "%time\n",
    "history_transfer = model_transfer.fit(x_train_conv_resize, y_train_class[:10000], \n",
    "                                      batch_size=128, epochs=5, verbose=1, validation_split = 0.2)"
   ]
  },
  {
   "cell_type": "code",
   "execution_count": 35,
   "metadata": {
    "colab": {
     "autoexec": {
      "startup": false,
      "wait_interval": 0
     },
     "base_uri": "https://localhost:8080/",
     "height": 374,
     "output_extras": [
      {
       "item_id": 1
      }
     ]
    },
    "colab_type": "code",
    "executionInfo": {
     "elapsed": 1161,
     "status": "ok",
     "timestamp": 1521300979109,
     "user": {
      "displayName": "Amit Kapoor",
      "photoUrl": "//lh4.googleusercontent.com/-D2AEUHCgcx8/AAAAAAAAAAI/AAAAAAAAAoY/0HFe1PWxMvQ/s50-c-k-no/photo.jpg",
      "userId": "115841624057400778059"
     },
     "user_tz": -330
    },
    "id": "QtUXU4xRbgL4",
    "outputId": "0f5d659a-29f8-4e0d-dd27-9c07d558c476"
   },
   "outputs": [
    {
     "data": {
      "image/png": "[encoded data removed]",
      "text/plain": [
       "<matplotlib.figure.Figure at 0x7fa552ead6a0>"
      ]
     },
     "metadata": {
      "tags": []
     },
     "output_type": "display_data"
    }
   ],
   "source": [
    "plot_metrics(history_transfer)"
   ]
  },
  {
   "cell_type": "code",
   "execution_count": 40,
   "metadata": {
    "colab": {
     "autoexec": {
      "startup": false,
      "wait_interval": 0
     },
     "base_uri": "https://localhost:8080/",
     "height": 68,
     "output_extras": [
      {
       "item_id": 67
      }
     ]
    },
    "colab_type": "code",
    "executionInfo": {
     "elapsed": 24216,
     "status": "ok",
     "timestamp": 1521301117139,
     "user": {
      "displayName": "Amit Kapoor",
      "photoUrl": "//lh4.googleusercontent.com/-D2AEUHCgcx8/AAAAAAAAAAI/AAAAAAAAAoY/0HFe1PWxMvQ/s50-c-k-no/photo.jpg",
      "userId": "115841624057400778059"
     },
     "user_tz": -330
    },
    "id": "S_TAmT3dZhiR",
    "outputId": "ce0edf2e-1b6e-4667-b347-76d668c1e1d7"
   },
   "outputs": [
    {
     "name": "stdout",
     "output_type": "stream",
     "text": [
      "10000/10000 [==============================] - 24s 2ms/step\n",
      "Test loss: 0.4677408727169037\n",
      "Test accuracy: 0.8301\n"
     ]
    }
   ],
   "source": [
    "score = model_transfer.evaluate(x_test_conv_resize, y_test_class, verbose=1)\n",
    "print('Test loss:', score[0])\n",
    "print('Test accuracy:', score[1])"
   ]
  },
  {
   "cell_type": "code",
   "execution_count": null,
   "metadata": {
    "colab": {
     "autoexec": {
      "startup": false,
      "wait_interval": 0
     }
    },
    "colab_type": "code",
    "id": "qOJk0ncjcBoa"
   },
   "outputs": [],
   "source": []
  }
 ],
 "metadata": {
  "accelerator": "GPU",
  "colab": {
   "default_view": {},
   "name": "04-Transfer-Learning.ipynb",
   "provenance": [],
   "version": "0.3.2",
   "views": {}
  },
  "kernelspec": {
   "display_name": "Python 3",
   "language": "python",
   "name": "python3"
  },
  "language_info": {
   "codemirror_mode": {
    "name": "ipython",
    "version": 3
   },
   "file_extension": ".py",
   "mimetype": "text/x-python",
   "name": "python",
   "nbconvert_exporter": "python",
   "pygments_lexer": "ipython3",
   "version": "3.6.4"
  }
 },
 "nbformat": 4,
 "nbformat_minor": 2
}
