{
 "cells": [
  {
   "cell_type": "markdown",
   "metadata": {},
   "source": [
    "# Convolution Neural Network - Fashion MNIST"
   ]
  },
  {
   "cell_type": "markdown",
   "metadata": {},
   "source": [
    "CNN allow us to extract the features of the image while maintaining the spatial arrangement of the image. \n",
    "\n",
    "Lets apply this to the Fashion MNIST Example"
   ]
  },
  {
   "cell_type": "code",
   "execution_count": 2,
   "metadata": {},
   "outputs": [],
   "source": [
    "import numpy as np\n",
    "import pandas as pd\n",
    "import keras\n",
    "import matplotlib.pyplot as plt\n",
    "% matplotlib inline\n",
    "import vis"
   ]
  },
  {
   "cell_type": "code",
   "execution_count": 69,
   "metadata": {},
   "outputs": [],
   "source": [
    "from keras.models import Sequential\n",
    "from keras.layers import Conv2D, MaxPooling2D, Activation, Flatten, Dense, Dropout\n",
    "from keras import backend as K"
   ]
  },
  {
   "cell_type": "markdown",
   "metadata": {},
   "source": [
    "## Get Data"
   ]
  },
  {
   "cell_type": "code",
   "execution_count": 4,
   "metadata": {},
   "outputs": [],
   "source": [
    "from keras.datasets import fashion_mnist"
   ]
  },
  {
   "cell_type": "code",
   "execution_count": 5,
   "metadata": {},
   "outputs": [
    {
     "name": "stdout",
     "output_type": "stream",
     "text": [
      "Downloading data from http://fashion-mnist.s3-website.eu-central-1.amazonaws.com/train-labels-idx1-ubyte.gz\n",
      "32768/29515 [=================================] - 0s 3us/step\n",
      "Downloading data from http://fashion-mnist.s3-website.eu-central-1.amazonaws.com/train-images-idx3-ubyte.gz\n",
      "26427392/26421880 [==============================] - 4s 0us/step\n",
      "Downloading data from http://fashion-mnist.s3-website.eu-central-1.amazonaws.com/t10k-labels-idx1-ubyte.gz\n",
      "8192/5148 [===============================================] - 0s 0us/step\n",
      "Downloading data from http://fashion-mnist.s3-website.eu-central-1.amazonaws.com/t10k-images-idx3-ubyte.gz\n",
      "4423680/4422102 [==============================] - 2s 0us/step\n"
     ]
    },
    {
     "data": {
      "text/plain": [
       "((60000, 28, 28), (60000,), (10000, 28, 28), (10000,))"
      ]
     },
     "execution_count": 5,
     "metadata": {},
     "output_type": "execute_result"
    }
   ],
   "source": [
    "(x_train, y_train), (x_test, y_test) = fashion_mnist.load_data()\n",
    "x_train.shape, y_train.shape, x_test.shape, y_test.shape"
   ]
  },
  {
   "cell_type": "code",
   "execution_count": 7,
   "metadata": {},
   "outputs": [],
   "source": [
    "labels = vis.fashion_mnist_label()"
   ]
  },
  {
   "cell_type": "markdown",
   "metadata": {},
   "source": [
    "**Step 1: Prepare the images and labels**\n",
    "\n",
    "Reshape data for convolution network"
   ]
  },
  {
   "cell_type": "code",
   "execution_count": 8,
   "metadata": {},
   "outputs": [
    {
     "data": {
      "text/plain": [
       "'channels_last'"
      ]
     },
     "execution_count": 8,
     "metadata": {},
     "output_type": "execute_result"
    }
   ],
   "source": [
    "K.image_data_format()"
   ]
  },
  {
   "cell_type": "code",
   "execution_count": 9,
   "metadata": {},
   "outputs": [],
   "source": [
    "x_train_conv = x_train.reshape(x_train.shape[0], 28, 28, 1)\n",
    "x_test_conv = x_test.reshape(x_test.shape[0], 28, 28, 1)\n",
    "input_shape = (28, 28, 1)"
   ]
  },
  {
   "cell_type": "markdown",
   "metadata": {},
   "source": [
    "Convert from 'uint8' to 'float32' and normalise the data to (0,1) "
   ]
  },
  {
   "cell_type": "code",
   "execution_count": 10,
   "metadata": {},
   "outputs": [],
   "source": [
    "x_train_conv =  x_train_conv.astype(\"float32\") / 255\n",
    "x_test_conv = x_test_conv.astype(\"float32\") / 255"
   ]
  },
  {
   "cell_type": "markdown",
   "metadata": {},
   "source": [
    "Convert class vectors to binary class matrices"
   ]
  },
  {
   "cell_type": "code",
   "execution_count": 11,
   "metadata": {},
   "outputs": [],
   "source": [
    "# convert class vectors to binary class matrices\n",
    "y_train_class = keras.utils.to_categorical(y_train, 10)\n",
    "y_test_class = keras.utils.to_categorical(y_test, 10)"
   ]
  },
  {
   "cell_type": "markdown",
   "metadata": {},
   "source": [
    "## Model 1: Simple Convolution"
   ]
  },
  {
   "cell_type": "markdown",
   "metadata": {},
   "source": [
    "**Step 2: Craft the feature transfomation and classifier model **"
   ]
  },
  {
   "cell_type": "code",
   "execution_count": 12,
   "metadata": {},
   "outputs": [],
   "source": [
    "model_simple_conv = Sequential()\n",
    "model_simple_conv.add(Conv2D(2, (3, 3), activation =\"relu\", input_shape=(28, 28, 1)))\n",
    "model_simple_conv.add(Flatten())\n",
    "model_simple_conv.add(Dense(100, activation='relu'))\n",
    "model_simple_conv.add(Dense(10, activation='softmax'))"
   ]
  },
  {
   "cell_type": "code",
   "execution_count": 13,
   "metadata": {},
   "outputs": [
    {
     "name": "stdout",
     "output_type": "stream",
     "text": [
      "_________________________________________________________________\n",
      "Layer (type)                 Output Shape              Param #   \n",
      "=================================================================\n",
      "conv2d_1 (Conv2D)            (None, 26, 26, 2)         20        \n",
      "_________________________________________________________________\n",
      "flatten_1 (Flatten)          (None, 1352)              0         \n",
      "_________________________________________________________________\n",
      "dense_1 (Dense)              (None, 100)               135300    \n",
      "_________________________________________________________________\n",
      "dense_2 (Dense)              (None, 10)                1010      \n",
      "=================================================================\n",
      "Total params: 136,330\n",
      "Trainable params: 136,330\n",
      "Non-trainable params: 0\n",
      "_________________________________________________________________\n"
     ]
    }
   ],
   "source": [
    "model_simple_conv.summary()"
   ]
  },
  {
   "cell_type": "markdown",
   "metadata": {},
   "source": [
    "**Step 3: Compile and fit the model**"
   ]
  },
  {
   "cell_type": "code",
   "execution_count": 14,
   "metadata": {},
   "outputs": [],
   "source": [
    "model_simple_conv.compile(loss='categorical_crossentropy', optimizer=\"sgd\", metrics=['accuracy'])"
   ]
  },
  {
   "cell_type": "code",
   "execution_count": 15,
   "metadata": {},
   "outputs": [
    {
     "name": "stdout",
     "output_type": "stream",
     "text": [
      "Train on 60000 samples, validate on 10000 samples\n",
      "Epoch 1/5\n",
      " - 20s - loss: 0.8811 - acc: 0.7063 - val_loss: 0.6455 - val_acc: 0.7710\n",
      "Epoch 2/5\n",
      " - 25s - loss: 0.7154 - acc: 0.7725 - val_loss: 2.1814 - val_acc: 0.7042\n",
      "Epoch 3/5\n",
      " - 25s - loss: 8.1733 - acc: 0.4493 - val_loss: 9.7974 - val_acc: 0.3832\n",
      "Epoch 4/5\n",
      " - 22s - loss: 9.0385 - acc: 0.4202 - val_loss: 8.4062 - val_acc: 0.4716\n",
      "Epoch 5/5\n",
      " - 22s - loss: 9.7800 - acc: 0.3887 - val_loss: 9.8707 - val_acc: 0.3854\n",
      "CPU times: user 1min 56s, sys: 5.1 s, total: 2min 1s\n",
      "Wall time: 1min 54s\n"
     ]
    }
   ],
   "source": [
    "%%time \n",
    "output_simple_conv = model_simple_conv.fit(x_train_conv, y_train_class, batch_size=512, epochs=5, verbose=2,\n",
    "                    validation_data=(x_test_conv, y_test_class))"
   ]
  },
  {
   "cell_type": "markdown",
   "metadata": {},
   "source": [
    "**Step 4: Check the performance of the model**"
   ]
  },
  {
   "cell_type": "code",
   "execution_count": 16,
   "metadata": {},
   "outputs": [
    {
     "data": {
      "application/vnd.vegalite.v2+json": {
       "$schema": "https://vega.github.io/schema/vega-lite/v2.4.3.json",
       "config": {
        "view": {
         "height": 300,
         "width": 400
        }
       },
       "data": {
        "values": [
         {
          "batch": 1,
          "metrics": "loss",
          "type": "validation",
          "value": 0.6455104387283325
         },
         {
          "batch": 2,
          "metrics": "loss",
          "type": "validation",
          "value": 2.1813681322097778
         },
         {
          "batch": 3,
          "metrics": "loss",
          "type": "validation",
          "value": 9.797422826385498
         },
         {
          "batch": 4,
          "metrics": "loss",
          "type": "validation",
          "value": 8.406224081420898
         },
         {
          "batch": 5,
          "metrics": "loss",
          "type": "validation",
          "value": 9.870682147216797
         },
         {
          "batch": 1,
          "metrics": "acc",
          "type": "validation",
          "value": 0.771
         },
         {
          "batch": 2,
          "metrics": "acc",
          "type": "validation",
          "value": 0.7042
         },
         {
          "batch": 3,
          "metrics": "acc",
          "type": "validation",
          "value": 0.3832
         },
         {
          "batch": 4,
          "metrics": "acc",
          "type": "validation",
          "value": 0.4716
         },
         {
          "batch": 5,
          "metrics": "acc",
          "type": "validation",
          "value": 0.3854
         },
         {
          "batch": 1,
          "metrics": "loss",
          "type": "training",
          "value": 0.8810971363385518
         },
         {
          "batch": 2,
          "metrics": "loss",
          "type": "training",
          "value": 0.7154248732884725
         },
         {
          "batch": 3,
          "metrics": "loss",
          "type": "training",
          "value": 8.173330311711629
         },
         {
          "batch": 4,
          "metrics": "loss",
          "type": "training",
          "value": 9.038537847391764
         },
         {
          "batch": 5,
          "metrics": "loss",
          "type": "training",
          "value": 9.77995554453532
         },
         {
          "batch": 1,
          "metrics": "acc",
          "type": "training",
          "value": 0.7063333333333334
         },
         {
          "batch": 2,
          "metrics": "acc",
          "type": "training",
          "value": 0.7725499999682108
         },
         {
          "batch": 3,
          "metrics": "acc",
          "type": "training",
          "value": 0.4493
         },
         {
          "batch": 4,
          "metrics": "acc",
          "type": "training",
          "value": 0.4202
         },
         {
          "batch": 5,
          "metrics": "acc",
          "type": "training",
          "value": 0.3886833333333333
         }
        ]
       },
       "facet": {
        "column": {
         "field": "metrics",
         "type": "nominal"
        }
       },
       "resolve": {
        "scale": {
         "color": "shared",
         "x": "shared",
         "y": "independent"
        }
       },
       "spec": {
        "layer": [
         {
          "encoding": {
           "color": {
            "field": "type",
            "type": "nominal"
           },
           "tooltip": [
            {
             "field": "batch",
             "type": "quantitative"
            },
            {
             "field": "value",
             "type": "quantitative"
            }
           ],
           "x": {
            "field": "batch",
            "type": "quantitative"
           },
           "y": {
            "field": "value",
            "type": "quantitative"
           }
          },
          "height": 300,
          "mark": {
           "size": 50,
           "type": "circle"
          },
          "width": 300
         },
         {
          "encoding": {
           "color": {
            "field": "type",
            "type": "nominal"
           },
           "x": {
            "field": "batch",
            "type": "quantitative"
           },
           "y": {
            "field": "value",
            "type": "quantitative"
           }
          },
          "height": 300,
          "mark": "line",
          "width": 300
         }
        ]
       }
      },
      "image/png": "[encoded data removed]",
      "text/plain": [
       "<VegaLite 2 object>\n",
       "\n",
       "If you see this message, it means the renderer has not been properly enabled\n",
       "for the frontend that you are using. For more information, see\n",
       "https://altair-viz.github.io/user_guide/troubleshooting.html\n"
      ]
     },
     "execution_count": 16,
     "metadata": {},
     "output_type": "execute_result"
    }
   ],
   "source": [
    "vis.metrics(output_simple_conv.history)"
   ]
  },
  {
   "cell_type": "code",
   "execution_count": 17,
   "metadata": {},
   "outputs": [
    {
     "name": "stdout",
     "output_type": "stream",
     "text": [
      "10000/10000 [==============================] - 2s 200us/step\n"
     ]
    }
   ],
   "source": [
    "score = model_simple_conv.evaluate(x_test_conv, y_test_class, verbose=1)"
   ]
  },
  {
   "cell_type": "code",
   "execution_count": 18,
   "metadata": {},
   "outputs": [
    {
     "name": "stdout",
     "output_type": "stream",
     "text": [
      "Test loss: 9.870681315612792\n",
      "Test accuracy: 0.3854\n"
     ]
    }
   ],
   "source": [
    "print('Test loss:', score[0])\n",
    "print('Test accuracy:', score[1])"
   ]
  },
  {
   "cell_type": "markdown",
   "metadata": {},
   "source": [
    "**Step 5: Make & Visualise the Prediction**"
   ]
  },
  {
   "cell_type": "code",
   "execution_count": 19,
   "metadata": {},
   "outputs": [],
   "source": [
    "predict_classes_conv = model_simple_conv.predict_classes(x_test_conv)"
   ]
  },
  {
   "cell_type": "code",
   "execution_count": 20,
   "metadata": {},
   "outputs": [
    {
     "data": {
      "text/html": [
       "<div>\n",
       "<style scoped>\n",
       "    .dataframe tbody tr th:only-of-type {\n",
       "        vertical-align: middle;\n",
       "    }\n",
       "\n",
       "    .dataframe tbody tr th {\n",
       "        vertical-align: top;\n",
       "    }\n",
       "\n",
       "    .dataframe thead th {\n",
       "        text-align: right;\n",
       "    }\n",
       "</style>\n",
       "<table border=\"1\" class=\"dataframe\">\n",
       "  <thead>\n",
       "    <tr style=\"text-align: right;\">\n",
       "      <th>col_0</th>\n",
       "      <th>1</th>\n",
       "      <th>2</th>\n",
       "      <th>7</th>\n",
       "      <th>8</th>\n",
       "    </tr>\n",
       "    <tr>\n",
       "      <th>row_0</th>\n",
       "      <th></th>\n",
       "      <th></th>\n",
       "      <th></th>\n",
       "      <th></th>\n",
       "    </tr>\n",
       "  </thead>\n",
       "  <tbody>\n",
       "    <tr>\n",
       "      <th>0</th>\n",
       "      <td>252</td>\n",
       "      <td>716</td>\n",
       "      <td>0</td>\n",
       "      <td>32</td>\n",
       "    </tr>\n",
       "    <tr>\n",
       "      <th>1</th>\n",
       "      <td>965</td>\n",
       "      <td>33</td>\n",
       "      <td>0</td>\n",
       "      <td>2</td>\n",
       "    </tr>\n",
       "    <tr>\n",
       "      <th>2</th>\n",
       "      <td>12</td>\n",
       "      <td>984</td>\n",
       "      <td>0</td>\n",
       "      <td>4</td>\n",
       "    </tr>\n",
       "    <tr>\n",
       "      <th>3</th>\n",
       "      <td>806</td>\n",
       "      <td>185</td>\n",
       "      <td>0</td>\n",
       "      <td>9</td>\n",
       "    </tr>\n",
       "    <tr>\n",
       "      <th>4</th>\n",
       "      <td>78</td>\n",
       "      <td>919</td>\n",
       "      <td>0</td>\n",
       "      <td>3</td>\n",
       "    </tr>\n",
       "    <tr>\n",
       "      <th>5</th>\n",
       "      <td>2</td>\n",
       "      <td>37</td>\n",
       "      <td>731</td>\n",
       "      <td>230</td>\n",
       "    </tr>\n",
       "    <tr>\n",
       "      <th>6</th>\n",
       "      <td>112</td>\n",
       "      <td>862</td>\n",
       "      <td>0</td>\n",
       "      <td>26</td>\n",
       "    </tr>\n",
       "    <tr>\n",
       "      <th>7</th>\n",
       "      <td>0</td>\n",
       "      <td>0</td>\n",
       "      <td>999</td>\n",
       "      <td>1</td>\n",
       "    </tr>\n",
       "    <tr>\n",
       "      <th>8</th>\n",
       "      <td>5</td>\n",
       "      <td>80</td>\n",
       "      <td>9</td>\n",
       "      <td>906</td>\n",
       "    </tr>\n",
       "    <tr>\n",
       "      <th>9</th>\n",
       "      <td>1</td>\n",
       "      <td>45</td>\n",
       "      <td>936</td>\n",
       "      <td>18</td>\n",
       "    </tr>\n",
       "  </tbody>\n",
       "</table>\n",
       "</div>"
      ],
      "text/plain": [
       "col_0    1    2    7    8\n",
       "row_0                    \n",
       "0      252  716    0   32\n",
       "1      965   33    0    2\n",
       "2       12  984    0    4\n",
       "3      806  185    0    9\n",
       "4       78  919    0    3\n",
       "5        2   37  731  230\n",
       "6      112  862    0   26\n",
       "7        0    0  999    1\n",
       "8        5   80    9  906\n",
       "9        1   45  936   18"
      ]
     },
     "execution_count": 20,
     "metadata": {},
     "output_type": "execute_result"
    }
   ],
   "source": [
    "pd.crosstab(y_test, predict_classes_conv)"
   ]
  },
  {
   "cell_type": "code",
   "execution_count": 21,
   "metadata": {},
   "outputs": [],
   "source": [
    "proba_conv = model_simple_conv.predict_proba(x_test_conv)"
   ]
  },
  {
   "cell_type": "code",
   "execution_count": 63,
   "metadata": {},
   "outputs": [],
   "source": [
    "i = 0"
   ]
  },
  {
   "cell_type": "code",
   "execution_count": 64,
   "metadata": {},
   "outputs": [
    {
     "data": {
      "application/vnd.vegalite.v2+json": {
       "$schema": "https://vega.github.io/schema/vega-lite/v2.4.3.json",
       "config": {
        "view": {
         "height": 300,
         "width": 400
        }
       },
       "hconcat": [
        {
         "data": {
          "values": [
           {
            "h": 0,
            "value": 0,
            "w": 0
           },
           {
            "h": 1,
            "value": 0,
            "w": 0
           },
           {
            "h": 2,
            "value": 0,
            "w": 0
           },
           {
            "h": 3,
            "value": 0,
            "w": 0
           },
           {
            "h": 4,
            "value": 0,
            "w": 0
           },
           {
            "h": 5,
            "value": 0,
            "w": 0
           },
           {
            "h": 6,
            "value": 0,
            "w": 0
           },
           {
            "h": 7,
            "value": 0,
            "w": 0
           },
           {
            "h": 8,
            "value": 0,
            "w": 0
           },
           {
            "h": 9,
            "value": 0,
            "w": 0
           },
           {
            "h": 10,
            "value": 0,
            "w": 0
           },
           {
            "h": 11,
            "value": 0,
            "w": 0
           },
           {
            "h": 12,
            "value": 0,
            "w": 0
           },
           {
            "h": 13,
            "value": 0,
            "w": 0
           },
           {
            "h": 14,
            "value": 0,
            "w": 0
           },
           {
            "h": 15,
            "value": 0,
            "w": 0
           },
           {
            "h": 16,
            "value": 3,
            "w": 0
           },
           {
            "h": 17,
            "value": 0,
            "w": 0
           },
           {
            "h": 18,
            "value": 0,
            "w": 0
           },
           {
            "h": 19,
            "value": 70,
            "w": 0
           },
           {
            "h": 20,
            "value": 16,
            "w": 0
           },
           {
            "h": 21,
            "value": 0,
            "w": 0
           },
           {
            "h": 22,
            "value": 0,
            "w": 0
           },
           {
            "h": 23,
            "value": 0,
            "w": 0
           },
           {
            "h": 24,
            "value": 0,
            "w": 0
           },
           {
            "h": 25,
            "value": 0,
            "w": 0
           },
           {
            "h": 26,
            "value": 0,
            "w": 0
           },
           {
            "h": 27,
            "value": 0,
            "w": 0
           },
           {
            "h": 0,
            "value": 0,
            "w": 1
           },
           {
            "h": 1,
            "value": 0,
            "w": 1
           },
           {
            "h": 2,
            "value": 0,
            "w": 1
           },
           {
            "h": 3,
            "value": 0,
            "w": 1
           },
           {
            "h": 4,
            "value": 0,
            "w": 1
           },
           {
            "h": 5,
            "value": 0,
            "w": 1
           },
           {
            "h": 6,
            "value": 0,
            "w": 1
           },
           {
            "h": 7,
            "value": 0,
            "w": 1
           },
           {
            "h": 8,
            "value": 0,
            "w": 1
           },
           {
            "h": 9,
            "value": 0,
            "w": 1
           },
           {
            "h": 10,
            "value": 0,
            "w": 1
           },
           {
            "h": 11,
            "value": 0,
            "w": 1
           },
           {
            "h": 12,
            "value": 0,
            "w": 1
           },
           {
            "h": 13,
            "value": 0,
            "w": 1
           },
           {
            "h": 14,
            "value": 0,
            "w": 1
           },
           {
            "h": 15,
            "value": 0,
            "w": 1
           },
           {
            "h": 16,
            "value": 0,
            "w": 1
           },
           {
            "h": 17,
            "value": 0,
            "w": 1
           },
           {
            "h": 18,
            "value": 68,
            "w": 1
           },
           {
            "h": 19,
            "value": 169,
            "w": 1
           },
           {
            "h": 20,
            "value": 126,
            "w": 1
           },
           {
            "h": 21,
            "value": 0,
            "w": 1
           },
           {
            "h": 22,
            "value": 0,
            "w": 1
           },
           {
            "h": 23,
            "value": 0,
            "w": 1
           },
           {
            "h": 24,
            "value": 0,
            "w": 1
           },
           {
            "h": 25,
            "value": 0,
            "w": 1
           },
           {
            "h": 26,
            "value": 0,
            "w": 1
           },
           {
            "h": 27,
            "value": 0,
            "w": 1
           },
           {
            "h": 0,
            "value": 0,
            "w": 2
           },
           {
            "h": 1,
            "value": 0,
            "w": 2
           },
           {
            "h": 2,
            "value": 0,
            "w": 2
           },
           {
            "h": 3,
            "value": 0,
            "w": 2
           },
           {
            "h": 4,
            "value": 0,
            "w": 2
           },
           {
            "h": 5,
            "value": 0,
            "w": 2
           },
           {
            "h": 6,
            "value": 0,
            "w": 2
           },
           {
            "h": 7,
            "value": 0,
            "w": 2
           },
           {
            "h": 8,
            "value": 0,
            "w": 2
           },
           {
            "h": 9,
            "value": 0,
            "w": 2
           },
           {
            "h": 10,
            "value": 0,
            "w": 2
           },
           {
            "h": 11,
            "value": 0,
            "w": 2
           },
           {
            "h": 12,
            "value": 0,
            "w": 2
           },
           {
            "h": 13,
            "value": 0,
            "w": 2
           },
           {
            "h": 14,
            "value": 0,
            "w": 2
           },
           {
            "h": 15,
            "value": 2,
            "w": 2
           },
           {
            "h": 16,
            "value": 0,
            "w": 2
           },
           {
            "h": 17,
            "value": 23,
            "w": 2
           },
           {
            "h": 18,
            "value": 94,
            "w": 2
           },
           {
            "h": 19,
            "value": 129,
            "w": 2
           },
           {
            "h": 20,
            "value": 171,
            "w": 2
           },
           {
            "h": 21,
            "value": 0,
            "w": 2
           },
           {
            "h": 22,
            "value": 0,
            "w": 2
           },
           {
            "h": 23,
            "value": 0,
            "w": 2
           },
           {
            "h": 24,
            "value": 0,
            "w": 2
           },
           {
            "h": 25,
            "value": 0,
            "w": 2
           },
           {
            "h": 26,
            "value": 0,
            "w": 2
           },
           {
            "h": 27,
            "value": 0,
            "w": 2
           },
           {
            "h": 0,
            "value": 0,
            "w": 3
           },
           {
            "h": 1,
            "value": 0,
            "w": 3
           },
           {
            "h": 2,
            "value": 0,
            "w": 3
           },
           {
            "h": 3,
            "value": 0,
            "w": 3
           },
           {
            "h": 4,
            "value": 0,
            "w": 3
           },
           {
            "h": 5,
            "value": 0,
            "w": 3
           },
           {
            "h": 6,
            "value": 0,
            "w": 3
           },
           {
            "h": 7,
            "value": 0,
            "w": 3
           },
           {
            "h": 8,
            "value": 0,
            "w": 3
           },
           {
            "h": 9,
            "value": 0,
            "w": 3
           },
           {
            "h": 10,
            "value": 0,
            "w": 3
           },
           {
            "h": 11,
            "value": 0,
            "w": 3
           },
           {
            "h": 12,
            "value": 0,
            "w": 3
           },
           {
            "h": 13,
            "value": 0,
            "w": 3
           },
           {
            "h": 14,
            "value": 0,
            "w": 3
           },
           {
            "h": 15,
            "value": 2,
            "w": 3
           },
           {
            "h": 16,
            "value": 0,
            "w": 3
           },
           {
            "h": 17,
            "value": 54,
            "w": 3
           },
           {
            "h": 18,
            "value": 90,
            "w": 3
           },
           {
            "h": 19,
            "value": 104,
            "w": 3
           },
           {
            "h": 20,
            "value": 188,
            "w": 3
           },
           {
            "h": 21,
            "value": 12,
            "w": 3
           },
           {
            "h": 22,
            "value": 0,
            "w": 3
           },
           {
            "h": 23,
            "value": 0,
            "w": 3
           },
           {
            "h": 24,
            "value": 0,
            "w": 3
           },
           {
            "h": 25,
            "value": 0,
            "w": 3
           },
           {
            "h": 26,
            "value": 0,
            "w": 3
           },
           {
            "h": 27,
            "value": 0,
            "w": 3
           },
           {
            "h": 0,
            "value": 0,
            "w": 4
           },
           {
            "h": 1,
            "value": 0,
            "w": 4
           },
           {
            "h": 2,
            "value": 0,
            "w": 4
           },
           {
            "h": 3,
            "value": 0,
            "w": 4
           },
           {
            "h": 4,
            "value": 0,
            "w": 4
           },
           {
            "h": 5,
            "value": 0,
            "w": 4
           },
           {
            "h": 6,
            "value": 0,
            "w": 4
           },
           {
            "h": 7,
            "value": 0,
            "w": 4
           },
           {
            "h": 8,
            "value": 0,
            "w": 4
           },
           {
            "h": 9,
            "value": 0,
            "w": 4
           },
           {
            "h": 10,
            "value": 0,
            "w": 4
           },
           {
            "h": 11,
            "value": 0,
            "w": 4
           },
           {
            "h": 12,
            "value": 0,
            "w": 4
           },
           {
            "h": 13,
            "value": 1,
            "w": 4
           },
           {
            "h": 14,
            "value": 0,
            "w": 4
           },
           {
            "h": 15,
            "value": 1,
            "w": 4
           },
           {
            "h": 16,
            "value": 0,
            "w": 4
           },
           {
            "h": 17,
            "value": 65,
            "w": 4
           },
           {
            "h": 18,
            "value": 111,
            "w": 4
           },
           {
            "h": 19,
            "value": 98,
            "w": 4
           },
           {
            "h": 20,
            "value": 188,
            "w": 4
           },
           {
            "h": 21,
            "value": 67,
            "w": 4
           },
           {
            "h": 22,
            "value": 0,
            "w": 4
           },
           {
            "h": 23,
            "value": 0,
            "w": 4
           },
           {
            "h": 24,
            "value": 0,
            "w": 4
           },
           {
            "h": 25,
            "value": 0,
            "w": 4
           },
           {
            "h": 26,
            "value": 0,
            "w": 4
           },
           {
            "h": 27,
            "value": 0,
            "w": 4
           },
           {
            "h": 0,
            "value": 0,
            "w": 5
           },
           {
            "h": 1,
            "value": 0,
            "w": 5
           },
           {
            "h": 2,
            "value": 0,
            "w": 5
           },
           {
            "h": 3,
            "value": 0,
            "w": 5
           },
           {
            "h": 4,
            "value": 0,
            "w": 5
           },
           {
            "h": 5,
            "value": 0,
            "w": 5
           },
           {
            "h": 6,
            "value": 0,
            "w": 5
           },
           {
            "h": 7,
            "value": 0,
            "w": 5
           },
           {
            "h": 8,
            "value": 0,
            "w": 5
           },
           {
            "h": 9,
            "value": 0,
            "w": 5
           },
           {
            "h": 10,
            "value": 0,
            "w": 5
           },
           {
            "h": 11,
            "value": 0,
            "w": 5
           },
           {
            "h": 12,
            "value": 0,
            "w": 5
           },
           {
            "h": 13,
            "value": 0,
            "w": 5
           },
           {
            "h": 14,
            "value": 0,
            "w": 5
           },
           {
            "h": 15,
            "value": 2,
            "w": 5
           },
           {
            "h": 16,
            "value": 0,
            "w": 5
           },
           {
            "h": 17,
            "value": 76,
            "w": 5
           },
           {
            "h": 18,
            "value": 114,
            "w": 5
           },
           {
            "h": 19,
            "value": 100,
            "w": 5
           },
           {
            "h": 20,
            "value": 184,
            "w": 5
           },
           {
            "h": 21,
            "value": 106,
            "w": 5
           },
           {
            "h": 22,
            "value": 0,
            "w": 5
           },
           {
            "h": 23,
            "value": 0,
            "w": 5
           },
           {
            "h": 24,
            "value": 0,
            "w": 5
           },
           {
            "h": 25,
            "value": 0,
            "w": 5
           },
           {
            "h": 26,
            "value": 0,
            "w": 5
           },
           {
            "h": 27,
            "value": 0,
            "w": 5
           },
           {
            "h": 0,
            "value": 0,
            "w": 6
           },
           {
            "h": 1,
            "value": 0,
            "w": 6
           },
           {
            "h": 2,
            "value": 0,
            "w": 6
           },
           {
            "h": 3,
            "value": 0,
            "w": 6
           },
           {
            "h": 4,
            "value": 0,
            "w": 6
           },
           {
            "h": 5,
            "value": 0,
            "w": 6
           },
           {
            "h": 6,
            "value": 0,
            "w": 6
           },
           {
            "h": 7,
            "value": 0,
            "w": 6
           },
           {
            "h": 8,
            "value": 0,
            "w": 6
           },
           {
            "h": 9,
            "value": 0,
            "w": 6
           },
           {
            "h": 10,
            "value": 0,
            "w": 6
           },
           {
            "h": 11,
            "value": 0,
            "w": 6
           },
           {
            "h": 12,
            "value": 1,
            "w": 6
           },
           {
            "h": 13,
            "value": 0,
            "w": 6
           },
           {
            "h": 14,
            "value": 2,
            "w": 6
           },
           {
            "h": 15,
            "value": 0,
            "w": 6
           },
           {
            "h": 16,
            "value": 0,
            "w": 6
           },
           {
            "h": 17,
            "value": 85,
            "w": 6
           },
           {
            "h": 18,
            "value": 111,
            "w": 6
           },
           {
            "h": 19,
            "value": 94,
            "w": 6
           },
           {
            "h": 20,
            "value": 171,
            "w": 6
           },
           {
            "h": 21,
            "value": 164,
            "w": 6
           },
           {
            "h": 22,
            "value": 0,
            "w": 6
           },
           {
            "h": 23,
            "value": 0,
            "w": 6
           },
           {
            "h": 24,
            "value": 0,
            "w": 6
           },
           {
            "h": 25,
            "value": 0,
            "w": 6
           },
           {
            "h": 26,
            "value": 0,
            "w": 6
           },
           {
            "h": 27,
            "value": 0,
            "w": 6
           },
           {
            "h": 0,
            "value": 0,
            "w": 7
           },
           {
            "h": 1,
            "value": 0,
            "w": 7
           },
           {
            "h": 2,
            "value": 0,
            "w": 7
           },
           {
            "h": 3,
            "value": 0,
            "w": 7
           },
           {
            "h": 4,
            "value": 0,
            "w": 7
           },
           {
            "h": 5,
            "value": 0,
            "w": 7
           },
           {
            "h": 6,
            "value": 0,
            "w": 7
           },
           {
            "h": 7,
            "value": 0,
            "w": 7
           },
           {
            "h": 8,
            "value": 0,
            "w": 7
           },
           {
            "h": 9,
            "value": 0,
            "w": 7
           },
           {
            "h": 10,
            "value": 0,
            "w": 7
           },
           {
            "h": 11,
            "value": 0,
            "w": 7
           },
           {
            "h": 12,
            "value": 0,
            "w": 7
           },
           {
            "h": 13,
            "value": 0,
            "w": 7
           },
           {
            "h": 14,
            "value": 4,
            "w": 7
           },
           {
            "h": 15,
            "value": 0,
            "w": 7
           },
           {
            "h": 16,
            "value": 21,
            "w": 7
           },
           {
            "h": 17,
            "value": 118,
            "w": 7
           },
           {
            "h": 18,
            "value": 114,
            "w": 7
           },
           {
            "h": 19,
            "value": 97,
            "w": 7
           },
           {
            "h": 20,
            "value": 153,
            "w": 7
           },
           {
            "h": 21,
            "value": 185,
            "w": 7
           },
           {
            "h": 22,
            "value": 0,
            "w": 7
           },
           {
            "h": 23,
            "value": 0,
            "w": 7
           },
           {
            "h": 24,
            "value": 0,
            "w": 7
           },
           {
            "h": 25,
            "value": 0,
            "w": 7
           },
           {
            "h": 26,
            "value": 0,
            "w": 7
           },
           {
            "h": 27,
            "value": 0,
            "w": 7
           },
           {
            "h": 0,
            "value": 0,
            "w": 8
           },
           {
            "h": 1,
            "value": 0,
            "w": 8
           },
           {
            "h": 2,
            "value": 0,
            "w": 8
           },
           {
            "h": 3,
            "value": 0,
            "w": 8
           },
           {
            "h": 4,
            "value": 0,
            "w": 8
           },
           {
            "h": 5,
            "value": 0,
            "w": 8
           },
           {
            "h": 6,
            "value": 0,
            "w": 8
           },
           {
            "h": 7,
            "value": 0,
            "w": 8
           },
           {
            "h": 8,
            "value": 0,
            "w": 8
           },
           {
            "h": 9,
            "value": 0,
            "w": 8
           },
           {
            "h": 10,
            "value": 0,
            "w": 8
           },
           {
            "h": 11,
            "value": 0,
            "w": 8
           },
           {
            "h": 12,
            "value": 2,
            "w": 8
           },
           {
            "h": 13,
            "value": 0,
            "w": 8
           },
           {
            "h": 14,
            "value": 1,
            "w": 8
           },
           {
            "h": 15,
            "value": 0,
            "w": 8
           },
           {
            "h": 16,
            "value": 53,
            "w": 8
           },
           {
            "h": 17,
            "value": 128,
            "w": 8
           },
           {
            "h": 18,
            "value": 115,
            "w": 8
           },
           {
            "h": 19,
            "value": 98,
            "w": 8
           },
           {
            "h": 20,
            "value": 135,
            "w": 8
           },
           {
            "h": 21,
            "value": 199,
            "w": 8
           },
           {
            "h": 22,
            "value": 0,
            "w": 8
           },
           {
            "h": 23,
            "value": 0,
            "w": 8
           },
           {
            "h": 24,
            "value": 0,
            "w": 8
           },
           {
            "h": 25,
            "value": 0,
            "w": 8
           },
           {
            "h": 26,
            "value": 0,
            "w": 8
           },
           {
            "h": 27,
            "value": 0,
            "w": 8
           },
           {
            "h": 0,
            "value": 0,
            "w": 9
           },
           {
            "h": 1,
            "value": 0,
            "w": 9
           },
           {
            "h": 2,
            "value": 0,
            "w": 9
           },
           {
            "h": 3,
            "value": 0,
            "w": 9
           },
           {
            "h": 4,
            "value": 0,
            "w": 9
           },
           {
            "h": 5,
            "value": 0,
            "w": 9
           },
           {
            "h": 6,
            "value": 0,
            "w": 9
           },
           {
            "h": 7,
            "value": 0,
            "w": 9
           },
           {
            "h": 8,
            "value": 0,
            "w": 9
           },
           {
            "h": 9,
            "value": 0,
            "w": 9
           },
           {
            "h": 10,
            "value": 0,
            "w": 9
           },
           {
            "h": 11,
            "value": 0,
            "w": 9
           },
           {
            "h": 12,
            "value": 1,
            "w": 9
           },
           {
            "h": 13,
            "value": 0,
            "w": 9
           },
           {
            "h": 14,
            "value": 0,
            "w": 9
           },
           {
            "h": 15,
            "value": 0,
            "w": 9
           },
           {
            "h": 16,
            "value": 92,
            "w": 9
           },
           {
            "h": 17,
            "value": 123,
            "w": 9
           },
           {
            "h": 18,
            "value": 127,
            "w": 9
           },
           {
            "h": 19,
            "value": 102,
            "w": 9
           },
           {
            "h": 20,
            "value": 120,
            "w": 9
           },
           {
            "h": 21,
            "value": 210,
            "w": 9
           },
           {
            "h": 22,
            "value": 0,
            "w": 9
           },
           {
            "h": 23,
            "value": 0,
            "w": 9
           },
           {
            "h": 24,
            "value": 0,
            "w": 9
           },
           {
            "h": 25,
            "value": 0,
            "w": 9
           },
           {
            "h": 26,
            "value": 0,
            "w": 9
           },
           {
            "h": 27,
            "value": 0,
            "w": 9
           },
           {
            "h": 0,
            "value": 0,
            "w": 10
           },
           {
            "h": 1,
            "value": 0,
            "w": 10
           },
           {
            "h": 2,
            "value": 0,
            "w": 10
           },
           {
            "h": 3,
            "value": 0,
            "w": 10
           },
           {
            "h": 4,
            "value": 0,
            "w": 10
           },
           {
            "h": 5,
            "value": 0,
            "w": 10
           },
           {
            "h": 6,
            "value": 0,
            "w": 10
           },
           {
            "h": 7,
            "value": 0,
            "w": 10
           },
           {
            "h": 8,
            "value": 0,
            "w": 10
           },
           {
            "h": 9,
            "value": 0,
            "w": 10
           },
           {
            "h": 10,
            "value": 0,
            "w": 10
           },
           {
            "h": 11,
            "value": 0,
            "w": 10
           },
           {
            "h": 12,
            "value": 0,
            "w": 10
           },
           {
            "h": 13,
            "value": 3,
            "w": 10
           },
           {
            "h": 14,
            "value": 0,
            "w": 10
           },
           {
            "h": 15,
            "value": 26,
            "w": 10
           },
           {
            "h": 16,
            "value": 117,
            "w": 10
           },
           {
            "h": 17,
            "value": 111,
            "w": 10
           },
           {
            "h": 18,
            "value": 135,
            "w": 10
           },
           {
            "h": 19,
            "value": 108,
            "w": 10
           },
           {
            "h": 20,
            "value": 126,
            "w": 10
           },
           {
            "h": 21,
            "value": 211,
            "w": 10
           },
           {
            "h": 22,
            "value": 0,
            "w": 10
           },
           {
            "h": 23,
            "value": 0,
            "w": 10
           },
           {
            "h": 24,
            "value": 0,
            "w": 10
           },
           {
            "h": 25,
            "value": 0,
            "w": 10
           },
           {
            "h": 26,
            "value": 0,
            "w": 10
           },
           {
            "h": 27,
            "value": 0,
            "w": 10
           },
           {
            "h": 0,
            "value": 0,
            "w": 11
           },
           {
            "h": 1,
            "value": 0,
            "w": 11
           },
           {
            "h": 2,
            "value": 0,
            "w": 11
           },
           {
            "h": 3,
            "value": 0,
            "w": 11
           },
           {
            "h": 4,
            "value": 0,
            "w": 11
           },
           {
            "h": 5,
            "value": 0,
            "w": 11
           },
           {
            "h": 6,
            "value": 0,
            "w": 11
           },
           {
            "h": 7,
            "value": 0,
            "w": 11
           },
           {
            "h": 8,
            "value": 0,
            "w": 11
           },
           {
            "h": 9,
            "value": 0,
            "w": 11
           },
           {
            "h": 10,
            "value": 0,
            "w": 11
           },
           {
            "h": 11,
            "value": 0,
            "w": 11
           },
           {
            "h": 12,
            "value": 3,
            "w": 11
           },
           {
            "h": 13,
            "value": 0,
            "w": 11
           },
           {
            "h": 14,
            "value": 0,
            "w": 11
           },
           {
            "h": 15,
            "value": 108,
            "w": 11
           },
           {
            "h": 16,
            "value": 111,
            "w": 11
           },
           {
            "h": 17,
            "value": 113,
            "w": 11
           },
           {
            "h": 18,
            "value": 136,
            "w": 11
           },
           {
            "h": 19,
            "value": 106,
            "w": 11
           },
           {
            "h": 20,
            "value": 127,
            "w": 11
           },
           {
            "h": 21,
            "value": 210,
            "w": 11
           },
           {
            "h": 22,
            "value": 0,
            "w": 11
           },
           {
            "h": 23,
            "value": 0,
            "w": 11
           },
           {
            "h": 24,
            "value": 0,
            "w": 11
           },
           {
            "h": 25,
            "value": 0,
            "w": 11
           },
           {
            "h": 26,
            "value": 0,
            "w": 11
           },
           {
            "h": 27,
            "value": 0,
            "w": 11
           },
           {
            "h": 0,
            "value": 0,
            "w": 12
           },
           {
            "h": 1,
            "value": 0,
            "w": 12
           },
           {
            "h": 2,
            "value": 0,
            "w": 12
           },
           {
            "h": 3,
            "value": 0,
            "w": 12
           },
           {
            "h": 4,
            "value": 0,
            "w": 12
           },
           {
            "h": 5,
            "value": 0,
            "w": 12
           },
           {
            "h": 6,
            "value": 0,
            "w": 12
           },
           {
            "h": 7,
            "value": 0,
            "w": 12
           },
           {
            "h": 8,
            "value": 0,
            "w": 12
           },
           {
            "h": 9,
            "value": 0,
            "w": 12
           },
           {
            "h": 10,
            "value": 0,
            "w": 12
           },
           {
            "h": 11,
            "value": 2,
            "w": 12
           },
           {
            "h": 12,
            "value": 0,
            "w": 12
           },
           {
            "h": 13,
            "value": 0,
            "w": 12
           },
           {
            "h": 14,
            "value": 98,
            "w": 12
           },
           {
            "h": 15,
            "value": 117,
            "w": 12
           },
           {
            "h": 16,
            "value": 103,
            "w": 12
           },
           {
            "h": 17,
            "value": 118,
            "w": 12
           },
           {
            "h": 18,
            "value": 143,
            "w": 12
           },
           {
            "h": 19,
            "value": 119,
            "w": 12
           },
           {
            "h": 20,
            "value": 146,
            "w": 12
           },
           {
            "h": 21,
            "value": 208,
            "w": 12
           },
           {
            "h": 22,
            "value": 0,
            "w": 12
           },
           {
            "h": 23,
            "value": 0,
            "w": 12
           },
           {
            "h": 24,
            "value": 0,
            "w": 12
           },
           {
            "h": 25,
            "value": 0,
            "w": 12
           },
           {
            "h": 26,
            "value": 0,
            "w": 12
           },
           {
            "h": 27,
            "value": 0,
            "w": 12
           },
           {
            "h": 0,
            "value": 0,
            "w": 13
           },
           {
            "h": 1,
            "value": 0,
            "w": 13
           },
           {
            "h": 2,
            "value": 0,
            "w": 13
           },
           {
            "h": 3,
            "value": 0,
            "w": 13
           },
           {
            "h": 4,
            "value": 0,
            "w": 13
           },
           {
            "h": 5,
            "value": 0,
            "w": 13
           },
           {
            "h": 6,
            "value": 0,
            "w": 13
           },
           {
            "h": 7,
            "value": 0,
            "w": 13
           },
           {
            "h": 8,
            "value": 1,
            "w": 13
           },
           {
            "h": 9,
            "value": 1,
            "w": 13
           },
           {
            "h": 10,
            "value": 4,
            "w": 13
           },
           {
            "h": 11,
            "value": 0,
            "w": 13
           },
           {
            "h": 12,
            "value": 0,
            "w": 13
           },
           {
            "h": 13,
            "value": 89,
            "w": 13
           },
           {
            "h": 14,
            "value": 136,
            "w": 13
           },
           {
            "h": 15,
            "value": 99,
            "w": 13
           },
           {
            "h": 16,
            "value": 115,
            "w": 13
           },
           {
            "h": 17,
            "value": 127,
            "w": 13
           },
           {
            "h": 18,
            "value": 126,
            "w": 13
           },
           {
            "h": 19,
            "value": 120,
            "w": 13
           },
           {
            "h": 20,
            "value": 185,
            "w": 13
           },
           {
            "h": 21,
            "value": 190,
            "w": 13
           },
           {
            "h": 22,
            "value": 0,
            "w": 13
           },
           {
            "h": 23,
            "value": 0,
            "w": 13
           },
           {
            "h": 24,
            "value": 0,
            "w": 13
           },
           {
            "h": 25,
            "value": 0,
            "w": 13
           },
           {
            "h": 26,
            "value": 0,
            "w": 13
           },
           {
            "h": 27,
            "value": 0,
            "w": 13
           },
           {
            "h": 0,
            "value": 0,
            "w": 14
           },
           {
            "h": 1,
            "value": 0,
            "w": 14
           },
           {
            "h": 2,
            "value": 0,
            "w": 14
           },
           {
            "h": 3,
            "value": 0,
            "w": 14
           },
           {
            "h": 4,
            "value": 0,
            "w": 14
           },
           {
            "h": 5,
            "value": 0,
            "w": 14
           },
           {
            "h": 6,
            "value": 0,
            "w": 14
           },
           {
            "h": 7,
            "value": 0,
            "w": 14
           },
           {
            "h": 8,
            "value": 2,
            "w": 14
           },
           {
            "h": 9,
            "value": 0,
            "w": 14
           },
           {
            "h": 10,
            "value": 0,
            "w": 14
           },
           {
            "h": 11,
            "value": 11,
            "w": 14
           },
           {
            "h": 12,
            "value": 115,
            "w": 14
           },
           {
            "h": 13,
            "value": 139,
            "w": 14
           },
           {
            "h": 14,
            "value": 110,
            "w": 14
           },
           {
            "h": 15,
            "value": 111,
            "w": 14
           },
           {
            "h": 16,
            "value": 129,
            "w": 14
           },
           {
            "h": 17,
            "value": 125,
            "w": 14
           },
           {
            "h": 18,
            "value": 127,
            "w": 14
           },
           {
            "h": 19,
            "value": 129,
            "w": 14
           },
           {
            "h": 20,
            "value": 195,
            "w": 14
           },
           {
            "h": 21,
            "value": 150,
            "w": 14
           },
           {
            "h": 22,
            "value": 0,
            "w": 14
           },
           {
            "h": 23,
            "value": 0,
            "w": 14
           },
           {
            "h": 24,
            "value": 0,
            "w": 14
           },
           {
            "h": 25,
            "value": 0,
            "w": 14
           },
           {
            "h": 26,
            "value": 0,
            "w": 14
           },
           {
            "h": 27,
            "value": 0,
            "w": 14
           },
           {
            "h": 0,
            "value": 0,
            "w": 15
           },
           {
            "h": 1,
            "value": 0,
            "w": 15
           },
           {
            "h": 2,
            "value": 0,
            "w": 15
           },
           {
            "h": 3,
            "value": 0,
            "w": 15
           },
           {
            "h": 4,
            "value": 0,
            "w": 15
           },
           {
            "h": 5,
            "value": 0,
            "w": 15
           },
           {
            "h": 6,
            "value": 0,
            "w": 15
           },
           {
            "h": 7,
            "value": 0,
            "w": 15
           },
           {
            "h": 8,
            "value": 0,
            "w": 15
           },
           {
            "h": 9,
            "value": 0,
            "w": 15
           },
           {
            "h": 10,
            "value": 53,
            "w": 15
           },
           {
            "h": 11,
            "value": 137,
            "w": 15
           },
           {
            "h": 12,
            "value": 114,
            "w": 15
           },
           {
            "h": 13,
            "value": 90,
            "w": 15
           },
           {
            "h": 14,
            "value": 109,
            "w": 15
           },
           {
            "h": 15,
            "value": 117,
            "w": 15
           },
           {
            "h": 16,
            "value": 134,
            "w": 15
           },
           {
            "h": 17,
            "value": 139,
            "w": 15
           },
           {
            "h": 18,
            "value": 151,
            "w": 15
           },
           {
            "h": 19,
            "value": 149,
            "w": 15
           },
           {
            "h": 20,
            "value": 209,
            "w": 15
           },
           {
            "h": 21,
            "value": 82,
            "w": 15
           },
           {
            "h": 22,
            "value": 0,
            "w": 15
           },
           {
            "h": 23,
            "value": 0,
            "w": 15
           },
           {
            "h": 24,
            "value": 0,
            "w": 15
           },
           {
            "h": 25,
            "value": 0,
            "w": 15
           },
           {
            "h": 26,
            "value": 0,
            "w": 15
           },
           {
            "h": 27,
            "value": 0,
            "w": 15
           },
           {
            "h": 0,
            "value": 0,
            "w": 16
           },
           {
            "h": 1,
            "value": 0,
            "w": 16
           },
           {
            "h": 2,
            "value": 0,
            "w": 16
           },
           {
            "h": 3,
            "value": 0,
            "w": 16
           },
           {
            "h": 4,
            "value": 0,
            "w": 16
           },
           {
            "h": 5,
            "value": 0,
            "w": 16
           },
           {
            "h": 6,
            "value": 0,
            "w": 16
           },
           {
            "h": 7,
            "value": 0,
            "w": 16
           },
           {
            "h": 8,
            "value": 27,
            "w": 16
           },
           {
            "h": 9,
            "value": 88,
            "w": 16
           },
           {
            "h": 10,
            "value": 129,
            "w": 16
           },
           {
            "h": 11,
            "value": 130,
            "w": 16
           },
           {
            "h": 12,
            "value": 106,
            "w": 16
           },
           {
            "h": 13,
            "value": 94,
            "w": 16
           },
           {
            "h": 14,
            "value": 110,
            "w": 16
           },
           {
            "h": 15,
            "value": 136,
            "w": 16
           },
           {
            "h": 16,
            "value": 143,
            "w": 16
           },
           {
            "h": 17,
            "value": 133,
            "w": 16
           },
           {
            "h": 18,
            "value": 154,
            "w": 16
           },
           {
            "h": 19,
            "value": 156,
            "w": 16
           },
           {
            "h": 20,
            "value": 208,
            "w": 16
           },
           {
            "h": 21,
            "value": 8,
            "w": 16
           },
           {
            "h": 22,
            "value": 0,
            "w": 16
           },
           {
            "h": 23,
            "value": 0,
            "w": 16
           },
           {
            "h": 24,
            "value": 0,
            "w": 16
           },
           {
            "h": 25,
            "value": 0,
            "w": 16
           },
           {
            "h": 26,
            "value": 0,
            "w": 16
           },
           {
            "h": 27,
            "value": 0,
            "w": 16
           },
           {
            "h": 0,
            "value": 0,
            "w": 17
           },
           {
            "h": 1,
            "value": 0,
            "w": 17
           },
           {
            "h": 2,
            "value": 0,
            "w": 17
           },
           {
            "h": 3,
            "value": 0,
            "w": 17
           },
           {
            "h": 4,
            "value": 0,
            "w": 17
           },
           {
            "h": 5,
            "value": 0,
            "w": 17
           },
           {
            "h": 6,
            "value": 0,
            "w": 17
           },
           {
            "h": 7,
            "value": 0,
            "w": 17
           },
           {
            "h": 8,
            "value": 84,
            "w": 17
           },
           {
            "h": 9,
            "value": 143,
            "w": 17
           },
           {
            "h": 10,
            "value": 120,
            "w": 17
           },
           {
            "h": 11,
            "value": 128,
            "w": 17
           },
           {
            "h": 12,
            "value": 137,
            "w": 17
           },
           {
            "h": 13,
            "value": 153,
            "w": 17
           },
           {
            "h": 14,
            "value": 162,
            "w": 17
           },
           {
            "h": 15,
            "value": 156,
            "w": 17
           },
           {
            "h": 16,
            "value": 154,
            "w": 17
           },
           {
            "h": 17,
            "value": 136,
            "w": 17
           },
           {
            "h": 18,
            "value": 143,
            "w": 17
           },
           {
            "h": 19,
            "value": 167,
            "w": 17
           },
           {
            "h": 20,
            "value": 255,
            "w": 17
           },
           {
            "h": 21,
            "value": 0,
            "w": 17
           },
           {
            "h": 22,
            "value": 0,
            "w": 17
           },
           {
            "h": 23,
            "value": 0,
            "w": 17
           },
           {
            "h": 24,
            "value": 0,
            "w": 17
           },
           {
            "h": 25,
            "value": 0,
            "w": 17
           },
           {
            "h": 26,
            "value": 0,
            "w": 17
           },
           {
            "h": 27,
            "value": 0,
            "w": 17
           },
           {
            "h": 0,
            "value": 0,
            "w": 18
           },
           {
            "h": 1,
            "value": 0,
            "w": 18
           },
           {
            "h": 2,
            "value": 0,
            "w": 18
           },
           {
            "h": 3,
            "value": 0,
            "w": 18
           },
           {
            "h": 4,
            "value": 0,
            "w": 18
           },
           {
            "h": 5,
            "value": 0,
            "w": 18
           },
           {
            "h": 6,
            "value": 0,
            "w": 18
           },
           {
            "h": 7,
            "value": 0,
            "w": 18
           },
           {
            "h": 8,
            "value": 11,
            "w": 18
           },
           {
            "h": 9,
            "value": 110,
            "w": 18
           },
           {
            "h": 10,
            "value": 147,
            "w": 18
           },
           {
            "h": 11,
            "value": 160,
            "w": 18
           },
           {
            "h": 12,
            "value": 168,
            "w": 18
           },
           {
            "h": 13,
            "value": 149,
            "w": 18
           },
           {
            "h": 14,
            "value": 135,
            "w": 18
           },
           {
            "h": 15,
            "value": 134,
            "w": 18
           },
           {
            "h": 16,
            "value": 165,
            "w": 18
           },
           {
            "h": 17,
            "value": 160,
            "w": 18
           },
           {
            "h": 18,
            "value": 148,
            "w": 18
           },
           {
            "h": 19,
            "value": 190,
            "w": 18
           },
           {
            "h": 20,
            "value": 209,
            "w": 18
           },
           {
            "h": 21,
            "value": 0,
            "w": 18
           },
           {
            "h": 22,
            "value": 0,
            "w": 18
           },
           {
            "h": 23,
            "value": 0,
            "w": 18
           },
           {
            "h": 24,
            "value": 0,
            "w": 18
           },
           {
            "h": 25,
            "value": 0,
            "w": 18
           },
           {
            "h": 26,
            "value": 0,
            "w": 18
           },
           {
            "h": 27,
            "value": 0,
            "w": 18
           },
           {
            "h": 0,
            "value": 0,
            "w": 19
           },
           {
            "h": 1,
            "value": 0,
            "w": 19
           },
           {
            "h": 2,
            "value": 0,
            "w": 19
           },
           {
            "h": 3,
            "value": 0,
            "w": 19
           },
           {
            "h": 4,
            "value": 0,
            "w": 19
           },
           {
            "h": 5,
            "value": 0,
            "w": 19
           },
           {
            "h": 6,
            "value": 0,
            "w": 19
           },
           {
            "h": 7,
            "value": 3,
            "w": 19
           },
           {
            "h": 8,
            "value": 0,
            "w": 19
           },
           {
            "h": 9,
            "value": 0,
            "w": 19
           },
           {
            "h": 10,
            "value": 175,
            "w": 19
           },
           {
            "h": 11,
            "value": 176,
            "w": 19
           },
           {
            "h": 12,
            "value": 153,
            "w": 19
           },
           {
            "h": 13,
            "value": 131,
            "w": 19
           },
           {
            "h": 14,
            "value": 144,
            "w": 19
           },
           {
            "h": 15,
            "value": 154,
            "w": 19
           },
           {
            "h": 16,
            "value": 170,
            "w": 19
           },
           {
            "h": 17,
            "value": 140,
            "w": 19
           },
           {
            "h": 18,
            "value": 125,
            "w": 19
           },
           {
            "h": 19,
            "value": 190,
            "w": 19
           },
           {
            "h": 20,
            "value": 177,
            "w": 19
           },
           {
            "h": 21,
            "value": 0,
            "w": 19
           },
           {
            "h": 22,
            "value": 0,
            "w": 19
           },
           {
            "h": 23,
            "value": 0,
            "w": 19
           },
           {
            "h": 24,
            "value": 0,
            "w": 19
           },
           {
            "h": 25,
            "value": 0,
            "w": 19
           },
           {
            "h": 26,
            "value": 0,
            "w": 19
           },
           {
            "h": 27,
            "value": 0,
            "w": 19
           },
           {
            "h": 0,
            "value": 0,
            "w": 20
           },
           {
            "h": 1,
            "value": 0,
            "w": 20
           },
           {
            "h": 2,
            "value": 0,
            "w": 20
           },
           {
            "h": 3,
            "value": 0,
            "w": 20
           },
           {
            "h": 4,
            "value": 0,
            "w": 20
           },
           {
            "h": 5,
            "value": 0,
            "w": 20
           },
           {
            "h": 6,
            "value": 0,
            "w": 20
           },
           {
            "h": 7,
            "value": 1,
            "w": 20
           },
           {
            "h": 8,
            "value": 0,
            "w": 20
           },
           {
            "h": 9,
            "value": 0,
            "w": 20
           },
           {
            "h": 10,
            "value": 157,
            "w": 20
           },
           {
            "h": 11,
            "value": 159,
            "w": 20
           },
           {
            "h": 12,
            "value": 156,
            "w": 20
           },
           {
            "h": 13,
            "value": 151,
            "w": 20
           },
           {
            "h": 14,
            "value": 149,
            "w": 20
           },
           {
            "h": 15,
            "value": 154,
            "w": 20
           },
           {
            "h": 16,
            "value": 154,
            "w": 20
           },
           {
            "h": 17,
            "value": 155,
            "w": 20
           },
           {
            "h": 18,
            "value": 162,
            "w": 20
           },
           {
            "h": 19,
            "value": 196,
            "w": 20
           },
           {
            "h": 20,
            "value": 245,
            "w": 20
           },
           {
            "h": 21,
            "value": 178,
            "w": 20
           },
           {
            "h": 22,
            "value": 0,
            "w": 20
           },
           {
            "h": 23,
            "value": 0,
            "w": 20
           },
           {
            "h": 24,
            "value": 0,
            "w": 20
           },
           {
            "h": 25,
            "value": 0,
            "w": 20
           },
           {
            "h": 26,
            "value": 0,
            "w": 20
           },
           {
            "h": 27,
            "value": 0,
            "w": 20
           },
           {
            "h": 0,
            "value": 0,
            "w": 21
           },
           {
            "h": 1,
            "value": 0,
            "w": 21
           },
           {
            "h": 2,
            "value": 0,
            "w": 21
           },
           {
            "h": 3,
            "value": 0,
            "w": 21
           },
           {
            "h": 4,
            "value": 0,
            "w": 21
           },
           {
            "h": 5,
            "value": 0,
            "w": 21
           },
           {
            "h": 6,
            "value": 0,
            "w": 21
           },
           {
            "h": 7,
            "value": 0,
            "w": 21
           },
           {
            "h": 8,
            "value": 0,
            "w": 21
           },
           {
            "h": 9,
            "value": 0,
            "w": 21
           },
           {
            "h": 10,
            "value": 166,
            "w": 21
           },
           {
            "h": 11,
            "value": 167,
            "w": 21
           },
           {
            "h": 12,
            "value": 165,
            "w": 21
           },
           {
            "h": 13,
            "value": 169,
            "w": 21
           },
           {
            "h": 14,
            "value": 159,
            "w": 21
           },
           {
            "h": 15,
            "value": 156,
            "w": 21
           },
           {
            "h": 16,
            "value": 151,
            "w": 21
           },
           {
            "h": 17,
            "value": 161,
            "w": 21
           },
           {
            "h": 18,
            "value": 162,
            "w": 21
           },
           {
            "h": 19,
            "value": 198,
            "w": 21
           },
           {
            "h": 20,
            "value": 252,
            "w": 21
           },
           {
            "h": 21,
            "value": 208,
            "w": 21
           },
           {
            "h": 22,
            "value": 0,
            "w": 21
           },
           {
            "h": 23,
            "value": 0,
            "w": 21
           },
           {
            "h": 24,
            "value": 0,
            "w": 21
           },
           {
            "h": 25,
            "value": 0,
            "w": 21
           },
           {
            "h": 26,
            "value": 0,
            "w": 21
           },
           {
            "h": 27,
            "value": 0,
            "w": 21
           },
           {
            "h": 0,
            "value": 0,
            "w": 22
           },
           {
            "h": 1,
            "value": 0,
            "w": 22
           },
           {
            "h": 2,
            "value": 0,
            "w": 22
           },
           {
            "h": 3,
            "value": 0,
            "w": 22
           },
           {
            "h": 4,
            "value": 0,
            "w": 22
           },
           {
            "h": 5,
            "value": 0,
            "w": 22
           },
           {
            "h": 6,
            "value": 0,
            "w": 22
           },
           {
            "h": 7,
            "value": 0,
            "w": 22
           },
           {
            "h": 8,
            "value": 0,
            "w": 22
           },
           {
            "h": 9,
            "value": 0,
            "w": 22
           },
           {
            "h": 10,
            "value": 135,
            "w": 22
           },
           {
            "h": 11,
            "value": 178,
            "w": 22
           },
           {
            "h": 12,
            "value": 167,
            "w": 22
           },
           {
            "h": 13,
            "value": 172,
            "w": 22
           },
           {
            "h": 14,
            "value": 167,
            "w": 22
           },
           {
            "h": 15,
            "value": 160,
            "w": 22
           },
           {
            "h": 16,
            "value": 154,
            "w": 22
           },
           {
            "h": 17,
            "value": 144,
            "w": 22
           },
           {
            "h": 18,
            "value": 144,
            "w": 22
           },
           {
            "h": 19,
            "value": 198,
            "w": 22
           },
           {
            "h": 20,
            "value": 251,
            "w": 22
           },
           {
            "h": 21,
            "value": 188,
            "w": 22
           },
           {
            "h": 22,
            "value": 0,
            "w": 22
           },
           {
            "h": 23,
            "value": 0,
            "w": 22
           },
           {
            "h": 24,
            "value": 0,
            "w": 22
           },
           {
            "h": 25,
            "value": 0,
            "w": 22
           },
           {
            "h": 26,
            "value": 0,
            "w": 22
           },
           {
            "h": 27,
            "value": 0,
            "w": 22
           },
           {
            "h": 0,
            "value": 0,
            "w": 23
           },
           {
            "h": 1,
            "value": 0,
            "w": 23
           },
           {
            "h": 2,
            "value": 0,
            "w": 23
           },
           {
            "h": 3,
            "value": 0,
            "w": 23
           },
           {
            "h": 4,
            "value": 0,
            "w": 23
           },
           {
            "h": 5,
            "value": 0,
            "w": 23
           },
           {
            "h": 6,
            "value": 0,
            "w": 23
           },
           {
            "h": 7,
            "value": 7,
            "w": 23
           },
           {
            "h": 8,
            "value": 0,
            "w": 23
           },
           {
            "h": 9,
            "value": 22,
            "w": 23
           },
           {
            "h": 10,
            "value": 154,
            "w": 23
           },
           {
            "h": 11,
            "value": 149,
            "w": 23
           },
           {
            "h": 12,
            "value": 143,
            "w": 23
           },
           {
            "h": 13,
            "value": 143,
            "w": 23
           },
           {
            "h": 14,
            "value": 144,
            "w": 23
           },
           {
            "h": 15,
            "value": 141,
            "w": 23
           },
           {
            "h": 16,
            "value": 143,
            "w": 23
           },
           {
            "h": 17,
            "value": 155,
            "w": 23
           },
           {
            "h": 18,
            "value": 138,
            "w": 23
           },
           {
            "h": 19,
            "value": 187,
            "w": 23
           },
           {
            "h": 20,
            "value": 251,
            "w": 23
           },
           {
            "h": 21,
            "value": 175,
            "w": 23
           },
           {
            "h": 22,
            "value": 0,
            "w": 23
           },
           {
            "h": 23,
            "value": 0,
            "w": 23
           },
           {
            "h": 24,
            "value": 0,
            "w": 23
           },
           {
            "h": 25,
            "value": 0,
            "w": 23
           },
           {
            "h": 26,
            "value": 0,
            "w": 23
           },
           {
            "h": 27,
            "value": 0,
            "w": 23
           },
           {
            "h": 0,
            "value": 0,
            "w": 24
           },
           {
            "h": 1,
            "value": 0,
            "w": 24
           },
           {
            "h": 2,
            "value": 0,
            "w": 24
           },
           {
            "h": 3,
            "value": 0,
            "w": 24
           },
           {
            "h": 4,
            "value": 0,
            "w": 24
           },
           {
            "h": 5,
            "value": 0,
            "w": 24
           },
           {
            "h": 6,
            "value": 0,
            "w": 24
           },
           {
            "h": 7,
            "value": 0,
            "w": 24
           },
           {
            "h": 8,
            "value": 0,
            "w": 24
           },
           {
            "h": 9,
            "value": 93,
            "w": 24
           },
           {
            "h": 10,
            "value": 168,
            "w": 24
           },
           {
            "h": 11,
            "value": 151,
            "w": 24
           },
           {
            "h": 12,
            "value": 157,
            "w": 24
           },
           {
            "h": 13,
            "value": 159,
            "w": 24
           },
           {
            "h": 14,
            "value": 158,
            "w": 24
           },
           {
            "h": 15,
            "value": 147,
            "w": 24
           },
           {
            "h": 16,
            "value": 138,
            "w": 24
           },
           {
            "h": 17,
            "value": 172,
            "w": 24
           },
           {
            "h": 18,
            "value": 153,
            "w": 24
           },
           {
            "h": 19,
            "value": 197,
            "w": 24
           },
           {
            "h": 20,
            "value": 247,
            "w": 24
           },
           {
            "h": 21,
            "value": 162,
            "w": 24
           },
           {
            "h": 22,
            "value": 0,
            "w": 24
           },
           {
            "h": 23,
            "value": 0,
            "w": 24
           },
           {
            "h": 24,
            "value": 0,
            "w": 24
           },
           {
            "h": 25,
            "value": 0,
            "w": 24
           },
           {
            "h": 26,
            "value": 0,
            "w": 24
           },
           {
            "h": 27,
            "value": 0,
            "w": 24
           },
           {
            "h": 0,
            "value": 0,
            "w": 25
           },
           {
            "h": 1,
            "value": 0,
            "w": 25
           },
           {
            "h": 2,
            "value": 0,
            "w": 25
           },
           {
            "h": 3,
            "value": 0,
            "w": 25
           },
           {
            "h": 4,
            "value": 0,
            "w": 25
           },
           {
            "h": 5,
            "value": 0,
            "w": 25
           },
           {
            "h": 6,
            "value": 0,
            "w": 25
           },
           {
            "h": 7,
            "value": 37,
            "w": 25
           },
           {
            "h": 8,
            "value": 119,
            "w": 25
           },
           {
            "h": 9,
            "value": 106,
            "w": 25
           },
           {
            "h": 10,
            "value": 140,
            "w": 25
           },
           {
            "h": 11,
            "value": 144,
            "w": 25
           },
           {
            "h": 12,
            "value": 158,
            "w": 25
           },
           {
            "h": 13,
            "value": 169,
            "w": 25
           },
           {
            "h": 14,
            "value": 169,
            "w": 25
           },
           {
            "h": 15,
            "value": 156,
            "w": 25
           },
           {
            "h": 16,
            "value": 150,
            "w": 25
           },
           {
            "h": 17,
            "value": 161,
            "w": 25
           },
           {
            "h": 18,
            "value": 162,
            "w": 25
           },
           {
            "h": 19,
            "value": 189,
            "w": 25
           },
           {
            "h": 20,
            "value": 220,
            "w": 25
           },
           {
            "h": 21,
            "value": 158,
            "w": 25
           },
           {
            "h": 22,
            "value": 0,
            "w": 25
           },
           {
            "h": 23,
            "value": 0,
            "w": 25
           },
           {
            "h": 24,
            "value": 0,
            "w": 25
           },
           {
            "h": 25,
            "value": 0,
            "w": 25
           },
           {
            "h": 26,
            "value": 0,
            "w": 25
           },
           {
            "h": 27,
            "value": 0,
            "w": 25
           },
           {
            "h": 0,
            "value": 0,
            "w": 26
           },
           {
            "h": 1,
            "value": 0,
            "w": 26
           },
           {
            "h": 2,
            "value": 0,
            "w": 26
           },
           {
            "h": 3,
            "value": 0,
            "w": 26
           },
           {
            "h": 4,
            "value": 0,
            "w": 26
           },
           {
            "h": 5,
            "value": 0,
            "w": 26
           },
           {
            "h": 6,
            "value": 0,
            "w": 26
           },
           {
            "h": 7,
            "value": 0,
            "w": 26
           },
           {
            "h": 8,
            "value": 0,
            "w": 26
           },
           {
            "h": 9,
            "value": 0,
            "w": 26
           },
           {
            "h": 10,
            "value": 0,
            "w": 26
           },
           {
            "h": 11,
            "value": 0,
            "w": 26
           },
           {
            "h": 12,
            "value": 11,
            "w": 26
           },
           {
            "h": 13,
            "value": 48,
            "w": 26
           },
           {
            "h": 14,
            "value": 119,
            "w": 26
           },
           {
            "h": 15,
            "value": 178,
            "w": 26
           },
           {
            "h": 16,
            "value": 165,
            "w": 26
           },
           {
            "h": 17,
            "value": 189,
            "w": 26
           },
           {
            "h": 18,
            "value": 196,
            "w": 26
           },
           {
            "h": 19,
            "value": 184,
            "w": 26
           },
           {
            "h": 20,
            "value": 206,
            "w": 26
           },
           {
            "h": 21,
            "value": 151,
            "w": 26
           },
           {
            "h": 22,
            "value": 0,
            "w": 26
           },
           {
            "h": 23,
            "value": 0,
            "w": 26
           },
           {
            "h": 24,
            "value": 0,
            "w": 26
           },
           {
            "h": 25,
            "value": 0,
            "w": 26
           },
           {
            "h": 26,
            "value": 0,
            "w": 26
           },
           {
            "h": 27,
            "value": 0,
            "w": 26
           },
           {
            "h": 0,
            "value": 0,
            "w": 27
           },
           {
            "h": 1,
            "value": 0,
            "w": 27
           },
           {
            "h": 2,
            "value": 0,
            "w": 27
           },
           {
            "h": 3,
            "value": 0,
            "w": 27
           },
           {
            "h": 4,
            "value": 0,
            "w": 27
           },
           {
            "h": 5,
            "value": 0,
            "w": 27
           },
           {
            "h": 6,
            "value": 0,
            "w": 27
           },
           {
            "h": 7,
            "value": 0,
            "w": 27
           },
           {
            "h": 8,
            "value": 0,
            "w": 27
           },
           {
            "h": 9,
            "value": 0,
            "w": 27
           },
           {
            "h": 10,
            "value": 0,
            "w": 27
           },
           {
            "h": 11,
            "value": 0,
            "w": 27
           },
           {
            "h": 12,
            "value": 0,
            "w": 27
           },
           {
            "h": 13,
            "value": 0,
            "w": 27
           },
           {
            "h": 14,
            "value": 0,
            "w": 27
           },
           {
            "h": 15,
            "value": 0,
            "w": 27
           },
           {
            "h": 16,
            "value": 43,
            "w": 27
           },
           {
            "h": 17,
            "value": 62,
            "w": 27
           },
           {
            "h": 18,
            "value": 58,
            "w": 27
           },
           {
            "h": 19,
            "value": 36,
            "w": 27
           },
           {
            "h": 20,
            "value": 49,
            "w": 27
           },
           {
            "h": 21,
            "value": 11,
            "w": 27
           },
           {
            "h": 22,
            "value": 0,
            "w": 27
           },
           {
            "h": 23,
            "value": 0,
            "w": 27
           },
           {
            "h": 24,
            "value": 0,
            "w": 27
           },
           {
            "h": 25,
            "value": 0,
            "w": 27
           },
           {
            "h": 26,
            "value": 0,
            "w": 27
           },
           {
            "h": 27,
            "value": 0,
            "w": 27
           }
          ]
         },
         "encoding": {
          "color": {
           "field": "value",
           "legend": null,
           "scale": {
            "scheme": "greys"
           },
           "sort": "descending",
           "type": "quantitative"
          },
          "tooltip": [
           {
            "field": "value",
            "type": "quantitative"
           }
          ],
          "x": {
           "axis": null,
           "field": "w",
           "type": "nominal"
          },
          "y": {
           "axis": null,
           "field": "h",
           "type": "nominal"
          }
         },
         "height": 350,
         "mark": "rect",
         "title": "Ankle boot",
         "width": 350
        },
        {
         "data": {
          "values": [
           {
            "actual": false,
            "labels": "T-shirt/top",
            "proba": 0
           },
           {
            "actual": false,
            "labels": "Trouser",
            "proba": 0
           },
           {
            "actual": false,
            "labels": "Pullover",
            "proba": 0
           },
           {
            "actual": false,
            "labels": "Dress",
            "proba": 0
           },
           {
            "actual": false,
            "labels": "Coat",
            "proba": 0
           },
           {
            "actual": false,
            "labels": "Sandal",
            "proba": 0
           },
           {
            "actual": false,
            "labels": "Shirt",
            "proba": 0
           },
           {
            "actual": false,
            "labels": "Sneaker",
            "proba": 1
           },
           {
            "actual": false,
            "labels": "Bag",
            "proba": 1.251621667309859e-18
           },
           {
            "actual": true,
            "labels": "Ankle boot",
            "proba": 0
           }
          ]
         },
         "encoding": {
          "color": {
           "field": "actual",
           "type": "nominal"
          },
          "tooltip": [
           {
            "field": "proba",
            "type": "quantitative"
           }
          ],
          "x": {
           "field": "proba",
           "scale": {
            "domain": [
             0,
             1
            ]
           },
           "type": "quantitative"
          },
          "y": {
           "field": "labels",
           "type": "nominal"
          }
         },
         "height": 350,
         "mark": "bar",
         "title": "Prediction: Sneaker",
         "width": 350
        }
       ]
      },
      "image/png": "[encoded data removed]",
      "text/plain": [
       "<VegaLite 2 object>\n",
       "\n",
       "If you see this message, it means the renderer has not been properly enabled\n",
       "for the frontend that you are using. For more information, see\n",
       "https://altair-viz.github.io/user_guide/troubleshooting.html\n"
      ]
     },
     "execution_count": 64,
     "metadata": {},
     "output_type": "execute_result"
    }
   ],
   "source": [
    "vis.imshow(x_test[i], labels[y_test[i]]) | vis.predict(proba_conv[i], y_test[i], labels)"
   ]
  },
  {
   "cell_type": "markdown",
   "metadata": {},
   "source": [
    "## Model 2: Convulation + Max Pooling"
   ]
  },
  {
   "cell_type": "markdown",
   "metadata": {},
   "source": [
    "**Step 2: Craft the feature transfomation and classifier model **"
   ]
  },
  {
   "cell_type": "code",
   "execution_count": 24,
   "metadata": {},
   "outputs": [],
   "source": [
    "model_pooling_conv = Sequential()\n",
    "model_pooling_conv.add(Conv2D(32, kernel_size=(3, 3), activation='relu', input_shape=(28,28,1)))\n",
    "model_pooling_conv.add(MaxPooling2D(pool_size=(2, 2)))\n",
    "model_pooling_conv.add(Conv2D(64, (3, 3), activation='relu'))\n",
    "model_pooling_conv.add(MaxPooling2D(pool_size=(2, 2)))\n",
    "model_pooling_conv.add(Flatten())\n",
    "model_pooling_conv.add(Dense(128, activation='relu'))\n",
    "model_pooling_conv.add(Dense(10, activation='softmax'))"
   ]
  },
  {
   "cell_type": "code",
   "execution_count": 25,
   "metadata": {},
   "outputs": [
    {
     "name": "stdout",
     "output_type": "stream",
     "text": [
      "_________________________________________________________________\n",
      "Layer (type)                 Output Shape              Param #   \n",
      "=================================================================\n",
      "conv2d_2 (Conv2D)            (None, 26, 26, 32)        320       \n",
      "_________________________________________________________________\n",
      "max_pooling2d_1 (MaxPooling2 (None, 13, 13, 32)        0         \n",
      "_________________________________________________________________\n",
      "conv2d_3 (Conv2D)            (None, 11, 11, 64)        18496     \n",
      "_________________________________________________________________\n",
      "max_pooling2d_2 (MaxPooling2 (None, 5, 5, 64)          0         \n",
      "_________________________________________________________________\n",
      "flatten_2 (Flatten)          (None, 1600)              0         \n",
      "_________________________________________________________________\n",
      "dense_3 (Dense)              (None, 128)               204928    \n",
      "_________________________________________________________________\n",
      "dense_4 (Dense)              (None, 10)                1290      \n",
      "=================================================================\n",
      "Total params: 225,034\n",
      "Trainable params: 225,034\n",
      "Non-trainable params: 0\n",
      "_________________________________________________________________\n"
     ]
    }
   ],
   "source": [
    "model_pooling_conv.summary()"
   ]
  },
  {
   "cell_type": "markdown",
   "metadata": {},
   "source": [
    "**Step 3: Compile and fit the model**"
   ]
  },
  {
   "cell_type": "code",
   "execution_count": 26,
   "metadata": {},
   "outputs": [],
   "source": [
    "model_pooling_conv.compile(loss='categorical_crossentropy', optimizer=\"sgd\", metrics=['accuracy'])"
   ]
  },
  {
   "cell_type": "code",
   "execution_count": 27,
   "metadata": {},
   "outputs": [
    {
     "name": "stdout",
     "output_type": "stream",
     "text": [
      "Train on 60000 samples, validate on 10000 samples\n",
      "Epoch 1/5\n",
      " - 89s - loss: 1.4153 - acc: 0.5399 - val_loss: 1.0333 - val_acc: 0.6821\n",
      "Epoch 2/5\n",
      " - 68s - loss: 0.7455 - acc: 0.7268 - val_loss: 0.6891 - val_acc: 0.7457\n",
      "Epoch 3/5\n",
      " - 90s - loss: 0.6430 - acc: 0.7596 - val_loss: 0.7239 - val_acc: 0.7280\n",
      "Epoch 4/5\n",
      " - 103s - loss: 0.5869 - acc: 0.7807 - val_loss: 0.5805 - val_acc: 0.7880\n",
      "Epoch 5/5\n",
      " - 99s - loss: 0.5475 - acc: 0.7957 - val_loss: 0.5970 - val_acc: 0.7657\n",
      "CPU times: user 9min 24s, sys: 1min 43s, total: 11min 7s\n",
      "Wall time: 7min 29s\n"
     ]
    }
   ],
   "source": [
    "%%time \n",
    "output_pooling_conv = model_pooling_conv.fit(x_train_conv, y_train_class, batch_size=512, epochs=5, verbose=2,\n",
    "                    validation_data=(x_test_conv, y_test_class))"
   ]
  },
  {
   "cell_type": "markdown",
   "metadata": {},
   "source": [
    "**Step 4: Check the performance of the model**"
   ]
  },
  {
   "cell_type": "code",
   "execution_count": 28,
   "metadata": {},
   "outputs": [
    {
     "data": {
      "application/vnd.vegalite.v2+json": {
       "$schema": "https://vega.github.io/schema/vega-lite/v2.4.3.json",
       "config": {
        "view": {
         "height": 300,
         "width": 400
        }
       },
       "data": {
        "values": [
         {
          "batch": 1,
          "metrics": "loss",
          "type": "validation",
          "value": 1.0332670288085937
         },
         {
          "batch": 2,
          "metrics": "loss",
          "type": "validation",
          "value": 0.689058997964859
         },
         {
          "batch": 3,
          "metrics": "loss",
          "type": "validation",
          "value": 0.7239361187458039
         },
         {
          "batch": 4,
          "metrics": "loss",
          "type": "validation",
          "value": 0.5805359273910522
         },
         {
          "batch": 5,
          "metrics": "loss",
          "type": "validation",
          "value": 0.5969944979667664
         },
         {
          "batch": 1,
          "metrics": "acc",
          "type": "validation",
          "value": 0.6821
         },
         {
          "batch": 2,
          "metrics": "acc",
          "type": "validation",
          "value": 0.7457
         },
         {
          "batch": 3,
          "metrics": "acc",
          "type": "validation",
          "value": 0.728
         },
         {
          "batch": 4,
          "metrics": "acc",
          "type": "validation",
          "value": 0.788
         },
         {
          "batch": 5,
          "metrics": "acc",
          "type": "validation",
          "value": 0.7657
         },
         {
          "batch": 1,
          "metrics": "loss",
          "type": "training",
          "value": 1.4153327997525533
         },
         {
          "batch": 2,
          "metrics": "loss",
          "type": "training",
          "value": 0.7454997641563416
         },
         {
          "batch": 3,
          "metrics": "loss",
          "type": "training",
          "value": 0.6429860845247904
         },
         {
          "batch": 4,
          "metrics": "loss",
          "type": "training",
          "value": 0.586879178237915
         },
         {
          "batch": 5,
          "metrics": "loss",
          "type": "training",
          "value": 0.5475010043144226
         },
         {
          "batch": 1,
          "metrics": "acc",
          "type": "training",
          "value": 0.5398666666666667
         },
         {
          "batch": 2,
          "metrics": "acc",
          "type": "training",
          "value": 0.7268333333015442
         },
         {
          "batch": 3,
          "metrics": "acc",
          "type": "training",
          "value": 0.7596499999682108
         },
         {
          "batch": 4,
          "metrics": "acc",
          "type": "training",
          "value": 0.7806500000317892
         },
         {
          "batch": 5,
          "metrics": "acc",
          "type": "training",
          "value": 0.7956666666666666
         }
        ]
       },
       "facet": {
        "column": {
         "field": "metrics",
         "type": "nominal"
        }
       },
       "resolve": {
        "scale": {
         "color": "shared",
         "x": "shared",
         "y": "independent"
        }
       },
       "spec": {
        "layer": [
         {
          "encoding": {
           "color": {
            "field": "type",
            "type": "nominal"
           },
           "tooltip": [
            {
             "field": "batch",
             "type": "quantitative"
            },
            {
             "field": "value",
             "type": "quantitative"
            }
           ],
           "x": {
            "field": "batch",
            "type": "quantitative"
           },
           "y": {
            "field": "value",
            "type": "quantitative"
           }
          },
          "height": 300,
          "mark": {
           "size": 50,
           "type": "circle"
          },
          "width": 300
         },
         {
          "encoding": {
           "color": {
            "field": "type",
            "type": "nominal"
           },
           "x": {
            "field": "batch",
            "type": "quantitative"
           },
           "y": {
            "field": "value",
            "type": "quantitative"
           }
          },
          "height": 300,
          "mark": "line",
          "width": 300
         }
        ]
       }
      },
      "image/png": "[encoded data removed]",
      "text/plain": [
       "<VegaLite 2 object>\n",
       "\n",
       "If you see this message, it means the renderer has not been properly enabled\n",
       "for the frontend that you are using. For more information, see\n",
       "https://altair-viz.github.io/user_guide/troubleshooting.html\n"
      ]
     },
     "execution_count": 28,
     "metadata": {},
     "output_type": "execute_result"
    }
   ],
   "source": [
    "vis.metrics(output_pooling_conv.history)"
   ]
  },
  {
   "cell_type": "code",
   "execution_count": 29,
   "metadata": {},
   "outputs": [
    {
     "name": "stdout",
     "output_type": "stream",
     "text": [
      "10000/10000 [==============================] - 4s 405us/step\n"
     ]
    }
   ],
   "source": [
    "score = model_pooling_conv.evaluate(x_test_conv, y_test_class, verbose=1)"
   ]
  },
  {
   "cell_type": "code",
   "execution_count": 30,
   "metadata": {},
   "outputs": [
    {
     "name": "stdout",
     "output_type": "stream",
     "text": [
      "Test loss: 0.5969944985389709\n",
      "Test accuracy: 0.7657\n"
     ]
    }
   ],
   "source": [
    "print('Test loss:', score[0])\n",
    "print('Test accuracy:', score[1])"
   ]
  },
  {
   "cell_type": "markdown",
   "metadata": {},
   "source": [
    "**Step 5: Make & Visualise the Prediction**"
   ]
  },
  {
   "cell_type": "code",
   "execution_count": 31,
   "metadata": {},
   "outputs": [],
   "source": [
    "predict_classes_pooling = model_pooling_conv.predict_classes(x_test_conv)"
   ]
  },
  {
   "cell_type": "code",
   "execution_count": 32,
   "metadata": {},
   "outputs": [
    {
     "data": {
      "text/html": [
       "<div>\n",
       "<style scoped>\n",
       "    .dataframe tbody tr th:only-of-type {\n",
       "        vertical-align: middle;\n",
       "    }\n",
       "\n",
       "    .dataframe tbody tr th {\n",
       "        vertical-align: top;\n",
       "    }\n",
       "\n",
       "    .dataframe thead th {\n",
       "        text-align: right;\n",
       "    }\n",
       "</style>\n",
       "<table border=\"1\" class=\"dataframe\">\n",
       "  <thead>\n",
       "    <tr style=\"text-align: right;\">\n",
       "      <th>col_0</th>\n",
       "      <th>0</th>\n",
       "      <th>1</th>\n",
       "      <th>2</th>\n",
       "      <th>3</th>\n",
       "      <th>4</th>\n",
       "      <th>5</th>\n",
       "      <th>6</th>\n",
       "      <th>7</th>\n",
       "      <th>8</th>\n",
       "      <th>9</th>\n",
       "    </tr>\n",
       "    <tr>\n",
       "      <th>row_0</th>\n",
       "      <th></th>\n",
       "      <th></th>\n",
       "      <th></th>\n",
       "      <th></th>\n",
       "      <th></th>\n",
       "      <th></th>\n",
       "      <th></th>\n",
       "      <th></th>\n",
       "      <th></th>\n",
       "      <th></th>\n",
       "    </tr>\n",
       "  </thead>\n",
       "  <tbody>\n",
       "    <tr>\n",
       "      <th>0</th>\n",
       "      <td>556</td>\n",
       "      <td>6</td>\n",
       "      <td>6</td>\n",
       "      <td>60</td>\n",
       "      <td>14</td>\n",
       "      <td>5</td>\n",
       "      <td>332</td>\n",
       "      <td>0</td>\n",
       "      <td>21</td>\n",
       "      <td>0</td>\n",
       "    </tr>\n",
       "    <tr>\n",
       "      <th>1</th>\n",
       "      <td>0</td>\n",
       "      <td>954</td>\n",
       "      <td>0</td>\n",
       "      <td>25</td>\n",
       "      <td>12</td>\n",
       "      <td>1</td>\n",
       "      <td>6</td>\n",
       "      <td>0</td>\n",
       "      <td>2</td>\n",
       "      <td>0</td>\n",
       "    </tr>\n",
       "    <tr>\n",
       "      <th>2</th>\n",
       "      <td>3</td>\n",
       "      <td>6</td>\n",
       "      <td>214</td>\n",
       "      <td>6</td>\n",
       "      <td>262</td>\n",
       "      <td>2</td>\n",
       "      <td>489</td>\n",
       "      <td>0</td>\n",
       "      <td>18</td>\n",
       "      <td>0</td>\n",
       "    </tr>\n",
       "    <tr>\n",
       "      <th>3</th>\n",
       "      <td>5</td>\n",
       "      <td>17</td>\n",
       "      <td>2</td>\n",
       "      <td>806</td>\n",
       "      <td>66</td>\n",
       "      <td>0</td>\n",
       "      <td>97</td>\n",
       "      <td>0</td>\n",
       "      <td>7</td>\n",
       "      <td>0</td>\n",
       "    </tr>\n",
       "    <tr>\n",
       "      <th>4</th>\n",
       "      <td>1</td>\n",
       "      <td>2</td>\n",
       "      <td>6</td>\n",
       "      <td>23</td>\n",
       "      <td>814</td>\n",
       "      <td>1</td>\n",
       "      <td>143</td>\n",
       "      <td>0</td>\n",
       "      <td>10</td>\n",
       "      <td>0</td>\n",
       "    </tr>\n",
       "    <tr>\n",
       "      <th>5</th>\n",
       "      <td>0</td>\n",
       "      <td>1</td>\n",
       "      <td>0</td>\n",
       "      <td>0</td>\n",
       "      <td>0</td>\n",
       "      <td>923</td>\n",
       "      <td>0</td>\n",
       "      <td>45</td>\n",
       "      <td>6</td>\n",
       "      <td>25</td>\n",
       "    </tr>\n",
       "    <tr>\n",
       "      <th>6</th>\n",
       "      <td>67</td>\n",
       "      <td>2</td>\n",
       "      <td>13</td>\n",
       "      <td>34</td>\n",
       "      <td>240</td>\n",
       "      <td>2</td>\n",
       "      <td>613</td>\n",
       "      <td>0</td>\n",
       "      <td>29</td>\n",
       "      <td>0</td>\n",
       "    </tr>\n",
       "    <tr>\n",
       "      <th>7</th>\n",
       "      <td>0</td>\n",
       "      <td>0</td>\n",
       "      <td>0</td>\n",
       "      <td>0</td>\n",
       "      <td>0</td>\n",
       "      <td>45</td>\n",
       "      <td>0</td>\n",
       "      <td>876</td>\n",
       "      <td>1</td>\n",
       "      <td>78</td>\n",
       "    </tr>\n",
       "    <tr>\n",
       "      <th>8</th>\n",
       "      <td>0</td>\n",
       "      <td>3</td>\n",
       "      <td>1</td>\n",
       "      <td>4</td>\n",
       "      <td>3</td>\n",
       "      <td>2</td>\n",
       "      <td>32</td>\n",
       "      <td>4</td>\n",
       "      <td>950</td>\n",
       "      <td>1</td>\n",
       "    </tr>\n",
       "    <tr>\n",
       "      <th>9</th>\n",
       "      <td>0</td>\n",
       "      <td>1</td>\n",
       "      <td>0</td>\n",
       "      <td>0</td>\n",
       "      <td>1</td>\n",
       "      <td>12</td>\n",
       "      <td>0</td>\n",
       "      <td>34</td>\n",
       "      <td>1</td>\n",
       "      <td>951</td>\n",
       "    </tr>\n",
       "  </tbody>\n",
       "</table>\n",
       "</div>"
      ],
      "text/plain": [
       "col_0    0    1    2    3    4    5    6    7    8    9\n",
       "row_0                                                  \n",
       "0      556    6    6   60   14    5  332    0   21    0\n",
       "1        0  954    0   25   12    1    6    0    2    0\n",
       "2        3    6  214    6  262    2  489    0   18    0\n",
       "3        5   17    2  806   66    0   97    0    7    0\n",
       "4        1    2    6   23  814    1  143    0   10    0\n",
       "5        0    1    0    0    0  923    0   45    6   25\n",
       "6       67    2   13   34  240    2  613    0   29    0\n",
       "7        0    0    0    0    0   45    0  876    1   78\n",
       "8        0    3    1    4    3    2   32    4  950    1\n",
       "9        0    1    0    0    1   12    0   34    1  951"
      ]
     },
     "execution_count": 32,
     "metadata": {},
     "output_type": "execute_result"
    }
   ],
   "source": [
    "pd.crosstab(y_test, predict_classes_pooling)"
   ]
  },
  {
   "cell_type": "code",
   "execution_count": 33,
   "metadata": {},
   "outputs": [],
   "source": [
    "proba_pooling = model_pooling_conv.predict_classes(x_test_conv)"
   ]
  },
  {
   "cell_type": "code",
   "execution_count": 66,
   "metadata": {},
   "outputs": [],
   "source": [
    "i = 5"
   ]
  },
  {
   "cell_type": "code",
   "execution_count": 67,
   "metadata": {},
   "outputs": [
    {
     "data": {
      "application/vnd.vegalite.v2+json": {
       "$schema": "https://vega.github.io/schema/vega-lite/v2.4.3.json",
       "config": {
        "view": {
         "height": 300,
         "width": 400
        }
       },
       "hconcat": [
        {
         "data": {
          "values": [
           {
            "h": 0,
            "value": 0,
            "w": 0
           },
           {
            "h": 1,
            "value": 0,
            "w": 0
           },
           {
            "h": 2,
            "value": 0,
            "w": 0
           },
           {
            "h": 3,
            "value": 0,
            "w": 0
           },
           {
            "h": 4,
            "value": 0,
            "w": 0
           },
           {
            "h": 5,
            "value": 0,
            "w": 0
           },
           {
            "h": 6,
            "value": 0,
            "w": 0
           },
           {
            "h": 7,
            "value": 0,
            "w": 0
           },
           {
            "h": 8,
            "value": 0,
            "w": 0
           },
           {
            "h": 9,
            "value": 0,
            "w": 0
           },
           {
            "h": 10,
            "value": 0,
            "w": 0
           },
           {
            "h": 11,
            "value": 0,
            "w": 0
           },
           {
            "h": 12,
            "value": 0,
            "w": 0
           },
           {
            "h": 13,
            "value": 0,
            "w": 0
           },
           {
            "h": 14,
            "value": 0,
            "w": 0
           },
           {
            "h": 15,
            "value": 0,
            "w": 0
           },
           {
            "h": 16,
            "value": 0,
            "w": 0
           },
           {
            "h": 17,
            "value": 0,
            "w": 0
           },
           {
            "h": 18,
            "value": 0,
            "w": 0
           },
           {
            "h": 19,
            "value": 0,
            "w": 0
           },
           {
            "h": 20,
            "value": 0,
            "w": 0
           },
           {
            "h": 21,
            "value": 0,
            "w": 0
           },
           {
            "h": 22,
            "value": 0,
            "w": 0
           },
           {
            "h": 23,
            "value": 0,
            "w": 0
           },
           {
            "h": 24,
            "value": 0,
            "w": 0
           },
           {
            "h": 25,
            "value": 0,
            "w": 0
           },
           {
            "h": 26,
            "value": 0,
            "w": 0
           },
           {
            "h": 27,
            "value": 0,
            "w": 0
           },
           {
            "h": 0,
            "value": 0,
            "w": 1
           },
           {
            "h": 1,
            "value": 0,
            "w": 1
           },
           {
            "h": 2,
            "value": 0,
            "w": 1
           },
           {
            "h": 3,
            "value": 0,
            "w": 1
           },
           {
            "h": 4,
            "value": 0,
            "w": 1
           },
           {
            "h": 5,
            "value": 0,
            "w": 1
           },
           {
            "h": 6,
            "value": 0,
            "w": 1
           },
           {
            "h": 7,
            "value": 0,
            "w": 1
           },
           {
            "h": 8,
            "value": 0,
            "w": 1
           },
           {
            "h": 9,
            "value": 0,
            "w": 1
           },
           {
            "h": 10,
            "value": 0,
            "w": 1
           },
           {
            "h": 11,
            "value": 0,
            "w": 1
           },
           {
            "h": 12,
            "value": 0,
            "w": 1
           },
           {
            "h": 13,
            "value": 0,
            "w": 1
           },
           {
            "h": 14,
            "value": 0,
            "w": 1
           },
           {
            "h": 15,
            "value": 0,
            "w": 1
           },
           {
            "h": 16,
            "value": 0,
            "w": 1
           },
           {
            "h": 17,
            "value": 0,
            "w": 1
           },
           {
            "h": 18,
            "value": 0,
            "w": 1
           },
           {
            "h": 19,
            "value": 0,
            "w": 1
           },
           {
            "h": 20,
            "value": 0,
            "w": 1
           },
           {
            "h": 21,
            "value": 0,
            "w": 1
           },
           {
            "h": 22,
            "value": 0,
            "w": 1
           },
           {
            "h": 23,
            "value": 0,
            "w": 1
           },
           {
            "h": 24,
            "value": 0,
            "w": 1
           },
           {
            "h": 25,
            "value": 0,
            "w": 1
           },
           {
            "h": 26,
            "value": 0,
            "w": 1
           },
           {
            "h": 27,
            "value": 0,
            "w": 1
           },
           {
            "h": 0,
            "value": 0,
            "w": 2
           },
           {
            "h": 1,
            "value": 0,
            "w": 2
           },
           {
            "h": 2,
            "value": 0,
            "w": 2
           },
           {
            "h": 3,
            "value": 0,
            "w": 2
           },
           {
            "h": 4,
            "value": 0,
            "w": 2
           },
           {
            "h": 5,
            "value": 0,
            "w": 2
           },
           {
            "h": 6,
            "value": 0,
            "w": 2
           },
           {
            "h": 7,
            "value": 0,
            "w": 2
           },
           {
            "h": 8,
            "value": 0,
            "w": 2
           },
           {
            "h": 9,
            "value": 0,
            "w": 2
           },
           {
            "h": 10,
            "value": 0,
            "w": 2
           },
           {
            "h": 11,
            "value": 0,
            "w": 2
           },
           {
            "h": 12,
            "value": 0,
            "w": 2
           },
           {
            "h": 13,
            "value": 0,
            "w": 2
           },
           {
            "h": 14,
            "value": 0,
            "w": 2
           },
           {
            "h": 15,
            "value": 0,
            "w": 2
           },
           {
            "h": 16,
            "value": 0,
            "w": 2
           },
           {
            "h": 17,
            "value": 0,
            "w": 2
           },
           {
            "h": 18,
            "value": 0,
            "w": 2
           },
           {
            "h": 19,
            "value": 0,
            "w": 2
           },
           {
            "h": 20,
            "value": 0,
            "w": 2
           },
           {
            "h": 21,
            "value": 0,
            "w": 2
           },
           {
            "h": 22,
            "value": 0,
            "w": 2
           },
           {
            "h": 23,
            "value": 0,
            "w": 2
           },
           {
            "h": 24,
            "value": 0,
            "w": 2
           },
           {
            "h": 25,
            "value": 0,
            "w": 2
           },
           {
            "h": 26,
            "value": 0,
            "w": 2
           },
           {
            "h": 27,
            "value": 0,
            "w": 2
           },
           {
            "h": 0,
            "value": 0,
            "w": 3
           },
           {
            "h": 1,
            "value": 0,
            "w": 3
           },
           {
            "h": 2,
            "value": 0,
            "w": 3
           },
           {
            "h": 3,
            "value": 0,
            "w": 3
           },
           {
            "h": 4,
            "value": 0,
            "w": 3
           },
           {
            "h": 5,
            "value": 0,
            "w": 3
           },
           {
            "h": 6,
            "value": 0,
            "w": 3
           },
           {
            "h": 7,
            "value": 0,
            "w": 3
           },
           {
            "h": 8,
            "value": 0,
            "w": 3
           },
           {
            "h": 9,
            "value": 0,
            "w": 3
           },
           {
            "h": 10,
            "value": 0,
            "w": 3
           },
           {
            "h": 11,
            "value": 0,
            "w": 3
           },
           {
            "h": 12,
            "value": 0,
            "w": 3
           },
           {
            "h": 13,
            "value": 0,
            "w": 3
           },
           {
            "h": 14,
            "value": 0,
            "w": 3
           },
           {
            "h": 15,
            "value": 0,
            "w": 3
           },
           {
            "h": 16,
            "value": 0,
            "w": 3
           },
           {
            "h": 17,
            "value": 0,
            "w": 3
           },
           {
            "h": 18,
            "value": 0,
            "w": 3
           },
           {
            "h": 19,
            "value": 0,
            "w": 3
           },
           {
            "h": 20,
            "value": 0,
            "w": 3
           },
           {
            "h": 21,
            "value": 0,
            "w": 3
           },
           {
            "h": 22,
            "value": 0,
            "w": 3
           },
           {
            "h": 23,
            "value": 0,
            "w": 3
           },
           {
            "h": 24,
            "value": 0,
            "w": 3
           },
           {
            "h": 25,
            "value": 0,
            "w": 3
           },
           {
            "h": 26,
            "value": 0,
            "w": 3
           },
           {
            "h": 27,
            "value": 0,
            "w": 3
           },
           {
            "h": 0,
            "value": 0,
            "w": 4
           },
           {
            "h": 1,
            "value": 0,
            "w": 4
           },
           {
            "h": 2,
            "value": 0,
            "w": 4
           },
           {
            "h": 3,
            "value": 0,
            "w": 4
           },
           {
            "h": 4,
            "value": 0,
            "w": 4
           },
           {
            "h": 5,
            "value": 0,
            "w": 4
           },
           {
            "h": 6,
            "value": 0,
            "w": 4
           },
           {
            "h": 7,
            "value": 0,
            "w": 4
           },
           {
            "h": 8,
            "value": 0,
            "w": 4
           },
           {
            "h": 9,
            "value": 0,
            "w": 4
           },
           {
            "h": 10,
            "value": 0,
            "w": 4
           },
           {
            "h": 11,
            "value": 0,
            "w": 4
           },
           {
            "h": 12,
            "value": 0,
            "w": 4
           },
           {
            "h": 13,
            "value": 0,
            "w": 4
           },
           {
            "h": 14,
            "value": 0,
            "w": 4
           },
           {
            "h": 15,
            "value": 0,
            "w": 4
           },
           {
            "h": 16,
            "value": 0,
            "w": 4
           },
           {
            "h": 17,
            "value": 0,
            "w": 4
           },
           {
            "h": 18,
            "value": 0,
            "w": 4
           },
           {
            "h": 19,
            "value": 0,
            "w": 4
           },
           {
            "h": 20,
            "value": 0,
            "w": 4
           },
           {
            "h": 21,
            "value": 0,
            "w": 4
           },
           {
            "h": 22,
            "value": 0,
            "w": 4
           },
           {
            "h": 23,
            "value": 0,
            "w": 4
           },
           {
            "h": 24,
            "value": 0,
            "w": 4
           },
           {
            "h": 25,
            "value": 0,
            "w": 4
           },
           {
            "h": 26,
            "value": 0,
            "w": 4
           },
           {
            "h": 27,
            "value": 0,
            "w": 4
           },
           {
            "h": 0,
            "value": 0,
            "w": 5
           },
           {
            "h": 1,
            "value": 0,
            "w": 5
           },
           {
            "h": 2,
            "value": 0,
            "w": 5
           },
           {
            "h": 3,
            "value": 0,
            "w": 5
           },
           {
            "h": 4,
            "value": 0,
            "w": 5
           },
           {
            "h": 5,
            "value": 0,
            "w": 5
           },
           {
            "h": 6,
            "value": 0,
            "w": 5
           },
           {
            "h": 7,
            "value": 0,
            "w": 5
           },
           {
            "h": 8,
            "value": 0,
            "w": 5
           },
           {
            "h": 9,
            "value": 0,
            "w": 5
           },
           {
            "h": 10,
            "value": 0,
            "w": 5
           },
           {
            "h": 11,
            "value": 0,
            "w": 5
           },
           {
            "h": 12,
            "value": 0,
            "w": 5
           },
           {
            "h": 13,
            "value": 0,
            "w": 5
           },
           {
            "h": 14,
            "value": 0,
            "w": 5
           },
           {
            "h": 15,
            "value": 0,
            "w": 5
           },
           {
            "h": 16,
            "value": 0,
            "w": 5
           },
           {
            "h": 17,
            "value": 0,
            "w": 5
           },
           {
            "h": 18,
            "value": 0,
            "w": 5
           },
           {
            "h": 19,
            "value": 0,
            "w": 5
           },
           {
            "h": 20,
            "value": 0,
            "w": 5
           },
           {
            "h": 21,
            "value": 0,
            "w": 5
           },
           {
            "h": 22,
            "value": 0,
            "w": 5
           },
           {
            "h": 23,
            "value": 0,
            "w": 5
           },
           {
            "h": 24,
            "value": 0,
            "w": 5
           },
           {
            "h": 25,
            "value": 0,
            "w": 5
           },
           {
            "h": 26,
            "value": 0,
            "w": 5
           },
           {
            "h": 27,
            "value": 0,
            "w": 5
           },
           {
            "h": 0,
            "value": 0,
            "w": 6
           },
           {
            "h": 1,
            "value": 0,
            "w": 6
           },
           {
            "h": 2,
            "value": 0,
            "w": 6
           },
           {
            "h": 3,
            "value": 0,
            "w": 6
           },
           {
            "h": 4,
            "value": 0,
            "w": 6
           },
           {
            "h": 5,
            "value": 0,
            "w": 6
           },
           {
            "h": 6,
            "value": 0,
            "w": 6
           },
           {
            "h": 7,
            "value": 0,
            "w": 6
           },
           {
            "h": 8,
            "value": 0,
            "w": 6
           },
           {
            "h": 9,
            "value": 0,
            "w": 6
           },
           {
            "h": 10,
            "value": 0,
            "w": 6
           },
           {
            "h": 11,
            "value": 0,
            "w": 6
           },
           {
            "h": 12,
            "value": 0,
            "w": 6
           },
           {
            "h": 13,
            "value": 0,
            "w": 6
           },
           {
            "h": 14,
            "value": 0,
            "w": 6
           },
           {
            "h": 15,
            "value": 0,
            "w": 6
           },
           {
            "h": 16,
            "value": 0,
            "w": 6
           },
           {
            "h": 17,
            "value": 0,
            "w": 6
           },
           {
            "h": 18,
            "value": 0,
            "w": 6
           },
           {
            "h": 19,
            "value": 0,
            "w": 6
           },
           {
            "h": 20,
            "value": 0,
            "w": 6
           },
           {
            "h": 21,
            "value": 0,
            "w": 6
           },
           {
            "h": 22,
            "value": 0,
            "w": 6
           },
           {
            "h": 23,
            "value": 0,
            "w": 6
           },
           {
            "h": 24,
            "value": 0,
            "w": 6
           },
           {
            "h": 25,
            "value": 0,
            "w": 6
           },
           {
            "h": 26,
            "value": 0,
            "w": 6
           },
           {
            "h": 27,
            "value": 0,
            "w": 6
           },
           {
            "h": 0,
            "value": 0,
            "w": 7
           },
           {
            "h": 1,
            "value": 0,
            "w": 7
           },
           {
            "h": 2,
            "value": 0,
            "w": 7
           },
           {
            "h": 3,
            "value": 0,
            "w": 7
           },
           {
            "h": 4,
            "value": 0,
            "w": 7
           },
           {
            "h": 5,
            "value": 0,
            "w": 7
           },
           {
            "h": 6,
            "value": 0,
            "w": 7
           },
           {
            "h": 7,
            "value": 0,
            "w": 7
           },
           {
            "h": 8,
            "value": 0,
            "w": 7
           },
           {
            "h": 9,
            "value": 0,
            "w": 7
           },
           {
            "h": 10,
            "value": 0,
            "w": 7
           },
           {
            "h": 11,
            "value": 0,
            "w": 7
           },
           {
            "h": 12,
            "value": 0,
            "w": 7
           },
           {
            "h": 13,
            "value": 0,
            "w": 7
           },
           {
            "h": 14,
            "value": 0,
            "w": 7
           },
           {
            "h": 15,
            "value": 0,
            "w": 7
           },
           {
            "h": 16,
            "value": 0,
            "w": 7
           },
           {
            "h": 17,
            "value": 0,
            "w": 7
           },
           {
            "h": 18,
            "value": 0,
            "w": 7
           },
           {
            "h": 19,
            "value": 0,
            "w": 7
           },
           {
            "h": 20,
            "value": 0,
            "w": 7
           },
           {
            "h": 21,
            "value": 0,
            "w": 7
           },
           {
            "h": 22,
            "value": 0,
            "w": 7
           },
           {
            "h": 23,
            "value": 0,
            "w": 7
           },
           {
            "h": 24,
            "value": 0,
            "w": 7
           },
           {
            "h": 25,
            "value": 0,
            "w": 7
           },
           {
            "h": 26,
            "value": 0,
            "w": 7
           },
           {
            "h": 27,
            "value": 0,
            "w": 7
           },
           {
            "h": 0,
            "value": 0,
            "w": 8
           },
           {
            "h": 1,
            "value": 0,
            "w": 8
           },
           {
            "h": 2,
            "value": 0,
            "w": 8
           },
           {
            "h": 3,
            "value": 0,
            "w": 8
           },
           {
            "h": 4,
            "value": 0,
            "w": 8
           },
           {
            "h": 5,
            "value": 0,
            "w": 8
           },
           {
            "h": 6,
            "value": 25,
            "w": 8
           },
           {
            "h": 7,
            "value": 49,
            "w": 8
           },
           {
            "h": 8,
            "value": 87,
            "w": 8
           },
           {
            "h": 9,
            "value": 127,
            "w": 8
           },
           {
            "h": 10,
            "value": 163,
            "w": 8
           },
           {
            "h": 11,
            "value": 177,
            "w": 8
           },
           {
            "h": 12,
            "value": 172,
            "w": 8
           },
           {
            "h": 13,
            "value": 154,
            "w": 8
           },
           {
            "h": 14,
            "value": 141,
            "w": 8
           },
           {
            "h": 15,
            "value": 135,
            "w": 8
           },
           {
            "h": 16,
            "value": 90,
            "w": 8
           },
           {
            "h": 17,
            "value": 3,
            "w": 8
           },
           {
            "h": 18,
            "value": 0,
            "w": 8
           },
           {
            "h": 19,
            "value": 0,
            "w": 8
           },
           {
            "h": 20,
            "value": 0,
            "w": 8
           },
           {
            "h": 21,
            "value": 0,
            "w": 8
           },
           {
            "h": 22,
            "value": 0,
            "w": 8
           },
           {
            "h": 23,
            "value": 1,
            "w": 8
           },
           {
            "h": 24,
            "value": 3,
            "w": 8
           },
           {
            "h": 25,
            "value": 1,
            "w": 8
           },
           {
            "h": 26,
            "value": 0,
            "w": 8
           },
           {
            "h": 27,
            "value": 0,
            "w": 8
           },
           {
            "h": 0,
            "value": 0,
            "w": 9
           },
           {
            "h": 1,
            "value": 14,
            "w": 9
           },
           {
            "h": 2,
            "value": 22,
            "w": 9
           },
           {
            "h": 3,
            "value": 105,
            "w": 9
           },
           {
            "h": 4,
            "value": 204,
            "w": 9
           },
           {
            "h": 5,
            "value": 244,
            "w": 9
           },
           {
            "h": 6,
            "value": 247,
            "w": 9
           },
           {
            "h": 7,
            "value": 236,
            "w": 9
           },
           {
            "h": 8,
            "value": 232,
            "w": 9
           },
           {
            "h": 9,
            "value": 221,
            "w": 9
           },
           {
            "h": 10,
            "value": 206,
            "w": 9
           },
           {
            "h": 11,
            "value": 197,
            "w": 9
           },
           {
            "h": 12,
            "value": 186,
            "w": 9
           },
           {
            "h": 13,
            "value": 177,
            "w": 9
           },
           {
            "h": 14,
            "value": 171,
            "w": 9
           },
           {
            "h": 15,
            "value": 179,
            "w": 9
           },
           {
            "h": 16,
            "value": 189,
            "w": 9
           },
           {
            "h": 17,
            "value": 187,
            "w": 9
           },
           {
            "h": 18,
            "value": 182,
            "w": 9
           },
           {
            "h": 19,
            "value": 194,
            "w": 9
           },
           {
            "h": 20,
            "value": 135,
            "w": 9
           },
           {
            "h": 21,
            "value": 27,
            "w": 9
           },
           {
            "h": 22,
            "value": 0,
            "w": 9
           },
           {
            "h": 23,
            "value": 0,
            "w": 9
           },
           {
            "h": 24,
            "value": 0,
            "w": 9
           },
           {
            "h": 25,
            "value": 0,
            "w": 9
           },
           {
            "h": 26,
            "value": 0,
            "w": 9
           },
           {
            "h": 27,
            "value": 0,
            "w": 9
           },
           {
            "h": 0,
            "value": 192,
            "w": 10
           },
           {
            "h": 1,
            "value": 235,
            "w": 10
           },
           {
            "h": 2,
            "value": 234,
            "w": 10
           },
           {
            "h": 3,
            "value": 252,
            "w": 10
           },
           {
            "h": 4,
            "value": 228,
            "w": 10
           },
           {
            "h": 5,
            "value": 192,
            "w": 10
           },
           {
            "h": 6,
            "value": 170,
            "w": 10
           },
           {
            "h": 7,
            "value": 170,
            "w": 10
           },
           {
            "h": 8,
            "value": 159,
            "w": 10
           },
           {
            "h": 9,
            "value": 170,
            "w": 10
           },
           {
            "h": 10,
            "value": 176,
            "w": 10
           },
           {
            "h": 11,
            "value": 175,
            "w": 10
           },
           {
            "h": 12,
            "value": 174,
            "w": 10
           },
           {
            "h": 13,
            "value": 174,
            "w": 10
           },
           {
            "h": 14,
            "value": 175,
            "w": 10
           },
           {
            "h": 15,
            "value": 191,
            "w": 10
           },
           {
            "h": 16,
            "value": 198,
            "w": 10
           },
           {
            "h": 17,
            "value": 195,
            "w": 10
           },
           {
            "h": 18,
            "value": 199,
            "w": 10
           },
           {
            "h": 19,
            "value": 208,
            "w": 10
           },
           {
            "h": 20,
            "value": 225,
            "w": 10
           },
           {
            "h": 21,
            "value": 219,
            "w": 10
           },
           {
            "h": 22,
            "value": 203,
            "w": 10
           },
           {
            "h": 23,
            "value": 133,
            "w": 10
           },
           {
            "h": 24,
            "value": 59,
            "w": 10
           },
           {
            "h": 25,
            "value": 0,
            "w": 10
           },
           {
            "h": 26,
            "value": 0,
            "w": 10
           },
           {
            "h": 27,
            "value": 0,
            "w": 10
           },
           {
            "h": 0,
            "value": 188,
            "w": 11
           },
           {
            "h": 1,
            "value": 213,
            "w": 11
           },
           {
            "h": 2,
            "value": 217,
            "w": 11
           },
           {
            "h": 3,
            "value": 205,
            "w": 11
           },
           {
            "h": 4,
            "value": 184,
            "w": 11
           },
           {
            "h": 5,
            "value": 193,
            "w": 11
           },
           {
            "h": 6,
            "value": 192,
            "w": 11
           },
           {
            "h": 7,
            "value": 193,
            "w": 11
           },
           {
            "h": 8,
            "value": 193,
            "w": 11
           },
           {
            "h": 9,
            "value": 189,
            "w": 11
           },
           {
            "h": 10,
            "value": 185,
            "w": 11
           },
           {
            "h": 11,
            "value": 189,
            "w": 11
           },
           {
            "h": 12,
            "value": 199,
            "w": 11
           },
           {
            "h": 13,
            "value": 211,
            "w": 11
           },
           {
            "h": 14,
            "value": 246,
            "w": 11
           },
           {
            "h": 15,
            "value": 248,
            "w": 11
           },
           {
            "h": 16,
            "value": 211,
            "w": 11
           },
           {
            "h": 17,
            "value": 225,
            "w": 11
           },
           {
            "h": 18,
            "value": 221,
            "w": 11
           },
           {
            "h": 19,
            "value": 213,
            "w": 11
           },
           {
            "h": 20,
            "value": 206,
            "w": 11
           },
           {
            "h": 21,
            "value": 204,
            "w": 11
           },
           {
            "h": 22,
            "value": 214,
            "w": 11
           },
           {
            "h": 23,
            "value": 217,
            "w": 11
           },
           {
            "h": 24,
            "value": 218,
            "w": 11
           },
           {
            "h": 25,
            "value": 191,
            "w": 11
           },
           {
            "h": 26,
            "value": 161,
            "w": 11
           },
           {
            "h": 27,
            "value": 38,
            "w": 11
           },
           {
            "h": 0,
            "value": 181,
            "w": 12
           },
           {
            "h": 1,
            "value": 213,
            "w": 12
           },
           {
            "h": 2,
            "value": 211,
            "w": 12
           },
           {
            "h": 3,
            "value": 209,
            "w": 12
           },
           {
            "h": 4,
            "value": 206,
            "w": 12
           },
           {
            "h": 5,
            "value": 212,
            "w": 12
           },
           {
            "h": 6,
            "value": 210,
            "w": 12
           },
           {
            "h": 7,
            "value": 201,
            "w": 12
           },
           {
            "h": 8,
            "value": 200,
            "w": 12
           },
           {
            "h": 9,
            "value": 216,
            "w": 12
           },
           {
            "h": 10,
            "value": 242,
            "w": 12
           },
           {
            "h": 11,
            "value": 247,
            "w": 12
           },
           {
            "h": 12,
            "value": 223,
            "w": 12
           },
           {
            "h": 13,
            "value": 151,
            "w": 12
           },
           {
            "h": 14,
            "value": 70,
            "w": 12
           },
           {
            "h": 15,
            "value": 28,
            "w": 12
           },
           {
            "h": 16,
            "value": 4,
            "w": 12
           },
           {
            "h": 17,
            "value": 70,
            "w": 12
           },
           {
            "h": 18,
            "value": 163,
            "w": 12
           },
           {
            "h": 19,
            "value": 217,
            "w": 12
           },
           {
            "h": 20,
            "value": 201,
            "w": 12
           },
           {
            "h": 21,
            "value": 217,
            "w": 12
           },
           {
            "h": 22,
            "value": 223,
            "w": 12
           },
           {
            "h": 23,
            "value": 217,
            "w": 12
           },
           {
            "h": 24,
            "value": 209,
            "w": 12
           },
           {
            "h": 25,
            "value": 206,
            "w": 12
           },
           {
            "h": 26,
            "value": 238,
            "w": 12
           },
           {
            "h": 27,
            "value": 137,
            "w": 12
           },
           {
            "h": 0,
            "value": 189,
            "w": 13
           },
           {
            "h": 1,
            "value": 223,
            "w": 13
           },
           {
            "h": 2,
            "value": 217,
            "w": 13
           },
           {
            "h": 3,
            "value": 219,
            "w": 13
           },
           {
            "h": 4,
            "value": 215,
            "w": 13
           },
           {
            "h": 5,
            "value": 217,
            "w": 13
           },
           {
            "h": 6,
            "value": 211,
            "w": 13
           },
           {
            "h": 7,
            "value": 220,
            "w": 13
           },
           {
            "h": 8,
            "value": 245,
            "w": 13
           },
           {
            "h": 9,
            "value": 225,
            "w": 13
           },
           {
            "h": 10,
            "value": 146,
            "w": 13
           },
           {
            "h": 11,
            "value": 34,
            "w": 13
           },
           {
            "h": 12,
            "value": 0,
            "w": 13
           },
           {
            "h": 13,
            "value": 0,
            "w": 13
           },
           {
            "h": 14,
            "value": 0,
            "w": 13
           },
           {
            "h": 15,
            "value": 0,
            "w": 13
           },
           {
            "h": 16,
            "value": 0,
            "w": 13
           },
           {
            "h": 17,
            "value": 0,
            "w": 13
           },
           {
            "h": 18,
            "value": 0,
            "w": 13
           },
           {
            "h": 19,
            "value": 0,
            "w": 13
           },
           {
            "h": 20,
            "value": 0,
            "w": 13
           },
           {
            "h": 21,
            "value": 34,
            "w": 13
           },
           {
            "h": 22,
            "value": 88,
            "w": 13
           },
           {
            "h": 23,
            "value": 167,
            "w": 13
           },
           {
            "h": 24,
            "value": 195,
            "w": 13
           },
           {
            "h": 25,
            "value": 219,
            "w": 13
           },
           {
            "h": 26,
            "value": 234,
            "w": 13
           },
           {
            "h": 27,
            "value": 132,
            "w": 13
           },
           {
            "h": 0,
            "value": 157,
            "w": 14
           },
           {
            "h": 1,
            "value": 225,
            "w": 14
           },
           {
            "h": 2,
            "value": 200,
            "w": 14
           },
           {
            "h": 3,
            "value": 193,
            "w": 14
           },
           {
            "h": 4,
            "value": 221,
            "w": 14
           },
           {
            "h": 5,
            "value": 210,
            "w": 14
           },
           {
            "h": 6,
            "value": 239,
            "w": 14
           },
           {
            "h": 7,
            "value": 187,
            "w": 14
           },
           {
            "h": 8,
            "value": 0,
            "w": 14
           },
           {
            "h": 9,
            "value": 0,
            "w": 14
           },
           {
            "h": 10,
            "value": 0,
            "w": 14
           },
           {
            "h": 11,
            "value": 0,
            "w": 14
           },
           {
            "h": 12,
            "value": 0,
            "w": 14
           },
           {
            "h": 13,
            "value": 0,
            "w": 14
           },
           {
            "h": 14,
            "value": 2,
            "w": 14
           },
           {
            "h": 15,
            "value": 5,
            "w": 14
           },
           {
            "h": 16,
            "value": 3,
            "w": 14
           },
           {
            "h": 17,
            "value": 4,
            "w": 14
           },
           {
            "h": 18,
            "value": 0,
            "w": 14
           },
           {
            "h": 19,
            "value": 0,
            "w": 14
           },
           {
            "h": 20,
            "value": 0,
            "w": 14
           },
           {
            "h": 21,
            "value": 0,
            "w": 14
           },
           {
            "h": 22,
            "value": 0,
            "w": 14
           },
           {
            "h": 23,
            "value": 0,
            "w": 14
           },
           {
            "h": 24,
            "value": 0,
            "w": 14
           },
           {
            "h": 25,
            "value": 47,
            "w": 14
           },
           {
            "h": 26,
            "value": 116,
            "w": 14
           },
           {
            "h": 27,
            "value": 53,
            "w": 14
           },
           {
            "h": 0,
            "value": 165,
            "w": 15
           },
           {
            "h": 1,
            "value": 217,
            "w": 15
           },
           {
            "h": 2,
            "value": 203,
            "w": 15
           },
           {
            "h": 3,
            "value": 195,
            "w": 15
           },
           {
            "h": 4,
            "value": 212,
            "w": 15
           },
           {
            "h": 5,
            "value": 216,
            "w": 15
           },
           {
            "h": 6,
            "value": 231,
            "w": 15
           },
           {
            "h": 7,
            "value": 231,
            "w": 15
           },
           {
            "h": 8,
            "value": 207,
            "w": 15
           },
           {
            "h": 9,
            "value": 151,
            "w": 15
           },
           {
            "h": 10,
            "value": 53,
            "w": 15
           },
           {
            "h": 11,
            "value": 0,
            "w": 15
           },
           {
            "h": 12,
            "value": 0,
            "w": 15
           },
           {
            "h": 13,
            "value": 0,
            "w": 15
           },
           {
            "h": 14,
            "value": 0,
            "w": 15
           },
           {
            "h": 15,
            "value": 0,
            "w": 15
           },
           {
            "h": 16,
            "value": 0,
            "w": 15
           },
           {
            "h": 17,
            "value": 0,
            "w": 15
           },
           {
            "h": 18,
            "value": 0,
            "w": 15
           },
           {
            "h": 19,
            "value": 0,
            "w": 15
           },
           {
            "h": 20,
            "value": 0,
            "w": 15
           },
           {
            "h": 21,
            "value": 0,
            "w": 15
           },
           {
            "h": 22,
            "value": 0,
            "w": 15
           },
           {
            "h": 23,
            "value": 0,
            "w": 15
           },
           {
            "h": 24,
            "value": 0,
            "w": 15
           },
           {
            "h": 25,
            "value": 0,
            "w": 15
           },
           {
            "h": 26,
            "value": 0,
            "w": 15
           },
           {
            "h": 27,
            "value": 0,
            "w": 15
           },
           {
            "h": 0,
            "value": 188,
            "w": 16
           },
           {
            "h": 1,
            "value": 214,
            "w": 16
           },
           {
            "h": 2,
            "value": 217,
            "w": 16
           },
           {
            "h": 3,
            "value": 212,
            "w": 16
           },
           {
            "h": 4,
            "value": 209,
            "w": 16
           },
           {
            "h": 5,
            "value": 216,
            "w": 16
           },
           {
            "h": 6,
            "value": 219,
            "w": 16
           },
           {
            "h": 7,
            "value": 230,
            "w": 16
           },
           {
            "h": 8,
            "value": 245,
            "w": 16
           },
           {
            "h": 9,
            "value": 254,
            "w": 16
           },
           {
            "h": 10,
            "value": 255,
            "w": 16
           },
           {
            "h": 11,
            "value": 253,
            "w": 16
           },
           {
            "h": 12,
            "value": 234,
            "w": 16
           },
           {
            "h": 13,
            "value": 210,
            "w": 16
           },
           {
            "h": 14,
            "value": 177,
            "w": 16
           },
           {
            "h": 15,
            "value": 134,
            "w": 16
           },
           {
            "h": 16,
            "value": 59,
            "w": 16
           },
           {
            "h": 17,
            "value": 20,
            "w": 16
           },
           {
            "h": 18,
            "value": 0,
            "w": 16
           },
           {
            "h": 19,
            "value": 0,
            "w": 16
           },
           {
            "h": 20,
            "value": 0,
            "w": 16
           },
           {
            "h": 21,
            "value": 0,
            "w": 16
           },
           {
            "h": 22,
            "value": 0,
            "w": 16
           },
           {
            "h": 23,
            "value": 0,
            "w": 16
           },
           {
            "h": 24,
            "value": 0,
            "w": 16
           },
           {
            "h": 25,
            "value": 0,
            "w": 16
           },
           {
            "h": 26,
            "value": 0,
            "w": 16
           },
           {
            "h": 27,
            "value": 0,
            "w": 16
           },
           {
            "h": 0,
            "value": 176,
            "w": 17
           },
           {
            "h": 1,
            "value": 204,
            "w": 17
           },
           {
            "h": 2,
            "value": 203,
            "w": 17
           },
           {
            "h": 3,
            "value": 207,
            "w": 17
           },
           {
            "h": 4,
            "value": 199,
            "w": 17
           },
           {
            "h": 5,
            "value": 194,
            "w": 17
           },
           {
            "h": 6,
            "value": 199,
            "w": 17
           },
           {
            "h": 7,
            "value": 206,
            "w": 17
           },
           {
            "h": 8,
            "value": 200,
            "w": 17
           },
           {
            "h": 9,
            "value": 198,
            "w": 17
           },
           {
            "h": 10,
            "value": 201,
            "w": 17
           },
           {
            "h": 11,
            "value": 203,
            "w": 17
           },
           {
            "h": 12,
            "value": 204,
            "w": 17
           },
           {
            "h": 13,
            "value": 202,
            "w": 17
           },
           {
            "h": 14,
            "value": 204,
            "w": 17
           },
           {
            "h": 15,
            "value": 210,
            "w": 17
           },
           {
            "h": 16,
            "value": 244,
            "w": 17
           },
           {
            "h": 17,
            "value": 215,
            "w": 17
           },
           {
            "h": 18,
            "value": 238,
            "w": 17
           },
           {
            "h": 19,
            "value": 246,
            "w": 17
           },
           {
            "h": 20,
            "value": 215,
            "w": 17
           },
           {
            "h": 21,
            "value": 202,
            "w": 17
           },
           {
            "h": 22,
            "value": 196,
            "w": 17
           },
           {
            "h": 23,
            "value": 184,
            "w": 17
           },
           {
            "h": 24,
            "value": 169,
            "w": 17
           },
           {
            "h": 25,
            "value": 155,
            "w": 17
           },
           {
            "h": 26,
            "value": 168,
            "w": 17
           },
           {
            "h": 27,
            "value": 81,
            "w": 17
           },
           {
            "h": 0,
            "value": 179,
            "w": 18
           },
           {
            "h": 1,
            "value": 211,
            "w": 18
           },
           {
            "h": 2,
            "value": 179,
            "w": 18
           },
           {
            "h": 3,
            "value": 194,
            "w": 18
           },
           {
            "h": 4,
            "value": 190,
            "w": 18
           },
           {
            "h": 5,
            "value": 175,
            "w": 18
           },
           {
            "h": 6,
            "value": 179,
            "w": 18
           },
           {
            "h": 7,
            "value": 181,
            "w": 18
           },
           {
            "h": 8,
            "value": 176,
            "w": 18
           },
           {
            "h": 9,
            "value": 183,
            "w": 18
           },
           {
            "h": 10,
            "value": 183,
            "w": 18
           },
           {
            "h": 11,
            "value": 180,
            "w": 18
           },
           {
            "h": 12,
            "value": 162,
            "w": 18
           },
           {
            "h": 13,
            "value": 141,
            "w": 18
           },
           {
            "h": 14,
            "value": 121,
            "w": 18
           },
           {
            "h": 15,
            "value": 107,
            "w": 18
           },
           {
            "h": 16,
            "value": 118,
            "w": 18
           },
           {
            "h": 17,
            "value": 116,
            "w": 18
           },
           {
            "h": 18,
            "value": 147,
            "w": 18
           },
           {
            "h": 19,
            "value": 197,
            "w": 18
           },
           {
            "h": 20,
            "value": 215,
            "w": 18
           },
           {
            "h": 21,
            "value": 215,
            "w": 18
           },
           {
            "h": 22,
            "value": 219,
            "w": 18
           },
           {
            "h": 23,
            "value": 221,
            "w": 18
           },
           {
            "h": 24,
            "value": 228,
            "w": 18
           },
           {
            "h": 25,
            "value": 237,
            "w": 18
           },
           {
            "h": 26,
            "value": 246,
            "w": 18
           },
           {
            "h": 27,
            "value": 145,
            "w": 18
           },
           {
            "h": 0,
            "value": 181,
            "w": 19
           },
           {
            "h": 1,
            "value": 189,
            "w": 19
           },
           {
            "h": 2,
            "value": 170,
            "w": 19
           },
           {
            "h": 3,
            "value": 204,
            "w": 19
           },
           {
            "h": 4,
            "value": 227,
            "w": 19
           },
           {
            "h": 5,
            "value": 225,
            "w": 19
           },
           {
            "h": 6,
            "value": 217,
            "w": 19
           },
           {
            "h": 7,
            "value": 213,
            "w": 19
           },
           {
            "h": 8,
            "value": 210,
            "w": 19
           },
           {
            "h": 9,
            "value": 209,
            "w": 19
           },
           {
            "h": 10,
            "value": 205,
            "w": 19
           },
           {
            "h": 11,
            "value": 199,
            "w": 19
           },
           {
            "h": 12,
            "value": 199,
            "w": 19
           },
           {
            "h": 13,
            "value": 180,
            "w": 19
           },
           {
            "h": 14,
            "value": 145,
            "w": 19
           },
           {
            "h": 15,
            "value": 142,
            "w": 19
           },
           {
            "h": 16,
            "value": 165,
            "w": 19
           },
           {
            "h": 17,
            "value": 167,
            "w": 19
           },
           {
            "h": 18,
            "value": 179,
            "w": 19
           },
           {
            "h": 19,
            "value": 203,
            "w": 19
           },
           {
            "h": 20,
            "value": 221,
            "w": 19
           },
           {
            "h": 21,
            "value": 224,
            "w": 19
           },
           {
            "h": 22,
            "value": 230,
            "w": 19
           },
           {
            "h": 23,
            "value": 232,
            "w": 19
           },
           {
            "h": 24,
            "value": 214,
            "w": 19
           },
           {
            "h": 25,
            "value": 223,
            "w": 19
           },
           {
            "h": 26,
            "value": 237,
            "w": 19
           },
           {
            "h": 27,
            "value": 129,
            "w": 19
           },
           {
            "h": 0,
            "value": 0,
            "w": 20
           },
           {
            "h": 1,
            "value": 0,
            "w": 20
           },
           {
            "h": 2,
            "value": 0,
            "w": 20
           },
           {
            "h": 3,
            "value": 51,
            "w": 20
           },
           {
            "h": 4,
            "value": 105,
            "w": 20
           },
           {
            "h": 5,
            "value": 131,
            "w": 20
           },
           {
            "h": 6,
            "value": 124,
            "w": 20
           },
           {
            "h": 7,
            "value": 116,
            "w": 20
           },
           {
            "h": 8,
            "value": 109,
            "w": 20
           },
           {
            "h": 9,
            "value": 103,
            "w": 20
           },
           {
            "h": 10,
            "value": 100,
            "w": 20
           },
           {
            "h": 11,
            "value": 97,
            "w": 20
           },
           {
            "h": 12,
            "value": 106,
            "w": 20
           },
           {
            "h": 13,
            "value": 108,
            "w": 20
           },
           {
            "h": 14,
            "value": 136,
            "w": 20
           },
           {
            "h": 15,
            "value": 119,
            "w": 20
           },
           {
            "h": 16,
            "value": 123,
            "w": 20
           },
           {
            "h": 17,
            "value": 137,
            "w": 20
           },
           {
            "h": 18,
            "value": 129,
            "w": 20
           },
           {
            "h": 19,
            "value": 138,
            "w": 20
           },
           {
            "h": 20,
            "value": 140,
            "w": 20
           },
           {
            "h": 21,
            "value": 123,
            "w": 20
           },
           {
            "h": 22,
            "value": 130,
            "w": 20
           },
           {
            "h": 23,
            "value": 132,
            "w": 20
           },
           {
            "h": 24,
            "value": 150,
            "w": 20
           },
           {
            "h": 25,
            "value": 133,
            "w": 20
           },
           {
            "h": 26,
            "value": 156,
            "w": 20
           },
           {
            "h": 27,
            "value": 62,
            "w": 20
           },
           {
            "h": 0,
            "value": 0,
            "w": 21
           },
           {
            "h": 1,
            "value": 0,
            "w": 21
           },
           {
            "h": 2,
            "value": 0,
            "w": 21
           },
           {
            "h": 3,
            "value": 0,
            "w": 21
           },
           {
            "h": 4,
            "value": 0,
            "w": 21
           },
           {
            "h": 5,
            "value": 0,
            "w": 21
           },
           {
            "h": 6,
            "value": 0,
            "w": 21
           },
           {
            "h": 7,
            "value": 0,
            "w": 21
           },
           {
            "h": 8,
            "value": 0,
            "w": 21
           },
           {
            "h": 9,
            "value": 0,
            "w": 21
           },
           {
            "h": 10,
            "value": 0,
            "w": 21
           },
           {
            "h": 11,
            "value": 0,
            "w": 21
           },
           {
            "h": 12,
            "value": 0,
            "w": 21
           },
           {
            "h": 13,
            "value": 0,
            "w": 21
           },
           {
            "h": 14,
            "value": 0,
            "w": 21
           },
           {
            "h": 15,
            "value": 0,
            "w": 21
           },
           {
            "h": 16,
            "value": 0,
            "w": 21
           },
           {
            "h": 17,
            "value": 0,
            "w": 21
           },
           {
            "h": 18,
            "value": 0,
            "w": 21
           },
           {
            "h": 19,
            "value": 0,
            "w": 21
           },
           {
            "h": 20,
            "value": 0,
            "w": 21
           },
           {
            "h": 21,
            "value": 0,
            "w": 21
           },
           {
            "h": 22,
            "value": 0,
            "w": 21
           },
           {
            "h": 23,
            "value": 0,
            "w": 21
           },
           {
            "h": 24,
            "value": 0,
            "w": 21
           },
           {
            "h": 25,
            "value": 0,
            "w": 21
           },
           {
            "h": 26,
            "value": 0,
            "w": 21
           },
           {
            "h": 27,
            "value": 0,
            "w": 21
           },
           {
            "h": 0,
            "value": 0,
            "w": 22
           },
           {
            "h": 1,
            "value": 0,
            "w": 22
           },
           {
            "h": 2,
            "value": 0,
            "w": 22
           },
           {
            "h": 3,
            "value": 0,
            "w": 22
           },
           {
            "h": 4,
            "value": 0,
            "w": 22
           },
           {
            "h": 5,
            "value": 0,
            "w": 22
           },
           {
            "h": 6,
            "value": 0,
            "w": 22
           },
           {
            "h": 7,
            "value": 0,
            "w": 22
           },
           {
            "h": 8,
            "value": 0,
            "w": 22
           },
           {
            "h": 9,
            "value": 0,
            "w": 22
           },
           {
            "h": 10,
            "value": 0,
            "w": 22
           },
           {
            "h": 11,
            "value": 0,
            "w": 22
           },
           {
            "h": 12,
            "value": 0,
            "w": 22
           },
           {
            "h": 13,
            "value": 0,
            "w": 22
           },
           {
            "h": 14,
            "value": 0,
            "w": 22
           },
           {
            "h": 15,
            "value": 0,
            "w": 22
           },
           {
            "h": 16,
            "value": 0,
            "w": 22
           },
           {
            "h": 17,
            "value": 0,
            "w": 22
           },
           {
            "h": 18,
            "value": 0,
            "w": 22
           },
           {
            "h": 19,
            "value": 0,
            "w": 22
           },
           {
            "h": 20,
            "value": 0,
            "w": 22
           },
           {
            "h": 21,
            "value": 0,
            "w": 22
           },
           {
            "h": 22,
            "value": 0,
            "w": 22
           },
           {
            "h": 23,
            "value": 0,
            "w": 22
           },
           {
            "h": 24,
            "value": 0,
            "w": 22
           },
           {
            "h": 25,
            "value": 0,
            "w": 22
           },
           {
            "h": 26,
            "value": 0,
            "w": 22
           },
           {
            "h": 27,
            "value": 0,
            "w": 22
           },
           {
            "h": 0,
            "value": 0,
            "w": 23
           },
           {
            "h": 1,
            "value": 0,
            "w": 23
           },
           {
            "h": 2,
            "value": 0,
            "w": 23
           },
           {
            "h": 3,
            "value": 0,
            "w": 23
           },
           {
            "h": 4,
            "value": 0,
            "w": 23
           },
           {
            "h": 5,
            "value": 0,
            "w": 23
           },
           {
            "h": 6,
            "value": 0,
            "w": 23
           },
           {
            "h": 7,
            "value": 0,
            "w": 23
           },
           {
            "h": 8,
            "value": 0,
            "w": 23
           },
           {
            "h": 9,
            "value": 0,
            "w": 23
           },
           {
            "h": 10,
            "value": 0,
            "w": 23
           },
           {
            "h": 11,
            "value": 0,
            "w": 23
           },
           {
            "h": 12,
            "value": 0,
            "w": 23
           },
           {
            "h": 13,
            "value": 0,
            "w": 23
           },
           {
            "h": 14,
            "value": 0,
            "w": 23
           },
           {
            "h": 15,
            "value": 0,
            "w": 23
           },
           {
            "h": 16,
            "value": 0,
            "w": 23
           },
           {
            "h": 17,
            "value": 0,
            "w": 23
           },
           {
            "h": 18,
            "value": 0,
            "w": 23
           },
           {
            "h": 19,
            "value": 0,
            "w": 23
           },
           {
            "h": 20,
            "value": 0,
            "w": 23
           },
           {
            "h": 21,
            "value": 0,
            "w": 23
           },
           {
            "h": 22,
            "value": 0,
            "w": 23
           },
           {
            "h": 23,
            "value": 0,
            "w": 23
           },
           {
            "h": 24,
            "value": 0,
            "w": 23
           },
           {
            "h": 25,
            "value": 0,
            "w": 23
           },
           {
            "h": 26,
            "value": 0,
            "w": 23
           },
           {
            "h": 27,
            "value": 0,
            "w": 23
           },
           {
            "h": 0,
            "value": 0,
            "w": 24
           },
           {
            "h": 1,
            "value": 0,
            "w": 24
           },
           {
            "h": 2,
            "value": 0,
            "w": 24
           },
           {
            "h": 3,
            "value": 0,
            "w": 24
           },
           {
            "h": 4,
            "value": 0,
            "w": 24
           },
           {
            "h": 5,
            "value": 0,
            "w": 24
           },
           {
            "h": 6,
            "value": 0,
            "w": 24
           },
           {
            "h": 7,
            "value": 0,
            "w": 24
           },
           {
            "h": 8,
            "value": 0,
            "w": 24
           },
           {
            "h": 9,
            "value": 0,
            "w": 24
           },
           {
            "h": 10,
            "value": 0,
            "w": 24
           },
           {
            "h": 11,
            "value": 0,
            "w": 24
           },
           {
            "h": 12,
            "value": 0,
            "w": 24
           },
           {
            "h": 13,
            "value": 0,
            "w": 24
           },
           {
            "h": 14,
            "value": 0,
            "w": 24
           },
           {
            "h": 15,
            "value": 0,
            "w": 24
           },
           {
            "h": 16,
            "value": 0,
            "w": 24
           },
           {
            "h": 17,
            "value": 0,
            "w": 24
           },
           {
            "h": 18,
            "value": 0,
            "w": 24
           },
           {
            "h": 19,
            "value": 0,
            "w": 24
           },
           {
            "h": 20,
            "value": 0,
            "w": 24
           },
           {
            "h": 21,
            "value": 0,
            "w": 24
           },
           {
            "h": 22,
            "value": 0,
            "w": 24
           },
           {
            "h": 23,
            "value": 0,
            "w": 24
           },
           {
            "h": 24,
            "value": 0,
            "w": 24
           },
           {
            "h": 25,
            "value": 0,
            "w": 24
           },
           {
            "h": 26,
            "value": 0,
            "w": 24
           },
           {
            "h": 27,
            "value": 0,
            "w": 24
           },
           {
            "h": 0,
            "value": 0,
            "w": 25
           },
           {
            "h": 1,
            "value": 0,
            "w": 25
           },
           {
            "h": 2,
            "value": 0,
            "w": 25
           },
           {
            "h": 3,
            "value": 0,
            "w": 25
           },
           {
            "h": 4,
            "value": 0,
            "w": 25
           },
           {
            "h": 5,
            "value": 0,
            "w": 25
           },
           {
            "h": 6,
            "value": 0,
            "w": 25
           },
           {
            "h": 7,
            "value": 0,
            "w": 25
           },
           {
            "h": 8,
            "value": 0,
            "w": 25
           },
           {
            "h": 9,
            "value": 0,
            "w": 25
           },
           {
            "h": 10,
            "value": 0,
            "w": 25
           },
           {
            "h": 11,
            "value": 0,
            "w": 25
           },
           {
            "h": 12,
            "value": 0,
            "w": 25
           },
           {
            "h": 13,
            "value": 0,
            "w": 25
           },
           {
            "h": 14,
            "value": 0,
            "w": 25
           },
           {
            "h": 15,
            "value": 0,
            "w": 25
           },
           {
            "h": 16,
            "value": 0,
            "w": 25
           },
           {
            "h": 17,
            "value": 0,
            "w": 25
           },
           {
            "h": 18,
            "value": 0,
            "w": 25
           },
           {
            "h": 19,
            "value": 0,
            "w": 25
           },
           {
            "h": 20,
            "value": 0,
            "w": 25
           },
           {
            "h": 21,
            "value": 0,
            "w": 25
           },
           {
            "h": 22,
            "value": 0,
            "w": 25
           },
           {
            "h": 23,
            "value": 0,
            "w": 25
           },
           {
            "h": 24,
            "value": 0,
            "w": 25
           },
           {
            "h": 25,
            "value": 0,
            "w": 25
           },
           {
            "h": 26,
            "value": 0,
            "w": 25
           },
           {
            "h": 27,
            "value": 0,
            "w": 25
           },
           {
            "h": 0,
            "value": 0,
            "w": 26
           },
           {
            "h": 1,
            "value": 0,
            "w": 26
           },
           {
            "h": 2,
            "value": 0,
            "w": 26
           },
           {
            "h": 3,
            "value": 0,
            "w": 26
           },
           {
            "h": 4,
            "value": 0,
            "w": 26
           },
           {
            "h": 5,
            "value": 0,
            "w": 26
           },
           {
            "h": 6,
            "value": 0,
            "w": 26
           },
           {
            "h": 7,
            "value": 0,
            "w": 26
           },
           {
            "h": 8,
            "value": 0,
            "w": 26
           },
           {
            "h": 9,
            "value": 0,
            "w": 26
           },
           {
            "h": 10,
            "value": 0,
            "w": 26
           },
           {
            "h": 11,
            "value": 0,
            "w": 26
           },
           {
            "h": 12,
            "value": 0,
            "w": 26
           },
           {
            "h": 13,
            "value": 0,
            "w": 26
           },
           {
            "h": 14,
            "value": 0,
            "w": 26
           },
           {
            "h": 15,
            "value": 0,
            "w": 26
           },
           {
            "h": 16,
            "value": 0,
            "w": 26
           },
           {
            "h": 17,
            "value": 0,
            "w": 26
           },
           {
            "h": 18,
            "value": 0,
            "w": 26
           },
           {
            "h": 19,
            "value": 0,
            "w": 26
           },
           {
            "h": 20,
            "value": 0,
            "w": 26
           },
           {
            "h": 21,
            "value": 0,
            "w": 26
           },
           {
            "h": 22,
            "value": 0,
            "w": 26
           },
           {
            "h": 23,
            "value": 0,
            "w": 26
           },
           {
            "h": 24,
            "value": 0,
            "w": 26
           },
           {
            "h": 25,
            "value": 0,
            "w": 26
           },
           {
            "h": 26,
            "value": 0,
            "w": 26
           },
           {
            "h": 27,
            "value": 0,
            "w": 26
           },
           {
            "h": 0,
            "value": 0,
            "w": 27
           },
           {
            "h": 1,
            "value": 0,
            "w": 27
           },
           {
            "h": 2,
            "value": 0,
            "w": 27
           },
           {
            "h": 3,
            "value": 0,
            "w": 27
           },
           {
            "h": 4,
            "value": 0,
            "w": 27
           },
           {
            "h": 5,
            "value": 0,
            "w": 27
           },
           {
            "h": 6,
            "value": 0,
            "w": 27
           },
           {
            "h": 7,
            "value": 0,
            "w": 27
           },
           {
            "h": 8,
            "value": 0,
            "w": 27
           },
           {
            "h": 9,
            "value": 0,
            "w": 27
           },
           {
            "h": 10,
            "value": 0,
            "w": 27
           },
           {
            "h": 11,
            "value": 0,
            "w": 27
           },
           {
            "h": 12,
            "value": 0,
            "w": 27
           },
           {
            "h": 13,
            "value": 0,
            "w": 27
           },
           {
            "h": 14,
            "value": 0,
            "w": 27
           },
           {
            "h": 15,
            "value": 0,
            "w": 27
           },
           {
            "h": 16,
            "value": 0,
            "w": 27
           },
           {
            "h": 17,
            "value": 0,
            "w": 27
           },
           {
            "h": 18,
            "value": 0,
            "w": 27
           },
           {
            "h": 19,
            "value": 0,
            "w": 27
           },
           {
            "h": 20,
            "value": 0,
            "w": 27
           },
           {
            "h": 21,
            "value": 0,
            "w": 27
           },
           {
            "h": 22,
            "value": 0,
            "w": 27
           },
           {
            "h": 23,
            "value": 0,
            "w": 27
           },
           {
            "h": 24,
            "value": 0,
            "w": 27
           },
           {
            "h": 25,
            "value": 0,
            "w": 27
           },
           {
            "h": 26,
            "value": 0,
            "w": 27
           },
           {
            "h": 27,
            "value": 0,
            "w": 27
           }
          ]
         },
         "encoding": {
          "color": {
           "field": "value",
           "legend": null,
           "scale": {
            "scheme": "greys"
           },
           "sort": "descending",
           "type": "quantitative"
          },
          "tooltip": [
           {
            "field": "value",
            "type": "quantitative"
           }
          ],
          "x": {
           "axis": null,
           "field": "w",
           "type": "nominal"
          },
          "y": {
           "axis": null,
           "field": "h",
           "type": "nominal"
          }
         },
         "height": 350,
         "mark": "rect",
         "title": "Trouser",
         "width": 350
        },
        {
         "data": {
          "values": [
           {
            "actual": false,
            "labels": "T-shirt/top",
            "proba": 0
           },
           {
            "actual": true,
            "labels": "Trouser",
            "proba": 1
           },
           {
            "actual": false,
            "labels": "Pullover",
            "proba": 0
           },
           {
            "actual": false,
            "labels": "Dress",
            "proba": 0
           },
           {
            "actual": false,
            "labels": "Coat",
            "proba": 0
           },
           {
            "actual": false,
            "labels": "Sandal",
            "proba": 0
           },
           {
            "actual": false,
            "labels": "Shirt",
            "proba": 0
           },
           {
            "actual": false,
            "labels": "Sneaker",
            "proba": 0
           },
           {
            "actual": false,
            "labels": "Bag",
            "proba": 0
           },
           {
            "actual": false,
            "labels": "Ankle boot",
            "proba": 0
           }
          ]
         },
         "encoding": {
          "color": {
           "field": "actual",
           "type": "nominal"
          },
          "tooltip": [
           {
            "field": "proba",
            "type": "quantitative"
           }
          ],
          "x": {
           "field": "proba",
           "scale": {
            "domain": [
             0,
             1
            ]
           },
           "type": "quantitative"
          },
          "y": {
           "field": "labels",
           "type": "nominal"
          }
         },
         "height": 350,
         "mark": "bar",
         "title": "Prediction: Trouser",
         "width": 350
        }
       ]
      },
      "image/png": "[encoded data removed]",
      "text/plain": [
       "<VegaLite 2 object>\n",
       "\n",
       "If you see this message, it means the renderer has not been properly enabled\n",
       "for the frontend that you are using. For more information, see\n",
       "https://altair-viz.github.io/user_guide/troubleshooting.html\n"
      ]
     },
     "execution_count": 67,
     "metadata": {},
     "output_type": "execute_result"
    }
   ],
   "source": [
    "vis.imshow(x_test[i], labels[y_test[i]]) | vis.predict(proba_conv[i], y_test[i], labels)"
   ]
  },
  {
   "cell_type": "markdown",
   "metadata": {},
   "source": [
    "## Model 3: Convulation + Max Pooling + Dropout"
   ]
  },
  {
   "cell_type": "markdown",
   "metadata": {},
   "source": [
    "**Step 2: Craft the feature transfomation and classifier model **"
   ]
  },
  {
   "cell_type": "code",
   "execution_count": 71,
   "metadata": {},
   "outputs": [],
   "source": [
    "model_dropout_conv = Sequential()\n",
    "model_dropout_conv.add(Conv2D(32, kernel_size=(3, 3), activation='relu', input_shape=(28, 28, 1)))\n",
    "model_dropout_conv.add(MaxPooling2D(pool_size=(2, 2)))\n",
    "model_dropout_conv.add(Conv2D(64, (3, 3), activation='relu'))\n",
    "model_dropout_conv.add(MaxPooling2D(pool_size=(2, 2)))\n",
    "model_dropout_conv.add(Dropout(0.25))\n",
    "model_dropout_conv.add(Flatten())\n",
    "model_dropout_conv.add(Dense(128, activation='relu'))\n",
    "model_dropout_conv.add(Dropout(0.5))\n",
    "model_dropout_conv.add(Dense(10, activation='softmax'))"
   ]
  },
  {
   "cell_type": "code",
   "execution_count": 72,
   "metadata": {},
   "outputs": [
    {
     "name": "stdout",
     "output_type": "stream",
     "text": [
      "_________________________________________________________________\n",
      "Layer (type)                 Output Shape              Param #   \n",
      "=================================================================\n",
      "conv2d_8 (Conv2D)            (None, 26, 26, 32)        320       \n",
      "_________________________________________________________________\n",
      "max_pooling2d_7 (MaxPooling2 (None, 13, 13, 32)        0         \n",
      "_________________________________________________________________\n",
      "conv2d_9 (Conv2D)            (None, 11, 11, 64)        18496     \n",
      "_________________________________________________________________\n",
      "max_pooling2d_8 (MaxPooling2 (None, 5, 5, 64)          0         \n",
      "_________________________________________________________________\n",
      "dropout_3 (Dropout)          (None, 5, 5, 64)          0         \n",
      "_________________________________________________________________\n",
      "flatten_4 (Flatten)          (None, 1600)              0         \n",
      "_________________________________________________________________\n",
      "dense_6 (Dense)              (None, 128)               204928    \n",
      "_________________________________________________________________\n",
      "dropout_4 (Dropout)          (None, 128)               0         \n",
      "_________________________________________________________________\n",
      "dense_7 (Dense)              (None, 10)                1290      \n",
      "=================================================================\n",
      "Total params: 225,034\n",
      "Trainable params: 225,034\n",
      "Non-trainable params: 0\n",
      "_________________________________________________________________\n"
     ]
    }
   ],
   "source": [
    "model_dropout_conv.summary()"
   ]
  },
  {
   "cell_type": "markdown",
   "metadata": {},
   "source": [
    "**Step 3: Compile and fit the model**"
   ]
  },
  {
   "cell_type": "code",
   "execution_count": 73,
   "metadata": {},
   "outputs": [],
   "source": [
    "model_dropout_conv.compile(loss='categorical_crossentropy', optimizer=\"sgd\", metrics=['accuracy'])"
   ]
  },
  {
   "cell_type": "code",
   "execution_count": 75,
   "metadata": {},
   "outputs": [
    {
     "name": "stdout",
     "output_type": "stream",
     "text": [
      "Train on 60000 samples, validate on 10000 samples\n",
      "Epoch 1/5\n",
      "60000/60000 [==============================] - 112s 2ms/step - loss: 0.6454 - acc: 0.7582 - val_loss: 0.5631 - val_acc: 0.7825\n",
      "Epoch 2/5\n",
      "60000/60000 [==============================] - 137s 2ms/step - loss: 0.6352 - acc: 0.7639 - val_loss: 0.5547 - val_acc: 0.7872\n",
      "Epoch 3/5\n",
      "60000/60000 [==============================] - 137s 2ms/step - loss: 0.6313 - acc: 0.7649 - val_loss: 0.5493 - val_acc: 0.7889\n",
      "Epoch 4/5\n",
      "60000/60000 [==============================] - 84s 1ms/step - loss: 0.6239 - acc: 0.7688 - val_loss: 0.5470 - val_acc: 0.7933\n",
      "Epoch 5/5\n",
      "60000/60000 [==============================] - 97s 2ms/step - loss: 0.6194 - acc: 0.7717 - val_loss: 0.5416 - val_acc: 0.7945\n",
      "CPU times: user 10min 15s, sys: 1min 4s, total: 11min 19s\n",
      "Wall time: 9min 27s\n"
     ]
    }
   ],
   "source": [
    "%%time \n",
    "output_dropout_conv = model_dropout_conv.fit(x_train_conv, y_train_class, batch_size=512, epochs=5, verbose=1,\n",
    "                    validation_data=(x_test_conv, y_test_class))"
   ]
  },
  {
   "cell_type": "markdown",
   "metadata": {},
   "source": [
    "**Step 4: Check the performance of the model**"
   ]
  },
  {
   "cell_type": "code",
   "execution_count": 80,
   "metadata": {},
   "outputs": [
    {
     "data": {
      "application/vnd.vegalite.v2+json": {
       "$schema": "https://vega.github.io/schema/vega-lite/v2.4.3.json",
       "config": {
        "view": {
         "height": 300,
         "width": 400
        }
       },
       "data": {
        "values": [
         {
          "batch": 1,
          "metrics": "loss",
          "type": "validation",
          "value": 0.5631307482242585
         },
         {
          "batch": 2,
          "metrics": "loss",
          "type": "validation",
          "value": 0.5547196945667267
         },
         {
          "batch": 3,
          "metrics": "loss",
          "type": "validation",
          "value": 0.5493251272678376
         },
         {
          "batch": 4,
          "metrics": "loss",
          "type": "validation",
          "value": 0.5469538326740265
         },
         {
          "batch": 5,
          "metrics": "loss",
          "type": "validation",
          "value": 0.5416208055973053
         },
         {
          "batch": 1,
          "metrics": "acc",
          "type": "validation",
          "value": 0.7825000001907348
         },
         {
          "batch": 2,
          "metrics": "acc",
          "type": "validation",
          "value": 0.7872000003814698
         },
         {
          "batch": 3,
          "metrics": "acc",
          "type": "validation",
          "value": 0.7889000003814697
         },
         {
          "batch": 4,
          "metrics": "acc",
          "type": "validation",
          "value": 0.793299999332428
         },
         {
          "batch": 5,
          "metrics": "acc",
          "type": "validation",
          "value": 0.7945000007629395
         },
         {
          "batch": 1,
          "metrics": "loss",
          "type": "training",
          "value": 0.6454265392303467
         },
         {
          "batch": 2,
          "metrics": "loss",
          "type": "training",
          "value": 0.6351727317651112
         },
         {
          "batch": 3,
          "metrics": "loss",
          "type": "training",
          "value": 0.6313006823221843
         },
         {
          "batch": 4,
          "metrics": "loss",
          "type": "training",
          "value": 0.623934965801239
         },
         {
          "batch": 5,
          "metrics": "loss",
          "type": "training",
          "value": 0.6194103242556254
         },
         {
          "batch": 1,
          "metrics": "acc",
          "type": "training",
          "value": 0.7581666666348775
         },
         {
          "batch": 2,
          "metrics": "acc",
          "type": "training",
          "value": 0.7639333333015442
         },
         {
          "batch": 3,
          "metrics": "acc",
          "type": "training",
          "value": 0.7648500000317892
         },
         {
          "batch": 4,
          "metrics": "acc",
          "type": "training",
          "value": 0.7688166666348776
         },
         {
          "batch": 5,
          "metrics": "acc",
          "type": "training",
          "value": 0.7717333333015441
         }
        ]
       },
       "facet": {
        "column": {
         "field": "metrics",
         "type": "nominal"
        }
       },
       "resolve": {
        "scale": {
         "color": "shared",
         "x": "shared",
         "y": "independent"
        }
       },
       "spec": {
        "layer": [
         {
          "encoding": {
           "color": {
            "field": "type",
            "type": "nominal"
           },
           "tooltip": [
            {
             "field": "batch",
             "type": "quantitative"
            },
            {
             "field": "value",
             "type": "quantitative"
            }
           ],
           "x": {
            "field": "batch",
            "type": "quantitative"
           },
           "y": {
            "field": "value",
            "type": "quantitative"
           }
          },
          "height": 300,
          "mark": {
           "size": 50,
           "type": "circle"
          },
          "width": 300
         },
         {
          "encoding": {
           "color": {
            "field": "type",
            "type": "nominal"
           },
           "x": {
            "field": "batch",
            "type": "quantitative"
           },
           "y": {
            "field": "value",
            "type": "quantitative"
           }
          },
          "height": 300,
          "mark": "line",
          "width": 300
         }
        ]
       }
      },
      "image/png": "[encoded data removed]",
      "text/plain": [
       "<VegaLite 2 object>\n",
       "\n",
       "If you see this message, it means the renderer has not been properly enabled\n",
       "for the frontend that you are using. For more information, see\n",
       "https://altair-viz.github.io/user_guide/troubleshooting.html\n"
      ]
     },
     "execution_count": 80,
     "metadata": {},
     "output_type": "execute_result"
    }
   ],
   "source": [
    "vis.metrics(output_dropout_conv.history)"
   ]
  },
  {
   "cell_type": "code",
   "execution_count": 81,
   "metadata": {},
   "outputs": [
    {
     "name": "stdout",
     "output_type": "stream",
     "text": [
      "10000/10000 [==============================] - 8s 837us/step\n"
     ]
    }
   ],
   "source": [
    "score = model_dropout_conv.evaluate(x_test_conv, y_test_class, verbose=1)"
   ]
  },
  {
   "cell_type": "code",
   "execution_count": 82,
   "metadata": {},
   "outputs": [
    {
     "name": "stdout",
     "output_type": "stream",
     "text": [
      "Test loss: 0.5416207976818085\n",
      "Test accuracy: 0.7945\n"
     ]
    }
   ],
   "source": [
    "print('Test loss:', score[0])\n",
    "print('Test accuracy:', score[1])"
   ]
  },
  {
   "cell_type": "markdown",
   "metadata": {},
   "source": [
    "**Step 5: Make & Visualise the Prediction**"
   ]
  },
  {
   "cell_type": "code",
   "execution_count": 84,
   "metadata": {},
   "outputs": [],
   "source": [
    "predict_classes_dropout = model_dropout_conv.predict_classes(x_test_conv)"
   ]
  },
  {
   "cell_type": "code",
   "execution_count": 85,
   "metadata": {},
   "outputs": [
    {
     "data": {
      "text/html": [
       "<div>\n",
       "<style scoped>\n",
       "    .dataframe tbody tr th:only-of-type {\n",
       "        vertical-align: middle;\n",
       "    }\n",
       "\n",
       "    .dataframe tbody tr th {\n",
       "        vertical-align: top;\n",
       "    }\n",
       "\n",
       "    .dataframe thead th {\n",
       "        text-align: right;\n",
       "    }\n",
       "</style>\n",
       "<table border=\"1\" class=\"dataframe\">\n",
       "  <thead>\n",
       "    <tr style=\"text-align: right;\">\n",
       "      <th>col_0</th>\n",
       "      <th>0</th>\n",
       "      <th>1</th>\n",
       "      <th>2</th>\n",
       "      <th>3</th>\n",
       "      <th>4</th>\n",
       "      <th>5</th>\n",
       "      <th>6</th>\n",
       "      <th>7</th>\n",
       "      <th>8</th>\n",
       "      <th>9</th>\n",
       "    </tr>\n",
       "    <tr>\n",
       "      <th>row_0</th>\n",
       "      <th></th>\n",
       "      <th></th>\n",
       "      <th></th>\n",
       "      <th></th>\n",
       "      <th></th>\n",
       "      <th></th>\n",
       "      <th></th>\n",
       "      <th></th>\n",
       "      <th></th>\n",
       "      <th></th>\n",
       "    </tr>\n",
       "  </thead>\n",
       "  <tbody>\n",
       "    <tr>\n",
       "      <th>0</th>\n",
       "      <td>790</td>\n",
       "      <td>3</td>\n",
       "      <td>45</td>\n",
       "      <td>81</td>\n",
       "      <td>9</td>\n",
       "      <td>4</td>\n",
       "      <td>49</td>\n",
       "      <td>0</td>\n",
       "      <td>19</td>\n",
       "      <td>0</td>\n",
       "    </tr>\n",
       "    <tr>\n",
       "      <th>1</th>\n",
       "      <td>1</td>\n",
       "      <td>946</td>\n",
       "      <td>3</td>\n",
       "      <td>37</td>\n",
       "      <td>8</td>\n",
       "      <td>1</td>\n",
       "      <td>2</td>\n",
       "      <td>0</td>\n",
       "      <td>2</td>\n",
       "      <td>0</td>\n",
       "    </tr>\n",
       "    <tr>\n",
       "      <th>2</th>\n",
       "      <td>15</td>\n",
       "      <td>2</td>\n",
       "      <td>686</td>\n",
       "      <td>13</td>\n",
       "      <td>190</td>\n",
       "      <td>1</td>\n",
       "      <td>80</td>\n",
       "      <td>0</td>\n",
       "      <td>13</td>\n",
       "      <td>0</td>\n",
       "    </tr>\n",
       "    <tr>\n",
       "      <th>3</th>\n",
       "      <td>38</td>\n",
       "      <td>8</td>\n",
       "      <td>34</td>\n",
       "      <td>847</td>\n",
       "      <td>39</td>\n",
       "      <td>0</td>\n",
       "      <td>28</td>\n",
       "      <td>0</td>\n",
       "      <td>6</td>\n",
       "      <td>0</td>\n",
       "    </tr>\n",
       "    <tr>\n",
       "      <th>4</th>\n",
       "      <td>0</td>\n",
       "      <td>1</td>\n",
       "      <td>147</td>\n",
       "      <td>43</td>\n",
       "      <td>718</td>\n",
       "      <td>1</td>\n",
       "      <td>80</td>\n",
       "      <td>0</td>\n",
       "      <td>10</td>\n",
       "      <td>0</td>\n",
       "    </tr>\n",
       "    <tr>\n",
       "      <th>5</th>\n",
       "      <td>0</td>\n",
       "      <td>0</td>\n",
       "      <td>0</td>\n",
       "      <td>2</td>\n",
       "      <td>0</td>\n",
       "      <td>919</td>\n",
       "      <td>0</td>\n",
       "      <td>50</td>\n",
       "      <td>6</td>\n",
       "      <td>23</td>\n",
       "    </tr>\n",
       "    <tr>\n",
       "      <th>6</th>\n",
       "      <td>227</td>\n",
       "      <td>1</td>\n",
       "      <td>255</td>\n",
       "      <td>53</td>\n",
       "      <td>188</td>\n",
       "      <td>2</td>\n",
       "      <td>250</td>\n",
       "      <td>0</td>\n",
       "      <td>24</td>\n",
       "      <td>0</td>\n",
       "    </tr>\n",
       "    <tr>\n",
       "      <th>7</th>\n",
       "      <td>0</td>\n",
       "      <td>0</td>\n",
       "      <td>0</td>\n",
       "      <td>0</td>\n",
       "      <td>0</td>\n",
       "      <td>36</td>\n",
       "      <td>0</td>\n",
       "      <td>905</td>\n",
       "      <td>0</td>\n",
       "      <td>59</td>\n",
       "    </tr>\n",
       "    <tr>\n",
       "      <th>8</th>\n",
       "      <td>2</td>\n",
       "      <td>2</td>\n",
       "      <td>17</td>\n",
       "      <td>7</td>\n",
       "      <td>6</td>\n",
       "      <td>8</td>\n",
       "      <td>10</td>\n",
       "      <td>3</td>\n",
       "      <td>944</td>\n",
       "      <td>1</td>\n",
       "    </tr>\n",
       "    <tr>\n",
       "      <th>9</th>\n",
       "      <td>0</td>\n",
       "      <td>0</td>\n",
       "      <td>0</td>\n",
       "      <td>0</td>\n",
       "      <td>1</td>\n",
       "      <td>8</td>\n",
       "      <td>0</td>\n",
       "      <td>50</td>\n",
       "      <td>1</td>\n",
       "      <td>940</td>\n",
       "    </tr>\n",
       "  </tbody>\n",
       "</table>\n",
       "</div>"
      ],
      "text/plain": [
       "col_0    0    1    2    3    4    5    6    7    8    9\n",
       "row_0                                                  \n",
       "0      790    3   45   81    9    4   49    0   19    0\n",
       "1        1  946    3   37    8    1    2    0    2    0\n",
       "2       15    2  686   13  190    1   80    0   13    0\n",
       "3       38    8   34  847   39    0   28    0    6    0\n",
       "4        0    1  147   43  718    1   80    0   10    0\n",
       "5        0    0    0    2    0  919    0   50    6   23\n",
       "6      227    1  255   53  188    2  250    0   24    0\n",
       "7        0    0    0    0    0   36    0  905    0   59\n",
       "8        2    2   17    7    6    8   10    3  944    1\n",
       "9        0    0    0    0    1    8    0   50    1  940"
      ]
     },
     "execution_count": 85,
     "metadata": {},
     "output_type": "execute_result"
    }
   ],
   "source": [
    "pd.crosstab(y_test, predict_classes_dropout)"
   ]
  },
  {
   "cell_type": "code",
   "execution_count": 91,
   "metadata": {},
   "outputs": [],
   "source": [
    "proba_dropout = model_dropout_conv.predict_proba(x_test_conv)"
   ]
  },
  {
   "cell_type": "code",
   "execution_count": 92,
   "metadata": {},
   "outputs": [
    {
     "data": {
      "application/vnd.vegalite.v2+json": {
       "$schema": "https://vega.github.io/schema/vega-lite/v2.4.3.json",
       "config": {
        "view": {
         "height": 300,
         "width": 400
        }
       },
       "hconcat": [
        {
         "data": {
          "values": [
           {
            "h": 0,
            "value": 0,
            "w": 0
           },
           {
            "h": 1,
            "value": 0,
            "w": 0
           },
           {
            "h": 2,
            "value": 0,
            "w": 0
           },
           {
            "h": 3,
            "value": 0,
            "w": 0
           },
           {
            "h": 4,
            "value": 0,
            "w": 0
           },
           {
            "h": 5,
            "value": 0,
            "w": 0
           },
           {
            "h": 6,
            "value": 0,
            "w": 0
           },
           {
            "h": 7,
            "value": 0,
            "w": 0
           },
           {
            "h": 8,
            "value": 0,
            "w": 0
           },
           {
            "h": 9,
            "value": 0,
            "w": 0
           },
           {
            "h": 10,
            "value": 0,
            "w": 0
           },
           {
            "h": 11,
            "value": 0,
            "w": 0
           },
           {
            "h": 12,
            "value": 0,
            "w": 0
           },
           {
            "h": 13,
            "value": 0,
            "w": 0
           },
           {
            "h": 14,
            "value": 0,
            "w": 0
           },
           {
            "h": 15,
            "value": 0,
            "w": 0
           },
           {
            "h": 16,
            "value": 0,
            "w": 0
           },
           {
            "h": 17,
            "value": 0,
            "w": 0
           },
           {
            "h": 18,
            "value": 0,
            "w": 0
           },
           {
            "h": 19,
            "value": 0,
            "w": 0
           },
           {
            "h": 20,
            "value": 0,
            "w": 0
           },
           {
            "h": 21,
            "value": 0,
            "w": 0
           },
           {
            "h": 22,
            "value": 0,
            "w": 0
           },
           {
            "h": 23,
            "value": 0,
            "w": 0
           },
           {
            "h": 24,
            "value": 0,
            "w": 0
           },
           {
            "h": 25,
            "value": 0,
            "w": 0
           },
           {
            "h": 26,
            "value": 0,
            "w": 0
           },
           {
            "h": 27,
            "value": 0,
            "w": 0
           },
           {
            "h": 0,
            "value": 0,
            "w": 1
           },
           {
            "h": 1,
            "value": 0,
            "w": 1
           },
           {
            "h": 2,
            "value": 0,
            "w": 1
           },
           {
            "h": 3,
            "value": 0,
            "w": 1
           },
           {
            "h": 4,
            "value": 0,
            "w": 1
           },
           {
            "h": 5,
            "value": 0,
            "w": 1
           },
           {
            "h": 6,
            "value": 0,
            "w": 1
           },
           {
            "h": 7,
            "value": 0,
            "w": 1
           },
           {
            "h": 8,
            "value": 0,
            "w": 1
           },
           {
            "h": 9,
            "value": 0,
            "w": 1
           },
           {
            "h": 10,
            "value": 0,
            "w": 1
           },
           {
            "h": 11,
            "value": 0,
            "w": 1
           },
           {
            "h": 12,
            "value": 0,
            "w": 1
           },
           {
            "h": 13,
            "value": 0,
            "w": 1
           },
           {
            "h": 14,
            "value": 0,
            "w": 1
           },
           {
            "h": 15,
            "value": 0,
            "w": 1
           },
           {
            "h": 16,
            "value": 0,
            "w": 1
           },
           {
            "h": 17,
            "value": 0,
            "w": 1
           },
           {
            "h": 18,
            "value": 0,
            "w": 1
           },
           {
            "h": 19,
            "value": 0,
            "w": 1
           },
           {
            "h": 20,
            "value": 0,
            "w": 1
           },
           {
            "h": 21,
            "value": 0,
            "w": 1
           },
           {
            "h": 22,
            "value": 0,
            "w": 1
           },
           {
            "h": 23,
            "value": 0,
            "w": 1
           },
           {
            "h": 24,
            "value": 0,
            "w": 1
           },
           {
            "h": 25,
            "value": 0,
            "w": 1
           },
           {
            "h": 26,
            "value": 0,
            "w": 1
           },
           {
            "h": 27,
            "value": 0,
            "w": 1
           },
           {
            "h": 0,
            "value": 0,
            "w": 2
           },
           {
            "h": 1,
            "value": 0,
            "w": 2
           },
           {
            "h": 2,
            "value": 0,
            "w": 2
           },
           {
            "h": 3,
            "value": 0,
            "w": 2
           },
           {
            "h": 4,
            "value": 0,
            "w": 2
           },
           {
            "h": 5,
            "value": 0,
            "w": 2
           },
           {
            "h": 6,
            "value": 0,
            "w": 2
           },
           {
            "h": 7,
            "value": 0,
            "w": 2
           },
           {
            "h": 8,
            "value": 0,
            "w": 2
           },
           {
            "h": 9,
            "value": 0,
            "w": 2
           },
           {
            "h": 10,
            "value": 0,
            "w": 2
           },
           {
            "h": 11,
            "value": 0,
            "w": 2
           },
           {
            "h": 12,
            "value": 0,
            "w": 2
           },
           {
            "h": 13,
            "value": 0,
            "w": 2
           },
           {
            "h": 14,
            "value": 0,
            "w": 2
           },
           {
            "h": 15,
            "value": 0,
            "w": 2
           },
           {
            "h": 16,
            "value": 0,
            "w": 2
           },
           {
            "h": 17,
            "value": 0,
            "w": 2
           },
           {
            "h": 18,
            "value": 0,
            "w": 2
           },
           {
            "h": 19,
            "value": 0,
            "w": 2
           },
           {
            "h": 20,
            "value": 0,
            "w": 2
           },
           {
            "h": 21,
            "value": 0,
            "w": 2
           },
           {
            "h": 22,
            "value": 0,
            "w": 2
           },
           {
            "h": 23,
            "value": 0,
            "w": 2
           },
           {
            "h": 24,
            "value": 0,
            "w": 2
           },
           {
            "h": 25,
            "value": 0,
            "w": 2
           },
           {
            "h": 26,
            "value": 0,
            "w": 2
           },
           {
            "h": 27,
            "value": 0,
            "w": 2
           },
           {
            "h": 0,
            "value": 0,
            "w": 3
           },
           {
            "h": 1,
            "value": 0,
            "w": 3
           },
           {
            "h": 2,
            "value": 0,
            "w": 3
           },
           {
            "h": 3,
            "value": 0,
            "w": 3
           },
           {
            "h": 4,
            "value": 0,
            "w": 3
           },
           {
            "h": 5,
            "value": 0,
            "w": 3
           },
           {
            "h": 6,
            "value": 0,
            "w": 3
           },
           {
            "h": 7,
            "value": 0,
            "w": 3
           },
           {
            "h": 8,
            "value": 0,
            "w": 3
           },
           {
            "h": 9,
            "value": 0,
            "w": 3
           },
           {
            "h": 10,
            "value": 0,
            "w": 3
           },
           {
            "h": 11,
            "value": 0,
            "w": 3
           },
           {
            "h": 12,
            "value": 0,
            "w": 3
           },
           {
            "h": 13,
            "value": 0,
            "w": 3
           },
           {
            "h": 14,
            "value": 0,
            "w": 3
           },
           {
            "h": 15,
            "value": 0,
            "w": 3
           },
           {
            "h": 16,
            "value": 0,
            "w": 3
           },
           {
            "h": 17,
            "value": 0,
            "w": 3
           },
           {
            "h": 18,
            "value": 0,
            "w": 3
           },
           {
            "h": 19,
            "value": 0,
            "w": 3
           },
           {
            "h": 20,
            "value": 0,
            "w": 3
           },
           {
            "h": 21,
            "value": 0,
            "w": 3
           },
           {
            "h": 22,
            "value": 0,
            "w": 3
           },
           {
            "h": 23,
            "value": 0,
            "w": 3
           },
           {
            "h": 24,
            "value": 0,
            "w": 3
           },
           {
            "h": 25,
            "value": 0,
            "w": 3
           },
           {
            "h": 26,
            "value": 0,
            "w": 3
           },
           {
            "h": 27,
            "value": 0,
            "w": 3
           },
           {
            "h": 0,
            "value": 0,
            "w": 4
           },
           {
            "h": 1,
            "value": 0,
            "w": 4
           },
           {
            "h": 2,
            "value": 0,
            "w": 4
           },
           {
            "h": 3,
            "value": 0,
            "w": 4
           },
           {
            "h": 4,
            "value": 0,
            "w": 4
           },
           {
            "h": 5,
            "value": 0,
            "w": 4
           },
           {
            "h": 6,
            "value": 0,
            "w": 4
           },
           {
            "h": 7,
            "value": 0,
            "w": 4
           },
           {
            "h": 8,
            "value": 0,
            "w": 4
           },
           {
            "h": 9,
            "value": 0,
            "w": 4
           },
           {
            "h": 10,
            "value": 0,
            "w": 4
           },
           {
            "h": 11,
            "value": 0,
            "w": 4
           },
           {
            "h": 12,
            "value": 0,
            "w": 4
           },
           {
            "h": 13,
            "value": 0,
            "w": 4
           },
           {
            "h": 14,
            "value": 0,
            "w": 4
           },
           {
            "h": 15,
            "value": 0,
            "w": 4
           },
           {
            "h": 16,
            "value": 0,
            "w": 4
           },
           {
            "h": 17,
            "value": 0,
            "w": 4
           },
           {
            "h": 18,
            "value": 0,
            "w": 4
           },
           {
            "h": 19,
            "value": 0,
            "w": 4
           },
           {
            "h": 20,
            "value": 0,
            "w": 4
           },
           {
            "h": 21,
            "value": 0,
            "w": 4
           },
           {
            "h": 22,
            "value": 0,
            "w": 4
           },
           {
            "h": 23,
            "value": 0,
            "w": 4
           },
           {
            "h": 24,
            "value": 0,
            "w": 4
           },
           {
            "h": 25,
            "value": 0,
            "w": 4
           },
           {
            "h": 26,
            "value": 0,
            "w": 4
           },
           {
            "h": 27,
            "value": 0,
            "w": 4
           },
           {
            "h": 0,
            "value": 0,
            "w": 5
           },
           {
            "h": 1,
            "value": 0,
            "w": 5
           },
           {
            "h": 2,
            "value": 0,
            "w": 5
           },
           {
            "h": 3,
            "value": 0,
            "w": 5
           },
           {
            "h": 4,
            "value": 0,
            "w": 5
           },
           {
            "h": 5,
            "value": 0,
            "w": 5
           },
           {
            "h": 6,
            "value": 0,
            "w": 5
           },
           {
            "h": 7,
            "value": 0,
            "w": 5
           },
           {
            "h": 8,
            "value": 0,
            "w": 5
           },
           {
            "h": 9,
            "value": 0,
            "w": 5
           },
           {
            "h": 10,
            "value": 0,
            "w": 5
           },
           {
            "h": 11,
            "value": 0,
            "w": 5
           },
           {
            "h": 12,
            "value": 0,
            "w": 5
           },
           {
            "h": 13,
            "value": 0,
            "w": 5
           },
           {
            "h": 14,
            "value": 0,
            "w": 5
           },
           {
            "h": 15,
            "value": 0,
            "w": 5
           },
           {
            "h": 16,
            "value": 0,
            "w": 5
           },
           {
            "h": 17,
            "value": 0,
            "w": 5
           },
           {
            "h": 18,
            "value": 0,
            "w": 5
           },
           {
            "h": 19,
            "value": 0,
            "w": 5
           },
           {
            "h": 20,
            "value": 0,
            "w": 5
           },
           {
            "h": 21,
            "value": 0,
            "w": 5
           },
           {
            "h": 22,
            "value": 0,
            "w": 5
           },
           {
            "h": 23,
            "value": 0,
            "w": 5
           },
           {
            "h": 24,
            "value": 0,
            "w": 5
           },
           {
            "h": 25,
            "value": 0,
            "w": 5
           },
           {
            "h": 26,
            "value": 0,
            "w": 5
           },
           {
            "h": 27,
            "value": 0,
            "w": 5
           },
           {
            "h": 0,
            "value": 0,
            "w": 6
           },
           {
            "h": 1,
            "value": 0,
            "w": 6
           },
           {
            "h": 2,
            "value": 0,
            "w": 6
           },
           {
            "h": 3,
            "value": 0,
            "w": 6
           },
           {
            "h": 4,
            "value": 0,
            "w": 6
           },
           {
            "h": 5,
            "value": 0,
            "w": 6
           },
           {
            "h": 6,
            "value": 0,
            "w": 6
           },
           {
            "h": 7,
            "value": 0,
            "w": 6
           },
           {
            "h": 8,
            "value": 0,
            "w": 6
           },
           {
            "h": 9,
            "value": 0,
            "w": 6
           },
           {
            "h": 10,
            "value": 0,
            "w": 6
           },
           {
            "h": 11,
            "value": 0,
            "w": 6
           },
           {
            "h": 12,
            "value": 0,
            "w": 6
           },
           {
            "h": 13,
            "value": 0,
            "w": 6
           },
           {
            "h": 14,
            "value": 0,
            "w": 6
           },
           {
            "h": 15,
            "value": 0,
            "w": 6
           },
           {
            "h": 16,
            "value": 0,
            "w": 6
           },
           {
            "h": 17,
            "value": 0,
            "w": 6
           },
           {
            "h": 18,
            "value": 0,
            "w": 6
           },
           {
            "h": 19,
            "value": 0,
            "w": 6
           },
           {
            "h": 20,
            "value": 0,
            "w": 6
           },
           {
            "h": 21,
            "value": 0,
            "w": 6
           },
           {
            "h": 22,
            "value": 0,
            "w": 6
           },
           {
            "h": 23,
            "value": 0,
            "w": 6
           },
           {
            "h": 24,
            "value": 0,
            "w": 6
           },
           {
            "h": 25,
            "value": 0,
            "w": 6
           },
           {
            "h": 26,
            "value": 0,
            "w": 6
           },
           {
            "h": 27,
            "value": 0,
            "w": 6
           },
           {
            "h": 0,
            "value": 0,
            "w": 7
           },
           {
            "h": 1,
            "value": 0,
            "w": 7
           },
           {
            "h": 2,
            "value": 0,
            "w": 7
           },
           {
            "h": 3,
            "value": 0,
            "w": 7
           },
           {
            "h": 4,
            "value": 0,
            "w": 7
           },
           {
            "h": 5,
            "value": 0,
            "w": 7
           },
           {
            "h": 6,
            "value": 0,
            "w": 7
           },
           {
            "h": 7,
            "value": 0,
            "w": 7
           },
           {
            "h": 8,
            "value": 0,
            "w": 7
           },
           {
            "h": 9,
            "value": 0,
            "w": 7
           },
           {
            "h": 10,
            "value": 0,
            "w": 7
           },
           {
            "h": 11,
            "value": 0,
            "w": 7
           },
           {
            "h": 12,
            "value": 0,
            "w": 7
           },
           {
            "h": 13,
            "value": 0,
            "w": 7
           },
           {
            "h": 14,
            "value": 0,
            "w": 7
           },
           {
            "h": 15,
            "value": 0,
            "w": 7
           },
           {
            "h": 16,
            "value": 0,
            "w": 7
           },
           {
            "h": 17,
            "value": 0,
            "w": 7
           },
           {
            "h": 18,
            "value": 0,
            "w": 7
           },
           {
            "h": 19,
            "value": 0,
            "w": 7
           },
           {
            "h": 20,
            "value": 0,
            "w": 7
           },
           {
            "h": 21,
            "value": 0,
            "w": 7
           },
           {
            "h": 22,
            "value": 0,
            "w": 7
           },
           {
            "h": 23,
            "value": 0,
            "w": 7
           },
           {
            "h": 24,
            "value": 0,
            "w": 7
           },
           {
            "h": 25,
            "value": 0,
            "w": 7
           },
           {
            "h": 26,
            "value": 0,
            "w": 7
           },
           {
            "h": 27,
            "value": 0,
            "w": 7
           },
           {
            "h": 0,
            "value": 0,
            "w": 8
           },
           {
            "h": 1,
            "value": 0,
            "w": 8
           },
           {
            "h": 2,
            "value": 0,
            "w": 8
           },
           {
            "h": 3,
            "value": 0,
            "w": 8
           },
           {
            "h": 4,
            "value": 0,
            "w": 8
           },
           {
            "h": 5,
            "value": 0,
            "w": 8
           },
           {
            "h": 6,
            "value": 25,
            "w": 8
           },
           {
            "h": 7,
            "value": 49,
            "w": 8
           },
           {
            "h": 8,
            "value": 87,
            "w": 8
           },
           {
            "h": 9,
            "value": 127,
            "w": 8
           },
           {
            "h": 10,
            "value": 163,
            "w": 8
           },
           {
            "h": 11,
            "value": 177,
            "w": 8
           },
           {
            "h": 12,
            "value": 172,
            "w": 8
           },
           {
            "h": 13,
            "value": 154,
            "w": 8
           },
           {
            "h": 14,
            "value": 141,
            "w": 8
           },
           {
            "h": 15,
            "value": 135,
            "w": 8
           },
           {
            "h": 16,
            "value": 90,
            "w": 8
           },
           {
            "h": 17,
            "value": 3,
            "w": 8
           },
           {
            "h": 18,
            "value": 0,
            "w": 8
           },
           {
            "h": 19,
            "value": 0,
            "w": 8
           },
           {
            "h": 20,
            "value": 0,
            "w": 8
           },
           {
            "h": 21,
            "value": 0,
            "w": 8
           },
           {
            "h": 22,
            "value": 0,
            "w": 8
           },
           {
            "h": 23,
            "value": 1,
            "w": 8
           },
           {
            "h": 24,
            "value": 3,
            "w": 8
           },
           {
            "h": 25,
            "value": 1,
            "w": 8
           },
           {
            "h": 26,
            "value": 0,
            "w": 8
           },
           {
            "h": 27,
            "value": 0,
            "w": 8
           },
           {
            "h": 0,
            "value": 0,
            "w": 9
           },
           {
            "h": 1,
            "value": 14,
            "w": 9
           },
           {
            "h": 2,
            "value": 22,
            "w": 9
           },
           {
            "h": 3,
            "value": 105,
            "w": 9
           },
           {
            "h": 4,
            "value": 204,
            "w": 9
           },
           {
            "h": 5,
            "value": 244,
            "w": 9
           },
           {
            "h": 6,
            "value": 247,
            "w": 9
           },
           {
            "h": 7,
            "value": 236,
            "w": 9
           },
           {
            "h": 8,
            "value": 232,
            "w": 9
           },
           {
            "h": 9,
            "value": 221,
            "w": 9
           },
           {
            "h": 10,
            "value": 206,
            "w": 9
           },
           {
            "h": 11,
            "value": 197,
            "w": 9
           },
           {
            "h": 12,
            "value": 186,
            "w": 9
           },
           {
            "h": 13,
            "value": 177,
            "w": 9
           },
           {
            "h": 14,
            "value": 171,
            "w": 9
           },
           {
            "h": 15,
            "value": 179,
            "w": 9
           },
           {
            "h": 16,
            "value": 189,
            "w": 9
           },
           {
            "h": 17,
            "value": 187,
            "w": 9
           },
           {
            "h": 18,
            "value": 182,
            "w": 9
           },
           {
            "h": 19,
            "value": 194,
            "w": 9
           },
           {
            "h": 20,
            "value": 135,
            "w": 9
           },
           {
            "h": 21,
            "value": 27,
            "w": 9
           },
           {
            "h": 22,
            "value": 0,
            "w": 9
           },
           {
            "h": 23,
            "value": 0,
            "w": 9
           },
           {
            "h": 24,
            "value": 0,
            "w": 9
           },
           {
            "h": 25,
            "value": 0,
            "w": 9
           },
           {
            "h": 26,
            "value": 0,
            "w": 9
           },
           {
            "h": 27,
            "value": 0,
            "w": 9
           },
           {
            "h": 0,
            "value": 192,
            "w": 10
           },
           {
            "h": 1,
            "value": 235,
            "w": 10
           },
           {
            "h": 2,
            "value": 234,
            "w": 10
           },
           {
            "h": 3,
            "value": 252,
            "w": 10
           },
           {
            "h": 4,
            "value": 228,
            "w": 10
           },
           {
            "h": 5,
            "value": 192,
            "w": 10
           },
           {
            "h": 6,
            "value": 170,
            "w": 10
           },
           {
            "h": 7,
            "value": 170,
            "w": 10
           },
           {
            "h": 8,
            "value": 159,
            "w": 10
           },
           {
            "h": 9,
            "value": 170,
            "w": 10
           },
           {
            "h": 10,
            "value": 176,
            "w": 10
           },
           {
            "h": 11,
            "value": 175,
            "w": 10
           },
           {
            "h": 12,
            "value": 174,
            "w": 10
           },
           {
            "h": 13,
            "value": 174,
            "w": 10
           },
           {
            "h": 14,
            "value": 175,
            "w": 10
           },
           {
            "h": 15,
            "value": 191,
            "w": 10
           },
           {
            "h": 16,
            "value": 198,
            "w": 10
           },
           {
            "h": 17,
            "value": 195,
            "w": 10
           },
           {
            "h": 18,
            "value": 199,
            "w": 10
           },
           {
            "h": 19,
            "value": 208,
            "w": 10
           },
           {
            "h": 20,
            "value": 225,
            "w": 10
           },
           {
            "h": 21,
            "value": 219,
            "w": 10
           },
           {
            "h": 22,
            "value": 203,
            "w": 10
           },
           {
            "h": 23,
            "value": 133,
            "w": 10
           },
           {
            "h": 24,
            "value": 59,
            "w": 10
           },
           {
            "h": 25,
            "value": 0,
            "w": 10
           },
           {
            "h": 26,
            "value": 0,
            "w": 10
           },
           {
            "h": 27,
            "value": 0,
            "w": 10
           },
           {
            "h": 0,
            "value": 188,
            "w": 11
           },
           {
            "h": 1,
            "value": 213,
            "w": 11
           },
           {
            "h": 2,
            "value": 217,
            "w": 11
           },
           {
            "h": 3,
            "value": 205,
            "w": 11
           },
           {
            "h": 4,
            "value": 184,
            "w": 11
           },
           {
            "h": 5,
            "value": 193,
            "w": 11
           },
           {
            "h": 6,
            "value": 192,
            "w": 11
           },
           {
            "h": 7,
            "value": 193,
            "w": 11
           },
           {
            "h": 8,
            "value": 193,
            "w": 11
           },
           {
            "h": 9,
            "value": 189,
            "w": 11
           },
           {
            "h": 10,
            "value": 185,
            "w": 11
           },
           {
            "h": 11,
            "value": 189,
            "w": 11
           },
           {
            "h": 12,
            "value": 199,
            "w": 11
           },
           {
            "h": 13,
            "value": 211,
            "w": 11
           },
           {
            "h": 14,
            "value": 246,
            "w": 11
           },
           {
            "h": 15,
            "value": 248,
            "w": 11
           },
           {
            "h": 16,
            "value": 211,
            "w": 11
           },
           {
            "h": 17,
            "value": 225,
            "w": 11
           },
           {
            "h": 18,
            "value": 221,
            "w": 11
           },
           {
            "h": 19,
            "value": 213,
            "w": 11
           },
           {
            "h": 20,
            "value": 206,
            "w": 11
           },
           {
            "h": 21,
            "value": 204,
            "w": 11
           },
           {
            "h": 22,
            "value": 214,
            "w": 11
           },
           {
            "h": 23,
            "value": 217,
            "w": 11
           },
           {
            "h": 24,
            "value": 218,
            "w": 11
           },
           {
            "h": 25,
            "value": 191,
            "w": 11
           },
           {
            "h": 26,
            "value": 161,
            "w": 11
           },
           {
            "h": 27,
            "value": 38,
            "w": 11
           },
           {
            "h": 0,
            "value": 181,
            "w": 12
           },
           {
            "h": 1,
            "value": 213,
            "w": 12
           },
           {
            "h": 2,
            "value": 211,
            "w": 12
           },
           {
            "h": 3,
            "value": 209,
            "w": 12
           },
           {
            "h": 4,
            "value": 206,
            "w": 12
           },
           {
            "h": 5,
            "value": 212,
            "w": 12
           },
           {
            "h": 6,
            "value": 210,
            "w": 12
           },
           {
            "h": 7,
            "value": 201,
            "w": 12
           },
           {
            "h": 8,
            "value": 200,
            "w": 12
           },
           {
            "h": 9,
            "value": 216,
            "w": 12
           },
           {
            "h": 10,
            "value": 242,
            "w": 12
           },
           {
            "h": 11,
            "value": 247,
            "w": 12
           },
           {
            "h": 12,
            "value": 223,
            "w": 12
           },
           {
            "h": 13,
            "value": 151,
            "w": 12
           },
           {
            "h": 14,
            "value": 70,
            "w": 12
           },
           {
            "h": 15,
            "value": 28,
            "w": 12
           },
           {
            "h": 16,
            "value": 4,
            "w": 12
           },
           {
            "h": 17,
            "value": 70,
            "w": 12
           },
           {
            "h": 18,
            "value": 163,
            "w": 12
           },
           {
            "h": 19,
            "value": 217,
            "w": 12
           },
           {
            "h": 20,
            "value": 201,
            "w": 12
           },
           {
            "h": 21,
            "value": 217,
            "w": 12
           },
           {
            "h": 22,
            "value": 223,
            "w": 12
           },
           {
            "h": 23,
            "value": 217,
            "w": 12
           },
           {
            "h": 24,
            "value": 209,
            "w": 12
           },
           {
            "h": 25,
            "value": 206,
            "w": 12
           },
           {
            "h": 26,
            "value": 238,
            "w": 12
           },
           {
            "h": 27,
            "value": 137,
            "w": 12
           },
           {
            "h": 0,
            "value": 189,
            "w": 13
           },
           {
            "h": 1,
            "value": 223,
            "w": 13
           },
           {
            "h": 2,
            "value": 217,
            "w": 13
           },
           {
            "h": 3,
            "value": 219,
            "w": 13
           },
           {
            "h": 4,
            "value": 215,
            "w": 13
           },
           {
            "h": 5,
            "value": 217,
            "w": 13
           },
           {
            "h": 6,
            "value": 211,
            "w": 13
           },
           {
            "h": 7,
            "value": 220,
            "w": 13
           },
           {
            "h": 8,
            "value": 245,
            "w": 13
           },
           {
            "h": 9,
            "value": 225,
            "w": 13
           },
           {
            "h": 10,
            "value": 146,
            "w": 13
           },
           {
            "h": 11,
            "value": 34,
            "w": 13
           },
           {
            "h": 12,
            "value": 0,
            "w": 13
           },
           {
            "h": 13,
            "value": 0,
            "w": 13
           },
           {
            "h": 14,
            "value": 0,
            "w": 13
           },
           {
            "h": 15,
            "value": 0,
            "w": 13
           },
           {
            "h": 16,
            "value": 0,
            "w": 13
           },
           {
            "h": 17,
            "value": 0,
            "w": 13
           },
           {
            "h": 18,
            "value": 0,
            "w": 13
           },
           {
            "h": 19,
            "value": 0,
            "w": 13
           },
           {
            "h": 20,
            "value": 0,
            "w": 13
           },
           {
            "h": 21,
            "value": 34,
            "w": 13
           },
           {
            "h": 22,
            "value": 88,
            "w": 13
           },
           {
            "h": 23,
            "value": 167,
            "w": 13
           },
           {
            "h": 24,
            "value": 195,
            "w": 13
           },
           {
            "h": 25,
            "value": 219,
            "w": 13
           },
           {
            "h": 26,
            "value": 234,
            "w": 13
           },
           {
            "h": 27,
            "value": 132,
            "w": 13
           },
           {
            "h": 0,
            "value": 157,
            "w": 14
           },
           {
            "h": 1,
            "value": 225,
            "w": 14
           },
           {
            "h": 2,
            "value": 200,
            "w": 14
           },
           {
            "h": 3,
            "value": 193,
            "w": 14
           },
           {
            "h": 4,
            "value": 221,
            "w": 14
           },
           {
            "h": 5,
            "value": 210,
            "w": 14
           },
           {
            "h": 6,
            "value": 239,
            "w": 14
           },
           {
            "h": 7,
            "value": 187,
            "w": 14
           },
           {
            "h": 8,
            "value": 0,
            "w": 14
           },
           {
            "h": 9,
            "value": 0,
            "w": 14
           },
           {
            "h": 10,
            "value": 0,
            "w": 14
           },
           {
            "h": 11,
            "value": 0,
            "w": 14
           },
           {
            "h": 12,
            "value": 0,
            "w": 14
           },
           {
            "h": 13,
            "value": 0,
            "w": 14
           },
           {
            "h": 14,
            "value": 2,
            "w": 14
           },
           {
            "h": 15,
            "value": 5,
            "w": 14
           },
           {
            "h": 16,
            "value": 3,
            "w": 14
           },
           {
            "h": 17,
            "value": 4,
            "w": 14
           },
           {
            "h": 18,
            "value": 0,
            "w": 14
           },
           {
            "h": 19,
            "value": 0,
            "w": 14
           },
           {
            "h": 20,
            "value": 0,
            "w": 14
           },
           {
            "h": 21,
            "value": 0,
            "w": 14
           },
           {
            "h": 22,
            "value": 0,
            "w": 14
           },
           {
            "h": 23,
            "value": 0,
            "w": 14
           },
           {
            "h": 24,
            "value": 0,
            "w": 14
           },
           {
            "h": 25,
            "value": 47,
            "w": 14
           },
           {
            "h": 26,
            "value": 116,
            "w": 14
           },
           {
            "h": 27,
            "value": 53,
            "w": 14
           },
           {
            "h": 0,
            "value": 165,
            "w": 15
           },
           {
            "h": 1,
            "value": 217,
            "w": 15
           },
           {
            "h": 2,
            "value": 203,
            "w": 15
           },
           {
            "h": 3,
            "value": 195,
            "w": 15
           },
           {
            "h": 4,
            "value": 212,
            "w": 15
           },
           {
            "h": 5,
            "value": 216,
            "w": 15
           },
           {
            "h": 6,
            "value": 231,
            "w": 15
           },
           {
            "h": 7,
            "value": 231,
            "w": 15
           },
           {
            "h": 8,
            "value": 207,
            "w": 15
           },
           {
            "h": 9,
            "value": 151,
            "w": 15
           },
           {
            "h": 10,
            "value": 53,
            "w": 15
           },
           {
            "h": 11,
            "value": 0,
            "w": 15
           },
           {
            "h": 12,
            "value": 0,
            "w": 15
           },
           {
            "h": 13,
            "value": 0,
            "w": 15
           },
           {
            "h": 14,
            "value": 0,
            "w": 15
           },
           {
            "h": 15,
            "value": 0,
            "w": 15
           },
           {
            "h": 16,
            "value": 0,
            "w": 15
           },
           {
            "h": 17,
            "value": 0,
            "w": 15
           },
           {
            "h": 18,
            "value": 0,
            "w": 15
           },
           {
            "h": 19,
            "value": 0,
            "w": 15
           },
           {
            "h": 20,
            "value": 0,
            "w": 15
           },
           {
            "h": 21,
            "value": 0,
            "w": 15
           },
           {
            "h": 22,
            "value": 0,
            "w": 15
           },
           {
            "h": 23,
            "value": 0,
            "w": 15
           },
           {
            "h": 24,
            "value": 0,
            "w": 15
           },
           {
            "h": 25,
            "value": 0,
            "w": 15
           },
           {
            "h": 26,
            "value": 0,
            "w": 15
           },
           {
            "h": 27,
            "value": 0,
            "w": 15
           },
           {
            "h": 0,
            "value": 188,
            "w": 16
           },
           {
            "h": 1,
            "value": 214,
            "w": 16
           },
           {
            "h": 2,
            "value": 217,
            "w": 16
           },
           {
            "h": 3,
            "value": 212,
            "w": 16
           },
           {
            "h": 4,
            "value": 209,
            "w": 16
           },
           {
            "h": 5,
            "value": 216,
            "w": 16
           },
           {
            "h": 6,
            "value": 219,
            "w": 16
           },
           {
            "h": 7,
            "value": 230,
            "w": 16
           },
           {
            "h": 8,
            "value": 245,
            "w": 16
           },
           {
            "h": 9,
            "value": 254,
            "w": 16
           },
           {
            "h": 10,
            "value": 255,
            "w": 16
           },
           {
            "h": 11,
            "value": 253,
            "w": 16
           },
           {
            "h": 12,
            "value": 234,
            "w": 16
           },
           {
            "h": 13,
            "value": 210,
            "w": 16
           },
           {
            "h": 14,
            "value": 177,
            "w": 16
           },
           {
            "h": 15,
            "value": 134,
            "w": 16
           },
           {
            "h": 16,
            "value": 59,
            "w": 16
           },
           {
            "h": 17,
            "value": 20,
            "w": 16
           },
           {
            "h": 18,
            "value": 0,
            "w": 16
           },
           {
            "h": 19,
            "value": 0,
            "w": 16
           },
           {
            "h": 20,
            "value": 0,
            "w": 16
           },
           {
            "h": 21,
            "value": 0,
            "w": 16
           },
           {
            "h": 22,
            "value": 0,
            "w": 16
           },
           {
            "h": 23,
            "value": 0,
            "w": 16
           },
           {
            "h": 24,
            "value": 0,
            "w": 16
           },
           {
            "h": 25,
            "value": 0,
            "w": 16
           },
           {
            "h": 26,
            "value": 0,
            "w": 16
           },
           {
            "h": 27,
            "value": 0,
            "w": 16
           },
           {
            "h": 0,
            "value": 176,
            "w": 17
           },
           {
            "h": 1,
            "value": 204,
            "w": 17
           },
           {
            "h": 2,
            "value": 203,
            "w": 17
           },
           {
            "h": 3,
            "value": 207,
            "w": 17
           },
           {
            "h": 4,
            "value": 199,
            "w": 17
           },
           {
            "h": 5,
            "value": 194,
            "w": 17
           },
           {
            "h": 6,
            "value": 199,
            "w": 17
           },
           {
            "h": 7,
            "value": 206,
            "w": 17
           },
           {
            "h": 8,
            "value": 200,
            "w": 17
           },
           {
            "h": 9,
            "value": 198,
            "w": 17
           },
           {
            "h": 10,
            "value": 201,
            "w": 17
           },
           {
            "h": 11,
            "value": 203,
            "w": 17
           },
           {
            "h": 12,
            "value": 204,
            "w": 17
           },
           {
            "h": 13,
            "value": 202,
            "w": 17
           },
           {
            "h": 14,
            "value": 204,
            "w": 17
           },
           {
            "h": 15,
            "value": 210,
            "w": 17
           },
           {
            "h": 16,
            "value": 244,
            "w": 17
           },
           {
            "h": 17,
            "value": 215,
            "w": 17
           },
           {
            "h": 18,
            "value": 238,
            "w": 17
           },
           {
            "h": 19,
            "value": 246,
            "w": 17
           },
           {
            "h": 20,
            "value": 215,
            "w": 17
           },
           {
            "h": 21,
            "value": 202,
            "w": 17
           },
           {
            "h": 22,
            "value": 196,
            "w": 17
           },
           {
            "h": 23,
            "value": 184,
            "w": 17
           },
           {
            "h": 24,
            "value": 169,
            "w": 17
           },
           {
            "h": 25,
            "value": 155,
            "w": 17
           },
           {
            "h": 26,
            "value": 168,
            "w": 17
           },
           {
            "h": 27,
            "value": 81,
            "w": 17
           },
           {
            "h": 0,
            "value": 179,
            "w": 18
           },
           {
            "h": 1,
            "value": 211,
            "w": 18
           },
           {
            "h": 2,
            "value": 179,
            "w": 18
           },
           {
            "h": 3,
            "value": 194,
            "w": 18
           },
           {
            "h": 4,
            "value": 190,
            "w": 18
           },
           {
            "h": 5,
            "value": 175,
            "w": 18
           },
           {
            "h": 6,
            "value": 179,
            "w": 18
           },
           {
            "h": 7,
            "value": 181,
            "w": 18
           },
           {
            "h": 8,
            "value": 176,
            "w": 18
           },
           {
            "h": 9,
            "value": 183,
            "w": 18
           },
           {
            "h": 10,
            "value": 183,
            "w": 18
           },
           {
            "h": 11,
            "value": 180,
            "w": 18
           },
           {
            "h": 12,
            "value": 162,
            "w": 18
           },
           {
            "h": 13,
            "value": 141,
            "w": 18
           },
           {
            "h": 14,
            "value": 121,
            "w": 18
           },
           {
            "h": 15,
            "value": 107,
            "w": 18
           },
           {
            "h": 16,
            "value": 118,
            "w": 18
           },
           {
            "h": 17,
            "value": 116,
            "w": 18
           },
           {
            "h": 18,
            "value": 147,
            "w": 18
           },
           {
            "h": 19,
            "value": 197,
            "w": 18
           },
           {
            "h": 20,
            "value": 215,
            "w": 18
           },
           {
            "h": 21,
            "value": 215,
            "w": 18
           },
           {
            "h": 22,
            "value": 219,
            "w": 18
           },
           {
            "h": 23,
            "value": 221,
            "w": 18
           },
           {
            "h": 24,
            "value": 228,
            "w": 18
           },
           {
            "h": 25,
            "value": 237,
            "w": 18
           },
           {
            "h": 26,
            "value": 246,
            "w": 18
           },
           {
            "h": 27,
            "value": 145,
            "w": 18
           },
           {
            "h": 0,
            "value": 181,
            "w": 19
           },
           {
            "h": 1,
            "value": 189,
            "w": 19
           },
           {
            "h": 2,
            "value": 170,
            "w": 19
           },
           {
            "h": 3,
            "value": 204,
            "w": 19
           },
           {
            "h": 4,
            "value": 227,
            "w": 19
           },
           {
            "h": 5,
            "value": 225,
            "w": 19
           },
           {
            "h": 6,
            "value": 217,
            "w": 19
           },
           {
            "h": 7,
            "value": 213,
            "w": 19
           },
           {
            "h": 8,
            "value": 210,
            "w": 19
           },
           {
            "h": 9,
            "value": 209,
            "w": 19
           },
           {
            "h": 10,
            "value": 205,
            "w": 19
           },
           {
            "h": 11,
            "value": 199,
            "w": 19
           },
           {
            "h": 12,
            "value": 199,
            "w": 19
           },
           {
            "h": 13,
            "value": 180,
            "w": 19
           },
           {
            "h": 14,
            "value": 145,
            "w": 19
           },
           {
            "h": 15,
            "value": 142,
            "w": 19
           },
           {
            "h": 16,
            "value": 165,
            "w": 19
           },
           {
            "h": 17,
            "value": 167,
            "w": 19
           },
           {
            "h": 18,
            "value": 179,
            "w": 19
           },
           {
            "h": 19,
            "value": 203,
            "w": 19
           },
           {
            "h": 20,
            "value": 221,
            "w": 19
           },
           {
            "h": 21,
            "value": 224,
            "w": 19
           },
           {
            "h": 22,
            "value": 230,
            "w": 19
           },
           {
            "h": 23,
            "value": 232,
            "w": 19
           },
           {
            "h": 24,
            "value": 214,
            "w": 19
           },
           {
            "h": 25,
            "value": 223,
            "w": 19
           },
           {
            "h": 26,
            "value": 237,
            "w": 19
           },
           {
            "h": 27,
            "value": 129,
            "w": 19
           },
           {
            "h": 0,
            "value": 0,
            "w": 20
           },
           {
            "h": 1,
            "value": 0,
            "w": 20
           },
           {
            "h": 2,
            "value": 0,
            "w": 20
           },
           {
            "h": 3,
            "value": 51,
            "w": 20
           },
           {
            "h": 4,
            "value": 105,
            "w": 20
           },
           {
            "h": 5,
            "value": 131,
            "w": 20
           },
           {
            "h": 6,
            "value": 124,
            "w": 20
           },
           {
            "h": 7,
            "value": 116,
            "w": 20
           },
           {
            "h": 8,
            "value": 109,
            "w": 20
           },
           {
            "h": 9,
            "value": 103,
            "w": 20
           },
           {
            "h": 10,
            "value": 100,
            "w": 20
           },
           {
            "h": 11,
            "value": 97,
            "w": 20
           },
           {
            "h": 12,
            "value": 106,
            "w": 20
           },
           {
            "h": 13,
            "value": 108,
            "w": 20
           },
           {
            "h": 14,
            "value": 136,
            "w": 20
           },
           {
            "h": 15,
            "value": 119,
            "w": 20
           },
           {
            "h": 16,
            "value": 123,
            "w": 20
           },
           {
            "h": 17,
            "value": 137,
            "w": 20
           },
           {
            "h": 18,
            "value": 129,
            "w": 20
           },
           {
            "h": 19,
            "value": 138,
            "w": 20
           },
           {
            "h": 20,
            "value": 140,
            "w": 20
           },
           {
            "h": 21,
            "value": 123,
            "w": 20
           },
           {
            "h": 22,
            "value": 130,
            "w": 20
           },
           {
            "h": 23,
            "value": 132,
            "w": 20
           },
           {
            "h": 24,
            "value": 150,
            "w": 20
           },
           {
            "h": 25,
            "value": 133,
            "w": 20
           },
           {
            "h": 26,
            "value": 156,
            "w": 20
           },
           {
            "h": 27,
            "value": 62,
            "w": 20
           },
           {
            "h": 0,
            "value": 0,
            "w": 21
           },
           {
            "h": 1,
            "value": 0,
            "w": 21
           },
           {
            "h": 2,
            "value": 0,
            "w": 21
           },
           {
            "h": 3,
            "value": 0,
            "w": 21
           },
           {
            "h": 4,
            "value": 0,
            "w": 21
           },
           {
            "h": 5,
            "value": 0,
            "w": 21
           },
           {
            "h": 6,
            "value": 0,
            "w": 21
           },
           {
            "h": 7,
            "value": 0,
            "w": 21
           },
           {
            "h": 8,
            "value": 0,
            "w": 21
           },
           {
            "h": 9,
            "value": 0,
            "w": 21
           },
           {
            "h": 10,
            "value": 0,
            "w": 21
           },
           {
            "h": 11,
            "value": 0,
            "w": 21
           },
           {
            "h": 12,
            "value": 0,
            "w": 21
           },
           {
            "h": 13,
            "value": 0,
            "w": 21
           },
           {
            "h": 14,
            "value": 0,
            "w": 21
           },
           {
            "h": 15,
            "value": 0,
            "w": 21
           },
           {
            "h": 16,
            "value": 0,
            "w": 21
           },
           {
            "h": 17,
            "value": 0,
            "w": 21
           },
           {
            "h": 18,
            "value": 0,
            "w": 21
           },
           {
            "h": 19,
            "value": 0,
            "w": 21
           },
           {
            "h": 20,
            "value": 0,
            "w": 21
           },
           {
            "h": 21,
            "value": 0,
            "w": 21
           },
           {
            "h": 22,
            "value": 0,
            "w": 21
           },
           {
            "h": 23,
            "value": 0,
            "w": 21
           },
           {
            "h": 24,
            "value": 0,
            "w": 21
           },
           {
            "h": 25,
            "value": 0,
            "w": 21
           },
           {
            "h": 26,
            "value": 0,
            "w": 21
           },
           {
            "h": 27,
            "value": 0,
            "w": 21
           },
           {
            "h": 0,
            "value": 0,
            "w": 22
           },
           {
            "h": 1,
            "value": 0,
            "w": 22
           },
           {
            "h": 2,
            "value": 0,
            "w": 22
           },
           {
            "h": 3,
            "value": 0,
            "w": 22
           },
           {
            "h": 4,
            "value": 0,
            "w": 22
           },
           {
            "h": 5,
            "value": 0,
            "w": 22
           },
           {
            "h": 6,
            "value": 0,
            "w": 22
           },
           {
            "h": 7,
            "value": 0,
            "w": 22
           },
           {
            "h": 8,
            "value": 0,
            "w": 22
           },
           {
            "h": 9,
            "value": 0,
            "w": 22
           },
           {
            "h": 10,
            "value": 0,
            "w": 22
           },
           {
            "h": 11,
            "value": 0,
            "w": 22
           },
           {
            "h": 12,
            "value": 0,
            "w": 22
           },
           {
            "h": 13,
            "value": 0,
            "w": 22
           },
           {
            "h": 14,
            "value": 0,
            "w": 22
           },
           {
            "h": 15,
            "value": 0,
            "w": 22
           },
           {
            "h": 16,
            "value": 0,
            "w": 22
           },
           {
            "h": 17,
            "value": 0,
            "w": 22
           },
           {
            "h": 18,
            "value": 0,
            "w": 22
           },
           {
            "h": 19,
            "value": 0,
            "w": 22
           },
           {
            "h": 20,
            "value": 0,
            "w": 22
           },
           {
            "h": 21,
            "value": 0,
            "w": 22
           },
           {
            "h": 22,
            "value": 0,
            "w": 22
           },
           {
            "h": 23,
            "value": 0,
            "w": 22
           },
           {
            "h": 24,
            "value": 0,
            "w": 22
           },
           {
            "h": 25,
            "value": 0,
            "w": 22
           },
           {
            "h": 26,
            "value": 0,
            "w": 22
           },
           {
            "h": 27,
            "value": 0,
            "w": 22
           },
           {
            "h": 0,
            "value": 0,
            "w": 23
           },
           {
            "h": 1,
            "value": 0,
            "w": 23
           },
           {
            "h": 2,
            "value": 0,
            "w": 23
           },
           {
            "h": 3,
            "value": 0,
            "w": 23
           },
           {
            "h": 4,
            "value": 0,
            "w": 23
           },
           {
            "h": 5,
            "value": 0,
            "w": 23
           },
           {
            "h": 6,
            "value": 0,
            "w": 23
           },
           {
            "h": 7,
            "value": 0,
            "w": 23
           },
           {
            "h": 8,
            "value": 0,
            "w": 23
           },
           {
            "h": 9,
            "value": 0,
            "w": 23
           },
           {
            "h": 10,
            "value": 0,
            "w": 23
           },
           {
            "h": 11,
            "value": 0,
            "w": 23
           },
           {
            "h": 12,
            "value": 0,
            "w": 23
           },
           {
            "h": 13,
            "value": 0,
            "w": 23
           },
           {
            "h": 14,
            "value": 0,
            "w": 23
           },
           {
            "h": 15,
            "value": 0,
            "w": 23
           },
           {
            "h": 16,
            "value": 0,
            "w": 23
           },
           {
            "h": 17,
            "value": 0,
            "w": 23
           },
           {
            "h": 18,
            "value": 0,
            "w": 23
           },
           {
            "h": 19,
            "value": 0,
            "w": 23
           },
           {
            "h": 20,
            "value": 0,
            "w": 23
           },
           {
            "h": 21,
            "value": 0,
            "w": 23
           },
           {
            "h": 22,
            "value": 0,
            "w": 23
           },
           {
            "h": 23,
            "value": 0,
            "w": 23
           },
           {
            "h": 24,
            "value": 0,
            "w": 23
           },
           {
            "h": 25,
            "value": 0,
            "w": 23
           },
           {
            "h": 26,
            "value": 0,
            "w": 23
           },
           {
            "h": 27,
            "value": 0,
            "w": 23
           },
           {
            "h": 0,
            "value": 0,
            "w": 24
           },
           {
            "h": 1,
            "value": 0,
            "w": 24
           },
           {
            "h": 2,
            "value": 0,
            "w": 24
           },
           {
            "h": 3,
            "value": 0,
            "w": 24
           },
           {
            "h": 4,
            "value": 0,
            "w": 24
           },
           {
            "h": 5,
            "value": 0,
            "w": 24
           },
           {
            "h": 6,
            "value": 0,
            "w": 24
           },
           {
            "h": 7,
            "value": 0,
            "w": 24
           },
           {
            "h": 8,
            "value": 0,
            "w": 24
           },
           {
            "h": 9,
            "value": 0,
            "w": 24
           },
           {
            "h": 10,
            "value": 0,
            "w": 24
           },
           {
            "h": 11,
            "value": 0,
            "w": 24
           },
           {
            "h": 12,
            "value": 0,
            "w": 24
           },
           {
            "h": 13,
            "value": 0,
            "w": 24
           },
           {
            "h": 14,
            "value": 0,
            "w": 24
           },
           {
            "h": 15,
            "value": 0,
            "w": 24
           },
           {
            "h": 16,
            "value": 0,
            "w": 24
           },
           {
            "h": 17,
            "value": 0,
            "w": 24
           },
           {
            "h": 18,
            "value": 0,
            "w": 24
           },
           {
            "h": 19,
            "value": 0,
            "w": 24
           },
           {
            "h": 20,
            "value": 0,
            "w": 24
           },
           {
            "h": 21,
            "value": 0,
            "w": 24
           },
           {
            "h": 22,
            "value": 0,
            "w": 24
           },
           {
            "h": 23,
            "value": 0,
            "w": 24
           },
           {
            "h": 24,
            "value": 0,
            "w": 24
           },
           {
            "h": 25,
            "value": 0,
            "w": 24
           },
           {
            "h": 26,
            "value": 0,
            "w": 24
           },
           {
            "h": 27,
            "value": 0,
            "w": 24
           },
           {
            "h": 0,
            "value": 0,
            "w": 25
           },
           {
            "h": 1,
            "value": 0,
            "w": 25
           },
           {
            "h": 2,
            "value": 0,
            "w": 25
           },
           {
            "h": 3,
            "value": 0,
            "w": 25
           },
           {
            "h": 4,
            "value": 0,
            "w": 25
           },
           {
            "h": 5,
            "value": 0,
            "w": 25
           },
           {
            "h": 6,
            "value": 0,
            "w": 25
           },
           {
            "h": 7,
            "value": 0,
            "w": 25
           },
           {
            "h": 8,
            "value": 0,
            "w": 25
           },
           {
            "h": 9,
            "value": 0,
            "w": 25
           },
           {
            "h": 10,
            "value": 0,
            "w": 25
           },
           {
            "h": 11,
            "value": 0,
            "w": 25
           },
           {
            "h": 12,
            "value": 0,
            "w": 25
           },
           {
            "h": 13,
            "value": 0,
            "w": 25
           },
           {
            "h": 14,
            "value": 0,
            "w": 25
           },
           {
            "h": 15,
            "value": 0,
            "w": 25
           },
           {
            "h": 16,
            "value": 0,
            "w": 25
           },
           {
            "h": 17,
            "value": 0,
            "w": 25
           },
           {
            "h": 18,
            "value": 0,
            "w": 25
           },
           {
            "h": 19,
            "value": 0,
            "w": 25
           },
           {
            "h": 20,
            "value": 0,
            "w": 25
           },
           {
            "h": 21,
            "value": 0,
            "w": 25
           },
           {
            "h": 22,
            "value": 0,
            "w": 25
           },
           {
            "h": 23,
            "value": 0,
            "w": 25
           },
           {
            "h": 24,
            "value": 0,
            "w": 25
           },
           {
            "h": 25,
            "value": 0,
            "w": 25
           },
           {
            "h": 26,
            "value": 0,
            "w": 25
           },
           {
            "h": 27,
            "value": 0,
            "w": 25
           },
           {
            "h": 0,
            "value": 0,
            "w": 26
           },
           {
            "h": 1,
            "value": 0,
            "w": 26
           },
           {
            "h": 2,
            "value": 0,
            "w": 26
           },
           {
            "h": 3,
            "value": 0,
            "w": 26
           },
           {
            "h": 4,
            "value": 0,
            "w": 26
           },
           {
            "h": 5,
            "value": 0,
            "w": 26
           },
           {
            "h": 6,
            "value": 0,
            "w": 26
           },
           {
            "h": 7,
            "value": 0,
            "w": 26
           },
           {
            "h": 8,
            "value": 0,
            "w": 26
           },
           {
            "h": 9,
            "value": 0,
            "w": 26
           },
           {
            "h": 10,
            "value": 0,
            "w": 26
           },
           {
            "h": 11,
            "value": 0,
            "w": 26
           },
           {
            "h": 12,
            "value": 0,
            "w": 26
           },
           {
            "h": 13,
            "value": 0,
            "w": 26
           },
           {
            "h": 14,
            "value": 0,
            "w": 26
           },
           {
            "h": 15,
            "value": 0,
            "w": 26
           },
           {
            "h": 16,
            "value": 0,
            "w": 26
           },
           {
            "h": 17,
            "value": 0,
            "w": 26
           },
           {
            "h": 18,
            "value": 0,
            "w": 26
           },
           {
            "h": 19,
            "value": 0,
            "w": 26
           },
           {
            "h": 20,
            "value": 0,
            "w": 26
           },
           {
            "h": 21,
            "value": 0,
            "w": 26
           },
           {
            "h": 22,
            "value": 0,
            "w": 26
           },
           {
            "h": 23,
            "value": 0,
            "w": 26
           },
           {
            "h": 24,
            "value": 0,
            "w": 26
           },
           {
            "h": 25,
            "value": 0,
            "w": 26
           },
           {
            "h": 26,
            "value": 0,
            "w": 26
           },
           {
            "h": 27,
            "value": 0,
            "w": 26
           },
           {
            "h": 0,
            "value": 0,
            "w": 27
           },
           {
            "h": 1,
            "value": 0,
            "w": 27
           },
           {
            "h": 2,
            "value": 0,
            "w": 27
           },
           {
            "h": 3,
            "value": 0,
            "w": 27
           },
           {
            "h": 4,
            "value": 0,
            "w": 27
           },
           {
            "h": 5,
            "value": 0,
            "w": 27
           },
           {
            "h": 6,
            "value": 0,
            "w": 27
           },
           {
            "h": 7,
            "value": 0,
            "w": 27
           },
           {
            "h": 8,
            "value": 0,
            "w": 27
           },
           {
            "h": 9,
            "value": 0,
            "w": 27
           },
           {
            "h": 10,
            "value": 0,
            "w": 27
           },
           {
            "h": 11,
            "value": 0,
            "w": 27
           },
           {
            "h": 12,
            "value": 0,
            "w": 27
           },
           {
            "h": 13,
            "value": 0,
            "w": 27
           },
           {
            "h": 14,
            "value": 0,
            "w": 27
           },
           {
            "h": 15,
            "value": 0,
            "w": 27
           },
           {
            "h": 16,
            "value": 0,
            "w": 27
           },
           {
            "h": 17,
            "value": 0,
            "w": 27
           },
           {
            "h": 18,
            "value": 0,
            "w": 27
           },
           {
            "h": 19,
            "value": 0,
            "w": 27
           },
           {
            "h": 20,
            "value": 0,
            "w": 27
           },
           {
            "h": 21,
            "value": 0,
            "w": 27
           },
           {
            "h": 22,
            "value": 0,
            "w": 27
           },
           {
            "h": 23,
            "value": 0,
            "w": 27
           },
           {
            "h": 24,
            "value": 0,
            "w": 27
           },
           {
            "h": 25,
            "value": 0,
            "w": 27
           },
           {
            "h": 26,
            "value": 0,
            "w": 27
           },
           {
            "h": 27,
            "value": 0,
            "w": 27
           }
          ]
         },
         "encoding": {
          "color": {
           "field": "value",
           "legend": null,
           "scale": {
            "scheme": "greys"
           },
           "sort": "descending",
           "type": "quantitative"
          },
          "tooltip": [
           {
            "field": "value",
            "type": "quantitative"
           }
          ],
          "x": {
           "axis": null,
           "field": "w",
           "type": "nominal"
          },
          "y": {
           "axis": null,
           "field": "h",
           "type": "nominal"
          }
         },
         "height": 350,
         "mark": "rect",
         "title": "Trouser",
         "width": 350
        },
        {
         "data": {
          "values": [
           {
            "actual": false,
            "labels": "T-shirt/top",
            "proba": 2.1114050468895584e-05
           },
           {
            "actual": true,
            "labels": "Trouser",
            "proba": 0.9999301433563232
           },
           {
            "actual": false,
            "labels": "Pullover",
            "proba": 4.0035493498180585e-07
           },
           {
            "actual": false,
            "labels": "Dress",
            "proba": 2.401764504611492e-05
           },
           {
            "actual": false,
            "labels": "Coat",
            "proba": 1.9096962205367163e-05
           },
           {
            "actual": false,
            "labels": "Sandal",
            "proba": 2.1131614857949899e-07
           },
           {
            "actual": false,
            "labels": "Shirt",
            "proba": 4.886633178102784e-06
           },
           {
            "actual": false,
            "labels": "Sneaker",
            "proba": 4.6405123299564366e-08
           },
           {
            "actual": false,
            "labels": "Bag",
            "proba": 6.938396968081406e-09
           },
           {
            "actual": false,
            "labels": "Ankle boot",
            "proba": 2.398967957617515e-08
           }
          ]
         },
         "encoding": {
          "color": {
           "field": "actual",
           "type": "nominal"
          },
          "tooltip": [
           {
            "field": "proba",
            "type": "quantitative"
           }
          ],
          "x": {
           "field": "proba",
           "scale": {
            "domain": [
             0,
             1
            ]
           },
           "type": "quantitative"
          },
          "y": {
           "field": "labels",
           "type": "nominal"
          }
         },
         "height": 350,
         "mark": "bar",
         "title": "Prediction: Trouser",
         "width": 350
        }
       ]
      },
      "image/png": "[encoded data removed]",
      "text/plain": [
       "<VegaLite 2 object>\n",
       "\n",
       "If you see this message, it means the renderer has not been properly enabled\n",
       "for the frontend that you are using. For more information, see\n",
       "https://altair-viz.github.io/user_guide/troubleshooting.html\n"
      ]
     },
     "execution_count": 92,
     "metadata": {},
     "output_type": "execute_result"
    }
   ],
   "source": [
    "vis.imshow(x_test[i], labels[y_test[i]]) | vis.predict(proba_dropout[i], y_test[i], labels)"
   ]
  },
  {
   "cell_type": "code",
   "execution_count": null,
   "metadata": {},
   "outputs": [],
   "source": []
  }
 ],
 "metadata": {
  "kernelspec": {
   "display_name": "Python 3",
   "language": "python",
   "name": "python3"
  },
  "language_info": {
   "codemirror_mode": {
    "name": "ipython",
    "version": 3
   },
   "file_extension": ".py",
   "mimetype": "text/x-python",
   "name": "python",
   "nbconvert_exporter": "python",
   "pygments_lexer": "ipython3",
   "version": "3.6.6"
  }
 },
 "nbformat": 4,
 "nbformat_minor": 2
}
