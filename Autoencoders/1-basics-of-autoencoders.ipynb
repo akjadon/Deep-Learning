{
 "cells": [
  {
   "cell_type": "markdown",
   "metadata": {},
   "source": [
    "# Basic Autoencoders\n",
    "- Objective: understand basics of autoencoders\n",
    "- References\n",
    "    - https://blog.keras.io/building-autoencoders-in-keras.html\n",
    "    - https://medium.com/@curiousily/credit-card-fraud-detection-using-autoencoders-in-keras-tensorflow-for-hackers-part-vii-20e0c85301bd"
   ]
  },
  {
   "cell_type": "markdown",
   "metadata": {},
   "source": [
    "## Autoencoders\n",
    "- One of the unsupervised neural network structures to obtain **compressed encodings**\n",
    "- Mainly used for dimensionality reduction, generative models, denoising etc.\n",
    "\n",
    "<br>\n",
    "<img src=\"https://upload.wikimedia.org/wikipedia/commons/2/28/Autoencoder_structure.png\" style=\"width: 600px\"/>\n",
    "</br>\n",
    "\n",
    "- Two main components of autoencoder; encoder and decoder\n",
    "    - Encoder compresses input into small set of \"codes\" (generally, dimensionality of encoder output is much smaller than encoder input)\n",
    "    - Decoder then expands the encoder output into output that has same dimensionality as encoder input\n",
    "    - In other words, autoencoder aims to \"reconstruct\" the input while learning finite representation of the data (i.e., \"codes\")"
   ]
  },
  {
   "cell_type": "markdown",
   "metadata": {},
   "source": [
    "### Load dataset\n",
    "- Digits dataset in sklearn"
   ]
  },
  {
   "cell_type": "code",
   "execution_count": 1,
   "metadata": {},
   "outputs": [
    {
     "name": "stderr",
     "output_type": "stream",
     "text": [
      "Using TensorFlow backend.\n"
     ]
    }
   ],
   "source": [
    "import numpy as np\n",
    "import matplotlib.pyplot as plt\n",
    "\n",
    "from sklearn.model_selection import train_test_split\n",
    "from sklearn.preprocessing import normalize\n",
    "from sklearn import datasets\n",
    "from IPython.display import SVG\n",
    "from keras.utils.vis_utils import model_to_dot\n",
    "from keras.layers import Input, Dense\n",
    "from keras.models import Model"
   ]
  },
  {
   "cell_type": "code",
   "execution_count": 32,
   "metadata": {
    "collapsed": true
   },
   "outputs": [],
   "source": [
    "data = datasets.load_digits()"
   ]
  },
  {
   "cell_type": "code",
   "execution_count": 33,
   "metadata": {
    "collapsed": true
   },
   "outputs": [],
   "source": [
    "X_data = data.images\n",
    "y_data = data.target"
   ]
  },
  {
   "cell_type": "code",
   "execution_count": 34,
   "metadata": {
    "collapsed": true
   },
   "outputs": [],
   "source": [
    "X_data = X_data.reshape(X_data.shape[0], 64)"
   ]
  },
  {
   "cell_type": "code",
   "execution_count": 36,
   "metadata": {
    "collapsed": true
   },
   "outputs": [],
   "source": [
    "# fit in data instances into interval [0,1]\n",
    "X_data = X_data / 16."
   ]
  },
  {
   "cell_type": "code",
   "execution_count": 37,
   "metadata": {
    "scrolled": false
   },
   "outputs": [
    {
     "data": {
      "text/plain": [
       "array([ 0.    ,  0.    ,  0.3125,  0.8125,  0.5625,  0.0625,  0.    ,\n",
       "        0.    ,  0.    ,  0.    ,  0.8125,  0.9375,  0.625 ,  0.9375,\n",
       "        0.3125,  0.    ,  0.    ,  0.1875,  0.9375,  0.125 ,  0.    ,\n",
       "        0.6875,  0.5   ,  0.    ,  0.    ,  0.25  ,  0.75  ,  0.    ,\n",
       "        0.    ,  0.5   ,  0.5   ,  0.    ,  0.    ,  0.3125,  0.5   ,\n",
       "        0.    ,  0.    ,  0.5625,  0.5   ,  0.    ,  0.    ,  0.25  ,\n",
       "        0.6875,  0.    ,  0.0625,  0.75  ,  0.4375,  0.    ,  0.    ,\n",
       "        0.125 ,  0.875 ,  0.3125,  0.625 ,  0.75  ,  0.    ,  0.    ,\n",
       "        0.    ,  0.    ,  0.375 ,  0.8125,  0.625 ,  0.    ,  0.    ,  0.    ])"
      ]
     },
     "execution_count": 37,
     "metadata": {},
     "output_type": "execute_result"
    }
   ],
   "source": [
    "X_data[0]"
   ]
  },
  {
   "cell_type": "code",
   "execution_count": 38,
   "metadata": {
    "collapsed": true
   },
   "outputs": [],
   "source": [
    "X_train, X_test, y_train, y_test = train_test_split(X_data, y_data, test_size = 0.3, random_state = 777)"
   ]
  },
  {
   "cell_type": "code",
   "execution_count": 39,
   "metadata": {},
   "outputs": [
    {
     "name": "stdout",
     "output_type": "stream",
     "text": [
      "(1257, 64)\n",
      "(540, 64)\n",
      "(1257,)\n",
      "(540,)\n"
     ]
    }
   ],
   "source": [
    "print(X_train.shape)\n",
    "print(X_test.shape)\n",
    "print(y_train.shape)\n",
    "print(y_test.shape)"
   ]
  },
  {
   "cell_type": "markdown",
   "metadata": {},
   "source": [
    "## Simple autoencoder\n",
    "- Simple autoencoder with only one hidden layer\n",
    "- Hence, both encoder and decoder are composed of two layers"
   ]
  },
  {
   "cell_type": "code",
   "execution_count": 40,
   "metadata": {
    "collapsed": true
   },
   "outputs": [],
   "source": [
    "# define coding dimension\n",
    "code_dim = 6"
   ]
  },
  {
   "cell_type": "code",
   "execution_count": 54,
   "metadata": {
    "collapsed": true
   },
   "outputs": [],
   "source": [
    "inputs = Input(shape = (X_train.shape[1],), name = 'input')                         # input layer\n",
    "code = Dense(code_dim, activation = 'relu', name = 'code')(inputs)                  # hidden layer => represents \"codes\"\n",
    "outputs = Dense(X_train.shape[1], activation = 'softmax', name = 'output')(code)    # output layer"
   ]
  },
  {
   "cell_type": "code",
   "execution_count": 55,
   "metadata": {},
   "outputs": [
    {
     "name": "stdout",
     "output_type": "stream",
     "text": [
      "_________________________________________________________________\n",
      "Layer (type)                 Output Shape              Param #   \n",
      "=================================================================\n",
      "input (InputLayer)           (None, 64)                0         \n",
      "_________________________________________________________________\n",
      "code (Dense)                 (None, 6)                 390       \n",
      "_________________________________________________________________\n",
      "output (Dense)               (None, 64)                448       \n",
      "=================================================================\n",
      "Total params: 838\n",
      "Trainable params: 838\n",
      "Non-trainable params: 0\n",
      "_________________________________________________________________\n"
     ]
    }
   ],
   "source": [
    "auto_encoder = Model(inputs = inputs, outputs = outputs)\n",
    "auto_encoder.summary()"
   ]
  },
  {
   "cell_type": "code",
   "execution_count": 56,
   "metadata": {},
   "outputs": [
    {
     "data": {
      "image/svg+xml": [
       "<svg height=\"191pt\" viewBox=\"0.00 0.00 120.00 191.00\" width=\"120pt\" xmlns=\"http://www.w3.org/2000/svg\" xmlns:xlink=\"http://www.w3.org/1999/xlink\">\n",
       "<g class=\"graph\" id=\"graph0\" transform=\"scale(1 1) rotate(0) translate(4 187)\">\n",
       "<title>G</title>\n",
       "<polygon fill=\"white\" points=\"-4,4 -4,-187 116,-187 116,4 -4,4\" stroke=\"none\"/>\n",
       "<!-- 2108469287232 -->\n",
       "<g class=\"node\" id=\"node1\"><title>2108469287232</title>\n",
       "<polygon fill=\"none\" points=\"0,-146.5 0,-182.5 112,-182.5 112,-146.5 0,-146.5\" stroke=\"black\"/>\n",
       "<text font-family=\"Times New Roman,serif\" font-size=\"14.00\" text-anchor=\"middle\" x=\"56\" y=\"-160.8\">input: InputLayer</text>\n",
       "</g>\n",
       "<!-- 2108469288800 -->\n",
       "<g class=\"node\" id=\"node2\"><title>2108469288800</title>\n",
       "<polygon fill=\"none\" points=\"13,-73.5 13,-109.5 99,-109.5 99,-73.5 13,-73.5\" stroke=\"black\"/>\n",
       "<text font-family=\"Times New Roman,serif\" font-size=\"14.00\" text-anchor=\"middle\" x=\"56\" y=\"-87.8\">code: Dense</text>\n",
       "</g>\n",
       "<!-- 2108469287232&#45;&gt;2108469288800 -->\n",
       "<g class=\"edge\" id=\"edge1\"><title>2108469287232-&gt;2108469288800</title>\n",
       "<path d=\"M56,-146.313C56,-138.289 56,-128.547 56,-119.569\" fill=\"none\" stroke=\"black\"/>\n",
       "<polygon fill=\"black\" points=\"59.5001,-119.529 56,-109.529 52.5001,-119.529 59.5001,-119.529\" stroke=\"black\"/>\n",
       "</g>\n",
       "<!-- 2108469286728 -->\n",
       "<g class=\"node\" id=\"node3\"><title>2108469286728</title>\n",
       "<polygon fill=\"none\" points=\"9,-0.5 9,-36.5 103,-36.5 103,-0.5 9,-0.5\" stroke=\"black\"/>\n",
       "<text font-family=\"Times New Roman,serif\" font-size=\"14.00\" text-anchor=\"middle\" x=\"56\" y=\"-14.8\">output: Dense</text>\n",
       "</g>\n",
       "<!-- 2108469288800&#45;&gt;2108469286728 -->\n",
       "<g class=\"edge\" id=\"edge2\"><title>2108469288800-&gt;2108469286728</title>\n",
       "<path d=\"M56,-73.3129C56,-65.2895 56,-55.5475 56,-46.5691\" fill=\"none\" stroke=\"black\"/>\n",
       "<polygon fill=\"black\" points=\"59.5001,-46.5288 56,-36.5288 52.5001,-46.5289 59.5001,-46.5288\" stroke=\"black\"/>\n",
       "</g>\n",
       "</g>\n",
       "</svg>"
      ],
      "text/plain": [
       "<IPython.core.display.SVG object>"
      ]
     },
     "execution_count": 56,
     "metadata": {},
     "output_type": "execute_result"
    }
   ],
   "source": [
    "SVG(model_to_dot(auto_encoder).create(prog='dot', format='svg'))"
   ]
  },
  {
   "cell_type": "code",
   "execution_count": 57,
   "metadata": {
    "collapsed": true
   },
   "outputs": [],
   "source": [
    "encoder = Model(inputs = inputs, outputs = code)"
   ]
  },
  {
   "cell_type": "code",
   "execution_count": 58,
   "metadata": {
    "collapsed": true
   },
   "outputs": [],
   "source": [
    "decoder_input = Input(shape = (code_dim,))\n",
    "decoder_output = auto_encoder.layers[-1]\n",
    "decoder = Model(inputs = decoder_input, outputs = decoder_output(decoder_input))"
   ]
  },
  {
   "cell_type": "code",
   "execution_count": 59,
   "metadata": {
    "collapsed": true
   },
   "outputs": [],
   "source": [
    "auto_encoder.compile(optimizer='adam', loss='binary_crossentropy')"
   ]
  },
  {
   "cell_type": "markdown",
   "metadata": {},
   "source": [
    "#### Training the model\n",
    "- Note that the features and targets are identical (i.e., **X_train**)"
   ]
  },
  {
   "cell_type": "code",
   "execution_count": 60,
   "metadata": {
    "scrolled": true
   },
   "outputs": [
    {
     "name": "stdout",
     "output_type": "stream",
     "text": [
      "Wall time: 1min 28s\n"
     ]
    },
    {
     "data": {
      "text/plain": [
       "<keras.callbacks.History at 0x1eaead4dd68>"
      ]
     },
     "execution_count": 60,
     "metadata": {},
     "output_type": "execute_result"
    }
   ],
   "source": [
    "%%time\n",
    "auto_encoder.fit(X_train, X_train, epochs = 1000, batch_size = 50, validation_data = (X_test, X_test), verbose = 0)"
   ]
  },
  {
   "cell_type": "code",
   "execution_count": 61,
   "metadata": {
    "collapsed": true
   },
   "outputs": [],
   "source": [
    "encoded = encoder.predict(X_test)\n",
    "decoded = decoder.predict(encoded)"
   ]
  },
  {
   "cell_type": "code",
   "execution_count": 62,
   "metadata": {},
   "outputs": [
    {
     "data": {
      "text/plain": [
       "<matplotlib.figure.Figure at 0x1eaeaa1d780>"
      ]
     },
     "execution_count": 62,
     "metadata": {},
     "output_type": "execute_result"
    }
   ],
   "source": [
    "plt.figure(figsize = (10,4))"
   ]
  },
  {
   "cell_type": "code",
   "execution_count": 63,
   "metadata": {},
   "outputs": [
    {
     "data": {
      "image/png": "[encoded data removed]",
      "text/plain": [
       "<matplotlib.figure.Figure at 0x1eaeaa1d780>"
      ]
     },
     "metadata": {},
     "output_type": "display_data"
    }
   ],
   "source": [
    "n = 5\n",
    "for i in range(n):\n",
    "    # visualizing test data instances\n",
    "    ax = plt.subplot(2, n, i+1)\n",
    "    plt.imshow(X_test[i].reshape(8,8))\n",
    "    plt.gray()\n",
    "    \n",
    "    ax.get_xaxis().set_visible(False)\n",
    "    ax.get_yaxis().set_visible(False)\n",
    "    \n",
    "    # visualizing encode-decoded test data instances\n",
    "    ax = plt.subplot(2, n, i+n+1)\n",
    "    plt.imshow(decoded[i].reshape(8,8))\n",
    "    plt.gray()\n",
    "    \n",
    "    ax.get_xaxis().set_visible(False)\n",
    "    ax.get_yaxis().set_visible(False)\n",
    "plt.show()"
   ]
  },
  {
   "cell_type": "markdown",
   "metadata": {},
   "source": [
    "## Deep Autoencoder\n",
    "- Autoencoders can be composed of several layers, i.e., deep autoencoder\n",
    "\n",
    "<br>\n",
    "\n",
    "<img src=\"https://deeplearning4j.org/img/deep_autoencoder.png\" style=\"width: 800px\"/>"
   ]
  },
  {
   "cell_type": "code",
   "execution_count": 78,
   "metadata": {
    "collapsed": true
   },
   "outputs": [],
   "source": [
    "def encoder_decoder(code_dim = 10):\n",
    "    inputs = Input(shape = (X_train.shape[1],))\n",
    "    code = Dense(50, activation= 'relu')(inputs)\n",
    "    code = Dense(50, activation = 'relu')(code)\n",
    "    code = Dense(code_dim, activation = 'relu')(code)\n",
    "    \n",
    "    outputs = Dense(50, activation = 'relu')(code)\n",
    "    outputs = Dense(50, activation = 'relu')(outputs)\n",
    "    outputs = Dense(X_train.shape[1], activation = 'sigmoid')(outputs)\n",
    "    \n",
    "    auto_encoder = Model(inputs = inputs, outputs = outputs)\n",
    "    auto_encoder.compile(optimizer = 'adam', loss = 'binary_crossentropy')\n",
    "    \n",
    "    return auto_encoder"
   ]
  },
  {
   "cell_type": "code",
   "execution_count": 80,
   "metadata": {
    "collapsed": true
   },
   "outputs": [],
   "source": [
    "auto_encoder = encoder_decoder()"
   ]
  },
  {
   "cell_type": "code",
   "execution_count": 82,
   "metadata": {},
   "outputs": [
    {
     "name": "stdout",
     "output_type": "stream",
     "text": [
      "Wall time: 1min 51s\n"
     ]
    },
    {
     "data": {
      "text/plain": [
       "<keras.callbacks.History at 0x1eaecd747b8>"
      ]
     },
     "execution_count": 82,
     "metadata": {},
     "output_type": "execute_result"
    }
   ],
   "source": [
    "%%time\n",
    "auto_encoder.fit(X_train, X_train, epochs = 1000, batch_size = 50, validation_data = (X_test, X_test), verbose = 0)"
   ]
  },
  {
   "cell_type": "code",
   "execution_count": 85,
   "metadata": {
    "collapsed": true
   },
   "outputs": [],
   "source": [
    "decoded = auto_encoder.predict(X_test)"
   ]
  },
  {
   "cell_type": "code",
   "execution_count": 86,
   "metadata": {},
   "outputs": [
    {
     "data": {
      "text/plain": [
       "<matplotlib.figure.Figure at 0x1eaecd74588>"
      ]
     },
     "execution_count": 86,
     "metadata": {},
     "output_type": "execute_result"
    }
   ],
   "source": [
    "plt.figure(figsize = (10,4))"
   ]
  },
  {
   "cell_type": "code",
   "execution_count": 87,
   "metadata": {},
   "outputs": [
    {
     "data": {
      "image/png": "[encoded data removed]",
      "text/plain": [
       "<matplotlib.figure.Figure at 0x1eaecd74588>"
      ]
     },
     "metadata": {},
     "output_type": "display_data"
    }
   ],
   "source": [
    "n = 5\n",
    "for i in range(n):\n",
    "    # visualizing test data instances\n",
    "    ax = plt.subplot(2, n, i+1)\n",
    "    plt.imshow(X_test[i].reshape(8,8))\n",
    "    plt.gray()\n",
    "    \n",
    "    ax.get_xaxis().set_visible(False)\n",
    "    ax.get_yaxis().set_visible(False)\n",
    "    \n",
    "    # visualizing encode-decoded test data instances\n",
    "    ax = plt.subplot(2, n, i+n+1)\n",
    "    plt.imshow(decoded[i].reshape(8,8))\n",
    "    plt.gray()\n",
    "    \n",
    "    ax.get_xaxis().set_visible(False)\n",
    "    ax.get_yaxis().set_visible(False)\n",
    "plt.show()"
   ]
  },
  {
   "cell_type": "markdown",
   "metadata": {},
   "source": [
    "One can see that deep autoencoder generates results closer to the original data"
   ]
  }
 ],
 "metadata": {
  "kernelspec": {
   "display_name": "Python 3",
   "language": "python",
   "name": "python3"
  },
  "language_info": {
   "codemirror_mode": {
    "name": "ipython",
    "version": 3
   },
   "file_extension": ".py",
   "mimetype": "text/x-python",
   "name": "python",
   "nbconvert_exporter": "python",
   "pygments_lexer": "ipython3",
   "version": "3.6.1"
  }
 },
 "nbformat": 4,
 "nbformat_minor": 2
}
